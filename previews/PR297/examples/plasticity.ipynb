{
 "cells": [
  {
   "cell_type": "markdown",
   "source": [
    "# von Mises plasticity\n",
    "\n",
    "![Shows the von Mises stress distribution in a cantilever beam.](plasticity.png)\n",
    "*Figure 1.* A coarse mesh solution of a cantilever beam subjected to a load\n",
    "causing plastic deformations. The initial yield limit is 200 MPa but due to\n",
    "hardening it increases up to approximately 240 MPa."
   ],
   "metadata": {}
  },
  {
   "cell_type": "markdown",
   "source": [
    "## Introduction\n",
    "\n",
    "This example illustrates the use of a nonlinear material model in JuAFEM.\n",
    "The particular model is von Mises plasticity (also know as J₂-plasticity) with\n",
    "isotropic hardening. The model is fully 3D, meaning that no assumptions like *plane stress*\n",
    "or *plane strain* are introduced.\n",
    "\n",
    "Also note that the theory of the model is not described here, instead one is\n",
    "referred to standard textbooks on material modeling.\n",
    "\n",
    "To illustrate the use of the plasticity model, we setup and solve a FE-problem\n",
    "consisting of a cantilever beam loaded at its free end. But first, we shortly\n",
    "describe the parts of the implementation deadling with the material modeling."
   ],
   "metadata": {}
  },
  {
   "cell_type": "markdown",
   "source": [
    "## Material modeling\n",
    "This section describes the `struct`s and methods used to implement the material\n",
    "model"
   ],
   "metadata": {}
  },
  {
   "cell_type": "markdown",
   "source": [
    "### Material parameters and state variables\n",
    "\n",
    "Start by loading some necessary packages"
   ],
   "metadata": {}
  },
  {
   "outputs": [],
   "cell_type": "code",
   "source": [
    "using JuAFEM, SparseArrays, LinearAlgebra, Printf"
   ],
   "metadata": {},
   "execution_count": 1
  },
  {
   "cell_type": "markdown",
   "source": [
    "We define a J₂-plasticity-material, containing material parameters and the elastic\n",
    "stiffness Dᵉ (since it is constant)"
   ],
   "metadata": {}
  },
  {
   "outputs": [],
   "cell_type": "code",
   "source": [
    "struct J2Plasticity{T, S <: SymmetricTensor{4, 3, T}}\n",
    "    G::T  # Shear modulus\n",
    "    K::T  # Bulk modulus\n",
    "    σ₀::T # Initial yield limit\n",
    "    H::T  # Hardening modulus\n",
    "    Dᵉ::S # Elastic stiffness tensor\n",
    "end;"
   ],
   "metadata": {},
   "execution_count": 2
  },
  {
   "cell_type": "markdown",
   "source": [
    "Next, we define a constructor for the material instance."
   ],
   "metadata": {}
  },
  {
   "outputs": [],
   "cell_type": "code",
   "source": [
    "function J2Plasticity(E, ν, σ₀, H)\n",
    "    δ(i,j) = i == j ? 1.0 : 0.0 # helper function\n",
    "    G = E / 2(1 + ν)\n",
    "    K = E / 3(1 - 2ν)\n",
    "\n",
    "    Isymdev(i,j,k,l) = 0.5*(δ(i,k)*δ(j,l) + δ(i,l)*δ(j,k)) - 1.0/3.0*δ(i,j)*δ(k,l)\n",
    "    temp(i,j,k,l) = 2.0G *( 0.5*(δ(i,k)*δ(j,l) + δ(i,l)*δ(j,k)) + ν/(1.0-2.0ν)*δ(i,j)*δ(k,l))\n",
    "    Dᵉ = SymmetricTensor{4, 3}(temp)\n",
    "    return J2Plasticity(G, K, σ₀, H, Dᵉ)\n",
    "end;"
   ],
   "metadata": {},
   "execution_count": 3
  },
  {
   "cell_type": "markdown",
   "source": [
    "Define a `struct` to store the material state."
   ],
   "metadata": {}
  },
  {
   "outputs": [],
   "cell_type": "code",
   "source": [
    "mutable struct MaterialState{T, S <: SecondOrderTensor{3, T}}\n",
    "    # Store \"converged\" values\n",
    "    ϵᵖ::S # plastic strain\n",
    "    σ::S # stress\n",
    "    k::T # hardening variable\n",
    "\n",
    "    # Store temporary values used during equilibrium iterations\n",
    "    temp_ϵᵖ::S\n",
    "    temp_σ::S\n",
    "    temp_k::T\n",
    "end"
   ],
   "metadata": {},
   "execution_count": 4
  },
  {
   "cell_type": "markdown",
   "source": [
    "Constructor for initializing a material state. Every quantity is set to zero."
   ],
   "metadata": {}
  },
  {
   "outputs": [
    {
     "output_type": "execute_result",
     "data": {
      "text/plain": "Main.##264.MaterialState"
     },
     "metadata": {},
     "execution_count": 5
    }
   ],
   "cell_type": "code",
   "source": [
    "function MaterialState()\n",
    "    return MaterialState(\n",
    "                zero(SymmetricTensor{2, 3}),\n",
    "                zero(SymmetricTensor{2, 3}),\n",
    "                0.0,\n",
    "                zero(SymmetricTensor{2, 3}),\n",
    "                zero(SymmetricTensor{2, 3}),\n",
    "                0.0)\n",
    "end"
   ],
   "metadata": {},
   "execution_count": 5
  },
  {
   "cell_type": "markdown",
   "source": [
    "Next, we define a method to update the material state after equilibrium has\n",
    "been found. This will be called at the end of each time-step."
   ],
   "metadata": {}
  },
  {
   "outputs": [],
   "cell_type": "code",
   "source": [
    "function update_state!(state::MaterialState)\n",
    "    state.ϵᵖ = state.temp_ϵᵖ\n",
    "    state.σ = state.temp_σ\n",
    "    state.k = state.temp_k\n",
    "end;"
   ],
   "metadata": {},
   "execution_count": 6
  },
  {
   "cell_type": "markdown",
   "source": [
    "For later use, during the post-processing step, we define a function to\n",
    "compute the von Mises effective stress."
   ],
   "metadata": {}
  },
  {
   "outputs": [],
   "cell_type": "code",
   "source": [
    "function vonMises(σ)\n",
    "    s = dev(σ)\n",
    "    return sqrt(3.0/2.0 * s ⊡ s)\n",
    "end;"
   ],
   "metadata": {},
   "execution_count": 7
  },
  {
   "cell_type": "markdown",
   "source": [
    "## Constitutive driver\n",
    "\n",
    "This is the actual method which computes the stress and material tangent\n",
    "stiffness in a given integration point.\n",
    "Input is the current strain and material state."
   ],
   "metadata": {}
  },
  {
   "outputs": [
    {
     "output_type": "execute_result",
     "data": {
      "text/plain": "compute_stress_tangent (generic function with 1 method)"
     },
     "metadata": {},
     "execution_count": 8
    }
   ],
   "cell_type": "code",
   "source": [
    "function compute_stress_tangent(ϵ::SymmetricTensor{2, 3}, material::J2Plasticity, state::MaterialState)\n",
    "    # unpack some material parameters\n",
    "    G = material.G\n",
    "    K = material.K\n",
    "    H = material.H\n",
    "\n",
    "    # We use (•)ᵗ to denote *trial*-values\n",
    "    σᵗ = material.Dᵉ ⊡ (ϵ - state.ϵᵖ) # trial-stress\n",
    "    sᵗ = dev(σᵗ)         # deviatoric part of trial-stress\n",
    "    J₂ = 0.5 * sᵗ ⊡ sᵗ   # second invariant of sᵗ\n",
    "    σᵗₑ = sqrt(3.0*J₂)   # effetive trial-stress (von Mises stress)\n",
    "    σʸ = material.σ₀ + H * state.k # Previous yield limit\n",
    "\n",
    "    φᵗ  = σᵗₑ - σʸ # Trial-value of the yield surface\n",
    "\n",
    "    if φᵗ < 0.0 # elastic loading\n",
    "        state.temp_σ = σᵗ\n",
    "        return state.temp_σ, material.Dᵉ\n",
    "    else # plastic loading\n",
    "        h = H + 3G\n",
    "        μ =  φᵗ / h   # plastic multiplier\n",
    "\n",
    "        c1 = 1 - 3G * μ / σᵗₑ\n",
    "        s = c1 * sᵗ           # updated deviatoric stress\n",
    "        σ = s + vol(σᵗ)       # updated stress\n",
    "\n",
    "        # Compute algorithmic tangent stiffness ``D = \\frac{\\Delta \\sigma }{\\Delta \\epsilon}``\n",
    "        κ = H * (state.k + μ) # drag stress\n",
    "        σₑ = material.σ₀ + κ  # updated yield surface\n",
    "\n",
    "        δ(i,j) = i == j ? 1.0 : 0.0\n",
    "        Isymdev(i,j,k,l)  = 0.5*(δ(i,k)*δ(j,l) + δ(i,l)*δ(j,k)) - 1.0/3.0*δ(i,j)*δ(k,l)\n",
    "        Q(i,j,k,l) = Isymdev(i,j,k,l) - 3.0 / (2.0*σₑ^2) * s[i,j]*s[k,l]\n",
    "        b = (3G*μ/σₑ) / (1.0 + 3G*μ/σₑ)\n",
    "\n",
    "        Dtemp(i,j,k,l) = -2G*b * Q(i,j,k,l) - 9G^2 / (h*σₑ^2) * s[i,j]*s[k,l]\n",
    "        D = material.Dᵉ + SymmetricTensor{4, 3}(Dtemp)\n",
    "\n",
    "        # Store outputs in the material state\n",
    "        Δϵᵖ = 3/2 *μ / σₑ*s            # plastic strain\n",
    "        state.temp_ϵᵖ = state.ϵᵖ + Δϵᵖ  # plastic strain\n",
    "        state.temp_k = state.k + μ     # hardening variable\n",
    "        state.temp_σ = σ               # updated stress\n",
    "        return state.temp_σ, D\n",
    "    end\n",
    "end"
   ],
   "metadata": {},
   "execution_count": 8
  },
  {
   "cell_type": "markdown",
   "source": [
    "## FE-problem\n",
    "What follows are methods for assembling and and solving the FE-problem."
   ],
   "metadata": {}
  },
  {
   "outputs": [],
   "cell_type": "code",
   "source": [
    "function create_values(interpolation)\n",
    "    # setup quadrature rules\n",
    "    qr      = QuadratureRule{3,RefTetrahedron}(2)\n",
    "    face_qr = QuadratureRule{2,RefTetrahedron}(3)\n",
    "\n",
    "    # create geometric interpolation (use the same as for u)\n",
    "    interpolation_geom = Lagrange{3,RefTetrahedron,1}()\n",
    "\n",
    "    # cell and facevalues for u\n",
    "    cellvalues_u = CellVectorValues(qr, interpolation, interpolation_geom)\n",
    "    facevalues_u = FaceVectorValues(face_qr, interpolation, interpolation_geom)\n",
    "\n",
    "    return cellvalues_u, facevalues_u\n",
    "end;"
   ],
   "metadata": {},
   "execution_count": 9
  },
  {
   "cell_type": "markdown",
   "source": [
    "### Add degrees of freedom"
   ],
   "metadata": {}
  },
  {
   "outputs": [
    {
     "output_type": "execute_result",
     "data": {
      "text/plain": "create_dofhandler (generic function with 1 method)"
     },
     "metadata": {},
     "execution_count": 10
    }
   ],
   "cell_type": "code",
   "source": [
    "function create_dofhandler(grid, interpolation)\n",
    "    dh = DofHandler(grid)\n",
    "    dim = 3\n",
    "    push!(dh, :u, dim, interpolation) # add a displacement field with 3 components\n",
    "    close!(dh)\n",
    "    return dh\n",
    "end"
   ],
   "metadata": {},
   "execution_count": 10
  },
  {
   "cell_type": "markdown",
   "source": [
    "### Boundary conditions"
   ],
   "metadata": {}
  },
  {
   "outputs": [],
   "cell_type": "code",
   "source": [
    "function create_bc(dh, grid)\n",
    "    dbcs = ConstraintHandler(dh)\n",
    "    # Clamped on the left side\n",
    "    dofs = [1, 2, 3]\n",
    "    dbc = Dirichlet(:u, getfaceset(grid, \"left\"), (x,t) -> [0.0, 0.0, 0.0], dofs)\n",
    "    add!(dbcs, dbc)\n",
    "    close!(dbcs)\n",
    "    return dbcs\n",
    "end;"
   ],
   "metadata": {},
   "execution_count": 11
  },
  {
   "cell_type": "markdown",
   "source": [
    "### Assembling of element contributions\n",
    "\n",
    "* Residual vector `r`\n",
    "* Tangent stiffness `K`"
   ],
   "metadata": {}
  },
  {
   "outputs": [
    {
     "output_type": "execute_result",
     "data": {
      "text/plain": "doassemble (generic function with 1 method)"
     },
     "metadata": {},
     "execution_count": 12
    }
   ],
   "cell_type": "code",
   "source": [
    "function doassemble(cellvalues::CellVectorValues{dim},\n",
    "                    facevalues::FaceVectorValues{dim}, K::SparseMatrixCSC, grid::Grid,\n",
    "                    dh::DofHandler, material::J2Plasticity, u, states, t) where {dim}\n",
    "    r = zeros(ndofs(dh))\n",
    "    assembler = start_assemble(K, r)\n",
    "    nu = getnbasefunctions(cellvalues)\n",
    "    re = zeros(nu)     # element residual vector\n",
    "    ke = zeros(nu, nu) # element tangent matrix\n",
    "\n",
    "    for (cell, state) in zip(CellIterator(dh), states)\n",
    "        fill!(ke, 0)\n",
    "        fill!(re, 0)\n",
    "        eldofs = celldofs(cell)\n",
    "        ue = u[eldofs]\n",
    "        assemble_cell!(ke, re, cell, cellvalues, facevalues, grid, material,\n",
    "                       ue, state, t)\n",
    "        assemble!(assembler, eldofs, re, ke)\n",
    "    end\n",
    "    return K, r\n",
    "end"
   ],
   "metadata": {},
   "execution_count": 12
  },
  {
   "cell_type": "markdown",
   "source": [
    "Compute element contribution to the residual and the tangent."
   ],
   "metadata": {}
  },
  {
   "outputs": [
    {
     "output_type": "execute_result",
     "data": {
      "text/plain": "assemble_cell! (generic function with 1 method)"
     },
     "metadata": {},
     "execution_count": 13
    }
   ],
   "cell_type": "code",
   "source": [
    "function assemble_cell!(Ke, re, cell, cellvalues, facevalues, grid, material,\n",
    "                        ue, state, t)\n",
    "    n_basefuncs = getnbasefunctions(cellvalues)\n",
    "    reinit!(cellvalues, cell)\n",
    "\n",
    "    for q_point in 1:getnquadpoints(cellvalues)\n",
    "        # For each integration point, compute stress and material stiffness\n",
    "        ∇u = function_gradient(cellvalues, q_point, ue)\n",
    "        ϵ = symmetric(∇u) # Total strain\n",
    "        σ, D = compute_stress_tangent(ϵ, material, state[q_point])\n",
    "\n",
    "        dΩ = getdetJdV(cellvalues, q_point)\n",
    "        for i in 1:n_basefuncs\n",
    "            δϵ = symmetric(shape_gradient(cellvalues, q_point, i))\n",
    "\n",
    "            re[i] += (δϵ ⊡ σ) * dΩ # add internal force to residual\n",
    "            for j in 1:i\n",
    "                Δϵ = symmetric(shape_gradient(cellvalues, q_point, j))\n",
    "                Ke[i, j] += δϵ ⊡ D ⊡ Δϵ * dΩ\n",
    "            end\n",
    "        end\n",
    "    end\n",
    "    symmetrize_lower!(Ke)\n",
    "\n",
    "    # Add traction as a negative contribution to the element residual `re`:\n",
    "    for face in 1:nfaces(cell)\n",
    "        if onboundary(cell, face) && (cellid(cell), face) ∈ getfaceset(grid, \"right\")\n",
    "            reinit!(facevalues, cell, face)\n",
    "            for q_point in 1:getnquadpoints(facevalues)\n",
    "                dΓ = getdetJdV(facevalues, q_point)\n",
    "                for i in 1:n_basefuncs\n",
    "                    δu = shape_value(facevalues, q_point, i)\n",
    "                    re[i] -= (δu ⋅ t) * dΓ\n",
    "                end\n",
    "            end\n",
    "        end\n",
    "    end\n",
    "\n",
    "end"
   ],
   "metadata": {},
   "execution_count": 13
  },
  {
   "cell_type": "markdown",
   "source": [
    "Helper function to symmetrize the material tangent"
   ],
   "metadata": {}
  },
  {
   "outputs": [],
   "cell_type": "code",
   "source": [
    "function symmetrize_lower!(K)\n",
    "    for i in 1:size(K,1)\n",
    "        for j in i+1:size(K,1)\n",
    "            K[i,j] = K[j,i]\n",
    "        end\n",
    "    end\n",
    "end;"
   ],
   "metadata": {},
   "execution_count": 14
  },
  {
   "cell_type": "markdown",
   "source": [
    "Define a function which solves the FE-problem."
   ],
   "metadata": {}
  },
  {
   "outputs": [
    {
     "output_type": "execute_result",
     "data": {
      "text/plain": "solve (generic function with 1 method)"
     },
     "metadata": {},
     "execution_count": 15
    }
   ],
   "cell_type": "code",
   "source": [
    "function solve()\n",
    "    # Define material parameters\n",
    "    E = 200.0e9 # [Pa]\n",
    "    H = E/20   # [Pa]\n",
    "    ν = 0.3     # [-]\n",
    "    σ₀ = 200e6  # [Pa]\n",
    "    material = J2Plasticity(E, ν, σ₀, H)\n",
    "\n",
    "    L = 10.0 # beam length [m]\n",
    "    w = 1.0  # beam width [m]\n",
    "    h = 1.0  # beam height[m]\n",
    "    n_timesteps = 10\n",
    "    u_max = zeros(n_timesteps)\n",
    "    traction_magnitude = 1.e7 * range(0.5, 1.0, length=n_timesteps)\n",
    "\n",
    "    # Create geometry, dofs and boundary conditions\n",
    "    n = 2\n",
    "    nels = (10n, n, 2n) # number of elements in each spatial direction\n",
    "    P1 = Vec((0.0, 0.0, 0.0))  # start point for geometry\n",
    "    P2 = Vec((L, w, h))        # end point for geometry\n",
    "    grid = generate_grid(Tetrahedron, nels, P1, P2)\n",
    "    interpolation = Lagrange{3, RefTetrahedron, 1}() # Linear tet with 3 unknowns/node\n",
    "\n",
    "    dh = create_dofhandler(grid, interpolation) # JuaFEM helper function\n",
    "    dbcs = create_bc(dh, grid) # create Dirichlet boundary-conditions\n",
    "\n",
    "    cellvalues, facevalues = create_values(interpolation)\n",
    "\n",
    "    # Pre-allocate solution vectors, etc.\n",
    "    n_dofs = ndofs(dh)  # total number of dofs\n",
    "    u  = zeros(n_dofs)  # solution vector\n",
    "    Δu = zeros(n_dofs)  # displacement correction\n",
    "    r = zeros(n_dofs)   # residual\n",
    "    K = create_sparsity_pattern(dh); # tangent stiffness matrix\n",
    "\n",
    "    # Create material states. One array for each cell, where each element is an array of material-\n",
    "    # states - one for each integration point\n",
    "    nqp = getnquadpoints(cellvalues)\n",
    "    states = [[MaterialState() for _ in 1:nqp] for _ in 1:getncells(grid)]\n",
    "\n",
    "    # states = [MaterialState() for _ in 1:nqp for _ in 1:getncells(grid)]\n",
    "    # temp_states = [MaterialState() for _ in 1:nqp for _ in 1:getncells(grid)]\n",
    "\n",
    "    # Newton-Raphson loop\n",
    "    NEWTON_TOL = 1 # 1 N\n",
    "    print(\"\\n Starting Netwon iterations:\\n\")\n",
    "\n",
    "    for timestep in 1:n_timesteps\n",
    "        t = timestep # actual time (used for evaluating d-bndc)\n",
    "        traction = Vec((0.0, 0.0, traction_magnitude[timestep]))\n",
    "        newton_itr = -1\n",
    "        print(\"\\n Time step @time = $timestep:\\n\")\n",
    "        update!(dbcs, t) # evaluates the D-bndc at time t\n",
    "        apply!(u, dbcs)  # set the prescribed values in the solution vector\n",
    "\n",
    "        while true; newton_itr += 1\n",
    "\n",
    "            if newton_itr > 8\n",
    "                error(\"Reached maximum Newton iterations, aborting\")\n",
    "                break\n",
    "            end\n",
    "            K, r = doassemble(cellvalues, facevalues, K, grid, dh, material, u,\n",
    "                             states, traction);\n",
    "            norm_r = norm(r[JuAFEM.free_dofs(dbcs)])\n",
    "\n",
    "            print(\"Iteration: $newton_itr \\tresidual: $(@sprintf(\"%.8f\", norm_r))\\n\")\n",
    "            if norm_r < NEWTON_TOL\n",
    "                break\n",
    "            end\n",
    "\n",
    "            apply_zero!(K, r, dbcs)\n",
    "            Δu = Symmetric(K) \\ r\n",
    "            u -= Δu\n",
    "        end\n",
    "\n",
    "        # Update all the material states after we have reached equilibrium\n",
    "        for cell_states in states\n",
    "            foreach(update_state!, cell_states)\n",
    "        end\n",
    "        u_max[timestep] = max(abs.(u)...) # maximum displacement in current timestep\n",
    "    end\n",
    "\n",
    "    # ## Postprocessing\n",
    "    # Only a vtu-file corrsponding to the last time-step is exported.\n",
    "    #\n",
    "    # The following is a quick (and dirty) way of extracting average cell data for export.\n",
    "    mises_values = zeros(getncells(grid))\n",
    "    κ_values = zeros(getncells(grid))\n",
    "    for (el, cell_states) in enumerate(states)\n",
    "        for state in cell_states\n",
    "            mises_values[el] += vonMises(state.σ)\n",
    "            κ_values[el] += state.k*material.H\n",
    "        end\n",
    "        mises_values[el] /= length(cell_states) # average von Mises stress\n",
    "        κ_values[el] /= length(cell_states)     # average drag stress\n",
    "    end\n",
    "    vtk_grid(\"plasticity\", dh) do vtkfile\n",
    "        vtk_point_data(vtkfile, dh, u) # displacement field\n",
    "        vtk_cell_data(vtkfile, mises_values, \"von Mises [Pa]\")\n",
    "        vtk_cell_data(vtkfile, κ_values, \"Drag stress [Pa]\")\n",
    "    end\n",
    "\n",
    "    return u_max, traction_magnitude\n",
    "end"
   ],
   "metadata": {},
   "execution_count": 15
  },
  {
   "cell_type": "markdown",
   "source": [
    "Solve the FE-problem and for each time-step extract maximum displacement and\n",
    "the corresponding traction load. Also compute the limit-traction-load"
   ],
   "metadata": {}
  },
  {
   "outputs": [
    {
     "name": "stdout",
     "output_type": "stream",
     "text": [
      "\n",
      " Starting Netwon iterations:\n",
      "\n",
      " Time step @time = 1:\n",
      "Iteration: 0 \tresidual: 1435838.41167605\n",
      "Iteration: 1 \tresidual: 118655.22430254\n",
      "Iteration: 2 \tresidual: 59.50456058\n",
      "Iteration: 3 \tresidual: 0.00002568\n",
      "\n",
      " Time step @time = 2:\n",
      "Iteration: 0 \tresidual: 159537.60129714\n",
      "Iteration: 1 \tresidual: 1694313.86970214\n",
      "Iteration: 2 \tresidual: 61777.44063568\n",
      "Iteration: 3 \tresidual: 14.34471357\n",
      "Iteration: 4 \tresidual: 0.00001484\n",
      "\n",
      " Time step @time = 3:\n",
      "Iteration: 0 \tresidual: 159537.60129722\n",
      "Iteration: 1 \tresidual: 3286236.01301266\n",
      "Iteration: 2 \tresidual: 95211.71236179\n",
      "Iteration: 3 \tresidual: 42.10281102\n",
      "Iteration: 4 \tresidual: 0.00002034\n",
      "\n",
      " Time step @time = 4:\n",
      "Iteration: 0 \tresidual: 159537.60129739\n",
      "Iteration: 1 \tresidual: 4074584.79655473\n",
      "Iteration: 2 \tresidual: 125522.31517769\n",
      "Iteration: 3 \tresidual: 85.56234802\n",
      "Iteration: 4 \tresidual: 0.00008218\n",
      "\n",
      " Time step @time = 5:\n",
      "Iteration: 0 \tresidual: 159537.60129697\n",
      "Iteration: 1 \tresidual: 4941354.67155585\n",
      "Iteration: 2 \tresidual: 598659.61655942\n",
      "Iteration: 3 \tresidual: 1705.25762740\n",
      "Iteration: 4 \tresidual: 0.01820566\n",
      "\n",
      " Time step @time = 6:\n",
      "Iteration: 0 \tresidual: 159537.60129749\n",
      "Iteration: 1 \tresidual: 5722646.43724793\n",
      "Iteration: 2 \tresidual: 1495878.27360451\n",
      "Iteration: 3 \tresidual: 11731.46920573\n",
      "Iteration: 4 \tresidual: 0.70629296\n",
      "\n",
      " Time step @time = 7:\n",
      "Iteration: 0 \tresidual: 159537.60129931\n",
      "Iteration: 1 \tresidual: 7606510.53651183\n",
      "Iteration: 2 \tresidual: 2290727.38119640\n",
      "Iteration: 3 \tresidual: 26887.09790708\n",
      "Iteration: 4 \tresidual: 4.90317922\n",
      "Iteration: 5 \tresidual: 0.00003229\n",
      "\n",
      " Time step @time = 8:\n",
      "Iteration: 0 \tresidual: 159537.60129828\n",
      "Iteration: 1 \tresidual: 8462129.40348994\n",
      "Iteration: 2 \tresidual: 2109174.70833193\n",
      "Iteration: 3 \tresidual: 35887.18677515\n",
      "Iteration: 4 \tresidual: 3.70908979\n",
      "Iteration: 5 \tresidual: 0.00002909\n",
      "\n",
      " Time step @time = 9:\n",
      "Iteration: 0 \tresidual: 159537.60129805\n",
      "Iteration: 1 \tresidual: 9202838.89172446\n",
      "Iteration: 2 \tresidual: 2126828.17217703\n",
      "Iteration: 3 \tresidual: 16361.77822715\n",
      "Iteration: 4 \tresidual: 1.64261979\n",
      "Iteration: 5 \tresidual: 0.00003680\n",
      "\n",
      " Time step @time = 10:\n",
      "Iteration: 0 \tresidual: 159537.60129774\n",
      "Iteration: 1 \tresidual: 9187616.50472173\n",
      "Iteration: 2 \tresidual: 1897408.89581055\n",
      "Iteration: 3 \tresidual: 33792.31738361\n",
      "Iteration: 4 \tresidual: 4.10036937\n",
      "Iteration: 5 \tresidual: 0.00004464\n"
     ]
    }
   ],
   "cell_type": "code",
   "source": [
    "u_max, traction_magnitude = solve();"
   ],
   "metadata": {},
   "execution_count": 16
  },
  {
   "cell_type": "markdown",
   "source": [
    "Finally we plot the load-displacement curve."
   ],
   "metadata": {}
  },
  {
   "outputs": [
    {
     "output_type": "execute_result",
     "data": {
      "text/plain": "Plot{Plots.GRBackend() n=1}",
      "image/png": "[encoded data removed]",
      "text/html": [
       "<?xml version=\"1.0\" encoding=\"utf-8\"?>\n",
       "<svg xmlns=\"http://www.w3.org/2000/svg\" xmlns:xlink=\"http://www.w3.org/1999/xlink\" width=\"600\" height=\"400\" viewBox=\"0 0 2400 1600\">\n",
       "<defs>\n",
       "  <clipPath id=\"clip030\">\n",
       "    <rect x=\"0\" y=\"0\" width=\"2400\" height=\"1600\"/>\n",
       "  </clipPath>\n",
       "</defs>\n",
       "<path clip-path=\"url(#clip030)\" d=\"\n",
       "M0 1600 L2400 1600 L2400 0 L0 0  Z\n",
       "  \" fill=\"#ffffff\" fill-rule=\"evenodd\" fill-opacity=\"1\"/>\n",
       "<defs>\n",
       "  <clipPath id=\"clip031\">\n",
       "    <rect x=\"480\" y=\"0\" width=\"1681\" height=\"1600\"/>\n",
       "  </clipPath>\n",
       "</defs>\n",
       "<path clip-path=\"url(#clip030)\" d=\"\n",
       "M102.74 1505.26 L2352.76 1505.26 L2352.76 62.9921 L102.74 62.9921  Z\n",
       "  \" fill=\"#ffffff\" fill-rule=\"evenodd\" fill-opacity=\"1\"/>\n",
       "<defs>\n",
       "  <clipPath id=\"clip032\">\n",
       "    <rect x=\"102\" y=\"62\" width=\"2251\" height=\"1443\"/>\n",
       "  </clipPath>\n",
       "</defs>\n",
       "<polyline clip-path=\"url(#clip032)\" style=\"stroke:#000000; stroke-width:2; stroke-opacity:0.1; fill:none\" points=\"\n",
       "  166.42,1505.26 166.42,62.9921 \n",
       "  \"/>\n",
       "<polyline clip-path=\"url(#clip032)\" style=\"stroke:#000000; stroke-width:2; stroke-opacity:0.1; fill:none\" points=\"\n",
       "  583.522,1505.26 583.522,62.9921 \n",
       "  \"/>\n",
       "<polyline clip-path=\"url(#clip032)\" style=\"stroke:#000000; stroke-width:2; stroke-opacity:0.1; fill:none\" points=\"\n",
       "  1000.62,1505.26 1000.62,62.9921 \n",
       "  \"/>\n",
       "<polyline clip-path=\"url(#clip032)\" style=\"stroke:#000000; stroke-width:2; stroke-opacity:0.1; fill:none\" points=\"\n",
       "  1417.73,1505.26 1417.73,62.9921 \n",
       "  \"/>\n",
       "<polyline clip-path=\"url(#clip032)\" style=\"stroke:#000000; stroke-width:2; stroke-opacity:0.1; fill:none\" points=\"\n",
       "  1834.83,1505.26 1834.83,62.9921 \n",
       "  \"/>\n",
       "<polyline clip-path=\"url(#clip032)\" style=\"stroke:#000000; stroke-width:2; stroke-opacity:0.1; fill:none\" points=\"\n",
       "  2251.93,1505.26 2251.93,62.9921 \n",
       "  \"/>\n",
       "<polyline clip-path=\"url(#clip030)\" style=\"stroke:#000000; stroke-width:4; stroke-opacity:1; fill:none\" points=\"\n",
       "  102.74,1505.26 2352.76,1505.26 \n",
       "  \"/>\n",
       "<polyline clip-path=\"url(#clip030)\" style=\"stroke:#000000; stroke-width:4; stroke-opacity:1; fill:none\" points=\"\n",
       "  166.42,1505.26 166.42,1487.95 \n",
       "  \"/>\n",
       "<polyline clip-path=\"url(#clip030)\" style=\"stroke:#000000; stroke-width:4; stroke-opacity:1; fill:none\" points=\"\n",
       "  583.522,1505.26 583.522,1487.95 \n",
       "  \"/>\n",
       "<polyline clip-path=\"url(#clip030)\" style=\"stroke:#000000; stroke-width:4; stroke-opacity:1; fill:none\" points=\"\n",
       "  1000.62,1505.26 1000.62,1487.95 \n",
       "  \"/>\n",
       "<polyline clip-path=\"url(#clip030)\" style=\"stroke:#000000; stroke-width:4; stroke-opacity:1; fill:none\" points=\"\n",
       "  1417.73,1505.26 1417.73,1487.95 \n",
       "  \"/>\n",
       "<polyline clip-path=\"url(#clip030)\" style=\"stroke:#000000; stroke-width:4; stroke-opacity:1; fill:none\" points=\"\n",
       "  1834.83,1505.26 1834.83,1487.95 \n",
       "  \"/>\n",
       "<polyline clip-path=\"url(#clip030)\" style=\"stroke:#000000; stroke-width:4; stroke-opacity:1; fill:none\" points=\"\n",
       "  2251.93,1505.26 2251.93,1487.95 \n",
       "  \"/>\n",
       "<path clip-path=\"url(#clip030)\" d=\"M 0 0 M134.429 1534.45 Q130.818 1534.45 128.989 1538.02 Q127.184 1541.56 127.184 1548.69 Q127.184 1555.79 128.989 1559.36 Q130.818 1562.9 134.429 1562.9 Q138.064 1562.9 139.869 1559.36 Q141.698 1555.79 141.698 1548.69 Q141.698 1541.56 139.869 1538.02 Q138.064 1534.45 134.429 1534.45 M134.429 1530.75 Q140.239 1530.75 143.295 1535.35 Q146.374 1539.94 146.374 1548.69 Q146.374 1557.41 143.295 1562.02 Q140.239 1566.6 134.429 1566.6 Q128.619 1566.6 125.54 1562.02 Q122.485 1557.41 122.485 1548.69 Q122.485 1539.94 125.54 1535.35 Q128.619 1530.75 134.429 1530.75 Z\" fill=\"#000000\" fill-rule=\"evenodd\" fill-opacity=\"1\" /><path clip-path=\"url(#clip030)\" d=\"M 0 0 M151.443 1560.05 L156.327 1560.05 L156.327 1565.93 L151.443 1565.93 L151.443 1560.05 Z\" fill=\"#000000\" fill-rule=\"evenodd\" fill-opacity=\"1\" /><path clip-path=\"url(#clip030)\" d=\"M 0 0 M171.397 1534.45 Q167.786 1534.45 165.957 1538.02 Q164.151 1541.56 164.151 1548.69 Q164.151 1555.79 165.957 1559.36 Q167.786 1562.9 171.397 1562.9 Q175.031 1562.9 176.836 1559.36 Q178.665 1555.79 178.665 1548.69 Q178.665 1541.56 176.836 1538.02 Q175.031 1534.45 171.397 1534.45 M171.397 1530.75 Q177.207 1530.75 180.262 1535.35 Q183.341 1539.94 183.341 1548.69 Q183.341 1557.41 180.262 1562.02 Q177.207 1566.6 171.397 1566.6 Q165.587 1566.6 162.508 1562.02 Q159.452 1557.41 159.452 1548.69 Q159.452 1539.94 162.508 1535.35 Q165.587 1530.75 171.397 1530.75 Z\" fill=\"#000000\" fill-rule=\"evenodd\" fill-opacity=\"1\" /><path clip-path=\"url(#clip030)\" d=\"M 0 0 M198.41 1534.45 Q194.799 1534.45 192.971 1538.02 Q191.165 1541.56 191.165 1548.69 Q191.165 1555.79 192.971 1559.36 Q194.799 1562.9 198.41 1562.9 Q202.045 1562.9 203.85 1559.36 Q205.679 1555.79 205.679 1548.69 Q205.679 1541.56 203.85 1538.02 Q202.045 1534.45 198.41 1534.45 M198.41 1530.75 Q204.221 1530.75 207.276 1535.35 Q210.355 1539.94 210.355 1548.69 Q210.355 1557.41 207.276 1562.02 Q204.221 1566.6 198.41 1566.6 Q192.6 1566.6 189.522 1562.02 Q186.466 1557.41 186.466 1548.69 Q186.466 1539.94 189.522 1535.35 Q192.6 1530.75 198.41 1530.75 Z\" fill=\"#000000\" fill-rule=\"evenodd\" fill-opacity=\"1\" /><path clip-path=\"url(#clip030)\" d=\"M 0 0 M552.029 1534.45 Q548.418 1534.45 546.59 1538.02 Q544.784 1541.56 544.784 1548.69 Q544.784 1555.79 546.59 1559.36 Q548.418 1562.9 552.029 1562.9 Q555.664 1562.9 557.469 1559.36 Q559.298 1555.79 559.298 1548.69 Q559.298 1541.56 557.469 1538.02 Q555.664 1534.45 552.029 1534.45 M552.029 1530.75 Q557.84 1530.75 560.895 1535.35 Q563.974 1539.94 563.974 1548.69 Q563.974 1557.41 560.895 1562.02 Q557.84 1566.6 552.029 1566.6 Q546.219 1566.6 543.141 1562.02 Q540.085 1557.41 540.085 1548.69 Q540.085 1539.94 543.141 1535.35 Q546.219 1530.75 552.029 1530.75 Z\" fill=\"#000000\" fill-rule=\"evenodd\" fill-opacity=\"1\" /><path clip-path=\"url(#clip030)\" d=\"M 0 0 M569.043 1560.05 L573.927 1560.05 L573.927 1565.93 L569.043 1565.93 L569.043 1560.05 Z\" fill=\"#000000\" fill-rule=\"evenodd\" fill-opacity=\"1\" /><path clip-path=\"url(#clip030)\" d=\"M 0 0 M588.997 1534.45 Q585.386 1534.45 583.557 1538.02 Q581.751 1541.56 581.751 1548.69 Q581.751 1555.79 583.557 1559.36 Q585.386 1562.9 588.997 1562.9 Q592.631 1562.9 594.437 1559.36 Q596.265 1555.79 596.265 1548.69 Q596.265 1541.56 594.437 1538.02 Q592.631 1534.45 588.997 1534.45 M588.997 1530.75 Q594.807 1530.75 597.862 1535.35 Q600.941 1539.94 600.941 1548.69 Q600.941 1557.41 597.862 1562.02 Q594.807 1566.6 588.997 1566.6 Q583.187 1566.6 580.108 1562.02 Q577.052 1557.41 577.052 1548.69 Q577.052 1539.94 580.108 1535.35 Q583.187 1530.75 588.997 1530.75 Z\" fill=\"#000000\" fill-rule=\"evenodd\" fill-opacity=\"1\" /><path clip-path=\"url(#clip030)\" d=\"M 0 0 M606.057 1531.37 L624.413 1531.37 L624.413 1535.31 L610.339 1535.31 L610.339 1543.78 Q611.358 1543.43 612.376 1543.27 Q613.395 1543.08 614.413 1543.08 Q620.2 1543.08 623.58 1546.26 Q626.96 1549.43 626.96 1554.84 Q626.96 1560.42 623.487 1563.52 Q620.015 1566.6 613.696 1566.6 Q611.52 1566.6 609.251 1566.23 Q607.006 1565.86 604.599 1565.12 L604.599 1560.42 Q606.682 1561.56 608.904 1562.11 Q611.126 1562.67 613.603 1562.67 Q617.608 1562.67 619.946 1560.56 Q622.284 1558.46 622.284 1554.84 Q622.284 1551.23 619.946 1549.13 Q617.608 1547.02 613.603 1547.02 Q611.728 1547.02 609.853 1547.44 Q608.001 1547.85 606.057 1548.73 L606.057 1531.37 Z\" fill=\"#000000\" fill-rule=\"evenodd\" fill-opacity=\"1\" /><path clip-path=\"url(#clip030)\" d=\"M 0 0 M969.248 1534.45 Q965.636 1534.45 963.808 1538.02 Q962.002 1541.56 962.002 1548.69 Q962.002 1555.79 963.808 1559.36 Q965.636 1562.9 969.248 1562.9 Q972.882 1562.9 974.687 1559.36 Q976.516 1555.79 976.516 1548.69 Q976.516 1541.56 974.687 1538.02 Q972.882 1534.45 969.248 1534.45 M969.248 1530.75 Q975.058 1530.75 978.113 1535.35 Q981.192 1539.94 981.192 1548.69 Q981.192 1557.41 978.113 1562.02 Q975.058 1566.6 969.248 1566.6 Q963.437 1566.6 960.359 1562.02 Q957.303 1557.41 957.303 1548.69 Q957.303 1539.94 960.359 1535.35 Q963.437 1530.75 969.248 1530.75 Z\" fill=\"#000000\" fill-rule=\"evenodd\" fill-opacity=\"1\" /><path clip-path=\"url(#clip030)\" d=\"M 0 0 M986.261 1560.05 L991.146 1560.05 L991.146 1565.93 L986.261 1565.93 L986.261 1560.05 Z\" fill=\"#000000\" fill-rule=\"evenodd\" fill-opacity=\"1\" /><path clip-path=\"url(#clip030)\" d=\"M 0 0 M997.025 1562 L1004.66 1562 L1004.66 1535.63 L996.354 1537.3 L996.354 1533.04 L1004.62 1531.37 L1009.29 1531.37 L1009.29 1562 L1016.93 1562 L1016.93 1565.93 L997.025 1565.93 L997.025 1562 Z\" fill=\"#000000\" fill-rule=\"evenodd\" fill-opacity=\"1\" /><path clip-path=\"url(#clip030)\" d=\"M 0 0 M1032 1534.45 Q1028.39 1534.45 1026.56 1538.02 Q1024.76 1541.56 1024.76 1548.69 Q1024.76 1555.79 1026.56 1559.36 Q1028.39 1562.9 1032 1562.9 Q1035.64 1562.9 1037.44 1559.36 Q1039.27 1555.79 1039.27 1548.69 Q1039.27 1541.56 1037.44 1538.02 Q1035.64 1534.45 1032 1534.45 M1032 1530.75 Q1037.81 1530.75 1040.87 1535.35 Q1043.95 1539.94 1043.95 1548.69 Q1043.95 1557.41 1040.87 1562.02 Q1037.81 1566.6 1032 1566.6 Q1026.19 1566.6 1023.11 1562.02 Q1020.06 1557.41 1020.06 1548.69 Q1020.06 1539.94 1023.11 1535.35 Q1026.19 1530.75 1032 1530.75 Z\" fill=\"#000000\" fill-rule=\"evenodd\" fill-opacity=\"1\" /><path clip-path=\"url(#clip030)\" d=\"M 0 0 M1386.85 1534.45 Q1383.24 1534.45 1381.41 1538.02 Q1379.6 1541.56 1379.6 1548.69 Q1379.6 1555.79 1381.41 1559.36 Q1383.24 1562.9 1386.85 1562.9 Q1390.48 1562.9 1392.29 1559.36 Q1394.12 1555.79 1394.12 1548.69 Q1394.12 1541.56 1392.29 1538.02 Q1390.48 1534.45 1386.85 1534.45 M1386.85 1530.75 Q1392.66 1530.75 1395.71 1535.35 Q1398.79 1539.94 1398.79 1548.69 Q1398.79 1557.41 1395.71 1562.02 Q1392.66 1566.6 1386.85 1566.6 Q1381.04 1566.6 1377.96 1562.02 Q1374.9 1557.41 1374.9 1548.69 Q1374.9 1539.94 1377.96 1535.35 Q1381.04 1530.75 1386.85 1530.75 Z\" fill=\"#000000\" fill-rule=\"evenodd\" fill-opacity=\"1\" /><path clip-path=\"url(#clip030)\" d=\"M 0 0 M1403.86 1560.05 L1408.75 1560.05 L1408.75 1565.93 L1403.86 1565.93 L1403.86 1560.05 Z\" fill=\"#000000\" fill-rule=\"evenodd\" fill-opacity=\"1\" /><path clip-path=\"url(#clip030)\" d=\"M 0 0 M1414.63 1562 L1422.26 1562 L1422.26 1535.63 L1413.95 1537.3 L1413.95 1533.04 L1422.22 1531.37 L1426.89 1531.37 L1426.89 1562 L1434.53 1562 L1434.53 1565.93 L1414.63 1565.93 L1414.63 1562 Z\" fill=\"#000000\" fill-rule=\"evenodd\" fill-opacity=\"1\" /><path clip-path=\"url(#clip030)\" d=\"M 0 0 M1439.65 1531.37 L1458 1531.37 L1458 1535.31 L1443.93 1535.31 L1443.93 1543.78 Q1444.95 1543.43 1445.97 1543.27 Q1446.99 1543.08 1448 1543.08 Q1453.79 1543.08 1457.17 1546.26 Q1460.55 1549.43 1460.55 1554.84 Q1460.55 1560.42 1457.08 1563.52 Q1453.61 1566.6 1447.29 1566.6 Q1445.11 1566.6 1442.84 1566.23 Q1440.6 1565.86 1438.19 1565.12 L1438.19 1560.42 Q1440.27 1561.56 1442.5 1562.11 Q1444.72 1562.67 1447.19 1562.67 Q1451.2 1562.67 1453.54 1560.56 Q1455.88 1558.46 1455.88 1554.84 Q1455.88 1551.23 1453.54 1549.13 Q1451.2 1547.02 1447.19 1547.02 Q1445.32 1547.02 1443.44 1547.44 Q1441.59 1547.85 1439.65 1548.73 L1439.65 1531.37 Z\" fill=\"#000000\" fill-rule=\"evenodd\" fill-opacity=\"1\" /><path clip-path=\"url(#clip030)\" d=\"M 0 0 M1803.64 1534.45 Q1800.03 1534.45 1798.2 1538.02 Q1796.39 1541.56 1796.39 1548.69 Q1796.39 1555.79 1798.2 1559.36 Q1800.03 1562.9 1803.64 1562.9 Q1807.27 1562.9 1809.08 1559.36 Q1810.91 1555.79 1810.91 1548.69 Q1810.91 1541.56 1809.08 1538.02 Q1807.27 1534.45 1803.64 1534.45 M1803.64 1530.75 Q1809.45 1530.75 1812.5 1535.35 Q1815.58 1539.94 1815.58 1548.69 Q1815.58 1557.41 1812.5 1562.02 Q1809.45 1566.6 1803.64 1566.6 Q1797.83 1566.6 1794.75 1562.02 Q1791.69 1557.41 1791.69 1548.69 Q1791.69 1539.94 1794.75 1535.35 Q1797.83 1530.75 1803.64 1530.75 Z\" fill=\"#000000\" fill-rule=\"evenodd\" fill-opacity=\"1\" /><path clip-path=\"url(#clip030)\" d=\"M 0 0 M1820.65 1560.05 L1825.54 1560.05 L1825.54 1565.93 L1820.65 1565.93 L1820.65 1560.05 Z\" fill=\"#000000\" fill-rule=\"evenodd\" fill-opacity=\"1\" /><path clip-path=\"url(#clip030)\" d=\"M 0 0 M1834.63 1562 L1850.95 1562 L1850.95 1565.93 L1829.01 1565.93 L1829.01 1562 Q1831.67 1559.24 1836.25 1554.61 Q1840.86 1549.96 1842.04 1548.62 Q1844.29 1546.09 1845.17 1544.36 Q1846.07 1542.6 1846.07 1540.91 Q1846.07 1538.15 1844.12 1536.42 Q1842.2 1534.68 1839.1 1534.68 Q1836.9 1534.68 1834.45 1535.45 Q1832.02 1536.21 1829.24 1537.76 L1829.24 1533.04 Q1832.06 1531.9 1834.52 1531.33 Q1836.97 1530.75 1839.01 1530.75 Q1844.38 1530.75 1847.57 1533.43 Q1850.77 1536.12 1850.77 1540.61 Q1850.77 1542.74 1849.96 1544.66 Q1849.17 1546.56 1847.06 1549.15 Q1846.48 1549.82 1843.38 1553.04 Q1840.28 1556.23 1834.63 1562 Z\" fill=\"#000000\" fill-rule=\"evenodd\" fill-opacity=\"1\" /><path clip-path=\"url(#clip030)\" d=\"M 0 0 M1866.02 1534.45 Q1862.41 1534.45 1860.58 1538.02 Q1858.78 1541.56 1858.78 1548.69 Q1858.78 1555.79 1860.58 1559.36 Q1862.41 1562.9 1866.02 1562.9 Q1869.66 1562.9 1871.46 1559.36 Q1873.29 1555.79 1873.29 1548.69 Q1873.29 1541.56 1871.46 1538.02 Q1869.66 1534.45 1866.02 1534.45 M1866.02 1530.75 Q1871.83 1530.75 1874.89 1535.35 Q1877.97 1539.94 1877.97 1548.69 Q1877.97 1557.41 1874.89 1562.02 Q1871.83 1566.6 1866.02 1566.6 Q1860.21 1566.6 1857.13 1562.02 Q1854.08 1557.41 1854.08 1548.69 Q1854.08 1539.94 1857.13 1535.35 Q1860.21 1530.75 1866.02 1530.75 Z\" fill=\"#000000\" fill-rule=\"evenodd\" fill-opacity=\"1\" /><path clip-path=\"url(#clip030)\" d=\"M 0 0 M2221.24 1534.45 Q2217.63 1534.45 2215.8 1538.02 Q2213.99 1541.56 2213.99 1548.69 Q2213.99 1555.79 2215.8 1559.36 Q2217.63 1562.9 2221.24 1562.9 Q2224.87 1562.9 2226.68 1559.36 Q2228.51 1555.79 2228.51 1548.69 Q2228.51 1541.56 2226.68 1538.02 Q2224.87 1534.45 2221.24 1534.45 M2221.24 1530.75 Q2227.05 1530.75 2230.1 1535.35 Q2233.18 1539.94 2233.18 1548.69 Q2233.18 1557.41 2230.1 1562.02 Q2227.05 1566.6 2221.24 1566.6 Q2215.43 1566.6 2212.35 1562.02 Q2209.29 1557.41 2209.29 1548.69 Q2209.29 1539.94 2212.35 1535.35 Q2215.43 1530.75 2221.24 1530.75 Z\" fill=\"#000000\" fill-rule=\"evenodd\" fill-opacity=\"1\" /><path clip-path=\"url(#clip030)\" d=\"M 0 0 M2238.25 1560.05 L2243.14 1560.05 L2243.14 1565.93 L2238.25 1565.93 L2238.25 1560.05 Z\" fill=\"#000000\" fill-rule=\"evenodd\" fill-opacity=\"1\" /><path clip-path=\"url(#clip030)\" d=\"M 0 0 M2252.23 1562 L2268.55 1562 L2268.55 1565.93 L2246.61 1565.93 L2246.61 1562 Q2249.27 1559.24 2253.85 1554.61 Q2258.46 1549.96 2259.64 1548.62 Q2261.89 1546.09 2262.77 1544.36 Q2263.67 1542.6 2263.67 1540.91 Q2263.67 1538.15 2261.72 1536.42 Q2259.8 1534.68 2256.7 1534.68 Q2254.5 1534.68 2252.05 1535.45 Q2249.62 1536.21 2246.84 1537.76 L2246.84 1533.04 Q2249.66 1531.9 2252.12 1531.33 Q2254.57 1530.75 2256.61 1530.75 Q2261.98 1530.75 2265.17 1533.43 Q2268.37 1536.12 2268.37 1540.61 Q2268.37 1542.74 2267.56 1544.66 Q2266.77 1546.56 2264.66 1549.15 Q2264.08 1549.82 2260.98 1553.04 Q2257.88 1556.23 2252.23 1562 Z\" fill=\"#000000\" fill-rule=\"evenodd\" fill-opacity=\"1\" /><path clip-path=\"url(#clip030)\" d=\"M 0 0 M2273.67 1531.37 L2292.02 1531.37 L2292.02 1535.31 L2277.95 1535.31 L2277.95 1543.78 Q2278.97 1543.43 2279.99 1543.27 Q2281.01 1543.08 2282.02 1543.08 Q2287.81 1543.08 2291.19 1546.26 Q2294.57 1549.43 2294.57 1554.84 Q2294.57 1560.42 2291.1 1563.52 Q2287.63 1566.6 2281.31 1566.6 Q2279.13 1566.6 2276.86 1566.23 Q2274.62 1565.86 2272.21 1565.12 L2272.21 1560.42 Q2274.29 1561.56 2276.52 1562.11 Q2278.74 1562.67 2281.21 1562.67 Q2285.22 1562.67 2287.56 1560.56 Q2289.89 1558.46 2289.89 1554.84 Q2289.89 1551.23 2287.56 1549.13 Q2285.22 1547.02 2281.21 1547.02 Q2279.34 1547.02 2277.46 1547.44 Q2275.61 1547.85 2273.67 1548.73 L2273.67 1531.37 Z\" fill=\"#000000\" fill-rule=\"evenodd\" fill-opacity=\"1\" /><path clip-path=\"url(#clip030)\" d=\"M 0 0 M877.555 1590.6 L887.135 1590.6 L899.262 1622.94 L911.452 1590.6 L921.032 1590.6 L921.032 1638.12 L914.762 1638.12 L914.762 1596.4 L902.508 1628.99 L896.047 1628.99 L883.793 1596.4 L883.793 1638.12 L877.555 1638.12 L877.555 1590.6 Z\" fill=\"#000000\" fill-rule=\"evenodd\" fill-opacity=\"1\" /><path clip-path=\"url(#clip030)\" d=\"M 0 0 M943.376 1620.2 Q936.278 1620.2 933.541 1621.83 Q930.804 1623.45 930.804 1627.37 Q930.804 1630.48 932.841 1632.33 Q934.91 1634.15 938.443 1634.15 Q943.312 1634.15 946.241 1630.71 Q949.201 1627.24 949.201 1621.51 L949.201 1620.2 L943.376 1620.2 M955.057 1617.79 L955.057 1638.12 L949.201 1638.12 L949.201 1632.71 Q947.195 1635.96 944.204 1637.52 Q941.212 1639.05 936.883 1639.05 Q931.408 1639.05 928.162 1635.99 Q924.947 1632.9 924.947 1627.75 Q924.947 1621.73 928.958 1618.68 Q933 1615.62 940.989 1615.62 L949.201 1615.62 L949.201 1615.05 Q949.201 1611.01 946.527 1608.81 Q943.885 1606.58 939.079 1606.58 Q936.024 1606.58 933.127 1607.31 Q930.231 1608.05 927.557 1609.51 L927.557 1604.1 Q930.772 1602.86 933.796 1602.25 Q936.819 1601.62 939.684 1601.62 Q947.418 1601.62 951.238 1605.63 Q955.057 1609.64 955.057 1617.79 Z\" fill=\"#000000\" fill-rule=\"evenodd\" fill-opacity=\"1\" /><path clip-path=\"url(#clip030)\" d=\"M 0 0 M990.832 1602.48 L977.942 1619.82 L991.501 1638.12 L984.594 1638.12 L974.218 1624.12 L963.842 1638.12 L956.935 1638.12 L970.78 1619.47 L958.113 1602.48 L965.019 1602.48 L974.472 1615.18 L983.926 1602.48 L990.832 1602.48 Z\" fill=\"#000000\" fill-rule=\"evenodd\" fill-opacity=\"1\" /><path clip-path=\"url(#clip030)\" d=\"M 0 0 M997.644 1602.48 L1003.5 1602.48 L1003.5 1638.12 L997.644 1638.12 L997.644 1602.48 M997.644 1588.6 L1003.5 1588.6 L1003.5 1596.01 L997.644 1596.01 L997.644 1588.6 Z\" fill=\"#000000\" fill-rule=\"evenodd\" fill-opacity=\"1\" /><path clip-path=\"url(#clip030)\" d=\"M 0 0 M1037.4 1609.32 Q1039.59 1605.37 1042.65 1603.49 Q1045.7 1601.62 1049.84 1601.62 Q1055.41 1601.62 1058.44 1605.53 Q1061.46 1609.41 1061.46 1616.61 L1061.46 1638.12 L1055.57 1638.12 L1055.57 1616.8 Q1055.57 1611.67 1053.76 1609.19 Q1051.94 1606.71 1048.22 1606.71 Q1043.67 1606.71 1041.03 1609.73 Q1038.38 1612.76 1038.38 1617.98 L1038.38 1638.12 L1032.5 1638.12 L1032.5 1616.8 Q1032.5 1611.64 1030.68 1609.19 Q1028.87 1606.71 1025.08 1606.71 Q1020.59 1606.71 1017.95 1609.76 Q1015.31 1612.79 1015.31 1617.98 L1015.31 1638.12 L1009.42 1638.12 L1009.42 1602.48 L1015.31 1602.48 L1015.31 1608.01 Q1017.31 1604.74 1020.11 1603.18 Q1022.92 1601.62 1026.77 1601.62 Q1030.65 1601.62 1033.36 1603.59 Q1036.09 1605.56 1037.4 1609.32 Z\" fill=\"#000000\" fill-rule=\"evenodd\" fill-opacity=\"1\" /><path clip-path=\"url(#clip030)\" d=\"M 0 0 M1067 1624.06 L1067 1602.48 L1072.85 1602.48 L1072.85 1623.83 Q1072.85 1628.89 1074.83 1631.44 Q1076.8 1633.95 1080.75 1633.95 Q1085.49 1633.95 1088.23 1630.93 Q1091 1627.91 1091 1622.69 L1091 1602.48 L1096.85 1602.48 L1096.85 1638.12 L1091 1638.12 L1091 1632.65 Q1088.86 1635.9 1086.03 1637.49 Q1083.23 1639.05 1079.51 1639.05 Q1073.36 1639.05 1070.18 1635.23 Q1067 1631.41 1067 1624.06 M1081.73 1601.62 L1081.73 1601.62 Z\" fill=\"#000000\" fill-rule=\"evenodd\" fill-opacity=\"1\" /><path clip-path=\"url(#clip030)\" d=\"M 0 0 M1130.75 1609.32 Q1132.95 1605.37 1136 1603.49 Q1139.06 1601.62 1143.2 1601.62 Q1148.77 1601.62 1151.79 1605.53 Q1154.81 1609.41 1154.81 1616.61 L1154.81 1638.12 L1148.92 1638.12 L1148.92 1616.8 Q1148.92 1611.67 1147.11 1609.19 Q1145.3 1606.71 1141.57 1606.71 Q1137.02 1606.71 1134.38 1609.73 Q1131.74 1612.76 1131.74 1617.98 L1131.74 1638.12 L1125.85 1638.12 L1125.85 1616.8 Q1125.85 1611.64 1124.03 1609.19 Q1122.22 1606.71 1118.43 1606.71 Q1113.95 1606.71 1111.3 1609.76 Q1108.66 1612.79 1108.66 1617.98 L1108.66 1638.12 L1102.77 1638.12 L1102.77 1602.48 L1108.66 1602.48 L1108.66 1608.01 Q1110.67 1604.74 1113.47 1603.18 Q1116.27 1601.62 1120.12 1601.62 Q1124 1601.62 1126.71 1603.59 Q1129.45 1605.56 1130.75 1609.32 Z\" fill=\"#000000\" fill-rule=\"evenodd\" fill-opacity=\"1\" /><path clip-path=\"url(#clip030)\" d=\"M 0 0 M1205.13 1607.89 L1205.13 1588.6 L1210.99 1588.6 L1210.99 1638.12 L1205.13 1638.12 L1205.13 1632.78 Q1203.29 1635.96 1200.46 1637.52 Q1197.65 1639.05 1193.71 1639.05 Q1187.25 1639.05 1183.17 1633.89 Q1179.13 1628.73 1179.13 1620.33 Q1179.13 1611.93 1183.17 1606.77 Q1187.25 1601.62 1193.71 1601.62 Q1197.65 1601.62 1200.46 1603.18 Q1203.29 1604.7 1205.13 1607.89 M1185.18 1620.33 Q1185.18 1626.79 1187.82 1630.48 Q1190.49 1634.15 1195.14 1634.15 Q1199.79 1634.15 1202.46 1630.48 Q1205.13 1626.79 1205.13 1620.33 Q1205.13 1613.87 1202.46 1610.21 Q1199.79 1606.52 1195.14 1606.52 Q1190.49 1606.52 1187.82 1610.21 Q1185.18 1613.87 1185.18 1620.33 Z\" fill=\"#000000\" fill-rule=\"evenodd\" fill-opacity=\"1\" /><path clip-path=\"url(#clip030)\" d=\"M 0 0 M1247.62 1618.84 L1247.62 1621.7 L1220.7 1621.7 Q1221.08 1627.75 1224.33 1630.93 Q1227.6 1634.08 1233.43 1634.08 Q1236.8 1634.08 1239.95 1633.25 Q1243.14 1632.43 1246.26 1630.77 L1246.26 1636.31 Q1243.11 1637.65 1239.8 1638.35 Q1236.48 1639.05 1233.08 1639.05 Q1224.55 1639.05 1219.55 1634.08 Q1214.59 1629.12 1214.59 1620.65 Q1214.59 1611.9 1219.3 1606.77 Q1224.04 1601.62 1232.06 1601.62 Q1239.25 1601.62 1243.42 1606.26 Q1247.62 1610.88 1247.62 1618.84 M1241.77 1617.12 Q1241.7 1612.31 1239.06 1609.45 Q1236.45 1606.58 1232.12 1606.58 Q1227.22 1606.58 1224.26 1609.35 Q1221.33 1612.12 1220.89 1617.15 L1241.77 1617.12 Z\" fill=\"#000000\" fill-rule=\"evenodd\" fill-opacity=\"1\" /><path clip-path=\"url(#clip030)\" d=\"M 0 0 M1271.81 1588.6 L1271.81 1593.47 L1266.21 1593.47 Q1263.06 1593.47 1261.82 1594.74 Q1260.61 1596.01 1260.61 1599.32 L1260.61 1602.48 L1270.26 1602.48 L1270.26 1607.03 L1260.61 1607.03 L1260.61 1638.12 L1254.72 1638.12 L1254.72 1607.03 L1249.12 1607.03 L1249.12 1602.48 L1254.72 1602.48 L1254.72 1599.99 Q1254.72 1594.04 1257.49 1591.34 Q1260.26 1588.6 1266.28 1588.6 L1271.81 1588.6 Z\" fill=\"#000000\" fill-rule=\"evenodd\" fill-opacity=\"1\" /><path clip-path=\"url(#clip030)\" d=\"M 0 0 M1277.96 1588.6 L1283.81 1588.6 L1283.81 1638.12 L1277.96 1638.12 L1277.96 1588.6 Z\" fill=\"#000000\" fill-rule=\"evenodd\" fill-opacity=\"1\" /><path clip-path=\"url(#clip030)\" d=\"M 0 0 M1320.45 1618.84 L1320.45 1621.7 L1293.52 1621.7 Q1293.9 1627.75 1297.15 1630.93 Q1300.43 1634.08 1306.25 1634.08 Q1309.63 1634.08 1312.78 1633.25 Q1315.96 1632.43 1319.08 1630.77 L1319.08 1636.31 Q1315.93 1637.65 1312.62 1638.35 Q1309.31 1639.05 1305.9 1639.05 Q1297.37 1639.05 1292.38 1634.08 Q1287.41 1629.12 1287.41 1620.65 Q1287.41 1611.9 1292.12 1606.77 Q1296.86 1601.62 1304.88 1601.62 Q1312.08 1601.62 1316.25 1606.26 Q1320.45 1610.88 1320.45 1618.84 M1314.59 1617.12 Q1314.53 1612.31 1311.89 1609.45 Q1309.28 1606.58 1304.95 1606.58 Q1300.05 1606.58 1297.09 1609.35 Q1294.16 1612.12 1293.71 1617.15 L1314.59 1617.12 Z\" fill=\"#000000\" fill-rule=\"evenodd\" fill-opacity=\"1\" /><path clip-path=\"url(#clip030)\" d=\"M 0 0 M1352.25 1603.84 L1352.25 1609.32 Q1349.76 1607.95 1347.25 1607.28 Q1344.77 1606.58 1342.22 1606.58 Q1336.52 1606.58 1333.37 1610.21 Q1330.22 1613.81 1330.22 1620.33 Q1330.22 1626.86 1333.37 1630.48 Q1336.52 1634.08 1342.22 1634.08 Q1344.77 1634.08 1347.25 1633.41 Q1349.76 1632.71 1352.25 1631.34 L1352.25 1636.76 Q1349.79 1637.9 1347.15 1638.47 Q1344.54 1639.05 1341.58 1639.05 Q1333.53 1639.05 1328.79 1633.99 Q1324.05 1628.93 1324.05 1620.33 Q1324.05 1611.61 1328.82 1606.61 Q1333.63 1601.62 1341.96 1601.62 Q1344.67 1601.62 1347.25 1602.19 Q1349.83 1602.73 1352.25 1603.84 Z\" fill=\"#000000\" fill-rule=\"evenodd\" fill-opacity=\"1\" /><path clip-path=\"url(#clip030)\" d=\"M 0 0 M1364.18 1592.35 L1364.18 1602.48 L1376.24 1602.48 L1376.24 1607.03 L1364.18 1607.03 L1364.18 1626.38 Q1364.18 1630.74 1365.36 1631.98 Q1366.57 1633.22 1370.23 1633.22 L1376.24 1633.22 L1376.24 1638.12 L1370.23 1638.12 Q1363.45 1638.12 1360.87 1635.61 Q1358.29 1633.06 1358.29 1626.38 L1358.29 1607.03 L1354 1607.03 L1354 1602.48 L1358.29 1602.48 L1358.29 1592.35 L1364.18 1592.35 Z\" fill=\"#000000\" fill-rule=\"evenodd\" fill-opacity=\"1\" /><path clip-path=\"url(#clip030)\" d=\"M 0 0 M1382.39 1602.48 L1388.24 1602.48 L1388.24 1638.12 L1382.39 1638.12 L1382.39 1602.48 M1382.39 1588.6 L1388.24 1588.6 L1388.24 1596.01 L1382.39 1596.01 L1382.39 1588.6 Z\" fill=\"#000000\" fill-rule=\"evenodd\" fill-opacity=\"1\" /><path clip-path=\"url(#clip030)\" d=\"M 0 0 M1408.2 1606.58 Q1403.49 1606.58 1400.75 1610.27 Q1398.01 1613.93 1398.01 1620.33 Q1398.01 1626.73 1400.72 1630.42 Q1403.46 1634.08 1408.2 1634.08 Q1412.88 1634.08 1415.62 1630.39 Q1418.35 1626.7 1418.35 1620.33 Q1418.35 1614 1415.62 1610.31 Q1412.88 1606.58 1408.2 1606.58 M1408.2 1601.62 Q1415.84 1601.62 1420.2 1606.58 Q1424.56 1611.55 1424.56 1620.33 Q1424.56 1629.08 1420.2 1634.08 Q1415.84 1639.05 1408.2 1639.05 Q1400.53 1639.05 1396.17 1634.08 Q1391.84 1629.08 1391.84 1620.33 Q1391.84 1611.55 1396.17 1606.58 Q1400.53 1601.62 1408.2 1601.62 Z\" fill=\"#000000\" fill-rule=\"evenodd\" fill-opacity=\"1\" /><path clip-path=\"url(#clip030)\" d=\"M 0 0 M1460.34 1616.61 L1460.34 1638.12 L1454.48 1638.12 L1454.48 1616.8 Q1454.48 1611.74 1452.51 1609.22 Q1450.53 1606.71 1446.59 1606.71 Q1441.84 1606.71 1439.11 1609.73 Q1436.37 1612.76 1436.37 1617.98 L1436.37 1638.12 L1430.48 1638.12 L1430.48 1602.48 L1436.37 1602.48 L1436.37 1608.01 Q1438.47 1604.8 1441.3 1603.21 Q1444.17 1601.62 1447.89 1601.62 Q1454.03 1601.62 1457.18 1605.44 Q1460.34 1609.22 1460.34 1616.61 Z\" fill=\"#000000\" fill-rule=\"evenodd\" fill-opacity=\"1\" /><path clip-path=\"url(#clip030)\" d=\"M 0 0 M1486.66 1588.6 L1500.15 1588.6 L1500.15 1593.15 L1492.51 1593.15 L1492.51 1642.17 L1500.15 1642.17 L1500.15 1646.72 L1486.66 1646.72 L1486.66 1588.6 Z\" fill=\"#000000\" fill-rule=\"evenodd\" fill-opacity=\"1\" /><path clip-path=\"url(#clip030)\" d=\"M 0 0 M1534.05 1609.32 Q1536.25 1605.37 1539.3 1603.49 Q1542.36 1601.62 1546.49 1601.62 Q1552.06 1601.62 1555.09 1605.53 Q1558.11 1609.41 1558.11 1616.61 L1558.11 1638.12 L1552.22 1638.12 L1552.22 1616.8 Q1552.22 1611.67 1550.41 1609.19 Q1548.6 1606.71 1544.87 1606.71 Q1540.32 1606.71 1537.68 1609.73 Q1535.04 1612.76 1535.04 1617.98 L1535.04 1638.12 L1529.15 1638.12 L1529.15 1616.8 Q1529.15 1611.64 1527.33 1609.19 Q1525.52 1606.71 1521.73 1606.71 Q1517.24 1606.71 1514.6 1609.76 Q1511.96 1612.79 1511.96 1617.98 L1511.96 1638.12 L1506.07 1638.12 L1506.07 1602.48 L1511.96 1602.48 L1511.96 1608.01 Q1513.97 1604.74 1516.77 1603.18 Q1519.57 1601.62 1523.42 1601.62 Q1527.3 1601.62 1530.01 1603.59 Q1532.74 1605.56 1534.05 1609.32 Z\" fill=\"#000000\" fill-rule=\"evenodd\" fill-opacity=\"1\" /><path clip-path=\"url(#clip030)\" d=\"M 0 0 M1577.94 1588.6 L1577.94 1646.72 L1564.45 1646.72 L1564.45 1642.17 L1572.05 1642.17 L1572.05 1593.15 L1564.45 1593.15 L1564.45 1588.6 L1577.94 1588.6 Z\" fill=\"#000000\" fill-rule=\"evenodd\" fill-opacity=\"1\" /><polyline clip-path=\"url(#clip032)\" style=\"stroke:#000000; stroke-width:2; stroke-opacity:0.1; fill:none\" points=\"\n",
       "  102.74,1464.44 2352.76,1464.44 \n",
       "  \"/>\n",
       "<polyline clip-path=\"url(#clip032)\" style=\"stroke:#000000; stroke-width:2; stroke-opacity:0.1; fill:none\" points=\"\n",
       "  102.74,1124.28 2352.76,1124.28 \n",
       "  \"/>\n",
       "<polyline clip-path=\"url(#clip032)\" style=\"stroke:#000000; stroke-width:2; stroke-opacity:0.1; fill:none\" points=\"\n",
       "  102.74,784.126 2352.76,784.126 \n",
       "  \"/>\n",
       "<polyline clip-path=\"url(#clip032)\" style=\"stroke:#000000; stroke-width:2; stroke-opacity:0.1; fill:none\" points=\"\n",
       "  102.74,443.969 2352.76,443.969 \n",
       "  \"/>\n",
       "<polyline clip-path=\"url(#clip032)\" style=\"stroke:#000000; stroke-width:2; stroke-opacity:0.1; fill:none\" points=\"\n",
       "  102.74,103.811 2352.76,103.811 \n",
       "  \"/>\n",
       "<polyline clip-path=\"url(#clip030)\" style=\"stroke:#000000; stroke-width:4; stroke-opacity:1; fill:none\" points=\"\n",
       "  102.74,1505.26 102.74,62.9921 \n",
       "  \"/>\n",
       "<polyline clip-path=\"url(#clip030)\" style=\"stroke:#000000; stroke-width:4; stroke-opacity:1; fill:none\" points=\"\n",
       "  102.74,1464.44 129.74,1464.44 \n",
       "  \"/>\n",
       "<polyline clip-path=\"url(#clip030)\" style=\"stroke:#000000; stroke-width:4; stroke-opacity:1; fill:none\" points=\"\n",
       "  102.74,1124.28 129.74,1124.28 \n",
       "  \"/>\n",
       "<polyline clip-path=\"url(#clip030)\" style=\"stroke:#000000; stroke-width:4; stroke-opacity:1; fill:none\" points=\"\n",
       "  102.74,784.126 129.74,784.126 \n",
       "  \"/>\n",
       "<polyline clip-path=\"url(#clip030)\" style=\"stroke:#000000; stroke-width:4; stroke-opacity:1; fill:none\" points=\"\n",
       "  102.74,443.969 129.74,443.969 \n",
       "  \"/>\n",
       "<polyline clip-path=\"url(#clip030)\" style=\"stroke:#000000; stroke-width:4; stroke-opacity:1; fill:none\" points=\"\n",
       "  102.74,103.811 129.74,103.811 \n",
       "  \"/>\n",
       "<path clip-path=\"url(#clip030)\" d=\"M 0 0 M54.7958 1450.24 Q51.1847 1450.24 49.356 1453.8 Q47.5504 1457.35 47.5504 1464.48 Q47.5504 1471.58 49.356 1475.15 Q51.1847 1478.69 54.7958 1478.69 Q58.43 1478.69 60.2356 1475.15 Q62.0643 1471.58 62.0643 1464.48 Q62.0643 1457.35 60.2356 1453.8 Q58.43 1450.24 54.7958 1450.24 M54.7958 1446.54 Q60.6059 1446.54 63.6615 1451.14 Q66.7402 1455.73 66.7402 1464.48 Q66.7402 1473.2 63.6615 1477.81 Q60.6059 1482.39 54.7958 1482.39 Q48.9856 1482.39 45.9069 1477.81 Q42.8514 1473.2 42.8514 1464.48 Q42.8514 1455.73 45.9069 1451.14 Q48.9856 1446.54 54.7958 1446.54 Z\" fill=\"#000000\" fill-rule=\"evenodd\" fill-opacity=\"1\" /><path clip-path=\"url(#clip030)\" d=\"M 0 0 M-90.9832 1144.08 L-74.6639 1144.08 L-74.6639 1148.01 L-96.6082 1148.01 L-96.6082 1144.08 Q-93.9462 1141.32 -89.3629 1136.69 Q-84.7564 1132.04 -83.5759 1130.7 Q-81.3305 1128.17 -80.4509 1126.44 Q-79.5481 1124.68 -79.5481 1122.99 Q-79.5481 1120.23 -81.4926 1118.5 Q-83.4138 1116.76 -86.5157 1116.76 Q-88.7147 1116.76 -91.1684 1117.53 Q-93.599 1118.29 -96.3767 1119.84 L-96.3767 1115.12 Q-93.5527 1113.98 -91.099 1113.4 Q-88.6453 1112.83 -86.6083 1112.83 Q-81.2379 1112.83 -78.0435 1115.51 Q-74.8491 1118.2 -74.8491 1122.69 Q-74.8491 1124.82 -75.6593 1126.74 Q-76.4463 1128.64 -78.5528 1131.23 Q-79.1315 1131.9 -82.2333 1135.12 Q-85.3351 1138.31 -90.9832 1144.08 Z\" fill=\"#000000\" fill-rule=\"evenodd\" fill-opacity=\"1\" /><path clip-path=\"url(#clip030)\" d=\"M 0 0 M-69.5945 1142.13 L-64.7102 1142.13 L-64.7102 1148.01 L-69.5945 1148.01 L-69.5945 1142.13 Z\" fill=\"#000000\" fill-rule=\"evenodd\" fill-opacity=\"1\" /><path clip-path=\"url(#clip030)\" d=\"M 0 0 M-59.5945 1113.45 L-41.2381 1113.45 L-41.2381 1117.39 L-55.3121 1117.39 L-55.3121 1125.86 Q-54.2936 1125.51 -53.2751 1125.35 Q-52.2566 1125.16 -51.2381 1125.16 Q-45.4511 1125.16 -42.0715 1128.34 Q-38.6919 1131.51 -38.6919 1136.92 Q-38.6919 1142.5 -42.1641 1145.6 Q-45.6363 1148.68 -51.9557 1148.68 Q-54.1316 1148.68 -56.4001 1148.31 Q-58.6455 1147.94 -61.0528 1147.2 L-61.0528 1142.5 Q-58.9695 1143.64 -56.7473 1144.19 Q-54.5251 1144.75 -52.0483 1144.75 Q-48.0437 1144.75 -45.7057 1142.64 Q-43.3678 1140.53 -43.3678 1136.92 Q-43.3678 1133.31 -45.7057 1131.21 Q-48.0437 1129.1 -52.0483 1129.1 Q-53.9233 1129.1 -55.7982 1129.52 Q-57.6501 1129.93 -59.5945 1130.81 L-59.5945 1113.45 Z\" fill=\"#000000\" fill-rule=\"evenodd\" fill-opacity=\"1\" /><path clip-path=\"url(#clip030)\" d=\"M 0 0 M-5.4513 1122.55 L-16.0299 1133.17 L-5.4513 1143.75 L-8.20591 1146.55 L-18.8309 1135.93 L-29.4558 1146.55 L-32.1873 1143.75 L-21.6318 1133.17 L-32.1873 1122.55 L-29.4558 1119.75 L-18.8309 1130.37 L-8.20591 1119.75 L-5.4513 1122.55 Z\" fill=\"#000000\" fill-rule=\"evenodd\" fill-opacity=\"1\" /><path clip-path=\"url(#clip030)\" d=\"M 0 0 M0.428302 1144.08 L8.06715 1144.08 L8.06715 1117.71 L-0.242991 1119.38 L-0.242991 1115.12 L8.02085 1113.45 L12.6968 1113.45 L12.6968 1144.08 L20.3356 1144.08 L20.3356 1148.01 L0.428302 1148.01 L0.428302 1144.08 Z\" fill=\"#000000\" fill-rule=\"evenodd\" fill-opacity=\"1\" /><path clip-path=\"url(#clip030)\" d=\"M 0 0 M35.405 1116.53 Q31.7939 1116.53 29.9652 1120.09 Q28.1596 1123.64 28.1596 1130.77 Q28.1596 1137.87 29.9652 1141.44 Q31.7939 1144.98 35.405 1144.98 Q39.0392 1144.98 40.8448 1141.44 Q42.6734 1137.87 42.6734 1130.77 Q42.6734 1123.64 40.8448 1120.09 Q39.0392 1116.53 35.405 1116.53 M35.405 1112.83 Q41.2151 1112.83 44.2707 1117.43 Q47.3493 1122.02 47.3493 1130.77 Q47.3493 1139.49 44.2707 1144.1 Q41.2151 1148.68 35.405 1148.68 Q29.5948 1148.68 26.5161 1144.1 Q23.4606 1139.49 23.4606 1130.77 Q23.4606 1122.02 26.5161 1117.43 Q29.5948 1112.83 35.405 1112.83 Z\" fill=\"#000000\" fill-rule=\"evenodd\" fill-opacity=\"1\" /><path clip-path=\"url(#clip030)\" d=\"M 0 0 M57.3739 1105.05 Q54.816 1105.05 53.3114 1106.8 Q51.8256 1108.54 51.8256 1111.59 Q51.8256 1114.62 53.3114 1116.39 Q54.816 1118.14 57.3739 1118.14 Q59.9317 1118.14 61.4176 1116.39 Q62.9222 1114.62 62.9222 1111.59 Q62.9222 1108.54 61.4176 1106.8 Q59.9317 1105.05 57.3739 1105.05 M64.9158 1093.14 L64.9158 1096.6 Q63.4864 1095.92 62.0194 1095.57 Q60.5712 1095.21 59.1418 1095.21 Q55.3803 1095.21 53.3866 1097.75 Q51.4118 1100.29 51.1297 1105.42 Q52.2394 1103.79 53.9133 1102.92 Q55.5872 1102.04 57.5996 1102.04 Q61.8313 1102.04 64.2763 1104.61 Q66.7402 1107.17 66.7402 1111.59 Q66.7402 1115.92 64.1823 1118.53 Q61.6244 1121.15 57.3739 1121.15 Q52.5027 1121.15 49.926 1117.42 Q47.3493 1113.68 47.3493 1106.59 Q47.3493 1099.93 50.5091 1095.98 Q53.6688 1092.01 58.9914 1092.01 Q60.4207 1092.01 61.8689 1092.29 Q63.336 1092.58 64.9158 1093.14 Z\" fill=\"#000000\" fill-rule=\"evenodd\" fill-opacity=\"1\" /><path clip-path=\"url(#clip030)\" d=\"M 0 0 M-96.5619 773.294 L-78.2055 773.294 L-78.2055 777.229 L-92.2795 777.229 L-92.2795 785.701 Q-91.261 785.354 -90.2425 785.192 Q-89.224 785.006 -88.2055 785.006 Q-82.4185 785.006 -79.0389 788.178 Q-75.6593 791.349 -75.6593 796.766 Q-75.6593 802.344 -79.1315 805.446 Q-82.6037 808.525 -88.9231 808.525 Q-91.099 808.525 -93.3675 808.155 Q-95.6128 807.784 -98.0202 807.043 L-98.0202 802.344 Q-95.9369 803.479 -93.7147 804.034 Q-91.4925 804.59 -89.0157 804.59 Q-85.0111 804.59 -82.6731 802.483 Q-80.3352 800.377 -80.3352 796.766 Q-80.3352 793.155 -82.6731 791.048 Q-85.0111 788.942 -89.0157 788.942 Q-90.8907 788.942 -92.7656 789.358 Q-94.6175 789.775 -96.5619 790.655 L-96.5619 773.294 Z\" fill=\"#000000\" fill-rule=\"evenodd\" fill-opacity=\"1\" /><path clip-path=\"url(#clip030)\" d=\"M 0 0 M-70.5898 801.974 L-65.7056 801.974 L-65.7056 807.854 L-70.5898 807.854 L-70.5898 801.974 Z\" fill=\"#000000\" fill-rule=\"evenodd\" fill-opacity=\"1\" /><path clip-path=\"url(#clip030)\" d=\"M 0 0 M-50.6362 776.372 Q-54.2473 776.372 -56.076 779.937 Q-57.8816 783.479 -57.8816 790.608 Q-57.8816 797.715 -56.076 801.28 Q-54.2473 804.821 -50.6362 804.821 Q-47.002 804.821 -45.1965 801.28 Q-43.3678 797.715 -43.3678 790.608 Q-43.3678 783.479 -45.1965 779.937 Q-47.002 776.372 -50.6362 776.372 M-50.6362 772.669 Q-44.8261 772.669 -41.7705 777.275 Q-38.6919 781.858 -38.6919 790.608 Q-38.6919 799.335 -41.7705 803.942 Q-44.8261 808.525 -50.6362 808.525 Q-56.4464 808.525 -59.5251 803.942 Q-62.5806 799.335 -62.5806 790.608 Q-62.5806 781.858 -59.5251 777.275 Q-56.4464 772.669 -50.6362 772.669 Z\" fill=\"#000000\" fill-rule=\"evenodd\" fill-opacity=\"1\" /><path clip-path=\"url(#clip030)\" d=\"M 0 0 M-5.4513 782.391 L-16.0299 793.016 L-5.4513 803.594 L-8.20591 806.395 L-18.8309 795.77 L-29.4558 806.395 L-32.1873 803.594 L-21.6318 793.016 L-32.1873 782.391 L-29.4558 779.59 L-18.8309 790.215 L-8.20591 779.59 L-5.4513 782.391 Z\" fill=\"#000000\" fill-rule=\"evenodd\" fill-opacity=\"1\" /><path clip-path=\"url(#clip030)\" d=\"M 0 0 M0.428302 803.918 L8.06715 803.918 L8.06715 777.553 L-0.242991 779.219 L-0.242991 774.96 L8.02085 773.294 L12.6968 773.294 L12.6968 803.918 L20.3356 803.918 L20.3356 807.854 L0.428302 807.854 L0.428302 803.918 Z\" fill=\"#000000\" fill-rule=\"evenodd\" fill-opacity=\"1\" /><path clip-path=\"url(#clip030)\" d=\"M 0 0 M35.405 776.372 Q31.7939 776.372 29.9652 779.937 Q28.1596 783.479 28.1596 790.608 Q28.1596 797.715 29.9652 801.28 Q31.7939 804.821 35.405 804.821 Q39.0392 804.821 40.8448 801.28 Q42.6734 797.715 42.6734 790.608 Q42.6734 783.479 40.8448 779.937 Q39.0392 776.372 35.405 776.372 M35.405 772.669 Q41.2151 772.669 44.2707 777.275 Q47.3493 781.858 47.3493 790.608 Q47.3493 799.335 44.2707 803.942 Q41.2151 808.525 35.405 808.525 Q29.5948 808.525 26.5161 803.942 Q23.4606 799.335 23.4606 790.608 Q23.4606 781.858 26.5161 777.275 Q29.5948 772.669 35.405 772.669 Z\" fill=\"#000000\" fill-rule=\"evenodd\" fill-opacity=\"1\" /><path clip-path=\"url(#clip030)\" d=\"M 0 0 M57.3739 764.889 Q54.816 764.889 53.3114 766.638 Q51.8256 768.387 51.8256 771.434 Q51.8256 774.462 53.3114 776.23 Q54.816 777.979 57.3739 777.979 Q59.9317 777.979 61.4176 776.23 Q62.9222 774.462 62.9222 771.434 Q62.9222 768.387 61.4176 766.638 Q59.9317 764.889 57.3739 764.889 M64.9158 752.984 L64.9158 756.444 Q63.4864 755.767 62.0194 755.41 Q60.5712 755.053 59.1418 755.053 Q55.3803 755.053 53.3866 757.592 Q51.4118 760.131 51.1297 765.265 Q52.2394 763.629 53.9133 762.764 Q55.5872 761.88 57.5996 761.88 Q61.8313 761.88 64.2763 764.457 Q66.7402 767.014 66.7402 771.434 Q66.7402 775.76 64.1823 778.374 Q61.6244 780.989 57.3739 780.989 Q52.5027 780.989 49.926 777.265 Q47.3493 773.522 47.3493 766.431 Q47.3493 759.773 50.5091 755.824 Q53.6688 751.855 58.9914 751.855 Q60.4207 751.855 61.8689 752.137 Q63.336 752.42 64.9158 752.984 Z\" fill=\"#000000\" fill-rule=\"evenodd\" fill-opacity=\"1\" /><path clip-path=\"url(#clip030)\" d=\"M 0 0 M-96.886 433.136 L-74.6639 433.136 L-74.6639 435.127 L-87.2101 467.696 L-92.0944 467.696 L-80.2889 437.071 L-96.886 437.071 L-96.886 433.136 Z\" fill=\"#000000\" fill-rule=\"evenodd\" fill-opacity=\"1\" /><path clip-path=\"url(#clip030)\" d=\"M 0 0 M-69.5945 461.817 L-64.7102 461.817 L-64.7102 467.696 L-69.5945 467.696 L-69.5945 461.817 Z\" fill=\"#000000\" fill-rule=\"evenodd\" fill-opacity=\"1\" /><path clip-path=\"url(#clip030)\" d=\"M 0 0 M-59.5945 433.136 L-41.2381 433.136 L-41.2381 437.071 L-55.3121 437.071 L-55.3121 445.543 Q-54.2936 445.196 -53.2751 445.034 Q-52.2566 444.849 -51.2381 444.849 Q-45.4511 444.849 -42.0715 448.02 Q-38.6919 451.192 -38.6919 456.608 Q-38.6919 462.187 -42.1641 465.289 Q-45.6363 468.367 -51.9557 468.367 Q-54.1316 468.367 -56.4001 467.997 Q-58.6455 467.627 -61.0528 466.886 L-61.0528 462.187 Q-58.9695 463.321 -56.7473 463.877 Q-54.5251 464.432 -52.0483 464.432 Q-48.0437 464.432 -45.7057 462.326 Q-43.3678 460.219 -43.3678 456.608 Q-43.3678 452.997 -45.7057 450.891 Q-48.0437 448.784 -52.0483 448.784 Q-53.9233 448.784 -55.7982 449.201 Q-57.6501 449.617 -59.5945 450.497 L-59.5945 433.136 Z\" fill=\"#000000\" fill-rule=\"evenodd\" fill-opacity=\"1\" /><path clip-path=\"url(#clip030)\" d=\"M 0 0 M-5.4513 442.233 L-16.0299 452.858 L-5.4513 463.437 L-8.20591 466.238 L-18.8309 455.613 L-29.4558 466.238 L-32.1873 463.437 L-21.6318 452.858 L-32.1873 442.233 L-29.4558 439.432 L-18.8309 450.057 L-8.20591 439.432 L-5.4513 442.233 Z\" fill=\"#000000\" fill-rule=\"evenodd\" fill-opacity=\"1\" /><path clip-path=\"url(#clip030)\" d=\"M 0 0 M0.428302 463.761 L8.06715 463.761 L8.06715 437.395 L-0.242991 439.062 L-0.242991 434.803 L8.02085 433.136 L12.6968 433.136 L12.6968 463.761 L20.3356 463.761 L20.3356 467.696 L0.428302 467.696 L0.428302 463.761 Z\" fill=\"#000000\" fill-rule=\"evenodd\" fill-opacity=\"1\" /><path clip-path=\"url(#clip030)\" d=\"M 0 0 M35.405 436.215 Q31.7939 436.215 29.9652 439.78 Q28.1596 443.321 28.1596 450.451 Q28.1596 457.557 29.9652 461.122 Q31.7939 464.664 35.405 464.664 Q39.0392 464.664 40.8448 461.122 Q42.6734 457.557 42.6734 450.451 Q42.6734 443.321 40.8448 439.78 Q39.0392 436.215 35.405 436.215 M35.405 432.511 Q41.2151 432.511 44.2707 437.118 Q47.3493 441.701 47.3493 450.451 Q47.3493 459.178 44.2707 463.784 Q41.2151 468.367 35.405 468.367 Q29.5948 468.367 26.5161 463.784 Q23.4606 459.178 23.4606 450.451 Q23.4606 441.701 26.5161 437.118 Q29.5948 432.511 35.405 432.511 Z\" fill=\"#000000\" fill-rule=\"evenodd\" fill-opacity=\"1\" /><path clip-path=\"url(#clip030)\" d=\"M 0 0 M57.3739 424.732 Q54.816 424.732 53.3114 426.481 Q51.8256 428.23 51.8256 431.277 Q51.8256 434.305 53.3114 436.073 Q54.816 437.822 57.3739 437.822 Q59.9317 437.822 61.4176 436.073 Q62.9222 434.305 62.9222 431.277 Q62.9222 428.23 61.4176 426.481 Q59.9317 424.732 57.3739 424.732 M64.9158 412.826 L64.9158 416.287 Q63.4864 415.61 62.0194 415.253 Q60.5712 414.895 59.1418 414.895 Q55.3803 414.895 53.3866 417.434 Q51.4118 419.973 51.1297 425.108 Q52.2394 423.472 53.9133 422.606 Q55.5872 421.722 57.5996 421.722 Q61.8313 421.722 64.2763 424.299 Q66.7402 426.857 66.7402 431.277 Q66.7402 435.603 64.1823 438.217 Q61.6244 440.831 57.3739 440.831 Q52.5027 440.831 49.926 437.107 Q47.3493 433.364 47.3493 426.274 Q47.3493 419.616 50.5091 415.666 Q53.6688 411.698 58.9914 411.698 Q60.4207 411.698 61.8689 411.98 Q63.336 412.262 64.9158 412.826 Z\" fill=\"#000000\" fill-rule=\"evenodd\" fill-opacity=\"1\" /><path clip-path=\"url(#clip030)\" d=\"M 0 0 M-94.2312 123.603 L-86.5924 123.603 L-86.5924 97.2379 L-94.9025 98.9045 L-94.9025 94.6453 L-86.6387 92.9786 L-81.9627 92.9786 L-81.9627 123.603 L-74.3239 123.603 L-74.3239 127.539 L-94.2312 127.539 L-94.2312 123.603 Z\" fill=\"#000000\" fill-rule=\"evenodd\" fill-opacity=\"1\" /><path clip-path=\"url(#clip030)\" d=\"M 0 0 M-69.2545 121.659 L-64.3703 121.659 L-64.3703 127.539 L-69.2545 127.539 L-69.2545 121.659 Z\" fill=\"#000000\" fill-rule=\"evenodd\" fill-opacity=\"1\" /><path clip-path=\"url(#clip030)\" d=\"M 0 0 M-49.3009 96.0573 Q-52.912 96.0573 -54.7407 99.6221 Q-56.5462 103.164 -56.5462 110.293 Q-56.5462 117.4 -54.7407 120.965 Q-52.912 124.506 -49.3009 124.506 Q-45.6666 124.506 -43.8611 120.965 Q-42.0324 117.4 -42.0324 110.293 Q-42.0324 103.164 -43.8611 99.6221 Q-45.6666 96.0573 -49.3009 96.0573 M-49.3009 92.3536 Q-43.4907 92.3536 -40.4352 96.9601 Q-37.3565 101.543 -37.3565 110.293 Q-37.3565 119.02 -40.4352 123.627 Q-43.4907 128.21 -49.3009 128.21 Q-55.111 128.21 -58.1897 123.627 Q-61.2453 119.02 -61.2453 110.293 Q-61.2453 101.543 -58.1897 96.9601 Q-55.111 92.3536 -49.3009 92.3536 Z\" fill=\"#000000\" fill-rule=\"evenodd\" fill-opacity=\"1\" /><path clip-path=\"url(#clip030)\" d=\"M 0 0 M-4.11594 102.076 L-14.6946 112.701 L-4.11594 123.279 L-6.87056 126.08 L-17.4955 115.455 L-28.1204 126.08 L-30.8519 123.279 L-20.2964 112.701 L-30.8519 102.076 L-28.1204 99.2749 L-17.4955 109.9 L-6.87056 99.2749 L-4.11594 102.076 Z\" fill=\"#000000\" fill-rule=\"evenodd\" fill-opacity=\"1\" /><path clip-path=\"url(#clip030)\" d=\"M 0 0 M1.76365 123.603 L9.4025 123.603 L9.4025 97.2379 L1.09236 98.9045 L1.09236 94.6453 L9.35621 92.9786 L14.0321 92.9786 L14.0321 123.603 L21.671 123.603 L21.671 127.539 L1.76365 127.539 L1.76365 123.603 Z\" fill=\"#000000\" fill-rule=\"evenodd\" fill-opacity=\"1\" /><path clip-path=\"url(#clip030)\" d=\"M 0 0 M36.7403 96.0573 Q33.1292 96.0573 31.3005 99.6221 Q29.495 103.164 29.495 110.293 Q29.495 117.4 31.3005 120.965 Q33.1292 124.506 36.7403 124.506 Q40.3746 124.506 42.1801 120.965 Q44.0088 117.4 44.0088 110.293 Q44.0088 103.164 42.1801 99.6221 Q40.3746 96.0573 36.7403 96.0573 M36.7403 92.3536 Q42.5505 92.3536 45.606 96.9601 Q48.6847 101.543 48.6847 110.293 Q48.6847 119.02 45.606 123.627 Q42.5505 128.21 36.7403 128.21 Q30.9302 128.21 27.8515 123.627 Q24.7959 119.02 24.7959 110.293 Q24.7959 101.543 27.8515 96.9601 Q30.9302 92.3536 36.7403 92.3536 Z\" fill=\"#000000\" fill-rule=\"evenodd\" fill-opacity=\"1\" /><path clip-path=\"url(#clip030)\" d=\"M 0 0 M48.6847 72.0482 L66.7402 72.0482 L66.7402 73.6657 L56.5463 100.128 L52.5779 100.128 L62.1699 75.2455 L48.6847 75.2455 L48.6847 72.0482 Z\" fill=\"#000000\" fill-rule=\"evenodd\" fill-opacity=\"1\" /><path clip-path=\"url(#clip030)\" d=\"M 0 0 M-171.796 963.703 L-171.796 923.503 L-166.385 923.503 L-166.385 940.372 L-124.276 940.372 L-124.276 946.833 L-166.385 946.833 L-166.385 963.703 L-171.796 963.703 Z\" fill=\"#000000\" fill-rule=\"evenodd\" fill-opacity=\"1\" /><path clip-path=\"url(#clip030)\" d=\"M 0 0 M-154.45 906.284 Q-155.023 907.271 -155.277 908.448 Q-155.564 909.594 -155.564 910.995 Q-155.564 915.96 -152.317 918.633 Q-149.103 921.275 -143.055 921.275 L-124.276 921.275 L-124.276 927.163 L-159.924 927.163 L-159.924 921.275 L-154.386 921.275 Q-157.633 919.429 -159.192 916.469 Q-160.784 913.509 -160.784 909.276 Q-160.784 908.671 -160.688 907.939 Q-160.624 907.207 -160.465 906.316 L-154.45 906.284 Z\" fill=\"#000000\" fill-rule=\"evenodd\" fill-opacity=\"1\" /><path clip-path=\"url(#clip030)\" d=\"M 0 0 M-142.196 883.94 Q-142.196 891.038 -140.572 893.775 Q-138.949 896.513 -135.034 896.513 Q-131.915 896.513 -130.069 894.476 Q-128.255 892.407 -128.255 888.874 Q-128.255 884.004 -131.692 881.076 Q-135.162 878.116 -140.891 878.116 L-142.196 878.116 L-142.196 883.94 M-144.615 872.259 L-124.276 872.259 L-124.276 878.116 L-129.687 878.116 Q-126.441 880.121 -124.881 883.113 Q-123.353 886.105 -123.353 890.433 Q-123.353 895.908 -126.409 899.154 Q-129.496 902.369 -134.652 902.369 Q-140.668 902.369 -143.723 898.359 Q-146.779 894.316 -146.779 886.327 L-146.779 878.116 L-147.352 878.116 Q-151.394 878.116 -153.59 880.789 Q-155.818 883.431 -155.818 888.237 Q-155.818 891.293 -155.086 894.189 Q-154.354 897.085 -152.89 899.759 L-158.301 899.759 Q-159.542 896.544 -160.147 893.521 Q-160.784 890.497 -160.784 887.632 Q-160.784 879.898 -156.773 876.079 Q-152.763 872.259 -144.615 872.259 Z\" fill=\"#000000\" fill-rule=\"evenodd\" fill-opacity=\"1\" /><path clip-path=\"url(#clip030)\" d=\"M 0 0 M-158.556 840.462 L-153.081 840.462 Q-154.45 842.945 -155.118 845.46 Q-155.818 847.942 -155.818 850.488 Q-155.818 856.186 -152.19 859.337 Q-148.593 862.488 -142.068 862.488 Q-135.544 862.488 -131.915 859.337 Q-128.318 856.186 -128.318 850.488 Q-128.318 847.942 -128.987 845.46 Q-129.687 842.945 -131.056 840.462 L-125.645 840.462 Q-124.499 842.913 -123.926 845.555 Q-123.353 848.165 -123.353 851.125 Q-123.353 859.178 -128.414 863.92 Q-133.475 868.663 -142.068 868.663 Q-150.789 868.663 -155.786 863.888 Q-160.784 859.082 -160.784 850.743 Q-160.784 848.038 -160.211 845.46 Q-159.67 842.881 -158.556 840.462 Z\" fill=\"#000000\" fill-rule=\"evenodd\" fill-opacity=\"1\" /><path clip-path=\"url(#clip030)\" d=\"M 0 0 M-170.046 828.527 L-159.924 828.527 L-159.924 816.464 L-155.373 816.464 L-155.373 828.527 L-136.021 828.527 Q-131.66 828.527 -130.419 827.349 Q-129.178 826.14 -129.178 822.479 L-129.178 816.464 L-124.276 816.464 L-124.276 822.479 Q-124.276 829.259 -126.791 831.837 Q-129.337 834.415 -136.021 834.415 L-155.373 834.415 L-155.373 838.712 L-159.924 838.712 L-159.924 834.415 L-170.046 834.415 L-170.046 828.527 Z\" fill=\"#000000\" fill-rule=\"evenodd\" fill-opacity=\"1\" /><path clip-path=\"url(#clip030)\" d=\"M 0 0 M-159.924 810.321 L-159.924 804.464 L-124.276 804.464 L-124.276 810.321 L-159.924 810.321 M-173.801 810.321 L-173.801 804.464 L-166.385 804.464 L-166.385 810.321 L-173.801 810.321 Z\" fill=\"#000000\" fill-rule=\"evenodd\" fill-opacity=\"1\" /><path clip-path=\"url(#clip030)\" d=\"M 0 0 M-155.818 784.508 Q-155.818 789.219 -152.126 791.956 Q-148.466 794.693 -142.068 794.693 Q-135.671 794.693 -131.979 791.988 Q-128.318 789.25 -128.318 784.508 Q-128.318 779.829 -132.011 777.092 Q-135.703 774.355 -142.068 774.355 Q-148.402 774.355 -152.094 777.092 Q-155.818 779.829 -155.818 784.508 M-160.784 784.508 Q-160.784 776.869 -155.818 772.509 Q-150.853 768.148 -142.068 768.148 Q-133.316 768.148 -128.318 772.509 Q-123.353 776.869 -123.353 784.508 Q-123.353 792.179 -128.318 796.539 Q-133.316 800.868 -142.068 800.868 Q-150.853 800.868 -155.818 796.539 Q-160.784 792.179 -160.784 784.508 Z\" fill=\"#000000\" fill-rule=\"evenodd\" fill-opacity=\"1\" /><path clip-path=\"url(#clip030)\" d=\"M 0 0 M-145.792 732.373 L-124.276 732.373 L-124.276 738.229 L-145.601 738.229 Q-150.662 738.229 -153.177 740.203 Q-155.691 742.176 -155.691 746.123 Q-155.691 750.865 -152.667 753.602 Q-149.644 756.34 -144.424 756.34 L-124.276 756.34 L-124.276 762.228 L-159.924 762.228 L-159.924 756.34 L-154.386 756.34 Q-157.601 754.239 -159.192 751.406 Q-160.784 748.542 -160.784 744.818 Q-160.784 738.675 -156.964 735.524 Q-153.177 732.373 -145.792 732.373 Z\" fill=\"#000000\" fill-rule=\"evenodd\" fill-opacity=\"1\" /><path clip-path=\"url(#clip030)\" d=\"M 0 0 M-173.801 706.051 L-173.801 692.555 L-169.25 692.555 L-169.25 700.194 L-120.234 700.194 L-120.234 692.555 L-115.683 692.555 L-115.683 706.051 L-173.801 706.051 Z\" fill=\"#000000\" fill-rule=\"evenodd\" fill-opacity=\"1\" /><path clip-path=\"url(#clip030)\" d=\"M 0 0 M-166.513 679.728 L-148.657 679.728 L-148.657 671.644 Q-148.657 667.156 -150.98 664.705 Q-153.304 662.255 -157.601 662.255 Q-161.866 662.255 -164.189 664.705 Q-166.513 667.156 -166.513 671.644 L-166.513 679.728 M-171.796 686.158 L-171.796 671.644 Q-171.796 663.655 -168.168 659.581 Q-164.571 655.475 -157.601 655.475 Q-150.567 655.475 -146.97 659.581 Q-143.373 663.655 -143.373 671.644 L-143.373 679.728 L-124.276 679.728 L-124.276 686.158 L-171.796 686.158 Z\" fill=\"#000000\" fill-rule=\"evenodd\" fill-opacity=\"1\" /><path clip-path=\"url(#clip030)\" d=\"M 0 0 M-142.196 636.06 Q-142.196 643.157 -140.572 645.895 Q-138.949 648.632 -135.034 648.632 Q-131.915 648.632 -130.069 646.595 Q-128.255 644.526 -128.255 640.993 Q-128.255 636.123 -131.692 633.195 Q-135.162 630.235 -140.891 630.235 L-142.196 630.235 L-142.196 636.06 M-144.615 624.379 L-124.276 624.379 L-124.276 630.235 L-129.687 630.235 Q-126.441 632.24 -124.881 635.232 Q-123.353 638.224 -123.353 642.553 Q-123.353 648.027 -126.409 651.274 Q-129.496 654.488 -134.652 654.488 Q-140.668 654.488 -143.723 650.478 Q-146.779 646.436 -146.779 638.447 L-146.779 630.235 L-147.352 630.235 Q-151.394 630.235 -153.59 632.909 Q-155.818 635.55 -155.818 640.356 Q-155.818 643.412 -155.086 646.308 Q-154.354 649.205 -152.89 651.878 L-158.301 651.878 Q-159.542 648.664 -160.147 645.64 Q-160.784 642.616 -160.784 639.752 Q-160.784 632.017 -156.773 628.198 Q-152.763 624.379 -144.615 624.379 Z\" fill=\"#000000\" fill-rule=\"evenodd\" fill-opacity=\"1\" /><path clip-path=\"url(#clip030)\" d=\"M 0 0 M-173.801 604.549 L-115.683 604.549 L-115.683 618.045 L-120.234 618.045 L-120.234 610.438 L-169.25 610.438 L-169.25 618.045 L-173.801 618.045 L-173.801 604.549 Z\" fill=\"#000000\" fill-rule=\"evenodd\" fill-opacity=\"1\" /><path clip-path=\"url(#clip030)\" d=\"M 0 0 M822.678 12.096 L873.841 12.096 L873.841 18.9825 L852.371 18.9825 L852.371 72.576 L844.148 72.576 L844.148 18.9825 L822.678 18.9825 L822.678 12.096 Z\" fill=\"#000000\" fill-rule=\"evenodd\" fill-opacity=\"1\" /><path clip-path=\"url(#clip030)\" d=\"M 0 0 M895.756 34.1734 Q894.5 33.4443 893.002 33.1202 Q891.543 32.7556 889.761 32.7556 Q883.441 32.7556 880.039 36.8875 Q876.676 40.9789 876.676 48.6757 L876.676 72.576 L869.182 72.576 L869.182 27.2059 L876.676 27.2059 L876.676 34.2544 Q879.026 30.1225 882.793 28.1376 Q886.561 26.1121 891.948 26.1121 Q892.718 26.1121 893.65 26.2337 Q894.581 26.3147 895.716 26.5172 L895.756 34.1734 Z\" fill=\"#000000\" fill-rule=\"evenodd\" fill-opacity=\"1\" /><path clip-path=\"url(#clip030)\" d=\"M 0 0 M924.194 49.7694 Q915.16 49.7694 911.676 51.8354 Q908.192 53.9013 908.192 58.8839 Q908.192 62.8538 910.785 65.2034 Q913.418 67.5124 917.915 67.5124 Q924.113 67.5124 927.839 63.1374 Q931.607 58.7219 931.607 51.4303 L931.607 49.7694 L924.194 49.7694 M939.06 46.6907 L939.06 72.576 L931.607 72.576 L931.607 65.6895 Q929.055 69.8214 925.247 71.8063 Q921.439 73.7508 915.93 73.7508 Q908.962 73.7508 904.83 69.8619 Q900.739 65.9325 900.739 59.3701 Q900.739 51.7138 905.843 47.825 Q910.988 43.9361 921.155 43.9361 L931.607 43.9361 L931.607 43.2069 Q931.607 38.0623 928.204 35.2672 Q924.842 32.4315 918.725 32.4315 Q914.836 32.4315 911.15 33.3632 Q907.463 34.295 904.061 36.1584 L904.061 29.2718 Q908.152 27.692 912 26.9223 Q915.849 26.1121 919.494 26.1121 Q929.338 26.1121 934.199 31.2163 Q939.06 36.3204 939.06 46.6907 Z\" fill=\"#000000\" fill-rule=\"evenodd\" fill-opacity=\"1\" /><path clip-path=\"url(#clip030)\" d=\"M 0 0 M979.529 28.9478 L979.529 35.9153 Q976.369 34.1734 973.169 33.3227 Q970.009 32.4315 966.769 32.4315 Q959.517 32.4315 955.507 37.0496 Q951.497 41.6271 951.497 49.9314 Q951.497 58.2358 955.507 62.8538 Q959.517 67.4314 966.769 67.4314 Q970.009 67.4314 973.169 66.5807 Q976.369 65.6895 979.529 63.9476 L979.529 70.8341 Q976.41 72.2924 973.047 73.0216 Q969.726 73.7508 965.958 73.7508 Q955.71 73.7508 949.674 67.3098 Q943.638 60.8689 943.638 49.9314 Q943.638 38.832 949.714 32.472 Q955.831 26.1121 966.444 26.1121 Q969.888 26.1121 973.169 26.8413 Q976.45 27.5299 979.529 28.9478 Z\" fill=\"#000000\" fill-rule=\"evenodd\" fill-opacity=\"1\" /><path clip-path=\"url(#clip030)\" d=\"M 0 0 M994.72 14.324 L994.72 27.2059 L1010.07 27.2059 L1010.07 32.9987 L994.72 32.9987 L994.72 57.6282 Q994.72 63.1779 996.219 64.7578 Q997.758 66.3376 1002.42 66.3376 L1010.07 66.3376 L1010.07 72.576 L1002.42 72.576 Q993.788 72.576 990.507 69.3758 Q987.226 66.1351 987.226 57.6282 L987.226 32.9987 L981.757 32.9987 L981.757 27.2059 L987.226 27.2059 L987.226 14.324 L994.72 14.324 Z\" fill=\"#000000\" fill-rule=\"evenodd\" fill-opacity=\"1\" /><path clip-path=\"url(#clip030)\" d=\"M 0 0 M1017.89 27.2059 L1025.34 27.2059 L1025.34 72.576 L1017.89 72.576 L1017.89 27.2059 M1017.89 9.54393 L1025.34 9.54393 L1025.34 18.9825 L1017.89 18.9825 L1017.89 9.54393 Z\" fill=\"#000000\" fill-rule=\"evenodd\" fill-opacity=\"1\" /><path clip-path=\"url(#clip030)\" d=\"M 0 0 M1050.74 32.4315 Q1044.75 32.4315 1041.26 37.1306 Q1037.78 41.7891 1037.78 49.9314 Q1037.78 58.0738 1041.22 62.7728 Q1044.71 67.4314 1050.74 67.4314 Q1056.7 67.4314 1060.18 62.7323 Q1063.67 58.0333 1063.67 49.9314 Q1063.67 41.8701 1060.18 37.1711 Q1056.7 32.4315 1050.74 32.4315 M1050.74 26.1121 Q1060.47 26.1121 1066.02 32.4315 Q1071.57 38.7509 1071.57 49.9314 Q1071.57 61.0714 1066.02 67.4314 Q1060.47 73.7508 1050.74 73.7508 Q1040.98 73.7508 1035.43 67.4314 Q1029.92 61.0714 1029.92 49.9314 Q1029.92 38.7509 1035.43 32.4315 Q1040.98 26.1121 1050.74 26.1121 Z\" fill=\"#000000\" fill-rule=\"evenodd\" fill-opacity=\"1\" /><path clip-path=\"url(#clip030)\" d=\"M 0 0 M1117.1 45.1919 L1117.1 72.576 L1109.64 72.576 L1109.64 45.4349 Q1109.64 38.994 1107.13 35.7938 Q1104.62 32.5936 1099.6 32.5936 Q1093.56 32.5936 1090.08 36.4419 Q1086.59 40.2903 1086.59 46.9338 L1086.59 72.576 L1079.1 72.576 L1079.1 27.2059 L1086.59 27.2059 L1086.59 34.2544 Q1089.27 30.163 1092.87 28.1376 Q1096.52 26.1121 1101.26 26.1121 Q1109.08 26.1121 1113.09 30.9732 Q1117.1 35.7938 1117.1 45.1919 Z\" fill=\"#000000\" fill-rule=\"evenodd\" fill-opacity=\"1\" /><path clip-path=\"url(#clip030)\" d=\"M 0 0 M1121.15 46.5287 L1142.98 46.5287 L1142.98 53.1722 L1121.15 53.1722 L1121.15 46.5287 Z\" fill=\"#000000\" fill-rule=\"evenodd\" fill-opacity=\"1\" /><path clip-path=\"url(#clip030)\" d=\"M 0 0 M1180.66 34.0924 L1180.66 9.54393 L1188.11 9.54393 L1188.11 72.576 L1180.66 72.576 L1180.66 65.7705 Q1178.31 69.8214 1174.7 71.8063 Q1171.14 73.7508 1166.11 73.7508 Q1157.89 73.7508 1152.71 67.1883 Q1147.56 60.6258 1147.56 49.9314 Q1147.56 39.2371 1152.71 32.6746 Q1157.89 26.1121 1166.11 26.1121 Q1171.14 26.1121 1174.7 28.0971 Q1178.31 30.0415 1180.66 34.0924 M1155.26 49.9314 Q1155.26 58.1548 1158.62 62.8538 Q1162.02 67.5124 1167.94 67.5124 Q1173.85 67.5124 1177.25 62.8538 Q1180.66 58.1548 1180.66 49.9314 Q1180.66 41.7081 1177.25 37.0496 Q1173.85 32.3505 1167.94 32.3505 Q1162.02 32.3505 1158.62 37.0496 Q1155.26 41.7081 1155.26 49.9314 Z\" fill=\"#000000\" fill-rule=\"evenodd\" fill-opacity=\"1\" /><path clip-path=\"url(#clip030)\" d=\"M 0 0 M1195.93 27.2059 L1203.38 27.2059 L1203.38 72.576 L1195.93 72.576 L1195.93 27.2059 M1195.93 9.54393 L1203.38 9.54393 L1203.38 18.9825 L1195.93 18.9825 L1195.93 9.54393 Z\" fill=\"#000000\" fill-rule=\"evenodd\" fill-opacity=\"1\" /><path clip-path=\"url(#clip030)\" d=\"M 0 0 M1240.12 28.5427 L1240.12 35.5912 Q1236.96 33.9709 1233.56 33.1607 Q1230.16 32.3505 1226.51 32.3505 Q1220.96 32.3505 1218.17 34.0519 Q1215.41 35.7533 1215.41 39.156 Q1215.41 41.7486 1217.4 43.2475 Q1219.38 44.7058 1225.38 46.0426 L1227.93 46.6097 Q1235.87 48.3111 1239.19 51.4303 Q1242.55 54.509 1242.55 60.0587 Q1242.55 66.3781 1237.53 70.0644 Q1232.55 73.7508 1223.8 73.7508 Q1220.15 73.7508 1216.18 73.0216 Q1212.25 72.3329 1207.88 70.9151 L1207.88 63.2184 Q1212.01 65.3654 1216.02 66.4591 Q1220.03 67.5124 1223.96 67.5124 Q1229.23 67.5124 1232.06 65.73 Q1234.9 63.9071 1234.9 60.6258 Q1234.9 57.5877 1232.83 55.9673 Q1230.81 54.3469 1223.88 52.8481 L1221.29 52.2405 Q1214.36 50.7821 1211.28 47.7845 Q1208.2 44.7463 1208.2 39.4801 Q1208.2 33.0797 1212.74 29.5959 Q1217.28 26.1121 1225.62 26.1121 Q1229.75 26.1121 1233.4 26.7198 Q1237.04 27.3274 1240.12 28.5427 Z\" fill=\"#000000\" fill-rule=\"evenodd\" fill-opacity=\"1\" /><path clip-path=\"url(#clip030)\" d=\"M 0 0 M1257.58 65.7705 L1257.58 89.8329 L1250.09 89.8329 L1250.09 27.2059 L1257.58 27.2059 L1257.58 34.0924 Q1259.93 30.0415 1263.5 28.0971 Q1267.1 26.1121 1272.09 26.1121 Q1280.35 26.1121 1285.49 32.6746 Q1290.68 39.2371 1290.68 49.9314 Q1290.68 60.6258 1285.49 67.1883 Q1280.35 73.7508 1272.09 73.7508 Q1267.1 73.7508 1263.5 71.8063 Q1259.93 69.8214 1257.58 65.7705 M1282.94 49.9314 Q1282.94 41.7081 1279.54 37.0496 Q1276.18 32.3505 1270.26 32.3505 Q1264.35 32.3505 1260.95 37.0496 Q1257.58 41.7081 1257.58 49.9314 Q1257.58 58.1548 1260.95 62.8538 Q1264.35 67.5124 1270.26 67.5124 Q1276.18 67.5124 1279.54 62.8538 Q1282.94 58.1548 1282.94 49.9314 Z\" fill=\"#000000\" fill-rule=\"evenodd\" fill-opacity=\"1\" /><path clip-path=\"url(#clip030)\" d=\"M 0 0 M1298.5 9.54393 L1305.95 9.54393 L1305.95 72.576 L1298.5 72.576 L1298.5 9.54393 Z\" fill=\"#000000\" fill-rule=\"evenodd\" fill-opacity=\"1\" /><path clip-path=\"url(#clip030)\" d=\"M 0 0 M1334.39 49.7694 Q1325.35 49.7694 1321.87 51.8354 Q1318.39 53.9013 1318.39 58.8839 Q1318.39 62.8538 1320.98 65.2034 Q1323.61 67.5124 1328.11 67.5124 Q1334.31 67.5124 1338.03 63.1374 Q1341.8 58.7219 1341.8 51.4303 L1341.8 49.7694 L1334.39 49.7694 M1349.25 46.6907 L1349.25 72.576 L1341.8 72.576 L1341.8 65.6895 Q1339.25 69.8214 1335.44 71.8063 Q1331.63 73.7508 1326.12 73.7508 Q1319.16 73.7508 1315.02 69.8619 Q1310.93 65.9325 1310.93 59.3701 Q1310.93 51.7138 1316.04 47.825 Q1321.18 43.9361 1331.35 43.9361 L1341.8 43.9361 L1341.8 43.2069 Q1341.8 38.0623 1338.4 35.2672 Q1335.04 32.4315 1328.92 32.4315 Q1325.03 32.4315 1321.34 33.3632 Q1317.66 34.295 1314.26 36.1584 L1314.26 29.2718 Q1318.35 27.692 1322.19 26.9223 Q1326.04 26.1121 1329.69 26.1121 Q1339.53 26.1121 1344.39 31.2163 Q1349.25 36.3204 1349.25 46.6907 Z\" fill=\"#000000\" fill-rule=\"evenodd\" fill-opacity=\"1\" /><path clip-path=\"url(#clip030)\" d=\"M 0 0 M1389.72 28.9478 L1389.72 35.9153 Q1386.56 34.1734 1383.36 33.3227 Q1380.2 32.4315 1376.96 32.4315 Q1369.71 32.4315 1365.7 37.0496 Q1361.69 41.6271 1361.69 49.9314 Q1361.69 58.2358 1365.7 62.8538 Q1369.71 67.4314 1376.96 67.4314 Q1380.2 67.4314 1383.36 66.5807 Q1386.56 65.6895 1389.72 63.9476 L1389.72 70.8341 Q1386.6 72.2924 1383.24 73.0216 Q1379.92 73.7508 1376.15 73.7508 Q1365.9 73.7508 1359.87 67.3098 Q1353.83 60.8689 1353.83 49.9314 Q1353.83 38.832 1359.91 32.472 Q1366.03 26.1121 1376.64 26.1121 Q1380.08 26.1121 1383.36 26.8413 Q1386.64 27.5299 1389.72 28.9478 Z\" fill=\"#000000\" fill-rule=\"evenodd\" fill-opacity=\"1\" /><path clip-path=\"url(#clip030)\" d=\"M 0 0 M1436.35 48.0275 L1436.35 51.6733 L1402.08 51.6733 Q1402.56 59.3701 1406.7 63.421 Q1410.87 67.4314 1418.28 67.4314 Q1422.58 67.4314 1426.59 66.3781 Q1430.64 65.3249 1434.61 63.2184 L1434.61 70.267 Q1430.6 71.9684 1426.38 72.8596 Q1422.17 73.7508 1417.84 73.7508 Q1406.98 73.7508 1400.62 67.4314 Q1394.3 61.1119 1394.3 50.3365 Q1394.3 39.1965 1400.3 32.6746 Q1406.33 26.1121 1416.54 26.1121 Q1425.7 26.1121 1431 32.0264 Q1436.35 37.9003 1436.35 48.0275 M1428.9 45.84 Q1428.81 39.7232 1425.45 36.0774 Q1422.13 32.4315 1416.62 32.4315 Q1410.38 32.4315 1406.62 35.9558 Q1402.89 39.4801 1402.32 45.8805 L1428.9 45.84 Z\" fill=\"#000000\" fill-rule=\"evenodd\" fill-opacity=\"1\" /><path clip-path=\"url(#clip030)\" d=\"M 0 0 M1479.49 35.9153 Q1482.29 30.8922 1486.18 28.5022 Q1490.06 26.1121 1495.33 26.1121 Q1502.42 26.1121 1506.27 31.0947 Q1510.12 36.0368 1510.12 45.1919 L1510.12 72.576 L1502.62 72.576 L1502.62 45.4349 Q1502.62 38.913 1500.31 35.7533 Q1498 32.5936 1493.26 32.5936 Q1487.47 32.5936 1484.11 36.4419 Q1480.75 40.2903 1480.75 46.9338 L1480.75 72.576 L1473.25 72.576 L1473.25 45.4349 Q1473.25 38.8725 1470.94 35.7533 Q1468.64 32.5936 1463.81 32.5936 Q1458.1 32.5936 1454.74 36.4824 Q1451.38 40.3308 1451.38 46.9338 L1451.38 72.576 L1443.88 72.576 L1443.88 27.2059 L1451.38 27.2059 L1451.38 34.2544 Q1453.93 30.082 1457.5 28.0971 Q1461.06 26.1121 1465.96 26.1121 Q1470.9 26.1121 1474.35 28.6237 Q1477.83 31.1352 1479.49 35.9153 Z\" fill=\"#000000\" fill-rule=\"evenodd\" fill-opacity=\"1\" /><path clip-path=\"url(#clip030)\" d=\"M 0 0 M1556.74 48.0275 L1556.74 51.6733 L1522.47 51.6733 Q1522.96 59.3701 1527.09 63.421 Q1531.26 67.4314 1538.68 67.4314 Q1542.97 67.4314 1546.98 66.3781 Q1551.03 65.3249 1555 63.2184 L1555 70.267 Q1550.99 71.9684 1546.78 72.8596 Q1542.56 73.7508 1538.23 73.7508 Q1527.37 73.7508 1521.01 67.4314 Q1514.69 61.1119 1514.69 50.3365 Q1514.69 39.1965 1520.69 32.6746 Q1526.73 26.1121 1536.93 26.1121 Q1546.09 26.1121 1551.4 32.0264 Q1556.74 37.9003 1556.74 48.0275 M1549.29 45.84 Q1549.21 39.7232 1545.85 36.0774 Q1542.52 32.4315 1537.01 32.4315 Q1530.78 32.4315 1527.01 35.9558 Q1523.28 39.4801 1522.71 45.8805 L1549.29 45.84 Z\" fill=\"#000000\" fill-rule=\"evenodd\" fill-opacity=\"1\" /><path clip-path=\"url(#clip030)\" d=\"M 0 0 M1602.27 45.1919 L1602.27 72.576 L1594.82 72.576 L1594.82 45.4349 Q1594.82 38.994 1592.31 35.7938 Q1589.8 32.5936 1584.77 32.5936 Q1578.74 32.5936 1575.25 36.4419 Q1571.77 40.2903 1571.77 46.9338 L1571.77 72.576 L1564.28 72.576 L1564.28 27.2059 L1571.77 27.2059 L1571.77 34.2544 Q1574.44 30.163 1578.05 28.1376 Q1581.7 26.1121 1586.44 26.1121 Q1594.25 26.1121 1598.26 30.9732 Q1602.27 35.7938 1602.27 45.1919 Z\" fill=\"#000000\" fill-rule=\"evenodd\" fill-opacity=\"1\" /><path clip-path=\"url(#clip030)\" d=\"M 0 0 M1617.47 14.324 L1617.47 27.2059 L1632.82 27.2059 L1632.82 32.9987 L1617.47 32.9987 L1617.47 57.6282 Q1617.47 63.1779 1618.96 64.7578 Q1620.5 66.3376 1625.16 66.3376 L1632.82 66.3376 L1632.82 72.576 L1625.16 72.576 Q1616.53 72.576 1613.25 69.3758 Q1609.97 66.1351 1609.97 57.6282 L1609.97 32.9987 L1604.5 32.9987 L1604.5 27.2059 L1609.97 27.2059 L1609.97 14.324 L1617.47 14.324 Z\" fill=\"#000000\" fill-rule=\"evenodd\" fill-opacity=\"1\" /><polyline clip-path=\"url(#clip032)\" style=\"stroke:#009af9; stroke-width:8; stroke-opacity:1; fill:none\" points=\"\n",
       "  166.42,1464.44 735.099,784.126 802.317,708.535 882.789,632.945 974.468,557.354 1082.28,481.764 1223.57,406.173 1422.9,330.583 1674.04,254.992 1964.03,179.402 \n",
       "  2289.08,103.811 \n",
       "  \"/>\n",
       "<circle clip-path=\"url(#clip032)\" cx=\"166.42\" cy=\"1464.44\" r=\"14\" fill=\"#009af9\" fill-rule=\"evenodd\" fill-opacity=\"1\" stroke=\"#000000\" stroke-opacity=\"1\" stroke-width=\"3.2\"/>\n",
       "<circle clip-path=\"url(#clip032)\" cx=\"735.099\" cy=\"784.126\" r=\"14\" fill=\"#009af9\" fill-rule=\"evenodd\" fill-opacity=\"1\" stroke=\"#000000\" stroke-opacity=\"1\" stroke-width=\"3.2\"/>\n",
       "<circle clip-path=\"url(#clip032)\" cx=\"802.317\" cy=\"708.535\" r=\"14\" fill=\"#009af9\" fill-rule=\"evenodd\" fill-opacity=\"1\" stroke=\"#000000\" stroke-opacity=\"1\" stroke-width=\"3.2\"/>\n",
       "<circle clip-path=\"url(#clip032)\" cx=\"882.789\" cy=\"632.945\" r=\"14\" fill=\"#009af9\" fill-rule=\"evenodd\" fill-opacity=\"1\" stroke=\"#000000\" stroke-opacity=\"1\" stroke-width=\"3.2\"/>\n",
       "<circle clip-path=\"url(#clip032)\" cx=\"974.468\" cy=\"557.354\" r=\"14\" fill=\"#009af9\" fill-rule=\"evenodd\" fill-opacity=\"1\" stroke=\"#000000\" stroke-opacity=\"1\" stroke-width=\"3.2\"/>\n",
       "<circle clip-path=\"url(#clip032)\" cx=\"1082.28\" cy=\"481.764\" r=\"14\" fill=\"#009af9\" fill-rule=\"evenodd\" fill-opacity=\"1\" stroke=\"#000000\" stroke-opacity=\"1\" stroke-width=\"3.2\"/>\n",
       "<circle clip-path=\"url(#clip032)\" cx=\"1223.57\" cy=\"406.173\" r=\"14\" fill=\"#009af9\" fill-rule=\"evenodd\" fill-opacity=\"1\" stroke=\"#000000\" stroke-opacity=\"1\" stroke-width=\"3.2\"/>\n",
       "<circle clip-path=\"url(#clip032)\" cx=\"1422.9\" cy=\"330.583\" r=\"14\" fill=\"#009af9\" fill-rule=\"evenodd\" fill-opacity=\"1\" stroke=\"#000000\" stroke-opacity=\"1\" stroke-width=\"3.2\"/>\n",
       "<circle clip-path=\"url(#clip032)\" cx=\"1674.04\" cy=\"254.992\" r=\"14\" fill=\"#009af9\" fill-rule=\"evenodd\" fill-opacity=\"1\" stroke=\"#000000\" stroke-opacity=\"1\" stroke-width=\"3.2\"/>\n",
       "<circle clip-path=\"url(#clip032)\" cx=\"1964.03\" cy=\"179.402\" r=\"14\" fill=\"#009af9\" fill-rule=\"evenodd\" fill-opacity=\"1\" stroke=\"#000000\" stroke-opacity=\"1\" stroke-width=\"3.2\"/>\n",
       "<circle clip-path=\"url(#clip032)\" cx=\"2289.08\" cy=\"103.811\" r=\"14\" fill=\"#009af9\" fill-rule=\"evenodd\" fill-opacity=\"1\" stroke=\"#000000\" stroke-opacity=\"1\" stroke-width=\"3.2\"/>\n",
       "<path clip-path=\"url(#clip030)\" d=\"\n",
       "M1969.03 232.028 L2277.76 232.028 L2277.76 111.068 L1969.03 111.068  Z\n",
       "  \" fill=\"#ffffff\" fill-rule=\"evenodd\" fill-opacity=\"1\"/>\n",
       "<polyline clip-path=\"url(#clip030)\" style=\"stroke:#000000; stroke-width:4; stroke-opacity:1; fill:none\" points=\"\n",
       "  1969.03,232.028 2277.76,232.028 2277.76,111.068 1969.03,111.068 1969.03,232.028 \n",
       "  \"/>\n",
       "<polyline clip-path=\"url(#clip030)\" style=\"stroke:#009af9; stroke-width:4; stroke-opacity:1; fill:none\" points=\"\n",
       "  1994.03,171.548 2144.03,171.548 \n",
       "  \"/>\n",
       "<circle clip-path=\"url(#clip030)\" cx=\"2069.03\" cy=\"171.548\" r=\"23\" fill=\"#009af9\" fill-rule=\"evenodd\" fill-opacity=\"1\" stroke=\"#000000\" stroke-opacity=\"1\" stroke-width=\"5.12\"/>\n",
       "<path clip-path=\"url(#clip030)\" d=\"M 0 0 M2169.03 152.809 L2178.84 152.809 L2178.84 156.12 L2173.29 156.12 L2173.29 191.768 L2178.84 191.768 L2178.84 195.078 L2169.03 195.078 L2169.03 152.809 Z\" fill=\"#000000\" fill-rule=\"evenodd\" fill-opacity=\"1\" /><path clip-path=\"url(#clip030)\" d=\"M 0 0 M2187.34 154.268 L2187.34 167.115 L2183.4 167.115 L2183.4 154.268 L2187.34 154.268 M2196.09 154.268 L2196.09 167.115 L2192.15 167.115 L2192.15 154.268 L2196.09 154.268 Z\" fill=\"#000000\" fill-rule=\"evenodd\" fill-opacity=\"1\" /><path clip-path=\"url(#clip030)\" d=\"M 0 0 M2204.58 154.268 L2204.58 167.115 L2200.65 167.115 L2200.65 154.268 L2204.58 154.268 M2213.33 154.268 L2213.33 167.115 L2209.4 167.115 L2209.4 154.268 L2213.33 154.268 Z\" fill=\"#000000\" fill-rule=\"evenodd\" fill-opacity=\"1\" /><path clip-path=\"url(#clip030)\" d=\"M 0 0 M2227.76 152.809 L2227.76 195.078 L2217.94 195.078 L2217.94 191.768 L2223.47 191.768 L2223.47 156.12 L2217.94 156.12 L2217.94 152.809 L2227.76 152.809 Z\" fill=\"#000000\" fill-rule=\"evenodd\" fill-opacity=\"1\" /></svg>\n"
      ],
      "image/svg+xml": [
       "<?xml version=\"1.0\" encoding=\"utf-8\"?>\n",
       "<svg xmlns=\"http://www.w3.org/2000/svg\" xmlns:xlink=\"http://www.w3.org/1999/xlink\" width=\"600\" height=\"400\" viewBox=\"0 0 2400 1600\">\n",
       "<defs>\n",
       "  <clipPath id=\"clip000\">\n",
       "    <rect x=\"0\" y=\"0\" width=\"2400\" height=\"1600\"/>\n",
       "  </clipPath>\n",
       "</defs>\n",
       "<path clip-path=\"url(#clip000)\" d=\"\n",
       "M0 1600 L2400 1600 L2400 0 L0 0  Z\n",
       "  \" fill=\"#ffffff\" fill-rule=\"evenodd\" fill-opacity=\"1\"/>\n",
       "<defs>\n",
       "  <clipPath id=\"clip001\">\n",
       "    <rect x=\"480\" y=\"0\" width=\"1681\" height=\"1600\"/>\n",
       "  </clipPath>\n",
       "</defs>\n",
       "<path clip-path=\"url(#clip000)\" d=\"\n",
       "M0 1505.26 L1.93551e+254 1505.26 L1.93551e+254 62.9921 L0 62.9921  Z\n",
       "  \" fill=\"#ffffff\" fill-rule=\"evenodd\" fill-opacity=\"1\"/>\n",
       "<polyline clip-path=\"url(#clip001)\" style=\"stroke:#000000; stroke-width:2; stroke-opacity:0.1; fill:none\" points=\"\n",
       "  527.547,1120 527.547,-560 \n",
       "  \"/>\n",
       "<polyline clip-path=\"url(#clip001)\" style=\"stroke:#000000; stroke-width:2; stroke-opacity:0.1; fill:none\" points=\"\n",
       "  838.981,1120 838.981,-560 \n",
       "  \"/>\n",
       "<polyline clip-path=\"url(#clip001)\" style=\"stroke:#000000; stroke-width:2; stroke-opacity:0.1; fill:none\" points=\"\n",
       "  1150.42,1120 1150.42,-560 \n",
       "  \"/>\n",
       "<polyline clip-path=\"url(#clip001)\" style=\"stroke:#000000; stroke-width:2; stroke-opacity:0.1; fill:none\" points=\"\n",
       "  1461.85,1120 1461.85,-560 \n",
       "  \"/>\n",
       "<polyline clip-path=\"url(#clip001)\" style=\"stroke:#000000; stroke-width:2; stroke-opacity:0.1; fill:none\" points=\"\n",
       "  1773.28,1120 1773.28,-560 \n",
       "  \"/>\n",
       "<polyline clip-path=\"url(#clip001)\" style=\"stroke:#000000; stroke-width:2; stroke-opacity:0.1; fill:none\" points=\"\n",
       "  2084.72,1120 2084.72,-560 \n",
       "  \"/>\n",
       "<polyline clip-path=\"url(#clip000)\" style=\"stroke:#000000; stroke-width:4; stroke-opacity:1; fill:none\" points=\"\n",
       "  480,1120 2160,1120 \n",
       "  \"/>\n",
       "<polyline clip-path=\"url(#clip000)\" style=\"stroke:#000000; stroke-width:4; stroke-opacity:1; fill:none\" points=\"\n",
       "  527.547,1120 527.547,1099.84 \n",
       "  \"/>\n",
       "<polyline clip-path=\"url(#clip000)\" style=\"stroke:#000000; stroke-width:4; stroke-opacity:1; fill:none\" points=\"\n",
       "  838.981,1120 838.981,1099.84 \n",
       "  \"/>\n",
       "<polyline clip-path=\"url(#clip000)\" style=\"stroke:#000000; stroke-width:4; stroke-opacity:1; fill:none\" points=\"\n",
       "  1150.42,1120 1150.42,1099.84 \n",
       "  \"/>\n",
       "<polyline clip-path=\"url(#clip000)\" style=\"stroke:#000000; stroke-width:4; stroke-opacity:1; fill:none\" points=\"\n",
       "  1461.85,1120 1461.85,1099.84 \n",
       "  \"/>\n",
       "<polyline clip-path=\"url(#clip000)\" style=\"stroke:#000000; stroke-width:4; stroke-opacity:1; fill:none\" points=\"\n",
       "  1773.28,1120 1773.28,1099.84 \n",
       "  \"/>\n",
       "<polyline clip-path=\"url(#clip000)\" style=\"stroke:#000000; stroke-width:4; stroke-opacity:1; fill:none\" points=\"\n",
       "  2084.72,1120 2084.72,1099.84 \n",
       "  \"/>\n",
       "<path clip-path=\"url(#clip000)\" d=\"M 0 0 M495.557 1149.19 Q491.946 1149.19 490.117 1152.76 Q488.311 1156.3 488.311 1163.43 Q488.311 1170.53 490.117 1174.1 Q491.946 1177.64 495.557 1177.64 Q499.191 1177.64 500.996 1174.1 Q502.825 1170.53 502.825 1163.43 Q502.825 1156.3 500.996 1152.76 Q499.191 1149.19 495.557 1149.19 M495.557 1145.49 Q501.367 1145.49 504.422 1150.09 Q507.501 1154.68 507.501 1163.43 Q507.501 1172.15 504.422 1176.76 Q501.367 1181.34 495.557 1181.34 Q489.746 1181.34 486.668 1176.76 Q483.612 1172.15 483.612 1163.43 Q483.612 1154.68 486.668 1150.09 Q489.746 1145.49 495.557 1145.49 Z\" fill=\"#000000\" fill-rule=\"evenodd\" fill-opacity=\"1\" /><path clip-path=\"url(#clip000)\" d=\"M 0 0 M512.57 1174.79 L517.455 1174.79 L517.455 1180.67 L512.57 1180.67 L512.57 1174.79 Z\" fill=\"#000000\" fill-rule=\"evenodd\" fill-opacity=\"1\" /><path clip-path=\"url(#clip000)\" d=\"M 0 0 M532.524 1149.19 Q528.913 1149.19 527.084 1152.76 Q525.279 1156.3 525.279 1163.43 Q525.279 1170.53 527.084 1174.1 Q528.913 1177.64 532.524 1177.64 Q536.158 1177.64 537.964 1174.1 Q539.792 1170.53 539.792 1163.43 Q539.792 1156.3 537.964 1152.76 Q536.158 1149.19 532.524 1149.19 M532.524 1145.49 Q538.334 1145.49 541.39 1150.09 Q544.468 1154.68 544.468 1163.43 Q544.468 1172.15 541.39 1176.76 Q538.334 1181.34 532.524 1181.34 Q526.714 1181.34 523.635 1176.76 Q520.58 1172.15 520.58 1163.43 Q520.58 1154.68 523.635 1150.09 Q526.714 1145.49 532.524 1145.49 Z\" fill=\"#000000\" fill-rule=\"evenodd\" fill-opacity=\"1\" /><path clip-path=\"url(#clip000)\" d=\"M 0 0 M559.538 1149.19 Q555.927 1149.19 554.098 1152.76 Q552.292 1156.3 552.292 1163.43 Q552.292 1170.53 554.098 1174.1 Q555.927 1177.64 559.538 1177.64 Q563.172 1177.64 564.978 1174.1 Q566.806 1170.53 566.806 1163.43 Q566.806 1156.3 564.978 1152.76 Q563.172 1149.19 559.538 1149.19 M559.538 1145.49 Q565.348 1145.49 568.403 1150.09 Q571.482 1154.68 571.482 1163.43 Q571.482 1172.15 568.403 1176.76 Q565.348 1181.34 559.538 1181.34 Q553.728 1181.34 550.649 1176.76 Q547.593 1172.15 547.593 1163.43 Q547.593 1154.68 550.649 1150.09 Q553.728 1145.49 559.538 1145.49 Z\" fill=\"#000000\" fill-rule=\"evenodd\" fill-opacity=\"1\" /><path clip-path=\"url(#clip000)\" d=\"M 0 0 M807.489 1149.19 Q803.877 1149.19 802.049 1152.76 Q800.243 1156.3 800.243 1163.43 Q800.243 1170.53 802.049 1174.1 Q803.877 1177.64 807.489 1177.64 Q811.123 1177.64 812.928 1174.1 Q814.757 1170.53 814.757 1163.43 Q814.757 1156.3 812.928 1152.76 Q811.123 1149.19 807.489 1149.19 M807.489 1145.49 Q813.299 1145.49 816.354 1150.09 Q819.433 1154.68 819.433 1163.43 Q819.433 1172.15 816.354 1176.76 Q813.299 1181.34 807.489 1181.34 Q801.678 1181.34 798.6 1176.76 Q795.544 1172.15 795.544 1163.43 Q795.544 1154.68 798.6 1150.09 Q801.678 1145.49 807.489 1145.49 Z\" fill=\"#000000\" fill-rule=\"evenodd\" fill-opacity=\"1\" /><path clip-path=\"url(#clip000)\" d=\"M 0 0 M824.502 1174.79 L829.387 1174.79 L829.387 1180.67 L824.502 1180.67 L824.502 1174.79 Z\" fill=\"#000000\" fill-rule=\"evenodd\" fill-opacity=\"1\" /><path clip-path=\"url(#clip000)\" d=\"M 0 0 M844.456 1149.19 Q840.845 1149.19 839.016 1152.76 Q837.211 1156.3 837.211 1163.43 Q837.211 1170.53 839.016 1174.1 Q840.845 1177.64 844.456 1177.64 Q848.09 1177.64 849.896 1174.1 Q851.724 1170.53 851.724 1163.43 Q851.724 1156.3 849.896 1152.76 Q848.09 1149.19 844.456 1149.19 M844.456 1145.49 Q850.266 1145.49 853.322 1150.09 Q856.4 1154.68 856.4 1163.43 Q856.4 1172.15 853.322 1176.76 Q850.266 1181.34 844.456 1181.34 Q838.646 1181.34 835.567 1176.76 Q832.512 1172.15 832.512 1163.43 Q832.512 1154.68 835.567 1150.09 Q838.646 1145.49 844.456 1145.49 Z\" fill=\"#000000\" fill-rule=\"evenodd\" fill-opacity=\"1\" /><path clip-path=\"url(#clip000)\" d=\"M 0 0 M861.516 1146.11 L879.872 1146.11 L879.872 1150.05 L865.798 1150.05 L865.798 1158.52 Q866.817 1158.17 867.835 1158.01 Q868.854 1157.82 869.873 1157.82 Q875.66 1157.82 879.039 1161 Q882.419 1164.17 882.419 1169.58 Q882.419 1175.16 878.947 1178.26 Q875.474 1181.34 869.155 1181.34 Q866.979 1181.34 864.711 1180.97 Q862.465 1180.6 860.058 1179.86 L860.058 1175.16 Q862.141 1176.3 864.363 1176.85 Q866.585 1177.41 869.062 1177.41 Q873.067 1177.41 875.405 1175.3 Q877.743 1173.2 877.743 1169.58 Q877.743 1165.97 875.405 1163.87 Q873.067 1161.76 869.062 1161.76 Q867.187 1161.76 865.312 1162.18 Q863.461 1162.59 861.516 1163.47 L861.516 1146.11 Z\" fill=\"#000000\" fill-rule=\"evenodd\" fill-opacity=\"1\" /><path clip-path=\"url(#clip000)\" d=\"M 0 0 M1119.04 1149.19 Q1115.43 1149.19 1113.6 1152.76 Q1111.79 1156.3 1111.79 1163.43 Q1111.79 1170.53 1113.6 1174.1 Q1115.43 1177.64 1119.04 1177.64 Q1122.67 1177.64 1124.48 1174.1 Q1126.31 1170.53 1126.31 1163.43 Q1126.31 1156.3 1124.48 1152.76 Q1122.67 1149.19 1119.04 1149.19 M1119.04 1145.49 Q1124.85 1145.49 1127.9 1150.09 Q1130.98 1154.68 1130.98 1163.43 Q1130.98 1172.15 1127.9 1176.76 Q1124.85 1181.34 1119.04 1181.34 Q1113.23 1181.34 1110.15 1176.76 Q1107.09 1172.15 1107.09 1163.43 Q1107.09 1154.68 1110.15 1150.09 Q1113.23 1145.49 1119.04 1145.49 Z\" fill=\"#000000\" fill-rule=\"evenodd\" fill-opacity=\"1\" /><path clip-path=\"url(#clip000)\" d=\"M 0 0 M1136.05 1174.79 L1140.94 1174.79 L1140.94 1180.67 L1136.05 1180.67 L1136.05 1174.79 Z\" fill=\"#000000\" fill-rule=\"evenodd\" fill-opacity=\"1\" /><path clip-path=\"url(#clip000)\" d=\"M 0 0 M1146.82 1176.74 L1154.46 1176.74 L1154.46 1150.37 L1146.14 1152.04 L1146.14 1147.78 L1154.41 1146.11 L1159.08 1146.11 L1159.08 1176.74 L1166.72 1176.74 L1166.72 1180.67 L1146.82 1180.67 L1146.82 1176.74 Z\" fill=\"#000000\" fill-rule=\"evenodd\" fill-opacity=\"1\" /><path clip-path=\"url(#clip000)\" d=\"M 0 0 M1181.79 1149.19 Q1178.18 1149.19 1176.35 1152.76 Q1174.55 1156.3 1174.55 1163.43 Q1174.55 1170.53 1176.35 1174.1 Q1178.18 1177.64 1181.79 1177.64 Q1185.43 1177.64 1187.23 1174.1 Q1189.06 1170.53 1189.06 1163.43 Q1189.06 1156.3 1187.23 1152.76 Q1185.43 1149.19 1181.79 1149.19 M1181.79 1145.49 Q1187.6 1145.49 1190.66 1150.09 Q1193.74 1154.68 1193.74 1163.43 Q1193.74 1172.15 1190.66 1176.76 Q1187.6 1181.34 1181.79 1181.34 Q1175.98 1181.34 1172.9 1176.76 Q1169.85 1172.15 1169.85 1163.43 Q1169.85 1154.68 1172.9 1150.09 Q1175.98 1145.49 1181.79 1145.49 Z\" fill=\"#000000\" fill-rule=\"evenodd\" fill-opacity=\"1\" /><path clip-path=\"url(#clip000)\" d=\"M 0 0 M1430.97 1149.19 Q1427.36 1149.19 1425.53 1152.76 Q1423.73 1156.3 1423.73 1163.43 Q1423.73 1170.53 1425.53 1174.1 Q1427.36 1177.64 1430.97 1177.64 Q1434.6 1177.64 1436.41 1174.1 Q1438.24 1170.53 1438.24 1163.43 Q1438.24 1156.3 1436.41 1152.76 Q1434.6 1149.19 1430.97 1149.19 M1430.97 1145.49 Q1436.78 1145.49 1439.84 1150.09 Q1442.92 1154.68 1442.92 1163.43 Q1442.92 1172.15 1439.84 1176.76 Q1436.78 1181.34 1430.97 1181.34 Q1425.16 1181.34 1422.08 1176.76 Q1419.03 1172.15 1419.03 1163.43 Q1419.03 1154.68 1422.08 1150.09 Q1425.16 1145.49 1430.97 1145.49 Z\" fill=\"#000000\" fill-rule=\"evenodd\" fill-opacity=\"1\" /><path clip-path=\"url(#clip000)\" d=\"M 0 0 M1447.98 1174.79 L1452.87 1174.79 L1452.87 1180.67 L1447.98 1180.67 L1447.98 1174.79 Z\" fill=\"#000000\" fill-rule=\"evenodd\" fill-opacity=\"1\" /><path clip-path=\"url(#clip000)\" d=\"M 0 0 M1458.75 1176.74 L1466.39 1176.74 L1466.39 1150.37 L1458.08 1152.04 L1458.08 1147.78 L1466.34 1146.11 L1471.02 1146.11 L1471.02 1176.74 L1478.66 1176.74 L1478.66 1180.67 L1458.75 1180.67 L1458.75 1176.74 Z\" fill=\"#000000\" fill-rule=\"evenodd\" fill-opacity=\"1\" /><path clip-path=\"url(#clip000)\" d=\"M 0 0 M1483.77 1146.11 L1502.13 1146.11 L1502.13 1150.05 L1488.05 1150.05 L1488.05 1158.52 Q1489.07 1158.17 1490.09 1158.01 Q1491.11 1157.82 1492.13 1157.82 Q1497.91 1157.82 1501.29 1161 Q1504.67 1164.17 1504.67 1169.58 Q1504.67 1175.16 1501.2 1178.26 Q1497.73 1181.34 1491.41 1181.34 Q1489.23 1181.34 1486.97 1180.97 Q1484.72 1180.6 1482.31 1179.86 L1482.31 1175.16 Q1484.4 1176.3 1486.62 1176.85 Q1488.84 1177.41 1491.32 1177.41 Q1495.32 1177.41 1497.66 1175.3 Q1500 1173.2 1500 1169.58 Q1500 1165.97 1497.66 1163.87 Q1495.32 1161.76 1491.32 1161.76 Q1489.44 1161.76 1487.57 1162.18 Q1485.72 1162.59 1483.77 1163.47 L1483.77 1146.11 Z\" fill=\"#000000\" fill-rule=\"evenodd\" fill-opacity=\"1\" /><path clip-path=\"url(#clip000)\" d=\"M 0 0 M1742.09 1149.19 Q1738.48 1149.19 1736.65 1152.76 Q1734.85 1156.3 1734.85 1163.43 Q1734.85 1170.53 1736.65 1174.1 Q1738.48 1177.64 1742.09 1177.64 Q1745.73 1177.64 1747.53 1174.1 Q1749.36 1170.53 1749.36 1163.43 Q1749.36 1156.3 1747.53 1152.76 Q1745.73 1149.19 1742.09 1149.19 M1742.09 1145.49 Q1747.9 1145.49 1750.96 1150.09 Q1754.04 1154.68 1754.04 1163.43 Q1754.04 1172.15 1750.96 1176.76 Q1747.9 1181.34 1742.09 1181.34 Q1736.28 1181.34 1733.2 1176.76 Q1730.15 1172.15 1730.15 1163.43 Q1730.15 1154.68 1733.2 1150.09 Q1736.28 1145.49 1742.09 1145.49 Z\" fill=\"#000000\" fill-rule=\"evenodd\" fill-opacity=\"1\" /><path clip-path=\"url(#clip000)\" d=\"M 0 0 M1759.11 1174.79 L1763.99 1174.79 L1763.99 1180.67 L1759.11 1180.67 L1759.11 1174.79 Z\" fill=\"#000000\" fill-rule=\"evenodd\" fill-opacity=\"1\" /><path clip-path=\"url(#clip000)\" d=\"M 0 0 M1773.09 1176.74 L1789.41 1176.74 L1789.41 1180.67 L1767.46 1180.67 L1767.46 1176.74 Q1770.12 1173.98 1774.71 1169.35 Q1779.31 1164.7 1780.5 1163.36 Q1782.74 1160.83 1783.62 1159.1 Q1784.52 1157.34 1784.52 1155.65 Q1784.52 1152.89 1782.58 1151.16 Q1780.66 1149.42 1777.56 1149.42 Q1775.36 1149.42 1772.9 1150.19 Q1770.47 1150.95 1767.69 1152.5 L1767.69 1147.78 Q1770.52 1146.64 1772.97 1146.07 Q1775.43 1145.49 1777.46 1145.49 Q1782.83 1145.49 1786.03 1148.17 Q1789.22 1150.86 1789.22 1155.35 Q1789.22 1157.48 1788.41 1159.4 Q1787.62 1161.3 1785.52 1163.89 Q1784.94 1164.56 1781.84 1167.78 Q1778.74 1170.97 1773.09 1176.74 Z\" fill=\"#000000\" fill-rule=\"evenodd\" fill-opacity=\"1\" /><path clip-path=\"url(#clip000)\" d=\"M 0 0 M1804.48 1149.19 Q1800.87 1149.19 1799.04 1152.76 Q1797.23 1156.3 1797.23 1163.43 Q1797.23 1170.53 1799.04 1174.1 Q1800.87 1177.64 1804.48 1177.64 Q1808.11 1177.64 1809.92 1174.1 Q1811.74 1170.53 1811.74 1163.43 Q1811.74 1156.3 1809.92 1152.76 Q1808.11 1149.19 1804.48 1149.19 M1804.48 1145.49 Q1810.29 1145.49 1813.34 1150.09 Q1816.42 1154.68 1816.42 1163.43 Q1816.42 1172.15 1813.34 1176.76 Q1810.29 1181.34 1804.48 1181.34 Q1798.67 1181.34 1795.59 1176.76 Q1792.53 1172.15 1792.53 1163.43 Q1792.53 1154.68 1795.59 1150.09 Q1798.67 1145.49 1804.48 1145.49 Z\" fill=\"#000000\" fill-rule=\"evenodd\" fill-opacity=\"1\" /><path clip-path=\"url(#clip000)\" d=\"M 0 0 M2054.02 1149.19 Q2050.41 1149.19 2048.58 1152.76 Q2046.78 1156.3 2046.78 1163.43 Q2046.78 1170.53 2048.58 1174.1 Q2050.41 1177.64 2054.02 1177.64 Q2057.66 1177.64 2059.46 1174.1 Q2061.29 1170.53 2061.29 1163.43 Q2061.29 1156.3 2059.46 1152.76 Q2057.66 1149.19 2054.02 1149.19 M2054.02 1145.49 Q2059.83 1145.49 2062.89 1150.09 Q2065.97 1154.68 2065.97 1163.43 Q2065.97 1172.15 2062.89 1176.76 Q2059.83 1181.34 2054.02 1181.34 Q2048.21 1181.34 2045.14 1176.76 Q2042.08 1172.15 2042.08 1163.43 Q2042.08 1154.68 2045.14 1150.09 Q2048.21 1145.49 2054.02 1145.49 Z\" fill=\"#000000\" fill-rule=\"evenodd\" fill-opacity=\"1\" /><path clip-path=\"url(#clip000)\" d=\"M 0 0 M2071.04 1174.79 L2075.92 1174.79 L2075.92 1180.67 L2071.04 1180.67 L2071.04 1174.79 Z\" fill=\"#000000\" fill-rule=\"evenodd\" fill-opacity=\"1\" /><path clip-path=\"url(#clip000)\" d=\"M 0 0 M2085.02 1176.74 L2101.34 1176.74 L2101.34 1180.67 L2079.39 1180.67 L2079.39 1176.74 Q2082.06 1173.98 2086.64 1169.35 Q2091.25 1164.7 2092.43 1163.36 Q2094.67 1160.83 2095.55 1159.1 Q2096.45 1157.34 2096.45 1155.65 Q2096.45 1152.89 2094.51 1151.16 Q2092.59 1149.42 2089.49 1149.42 Q2087.29 1149.42 2084.83 1150.19 Q2082.4 1150.95 2079.63 1152.5 L2079.63 1147.78 Q2082.45 1146.64 2084.9 1146.07 Q2087.36 1145.49 2089.39 1145.49 Q2094.76 1145.49 2097.96 1148.17 Q2101.15 1150.86 2101.15 1155.35 Q2101.15 1157.48 2100.34 1159.4 Q2099.56 1161.3 2097.45 1163.89 Q2096.87 1164.56 2093.77 1167.78 Q2090.67 1170.97 2085.02 1176.74 Z\" fill=\"#000000\" fill-rule=\"evenodd\" fill-opacity=\"1\" /><path clip-path=\"url(#clip000)\" d=\"M 0 0 M2106.45 1146.11 L2124.81 1146.11 L2124.81 1150.05 L2110.74 1150.05 L2110.74 1158.52 Q2111.76 1158.17 2112.77 1158.01 Q2113.79 1157.82 2114.81 1157.82 Q2120.6 1157.82 2123.98 1161 Q2127.36 1164.17 2127.36 1169.58 Q2127.36 1175.16 2123.89 1178.26 Q2120.41 1181.34 2114.09 1181.34 Q2111.92 1181.34 2109.65 1180.97 Q2107.4 1180.6 2105 1179.86 L2105 1175.16 Q2107.08 1176.3 2109.3 1176.85 Q2111.52 1177.41 2114 1177.41 Q2118.01 1177.41 2120.34 1175.3 Q2122.68 1173.2 2122.68 1169.58 Q2122.68 1165.97 2120.34 1163.87 Q2118.01 1161.76 2114 1161.76 Q2112.13 1161.76 2110.25 1162.18 Q2108.4 1162.59 2106.45 1163.47 L2106.45 1146.11 Z\" fill=\"#000000\" fill-rule=\"evenodd\" fill-opacity=\"1\" /><path clip-path=\"url(#clip000)\" d=\"M 0 0 M9.67754e+253 1590.6 L9.67754e+253 1590.6 L9.67754e+253 1622.94 L9.67754e+253 1590.6 L9.67754e+253 1590.6 L9.67754e+253 1638.12 L9.67754e+253 1638.12 L9.67754e+253 1596.4 L9.67754e+253 1628.99 L9.67754e+253 1628.99 L9.67754e+253 1596.4 L9.67754e+253 1638.12 L9.67754e+253 1638.12 L9.67754e+253 1590.6 Z\" fill=\"#000000\" fill-rule=\"evenodd\" fill-opacity=\"1\" /><path clip-path=\"url(#clip000)\" d=\"M 0 0 M9.67754e+253 1620.2 Q9.67754e+253 1620.2 9.67754e+253 1621.83 Q9.67754e+253 1623.45 9.67754e+253 1627.37 Q9.67754e+253 1630.48 9.67754e+253 1632.33 Q9.67754e+253 1634.15 9.67754e+253 1634.15 Q9.67754e+253 1634.15 9.67754e+253 1630.71 Q9.67754e+253 1627.24 9.67754e+253 1621.51 L9.67754e+253 1620.2 L9.67754e+253 1620.2 M9.67754e+253 1617.79 L9.67754e+253 1638.12 L9.67754e+253 1638.12 L9.67754e+253 1632.71 Q9.67754e+253 1635.96 9.67754e+253 1637.52 Q9.67754e+253 1639.05 9.67754e+253 1639.05 Q9.67754e+253 1639.05 9.67754e+253 1635.99 Q9.67754e+253 1632.9 9.67754e+253 1627.75 Q9.67754e+253 1621.73 9.67754e+253 1618.68 Q9.67754e+253 1615.62 9.67754e+253 1615.62 L9.67754e+253 1615.62 L9.67754e+253 1615.05 Q9.67754e+253 1611.01 9.67754e+253 1608.81 Q9.67754e+253 1606.58 9.67754e+253 1606.58 Q9.67754e+253 1606.58 9.67754e+253 1607.31 Q9.67754e+253 1608.05 9.67754e+253 1609.51 L9.67754e+253 1604.1 Q9.67754e+253 1602.86 9.67754e+253 1602.25 Q9.67754e+253 1601.62 9.67754e+253 1601.62 Q9.67754e+253 1601.62 9.67754e+253 1605.63 Q9.67754e+253 1609.64 9.67754e+253 1617.79 Z\" fill=\"#000000\" fill-rule=\"evenodd\" fill-opacity=\"1\" /><path clip-path=\"url(#clip000)\" d=\"M 0 0 M9.67754e+253 1602.48 L9.67754e+253 1619.82 L9.67754e+253 1638.12 L9.67754e+253 1638.12 L9.67754e+253 1624.12 L9.67754e+253 1638.12 L9.67754e+253 1638.12 L9.67754e+253 1619.47 L9.67754e+253 1602.48 L9.67754e+253 1602.48 L9.67754e+253 1615.18 L9.67754e+253 1602.48 L9.67754e+253 1602.48 Z\" fill=\"#000000\" fill-rule=\"evenodd\" fill-opacity=\"1\" /><path clip-path=\"url(#clip000)\" d=\"M 0 0 M9.67754e+253 1602.48 L9.67754e+253 1602.48 L9.67754e+253 1638.12 L9.67754e+253 1638.12 L9.67754e+253 1602.48 M9.67754e+253 1588.6 L9.67754e+253 1588.6 L9.67754e+253 1596.01 L9.67754e+253 1596.01 L9.67754e+253 1588.6 Z\" fill=\"#000000\" fill-rule=\"evenodd\" fill-opacity=\"1\" /><path clip-path=\"url(#clip000)\" d=\"M 0 0 M9.67754e+253 1609.32 Q9.67754e+253 1605.37 9.67754e+253 1603.49 Q9.67754e+253 1601.62 9.67754e+253 1601.62 Q9.67754e+253 1601.62 9.67754e+253 1605.53 Q9.67754e+253 1609.41 9.67754e+253 1616.61 L9.67754e+253 1638.12 L9.67754e+253 1638.12 L9.67754e+253 1616.8 Q9.67754e+253 1611.67 9.67754e+253 1609.19 Q9.67754e+253 1606.71 9.67754e+253 1606.71 Q9.67754e+253 1606.71 9.67754e+253 1609.73 Q9.67754e+253 1612.76 9.67754e+253 1617.98 L9.67754e+253 1638.12 L9.67754e+253 1638.12 L9.67754e+253 1616.8 Q9.67754e+253 1611.64 9.67754e+253 1609.19 Q9.67754e+253 1606.71 9.67754e+253 1606.71 Q9.67754e+253 1606.71 9.67754e+253 1609.76 Q9.67754e+253 1612.79 9.67754e+253 1617.98 L9.67754e+253 1638.12 L9.67754e+253 1638.12 L9.67754e+253 1602.48 L9.67754e+253 1602.48 L9.67754e+253 1608.01 Q9.67754e+253 1604.74 9.67754e+253 1603.18 Q9.67754e+253 1601.62 9.67754e+253 1601.62 Q9.67754e+253 1601.62 9.67754e+253 1603.59 Q9.67754e+253 1605.56 9.67754e+253 1609.32 Z\" fill=\"#000000\" fill-rule=\"evenodd\" fill-opacity=\"1\" /><path clip-path=\"url(#clip000)\" d=\"M 0 0 M9.67754e+253 1624.06 L9.67754e+253 1602.48 L9.67754e+253 1602.48 L9.67754e+253 1623.83 Q9.67754e+253 1628.89 9.67754e+253 1631.44 Q9.67754e+253 1633.95 9.67754e+253 1633.95 Q9.67754e+253 1633.95 9.67754e+253 1630.93 Q9.67754e+253 1627.91 9.67754e+253 1622.69 L9.67754e+253 1602.48 L9.67754e+253 1602.48 L9.67754e+253 1638.12 L9.67754e+253 1638.12 L9.67754e+253 1632.65 Q9.67754e+253 1635.9 9.67754e+253 1637.49 Q9.67754e+253 1639.05 9.67754e+253 1639.05 Q9.67754e+253 1639.05 9.67754e+253 1635.23 Q9.67754e+253 1631.41 9.67754e+253 1624.06 M9.67754e+253 1601.62 L9.67754e+253 1601.62 Z\" fill=\"#000000\" fill-rule=\"evenodd\" fill-opacity=\"1\" /><path clip-path=\"url(#clip000)\" d=\"M 0 0 M9.67754e+253 1609.32 Q9.67754e+253 1605.37 9.67754e+253 1603.49 Q9.67754e+253 1601.62 9.67754e+253 1601.62 Q9.67754e+253 1601.62 9.67754e+253 1605.53 Q9.67754e+253 1609.41 9.67754e+253 1616.61 L9.67754e+253 1638.12 L9.67754e+253 1638.12 L9.67754e+253 1616.8 Q9.67754e+253 1611.67 9.67754e+253 1609.19 Q9.67754e+253 1606.71 9.67754e+253 1606.71 Q9.67754e+253 1606.71 9.67754e+253 1609.73 Q9.67754e+253 1612.76 9.67754e+253 1617.98 L9.67754e+253 1638.12 L9.67754e+253 1638.12 L9.67754e+253 1616.8 Q9.67754e+253 1611.64 9.67754e+253 1609.19 Q9.67754e+253 1606.71 9.67754e+253 1606.71 Q9.67754e+253 1606.71 9.67754e+253 1609.76 Q9.67754e+253 1612.79 9.67754e+253 1617.98 L9.67754e+253 1638.12 L9.67754e+253 1638.12 L9.67754e+253 1602.48 L9.67754e+253 1602.48 L9.67754e+253 1608.01 Q9.67754e+253 1604.74 9.67754e+253 1603.18 Q9.67754e+253 1601.62 9.67754e+253 1601.62 Q9.67754e+253 1601.62 9.67754e+253 1603.59 Q9.67754e+253 1605.56 9.67754e+253 1609.32 Z\" fill=\"#000000\" fill-rule=\"evenodd\" fill-opacity=\"1\" /><path clip-path=\"url(#clip000)\" d=\"M 0 0 M9.67754e+253 1607.89 L9.67754e+253 1588.6 L9.67754e+253 1588.6 L9.67754e+253 1638.12 L9.67754e+253 1638.12 L9.67754e+253 1632.78 Q9.67754e+253 1635.96 9.67754e+253 1637.52 Q9.67754e+253 1639.05 9.67754e+253 1639.05 Q9.67754e+253 1639.05 9.67754e+253 1633.89 Q9.67754e+253 1628.73 9.67754e+253 1620.33 Q9.67754e+253 1611.93 9.67754e+253 1606.77 Q9.67754e+253 1601.62 9.67754e+253 1601.62 Q9.67754e+253 1601.62 9.67754e+253 1603.18 Q9.67754e+253 1604.7 9.67754e+253 1607.89 M9.67754e+253 1620.33 Q9.67754e+253 1626.79 9.67754e+253 1630.48 Q9.67754e+253 1634.15 9.67754e+253 1634.15 Q9.67754e+253 1634.15 9.67754e+253 1630.48 Q9.67754e+253 1626.79 9.67754e+253 1620.33 Q9.67754e+253 1613.87 9.67754e+253 1610.21 Q9.67754e+253 1606.52 9.67754e+253 1606.52 Q9.67754e+253 1606.52 9.67754e+253 1610.21 Q9.67754e+253 1613.87 9.67754e+253 1620.33 Z\" fill=\"#000000\" fill-rule=\"evenodd\" fill-opacity=\"1\" /><path clip-path=\"url(#clip000)\" d=\"M 0 0 M9.67754e+253 1618.84 L9.67754e+253 1621.7 L9.67754e+253 1621.7 Q9.67754e+253 1627.75 9.67754e+253 1630.93 Q9.67754e+253 1634.08 9.67754e+253 1634.08 Q9.67754e+253 1634.08 9.67754e+253 1633.25 Q9.67754e+253 1632.43 9.67754e+253 1630.77 L9.67754e+253 1636.31 Q9.67754e+253 1637.65 9.67754e+253 1638.35 Q9.67754e+253 1639.05 9.67754e+253 1639.05 Q9.67754e+253 1639.05 9.67754e+253 1634.08 Q9.67754e+253 1629.12 9.67754e+253 1620.65 Q9.67754e+253 1611.9 9.67754e+253 1606.77 Q9.67754e+253 1601.62 9.67754e+253 1601.62 Q9.67754e+253 1601.62 9.67754e+253 1606.26 Q9.67754e+253 1610.88 9.67754e+253 1618.84 M9.67754e+253 1617.12 Q9.67754e+253 1612.31 9.67754e+253 1609.45 Q9.67754e+253 1606.58 9.67754e+253 1606.58 Q9.67754e+253 1606.58 9.67754e+253 1609.35 Q9.67754e+253 1612.12 9.67754e+253 1617.15 L9.67754e+253 1617.12 Z\" fill=\"#000000\" fill-rule=\"evenodd\" fill-opacity=\"1\" /><path clip-path=\"url(#clip000)\" d=\"M 0 0 M9.67754e+253 1588.6 L9.67754e+253 1593.47 L9.67754e+253 1593.47 Q9.67754e+253 1593.47 9.67754e+253 1594.74 Q9.67754e+253 1596.01 9.67754e+253 1599.32 L9.67754e+253 1602.48 L9.67754e+253 1602.48 L9.67754e+253 1607.03 L9.67754e+253 1607.03 L9.67754e+253 1638.12 L9.67754e+253 1638.12 L9.67754e+253 1607.03 L9.67754e+253 1607.03 L9.67754e+253 1602.48 L9.67754e+253 1602.48 L9.67754e+253 1599.99 Q9.67754e+253 1594.04 9.67754e+253 1591.34 Q9.67754e+253 1588.6 9.67754e+253 1588.6 L9.67754e+253 1588.6 Z\" fill=\"#000000\" fill-rule=\"evenodd\" fill-opacity=\"1\" /><path clip-path=\"url(#clip000)\" d=\"M 0 0 M9.67754e+253 1588.6 L9.67754e+253 1588.6 L9.67754e+253 1638.12 L9.67754e+253 1638.12 L9.67754e+253 1588.6 Z\" fill=\"#000000\" fill-rule=\"evenodd\" fill-opacity=\"1\" /><path clip-path=\"url(#clip000)\" d=\"M 0 0 M9.67754e+253 1618.84 L9.67754e+253 1621.7 L9.67754e+253 1621.7 Q9.67754e+253 1627.75 9.67754e+253 1630.93 Q9.67754e+253 1634.08 9.67754e+253 1634.08 Q9.67754e+253 1634.08 9.67754e+253 1633.25 Q9.67754e+253 1632.43 9.67754e+253 1630.77 L9.67754e+253 1636.31 Q9.67754e+253 1637.65 9.67754e+253 1638.35 Q9.67754e+253 1639.05 9.67754e+253 1639.05 Q9.67754e+253 1639.05 9.67754e+253 1634.08 Q9.67754e+253 1629.12 9.67754e+253 1620.65 Q9.67754e+253 1611.9 9.67754e+253 1606.77 Q9.67754e+253 1601.62 9.67754e+253 1601.62 Q9.67754e+253 1601.62 9.67754e+253 1606.26 Q9.67754e+253 1610.88 9.67754e+253 1618.84 M9.67754e+253 1617.12 Q9.67754e+253 1612.31 9.67754e+253 1609.45 Q9.67754e+253 1606.58 9.67754e+253 1606.58 Q9.67754e+253 1606.58 9.67754e+253 1609.35 Q9.67754e+253 1612.12 9.67754e+253 1617.15 L9.67754e+253 1617.12 Z\" fill=\"#000000\" fill-rule=\"evenodd\" fill-opacity=\"1\" /><path clip-path=\"url(#clip000)\" d=\"M 0 0 M9.67754e+253 1603.84 L9.67754e+253 1609.32 Q9.67754e+253 1607.95 9.67754e+253 1607.28 Q9.67754e+253 1606.58 9.67754e+253 1606.58 Q9.67754e+253 1606.58 9.67754e+253 1610.21 Q9.67754e+253 1613.81 9.67754e+253 1620.33 Q9.67754e+253 1626.86 9.67754e+253 1630.48 Q9.67754e+253 1634.08 9.67754e+253 1634.08 Q9.67754e+253 1634.08 9.67754e+253 1633.41 Q9.67754e+253 1632.71 9.67754e+253 1631.34 L9.67754e+253 1636.76 Q9.67754e+253 1637.9 9.67754e+253 1638.47 Q9.67754e+253 1639.05 9.67754e+253 1639.05 Q9.67754e+253 1639.05 9.67754e+253 1633.99 Q9.67754e+253 1628.93 9.67754e+253 1620.33 Q9.67754e+253 1611.61 9.67754e+253 1606.61 Q9.67754e+253 1601.62 9.67754e+253 1601.62 Q9.67754e+253 1601.62 9.67754e+253 1602.19 Q9.67754e+253 1602.73 9.67754e+253 1603.84 Z\" fill=\"#000000\" fill-rule=\"evenodd\" fill-opacity=\"1\" /><path clip-path=\"url(#clip000)\" d=\"M 0 0 M9.67754e+253 1592.35 L9.67754e+253 1602.48 L9.67754e+253 1602.48 L9.67754e+253 1607.03 L9.67754e+253 1607.03 L9.67754e+253 1626.38 Q9.67754e+253 1630.74 9.67754e+253 1631.98 Q9.67754e+253 1633.22 9.67754e+253 1633.22 L9.67754e+253 1633.22 L9.67754e+253 1638.12 L9.67754e+253 1638.12 Q9.67754e+253 1638.12 9.67754e+253 1635.61 Q9.67754e+253 1633.06 9.67754e+253 1626.38 L9.67754e+253 1607.03 L9.67754e+253 1607.03 L9.67754e+253 1602.48 L9.67754e+253 1602.48 L9.67754e+253 1592.35 L9.67754e+253 1592.35 Z\" fill=\"#000000\" fill-rule=\"evenodd\" fill-opacity=\"1\" /><path clip-path=\"url(#clip000)\" d=\"M 0 0 M9.67754e+253 1602.48 L9.67754e+253 1602.48 L9.67754e+253 1638.12 L9.67754e+253 1638.12 L9.67754e+253 1602.48 M9.67754e+253 1588.6 L9.67754e+253 1588.6 L9.67754e+253 1596.01 L9.67754e+253 1596.01 L9.67754e+253 1588.6 Z\" fill=\"#000000\" fill-rule=\"evenodd\" fill-opacity=\"1\" /><path clip-path=\"url(#clip000)\" d=\"M 0 0 M9.67754e+253 1606.58 Q9.67754e+253 1606.58 9.67754e+253 1610.27 Q9.67754e+253 1613.93 9.67754e+253 1620.33 Q9.67754e+253 1626.73 9.67754e+253 1630.42 Q9.67754e+253 1634.08 9.67754e+253 1634.08 Q9.67754e+253 1634.08 9.67754e+253 1630.39 Q9.67754e+253 1626.7 9.67754e+253 1620.33 Q9.67754e+253 1614 9.67754e+253 1610.31 Q9.67754e+253 1606.58 9.67754e+253 1606.58 M9.67754e+253 1601.62 Q9.67754e+253 1601.62 9.67754e+253 1606.58 Q9.67754e+253 1611.55 9.67754e+253 1620.33 Q9.67754e+253 1629.08 9.67754e+253 1634.08 Q9.67754e+253 1639.05 9.67754e+253 1639.05 Q9.67754e+253 1639.05 9.67754e+253 1634.08 Q9.67754e+253 1629.08 9.67754e+253 1620.33 Q9.67754e+253 1611.55 9.67754e+253 1606.58 Q9.67754e+253 1601.62 9.67754e+253 1601.62 Z\" fill=\"#000000\" fill-rule=\"evenodd\" fill-opacity=\"1\" /><path clip-path=\"url(#clip000)\" d=\"M 0 0 M9.67754e+253 1616.61 L9.67754e+253 1638.12 L9.67754e+253 1638.12 L9.67754e+253 1616.8 Q9.67754e+253 1611.74 9.67754e+253 1609.22 Q9.67754e+253 1606.71 9.67754e+253 1606.71 Q9.67754e+253 1606.71 9.67754e+253 1609.73 Q9.67754e+253 1612.76 9.67754e+253 1617.98 L9.67754e+253 1638.12 L9.67754e+253 1638.12 L9.67754e+253 1602.48 L9.67754e+253 1602.48 L9.67754e+253 1608.01 Q9.67754e+253 1604.8 9.67754e+253 1603.21 Q9.67754e+253 1601.62 9.67754e+253 1601.62 Q9.67754e+253 1601.62 9.67754e+253 1605.44 Q9.67754e+253 1609.22 9.67754e+253 1616.61 Z\" fill=\"#000000\" fill-rule=\"evenodd\" fill-opacity=\"1\" /><path clip-path=\"url(#clip000)\" d=\"M 0 0 M9.67754e+253 1588.6 L9.67754e+253 1588.6 L9.67754e+253 1593.15 L9.67754e+253 1593.15 L9.67754e+253 1642.17 L9.67754e+253 1642.17 L9.67754e+253 1646.72 L9.67754e+253 1646.72 L9.67754e+253 1588.6 Z\" fill=\"#000000\" fill-rule=\"evenodd\" fill-opacity=\"1\" /><path clip-path=\"url(#clip000)\" d=\"M 0 0 M9.67754e+253 1609.32 Q9.67754e+253 1605.37 9.67754e+253 1603.49 Q9.67754e+253 1601.62 9.67754e+253 1601.62 Q9.67754e+253 1601.62 9.67754e+253 1605.53 Q9.67754e+253 1609.41 9.67754e+253 1616.61 L9.67754e+253 1638.12 L9.67754e+253 1638.12 L9.67754e+253 1616.8 Q9.67754e+253 1611.67 9.67754e+253 1609.19 Q9.67754e+253 1606.71 9.67754e+253 1606.71 Q9.67754e+253 1606.71 9.67754e+253 1609.73 Q9.67754e+253 1612.76 9.67754e+253 1617.98 L9.67754e+253 1638.12 L9.67754e+253 1638.12 L9.67754e+253 1616.8 Q9.67754e+253 1611.64 9.67754e+253 1609.19 Q9.67754e+253 1606.71 9.67754e+253 1606.71 Q9.67754e+253 1606.71 9.67754e+253 1609.76 Q9.67754e+253 1612.79 9.67754e+253 1617.98 L9.67754e+253 1638.12 L9.67754e+253 1638.12 L9.67754e+253 1602.48 L9.67754e+253 1602.48 L9.67754e+253 1608.01 Q9.67754e+253 1604.74 9.67754e+253 1603.18 Q9.67754e+253 1601.62 9.67754e+253 1601.62 Q9.67754e+253 1601.62 9.67754e+253 1603.59 Q9.67754e+253 1605.56 9.67754e+253 1609.32 Z\" fill=\"#000000\" fill-rule=\"evenodd\" fill-opacity=\"1\" /><path clip-path=\"url(#clip000)\" d=\"M 0 0 M9.67754e+253 1588.6 L9.67754e+253 1646.72 L9.67754e+253 1646.72 L9.67754e+253 1642.17 L9.67754e+253 1642.17 L9.67754e+253 1593.15 L9.67754e+253 1593.15 L9.67754e+253 1588.6 L9.67754e+253 1588.6 Z\" fill=\"#000000\" fill-rule=\"evenodd\" fill-opacity=\"1\" /><polyline clip-path=\"url(#clip001)\" style=\"stroke:#000000; stroke-width:2; stroke-opacity:0.1; fill:none\" points=\"\n",
       "  480,1072.45 2160,1072.45 \n",
       "  \"/>\n",
       "<polyline clip-path=\"url(#clip001)\" style=\"stroke:#000000; stroke-width:2; stroke-opacity:0.1; fill:none\" points=\"\n",
       "  480,676.226 2160,676.226 \n",
       "  \"/>\n",
       "<polyline clip-path=\"url(#clip001)\" style=\"stroke:#000000; stroke-width:2; stroke-opacity:0.1; fill:none\" points=\"\n",
       "  480,280 2160,280 \n",
       "  \"/>\n",
       "<polyline clip-path=\"url(#clip001)\" style=\"stroke:#000000; stroke-width:2; stroke-opacity:0.1; fill:none\" points=\"\n",
       "  480,-116.226 2160,-116.226 \n",
       "  \"/>\n",
       "<polyline clip-path=\"url(#clip001)\" style=\"stroke:#000000; stroke-width:2; stroke-opacity:0.1; fill:none\" points=\"\n",
       "  480,-512.453 2160,-512.453 \n",
       "  \"/>\n",
       "<polyline clip-path=\"url(#clip000)\" style=\"stroke:#000000; stroke-width:4; stroke-opacity:1; fill:none\" points=\"\n",
       "  480,1120 480,-560 \n",
       "  \"/>\n",
       "<polyline clip-path=\"url(#clip000)\" style=\"stroke:#000000; stroke-width:4; stroke-opacity:1; fill:none\" points=\"\n",
       "  480,1072.45 500.16,1072.45 \n",
       "  \"/>\n",
       "<polyline clip-path=\"url(#clip000)\" style=\"stroke:#000000; stroke-width:4; stroke-opacity:1; fill:none\" points=\"\n",
       "  480,676.226 500.16,676.226 \n",
       "  \"/>\n",
       "<polyline clip-path=\"url(#clip000)\" style=\"stroke:#000000; stroke-width:4; stroke-opacity:1; fill:none\" points=\"\n",
       "  480,280 500.16,280 \n",
       "  \"/>\n",
       "<polyline clip-path=\"url(#clip000)\" style=\"stroke:#000000; stroke-width:4; stroke-opacity:1; fill:none\" points=\"\n",
       "  480,-116.226 500.16,-116.226 \n",
       "  \"/>\n",
       "<polyline clip-path=\"url(#clip000)\" style=\"stroke:#000000; stroke-width:4; stroke-opacity:1; fill:none\" points=\"\n",
       "  480,-512.453 500.16,-512.453 \n",
       "  \"/>\n",
       "<path clip-path=\"url(#clip000)\" d=\"M 0 0 M432.056 1058.25 Q428.445 1058.25 426.616 1061.82 Q424.81 1065.36 424.81 1072.49 Q424.81 1079.59 426.616 1083.16 Q428.445 1086.7 432.056 1086.7 Q435.69 1086.7 437.495 1083.16 Q439.324 1079.59 439.324 1072.49 Q439.324 1065.36 437.495 1061.82 Q435.69 1058.25 432.056 1058.25 M432.056 1054.55 Q437.866 1054.55 440.921 1059.15 Q444 1063.74 444 1072.49 Q444 1081.21 440.921 1085.82 Q437.866 1090.4 432.056 1090.4 Q426.245 1090.4 423.167 1085.82 Q420.111 1081.21 420.111 1072.49 Q420.111 1063.74 423.167 1059.15 Q426.245 1054.55 432.056 1054.55 Z\" fill=\"#000000\" fill-rule=\"evenodd\" fill-opacity=\"1\" /><path clip-path=\"url(#clip000)\" d=\"M 0 0 M286.277 696.019 L302.596 696.019 L302.596 699.954 L280.652 699.954 L280.652 696.019 Q283.314 693.264 287.897 688.635 Q292.503 683.982 293.684 682.639 Q295.929 680.116 296.809 678.38 Q297.712 676.621 297.712 674.931 Q297.712 672.176 295.767 670.44 Q293.846 668.704 290.744 668.704 Q288.545 668.704 286.091 669.468 Q283.661 670.232 280.883 671.783 L280.883 667.061 Q283.707 665.926 286.161 665.348 Q288.615 664.769 290.652 664.769 Q296.022 664.769 299.216 667.454 Q302.411 670.139 302.411 674.63 Q302.411 676.76 301.601 678.681 Q300.814 680.579 298.707 683.172 Q298.128 683.843 295.027 687.061 Q291.925 690.255 286.277 696.019 Z\" fill=\"#000000\" fill-rule=\"evenodd\" fill-opacity=\"1\" /><path clip-path=\"url(#clip000)\" d=\"M 0 0 M307.665 694.074 L312.55 694.074 L312.55 699.954 L307.665 699.954 L307.665 694.074 Z\" fill=\"#000000\" fill-rule=\"evenodd\" fill-opacity=\"1\" /><path clip-path=\"url(#clip000)\" d=\"M 0 0 M317.665 665.394 L336.022 665.394 L336.022 669.329 L321.948 669.329 L321.948 677.801 Q322.966 677.454 323.985 677.292 Q325.003 677.107 326.022 677.107 Q331.809 677.107 335.188 680.278 Q338.568 683.449 338.568 688.866 Q338.568 694.445 335.096 697.547 Q331.624 700.625 325.304 700.625 Q323.128 700.625 320.86 700.255 Q318.614 699.885 316.207 699.144 L316.207 694.445 Q318.29 695.579 320.513 696.135 Q322.735 696.69 325.212 696.69 Q329.216 696.69 331.554 694.584 Q333.892 692.477 333.892 688.866 Q333.892 685.255 331.554 683.149 Q329.216 681.042 325.212 681.042 Q323.337 681.042 321.462 681.459 Q319.61 681.875 317.665 682.755 L317.665 665.394 Z\" fill=\"#000000\" fill-rule=\"evenodd\" fill-opacity=\"1\" /><path clip-path=\"url(#clip000)\" d=\"M 0 0 M371.809 674.491 L361.23 685.116 L371.809 695.695 L369.054 698.496 L358.429 687.871 L347.804 698.496 L345.073 695.695 L355.628 685.116 L345.073 674.491 L347.804 671.69 L358.429 682.315 L369.054 671.69 L371.809 674.491 Z\" fill=\"#000000\" fill-rule=\"evenodd\" fill-opacity=\"1\" /><path clip-path=\"url(#clip000)\" d=\"M 0 0 M377.688 696.019 L385.327 696.019 L385.327 669.653 L377.017 671.32 L377.017 667.061 L385.281 665.394 L389.957 665.394 L389.957 696.019 L397.595 696.019 L397.595 699.954 L377.688 699.954 L377.688 696.019 Z\" fill=\"#000000\" fill-rule=\"evenodd\" fill-opacity=\"1\" /><path clip-path=\"url(#clip000)\" d=\"M 0 0 M412.665 668.473 Q409.054 668.473 407.225 672.037 Q405.419 675.579 405.419 682.709 Q405.419 689.815 407.225 693.38 Q409.054 696.922 412.665 696.922 Q416.299 696.922 418.105 693.38 Q419.933 689.815 419.933 682.709 Q419.933 675.579 418.105 672.037 Q416.299 668.473 412.665 668.473 M412.665 664.769 Q418.475 664.769 421.531 669.375 Q424.609 673.959 424.609 682.709 Q424.609 691.436 421.531 696.042 Q418.475 700.625 412.665 700.625 Q406.855 700.625 403.776 696.042 Q400.72 691.436 400.72 682.709 Q400.72 673.959 403.776 669.375 Q406.855 664.769 412.665 664.769 Z\" fill=\"#000000\" fill-rule=\"evenodd\" fill-opacity=\"1\" /><path clip-path=\"url(#clip000)\" d=\"M 0 0 M434.634 656.99 Q432.076 656.99 430.571 658.739 Q429.085 660.488 429.085 663.535 Q429.085 666.563 430.571 668.331 Q432.076 670.08 434.634 670.08 Q437.192 670.08 438.677 668.331 Q440.182 666.563 440.182 663.535 Q440.182 660.488 438.677 658.739 Q437.192 656.99 434.634 656.99 M442.176 645.084 L442.176 648.545 Q440.746 647.868 439.279 647.51 Q437.831 647.153 436.402 647.153 Q432.64 647.153 430.646 649.692 Q428.672 652.231 428.39 657.366 Q429.499 655.729 431.173 654.864 Q432.847 653.98 434.859 653.98 Q439.091 653.98 441.536 656.557 Q444 659.115 444 663.535 Q444 667.86 441.442 670.475 Q438.884 673.089 434.634 673.089 Q429.763 673.089 427.186 669.365 Q424.609 665.622 424.609 658.532 Q424.609 651.874 427.769 647.924 Q430.929 643.956 436.251 643.956 Q437.681 643.956 439.129 644.238 Q440.596 644.52 442.176 645.084 Z\" fill=\"#000000\" fill-rule=\"evenodd\" fill-opacity=\"1\" /><path clip-path=\"url(#clip000)\" d=\"M 0 0 M280.698 269.168 L299.054 269.168 L299.054 273.103 L284.98 273.103 L284.98 281.575 Q285.999 281.228 287.017 281.066 Q288.036 280.881 289.054 280.881 Q294.841 280.881 298.221 284.052 Q301.601 287.223 301.601 292.64 Q301.601 298.218 298.128 301.32 Q294.656 304.399 288.337 304.399 Q286.161 304.399 283.892 304.029 Q281.647 303.658 279.24 302.917 L279.24 298.218 Q281.323 299.353 283.545 299.908 Q285.767 300.464 288.244 300.464 Q292.249 300.464 294.587 298.357 Q296.925 296.251 296.925 292.64 Q296.925 289.029 294.587 286.922 Q292.249 284.816 288.244 284.816 Q286.369 284.816 284.494 285.232 Q282.642 285.649 280.698 286.529 L280.698 269.168 Z\" fill=\"#000000\" fill-rule=\"evenodd\" fill-opacity=\"1\" /><path clip-path=\"url(#clip000)\" d=\"M 0 0 M306.67 297.848 L311.554 297.848 L311.554 303.728 L306.67 303.728 L306.67 297.848 Z\" fill=\"#000000\" fill-rule=\"evenodd\" fill-opacity=\"1\" /><path clip-path=\"url(#clip000)\" d=\"M 0 0 M326.624 272.246 Q323.013 272.246 321.184 275.811 Q319.378 279.353 319.378 286.482 Q319.378 293.589 321.184 297.154 Q323.013 300.695 326.624 300.695 Q330.258 300.695 332.063 297.154 Q333.892 293.589 333.892 286.482 Q333.892 279.353 332.063 275.811 Q330.258 272.246 326.624 272.246 M326.624 268.543 Q332.434 268.543 335.489 273.149 Q338.568 277.732 338.568 286.482 Q338.568 295.209 335.489 299.816 Q332.434 304.399 326.624 304.399 Q320.813 304.399 317.735 299.816 Q314.679 295.209 314.679 286.482 Q314.679 277.732 317.735 273.149 Q320.813 268.543 326.624 268.543 Z\" fill=\"#000000\" fill-rule=\"evenodd\" fill-opacity=\"1\" /><path clip-path=\"url(#clip000)\" d=\"M 0 0 M371.809 278.265 L361.23 288.89 L371.809 299.468 L369.054 302.269 L358.429 291.644 L347.804 302.269 L345.073 299.468 L355.628 288.89 L345.073 278.265 L347.804 275.464 L358.429 286.089 L369.054 275.464 L371.809 278.265 Z\" fill=\"#000000\" fill-rule=\"evenodd\" fill-opacity=\"1\" /><path clip-path=\"url(#clip000)\" d=\"M 0 0 M377.688 299.792 L385.327 299.792 L385.327 273.427 L377.017 275.093 L377.017 270.834 L385.281 269.168 L389.957 269.168 L389.957 299.792 L397.595 299.792 L397.595 303.728 L377.688 303.728 L377.688 299.792 Z\" fill=\"#000000\" fill-rule=\"evenodd\" fill-opacity=\"1\" /><path clip-path=\"url(#clip000)\" d=\"M 0 0 M412.665 272.246 Q409.054 272.246 407.225 275.811 Q405.419 279.353 405.419 286.482 Q405.419 293.589 407.225 297.154 Q409.054 300.695 412.665 300.695 Q416.299 300.695 418.105 297.154 Q419.933 293.589 419.933 286.482 Q419.933 279.353 418.105 275.811 Q416.299 272.246 412.665 272.246 M412.665 268.543 Q418.475 268.543 421.531 273.149 Q424.609 277.732 424.609 286.482 Q424.609 295.209 421.531 299.816 Q418.475 304.399 412.665 304.399 Q406.855 304.399 403.776 299.816 Q400.72 295.209 400.72 286.482 Q400.72 277.732 403.776 273.149 Q406.855 268.543 412.665 268.543 Z\" fill=\"#000000\" fill-rule=\"evenodd\" fill-opacity=\"1\" /><path clip-path=\"url(#clip000)\" d=\"M 0 0 M434.634 260.763 Q432.076 260.763 430.571 262.512 Q429.085 264.261 429.085 267.308 Q429.085 270.336 430.571 272.104 Q432.076 273.853 434.634 273.853 Q437.192 273.853 438.677 272.104 Q440.182 270.336 440.182 267.308 Q440.182 264.261 438.677 262.512 Q437.192 260.763 434.634 260.763 M442.176 248.858 L442.176 252.318 Q440.746 251.641 439.279 251.284 Q437.831 250.927 436.402 250.927 Q432.64 250.927 430.646 253.466 Q428.672 256.005 428.39 261.139 Q429.499 259.503 431.173 258.638 Q432.847 257.754 434.859 257.754 Q439.091 257.754 441.536 260.331 Q444 262.888 444 267.308 Q444 271.634 441.442 274.248 Q438.884 276.863 434.634 276.863 Q429.763 276.863 427.186 273.139 Q424.609 269.396 424.609 262.305 Q424.609 255.647 427.769 251.698 Q430.929 247.729 436.251 247.729 Q437.681 247.729 439.129 248.012 Q440.596 248.294 442.176 248.858 Z\" fill=\"#000000\" fill-rule=\"evenodd\" fill-opacity=\"1\" /><path clip-path=\"url(#clip000)\" d=\"M 0 0 M280.374 -127.059 L302.596 -127.059 L302.596 -125.068 L290.05 -92.4988 L285.165 -92.4988 L296.971 -123.124 L280.374 -123.124 L280.374 -127.059 Z\" fill=\"#000000\" fill-rule=\"evenodd\" fill-opacity=\"1\" /><path clip-path=\"url(#clip000)\" d=\"M 0 0 M307.665 -98.3784 L312.55 -98.3784 L312.55 -92.4988 L307.665 -92.4988 L307.665 -98.3784 Z\" fill=\"#000000\" fill-rule=\"evenodd\" fill-opacity=\"1\" /><path clip-path=\"url(#clip000)\" d=\"M 0 0 M317.665 -127.059 L336.022 -127.059 L336.022 -123.124 L321.948 -123.124 L321.948 -114.651 Q322.966 -114.999 323.985 -115.161 Q325.003 -115.346 326.022 -115.346 Q331.809 -115.346 335.188 -112.175 Q338.568 -109.003 338.568 -103.587 Q338.568 -98.008 335.096 -94.9062 Q331.624 -91.8275 325.304 -91.8275 Q323.128 -91.8275 320.86 -92.1979 Q318.614 -92.5683 316.207 -93.309 L316.207 -98.008 Q318.29 -96.8738 320.513 -96.3182 Q322.735 -95.7627 325.212 -95.7627 Q329.216 -95.7627 331.554 -97.8692 Q333.892 -99.9756 333.892 -103.587 Q333.892 -107.198 331.554 -109.304 Q329.216 -111.411 325.212 -111.411 Q323.337 -111.411 321.462 -110.994 Q319.61 -110.577 317.665 -109.698 L317.665 -127.059 Z\" fill=\"#000000\" fill-rule=\"evenodd\" fill-opacity=\"1\" /><path clip-path=\"url(#clip000)\" d=\"M 0 0 M371.809 -117.962 L361.23 -107.337 L371.809 -96.7581 L369.054 -93.9571 L358.429 -104.582 L347.804 -93.9571 L345.073 -96.7581 L355.628 -107.337 L345.073 -117.962 L347.804 -120.763 L358.429 -110.138 L369.054 -120.763 L371.809 -117.962 Z\" fill=\"#000000\" fill-rule=\"evenodd\" fill-opacity=\"1\" /><path clip-path=\"url(#clip000)\" d=\"M 0 0 M377.688 -96.434 L385.327 -96.434 L385.327 -122.8 L377.017 -121.133 L377.017 -125.392 L385.281 -127.059 L389.957 -127.059 L389.957 -96.434 L397.595 -96.434 L397.595 -92.4988 L377.688 -92.4988 L377.688 -96.434 Z\" fill=\"#000000\" fill-rule=\"evenodd\" fill-opacity=\"1\" /><path clip-path=\"url(#clip000)\" d=\"M 0 0 M412.665 -123.98 Q409.054 -123.98 407.225 -120.415 Q405.419 -116.874 405.419 -109.744 Q405.419 -102.638 407.225 -99.0729 Q409.054 -95.5312 412.665 -95.5312 Q416.299 -95.5312 418.105 -99.0729 Q419.933 -102.638 419.933 -109.744 Q419.933 -116.874 418.105 -120.415 Q416.299 -123.98 412.665 -123.98 M412.665 -127.684 Q418.475 -127.684 421.531 -123.077 Q424.609 -118.494 424.609 -109.744 Q424.609 -101.017 421.531 -96.4108 Q418.475 -91.8275 412.665 -91.8275 Q406.855 -91.8275 403.776 -96.4108 Q400.72 -101.017 400.72 -109.744 Q400.72 -118.494 403.776 -123.077 Q406.855 -127.684 412.665 -127.684 Z\" fill=\"#000000\" fill-rule=\"evenodd\" fill-opacity=\"1\" /><path clip-path=\"url(#clip000)\" d=\"M 0 0 M434.634 -135.463 Q432.076 -135.463 430.571 -133.714 Q429.085 -131.965 429.085 -128.918 Q429.085 -125.89 430.571 -124.122 Q432.076 -122.373 434.634 -122.373 Q437.192 -122.373 438.677 -124.122 Q440.182 -125.89 440.182 -128.918 Q440.182 -131.965 438.677 -133.714 Q437.192 -135.463 434.634 -135.463 M442.176 -147.369 L442.176 -143.908 Q440.746 -144.585 439.279 -144.942 Q437.831 -145.3 436.402 -145.3 Q432.64 -145.3 430.646 -142.761 Q428.672 -140.222 428.39 -135.087 Q429.499 -136.723 431.173 -137.589 Q432.847 -138.472 434.859 -138.472 Q439.091 -138.472 441.536 -135.896 Q444 -133.338 444 -128.918 Q444 -124.592 441.442 -121.978 Q438.884 -119.364 434.634 -119.364 Q429.763 -119.364 427.186 -123.088 Q424.609 -126.83 424.609 -133.921 Q424.609 -140.579 427.769 -144.529 Q430.929 -148.497 436.251 -148.497 Q437.681 -148.497 439.129 -148.215 Q440.596 -147.933 442.176 -147.369 Z\" fill=\"#000000\" fill-rule=\"evenodd\" fill-opacity=\"1\" /><path clip-path=\"url(#clip000)\" d=\"M 0 0 M283.029 -492.66 L290.667 -492.66 L290.667 -519.026 L282.357 -517.359 L282.357 -521.619 L290.621 -523.285 L295.297 -523.285 L295.297 -492.66 L302.936 -492.66 L302.936 -488.725 L283.029 -488.725 L283.029 -492.66 Z\" fill=\"#000000\" fill-rule=\"evenodd\" fill-opacity=\"1\" /><path clip-path=\"url(#clip000)\" d=\"M 0 0 M308.005 -494.605 L312.89 -494.605 L312.89 -488.725 L308.005 -488.725 L308.005 -494.605 Z\" fill=\"#000000\" fill-rule=\"evenodd\" fill-opacity=\"1\" /><path clip-path=\"url(#clip000)\" d=\"M 0 0 M327.959 -520.207 Q324.348 -520.207 322.519 -516.642 Q320.714 -513.1 320.714 -505.971 Q320.714 -498.864 322.519 -495.299 Q324.348 -491.758 327.959 -491.758 Q331.593 -491.758 333.399 -495.299 Q335.227 -498.864 335.227 -505.971 Q335.227 -513.1 333.399 -516.642 Q331.593 -520.207 327.959 -520.207 M327.959 -523.91 Q333.769 -523.91 336.825 -519.304 Q339.903 -514.72 339.903 -505.971 Q339.903 -497.244 336.825 -492.637 Q333.769 -488.054 327.959 -488.054 Q322.149 -488.054 319.07 -492.637 Q316.015 -497.244 316.015 -505.971 Q316.015 -514.72 319.07 -519.304 Q322.149 -523.91 327.959 -523.91 Z\" fill=\"#000000\" fill-rule=\"evenodd\" fill-opacity=\"1\" /><path clip-path=\"url(#clip000)\" d=\"M 0 0 M373.144 -514.188 L362.565 -503.563 L373.144 -492.984 L370.389 -490.184 L359.764 -500.808 L349.139 -490.184 L346.408 -492.984 L356.963 -503.563 L346.408 -514.188 L349.139 -516.989 L359.764 -506.364 L370.389 -516.989 L373.144 -514.188 Z\" fill=\"#000000\" fill-rule=\"evenodd\" fill-opacity=\"1\" /><path clip-path=\"url(#clip000)\" d=\"M 0 0 M379.023 -492.66 L386.662 -492.66 L386.662 -519.026 L378.352 -517.359 L378.352 -521.619 L386.616 -523.285 L391.292 -523.285 L391.292 -492.66 L398.931 -492.66 L398.931 -488.725 L379.023 -488.725 L379.023 -492.66 Z\" fill=\"#000000\" fill-rule=\"evenodd\" fill-opacity=\"1\" /><path clip-path=\"url(#clip000)\" d=\"M 0 0 M414 -520.207 Q410.389 -520.207 408.56 -516.642 Q406.755 -513.1 406.755 -505.971 Q406.755 -498.864 408.56 -495.299 Q410.389 -491.758 414 -491.758 Q417.634 -491.758 419.44 -495.299 Q421.269 -498.864 421.269 -505.971 Q421.269 -513.1 419.44 -516.642 Q417.634 -520.207 414 -520.207 M414 -523.91 Q419.81 -523.91 422.866 -519.304 Q425.945 -514.72 425.945 -505.971 Q425.945 -497.244 422.866 -492.637 Q419.81 -488.054 414 -488.054 Q408.19 -488.054 405.111 -492.637 Q402.056 -497.244 402.056 -505.971 Q402.056 -514.72 405.111 -519.304 Q408.19 -523.91 414 -523.91 Z\" fill=\"#000000\" fill-rule=\"evenodd\" fill-opacity=\"1\" /><path clip-path=\"url(#clip000)\" d=\"M 0 0 M425.945 -544.216 L444 -544.216 L444 -542.598 L433.806 -516.136 L429.838 -516.136 L439.43 -541.018 L425.945 -541.018 L425.945 -544.216 Z\" fill=\"#000000\" fill-rule=\"evenodd\" fill-opacity=\"1\" /><path clip-path=\"url(#clip000)\" d=\"M 0 0 M1.93551e+254 784.126 L1.93551e+254 743.927 L1.93551e+254 743.927 L1.93551e+254 760.796 L1.93551e+254 760.796 L1.93551e+254 767.257 L1.93551e+254 767.257 L1.93551e+254 784.126 L1.93551e+254 784.126 Z\" fill=\"#000000\" fill-rule=\"evenodd\" fill-opacity=\"1\" /><path clip-path=\"url(#clip000)\" d=\"M 0 0 M1.93551e+254 726.707 Q1.93551e+254 727.694 1.93551e+254 728.872 Q1.93551e+254 730.017 1.93551e+254 731.418 Q1.93551e+254 736.383 1.93551e+254 739.057 Q1.93551e+254 741.699 1.93551e+254 741.699 L1.93551e+254 741.699 L1.93551e+254 747.587 L1.93551e+254 747.587 L1.93551e+254 741.699 L1.93551e+254 741.699 Q1.93551e+254 739.852 1.93551e+254 736.892 Q1.93551e+254 733.932 1.93551e+254 729.699 Q1.93551e+254 729.094 1.93551e+254 728.362 Q1.93551e+254 727.63 1.93551e+254 726.739 L1.93551e+254 726.707 Z\" fill=\"#000000\" fill-rule=\"evenodd\" fill-opacity=\"1\" /><path clip-path=\"url(#clip000)\" d=\"M 0 0 M1.93551e+254 704.364 Q1.93551e+254 711.461 1.93551e+254 714.199 Q1.93551e+254 716.936 1.93551e+254 716.936 Q1.93551e+254 716.936 1.93551e+254 714.899 Q1.93551e+254 712.83 1.93551e+254 709.297 Q1.93551e+254 704.427 1.93551e+254 701.499 Q1.93551e+254 698.539 1.93551e+254 698.539 L1.93551e+254 698.539 L1.93551e+254 704.364 M1.93551e+254 692.683 L1.93551e+254 692.683 L1.93551e+254 698.539 L1.93551e+254 698.539 Q1.93551e+254 700.544 1.93551e+254 703.536 Q1.93551e+254 706.528 1.93551e+254 710.857 Q1.93551e+254 716.331 1.93551e+254 719.578 Q1.93551e+254 722.792 1.93551e+254 722.792 Q1.93551e+254 722.792 1.93551e+254 718.782 Q1.93551e+254 714.74 1.93551e+254 706.751 L1.93551e+254 698.539 L1.93551e+254 698.539 Q1.93551e+254 698.539 1.93551e+254 701.213 Q1.93551e+254 703.854 1.93551e+254 708.661 Q1.93551e+254 711.716 1.93551e+254 714.612 Q1.93551e+254 717.509 1.93551e+254 720.182 L1.93551e+254 720.182 Q1.93551e+254 716.968 1.93551e+254 713.944 Q1.93551e+254 710.92 1.93551e+254 708.056 Q1.93551e+254 700.321 1.93551e+254 696.502 Q1.93551e+254 692.683 1.93551e+254 692.683 Z\" fill=\"#000000\" fill-rule=\"evenodd\" fill-opacity=\"1\" /><path clip-path=\"url(#clip000)\" d=\"M 0 0 M1.93551e+254 660.886 L1.93551e+254 660.886 Q1.93551e+254 663.369 1.93551e+254 665.883 Q1.93551e+254 668.366 1.93551e+254 670.912 Q1.93551e+254 676.609 1.93551e+254 679.76 Q1.93551e+254 682.911 1.93551e+254 682.911 Q1.93551e+254 682.911 1.93551e+254 679.76 Q1.93551e+254 676.609 1.93551e+254 670.912 Q1.93551e+254 668.366 1.93551e+254 665.883 Q1.93551e+254 663.369 1.93551e+254 660.886 L1.93551e+254 660.886 Q1.93551e+254 663.337 1.93551e+254 665.978 Q1.93551e+254 668.588 1.93551e+254 671.548 Q1.93551e+254 679.601 1.93551e+254 684.344 Q1.93551e+254 689.086 1.93551e+254 689.086 Q1.93551e+254 689.086 1.93551e+254 684.312 Q1.93551e+254 679.506 1.93551e+254 671.167 Q1.93551e+254 668.461 1.93551e+254 665.883 Q1.93551e+254 663.305 1.93551e+254 660.886 Z\" fill=\"#000000\" fill-rule=\"evenodd\" fill-opacity=\"1\" /><path clip-path=\"url(#clip000)\" d=\"M 0 0 M1.93551e+254 648.95 L1.93551e+254 648.95 L1.93551e+254 636.887 L1.93551e+254 636.887 L1.93551e+254 648.95 L1.93551e+254 648.95 Q1.93551e+254 648.95 1.93551e+254 647.773 Q1.93551e+254 646.563 1.93551e+254 642.903 L1.93551e+254 636.887 L1.93551e+254 636.887 L1.93551e+254 642.903 Q1.93551e+254 649.682 1.93551e+254 652.26 Q1.93551e+254 654.838 1.93551e+254 654.838 L1.93551e+254 654.838 L1.93551e+254 659.135 L1.93551e+254 659.135 L1.93551e+254 654.838 L1.93551e+254 654.838 L1.93551e+254 648.95 Z\" fill=\"#000000\" fill-rule=\"evenodd\" fill-opacity=\"1\" /><path clip-path=\"url(#clip000)\" d=\"M 0 0 M1.93551e+254 630.744 L1.93551e+254 624.888 L1.93551e+254 624.888 L1.93551e+254 630.744 L1.93551e+254 630.744 M1.93551e+254 630.744 L1.93551e+254 624.888 L1.93551e+254 624.888 L1.93551e+254 630.744 L1.93551e+254 630.744 Z\" fill=\"#000000\" fill-rule=\"evenodd\" fill-opacity=\"1\" /><path clip-path=\"url(#clip000)\" d=\"M 0 0 M1.93551e+254 604.931 Q1.93551e+254 609.642 1.93551e+254 612.379 Q1.93551e+254 615.116 1.93551e+254 615.116 Q1.93551e+254 615.116 1.93551e+254 612.411 Q1.93551e+254 609.674 1.93551e+254 604.931 Q1.93551e+254 600.253 1.93551e+254 597.515 Q1.93551e+254 594.778 1.93551e+254 594.778 Q1.93551e+254 594.778 1.93551e+254 597.515 Q1.93551e+254 600.253 1.93551e+254 604.931 M1.93551e+254 604.931 Q1.93551e+254 597.292 1.93551e+254 592.932 Q1.93551e+254 588.571 1.93551e+254 588.571 Q1.93551e+254 588.571 1.93551e+254 592.932 Q1.93551e+254 597.292 1.93551e+254 604.931 Q1.93551e+254 612.602 1.93551e+254 616.963 Q1.93551e+254 621.291 1.93551e+254 621.291 Q1.93551e+254 621.291 1.93551e+254 616.963 Q1.93551e+254 612.602 1.93551e+254 604.931 Z\" fill=\"#000000\" fill-rule=\"evenodd\" fill-opacity=\"1\" /><path clip-path=\"url(#clip000)\" d=\"M 0 0 M1.93551e+254 552.796 L1.93551e+254 552.796 L1.93551e+254 558.653 L1.93551e+254 558.653 Q1.93551e+254 558.653 1.93551e+254 560.626 Q1.93551e+254 562.599 1.93551e+254 566.546 Q1.93551e+254 571.289 1.93551e+254 574.026 Q1.93551e+254 576.763 1.93551e+254 576.763 L1.93551e+254 576.763 L1.93551e+254 582.651 L1.93551e+254 582.651 L1.93551e+254 576.763 L1.93551e+254 576.763 Q1.93551e+254 574.662 1.93551e+254 571.83 Q1.93551e+254 568.965 1.93551e+254 565.241 Q1.93551e+254 559.098 1.93551e+254 555.947 Q1.93551e+254 552.796 1.93551e+254 552.796 Z\" fill=\"#000000\" fill-rule=\"evenodd\" fill-opacity=\"1\" /><path clip-path=\"url(#clip000)\" d=\"M 0 0 M1.93551e+254 526.474 L1.93551e+254 512.979 L1.93551e+254 512.979 L1.93551e+254 520.618 L1.93551e+254 520.618 L1.93551e+254 512.979 L1.93551e+254 512.979 L1.93551e+254 526.474 L1.93551e+254 526.474 Z\" fill=\"#000000\" fill-rule=\"evenodd\" fill-opacity=\"1\" /><path clip-path=\"url(#clip000)\" d=\"M 0 0 M1.93551e+254 500.152 L1.93551e+254 500.152 L1.93551e+254 492.067 Q1.93551e+254 487.58 1.93551e+254 485.129 Q1.93551e+254 482.678 1.93551e+254 482.678 Q1.93551e+254 482.678 1.93551e+254 485.129 Q1.93551e+254 487.58 1.93551e+254 492.067 L1.93551e+254 500.152 M1.93551e+254 506.581 L1.93551e+254 492.067 Q1.93551e+254 484.078 1.93551e+254 480.004 Q1.93551e+254 475.898 1.93551e+254 475.898 Q1.93551e+254 475.898 1.93551e+254 480.004 Q1.93551e+254 484.078 1.93551e+254 492.067 L1.93551e+254 500.152 L1.93551e+254 500.152 L1.93551e+254 506.581 L1.93551e+254 506.581 Z\" fill=\"#000000\" fill-rule=\"evenodd\" fill-opacity=\"1\" /><path clip-path=\"url(#clip000)\" d=\"M 0 0 M1.93551e+254 456.483 Q1.93551e+254 463.581 1.93551e+254 466.318 Q1.93551e+254 469.055 1.93551e+254 469.055 Q1.93551e+254 469.055 1.93551e+254 467.018 Q1.93551e+254 464.949 1.93551e+254 461.416 Q1.93551e+254 456.547 1.93551e+254 453.618 Q1.93551e+254 450.658 1.93551e+254 450.658 L1.93551e+254 450.658 L1.93551e+254 456.483 M1.93551e+254 444.802 L1.93551e+254 444.802 L1.93551e+254 450.658 L1.93551e+254 450.658 Q1.93551e+254 452.664 1.93551e+254 455.656 Q1.93551e+254 458.647 1.93551e+254 462.976 Q1.93551e+254 468.451 1.93551e+254 471.697 Q1.93551e+254 474.912 1.93551e+254 474.912 Q1.93551e+254 474.912 1.93551e+254 470.901 Q1.93551e+254 466.859 1.93551e+254 458.87 L1.93551e+254 450.658 L1.93551e+254 450.658 Q1.93551e+254 450.658 1.93551e+254 453.332 Q1.93551e+254 455.974 1.93551e+254 460.78 Q1.93551e+254 463.835 1.93551e+254 466.732 Q1.93551e+254 469.628 1.93551e+254 472.302 L1.93551e+254 472.302 Q1.93551e+254 469.087 1.93551e+254 466.063 Q1.93551e+254 463.04 1.93551e+254 460.175 Q1.93551e+254 452.441 1.93551e+254 448.621 Q1.93551e+254 444.802 1.93551e+254 444.802 Z\" fill=\"#000000\" fill-rule=\"evenodd\" fill-opacity=\"1\" /><path clip-path=\"url(#clip000)\" d=\"M 0 0 M1.93551e+254 424.973 L1.93551e+254 424.973 L1.93551e+254 438.468 L1.93551e+254 438.468 L1.93551e+254 430.861 L1.93551e+254 430.861 L1.93551e+254 438.468 L1.93551e+254 438.468 L1.93551e+254 424.973 Z\" fill=\"#000000\" fill-rule=\"evenodd\" fill-opacity=\"1\" /><path clip-path=\"url(#clip000)\" d=\"M 0 0 M9.67754e+253 12.096 L9.67754e+253 12.096 L9.67754e+253 18.9825 L9.67754e+253 18.9825 L9.67754e+253 72.576 L9.67754e+253 72.576 L9.67754e+253 18.9825 L9.67754e+253 18.9825 L9.67754e+253 12.096 Z\" fill=\"#000000\" fill-rule=\"evenodd\" fill-opacity=\"1\" /><path clip-path=\"url(#clip000)\" d=\"M 0 0 M9.67754e+253 34.1734 Q9.67754e+253 33.4443 9.67754e+253 33.1202 Q9.67754e+253 32.7556 9.67754e+253 32.7556 Q9.67754e+253 32.7556 9.67754e+253 36.8875 Q9.67754e+253 40.9789 9.67754e+253 48.6757 L9.67754e+253 72.576 L9.67754e+253 72.576 L9.67754e+253 27.2059 L9.67754e+253 27.2059 L9.67754e+253 34.2544 Q9.67754e+253 30.1225 9.67754e+253 28.1376 Q9.67754e+253 26.1121 9.67754e+253 26.1121 Q9.67754e+253 26.1121 9.67754e+253 26.2337 Q9.67754e+253 26.3147 9.67754e+253 26.5172 L9.67754e+253 34.1734 Z\" fill=\"#000000\" fill-rule=\"evenodd\" fill-opacity=\"1\" /><path clip-path=\"url(#clip000)\" d=\"M 0 0 M9.67754e+253 49.7694 Q9.67754e+253 49.7694 9.67754e+253 51.8354 Q9.67754e+253 53.9013 9.67754e+253 58.8839 Q9.67754e+253 62.8538 9.67754e+253 65.2034 Q9.67754e+253 67.5124 9.67754e+253 67.5124 Q9.67754e+253 67.5124 9.67754e+253 63.1374 Q9.67754e+253 58.7219 9.67754e+253 51.4303 L9.67754e+253 49.7694 L9.67754e+253 49.7694 M9.67754e+253 46.6907 L9.67754e+253 72.576 L9.67754e+253 72.576 L9.67754e+253 65.6895 Q9.67754e+253 69.8214 9.67754e+253 71.8063 Q9.67754e+253 73.7508 9.67754e+253 73.7508 Q9.67754e+253 73.7508 9.67754e+253 69.8619 Q9.67754e+253 65.9325 9.67754e+253 59.3701 Q9.67754e+253 51.7138 9.67754e+253 47.825 Q9.67754e+253 43.9361 9.67754e+253 43.9361 L9.67754e+253 43.9361 L9.67754e+253 43.2069 Q9.67754e+253 38.0623 9.67754e+253 35.2672 Q9.67754e+253 32.4315 9.67754e+253 32.4315 Q9.67754e+253 32.4315 9.67754e+253 33.3632 Q9.67754e+253 34.295 9.67754e+253 36.1584 L9.67754e+253 29.2718 Q9.67754e+253 27.692 9.67754e+253 26.9223 Q9.67754e+253 26.1121 9.67754e+253 26.1121 Q9.67754e+253 26.1121 9.67754e+253 31.2163 Q9.67754e+253 36.3204 9.67754e+253 46.6907 Z\" fill=\"#000000\" fill-rule=\"evenodd\" fill-opacity=\"1\" /><path clip-path=\"url(#clip000)\" d=\"M 0 0 M9.67754e+253 28.9478 L9.67754e+253 35.9153 Q9.67754e+253 34.1734 9.67754e+253 33.3227 Q9.67754e+253 32.4315 9.67754e+253 32.4315 Q9.67754e+253 32.4315 9.67754e+253 37.0496 Q9.67754e+253 41.6271 9.67754e+253 49.9314 Q9.67754e+253 58.2358 9.67754e+253 62.8538 Q9.67754e+253 67.4314 9.67754e+253 67.4314 Q9.67754e+253 67.4314 9.67754e+253 66.5807 Q9.67754e+253 65.6895 9.67754e+253 63.9476 L9.67754e+253 70.8341 Q9.67754e+253 72.2924 9.67754e+253 73.0216 Q9.67754e+253 73.7508 9.67754e+253 73.7508 Q9.67754e+253 73.7508 9.67754e+253 67.3098 Q9.67754e+253 60.8689 9.67754e+253 49.9314 Q9.67754e+253 38.832 9.67754e+253 32.472 Q9.67754e+253 26.1121 9.67754e+253 26.1121 Q9.67754e+253 26.1121 9.67754e+253 26.8413 Q9.67754e+253 27.5299 9.67754e+253 28.9478 Z\" fill=\"#000000\" fill-rule=\"evenodd\" fill-opacity=\"1\" /><path clip-path=\"url(#clip000)\" d=\"M 0 0 M9.67754e+253 14.324 L9.67754e+253 27.2059 L9.67754e+253 27.2059 L9.67754e+253 32.9987 L9.67754e+253 32.9987 L9.67754e+253 57.6282 Q9.67754e+253 63.1779 9.67754e+253 64.7578 Q9.67754e+253 66.3376 9.67754e+253 66.3376 L9.67754e+253 66.3376 L9.67754e+253 72.576 L9.67754e+253 72.576 Q9.67754e+253 72.576 9.67754e+253 69.3758 Q9.67754e+253 66.1351 9.67754e+253 57.6282 L9.67754e+253 32.9987 L9.67754e+253 32.9987 L9.67754e+253 27.2059 L9.67754e+253 27.2059 L9.67754e+253 14.324 L9.67754e+253 14.324 Z\" fill=\"#000000\" fill-rule=\"evenodd\" fill-opacity=\"1\" /><path clip-path=\"url(#clip000)\" d=\"M 0 0 M9.67754e+253 27.2059 L9.67754e+253 27.2059 L9.67754e+253 72.576 L9.67754e+253 72.576 L9.67754e+253 27.2059 M9.67754e+253 9.54393 L9.67754e+253 9.54393 L9.67754e+253 18.9825 L9.67754e+253 18.9825 L9.67754e+253 9.54393 Z\" fill=\"#000000\" fill-rule=\"evenodd\" fill-opacity=\"1\" /><path clip-path=\"url(#clip000)\" d=\"M 0 0 M9.67754e+253 32.4315 Q9.67754e+253 32.4315 9.67754e+253 37.1306 Q9.67754e+253 41.7891 9.67754e+253 49.9314 Q9.67754e+253 58.0738 9.67754e+253 62.7728 Q9.67754e+253 67.4314 9.67754e+253 67.4314 Q9.67754e+253 67.4314 9.67754e+253 62.7323 Q9.67754e+253 58.0333 9.67754e+253 49.9314 Q9.67754e+253 41.8701 9.67754e+253 37.1711 Q9.67754e+253 32.4315 9.67754e+253 32.4315 M9.67754e+253 26.1121 Q9.67754e+253 26.1121 9.67754e+253 32.4315 Q9.67754e+253 38.7509 9.67754e+253 49.9314 Q9.67754e+253 61.0714 9.67754e+253 67.4314 Q9.67754e+253 73.7508 9.67754e+253 73.7508 Q9.67754e+253 73.7508 9.67754e+253 67.4314 Q9.67754e+253 61.0714 9.67754e+253 49.9314 Q9.67754e+253 38.7509 9.67754e+253 32.4315 Q9.67754e+253 26.1121 9.67754e+253 26.1121 Z\" fill=\"#000000\" fill-rule=\"evenodd\" fill-opacity=\"1\" /><path clip-path=\"url(#clip000)\" d=\"M 0 0 M9.67754e+253 45.1919 L9.67754e+253 72.576 L9.67754e+253 72.576 L9.67754e+253 45.4349 Q9.67754e+253 38.994 9.67754e+253 35.7938 Q9.67754e+253 32.5936 9.67754e+253 32.5936 Q9.67754e+253 32.5936 9.67754e+253 36.4419 Q9.67754e+253 40.2903 9.67754e+253 46.9338 L9.67754e+253 72.576 L9.67754e+253 72.576 L9.67754e+253 27.2059 L9.67754e+253 27.2059 L9.67754e+253 34.2544 Q9.67754e+253 30.163 9.67754e+253 28.1376 Q9.67754e+253 26.1121 9.67754e+253 26.1121 Q9.67754e+253 26.1121 9.67754e+253 30.9732 Q9.67754e+253 35.7938 9.67754e+253 45.1919 Z\" fill=\"#000000\" fill-rule=\"evenodd\" fill-opacity=\"1\" /><path clip-path=\"url(#clip000)\" d=\"M 0 0 M9.67754e+253 46.5287 L9.67754e+253 46.5287 L9.67754e+253 53.1722 L9.67754e+253 53.1722 L9.67754e+253 46.5287 Z\" fill=\"#000000\" fill-rule=\"evenodd\" fill-opacity=\"1\" /><path clip-path=\"url(#clip000)\" d=\"M 0 0 M9.67754e+253 34.0924 L9.67754e+253 9.54393 L9.67754e+253 9.54393 L9.67754e+253 72.576 L9.67754e+253 72.576 L9.67754e+253 65.7705 Q9.67754e+253 69.8214 9.67754e+253 71.8063 Q9.67754e+253 73.7508 9.67754e+253 73.7508 Q9.67754e+253 73.7508 9.67754e+253 67.1883 Q9.67754e+253 60.6258 9.67754e+253 49.9314 Q9.67754e+253 39.2371 9.67754e+253 32.6746 Q9.67754e+253 26.1121 9.67754e+253 26.1121 Q9.67754e+253 26.1121 9.67754e+253 28.0971 Q9.67754e+253 30.0415 9.67754e+253 34.0924 M9.67754e+253 49.9314 Q9.67754e+253 58.1548 9.67754e+253 62.8538 Q9.67754e+253 67.5124 9.67754e+253 67.5124 Q9.67754e+253 67.5124 9.67754e+253 62.8538 Q9.67754e+253 58.1548 9.67754e+253 49.9314 Q9.67754e+253 41.7081 9.67754e+253 37.0496 Q9.67754e+253 32.3505 9.67754e+253 32.3505 Q9.67754e+253 32.3505 9.67754e+253 37.0496 Q9.67754e+253 41.7081 9.67754e+253 49.9314 Z\" fill=\"#000000\" fill-rule=\"evenodd\" fill-opacity=\"1\" /><path clip-path=\"url(#clip000)\" d=\"M 0 0 M9.67754e+253 27.2059 L9.67754e+253 27.2059 L9.67754e+253 72.576 L9.67754e+253 72.576 L9.67754e+253 27.2059 M9.67754e+253 9.54393 L9.67754e+253 9.54393 L9.67754e+253 18.9825 L9.67754e+253 18.9825 L9.67754e+253 9.54393 Z\" fill=\"#000000\" fill-rule=\"evenodd\" fill-opacity=\"1\" /><path clip-path=\"url(#clip000)\" d=\"M 0 0 M9.67754e+253 28.5427 L9.67754e+253 35.5912 Q9.67754e+253 33.9709 9.67754e+253 33.1607 Q9.67754e+253 32.3505 9.67754e+253 32.3505 Q9.67754e+253 32.3505 9.67754e+253 34.0519 Q9.67754e+253 35.7533 9.67754e+253 39.156 Q9.67754e+253 41.7486 9.67754e+253 43.2475 Q9.67754e+253 44.7058 9.67754e+253 46.0426 L9.67754e+253 46.6097 Q9.67754e+253 48.3111 9.67754e+253 51.4303 Q9.67754e+253 54.509 9.67754e+253 60.0587 Q9.67754e+253 66.3781 9.67754e+253 70.0644 Q9.67754e+253 73.7508 9.67754e+253 73.7508 Q9.67754e+253 73.7508 9.67754e+253 73.0216 Q9.67754e+253 72.3329 9.67754e+253 70.9151 L9.67754e+253 63.2184 Q9.67754e+253 65.3654 9.67754e+253 66.4591 Q9.67754e+253 67.5124 9.67754e+253 67.5124 Q9.67754e+253 67.5124 9.67754e+253 65.73 Q9.67754e+253 63.9071 9.67754e+253 60.6258 Q9.67754e+253 57.5877 9.67754e+253 55.9673 Q9.67754e+253 54.3469 9.67754e+253 52.8481 L9.67754e+253 52.2405 Q9.67754e+253 50.7821 9.67754e+253 47.7845 Q9.67754e+253 44.7463 9.67754e+253 39.4801 Q9.67754e+253 33.0797 9.67754e+253 29.5959 Q9.67754e+253 26.1121 9.67754e+253 26.1121 Q9.67754e+253 26.1121 9.67754e+253 26.7198 Q9.67754e+253 27.3274 9.67754e+253 28.5427 Z\" fill=\"#000000\" fill-rule=\"evenodd\" fill-opacity=\"1\" /><path clip-path=\"url(#clip000)\" d=\"M 0 0 M9.67754e+253 65.7705 L9.67754e+253 89.8329 L9.67754e+253 89.8329 L9.67754e+253 27.2059 L9.67754e+253 27.2059 L9.67754e+253 34.0924 Q9.67754e+253 30.0415 9.67754e+253 28.0971 Q9.67754e+253 26.1121 9.67754e+253 26.1121 Q9.67754e+253 26.1121 9.67754e+253 32.6746 Q9.67754e+253 39.2371 9.67754e+253 49.9314 Q9.67754e+253 60.6258 9.67754e+253 67.1883 Q9.67754e+253 73.7508 9.67754e+253 73.7508 Q9.67754e+253 73.7508 9.67754e+253 71.8063 Q9.67754e+253 69.8214 9.67754e+253 65.7705 M9.67754e+253 49.9314 Q9.67754e+253 41.7081 9.67754e+253 37.0496 Q9.67754e+253 32.3505 9.67754e+253 32.3505 Q9.67754e+253 32.3505 9.67754e+253 37.0496 Q9.67754e+253 41.7081 9.67754e+253 49.9314 Q9.67754e+253 58.1548 9.67754e+253 62.8538 Q9.67754e+253 67.5124 9.67754e+253 67.5124 Q9.67754e+253 67.5124 9.67754e+253 62.8538 Q9.67754e+253 58.1548 9.67754e+253 49.9314 Z\" fill=\"#000000\" fill-rule=\"evenodd\" fill-opacity=\"1\" /><path clip-path=\"url(#clip000)\" d=\"M 0 0 M9.67754e+253 9.54393 L9.67754e+253 9.54393 L9.67754e+253 72.576 L9.67754e+253 72.576 L9.67754e+253 9.54393 Z\" fill=\"#000000\" fill-rule=\"evenodd\" fill-opacity=\"1\" /><path clip-path=\"url(#clip000)\" d=\"M 0 0 M9.67754e+253 49.7694 Q9.67754e+253 49.7694 9.67754e+253 51.8354 Q9.67754e+253 53.9013 9.67754e+253 58.8839 Q9.67754e+253 62.8538 9.67754e+253 65.2034 Q9.67754e+253 67.5124 9.67754e+253 67.5124 Q9.67754e+253 67.5124 9.67754e+253 63.1374 Q9.67754e+253 58.7219 9.67754e+253 51.4303 L9.67754e+253 49.7694 L9.67754e+253 49.7694 M9.67754e+253 46.6907 L9.67754e+253 72.576 L9.67754e+253 72.576 L9.67754e+253 65.6895 Q9.67754e+253 69.8214 9.67754e+253 71.8063 Q9.67754e+253 73.7508 9.67754e+253 73.7508 Q9.67754e+253 73.7508 9.67754e+253 69.8619 Q9.67754e+253 65.9325 9.67754e+253 59.3701 Q9.67754e+253 51.7138 9.67754e+253 47.825 Q9.67754e+253 43.9361 9.67754e+253 43.9361 L9.67754e+253 43.9361 L9.67754e+253 43.2069 Q9.67754e+253 38.0623 9.67754e+253 35.2672 Q9.67754e+253 32.4315 9.67754e+253 32.4315 Q9.67754e+253 32.4315 9.67754e+253 33.3632 Q9.67754e+253 34.295 9.67754e+253 36.1584 L9.67754e+253 29.2718 Q9.67754e+253 27.692 9.67754e+253 26.9223 Q9.67754e+253 26.1121 9.67754e+253 26.1121 Q9.67754e+253 26.1121 9.67754e+253 31.2163 Q9.67754e+253 36.3204 9.67754e+253 46.6907 Z\" fill=\"#000000\" fill-rule=\"evenodd\" fill-opacity=\"1\" /><path clip-path=\"url(#clip000)\" d=\"M 0 0 M9.67754e+253 28.9478 L9.67754e+253 35.9153 Q9.67754e+253 34.1734 9.67754e+253 33.3227 Q9.67754e+253 32.4315 9.67754e+253 32.4315 Q9.67754e+253 32.4315 9.67754e+253 37.0496 Q9.67754e+253 41.6271 9.67754e+253 49.9314 Q9.67754e+253 58.2358 9.67754e+253 62.8538 Q9.67754e+253 67.4314 9.67754e+253 67.4314 Q9.67754e+253 67.4314 9.67754e+253 66.5807 Q9.67754e+253 65.6895 9.67754e+253 63.9476 L9.67754e+253 70.8341 Q9.67754e+253 72.2924 9.67754e+253 73.0216 Q9.67754e+253 73.7508 9.67754e+253 73.7508 Q9.67754e+253 73.7508 9.67754e+253 67.3098 Q9.67754e+253 60.8689 9.67754e+253 49.9314 Q9.67754e+253 38.832 9.67754e+253 32.472 Q9.67754e+253 26.1121 9.67754e+253 26.1121 Q9.67754e+253 26.1121 9.67754e+253 26.8413 Q9.67754e+253 27.5299 9.67754e+253 28.9478 Z\" fill=\"#000000\" fill-rule=\"evenodd\" fill-opacity=\"1\" /><path clip-path=\"url(#clip000)\" d=\"M 0 0 M9.67754e+253 48.0275 L9.67754e+253 51.6733 L9.67754e+253 51.6733 Q9.67754e+253 59.3701 9.67754e+253 63.421 Q9.67754e+253 67.4314 9.67754e+253 67.4314 Q9.67754e+253 67.4314 9.67754e+253 66.3781 Q9.67754e+253 65.3249 9.67754e+253 63.2184 L9.67754e+253 70.267 Q9.67754e+253 71.9684 9.67754e+253 72.8596 Q9.67754e+253 73.7508 9.67754e+253 73.7508 Q9.67754e+253 73.7508 9.67754e+253 67.4314 Q9.67754e+253 61.1119 9.67754e+253 50.3365 Q9.67754e+253 39.1965 9.67754e+253 32.6746 Q9.67754e+253 26.1121 9.67754e+253 26.1121 Q9.67754e+253 26.1121 9.67754e+253 32.0264 Q9.67754e+253 37.9003 9.67754e+253 48.0275 M9.67754e+253 45.84 Q9.67754e+253 39.7232 9.67754e+253 36.0774 Q9.67754e+253 32.4315 9.67754e+253 32.4315 Q9.67754e+253 32.4315 9.67754e+253 35.9558 Q9.67754e+253 39.4801 9.67754e+253 45.8805 L9.67754e+253 45.84 Z\" fill=\"#000000\" fill-rule=\"evenodd\" fill-opacity=\"1\" /><path clip-path=\"url(#clip000)\" d=\"M 0 0 M9.67754e+253 35.9153 Q9.67754e+253 30.8922 9.67754e+253 28.5022 Q9.67754e+253 26.1121 9.67754e+253 26.1121 Q9.67754e+253 26.1121 9.67754e+253 31.0947 Q9.67754e+253 36.0368 9.67754e+253 45.1919 L9.67754e+253 72.576 L9.67754e+253 72.576 L9.67754e+253 45.4349 Q9.67754e+253 38.913 9.67754e+253 35.7533 Q9.67754e+253 32.5936 9.67754e+253 32.5936 Q9.67754e+253 32.5936 9.67754e+253 36.4419 Q9.67754e+253 40.2903 9.67754e+253 46.9338 L9.67754e+253 72.576 L9.67754e+253 72.576 L9.67754e+253 45.4349 Q9.67754e+253 38.8725 9.67754e+253 35.7533 Q9.67754e+253 32.5936 9.67754e+253 32.5936 Q9.67754e+253 32.5936 9.67754e+253 36.4824 Q9.67754e+253 40.3308 9.67754e+253 46.9338 L9.67754e+253 72.576 L9.67754e+253 72.576 L9.67754e+253 27.2059 L9.67754e+253 27.2059 L9.67754e+253 34.2544 Q9.67754e+253 30.082 9.67754e+253 28.0971 Q9.67754e+253 26.1121 9.67754e+253 26.1121 Q9.67754e+253 26.1121 9.67754e+253 28.6237 Q9.67754e+253 31.1352 9.67754e+253 35.9153 Z\" fill=\"#000000\" fill-rule=\"evenodd\" fill-opacity=\"1\" /><path clip-path=\"url(#clip000)\" d=\"M 0 0 M9.67754e+253 48.0275 L9.67754e+253 51.6733 L9.67754e+253 51.6733 Q9.67754e+253 59.3701 9.67754e+253 63.421 Q9.67754e+253 67.4314 9.67754e+253 67.4314 Q9.67754e+253 67.4314 9.67754e+253 66.3781 Q9.67754e+253 65.3249 9.67754e+253 63.2184 L9.67754e+253 70.267 Q9.67754e+253 71.9684 9.67754e+253 72.8596 Q9.67754e+253 73.7508 9.67754e+253 73.7508 Q9.67754e+253 73.7508 9.67754e+253 67.4314 Q9.67754e+253 61.1119 9.67754e+253 50.3365 Q9.67754e+253 39.1965 9.67754e+253 32.6746 Q9.67754e+253 26.1121 9.67754e+253 26.1121 Q9.67754e+253 26.1121 9.67754e+253 32.0264 Q9.67754e+253 37.9003 9.67754e+253 48.0275 M9.67754e+253 45.84 Q9.67754e+253 39.7232 9.67754e+253 36.0774 Q9.67754e+253 32.4315 9.67754e+253 32.4315 Q9.67754e+253 32.4315 9.67754e+253 35.9558 Q9.67754e+253 39.4801 9.67754e+253 45.8805 L9.67754e+253 45.84 Z\" fill=\"#000000\" fill-rule=\"evenodd\" fill-opacity=\"1\" /><path clip-path=\"url(#clip000)\" d=\"M 0 0 M9.67754e+253 45.1919 L9.67754e+253 72.576 L9.67754e+253 72.576 L9.67754e+253 45.4349 Q9.67754e+253 38.994 9.67754e+253 35.7938 Q9.67754e+253 32.5936 9.67754e+253 32.5936 Q9.67754e+253 32.5936 9.67754e+253 36.4419 Q9.67754e+253 40.2903 9.67754e+253 46.9338 L9.67754e+253 72.576 L9.67754e+253 72.576 L9.67754e+253 27.2059 L9.67754e+253 27.2059 L9.67754e+253 34.2544 Q9.67754e+253 30.163 9.67754e+253 28.1376 Q9.67754e+253 26.1121 9.67754e+253 26.1121 Q9.67754e+253 26.1121 9.67754e+253 30.9732 Q9.67754e+253 35.7938 9.67754e+253 45.1919 Z\" fill=\"#000000\" fill-rule=\"evenodd\" fill-opacity=\"1\" /><path clip-path=\"url(#clip000)\" d=\"M 0 0 M9.67754e+253 14.324 L9.67754e+253 27.2059 L9.67754e+253 27.2059 L9.67754e+253 32.9987 L9.67754e+253 32.9987 L9.67754e+253 57.6282 Q9.67754e+253 63.1779 9.67754e+253 64.7578 Q9.67754e+253 66.3376 9.67754e+253 66.3376 L9.67754e+253 66.3376 L9.67754e+253 72.576 L9.67754e+253 72.576 Q9.67754e+253 72.576 9.67754e+253 69.3758 Q9.67754e+253 66.1351 9.67754e+253 57.6282 L9.67754e+253 32.9987 L9.67754e+253 32.9987 L9.67754e+253 27.2059 L9.67754e+253 27.2059 L9.67754e+253 14.324 L9.67754e+253 14.324 Z\" fill=\"#000000\" fill-rule=\"evenodd\" fill-opacity=\"1\" /><polyline clip-path=\"url(#clip001)\" style=\"stroke:#009af9; stroke-width:8; stroke-opacity:1; fill:none\" points=\"\n",
       "  527.547,1072.45 952.158,280 1002.35,191.95 1062.43,103.899 1130.89,15.8491 1211.38,-72.2013 1316.88,-160.252 1465.71,-248.302 1653.23,-336.352 1869.75,-424.403 \n",
       "  2112.45,-512.453 \n",
       "  \"/>\n",
       "<circle clip-path=\"url(#clip001)\" cx=\"527.547\" cy=\"1072.45\" r=\"14\" fill=\"#009af9\" fill-rule=\"evenodd\" fill-opacity=\"1\" stroke=\"#000000\" stroke-opacity=\"1\" stroke-width=\"3.2\"/>\n",
       "<circle clip-path=\"url(#clip001)\" cx=\"952.158\" cy=\"280\" r=\"14\" fill=\"#009af9\" fill-rule=\"evenodd\" fill-opacity=\"1\" stroke=\"#000000\" stroke-opacity=\"1\" stroke-width=\"3.2\"/>\n",
       "<circle clip-path=\"url(#clip001)\" cx=\"1002.35\" cy=\"191.95\" r=\"14\" fill=\"#009af9\" fill-rule=\"evenodd\" fill-opacity=\"1\" stroke=\"#000000\" stroke-opacity=\"1\" stroke-width=\"3.2\"/>\n",
       "<circle clip-path=\"url(#clip001)\" cx=\"1062.43\" cy=\"103.899\" r=\"14\" fill=\"#009af9\" fill-rule=\"evenodd\" fill-opacity=\"1\" stroke=\"#000000\" stroke-opacity=\"1\" stroke-width=\"3.2\"/>\n",
       "<circle clip-path=\"url(#clip001)\" cx=\"1130.89\" cy=\"15.8491\" r=\"14\" fill=\"#009af9\" fill-rule=\"evenodd\" fill-opacity=\"1\" stroke=\"#000000\" stroke-opacity=\"1\" stroke-width=\"3.2\"/>\n",
       "<circle clip-path=\"url(#clip001)\" cx=\"1211.38\" cy=\"-72.2013\" r=\"14\" fill=\"#009af9\" fill-rule=\"evenodd\" fill-opacity=\"1\" stroke=\"#000000\" stroke-opacity=\"1\" stroke-width=\"3.2\"/>\n",
       "<circle clip-path=\"url(#clip001)\" cx=\"1316.88\" cy=\"-160.252\" r=\"14\" fill=\"#009af9\" fill-rule=\"evenodd\" fill-opacity=\"1\" stroke=\"#000000\" stroke-opacity=\"1\" stroke-width=\"3.2\"/>\n",
       "<circle clip-path=\"url(#clip001)\" cx=\"1465.71\" cy=\"-248.302\" r=\"14\" fill=\"#009af9\" fill-rule=\"evenodd\" fill-opacity=\"1\" stroke=\"#000000\" stroke-opacity=\"1\" stroke-width=\"3.2\"/>\n",
       "<circle clip-path=\"url(#clip001)\" cx=\"1653.23\" cy=\"-336.352\" r=\"14\" fill=\"#009af9\" fill-rule=\"evenodd\" fill-opacity=\"1\" stroke=\"#000000\" stroke-opacity=\"1\" stroke-width=\"3.2\"/>\n",
       "<circle clip-path=\"url(#clip001)\" cx=\"1869.75\" cy=\"-424.403\" r=\"14\" fill=\"#009af9\" fill-rule=\"evenodd\" fill-opacity=\"1\" stroke=\"#000000\" stroke-opacity=\"1\" stroke-width=\"3.2\"/>\n",
       "<circle clip-path=\"url(#clip001)\" cx=\"2112.45\" cy=\"-512.453\" r=\"14\" fill=\"#009af9\" fill-rule=\"evenodd\" fill-opacity=\"1\" stroke=\"#000000\" stroke-opacity=\"1\" stroke-width=\"3.2\"/>\n",
       "<path clip-path=\"url(#clip000)\" d=\"\n",
       "M6.45169e+252 232.028 L2.79573e+253 232.028 L2.79573e+253 111.068 L6.45169e+252 111.068  Z\n",
       "  \" fill=\"#ffffff\" fill-rule=\"evenodd\" fill-opacity=\"1\"/>\n",
       "<polyline clip-path=\"url(#clip000)\" style=\"stroke:#000000; stroke-width:4; stroke-opacity:1; fill:none\" points=\"\n",
       "  6.45169e+252,232.028 2.79573e+253,232.028 2.79573e+253,111.068 6.45169e+252,111.068 6.45169e+252,232.028 \n",
       "  \"/>\n",
       "<polyline clip-path=\"url(#clip000)\" style=\"stroke:#009af9; stroke-width:4; stroke-opacity:1; fill:none\" points=\"\n",
       "  2.58068e+253,171.548 1.29034e+253,171.548 \n",
       "  \"/>\n",
       "<path clip-path=\"url(#clip000)\" d=\"M 0 0 M1.07528e+253 152.809 L1.07528e+253 152.809 L1.07528e+253 156.12 L1.07528e+253 156.12 L1.07528e+253 191.768 L1.07528e+253 191.768 L1.07528e+253 195.078 L1.07528e+253 195.078 L1.07528e+253 152.809 Z\" fill=\"#000000\" fill-rule=\"evenodd\" fill-opacity=\"1\" /><path clip-path=\"url(#clip000)\" d=\"M 0 0 M1.07528e+253 154.268 L1.07528e+253 167.115 L1.07528e+253 167.115 L1.07528e+253 154.268 L1.07528e+253 154.268 M1.07528e+253 154.268 L1.07528e+253 167.115 L1.07528e+253 167.115 L1.07528e+253 154.268 L1.07528e+253 154.268 Z\" fill=\"#000000\" fill-rule=\"evenodd\" fill-opacity=\"1\" /><path clip-path=\"url(#clip000)\" d=\"M 0 0 M1.07528e+253 154.268 L1.07528e+253 167.115 L1.07528e+253 167.115 L1.07528e+253 154.268 L1.07528e+253 154.268 M1.07528e+253 154.268 L1.07528e+253 167.115 L1.07528e+253 167.115 L1.07528e+253 154.268 L1.07528e+253 154.268 Z\" fill=\"#000000\" fill-rule=\"evenodd\" fill-opacity=\"1\" /><path clip-path=\"url(#clip000)\" d=\"M 0 0 M1.07528e+253 152.809 L1.07528e+253 195.078 L1.07528e+253 195.078 L1.07528e+253 191.768 L1.07528e+253 191.768 L1.07528e+253 156.12 L1.07528e+253 156.12 L1.07528e+253 152.809 L1.07528e+253 152.809 Z\" fill=\"#000000\" fill-rule=\"evenodd\" fill-opacity=\"1\" /></svg>\n"
      ]
     },
     "metadata": {},
     "execution_count": 17
    }
   ],
   "cell_type": "code",
   "source": [
    "using Plots\n",
    "plot(\n",
    "    vcat(0.0, u_max),                # add the origin as a point\n",
    "    vcat(0.0, traction_magnitude),\n",
    "    linewidth=2,\n",
    "    title=\"Traction-displacement\",\n",
    "    label=[\"\"],\n",
    "    markershape=:auto\n",
    "    )\n",
    "ylabel!(\"Traction [Pa]\")\n",
    "xlabel!(\"Maximum deflection [m]\")"
   ],
   "metadata": {},
   "execution_count": 17
  },
  {
   "cell_type": "markdown",
   "source": [
    "*Figure 2.* Load-displacement-curve for the beam, showing a clear decrease\n",
    "in stiffness as more material starts to yield."
   ],
   "metadata": {}
  },
  {
   "cell_type": "markdown",
   "source": [
    "---\n",
    "\n",
    "*This notebook was generated using [Literate.jl](https://github.com/fredrikekre/Literate.jl).*"
   ],
   "metadata": {}
  }
 ],
 "nbformat_minor": 3,
 "metadata": {
  "language_info": {
   "file_extension": ".jl",
   "mimetype": "application/julia",
   "name": "julia",
   "version": "1.5.2"
  },
  "kernelspec": {
   "name": "julia-1.5",
   "display_name": "Julia 1.5.2",
   "language": "julia"
  }
 },
 "nbformat": 4
}
