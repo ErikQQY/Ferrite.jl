{
 "cells": [
  {
   "cell_type": "markdown",
   "source": [
    "# Bidomain and DifferentialEquations.jl\n",
    "\n",
    "![](bidomain.gif)"
   ],
   "metadata": {}
  },
  {
   "cell_type": "markdown",
   "source": [
    "## Introduction\n",
    "\n",
    "In this example we will implement the [Bidomain Model](https://en.wikipedia.org/wiki/Bidomain_model) with the help of [DifferentialEquations.jl](https://github.com/SciML/DifferentialEquations.jl).\n",
    "This model is used to simulate the excitable media, most commonly cardiac tissue. For more information about the derivation,\n",
    "check out the linked wikipedia article.\n",
    "\n",
    "The Bidomain model in parabolic-elliptic form is given as the following system\n",
    "\n",
    "$$\n",
    "\\begin{aligned}\n",
    "\t\\chi C_{\\textrm{m}} \\frac{\\partial \\varphi_{\\textrm{m}}}{\\partial t} &= \\nabla \\cdot (\\bm{\\kappa}_{\\textrm{i}} \\nabla \\varphi_{\\textrm{m}}) + \\nabla \\cdot (\\bm{\\kappa}_{\\textrm{i}} \\nabla \\varphi_{\\textrm{e}}) - \\chi I_{\\textrm{ion}}(\\varphi_{\\textrm{m}}, \\mathbf{s}) & \\textrm{on} \\: \\Omega \\times (0,T] \\\\\n",
    "\t0 &= \\nabla \\cdot (\\bm{\\kappa}_{\\textrm{i}} \\nabla \\varphi_{\\textrm{m}}) + \\nabla \\cdot (\\bm{\\kappa}_e + \\bm{\\kappa}_{\\textrm{i}}) \\nabla \\varphi_{\\textrm{e}} & \\textrm{on} \\: \\Omega \\times (0,T] \\\\\n",
    "\t\\frac{\\partial \\mathbf{s}}{\\partial t} &= \\mathbf{g}(\\varphi_{\\textrm{m}}, \\mathbf{s}) & \\textrm{on} \\: \\Omega \\times (0,T]\n",
    "\\end{aligned}\n",
    "$$\n",
    "\n",
    "For the scope of this example we utilize the FitzHugh-Nagumo neuronal cell cell model, given by\n",
    "\n",
    "$$\n",
    "\\begin{aligned}\n",
    "\tI_{\\textrm{ion}}(\\varphi_{\\textrm{m}}, \\mathbf{s}) &= - \\varphi_{\\textrm{m}}(1 - \\varphi_{\\textrm{m}})(\\varphi_{\\textrm{m}} - a) + s \\\\\n",
    "\tg(\\varphi_{\\textrm{m}}, \\mathbf{s}) &= e(b\\varphi_{\\textrm{m}} - c s - d)\n",
    "\\end{aligned}\n",
    "$$\n",
    "\n",
    "with parameters and initial conditions as stated in: Alfonso Bueno-Orovio, David Kay, and Kevin Burrage. \"Fourier spectral methods for fractional-in-space reaction-diffusion equations.\" BIT Numerical mathematics 54.4 (2014): 937-954.\n",
    "\n",
    "To utilize [DifferentialEquations.jl](https://github.com/SciML/DifferentialEquations.jl) we first have to discretize the system with JuAFEM into a system of ordinary differential equations (ODEs) in mass matrix form. Therefore we have first to transform it into a weak form\n",
    "\n",
    "$$\n",
    "\\begin{aligned}\n",
    "\t\\int_\\Omega \\chi  C_{\\textrm{m}} \\frac{\\partial \\varphi_{\\textrm{m}}}{\\partial t} v_1 \\textrm{d}\\Omega &= -\\int_\\Omega (\\bm{\\kappa}_{\\textrm{i}} \\nabla \\varphi_{\\textrm{m}} + \\bm{\\kappa}_{\\textrm{i}} \\nabla \\varphi_{\\textrm{e}}) \\cdot \\nabla v_1 \\textrm{d}\\Omega + \\int_\\Omega \\chi (\\varphi_{\\textrm{m}}(1 - \\varphi_{\\textrm{m}})(\\varphi_{\\textrm{m}} - a) - s) v_1 \\textrm{d}\\Omega \\\\\n",
    "\t0 &= -\\int_\\Omega (\\bm{\\kappa}_{\\textrm{i}} \\nabla \\varphi_{\\textrm{m}} + (\\bm{\\kappa}_e + \\bm{\\kappa}_{\\textrm{i}}) \\nabla \\varphi_{\\textrm{e}}) \\cdot \\nabla v_2 \\textrm{d}\\Omega \\\\\n",
    "\t\\int_\\Omega \\frac{\\partial s}{\\partial t} v_3 \\textrm{d}\\Omega &= \\int_\\Omega e(b\\varphi_{\\textrm{m}} - c s - d) v_3 \\textrm{d}\\Omega\n",
    "\\end{aligned}\n",
    "$$\n",
    "\n",
    "where we assume no flux boundary condition for $\\varphi_{\\textrm{m}}, \\varphi_{\\textrm{e}}$, except in one point. This models a grounding through a Dirichlet condition of zero in this point.\n",
    "\n",
    "Please note that technically speaking we obtain a [differential-algebraic system of equations](https://en.wikipedia.org/wiki/Differential-algebraic_system_of_equations) (DAE), so note that we cannot apply all ODE solvers to the resulting system. However, [DifferentialEquations.jl](https://github.com/SciML/DifferentialEquations.jl) expects for some solvers to state the DAE as an ODE in mass matrix form and because this form arises naturally in finite element methods for many common problems, let us stick with it. In this example the required Jacobians for the ODE solver are computed via automatic differentiation, but in optimized implementations they can also be manually provided.\n",
    "\n",
    "Discretizing the provided weak form yields a semi-linear system of ODEs in mass matrix form:\n",
    "\n",
    "$$\n",
    "\\mathcal{M}\n",
    "\\begin{bmatrix}\n",
    "  \\frac{\\partial\\tilde{\\varphi}_\\textrm{m}}{\\partial t} \\\\\n",
    "  \\frac{\\partial\\tilde{\\varphi}_\\textrm{e}}{\\partial t} \\\\\n",
    "  \\frac{\\partial \\tilde{s}}{\\partial t}\n",
    "\\end{bmatrix}\n",
    "=\n",
    "\\mathcal{L}\n",
    "\\begin{bmatrix}\n",
    "  \\tilde{\\varphi}_\\textrm{m} \\\\\n",
    "  \\tilde{\\varphi}_\\textrm{e} \\\\\n",
    "  \\tilde{s}\n",
    "\\end{bmatrix}\n",
    "+\n",
    "\\mathcal{N}(\n",
    "  \\tilde{\\varphi}_\\textrm{m},\n",
    "  \\tilde{\\varphi}_\\textrm{e},\n",
    "  \\tilde{s})\n",
    "$$\n",
    "\n",
    "## Commented Program"
   ],
   "metadata": {}
  },
  {
   "outputs": [],
   "cell_type": "code",
   "source": [
    "using JuAFEM, SparseArrays, BlockArrays"
   ],
   "metadata": {},
   "execution_count": 1
  },
  {
   "cell_type": "markdown",
   "source": [
    "Instead of using a self written time integrator,\n",
    "we will use in this example a time integrator of [DifferentialEquations.jl](https://github.com/SciML/DifferentialEquations.jl)\n",
    "[DifferentialEquations.jl](https://github.com/SciML/DifferentialEquations.jl) is a powerful package, from which we will use\n",
    "adaptive time stepping. Besides this, almost any ODE solver you can imagine is available.\n",
    "In order to use it, we first need to `import` it."
   ],
   "metadata": {}
  },
  {
   "outputs": [],
   "cell_type": "code",
   "source": [
    "import DifferentialEquations"
   ],
   "metadata": {},
   "execution_count": 2
  },
  {
   "cell_type": "markdown",
   "source": [
    "Now, we define the computational domain and cellvalues. We exploit the fact that all fields of\n",
    "the Bidomain model are approximated with the same Ansatz. Hence, we use one CellScalarValues struct for all three fields."
   ],
   "metadata": {}
  },
  {
   "outputs": [],
   "cell_type": "code",
   "source": [
    "grid = generate_grid(Quadrilateral, (60, 60), Vec{2}((0.0,0.0)), Vec{2}((2.5,2.5)))\n",
    "addnodeset!(grid, \"ground\", x-> x[2] == -0 && x[1] == -0)\n",
    "dim = 2\n",
    "Δt = 0.1\n",
    "T = 1000\n",
    "ip = Lagrange{dim, RefCube, 1}()\n",
    "qr = QuadratureRule{dim, RefCube}(2)\n",
    "cellvalues = CellScalarValues(qr, ip);"
   ],
   "metadata": {},
   "execution_count": 3
  },
  {
   "cell_type": "markdown",
   "source": [
    "We need to intialize a DofHandler. The DofHandler needs to be aware of three different fields\n",
    "which are all first order approximations. After pushing all fields into the DofHandler, we `close`\n",
    "it and thereby distribute the dofs of the problem."
   ],
   "metadata": {}
  },
  {
   "outputs": [],
   "cell_type": "code",
   "source": [
    "dh = DofHandler(grid)\n",
    "push!(dh, :ϕₘ, 1)\n",
    "push!(dh, :ϕₑ, 1)\n",
    "push!(dh, :s, 1)\n",
    "close!(dh);"
   ],
   "metadata": {},
   "execution_count": 4
  },
  {
   "cell_type": "markdown",
   "source": [
    "The linear parts of the Bidomain equations contribute to the stiffness and mass matrix, respectively.\n",
    "So, we create a sparsity pattern for those terms."
   ],
   "metadata": {}
  },
  {
   "outputs": [],
   "cell_type": "code",
   "source": [
    "K = create_sparsity_pattern(dh)\n",
    "M = create_sparsity_pattern(dh);"
   ],
   "metadata": {},
   "execution_count": 5
  },
  {
   "cell_type": "markdown",
   "source": [
    "Material related parameters are stored in the struct `FHNParameters`"
   ],
   "metadata": {}
  },
  {
   "outputs": [],
   "cell_type": "code",
   "source": [
    "Base.@kwdef struct FHNParameters\n",
    "    a::Float64 = 0.1\n",
    "    b::Float64 = 0.5\n",
    "    c::Float64 = 1.0\n",
    "    d::Float64 = 0.0\n",
    "    e::Float64 = 0.01\n",
    "end;"
   ],
   "metadata": {},
   "execution_count": 6
  },
  {
   "cell_type": "markdown",
   "source": [
    "Within the equations of the model, spatial dependent parameters occur such as κₑ, κᵢ, Cₘ and χ.\n",
    "For the sake of simplicity we kept them constant.\n",
    "Nonetheless, we show how one can model spatial dependent coefficients. Hence, the unused function argument `x`"
   ],
   "metadata": {}
  },
  {
   "outputs": [],
   "cell_type": "code",
   "source": [
    "function κₑ(x)\n",
    "    return SymmetricTensor{2,2,Float64}((3.5e-5, 0, 2.5e-5))\n",
    "end;\n",
    "\n",
    "function κᵢ(x)\n",
    "    return SymmetricTensor{2,2,Float64}((4.5e-5, 0, 2.0e-6))\n",
    "end;\n",
    "\n",
    "function Cₘ(x)\n",
    "    return 1.0\n",
    "end;\n",
    "\n",
    "function χ(x)\n",
    "    return 1.0\n",
    "end;"
   ],
   "metadata": {},
   "execution_count": 7
  },
  {
   "cell_type": "markdown",
   "source": [
    "Boundary conditions are added to the problem in the usual way.\n",
    "Please check out the other examples for an in depth explanation.\n",
    "Here we force the extracellular porential to be zero at the boundary."
   ],
   "metadata": {}
  },
  {
   "outputs": [],
   "cell_type": "code",
   "source": [
    "ch = ConstraintHandler(dh)\n",
    "∂Ω = getnodeset(grid, \"ground\")\n",
    "dbc = Dirichlet(:ϕₑ, ∂Ω, (x, t) -> 0)\n",
    "add!(ch, dbc)\n",
    "close!(ch)\n",
    "update!(ch, 0.0);"
   ],
   "metadata": {},
   "execution_count": 8
  },
  {
   "cell_type": "markdown",
   "source": [
    "We first write a helper to assemble the linear parts. Note that we can precompute and cache linear parts. In the used notation subscripts indicate dependent coefficients.\n",
    "\n",
    "$$\n",
    "\\mathcal{M}\n",
    "=\n",
    "\\begin{bmatrix}\n",
    "  M_{\\chi C_\\textrm{m}} & 0 & 0 \\\\\n",
    "  0 & 0 & 0 \\\\\n",
    "  0 & 0 & M\n",
    "\\end{bmatrix}\n",
    "\\qquad\n",
    "\\mathcal{L}\n",
    "=\n",
    "\\begin{bmatrix}\n",
    "  -M_{a\\chi}-K_{\\bm{\\kappa}_{\\textrm{i}}} & -K_{\\bm{\\kappa}_{\\textrm{i}}} & -M_{\\chi} \\\\\n",
    "  -K_{\\bm{\\kappa}_{\\textrm{i}}} & -K_{\\bm{\\kappa}_{\\textrm{i}}+\\bm{\\kappa}_{\\textrm{e}}} & 0 \\\\\n",
    "  M_{be} & 0 & -M_{bc}\n",
    "\\end{bmatrix}\n",
    "$$\n",
    "\n",
    "In the following function, `doassemble_linear!`, we assemble all linear parts of the system that stay same over all time steps.\n",
    "This follows from the used Method of Lines, where we first discretize in space and afterwards in time."
   ],
   "metadata": {}
  },
  {
   "outputs": [],
   "cell_type": "code",
   "source": [
    "function doassemble_linear!(cellvalues::CellScalarValues{dim}, K::SparseMatrixCSC, M::SparseMatrixCSC, dh::DofHandler; params::FHNParameters = FHNParameters()) where {dim}\n",
    "    n_ϕₘ = getnbasefunctions(cellvalues)\n",
    "    n_ϕₑ = getnbasefunctions(cellvalues)\n",
    "    n_s = getnbasefunctions(cellvalues)\n",
    "    ntotal = n_ϕₘ + n_ϕₑ + n_s\n",
    "    n_basefuncs = getnbasefunctions(cellvalues)\n",
    "    #We use PseudoBlockArrays to write into the right places of Ke\n",
    "    Ke = PseudoBlockArray(zeros(ntotal, ntotal), [n_ϕₘ, n_ϕₑ, n_s], [n_ϕₘ, n_ϕₑ, n_s])\n",
    "    Me = PseudoBlockArray(zeros(ntotal, ntotal), [n_ϕₘ, n_ϕₑ, n_s], [n_ϕₘ, n_ϕₑ, n_s])\n",
    "\n",
    "    assembler_K = start_assemble(K)\n",
    "    assembler_M = start_assemble(M)\n",
    "\n",
    "    #Here the block indices of the variables are defined.\n",
    "    ϕₘ▄, ϕₑ▄, s▄ = 1, 2, 3\n",
    "\n",
    "    #Now we iterate over all cells of the grid\n",
    "    @inbounds for cell in CellIterator(dh)\n",
    "        fill!(Ke, 0)\n",
    "        fill!(Me, 0)\n",
    "        #get the coordinates of the current cell\n",
    "        coords = getcoordinates(cell)\n",
    "\n",
    "        JuAFEM.reinit!(cellvalues, cell)\n",
    "        #loop over all Gauss points\n",
    "        for q_point in 1:getnquadpoints(cellvalues)\n",
    "            #get the spatial coordinates of the current gauss point\n",
    "            coords_qp = spatial_coordinate(cellvalues, q_point, coords)\n",
    "            #based on the gauss point coordinates, we get the spatial dependent\n",
    "            #material parameters\n",
    "            κₑ_loc = κₑ(coords_qp)\n",
    "            κᵢ_loc = κᵢ(coords_qp)\n",
    "            Cₘ_loc = Cₘ(coords_qp)\n",
    "            χ_loc = χ(coords_qp)\n",
    "            dΩ = getdetJdV(cellvalues, q_point)\n",
    "            for i in 1:n_basefuncs\n",
    "                Nᵢ = shape_value(cellvalues, q_point, i)\n",
    "                ∇Nᵢ = shape_gradient(cellvalues, q_point, i)\n",
    "                for j in 1:n_basefuncs\n",
    "                    Nⱼ = shape_value(cellvalues, q_point, j)\n",
    "                    ∇Nⱼ = shape_gradient(cellvalues, q_point, j)\n",
    "                    #diffusion parts\n",
    "                    Ke[BlockIndex((ϕₘ▄,ϕₘ▄),(i,j))] -= ((κᵢ_loc ⋅ ∇Nᵢ) ⋅ ∇Nⱼ) * dΩ\n",
    "                    Ke[BlockIndex((ϕₘ▄,ϕₑ▄),(i,j))] -= ((κᵢ_loc ⋅ ∇Nᵢ) ⋅ ∇Nⱼ) * dΩ\n",
    "                    Ke[BlockIndex((ϕₑ▄,ϕₘ▄),(i,j))] -= ((κᵢ_loc ⋅ ∇Nᵢ) ⋅ ∇Nⱼ) * dΩ\n",
    "                    Ke[BlockIndex((ϕₑ▄,ϕₑ▄),(i,j))] -= (((κₑ_loc + κᵢ_loc) ⋅ ∇Nᵢ) ⋅ ∇Nⱼ) * dΩ\n",
    "                    #linear reaction parts\n",
    "                    Ke[BlockIndex((ϕₘ▄,ϕₘ▄),(i,j))] -= params.a * Nᵢ * Nⱼ * dΩ\n",
    "                    Ke[BlockIndex((ϕₘ▄,s▄),(i,j))]  -= Nᵢ * Nⱼ * dΩ\n",
    "                    Ke[BlockIndex((s▄,ϕₘ▄),(i,j))]  += params.e * params.b * Nᵢ * Nⱼ * dΩ\n",
    "                    Ke[BlockIndex((s▄,s▄),(i,j))]   -= params.e * params.c * Nᵢ * Nⱼ * dΩ\n",
    "                    #mass matrices\n",
    "                    Me[BlockIndex((ϕₘ▄,ϕₘ▄),(i,j))] += Cₘ_loc * χ_loc * Nᵢ * Nⱼ * dΩ\n",
    "                    Me[BlockIndex((s▄,s▄),(i,j))]   += Nᵢ * Nⱼ * dΩ\n",
    "                end\n",
    "            end\n",
    "        end\n",
    "\n",
    "        assemble!(assembler_K, celldofs(cell), Ke)\n",
    "        assemble!(assembler_M, celldofs(cell), Me)\n",
    "    end\n",
    "    return K, M\n",
    "end;"
   ],
   "metadata": {},
   "execution_count": 9
  },
  {
   "cell_type": "markdown",
   "source": [
    "Regarding the non-linear parts, while the affine term could be cached, for the sake of simplicity we simply recompute it in each call to the right hand side of the system.\n",
    "$$\n",
    "\\mathcal{N}(\n",
    "  \\tilde{\\varphi}_\\textrm{m},\n",
    "  \\tilde{\\varphi}_\\textrm{e},\n",
    "  \\tilde{s})\n",
    "=\n",
    "\\begin{bmatrix}\n",
    "  -(\\int_\\Omega \\chi ((\\sum_i -\\tilde{\\varphi}_{m,i} u_{1,i})^3 + \\tilde{\\varphi}_{m,i} (1+a) u_{1,i})^2)v_{1,j} \\textrm{d}\\Omega)_j \\\\\n",
    "  0 \\\\\n",
    "  (\\int_\\Omega de v_{3,j} \\textrm{d}\\Omega)_j\n",
    "\\end{bmatrix}\n",
    "$$\n",
    "It is important to note, that we have to sneak in the boundary conditions into the evaluation of the non-linear term.\n",
    "\n",
    "TODO cleanup\n",
    "The function `apply_nonlinear!` describes the nonlinear change of the system.\n",
    "It takes the change vector `du`, the current available solution `u`, the generic storage\n",
    "vector `p` and the current time `t`. The storage vector will be used to pass the `dh::DofHandler`,\n",
    "`ch::ConstraintHandler`, stiffness matrix `K` and constant material parameters `FHNParameters()`"
   ],
   "metadata": {}
  },
  {
   "outputs": [],
   "cell_type": "code",
   "source": [
    "function apply_nonlinear!(du, u, p, t)\n",
    "    dh = p[2]\n",
    "    ch = p[3]\n",
    "    params = p[4]\n",
    "    ip = p[5]\n",
    "    qr = p[6]\n",
    "    cellvalues = p[7]\n",
    "    n_basefuncs = getnquadpoints(cellvalues)\n",
    "\n",
    "    for cell in CellIterator(dh)\n",
    "        JuAFEM.reinit!(cellvalues, cell)\n",
    "        _celldofs = celldofs(cell)\n",
    "        ϕₘ_celldofs = _celldofs[dof_range(dh, :ϕₘ)]\n",
    "        s_celldofs = _celldofs[dof_range(dh, :s)]\n",
    "        ϕₘe = u[ϕₘ_celldofs]\n",
    "        se = u[s_celldofs]\n",
    "        coords = getcoordinates(cell)\n",
    "        for q_point in 1:getnquadpoints(cellvalues)\n",
    "            x_qp = spatial_coordinate(cellvalues, q_point, coords)\n",
    "            χ_loc = χ(x_qp)\n",
    "            dΩ = getdetJdV(cellvalues, q_point)\n",
    "            val = function_value(cellvalues, q_point, ϕₘe)\n",
    "            nl_contrib = - val^3 + (1+params.a)*val^2\n",
    "            for j in 1:n_basefuncs\n",
    "                Nⱼ = shape_value(cellvalues, q_point, j)\n",
    "                du[ϕₘ_celldofs[j]] += χ_loc * nl_contrib * Nⱼ * dΩ\n",
    "                du[s_celldofs[j]]  -= params.e * params.d * Nⱼ * dΩ\n",
    "            end\n",
    "        end\n",
    "    end\n",
    "    apply_zero!(du, ch)\n",
    "end;"
   ],
   "metadata": {},
   "execution_count": 10
  },
  {
   "cell_type": "markdown",
   "source": [
    "We assemble the linear parts into `K` and `M`, respectively."
   ],
   "metadata": {}
  },
  {
   "outputs": [],
   "cell_type": "code",
   "source": [
    "K, M = doassemble_linear!(cellvalues, K, M, dh);"
   ],
   "metadata": {},
   "execution_count": 11
  },
  {
   "cell_type": "markdown",
   "source": [
    "Now we apply *once* the boundary conditions to these parts."
   ],
   "metadata": {}
  },
  {
   "outputs": [],
   "cell_type": "code",
   "source": [
    "apply!(K, ch)\n",
    "apply!(M, ch);"
   ],
   "metadata": {},
   "execution_count": 12
  },
  {
   "cell_type": "markdown",
   "source": [
    "In the function `bidomain!` we model the actual time dependent DAE problem. This function takes\n",
    "the same parameters as `apply_nonlinear!`, which is essentially the defined interface by\n",
    "[DifferentialEquations.jl](https://github.com/SciML/DifferentialEquations.jl)"
   ],
   "metadata": {}
  },
  {
   "outputs": [],
   "cell_type": "code",
   "source": [
    "function bidomain!(du,u,p,t)\n",
    "    du .= K * u\n",
    "    apply_nonlinear!(du, u, p, t)\n",
    "end;"
   ],
   "metadata": {},
   "execution_count": 13
  },
  {
   "cell_type": "markdown",
   "source": [
    "In the following code block we define the initial condition of the problem. We first\n",
    "initialize a zero vector of length `ndofs(dh)` and fill it afterwards in a for loop over all cells."
   ],
   "metadata": {}
  },
  {
   "outputs": [],
   "cell_type": "code",
   "source": [
    "u₀ = zeros(ndofs(dh));\n",
    "for cell in CellIterator(dh)\n",
    "    _celldofs = celldofs(cell)\n",
    "    ϕₘ_celldofs = _celldofs[dof_range(dh, :ϕₘ)]\n",
    "    s_celldofs = _celldofs[dof_range(dh, :s)]\n",
    "    for (i, coordinate) in enumerate(getcoordinates(cell))\n",
    "        if coordinate[2] >= 1.25\n",
    "            u₀[s_celldofs[i]] = 0.1\n",
    "        end\n",
    "        if coordinate[1] <= 1.25 && coordinate[2] <= 1.25\n",
    "            u₀[ϕₘ_celldofs[i]] = 1.0\n",
    "        end\n",
    "    end\n",
    "end"
   ],
   "metadata": {},
   "execution_count": 14
  },
  {
   "cell_type": "markdown",
   "source": [
    "We can now state and solve the `ODEProblem`. Since the jacobian of our problem is large and sparse it is advantageous to avoid building a dense matrix (with dense solver) where possible. In [DifferentialEquations.jl](https://github.com/SciML/DifferentialEquations.jl) we can enforce using sparse jacobian matrices by providing a prototype jacobian with proper sparsity pattern, see [here](https://diffeq.sciml.ai/stable/tutorials/advanced_ode_example/#Speeding-Up-Jacobian-Calculations) for details. In our problem it turns out that the K captures this pattern sufficiently, so for the sake if simplicity we simply use it in this example."
   ],
   "metadata": {}
  },
  {
   "outputs": [],
   "cell_type": "code",
   "source": [
    "jac_sparsity = sparse(K)\n",
    "\n",
    "f = DifferentialEquations.ODEFunction(bidomain!,mass_matrix=M;jac_prototype=jac_sparsity)\n",
    "p = [K, dh, ch, FHNParameters(), ip, qr, cellvalues]\n",
    "prob_mm = DifferentialEquations.ODEProblem(f,u₀,(0.0,T),p)\n",
    "\n",
    "sol = DifferentialEquations.solve(prob_mm,DifferentialEquations.QNDF(),reltol=1e-3,abstol=1e-4, progress=true, progress_steps = 1, adaptive=true, dt=Δt);"
   ],
   "metadata": {},
   "execution_count": 15
  },
  {
   "cell_type": "markdown",
   "source": [
    "We instantiate a paraview collection file."
   ],
   "metadata": {}
  },
  {
   "outputs": [],
   "cell_type": "code",
   "source": [
    "pvd = paraview_collection(\"bidomain.pvd\");"
   ],
   "metadata": {},
   "execution_count": 16
  },
  {
   "cell_type": "markdown",
   "source": [
    "Now, we loop over all timesteps and solution vectors, in order to append them to the paraview collection."
   ],
   "metadata": {}
  },
  {
   "outputs": [],
   "cell_type": "code",
   "source": [
    "for (solution,t) in zip(sol.u, sol.t)\n",
    "    #compress=false flag because otherwise each vtk file will be stored in memory\n",
    "    vtk_grid(\"bidomain-$t.vtu\", dh; compress=false) do vtk\n",
    "        vtk_point_data(vtk,dh,solution)\n",
    "        vtk_save(vtk)\n",
    "        pvd[t] = vtk\n",
    "    end\n",
    "end"
   ],
   "metadata": {},
   "execution_count": 17
  },
  {
   "cell_type": "markdown",
   "source": [
    "Finally, we save the paraview collection."
   ],
   "metadata": {}
  },
  {
   "outputs": [],
   "cell_type": "code",
   "source": [
    "vtk_save(pvd);"
   ],
   "metadata": {},
   "execution_count": 18
  },
  {
   "cell_type": "markdown",
   "source": [
    "---\n",
    "\n",
    "*This notebook was generated using [Literate.jl](https://github.com/fredrikekre/Literate.jl).*"
   ],
   "metadata": {}
  }
 ],
 "nbformat_minor": 3,
 "metadata": {
  "language_info": {
   "file_extension": ".jl",
   "mimetype": "application/julia",
   "name": "julia",
   "version": "1.5.3"
  },
  "kernelspec": {
   "name": "julia-1.5",
   "display_name": "Julia 1.5.3",
   "language": "julia"
  }
 },
 "nbformat": 4
}
