{
 "cells": [
  {
   "cell_type": "markdown",
   "source": [
    "# von Mises plasticity\n",
    "\n",
    "![Shows the von Mises stress distribution in a cantilever beam.](plasticity.png)\n",
    "*Figure 1.* A coarse mesh solution of a cantilever beam subjected to a load\n",
    "causing plastic deformations. The initial yield limit is 200 MPa but due to\n",
    "hardening it increases up to approximately 240 MPa."
   ],
   "metadata": {}
  },
  {
   "cell_type": "markdown",
   "source": [
    "## Introduction\n",
    "\n",
    "This example illustrates the use of a nonlinear material model in JuAFEM.\n",
    "The particular model is von Mises plasticity (also know as J₂-plasticity) with\n",
    "isotropic hardening. The model is fully 3D, meaning that no assumptions like *plane stress*\n",
    "or *plane strain* are introduced.\n",
    "\n",
    "Also note that the theory of the model is not described here, instead one is\n",
    "referred to standard textbooks on material modeling.\n",
    "\n",
    "To illustrate the use of the plasticity model, we setup and solve a FE-problem\n",
    "consisting of a cantilever beam loaded at its free end. But first, we shortly\n",
    "describe the parts of the implementation deadling with the material modeling."
   ],
   "metadata": {}
  },
  {
   "cell_type": "markdown",
   "source": [
    "## Material modeling\n",
    "This section describes the `struct`s and methods used to implement the material\n",
    "model"
   ],
   "metadata": {}
  },
  {
   "cell_type": "markdown",
   "source": [
    "### Material parameters and state variables\n",
    "\n",
    "Start by loading some necessary packages"
   ],
   "metadata": {}
  },
  {
   "outputs": [],
   "cell_type": "code",
   "source": [
    "using JuAFEM, SparseArrays, LinearAlgebra, Printf"
   ],
   "metadata": {},
   "execution_count": 1
  },
  {
   "cell_type": "markdown",
   "source": [
    "We define a J₂-plasticity-material, containing material parameters and the elastic\n",
    "stiffness Dᵉ (since it is constant)"
   ],
   "metadata": {}
  },
  {
   "outputs": [],
   "cell_type": "code",
   "source": [
    "struct J2Plasticity{T, S <: SymmetricTensor{4, 3, T}}\n",
    "    G::T  # Shear modulus\n",
    "    K::T  # Bulk modulus\n",
    "    σ₀::T # Initial yield limit\n",
    "    H::T  # Hardening modulus\n",
    "    Dᵉ::S # Elastic stiffness tensor\n",
    "end;"
   ],
   "metadata": {},
   "execution_count": 2
  },
  {
   "cell_type": "markdown",
   "source": [
    "Next, we define a constructor for the material instance."
   ],
   "metadata": {}
  },
  {
   "outputs": [],
   "cell_type": "code",
   "source": [
    "function J2Plasticity(E, ν, σ₀, H)\n",
    "    δ(i,j) = i == j ? 1.0 : 0.0 # helper function\n",
    "    G = E / 2(1 + ν)\n",
    "    K = E / 3(1 - 2ν)\n",
    "\n",
    "    Isymdev(i,j,k,l) = 0.5*(δ(i,k)*δ(j,l) + δ(i,l)*δ(j,k)) - 1.0/3.0*δ(i,j)*δ(k,l)\n",
    "    temp(i,j,k,l) = 2.0G *( 0.5*(δ(i,k)*δ(j,l) + δ(i,l)*δ(j,k)) + ν/(1.0-2.0ν)*δ(i,j)*δ(k,l))\n",
    "    Dᵉ = SymmetricTensor{4, 3}(temp)\n",
    "    return J2Plasticity(G, K, σ₀, H, Dᵉ)\n",
    "end;"
   ],
   "metadata": {},
   "execution_count": 3
  },
  {
   "cell_type": "markdown",
   "source": [
    "Define a `struct` to store the material state."
   ],
   "metadata": {}
  },
  {
   "outputs": [],
   "cell_type": "code",
   "source": [
    "mutable struct MaterialState{T, S <: SecondOrderTensor{3, T}}\n",
    "    # Store \"converged\" values\n",
    "    ϵᵖ::S # plastic strain\n",
    "    σ::S # stress\n",
    "    k::T # hardening variable\n",
    "\n",
    "    # Store temporary values used during equilibrium iterations\n",
    "    temp_ϵᵖ::S\n",
    "    temp_σ::S\n",
    "    temp_k::T\n",
    "end"
   ],
   "metadata": {},
   "execution_count": 4
  },
  {
   "cell_type": "markdown",
   "source": [
    "Constructor for initializing a material state. Every quantity is set to zero."
   ],
   "metadata": {}
  },
  {
   "outputs": [
    {
     "output_type": "execute_result",
     "data": {
      "text/plain": "Main.##264.MaterialState"
     },
     "metadata": {},
     "execution_count": 5
    }
   ],
   "cell_type": "code",
   "source": [
    "function MaterialState()\n",
    "    return MaterialState(\n",
    "                zero(SymmetricTensor{2, 3}),\n",
    "                zero(SymmetricTensor{2, 3}),\n",
    "                0.0,\n",
    "                zero(SymmetricTensor{2, 3}),\n",
    "                zero(SymmetricTensor{2, 3}),\n",
    "                0.0)\n",
    "end"
   ],
   "metadata": {},
   "execution_count": 5
  },
  {
   "cell_type": "markdown",
   "source": [
    "Next, we define a method to update the material state after equilibrium has\n",
    "been found. This will be called at the end of each time-step."
   ],
   "metadata": {}
  },
  {
   "outputs": [],
   "cell_type": "code",
   "source": [
    "function update_state!(state::MaterialState)\n",
    "    state.ϵᵖ = state.temp_ϵᵖ\n",
    "    state.σ = state.temp_σ\n",
    "    state.k = state.temp_k\n",
    "end;"
   ],
   "metadata": {},
   "execution_count": 6
  },
  {
   "cell_type": "markdown",
   "source": [
    "For later use, during the post-processing step, we define a function to\n",
    "compute the von Mises effective stress."
   ],
   "metadata": {}
  },
  {
   "outputs": [],
   "cell_type": "code",
   "source": [
    "function vonMises(σ)\n",
    "    s = dev(σ)\n",
    "    return sqrt(3.0/2.0 * s ⊡ s)\n",
    "end;"
   ],
   "metadata": {},
   "execution_count": 7
  },
  {
   "cell_type": "markdown",
   "source": [
    "## Constitutive driver\n",
    "\n",
    "This is the actual method which computes the stress and material tangent\n",
    "stiffness in a given integration point.\n",
    "Input is the current strain and material state."
   ],
   "metadata": {}
  },
  {
   "outputs": [
    {
     "output_type": "execute_result",
     "data": {
      "text/plain": "compute_stress_tangent (generic function with 1 method)"
     },
     "metadata": {},
     "execution_count": 8
    }
   ],
   "cell_type": "code",
   "source": [
    "function compute_stress_tangent(ϵ::SymmetricTensor{2, 3}, material::J2Plasticity, state::MaterialState)\n",
    "    # unpack some material parameters\n",
    "    G = material.G\n",
    "    K = material.K\n",
    "    H = material.H\n",
    "\n",
    "    # We use (•)ᵗ to denote *trial*-values\n",
    "    σᵗ = material.Dᵉ ⊡ (ϵ - state.ϵᵖ) # trial-stress\n",
    "    sᵗ = dev(σᵗ)         # deviatoric part of trial-stress\n",
    "    J₂ = 0.5 * sᵗ ⊡ sᵗ   # second invariant of sᵗ\n",
    "    σᵗₑ = sqrt(3.0*J₂)   # effetive trial-stress (von Mises stress)\n",
    "    σʸ = material.σ₀ + H * state.k # Previous yield limit\n",
    "\n",
    "    φᵗ  = σᵗₑ - σʸ # Trial-value of the yield surface\n",
    "\n",
    "    if φᵗ < 0.0 # elastic loading\n",
    "        state.temp_σ = σᵗ\n",
    "        return state.temp_σ, material.Dᵉ\n",
    "    else # plastic loading\n",
    "        h = H + 3G\n",
    "        μ =  φᵗ / h   # plastic multiplier\n",
    "\n",
    "        c1 = 1 - 3G * μ / σᵗₑ\n",
    "        s = c1 * sᵗ           # updated deviatoric stress\n",
    "        σ = s + vol(σᵗ)       # updated stress\n",
    "\n",
    "        # Compute algorithmic tangent stiffness ``D = \\frac{\\Delta \\sigma }{\\Delta \\epsilon}``\n",
    "        κ = H * (state.k + μ) # drag stress\n",
    "        σₑ = material.σ₀ + κ  # updated yield surface\n",
    "\n",
    "        δ(i,j) = i == j ? 1.0 : 0.0\n",
    "        Isymdev(i,j,k,l)  = 0.5*(δ(i,k)*δ(j,l) + δ(i,l)*δ(j,k)) - 1.0/3.0*δ(i,j)*δ(k,l)\n",
    "        Q(i,j,k,l) = Isymdev(i,j,k,l) - 3.0 / (2.0*σₑ^2) * s[i,j]*s[k,l]\n",
    "        b = (3G*μ/σₑ) / (1.0 + 3G*μ/σₑ)\n",
    "\n",
    "        Dtemp(i,j,k,l) = -2G*b * Q(i,j,k,l) - 9G^2 / (h*σₑ^2) * s[i,j]*s[k,l]\n",
    "        D = material.Dᵉ + SymmetricTensor{4, 3}(Dtemp)\n",
    "\n",
    "        # Store outputs in the material state\n",
    "        Δϵᵖ = 3/2 *μ / σₑ*s            # plastic strain\n",
    "        state.temp_ϵᵖ = state.ϵᵖ + Δϵᵖ  # plastic strain\n",
    "        state.temp_k = state.k + μ     # hardening variable\n",
    "        state.temp_σ = σ               # updated stress\n",
    "        return state.temp_σ, D\n",
    "    end\n",
    "end"
   ],
   "metadata": {},
   "execution_count": 8
  },
  {
   "cell_type": "markdown",
   "source": [
    "## FE-problem\n",
    "What follows are methods for assembling and and solving the FE-problem."
   ],
   "metadata": {}
  },
  {
   "outputs": [],
   "cell_type": "code",
   "source": [
    "function create_values(interpolation)\n",
    "    # setup quadrature rules\n",
    "    qr      = QuadratureRule{3,RefTetrahedron}(2)\n",
    "    face_qr = QuadratureRule{2,RefTetrahedron}(3)\n",
    "\n",
    "    # create geometric interpolation (use the same as for u)\n",
    "    interpolation_geom = Lagrange{3,RefTetrahedron,1}()\n",
    "\n",
    "    # cell and facevalues for u\n",
    "    cellvalues_u = CellVectorValues(qr, interpolation, interpolation_geom)\n",
    "    facevalues_u = FaceVectorValues(face_qr, interpolation, interpolation_geom)\n",
    "\n",
    "    return cellvalues_u, facevalues_u\n",
    "end;"
   ],
   "metadata": {},
   "execution_count": 9
  },
  {
   "cell_type": "markdown",
   "source": [
    "### Add degrees of freedom"
   ],
   "metadata": {}
  },
  {
   "outputs": [
    {
     "output_type": "execute_result",
     "data": {
      "text/plain": "create_dofhandler (generic function with 1 method)"
     },
     "metadata": {},
     "execution_count": 10
    }
   ],
   "cell_type": "code",
   "source": [
    "function create_dofhandler(grid, interpolation)\n",
    "    dh = DofHandler(grid)\n",
    "    dim = 3\n",
    "    push!(dh, :u, dim, interpolation) # add a displacement field with 3 components\n",
    "    close!(dh)\n",
    "    return dh\n",
    "end"
   ],
   "metadata": {},
   "execution_count": 10
  },
  {
   "cell_type": "markdown",
   "source": [
    "### Boundary conditions"
   ],
   "metadata": {}
  },
  {
   "outputs": [],
   "cell_type": "code",
   "source": [
    "function create_bc(dh, grid)\n",
    "    dbcs = ConstraintHandler(dh)\n",
    "    # Clamped on the left side\n",
    "    dofs = [1, 2, 3]\n",
    "    dbc = Dirichlet(:u, getfaceset(grid, \"left\"), (x,t) -> [0.0, 0.0, 0.0], dofs)\n",
    "    add!(dbcs, dbc)\n",
    "    close!(dbcs)\n",
    "    return dbcs\n",
    "end;"
   ],
   "metadata": {},
   "execution_count": 11
  },
  {
   "cell_type": "markdown",
   "source": [
    "### Assembling of element contributions\n",
    "\n",
    "* Residual vector `r`\n",
    "* Tangent stiffness `K`"
   ],
   "metadata": {}
  },
  {
   "outputs": [
    {
     "output_type": "execute_result",
     "data": {
      "text/plain": "doassemble (generic function with 1 method)"
     },
     "metadata": {},
     "execution_count": 12
    }
   ],
   "cell_type": "code",
   "source": [
    "function doassemble(cellvalues::CellVectorValues{dim},\n",
    "                    facevalues::FaceVectorValues{dim}, K::SparseMatrixCSC, grid::Grid,\n",
    "                    dh::DofHandler, material::J2Plasticity, u, states, t) where {dim}\n",
    "    r = zeros(ndofs(dh))\n",
    "    assembler = start_assemble(K, r)\n",
    "    nu = getnbasefunctions(cellvalues)\n",
    "    re = zeros(nu)     # element residual vector\n",
    "    ke = zeros(nu, nu) # element tangent matrix\n",
    "\n",
    "    for (cell, state) in zip(CellIterator(dh), states)\n",
    "        fill!(ke, 0)\n",
    "        fill!(re, 0)\n",
    "        eldofs = celldofs(cell)\n",
    "        ue = u[eldofs]\n",
    "        assemble_cell!(ke, re, cell, cellvalues, facevalues, grid, material,\n",
    "                       ue, state, t)\n",
    "        assemble!(assembler, eldofs, re, ke)\n",
    "    end\n",
    "    return K, r\n",
    "end"
   ],
   "metadata": {},
   "execution_count": 12
  },
  {
   "cell_type": "markdown",
   "source": [
    "Compute element contribution to the residual and the tangent."
   ],
   "metadata": {}
  },
  {
   "outputs": [
    {
     "output_type": "execute_result",
     "data": {
      "text/plain": "assemble_cell! (generic function with 1 method)"
     },
     "metadata": {},
     "execution_count": 13
    }
   ],
   "cell_type": "code",
   "source": [
    "function assemble_cell!(Ke, re, cell, cellvalues, facevalues, grid, material,\n",
    "                        ue, state, t)\n",
    "    n_basefuncs = getnbasefunctions(cellvalues)\n",
    "    reinit!(cellvalues, cell)\n",
    "\n",
    "    for q_point in 1:getnquadpoints(cellvalues)\n",
    "        # For each integration point, compute stress and material stiffness\n",
    "        ∇u = function_gradient(cellvalues, q_point, ue)\n",
    "        ϵ = symmetric(∇u) # Total strain\n",
    "        σ, D = compute_stress_tangent(ϵ, material, state[q_point])\n",
    "\n",
    "        dΩ = getdetJdV(cellvalues, q_point)\n",
    "        for i in 1:n_basefuncs\n",
    "            δϵ = symmetric(shape_gradient(cellvalues, q_point, i))\n",
    "\n",
    "            re[i] += (δϵ ⊡ σ) * dΩ # add internal force to residual\n",
    "            for j in 1:i\n",
    "                Δϵ = symmetric(shape_gradient(cellvalues, q_point, j))\n",
    "                Ke[i, j] += δϵ ⊡ D ⊡ Δϵ * dΩ\n",
    "            end\n",
    "        end\n",
    "    end\n",
    "    symmetrize_lower!(Ke)\n",
    "\n",
    "    # Add traction as a negative contribution to the element residual `re`:\n",
    "    for face in 1:nfaces(cell)\n",
    "        if onboundary(cell, face) && (cellid(cell), face) ∈ getfaceset(grid, \"right\")\n",
    "            reinit!(facevalues, cell, face)\n",
    "            for q_point in 1:getnquadpoints(facevalues)\n",
    "                dΓ = getdetJdV(facevalues, q_point)\n",
    "                for i in 1:n_basefuncs\n",
    "                    δu = shape_value(facevalues, q_point, i)\n",
    "                    re[i] -= (δu ⋅ t) * dΓ\n",
    "                end\n",
    "            end\n",
    "        end\n",
    "    end\n",
    "\n",
    "end"
   ],
   "metadata": {},
   "execution_count": 13
  },
  {
   "cell_type": "markdown",
   "source": [
    "Helper function to symmetrize the material tangent"
   ],
   "metadata": {}
  },
  {
   "outputs": [],
   "cell_type": "code",
   "source": [
    "function symmetrize_lower!(K)\n",
    "    for i in 1:size(K,1)\n",
    "        for j in i+1:size(K,1)\n",
    "            K[i,j] = K[j,i]\n",
    "        end\n",
    "    end\n",
    "end;"
   ],
   "metadata": {},
   "execution_count": 14
  },
  {
   "cell_type": "markdown",
   "source": [
    "Define a function which solves the FE-problem."
   ],
   "metadata": {}
  },
  {
   "outputs": [
    {
     "output_type": "execute_result",
     "data": {
      "text/plain": "solve (generic function with 1 method)"
     },
     "metadata": {},
     "execution_count": 15
    }
   ],
   "cell_type": "code",
   "source": [
    "function solve()\n",
    "    # Define material parameters\n",
    "    E = 200.0e9 # [Pa]\n",
    "    H = E/20   # [Pa]\n",
    "    ν = 0.3     # [-]\n",
    "    σ₀ = 200e6  # [Pa]\n",
    "    material = J2Plasticity(E, ν, σ₀, H)\n",
    "\n",
    "    L = 10.0 # beam length [m]\n",
    "    w = 1.0  # beam width [m]\n",
    "    h = 1.0  # beam height[m]\n",
    "    n_timesteps = 10\n",
    "    u_max = zeros(n_timesteps)\n",
    "    traction_magnitude = 1.e7 * range(0.5, 1.0, length=n_timesteps)\n",
    "\n",
    "    # Create geometry, dofs and boundary conditions\n",
    "    n = 2\n",
    "    nels = (10n, n, 2n) # number of elements in each spatial direction\n",
    "    P1 = Vec((0.0, 0.0, 0.0))  # start point for geometry\n",
    "    P2 = Vec((L, w, h))        # end point for geometry\n",
    "    grid = generate_grid(Tetrahedron, nels, P1, P2)\n",
    "    interpolation = Lagrange{3, RefTetrahedron, 1}() # Linear tet with 3 unknowns/node\n",
    "\n",
    "    dh = create_dofhandler(grid, interpolation) # JuaFEM helper function\n",
    "    dbcs = create_bc(dh, grid) # create Dirichlet boundary-conditions\n",
    "\n",
    "    cellvalues, facevalues = create_values(interpolation)\n",
    "\n",
    "    # Pre-allocate solution vectors, etc.\n",
    "    n_dofs = ndofs(dh)  # total number of dofs\n",
    "    u  = zeros(n_dofs)  # solution vector\n",
    "    Δu = zeros(n_dofs)  # displacement correction\n",
    "    r = zeros(n_dofs)   # residual\n",
    "    K = create_sparsity_pattern(dh); # tangent stiffness matrix\n",
    "\n",
    "    # Create material states. One array for each cell, where each element is an array of material-\n",
    "    # states - one for each integration point\n",
    "    nqp = getnquadpoints(cellvalues)\n",
    "    states = [[MaterialState() for _ in 1:nqp] for _ in 1:getncells(grid)]\n",
    "\n",
    "    # states = [MaterialState() for _ in 1:nqp for _ in 1:getncells(grid)]\n",
    "    # temp_states = [MaterialState() for _ in 1:nqp for _ in 1:getncells(grid)]\n",
    "\n",
    "    # Newton-Raphson loop\n",
    "    NEWTON_TOL = 1 # 1 N\n",
    "    print(\"\\n Starting Netwon iterations:\\n\")\n",
    "\n",
    "    for timestep in 1:n_timesteps\n",
    "        t = timestep # actual time (used for evaluating d-bndc)\n",
    "        traction = Vec((0.0, 0.0, traction_magnitude[timestep]))\n",
    "        newton_itr = -1\n",
    "        print(\"\\n Time step @time = $timestep:\\n\")\n",
    "        update!(dbcs, t) # evaluates the D-bndc at time t\n",
    "        apply!(u, dbcs)  # set the prescribed values in the solution vector\n",
    "\n",
    "        while true; newton_itr += 1\n",
    "\n",
    "            if newton_itr > 8\n",
    "                error(\"Reached maximum Newton iterations, aborting\")\n",
    "                break\n",
    "            end\n",
    "            K, r = doassemble(cellvalues, facevalues, K, grid, dh, material, u,\n",
    "                             states, traction);\n",
    "            norm_r = norm(r[JuAFEM.free_dofs(dbcs)])\n",
    "\n",
    "            print(\"Iteration: $newton_itr \\tresidual: $(@sprintf(\"%.8f\", norm_r))\\n\")\n",
    "            if norm_r < NEWTON_TOL\n",
    "                break\n",
    "            end\n",
    "\n",
    "            apply_zero!(K, r, dbcs)\n",
    "            Δu = Symmetric(K) \\ r\n",
    "            u -= Δu\n",
    "        end\n",
    "\n",
    "        # Update all the material states after we have reached equilibrium\n",
    "        for cell_states in states\n",
    "            foreach(update_state!, cell_states)\n",
    "        end\n",
    "        u_max[timestep] = max(abs.(u)...) # maximum displacement in current timestep\n",
    "    end\n",
    "\n",
    "    # ## Postprocessing\n",
    "    # Only a vtu-file corrsponding to the last time-step is exported.\n",
    "    #\n",
    "    # The following is a quick (and dirty) way of extracting average cell data for export.\n",
    "    mises_values = zeros(getncells(grid))\n",
    "    κ_values = zeros(getncells(grid))\n",
    "    for (el, cell_states) in enumerate(states)\n",
    "        for state in cell_states\n",
    "            mises_values[el] += vonMises(state.σ)\n",
    "            κ_values[el] += state.k*material.H\n",
    "        end\n",
    "        mises_values[el] /= length(cell_states) # average von Mises stress\n",
    "        κ_values[el] /= length(cell_states)     # average drag stress\n",
    "    end\n",
    "    vtk_grid(\"plasticity\", dh) do vtkfile\n",
    "        vtk_point_data(vtkfile, dh, u) # displacement field\n",
    "        vtk_cell_data(vtkfile, mises_values, \"von Mises [Pa]\")\n",
    "        vtk_cell_data(vtkfile, κ_values, \"Drag stress [Pa]\")\n",
    "    end\n",
    "\n",
    "    return u_max, traction_magnitude\n",
    "end"
   ],
   "metadata": {},
   "execution_count": 15
  },
  {
   "cell_type": "markdown",
   "source": [
    "Solve the FE-problem and for each time-step extract maximum displacement and\n",
    "the corresponding traction load. Also compute the limit-traction-load"
   ],
   "metadata": {}
  },
  {
   "outputs": [
    {
     "name": "stdout",
     "output_type": "stream",
     "text": [
      "\n",
      " Starting Netwon iterations:\n",
      "\n",
      " Time step @time = 1:\n",
      "Iteration: 0 \tresidual: 1435838.41167605\n",
      "Iteration: 1 \tresidual: 118655.22427336\n",
      "Iteration: 2 \tresidual: 59.50456062\n",
      "Iteration: 3 \tresidual: 0.00002586\n",
      "\n",
      " Time step @time = 2:\n",
      "Iteration: 0 \tresidual: 159537.60129691\n",
      "Iteration: 1 \tresidual: 1706974.26597223\n",
      "Iteration: 2 \tresidual: 97346.48157046\n",
      "Iteration: 3 \tresidual: 37.17532012\n",
      "Iteration: 4 \tresidual: 0.00001675\n",
      "\n",
      " Time step @time = 3:\n",
      "Iteration: 0 \tresidual: 159537.60129767\n",
      "Iteration: 1 \tresidual: 3278458.64907282\n",
      "Iteration: 2 \tresidual: 186235.63561528\n",
      "Iteration: 3 \tresidual: 185.18952152\n",
      "Iteration: 4 \tresidual: 0.00022875\n",
      "\n",
      " Time step @time = 4:\n",
      "Iteration: 0 \tresidual: 159537.60129735\n",
      "Iteration: 1 \tresidual: 3584970.60064931\n",
      "Iteration: 2 \tresidual: 85568.48509365\n",
      "Iteration: 3 \tresidual: 34.15660255\n",
      "Iteration: 4 \tresidual: 0.00002135\n",
      "\n",
      " Time step @time = 5:\n",
      "Iteration: 0 \tresidual: 159537.60129773\n",
      "Iteration: 1 \tresidual: 4730578.64954712\n",
      "Iteration: 2 \tresidual: 617579.94682002\n",
      "Iteration: 3 \tresidual: 1437.89125110\n",
      "Iteration: 4 \tresidual: 0.01232853\n",
      "\n",
      " Time step @time = 6:\n",
      "Iteration: 0 \tresidual: 159537.60129697\n",
      "Iteration: 1 \tresidual: 5974821.03117999\n",
      "Iteration: 2 \tresidual: 1504136.55587748\n",
      "Iteration: 3 \tresidual: 12221.32163654\n",
      "Iteration: 4 \tresidual: 0.94175204\n",
      "\n",
      " Time step @time = 7:\n",
      "Iteration: 0 \tresidual: 159537.60129929\n",
      "Iteration: 1 \tresidual: 7064337.27669652\n",
      "Iteration: 2 \tresidual: 2394661.82681837\n",
      "Iteration: 3 \tresidual: 30174.77126271\n",
      "Iteration: 4 \tresidual: 4.79635382\n",
      "Iteration: 5 \tresidual: 0.00002983\n",
      "\n",
      " Time step @time = 8:\n",
      "Iteration: 0 \tresidual: 159537.60129746\n",
      "Iteration: 1 \tresidual: 8347855.37502464\n",
      "Iteration: 2 \tresidual: 2131102.08836033\n",
      "Iteration: 3 \tresidual: 16828.00648356\n",
      "Iteration: 4 \tresidual: 1.98660764\n",
      "Iteration: 5 \tresidual: 0.00003531\n",
      "\n",
      " Time step @time = 9:\n",
      "Iteration: 0 \tresidual: 159537.60129721\n",
      "Iteration: 1 \tresidual: 8857888.09593641\n",
      "Iteration: 2 \tresidual: 2062155.49572596\n",
      "Iteration: 3 \tresidual: 16382.31162138\n",
      "Iteration: 4 \tresidual: 1.76666913\n",
      "Iteration: 5 \tresidual: 0.00003858\n",
      "\n",
      " Time step @time = 10:\n",
      "Iteration: 0 \tresidual: 159537.60129651\n",
      "Iteration: 1 \tresidual: 9441056.99243957\n",
      "Iteration: 2 \tresidual: 2114726.36461851\n",
      "Iteration: 3 \tresidual: 34769.38423316\n",
      "Iteration: 4 \tresidual: 4.56998849\n",
      "Iteration: 5 \tresidual: 0.00003829\n"
     ]
    }
   ],
   "cell_type": "code",
   "source": [
    "u_max, traction_magnitude = solve();"
   ],
   "metadata": {},
   "execution_count": 16
  },
  {
   "cell_type": "markdown",
   "source": [
    "Finally we plot the load-displacement curve."
   ],
   "metadata": {}
  },
  {
   "outputs": [
    {
     "output_type": "execute_result",
     "data": {
      "text/plain": "Plot{Plots.GRBackend() n=1}",
      "image/png": "[encoded data removed]",
      "text/html": [
       "<?xml version=\"1.0\" encoding=\"utf-8\"?>\n",
       "<svg xmlns=\"http://www.w3.org/2000/svg\" xmlns:xlink=\"http://www.w3.org/1999/xlink\" width=\"2400\" height=\"1600\" viewBox=\"0 0 9600 6400\">\n",
       "<defs>\n",
       "  <clipPath id=\"clip190\">\n",
       "    <rect x=\"0\" y=\"0\" width=\"9600\" height=\"6400\"/>\n",
       "  </clipPath>\n",
       "</defs>\n",
       "<path clip-path=\"url(#clip190)\" d=\"\n",
       "M0 6400 L9600 6400 L9600 0 L0 0  Z\n",
       "  \" fill=\"#ffffff\" fill-rule=\"evenodd\" fill-opacity=\"1\"/>\n",
       "<defs>\n",
       "  <clipPath id=\"clip191\">\n",
       "    <rect x=\"1920\" y=\"0\" width=\"6721\" height=\"6400\"/>\n",
       "  </clipPath>\n",
       "</defs>\n",
       "<path clip-path=\"url(#clip190)\" d=\"\n",
       "M410.961 6021.04 L9411.02 6021.04 L9411.02 251.969 L410.961 251.969  Z\n",
       "  \" fill=\"#ffffff\" fill-rule=\"evenodd\" fill-opacity=\"1\"/>\n",
       "<defs>\n",
       "  <clipPath id=\"clip192\">\n",
       "    <rect x=\"410\" y=\"251\" width=\"9001\" height=\"5770\"/>\n",
       "  </clipPath>\n",
       "</defs>\n",
       "<polyline clip-path=\"url(#clip192)\" style=\"stroke:#000000; stroke-width:8; stroke-opacity:0.1; fill:none\" points=\"\n",
       "  665.679,6021.04 665.679,251.969 \n",
       "  \"/>\n",
       "<polyline clip-path=\"url(#clip192)\" style=\"stroke:#000000; stroke-width:8; stroke-opacity:0.1; fill:none\" points=\"\n",
       "  2334.09,6021.04 2334.09,251.969 \n",
       "  \"/>\n",
       "<polyline clip-path=\"url(#clip192)\" style=\"stroke:#000000; stroke-width:8; stroke-opacity:0.1; fill:none\" points=\"\n",
       "  4002.5,6021.04 4002.5,251.969 \n",
       "  \"/>\n",
       "<polyline clip-path=\"url(#clip192)\" style=\"stroke:#000000; stroke-width:8; stroke-opacity:0.1; fill:none\" points=\"\n",
       "  5670.91,6021.04 5670.91,251.969 \n",
       "  \"/>\n",
       "<polyline clip-path=\"url(#clip192)\" style=\"stroke:#000000; stroke-width:8; stroke-opacity:0.1; fill:none\" points=\"\n",
       "  7339.32,6021.04 7339.32,251.969 \n",
       "  \"/>\n",
       "<polyline clip-path=\"url(#clip192)\" style=\"stroke:#000000; stroke-width:8; stroke-opacity:0.1; fill:none\" points=\"\n",
       "  9007.73,6021.04 9007.73,251.969 \n",
       "  \"/>\n",
       "<polyline clip-path=\"url(#clip190)\" style=\"stroke:#000000; stroke-width:16; stroke-opacity:1; fill:none\" points=\"\n",
       "  410.961,6021.04 9411.02,6021.04 \n",
       "  \"/>\n",
       "<polyline clip-path=\"url(#clip190)\" style=\"stroke:#000000; stroke-width:16; stroke-opacity:1; fill:none\" points=\"\n",
       "  665.679,6021.04 665.679,5951.81 \n",
       "  \"/>\n",
       "<polyline clip-path=\"url(#clip190)\" style=\"stroke:#000000; stroke-width:16; stroke-opacity:1; fill:none\" points=\"\n",
       "  2334.09,6021.04 2334.09,5951.81 \n",
       "  \"/>\n",
       "<polyline clip-path=\"url(#clip190)\" style=\"stroke:#000000; stroke-width:16; stroke-opacity:1; fill:none\" points=\"\n",
       "  4002.5,6021.04 4002.5,5951.81 \n",
       "  \"/>\n",
       "<polyline clip-path=\"url(#clip190)\" style=\"stroke:#000000; stroke-width:16; stroke-opacity:1; fill:none\" points=\"\n",
       "  5670.91,6021.04 5670.91,5951.81 \n",
       "  \"/>\n",
       "<polyline clip-path=\"url(#clip190)\" style=\"stroke:#000000; stroke-width:16; stroke-opacity:1; fill:none\" points=\"\n",
       "  7339.32,6021.04 7339.32,5951.81 \n",
       "  \"/>\n",
       "<polyline clip-path=\"url(#clip190)\" style=\"stroke:#000000; stroke-width:16; stroke-opacity:1; fill:none\" points=\"\n",
       "  9007.73,6021.04 9007.73,5951.81 \n",
       "  \"/>\n",
       "<path clip-path=\"url(#clip190)\" d=\"M 0 0 M537.717 6137.8 Q523.273 6137.8 515.958 6152.06 Q508.736 6166.23 508.736 6194.75 Q508.736 6223.17 515.958 6237.43 Q523.273 6251.6 537.717 6251.6 Q552.254 6251.6 559.476 6237.43 Q566.791 6223.17 566.791 6194.75 Q566.791 6166.23 559.476 6152.06 Q552.254 6137.8 537.717 6137.8 M537.717 6122.99 Q560.958 6122.99 573.18 6141.41 Q585.495 6159.75 585.495 6194.75 Q585.495 6229.65 573.18 6248.08 Q560.958 6266.41 537.717 6266.41 Q514.477 6266.41 502.162 6248.08 Q489.94 6229.65 489.94 6194.75 Q489.94 6159.75 502.162 6141.41 Q514.477 6122.99 537.717 6122.99 Z\" fill=\"#000000\" fill-rule=\"evenodd\" fill-opacity=\"1\" /><path clip-path=\"url(#clip190)\" d=\"M 0 0 M605.772 6240.21 L625.309 6240.21 L625.309 6263.73 L605.772 6263.73 L605.772 6240.21 Z\" fill=\"#000000\" fill-rule=\"evenodd\" fill-opacity=\"1\" /><path clip-path=\"url(#clip190)\" d=\"M 0 0 M685.587 6137.8 Q671.142 6137.8 663.828 6152.06 Q656.605 6166.23 656.605 6194.75 Q656.605 6223.17 663.828 6237.43 Q671.142 6251.6 685.587 6251.6 Q700.124 6251.6 707.346 6237.43 Q714.661 6223.17 714.661 6194.75 Q714.661 6166.23 707.346 6152.06 Q700.124 6137.8 685.587 6137.8 M685.587 6122.99 Q708.827 6122.99 721.049 6141.41 Q733.364 6159.75 733.364 6194.75 Q733.364 6229.65 721.049 6248.08 Q708.827 6266.41 685.587 6266.41 Q662.346 6266.41 650.031 6248.08 Q637.809 6229.65 637.809 6194.75 Q637.809 6159.75 650.031 6141.41 Q662.346 6122.99 685.587 6122.99 Z\" fill=\"#000000\" fill-rule=\"evenodd\" fill-opacity=\"1\" /><path clip-path=\"url(#clip190)\" d=\"M 0 0 M793.642 6137.8 Q779.197 6137.8 771.883 6152.06 Q764.66 6166.23 764.66 6194.75 Q764.66 6223.17 771.883 6237.43 Q779.197 6251.6 793.642 6251.6 Q808.179 6251.6 815.401 6237.43 Q822.716 6223.17 822.716 6194.75 Q822.716 6166.23 815.401 6152.06 Q808.179 6137.8 793.642 6137.8 M793.642 6122.99 Q816.882 6122.99 829.104 6141.41 Q841.419 6159.75 841.419 6194.75 Q841.419 6229.65 829.104 6248.08 Q816.882 6266.41 793.642 6266.41 Q770.401 6266.41 758.086 6248.08 Q745.864 6229.65 745.864 6194.75 Q745.864 6159.75 758.086 6141.41 Q770.401 6122.99 793.642 6122.99 Z\" fill=\"#000000\" fill-rule=\"evenodd\" fill-opacity=\"1\" /><path clip-path=\"url(#clip190)\" d=\"M 0 0 M2208.12 6137.8 Q2193.67 6137.8 2186.36 6152.06 Q2179.14 6166.23 2179.14 6194.75 Q2179.14 6223.17 2186.36 6237.43 Q2193.67 6251.6 2208.12 6251.6 Q2222.65 6251.6 2229.88 6237.43 Q2237.19 6223.17 2237.19 6194.75 Q2237.19 6166.23 2229.88 6152.06 Q2222.65 6137.8 2208.12 6137.8 M2208.12 6122.99 Q2231.36 6122.99 2243.58 6141.41 Q2255.9 6159.75 2255.9 6194.75 Q2255.9 6229.65 2243.58 6248.08 Q2231.36 6266.41 2208.12 6266.41 Q2184.88 6266.41 2172.56 6248.08 Q2160.34 6229.65 2160.34 6194.75 Q2160.34 6159.75 2172.56 6141.41 Q2184.88 6122.99 2208.12 6122.99 Z\" fill=\"#000000\" fill-rule=\"evenodd\" fill-opacity=\"1\" /><path clip-path=\"url(#clip190)\" d=\"M 0 0 M2276.17 6240.21 L2295.71 6240.21 L2295.71 6263.73 L2276.17 6263.73 L2276.17 6240.21 Z\" fill=\"#000000\" fill-rule=\"evenodd\" fill-opacity=\"1\" /><path clip-path=\"url(#clip190)\" d=\"M 0 0 M2355.99 6137.8 Q2341.54 6137.8 2334.23 6152.06 Q2327.01 6166.23 2327.01 6194.75 Q2327.01 6223.17 2334.23 6237.43 Q2341.54 6251.6 2355.99 6251.6 Q2370.52 6251.6 2377.75 6237.43 Q2385.06 6223.17 2385.06 6194.75 Q2385.06 6166.23 2377.75 6152.06 Q2370.52 6137.8 2355.99 6137.8 M2355.99 6122.99 Q2379.23 6122.99 2391.45 6141.41 Q2403.76 6159.75 2403.76 6194.75 Q2403.76 6229.65 2391.45 6248.08 Q2379.23 6266.41 2355.99 6266.41 Q2332.75 6266.41 2320.43 6248.08 Q2308.21 6229.65 2308.21 6194.75 Q2308.21 6159.75 2320.43 6141.41 Q2332.75 6122.99 2355.99 6122.99 Z\" fill=\"#000000\" fill-rule=\"evenodd\" fill-opacity=\"1\" /><path clip-path=\"url(#clip190)\" d=\"M 0 0 M2424.23 6125.49 L2497.65 6125.49 L2497.65 6141.23 L2441.36 6141.23 L2441.36 6175.12 Q2445.43 6173.73 2449.51 6173.08 Q2453.58 6172.34 2457.65 6172.34 Q2480.8 6172.34 2494.32 6185.02 Q2507.84 6197.71 2507.84 6219.38 Q2507.84 6241.69 2493.95 6254.1 Q2480.06 6266.41 2454.78 6266.41 Q2446.08 6266.41 2437.01 6264.93 Q2428.02 6263.45 2418.39 6260.49 L2418.39 6241.69 Q2426.73 6246.23 2435.62 6248.45 Q2444.51 6250.67 2454.41 6250.67 Q2470.43 6250.67 2479.78 6242.25 Q2489.13 6233.82 2489.13 6219.38 Q2489.13 6204.93 2479.78 6196.51 Q2470.43 6188.08 2454.41 6188.08 Q2446.91 6188.08 2439.41 6189.75 Q2432.01 6191.41 2424.23 6194.93 L2424.23 6125.49 Z\" fill=\"#000000\" fill-rule=\"evenodd\" fill-opacity=\"1\" /><path clip-path=\"url(#clip190)\" d=\"M 0 0 M3876.99 6137.8 Q3862.55 6137.8 3855.23 6152.06 Q3848.01 6166.23 3848.01 6194.75 Q3848.01 6223.17 3855.23 6237.43 Q3862.55 6251.6 3876.99 6251.6 Q3891.53 6251.6 3898.75 6237.43 Q3906.06 6223.17 3906.06 6194.75 Q3906.06 6166.23 3898.75 6152.06 Q3891.53 6137.8 3876.99 6137.8 M3876.99 6122.99 Q3900.23 6122.99 3912.45 6141.41 Q3924.77 6159.75 3924.77 6194.75 Q3924.77 6229.65 3912.45 6248.08 Q3900.23 6266.41 3876.99 6266.41 Q3853.75 6266.41 3841.43 6248.08 Q3829.21 6229.65 3829.21 6194.75 Q3829.21 6159.75 3841.43 6141.41 Q3853.75 6122.99 3876.99 6122.99 Z\" fill=\"#000000\" fill-rule=\"evenodd\" fill-opacity=\"1\" /><path clip-path=\"url(#clip190)\" d=\"M 0 0 M3945.05 6240.21 L3964.58 6240.21 L3964.58 6263.73 L3945.05 6263.73 L3945.05 6240.21 Z\" fill=\"#000000\" fill-rule=\"evenodd\" fill-opacity=\"1\" /><path clip-path=\"url(#clip190)\" d=\"M 0 0 M3988.1 6247.99 L4018.66 6247.99 L4018.66 6142.52 L3985.42 6149.19 L3985.42 6132.15 L4018.47 6125.49 L4037.17 6125.49 L4037.17 6247.99 L4067.73 6247.99 L4067.73 6263.73 L3988.1 6263.73 L3988.1 6247.99 Z\" fill=\"#000000\" fill-rule=\"evenodd\" fill-opacity=\"1\" /><path clip-path=\"url(#clip190)\" d=\"M 0 0 M4128.01 6137.8 Q4113.56 6137.8 4106.25 6152.06 Q4099.03 6166.23 4099.03 6194.75 Q4099.03 6223.17 4106.25 6237.43 Q4113.56 6251.6 4128.01 6251.6 Q4142.54 6251.6 4149.77 6237.43 Q4157.08 6223.17 4157.08 6194.75 Q4157.08 6166.23 4149.77 6152.06 Q4142.54 6137.8 4128.01 6137.8 M4128.01 6122.99 Q4151.25 6122.99 4163.47 6141.41 Q4175.78 6159.75 4175.78 6194.75 Q4175.78 6229.65 4163.47 6248.08 Q4151.25 6266.41 4128.01 6266.41 Q4104.77 6266.41 4092.45 6248.08 Q4080.23 6229.65 4080.23 6194.75 Q4080.23 6159.75 4092.45 6141.41 Q4104.77 6122.99 4128.01 6122.99 Z\" fill=\"#000000\" fill-rule=\"evenodd\" fill-opacity=\"1\" /><path clip-path=\"url(#clip190)\" d=\"M 0 0 M5547.39 6137.8 Q5532.95 6137.8 5525.63 6152.06 Q5518.41 6166.23 5518.41 6194.75 Q5518.41 6223.17 5525.63 6237.43 Q5532.95 6251.6 5547.39 6251.6 Q5561.93 6251.6 5569.15 6237.43 Q5576.46 6223.17 5576.46 6194.75 Q5576.46 6166.23 5569.15 6152.06 Q5561.93 6137.8 5547.39 6137.8 M5547.39 6122.99 Q5570.63 6122.99 5582.85 6141.41 Q5595.17 6159.75 5595.17 6194.75 Q5595.17 6229.65 5582.85 6248.08 Q5570.63 6266.41 5547.39 6266.41 Q5524.15 6266.41 5511.84 6248.08 Q5499.61 6229.65 5499.61 6194.75 Q5499.61 6159.75 5511.84 6141.41 Q5524.15 6122.99 5547.39 6122.99 Z\" fill=\"#000000\" fill-rule=\"evenodd\" fill-opacity=\"1\" /><path clip-path=\"url(#clip190)\" d=\"M 0 0 M5615.45 6240.21 L5634.98 6240.21 L5634.98 6263.73 L5615.45 6263.73 L5615.45 6240.21 Z\" fill=\"#000000\" fill-rule=\"evenodd\" fill-opacity=\"1\" /><path clip-path=\"url(#clip190)\" d=\"M 0 0 M5658.5 6247.99 L5689.06 6247.99 L5689.06 6142.52 L5655.82 6149.19 L5655.82 6132.15 L5688.87 6125.49 L5707.58 6125.49 L5707.58 6247.99 L5738.13 6247.99 L5738.13 6263.73 L5658.5 6263.73 L5658.5 6247.99 Z\" fill=\"#000000\" fill-rule=\"evenodd\" fill-opacity=\"1\" /><path clip-path=\"url(#clip190)\" d=\"M 0 0 M5758.59 6125.49 L5832.02 6125.49 L5832.02 6141.23 L5775.72 6141.23 L5775.72 6175.12 Q5779.8 6173.73 5783.87 6173.08 Q5787.95 6172.34 5792.02 6172.34 Q5815.17 6172.34 5828.69 6185.02 Q5842.2 6197.71 5842.2 6219.38 Q5842.2 6241.69 5828.32 6254.1 Q5814.43 6266.41 5789.15 6266.41 Q5780.45 6266.41 5771.37 6264.93 Q5762.39 6263.45 5752.76 6260.49 L5752.76 6241.69 Q5761.09 6246.23 5769.98 6248.45 Q5778.87 6250.67 5788.78 6250.67 Q5804.8 6250.67 5814.15 6242.25 Q5823.5 6233.82 5823.5 6219.38 Q5823.5 6204.93 5814.15 6196.51 Q5804.8 6188.08 5788.78 6188.08 Q5781.28 6188.08 5773.78 6189.75 Q5766.37 6191.41 5758.59 6194.93 L5758.59 6125.49 Z\" fill=\"#000000\" fill-rule=\"evenodd\" fill-opacity=\"1\" /><path clip-path=\"url(#clip190)\" d=\"M 0 0 M7214.55 6137.8 Q7200.11 6137.8 7192.79 6152.06 Q7185.57 6166.23 7185.57 6194.75 Q7185.57 6223.17 7192.79 6237.43 Q7200.11 6251.6 7214.55 6251.6 Q7229.09 6251.6 7236.31 6237.43 Q7243.62 6223.17 7243.62 6194.75 Q7243.62 6166.23 7236.31 6152.06 Q7229.09 6137.8 7214.55 6137.8 M7214.55 6122.99 Q7237.79 6122.99 7250.01 6141.41 Q7262.33 6159.75 7262.33 6194.75 Q7262.33 6229.65 7250.01 6248.08 Q7237.79 6266.41 7214.55 6266.41 Q7191.31 6266.41 7179 6248.08 Q7166.77 6229.65 7166.77 6194.75 Q7166.77 6159.75 7179 6141.41 Q7191.31 6122.99 7214.55 6122.99 Z\" fill=\"#000000\" fill-rule=\"evenodd\" fill-opacity=\"1\" /><path clip-path=\"url(#clip190)\" d=\"M 0 0 M7282.61 6240.21 L7302.14 6240.21 L7302.14 6263.73 L7282.61 6263.73 L7282.61 6240.21 Z\" fill=\"#000000\" fill-rule=\"evenodd\" fill-opacity=\"1\" /><path clip-path=\"url(#clip190)\" d=\"M 0 0 M7338.53 6247.99 L7403.81 6247.99 L7403.81 6263.73 L7316.03 6263.73 L7316.03 6247.99 Q7326.68 6236.97 7345.01 6218.45 Q7363.44 6199.84 7368.16 6194.47 Q7377.14 6184.38 7380.66 6177.43 Q7384.27 6170.39 7384.27 6163.64 Q7384.27 6152.62 7376.49 6145.67 Q7368.81 6138.73 7356.4 6138.73 Q7347.61 6138.73 7337.79 6141.78 Q7328.07 6144.84 7316.96 6151.04 L7316.96 6132.15 Q7328.25 6127.62 7338.07 6125.3 Q7347.88 6122.99 7356.03 6122.99 Q7377.51 6122.99 7390.29 6133.73 Q7403.07 6144.47 7403.07 6162.43 Q7403.07 6170.95 7399.83 6178.64 Q7396.68 6186.23 7388.25 6196.6 Q7385.94 6199.28 7373.53 6212.15 Q7361.12 6224.93 7338.53 6247.99 Z\" fill=\"#000000\" fill-rule=\"evenodd\" fill-opacity=\"1\" /><path clip-path=\"url(#clip190)\" d=\"M 0 0 M7464.09 6137.8 Q7449.64 6137.8 7442.33 6152.06 Q7435.1 6166.23 7435.1 6194.75 Q7435.1 6223.17 7442.33 6237.43 Q7449.64 6251.6 7464.09 6251.6 Q7478.62 6251.6 7485.85 6237.43 Q7493.16 6223.17 7493.16 6194.75 Q7493.16 6166.23 7485.85 6152.06 Q7478.62 6137.8 7464.09 6137.8 M7464.09 6122.99 Q7487.33 6122.99 7499.55 6141.41 Q7511.86 6159.75 7511.86 6194.75 Q7511.86 6229.65 7499.55 6248.08 Q7487.33 6266.41 7464.09 6266.41 Q7440.85 6266.41 7428.53 6248.08 Q7416.31 6229.65 7416.31 6194.75 Q7416.31 6159.75 7428.53 6141.41 Q7440.85 6122.99 7464.09 6122.99 Z\" fill=\"#000000\" fill-rule=\"evenodd\" fill-opacity=\"1\" /><path clip-path=\"url(#clip190)\" d=\"M 0 0 M8884.95 6137.8 Q8870.51 6137.8 8863.19 6152.06 Q8855.97 6166.23 8855.97 6194.75 Q8855.97 6223.17 8863.19 6237.43 Q8870.51 6251.6 8884.95 6251.6 Q8899.49 6251.6 8906.71 6237.43 Q8914.02 6223.17 8914.02 6194.75 Q8914.02 6166.23 8906.71 6152.06 Q8899.49 6137.8 8884.95 6137.8 M8884.95 6122.99 Q8908.19 6122.99 8920.41 6141.41 Q8932.73 6159.75 8932.73 6194.75 Q8932.73 6229.65 8920.41 6248.08 Q8908.19 6266.41 8884.95 6266.41 Q8861.71 6266.41 8849.4 6248.08 Q8837.17 6229.65 8837.17 6194.75 Q8837.17 6159.75 8849.4 6141.41 Q8861.71 6122.99 8884.95 6122.99 Z\" fill=\"#000000\" fill-rule=\"evenodd\" fill-opacity=\"1\" /><path clip-path=\"url(#clip190)\" d=\"M 0 0 M8953.01 6240.21 L8972.54 6240.21 L8972.54 6263.73 L8953.01 6263.73 L8953.01 6240.21 Z\" fill=\"#000000\" fill-rule=\"evenodd\" fill-opacity=\"1\" /><path clip-path=\"url(#clip190)\" d=\"M 0 0 M9008.93 6247.99 L9074.21 6247.99 L9074.21 6263.73 L8986.43 6263.73 L8986.43 6247.99 Q8997.08 6236.97 9015.41 6218.45 Q9033.84 6199.84 9038.56 6194.47 Q9047.54 6184.38 9051.06 6177.43 Q9054.67 6170.39 9054.67 6163.64 Q9054.67 6152.62 9046.89 6145.67 Q9039.21 6138.73 9026.8 6138.73 Q9018.01 6138.73 9008.19 6141.78 Q8998.47 6144.84 8987.36 6151.04 L8987.36 6132.15 Q8998.65 6127.62 9008.47 6125.3 Q9018.28 6122.99 9026.43 6122.99 Q9047.91 6122.99 9060.69 6133.73 Q9073.47 6144.47 9073.47 6162.43 Q9073.47 6170.95 9070.23 6178.64 Q9067.08 6186.23 9058.65 6196.6 Q9056.34 6199.28 9043.93 6212.15 Q9031.52 6224.93 9008.93 6247.99 Z\" fill=\"#000000\" fill-rule=\"evenodd\" fill-opacity=\"1\" /><path clip-path=\"url(#clip190)\" d=\"M 0 0 M9094.67 6125.49 L9168.1 6125.49 L9168.1 6141.23 L9111.8 6141.23 L9111.8 6175.12 Q9115.88 6173.73 9119.95 6173.08 Q9124.02 6172.34 9128.1 6172.34 Q9151.25 6172.34 9164.76 6185.02 Q9178.28 6197.71 9178.28 6219.38 Q9178.28 6241.69 9164.39 6254.1 Q9150.51 6266.41 9125.23 6266.41 Q9116.52 6266.41 9107.45 6264.93 Q9098.47 6263.45 9088.84 6260.49 L9088.84 6241.69 Q9097.17 6246.23 9106.06 6248.45 Q9114.95 6250.67 9124.86 6250.67 Q9140.88 6250.67 9150.23 6242.25 Q9159.58 6233.82 9159.58 6219.38 Q9159.58 6204.93 9150.23 6196.51 Q9140.88 6188.08 9124.86 6188.08 Q9117.36 6188.08 9109.86 6189.75 Q9102.45 6191.41 9094.67 6194.93 L9094.67 6125.49 Z\" fill=\"#000000\" fill-rule=\"evenodd\" fill-opacity=\"1\" /><path clip-path=\"url(#clip190)\" d=\"M 0 0 M3510.22 6362.42 L3548.54 6362.42 L3597.05 6491.77 L3645.81 6362.42 L3684.13 6362.42 L3684.13 6552.5 L3659.05 6552.5 L3659.05 6385.59 L3610.03 6515.96 L3584.19 6515.96 L3535.17 6385.59 L3535.17 6552.5 L3510.22 6552.5 L3510.22 6362.42 Z\" fill=\"#000000\" fill-rule=\"evenodd\" fill-opacity=\"1\" /><path clip-path=\"url(#clip190)\" d=\"M 0 0 M3773.5 6480.82 Q3745.11 6480.82 3734.16 6487.31 Q3723.21 6493.8 3723.21 6509.46 Q3723.21 6521.94 3731.36 6529.32 Q3739.64 6536.58 3753.77 6536.58 Q3773.25 6536.58 3784.96 6522.83 Q3796.8 6508.95 3796.8 6486.04 L3796.8 6480.82 L3773.5 6480.82 M3820.23 6471.14 L3820.23 6552.5 L3796.8 6552.5 L3796.8 6530.85 Q3788.78 6543.84 3776.81 6550.08 Q3764.85 6556.19 3747.53 6556.19 Q3725.63 6556.19 3712.65 6543.97 Q3699.79 6531.62 3699.79 6510.99 Q3699.79 6486.93 3715.83 6474.71 Q3732 6462.48 3763.96 6462.48 L3796.8 6462.48 L3796.8 6460.19 Q3796.8 6444.02 3786.11 6435.24 Q3775.54 6426.33 3756.32 6426.33 Q3744.09 6426.33 3732.51 6429.26 Q3720.92 6432.18 3710.23 6438.04 L3710.23 6416.4 Q3723.09 6411.43 3735.18 6409.01 Q3747.28 6406.47 3758.74 6406.47 Q3789.67 6406.47 3804.95 6422.51 Q3820.23 6438.55 3820.23 6471.14 Z\" fill=\"#000000\" fill-rule=\"evenodd\" fill-opacity=\"1\" /><path clip-path=\"url(#clip190)\" d=\"M 0 0 M3963.33 6409.9 L3911.77 6479.29 L3966 6552.5 L3938.38 6552.5 L3896.87 6496.48 L3855.37 6552.5 L3827.74 6552.5 L3883.12 6477.89 L3832.45 6409.9 L3860.08 6409.9 L3897.89 6460.7 L3935.7 6409.9 L3963.33 6409.9 Z\" fill=\"#000000\" fill-rule=\"evenodd\" fill-opacity=\"1\" /><path clip-path=\"url(#clip190)\" d=\"M 0 0 M3990.57 6409.9 L4014 6409.9 L4014 6552.5 L3990.57 6552.5 L3990.57 6409.9 M3990.57 6354.39 L4014 6354.39 L4014 6384.06 L3990.57 6384.06 L3990.57 6354.39 Z\" fill=\"#000000\" fill-rule=\"evenodd\" fill-opacity=\"1\" /><path clip-path=\"url(#clip190)\" d=\"M 0 0 M4149.59 6437.28 Q4158.37 6421.49 4170.6 6413.98 Q4182.82 6406.47 4199.37 6406.47 Q4221.65 6406.47 4233.74 6422.13 Q4245.84 6437.66 4245.84 6466.43 L4245.84 6552.5 L4222.29 6552.5 L4222.29 6467.19 Q4222.29 6446.7 4215.03 6436.77 Q4207.77 6426.84 4192.88 6426.84 Q4174.67 6426.84 4164.1 6438.93 Q4153.54 6451.03 4153.54 6471.91 L4153.54 6552.5 L4129.98 6552.5 L4129.98 6467.19 Q4129.98 6446.57 4122.73 6436.77 Q4115.47 6426.84 4100.32 6426.84 Q4082.37 6426.84 4071.8 6439.06 Q4061.23 6451.15 4061.23 6471.91 L4061.23 6552.5 L4037.68 6552.5 L4037.68 6409.9 L4061.23 6409.9 L4061.23 6432.06 Q4069.25 6418.94 4080.46 6412.7 Q4091.66 6406.47 4107.07 6406.47 Q4122.6 6406.47 4133.42 6414.36 Q4144.37 6422.25 4149.59 6437.28 Z\" fill=\"#000000\" fill-rule=\"evenodd\" fill-opacity=\"1\" /><path clip-path=\"url(#clip190)\" d=\"M 0 0 M4267.99 6496.22 L4267.99 6409.9 L4291.42 6409.9 L4291.42 6495.33 Q4291.42 6515.57 4299.31 6525.76 Q4307.2 6535.82 4322.99 6535.82 Q4341.96 6535.82 4352.91 6523.72 Q4363.99 6511.63 4363.99 6490.75 L4363.99 6409.9 L4387.41 6409.9 L4387.41 6552.5 L4363.99 6552.5 L4363.99 6530.6 Q4355.46 6543.58 4344.13 6549.95 Q4332.92 6556.19 4318.03 6556.19 Q4293.45 6556.19 4280.72 6540.91 Q4267.99 6525.63 4267.99 6496.22 M4326.94 6406.47 L4326.94 6406.47 Z\" fill=\"#000000\" fill-rule=\"evenodd\" fill-opacity=\"1\" /><path clip-path=\"url(#clip190)\" d=\"M 0 0 M4523 6437.28 Q4531.79 6421.49 4544.01 6413.98 Q4556.23 6406.47 4572.78 6406.47 Q4595.06 6406.47 4607.16 6422.13 Q4619.25 6437.66 4619.25 6466.43 L4619.25 6552.5 L4595.7 6552.5 L4595.7 6467.19 Q4595.7 6446.7 4588.44 6436.77 Q4581.18 6426.84 4566.29 6426.84 Q4548.08 6426.84 4537.52 6438.93 Q4526.95 6451.03 4526.95 6471.91 L4526.95 6552.5 L4503.4 6552.5 L4503.4 6467.19 Q4503.4 6446.57 4496.14 6436.77 Q4488.88 6426.84 4473.73 6426.84 Q4455.78 6426.84 4445.21 6439.06 Q4434.65 6451.15 4434.65 6471.91 L4434.65 6552.5 L4411.09 6552.5 L4411.09 6409.9 L4434.65 6409.9 L4434.65 6432.06 Q4442.67 6418.94 4453.87 6412.7 Q4465.07 6406.47 4480.48 6406.47 Q4496.01 6406.47 4506.83 6414.36 Q4517.78 6422.25 4523 6437.28 Z\" fill=\"#000000\" fill-rule=\"evenodd\" fill-opacity=\"1\" /><path clip-path=\"url(#clip190)\" d=\"M 0 0 M4820.54 6431.55 L4820.54 6354.39 L4843.96 6354.39 L4843.96 6552.5 L4820.54 6552.5 L4820.54 6531.11 Q4813.15 6543.84 4801.82 6550.08 Q4790.62 6556.19 4774.83 6556.19 Q4748.98 6556.19 4732.69 6535.56 Q4716.52 6514.94 4716.52 6481.33 Q4716.52 6447.72 4732.69 6427.09 Q4748.98 6406.47 4774.83 6406.47 Q4790.62 6406.47 4801.82 6412.7 Q4813.15 6418.82 4820.54 6431.55 M4740.71 6481.33 Q4740.71 6507.17 4751.28 6521.94 Q4761.97 6536.58 4780.56 6536.58 Q4799.15 6536.58 4809.84 6521.94 Q4820.54 6507.17 4820.54 6481.33 Q4820.54 6455.48 4809.84 6440.84 Q4799.15 6426.07 4780.56 6426.07 Q4761.97 6426.07 4751.28 6440.84 Q4740.71 6455.48 4740.71 6481.33 Z\" fill=\"#000000\" fill-rule=\"evenodd\" fill-opacity=\"1\" /><path clip-path=\"url(#clip190)\" d=\"M 0 0 M4990.5 6475.34 L4990.5 6486.8 L4882.79 6486.8 Q4884.32 6510.99 4897.31 6523.72 Q4910.42 6536.33 4933.72 6536.33 Q4947.21 6536.33 4959.82 6533.02 Q4972.55 6529.71 4985.03 6523.09 L4985.03 6545.24 Q4972.42 6550.59 4959.18 6553.39 Q4945.94 6556.19 4932.32 6556.19 Q4898.2 6556.19 4878.21 6536.33 Q4858.35 6516.47 4858.35 6482.6 Q4858.35 6447.59 4877.19 6427.09 Q4896.16 6406.47 4928.24 6406.47 Q4957.02 6406.47 4973.69 6425.05 Q4990.5 6443.51 4990.5 6475.34 M4967.07 6468.47 Q4966.82 6449.24 4956.25 6437.79 Q4945.81 6426.33 4928.5 6426.33 Q4908.89 6426.33 4897.05 6437.4 Q4885.34 6448.48 4883.56 6468.6 L4967.07 6468.47 Z\" fill=\"#000000\" fill-rule=\"evenodd\" fill-opacity=\"1\" /><path clip-path=\"url(#clip190)\" d=\"M 0 0 M5087.26 6354.39 L5087.26 6373.87 L5064.85 6373.87 Q5052.25 6373.87 5047.28 6378.97 Q5042.44 6384.06 5042.44 6397.3 L5042.44 6409.9 L5081.02 6409.9 L5081.02 6428.11 L5042.44 6428.11 L5042.44 6552.5 L5018.89 6552.5 L5018.89 6428.11 L4996.48 6428.11 L4996.48 6409.9 L5018.89 6409.9 L5018.89 6399.97 Q5018.89 6376.17 5029.97 6365.34 Q5041.04 6354.39 5065.11 6354.39 L5087.26 6354.39 Z\" fill=\"#000000\" fill-rule=\"evenodd\" fill-opacity=\"1\" /><path clip-path=\"url(#clip190)\" d=\"M 0 0 M5111.83 6354.39 L5135.26 6354.39 L5135.26 6552.5 L5111.83 6552.5 L5111.83 6354.39 Z\" fill=\"#000000\" fill-rule=\"evenodd\" fill-opacity=\"1\" /><path clip-path=\"url(#clip190)\" d=\"M 0 0 M5281.79 6475.34 L5281.79 6486.8 L5174.09 6486.8 Q5175.61 6510.99 5188.6 6523.72 Q5201.71 6536.33 5225.01 6536.33 Q5238.51 6536.33 5251.11 6533.02 Q5263.84 6529.71 5276.32 6523.09 L5276.32 6545.24 Q5263.72 6550.59 5250.48 6553.39 Q5237.23 6556.19 5223.61 6556.19 Q5189.49 6556.19 5169.5 6536.33 Q5149.64 6516.47 5149.64 6482.6 Q5149.64 6447.59 5168.48 6427.09 Q5187.45 6406.47 5219.54 6406.47 Q5248.31 6406.47 5264.99 6425.05 Q5281.79 6443.51 5281.79 6475.34 M5258.37 6468.47 Q5258.11 6449.24 5247.55 6437.79 Q5237.11 6426.33 5219.79 6426.33 Q5200.19 6426.33 5188.35 6437.4 Q5176.63 6448.48 5174.85 6468.6 L5258.37 6468.47 Z\" fill=\"#000000\" fill-rule=\"evenodd\" fill-opacity=\"1\" /><path clip-path=\"url(#clip190)\" d=\"M 0 0 M5408.98 6415.38 L5408.98 6437.28 Q5399.05 6431.8 5388.99 6429.13 Q5379.06 6426.33 5368.88 6426.33 Q5346.09 6426.33 5333.48 6440.84 Q5320.88 6455.23 5320.88 6481.33 Q5320.88 6507.43 5333.48 6521.94 Q5346.09 6536.33 5368.88 6536.33 Q5379.06 6536.33 5388.99 6533.65 Q5399.05 6530.85 5408.98 6525.38 L5408.98 6547.02 Q5399.18 6551.6 5388.61 6553.9 Q5378.17 6556.19 5366.33 6556.19 Q5334.12 6556.19 5315.15 6535.94 Q5296.18 6515.7 5296.18 6481.33 Q5296.18 6446.44 5315.28 6426.45 Q5334.5 6406.47 5367.86 6406.47 Q5378.68 6406.47 5388.99 6408.76 Q5399.31 6410.92 5408.98 6415.38 Z\" fill=\"#000000\" fill-rule=\"evenodd\" fill-opacity=\"1\" /><path clip-path=\"url(#clip190)\" d=\"M 0 0 M5456.72 6369.42 L5456.72 6409.9 L5504.98 6409.9 L5504.98 6428.11 L5456.72 6428.11 L5456.72 6505.52 Q5456.72 6522.96 5461.43 6527.92 Q5466.27 6532.89 5480.91 6532.89 L5504.98 6532.89 L5504.98 6552.5 L5480.91 6552.5 Q5453.8 6552.5 5443.48 6542.44 Q5433.17 6532.25 5433.17 6505.52 L5433.17 6428.11 L5415.98 6428.11 L5415.98 6409.9 L5433.17 6409.9 L5433.17 6369.42 L5456.72 6369.42 Z\" fill=\"#000000\" fill-rule=\"evenodd\" fill-opacity=\"1\" /><path clip-path=\"url(#clip190)\" d=\"M 0 0 M5529.55 6409.9 L5552.97 6409.9 L5552.97 6552.5 L5529.55 6552.5 L5529.55 6409.9 M5529.55 6354.39 L5552.97 6354.39 L5552.97 6384.06 L5529.55 6384.06 L5529.55 6354.39 Z\" fill=\"#000000\" fill-rule=\"evenodd\" fill-opacity=\"1\" /><path clip-path=\"url(#clip190)\" d=\"M 0 0 M5632.8 6426.33 Q5613.96 6426.33 5603.01 6441.1 Q5592.06 6455.74 5592.06 6481.33 Q5592.06 6506.92 5602.88 6521.69 Q5613.83 6536.33 5632.8 6536.33 Q5651.51 6536.33 5662.46 6521.56 Q5673.41 6506.79 5673.41 6481.33 Q5673.41 6455.99 5662.46 6441.22 Q5651.51 6426.33 5632.8 6426.33 M5632.8 6406.47 Q5663.35 6406.47 5680.8 6426.33 Q5698.24 6446.19 5698.24 6481.33 Q5698.24 6516.34 5680.8 6536.33 Q5663.35 6556.19 5632.8 6556.19 Q5602.12 6556.19 5584.67 6536.33 Q5567.36 6516.34 5567.36 6481.33 Q5567.36 6446.19 5584.67 6426.33 Q5602.12 6406.47 5632.8 6406.47 Z\" fill=\"#000000\" fill-rule=\"evenodd\" fill-opacity=\"1\" /><path clip-path=\"url(#clip190)\" d=\"M 0 0 M5841.34 6466.43 L5841.34 6552.5 L5817.91 6552.5 L5817.91 6467.19 Q5817.91 6446.95 5810.02 6436.89 Q5802.13 6426.84 5786.34 6426.84 Q5767.37 6426.84 5756.42 6438.93 Q5745.47 6451.03 5745.47 6471.91 L5745.47 6552.5 L5721.92 6552.5 L5721.92 6409.9 L5745.47 6409.9 L5745.47 6432.06 Q5753.88 6419.2 5765.21 6412.83 Q5776.66 6406.47 5791.56 6406.47 Q5816.13 6406.47 5828.74 6421.74 Q5841.34 6436.89 5841.34 6466.43 Z\" fill=\"#000000\" fill-rule=\"evenodd\" fill-opacity=\"1\" /><path clip-path=\"url(#clip190)\" d=\"M 0 0 M5946.63 6354.39 L6000.61 6354.39 L6000.61 6372.6 L5970.05 6372.6 L5970.05 6568.66 L6000.61 6568.66 L6000.61 6586.87 L5946.63 6586.87 L5946.63 6354.39 Z\" fill=\"#000000\" fill-rule=\"evenodd\" fill-opacity=\"1\" /><path clip-path=\"url(#clip190)\" d=\"M 0 0 M6136.2 6437.28 Q6144.98 6421.49 6157.21 6413.98 Q6169.43 6406.47 6185.98 6406.47 Q6208.26 6406.47 6220.35 6422.13 Q6232.45 6437.66 6232.45 6466.43 L6232.45 6552.5 L6208.9 6552.5 L6208.9 6467.19 Q6208.9 6446.7 6201.64 6436.77 Q6194.38 6426.84 6179.49 6426.84 Q6161.28 6426.84 6150.71 6438.93 Q6140.15 6451.03 6140.15 6471.91 L6140.15 6552.5 L6116.59 6552.5 L6116.59 6467.19 Q6116.59 6446.57 6109.34 6436.77 Q6102.08 6426.84 6086.93 6426.84 Q6068.98 6426.84 6058.41 6439.06 Q6047.84 6451.15 6047.84 6471.91 L6047.84 6552.5 L6024.29 6552.5 L6024.29 6409.9 L6047.84 6409.9 L6047.84 6432.06 Q6055.86 6418.94 6067.07 6412.7 Q6078.27 6406.47 6093.68 6406.47 Q6109.21 6406.47 6120.03 6414.36 Q6130.98 6422.25 6136.2 6437.28 Z\" fill=\"#000000\" fill-rule=\"evenodd\" fill-opacity=\"1\" /><path clip-path=\"url(#clip190)\" d=\"M 0 0 M6311.77 6354.39 L6311.77 6586.87 L6257.78 6586.87 L6257.78 6568.66 L6288.21 6568.66 L6288.21 6372.6 L6257.78 6372.6 L6257.78 6354.39 L6311.77 6354.39 Z\" fill=\"#000000\" fill-rule=\"evenodd\" fill-opacity=\"1\" /><polyline clip-path=\"url(#clip192)\" style=\"stroke:#000000; stroke-width:8; stroke-opacity:0.1; fill:none\" points=\"\n",
       "  410.961,5857.76 9411.02,5857.76 \n",
       "  \"/>\n",
       "<polyline clip-path=\"url(#clip192)\" style=\"stroke:#000000; stroke-width:8; stroke-opacity:0.1; fill:none\" points=\"\n",
       "  410.961,4497.13 9411.02,4497.13 \n",
       "  \"/>\n",
       "<polyline clip-path=\"url(#clip192)\" style=\"stroke:#000000; stroke-width:8; stroke-opacity:0.1; fill:none\" points=\"\n",
       "  410.961,3136.5 9411.02,3136.5 \n",
       "  \"/>\n",
       "<polyline clip-path=\"url(#clip192)\" style=\"stroke:#000000; stroke-width:8; stroke-opacity:0.1; fill:none\" points=\"\n",
       "  410.961,1775.87 9411.02,1775.87 \n",
       "  \"/>\n",
       "<polyline clip-path=\"url(#clip192)\" style=\"stroke:#000000; stroke-width:8; stroke-opacity:0.1; fill:none\" points=\"\n",
       "  410.961,415.244 9411.02,415.244 \n",
       "  \"/>\n",
       "<polyline clip-path=\"url(#clip190)\" style=\"stroke:#000000; stroke-width:16; stroke-opacity:1; fill:none\" points=\"\n",
       "  410.961,6021.04 410.961,251.969 \n",
       "  \"/>\n",
       "<polyline clip-path=\"url(#clip190)\" style=\"stroke:#000000; stroke-width:16; stroke-opacity:1; fill:none\" points=\"\n",
       "  410.961,5857.76 518.961,5857.76 \n",
       "  \"/>\n",
       "<polyline clip-path=\"url(#clip190)\" style=\"stroke:#000000; stroke-width:16; stroke-opacity:1; fill:none\" points=\"\n",
       "  410.961,4497.13 518.961,4497.13 \n",
       "  \"/>\n",
       "<polyline clip-path=\"url(#clip190)\" style=\"stroke:#000000; stroke-width:16; stroke-opacity:1; fill:none\" points=\"\n",
       "  410.961,3136.5 518.961,3136.5 \n",
       "  \"/>\n",
       "<polyline clip-path=\"url(#clip190)\" style=\"stroke:#000000; stroke-width:16; stroke-opacity:1; fill:none\" points=\"\n",
       "  410.961,1775.87 518.961,1775.87 \n",
       "  \"/>\n",
       "<polyline clip-path=\"url(#clip190)\" style=\"stroke:#000000; stroke-width:16; stroke-opacity:1; fill:none\" points=\"\n",
       "  410.961,415.244 518.961,415.244 \n",
       "  \"/>\n",
       "<path clip-path=\"url(#clip190)\" d=\"M 0 0 M219.183 5800.96 Q204.739 5800.96 197.424 5815.22 Q190.202 5829.38 190.202 5857.9 Q190.202 5886.33 197.424 5900.59 Q204.739 5914.75 219.183 5914.75 Q233.72 5914.75 240.942 5900.59 Q248.257 5886.33 248.257 5857.9 Q248.257 5829.38 240.942 5815.22 Q233.72 5800.96 219.183 5800.96 M219.183 5786.14 Q242.424 5786.14 254.646 5804.57 Q266.961 5822.9 266.961 5857.9 Q266.961 5892.81 254.646 5911.24 Q242.424 5929.57 219.183 5929.57 Q195.942 5929.57 183.628 5911.24 Q171.406 5892.81 171.406 5857.9 Q171.406 5822.9 183.628 5804.57 Q195.942 5786.14 219.183 5786.14 Z\" fill=\"#000000\" fill-rule=\"evenodd\" fill-opacity=\"1\" /><path clip-path=\"url(#clip190)\" d=\"M 0 0 M-363.933 4576.3 L-298.656 4576.3 L-298.656 4592.04 L-386.433 4592.04 L-386.433 4576.3 Q-375.785 4565.29 -357.452 4546.77 Q-339.026 4528.16 -334.304 4522.79 Q-325.322 4512.69 -321.804 4505.75 Q-318.192 4498.71 -318.192 4491.95 Q-318.192 4480.93 -325.97 4473.99 Q-333.655 4467.04 -346.063 4467.04 Q-354.859 4467.04 -364.674 4470.1 Q-374.396 4473.16 -385.507 4479.36 L-385.507 4460.47 Q-374.211 4455.93 -364.396 4453.62 Q-354.581 4451.3 -346.433 4451.3 Q-324.952 4451.3 -312.174 4462.04 Q-299.396 4472.79 -299.396 4490.75 Q-299.396 4499.27 -302.637 4506.95 Q-305.785 4514.54 -314.211 4524.91 Q-316.526 4527.6 -328.933 4540.47 Q-341.341 4553.25 -363.933 4576.3 Z\" fill=\"#000000\" fill-rule=\"evenodd\" fill-opacity=\"1\" /><path clip-path=\"url(#clip190)\" d=\"M 0 0 M-278.378 4568.53 L-258.841 4568.53 L-258.841 4592.04 L-278.378 4592.04 L-278.378 4568.53 Z\" fill=\"#000000\" fill-rule=\"evenodd\" fill-opacity=\"1\" /><path clip-path=\"url(#clip190)\" d=\"M 0 0 M-238.378 4453.8 L-164.953 4453.8 L-164.953 4469.54 L-221.249 4469.54 L-221.249 4503.43 Q-217.175 4502.04 -213.1 4501.4 Q-209.026 4500.66 -204.952 4500.66 Q-181.804 4500.66 -168.286 4513.34 Q-154.767 4526.03 -154.767 4547.69 Q-154.767 4570.01 -168.656 4582.41 Q-182.545 4594.73 -207.823 4594.73 Q-216.526 4594.73 -225.6 4593.25 Q-234.582 4591.77 -244.211 4588.8 L-244.211 4570.01 Q-235.878 4574.54 -226.989 4576.77 Q-218.1 4578.99 -208.193 4578.99 Q-192.175 4578.99 -182.823 4570.56 Q-173.471 4562.14 -173.471 4547.69 Q-173.471 4533.25 -182.823 4524.82 Q-192.175 4516.4 -208.193 4516.4 Q-215.693 4516.4 -223.193 4518.06 Q-230.6 4519.73 -238.378 4523.25 L-238.378 4453.8 Z\" fill=\"#000000\" fill-rule=\"evenodd\" fill-opacity=\"1\" /><path clip-path=\"url(#clip190)\" d=\"M 0 0 M-21.8052 4490.19 L-64.1198 4532.69 L-21.8052 4575.01 L-32.8236 4586.21 L-75.3234 4543.71 L-117.823 4586.21 L-128.749 4575.01 L-86.5271 4532.69 L-128.749 4490.19 L-117.823 4478.99 L-75.3234 4521.49 L-32.8236 4478.99 L-21.8052 4490.19 Z\" fill=\"#000000\" fill-rule=\"evenodd\" fill-opacity=\"1\" /><path clip-path=\"url(#clip190)\" d=\"M 0 0 M1.71321 4576.3 L32.2686 4576.3 L32.2686 4470.84 L-0.971962 4477.51 L-0.971962 4460.47 L32.0834 4453.8 L50.787 4453.8 L50.787 4576.3 L81.3424 4576.3 L81.3424 4592.04 L1.71321 4592.04 L1.71321 4576.3 Z\" fill=\"#000000\" fill-rule=\"evenodd\" fill-opacity=\"1\" /><path clip-path=\"url(#clip190)\" d=\"M 0 0 M141.62 4466.12 Q127.175 4466.12 119.861 4480.38 Q112.639 4494.54 112.639 4523.06 Q112.639 4551.49 119.861 4565.75 Q127.175 4579.91 141.62 4579.91 Q156.157 4579.91 163.379 4565.75 Q170.694 4551.49 170.694 4523.06 Q170.694 4494.54 163.379 4480.38 Q156.157 4466.12 141.62 4466.12 M141.62 4451.3 Q164.86 4451.3 177.083 4469.73 Q189.397 4488.06 189.397 4523.06 Q189.397 4557.97 177.083 4576.4 Q164.86 4594.73 141.62 4594.73 Q118.379 4594.73 106.065 4576.4 Q93.8423 4557.97 93.8423 4523.06 Q93.8423 4488.06 106.065 4469.73 Q118.379 4451.3 141.62 4451.3 Z\" fill=\"#000000\" fill-rule=\"evenodd\" fill-opacity=\"1\" /><path clip-path=\"url(#clip190)\" d=\"M 0 0 M229.496 4420.19 Q219.264 4420.19 213.246 4427.18 Q207.302 4434.18 207.302 4446.37 Q207.302 4458.48 213.246 4465.55 Q219.264 4472.55 229.496 4472.55 Q239.727 4472.55 245.67 4465.55 Q251.689 4458.48 251.689 4446.37 Q251.689 4434.18 245.67 4427.18 Q239.727 4420.19 229.496 4420.19 M259.663 4372.57 L259.663 4386.41 Q253.946 4383.7 248.078 4382.27 Q242.285 4380.84 236.567 4380.84 Q221.521 4380.84 213.547 4391 Q205.647 4401.15 204.519 4421.69 Q208.957 4415.15 215.653 4411.69 Q222.349 4408.15 230.398 4408.15 Q247.325 4408.15 257.105 4418.46 Q266.961 4428.69 266.961 4446.37 Q266.961 4463.67 256.729 4474.13 Q246.498 4484.58 229.496 4484.58 Q210.011 4484.58 199.704 4469.69 Q189.397 4454.72 189.397 4426.36 Q189.397 4399.72 202.036 4383.93 Q214.675 4368.05 235.965 4368.05 Q241.683 4368.05 247.476 4369.18 Q253.344 4370.31 259.663 4372.57 Z\" fill=\"#000000\" fill-rule=\"evenodd\" fill-opacity=\"1\" /><path clip-path=\"url(#clip190)\" d=\"M 0 0 M-386.248 3093.17 L-312.822 3093.17 L-312.822 3108.91 L-369.118 3108.91 L-369.118 3142.8 Q-365.044 3141.41 -360.97 3140.77 Q-356.896 3140.03 -352.822 3140.03 Q-329.674 3140.03 -316.155 3152.71 Q-302.637 3165.4 -302.637 3187.06 Q-302.637 3209.38 -316.526 3221.78 Q-330.415 3234.1 -355.692 3234.1 Q-364.396 3234.1 -373.47 3232.62 Q-382.451 3231.14 -392.081 3228.17 L-392.081 3209.38 Q-383.748 3213.91 -374.859 3216.14 Q-365.97 3218.36 -356.063 3218.36 Q-340.044 3218.36 -330.692 3209.93 Q-321.341 3201.51 -321.341 3187.06 Q-321.341 3172.62 -330.692 3164.19 Q-340.044 3155.77 -356.063 3155.77 Q-363.563 3155.77 -371.063 3157.43 Q-378.47 3159.1 -386.248 3162.62 L-386.248 3093.17 Z\" fill=\"#000000\" fill-rule=\"evenodd\" fill-opacity=\"1\" /><path clip-path=\"url(#clip190)\" d=\"M 0 0 M-282.359 3207.9 L-262.822 3207.9 L-262.822 3231.41 L-282.359 3231.41 L-282.359 3207.9 Z\" fill=\"#000000\" fill-rule=\"evenodd\" fill-opacity=\"1\" /><path clip-path=\"url(#clip190)\" d=\"M 0 0 M-202.545 3105.49 Q-216.989 3105.49 -224.304 3119.75 Q-231.526 3133.91 -231.526 3162.43 Q-231.526 3190.86 -224.304 3205.12 Q-216.989 3219.28 -202.545 3219.28 Q-188.008 3219.28 -180.786 3205.12 Q-173.471 3190.86 -173.471 3162.43 Q-173.471 3133.91 -180.786 3119.75 Q-188.008 3105.49 -202.545 3105.49 M-202.545 3090.67 Q-179.304 3090.67 -167.082 3109.1 Q-154.767 3127.43 -154.767 3162.43 Q-154.767 3197.34 -167.082 3215.77 Q-179.304 3234.1 -202.545 3234.1 Q-225.786 3234.1 -238.1 3215.77 Q-250.322 3197.34 -250.322 3162.43 Q-250.322 3127.43 -238.1 3109.1 Q-225.786 3090.67 -202.545 3090.67 Z\" fill=\"#000000\" fill-rule=\"evenodd\" fill-opacity=\"1\" /><path clip-path=\"url(#clip190)\" d=\"M 0 0 M-21.8052 3129.56 L-64.1198 3172.06 L-21.8052 3214.38 L-32.8236 3225.58 L-75.3234 3183.08 L-117.823 3225.58 L-128.749 3214.38 L-86.5271 3172.06 L-128.749 3129.56 L-117.823 3118.36 L-75.3234 3160.86 L-32.8236 3118.36 L-21.8052 3129.56 Z\" fill=\"#000000\" fill-rule=\"evenodd\" fill-opacity=\"1\" /><path clip-path=\"url(#clip190)\" d=\"M 0 0 M1.71321 3215.67 L32.2686 3215.67 L32.2686 3110.21 L-0.971962 3116.88 L-0.971962 3099.84 L32.0834 3093.17 L50.787 3093.17 L50.787 3215.67 L81.3424 3215.67 L81.3424 3231.41 L1.71321 3231.41 L1.71321 3215.67 Z\" fill=\"#000000\" fill-rule=\"evenodd\" fill-opacity=\"1\" /><path clip-path=\"url(#clip190)\" d=\"M 0 0 M141.62 3105.49 Q127.175 3105.49 119.861 3119.75 Q112.639 3133.91 112.639 3162.43 Q112.639 3190.86 119.861 3205.12 Q127.175 3219.28 141.62 3219.28 Q156.157 3219.28 163.379 3205.12 Q170.694 3190.86 170.694 3162.43 Q170.694 3133.91 163.379 3119.75 Q156.157 3105.49 141.62 3105.49 M141.62 3090.67 Q164.86 3090.67 177.083 3109.1 Q189.397 3127.43 189.397 3162.43 Q189.397 3197.34 177.083 3215.77 Q164.86 3234.1 141.62 3234.1 Q118.379 3234.1 106.065 3215.77 Q93.8423 3197.34 93.8423 3162.43 Q93.8423 3127.43 106.065 3109.1 Q118.379 3090.67 141.62 3090.67 Z\" fill=\"#000000\" fill-rule=\"evenodd\" fill-opacity=\"1\" /><path clip-path=\"url(#clip190)\" d=\"M 0 0 M229.496 3059.56 Q219.264 3059.56 213.246 3066.55 Q207.302 3073.55 207.302 3085.74 Q207.302 3097.85 213.246 3104.92 Q219.264 3111.92 229.496 3111.92 Q239.727 3111.92 245.67 3104.92 Q251.689 3097.85 251.689 3085.74 Q251.689 3073.55 245.67 3066.55 Q239.727 3059.56 229.496 3059.56 M259.663 3011.94 L259.663 3025.78 Q253.946 3023.07 248.078 3021.64 Q242.285 3020.21 236.567 3020.21 Q221.521 3020.21 213.547 3030.37 Q205.647 3040.52 204.519 3061.06 Q208.957 3054.52 215.653 3051.06 Q222.349 3047.52 230.398 3047.52 Q247.325 3047.52 257.105 3057.83 Q266.961 3068.06 266.961 3085.74 Q266.961 3103.04 256.729 3113.5 Q246.498 3123.95 229.496 3123.95 Q210.011 3123.95 199.704 3109.06 Q189.397 3094.09 189.397 3065.73 Q189.397 3039.09 202.036 3023.3 Q214.675 3007.42 235.965 3007.42 Q241.683 3007.42 247.476 3008.55 Q253.344 3009.68 259.663 3011.94 Z\" fill=\"#000000\" fill-rule=\"evenodd\" fill-opacity=\"1\" /><path clip-path=\"url(#clip190)\" d=\"M 0 0 M-387.544 1732.54 L-298.656 1732.54 L-298.656 1740.51 L-348.84 1870.78 L-368.377 1870.78 L-321.155 1748.29 L-387.544 1748.29 L-387.544 1732.54 Z\" fill=\"#000000\" fill-rule=\"evenodd\" fill-opacity=\"1\" /><path clip-path=\"url(#clip190)\" d=\"M 0 0 M-278.378 1847.27 L-258.841 1847.27 L-258.841 1870.78 L-278.378 1870.78 L-278.378 1847.27 Z\" fill=\"#000000\" fill-rule=\"evenodd\" fill-opacity=\"1\" /><path clip-path=\"url(#clip190)\" d=\"M 0 0 M-238.378 1732.54 L-164.953 1732.54 L-164.953 1748.29 L-221.249 1748.29 L-221.249 1782.17 Q-217.175 1780.78 -213.1 1780.14 Q-209.026 1779.4 -204.952 1779.4 Q-181.804 1779.4 -168.286 1792.08 Q-154.767 1804.77 -154.767 1826.43 Q-154.767 1848.75 -168.656 1861.15 Q-182.545 1873.47 -207.823 1873.47 Q-216.526 1873.47 -225.6 1871.99 Q-234.582 1870.51 -244.211 1867.54 L-244.211 1848.75 Q-235.878 1853.28 -226.989 1855.51 Q-218.1 1857.73 -208.193 1857.73 Q-192.175 1857.73 -182.823 1849.3 Q-173.471 1840.88 -173.471 1826.43 Q-173.471 1811.99 -182.823 1803.56 Q-192.175 1795.14 -208.193 1795.14 Q-215.693 1795.14 -223.193 1796.8 Q-230.6 1798.47 -238.378 1801.99 L-238.378 1732.54 Z\" fill=\"#000000\" fill-rule=\"evenodd\" fill-opacity=\"1\" /><path clip-path=\"url(#clip190)\" d=\"M 0 0 M-21.8052 1768.93 L-64.1198 1811.43 L-21.8052 1853.75 L-32.8236 1864.95 L-75.3234 1822.45 L-117.823 1864.95 L-128.749 1853.75 L-86.5271 1811.43 L-128.749 1768.93 L-117.823 1757.73 L-75.3234 1800.23 L-32.8236 1757.73 L-21.8052 1768.93 Z\" fill=\"#000000\" fill-rule=\"evenodd\" fill-opacity=\"1\" /><path clip-path=\"url(#clip190)\" d=\"M 0 0 M1.71321 1855.04 L32.2686 1855.04 L32.2686 1749.58 L-0.971962 1756.25 L-0.971962 1739.21 L32.0834 1732.54 L50.787 1732.54 L50.787 1855.04 L81.3424 1855.04 L81.3424 1870.78 L1.71321 1870.78 L1.71321 1855.04 Z\" fill=\"#000000\" fill-rule=\"evenodd\" fill-opacity=\"1\" /><path clip-path=\"url(#clip190)\" d=\"M 0 0 M141.62 1744.86 Q127.175 1744.86 119.861 1759.12 Q112.639 1773.28 112.639 1801.8 Q112.639 1830.23 119.861 1844.49 Q127.175 1858.65 141.62 1858.65 Q156.157 1858.65 163.379 1844.49 Q170.694 1830.23 170.694 1801.8 Q170.694 1773.28 163.379 1759.12 Q156.157 1744.86 141.62 1744.86 M141.62 1730.04 Q164.86 1730.04 177.083 1748.47 Q189.397 1766.8 189.397 1801.8 Q189.397 1836.71 177.083 1855.14 Q164.86 1873.47 141.62 1873.47 Q118.379 1873.47 106.065 1855.14 Q93.8423 1836.71 93.8423 1801.8 Q93.8423 1766.8 106.065 1748.47 Q118.379 1730.04 141.62 1730.04 Z\" fill=\"#000000\" fill-rule=\"evenodd\" fill-opacity=\"1\" /><path clip-path=\"url(#clip190)\" d=\"M 0 0 M229.496 1698.93 Q219.264 1698.93 213.246 1705.92 Q207.302 1712.92 207.302 1725.11 Q207.302 1737.22 213.246 1744.29 Q219.264 1751.29 229.496 1751.29 Q239.727 1751.29 245.67 1744.29 Q251.689 1737.22 251.689 1725.11 Q251.689 1712.92 245.67 1705.92 Q239.727 1698.93 229.496 1698.93 M259.663 1651.31 L259.663 1665.15 Q253.946 1662.44 248.078 1661.01 Q242.285 1659.58 236.567 1659.58 Q221.521 1659.58 213.547 1669.74 Q205.647 1679.89 204.519 1700.43 Q208.957 1693.89 215.653 1690.43 Q222.349 1686.89 230.398 1686.89 Q247.325 1686.89 257.105 1697.2 Q266.961 1707.43 266.961 1725.11 Q266.961 1742.41 256.729 1752.87 Q246.498 1763.32 229.496 1763.32 Q210.011 1763.32 199.704 1748.43 Q189.397 1733.46 189.397 1705.1 Q189.397 1678.46 202.036 1662.67 Q214.675 1646.79 235.965 1646.79 Q241.683 1646.79 247.476 1647.92 Q253.344 1649.05 259.663 1651.31 Z\" fill=\"#000000\" fill-rule=\"evenodd\" fill-opacity=\"1\" /><path clip-path=\"url(#clip190)\" d=\"M 0 0 M-376.925 494.414 L-346.369 494.414 L-346.369 388.951 L-379.61 395.618 L-379.61 378.581 L-346.555 371.914 L-327.851 371.914 L-327.851 494.414 L-297.296 494.414 L-297.296 510.154 L-376.925 510.154 L-376.925 494.414 Z\" fill=\"#000000\" fill-rule=\"evenodd\" fill-opacity=\"1\" /><path clip-path=\"url(#clip190)\" d=\"M 0 0 M-277.018 486.636 L-257.481 486.636 L-257.481 510.154 L-277.018 510.154 L-277.018 486.636 Z\" fill=\"#000000\" fill-rule=\"evenodd\" fill-opacity=\"1\" /><path clip-path=\"url(#clip190)\" d=\"M 0 0 M-197.204 384.229 Q-211.648 384.229 -218.963 398.488 Q-226.185 412.655 -226.185 441.173 Q-226.185 469.599 -218.963 483.858 Q-211.648 498.025 -197.204 498.025 Q-182.667 498.025 -175.444 483.858 Q-168.13 469.599 -168.13 441.173 Q-168.13 412.655 -175.444 398.488 Q-182.667 384.229 -197.204 384.229 M-197.204 369.415 Q-173.963 369.415 -161.741 387.84 Q-149.426 406.174 -149.426 441.173 Q-149.426 476.081 -161.741 494.506 Q-173.963 512.84 -197.204 512.84 Q-220.444 512.84 -232.759 494.506 Q-244.981 476.081 -244.981 441.173 Q-244.981 406.174 -232.759 387.84 Q-220.444 369.415 -197.204 369.415 Z\" fill=\"#000000\" fill-rule=\"evenodd\" fill-opacity=\"1\" /><path clip-path=\"url(#clip190)\" d=\"M 0 0 M-16.4638 408.303 L-58.7784 450.803 L-16.4638 493.118 L-27.4822 504.321 L-69.982 461.821 L-112.482 504.321 L-123.408 493.118 L-81.1857 450.803 L-123.408 408.303 L-112.482 397.1 L-69.982 439.599 L-27.4822 397.1 L-16.4638 408.303 Z\" fill=\"#000000\" fill-rule=\"evenodd\" fill-opacity=\"1\" /><path clip-path=\"url(#clip190)\" d=\"M 0 0 M7.05462 494.414 L37.61 494.414 L37.61 388.951 L4.36944 395.618 L4.36944 378.581 L37.4248 371.914 L56.1284 371.914 L56.1284 494.414 L86.6838 494.414 L86.6838 510.154 L7.05462 510.154 L7.05462 494.414 Z\" fill=\"#000000\" fill-rule=\"evenodd\" fill-opacity=\"1\" /><path clip-path=\"url(#clip190)\" d=\"M 0 0 M146.961 384.229 Q132.517 384.229 125.202 398.488 Q117.98 412.655 117.98 441.173 Q117.98 469.599 125.202 483.858 Q132.517 498.025 146.961 498.025 Q161.498 498.025 168.72 483.858 Q176.035 469.599 176.035 441.173 Q176.035 412.655 168.72 398.488 Q161.498 384.229 146.961 384.229 M146.961 369.415 Q170.202 369.415 182.424 387.84 Q194.739 406.174 194.739 441.173 Q194.739 476.081 182.424 494.506 Q170.202 512.84 146.961 512.84 Q123.721 512.84 111.406 494.506 Q99.1838 476.081 99.1838 441.173 Q99.1838 406.174 111.406 387.84 Q123.721 369.415 146.961 369.415 Z\" fill=\"#000000\" fill-rule=\"evenodd\" fill-opacity=\"1\" /><path clip-path=\"url(#clip190)\" d=\"M 0 0 M194.739 288.193 L266.961 288.193 L266.961 294.663 L226.185 400.513 L210.312 400.513 L248.679 300.982 L194.739 300.982 L194.739 288.193 Z\" fill=\"#000000\" fill-rule=\"evenodd\" fill-opacity=\"1\" /><path clip-path=\"url(#clip190)\" d=\"M 0 0 M-687.185 3854.81 L-687.185 3694.01 L-665.542 3694.01 L-665.542 3761.49 L-497.105 3761.49 L-497.105 3787.33 L-665.542 3787.33 L-665.542 3854.81 L-687.185 3854.81 Z\" fill=\"#000000\" fill-rule=\"evenodd\" fill-opacity=\"1\" /><path clip-path=\"url(#clip190)\" d=\"M 0 0 M-617.799 3625.14 Q-620.09 3629.08 -621.109 3633.79 Q-622.255 3638.38 -622.255 3643.98 Q-622.255 3663.84 -609.269 3674.53 Q-596.41 3685.1 -572.22 3685.1 L-497.105 3685.1 L-497.105 3708.65 L-639.697 3708.65 L-639.697 3685.1 L-617.544 3685.1 Q-630.53 3677.72 -636.769 3665.88 Q-643.134 3654.04 -643.134 3637.1 Q-643.134 3634.68 -642.752 3631.76 Q-642.498 3628.83 -641.861 3625.26 L-617.799 3625.14 Z\" fill=\"#000000\" fill-rule=\"evenodd\" fill-opacity=\"1\" /><path clip-path=\"url(#clip190)\" d=\"M 0 0 M-568.783 3535.76 Q-568.783 3564.15 -562.29 3575.1 Q-555.797 3586.05 -540.137 3586.05 Q-527.66 3586.05 -520.276 3577.9 Q-513.019 3569.63 -513.019 3555.49 Q-513.019 3536.02 -526.769 3524.3 Q-540.646 3512.46 -563.563 3512.46 L-568.783 3512.46 L-568.783 3535.76 M-578.459 3489.04 L-497.105 3489.04 L-497.105 3512.46 L-518.748 3512.46 Q-505.762 3520.48 -499.524 3532.45 Q-493.413 3544.42 -493.413 3561.73 Q-493.413 3583.63 -505.635 3596.62 Q-517.984 3609.48 -538.609 3609.48 Q-562.672 3609.48 -574.894 3593.43 Q-587.116 3577.27 -587.116 3545.31 L-587.116 3512.46 L-589.408 3512.46 Q-605.577 3512.46 -614.361 3523.16 Q-623.273 3533.72 -623.273 3552.95 Q-623.273 3565.17 -620.345 3576.76 Q-617.417 3588.34 -611.56 3599.04 L-633.204 3599.04 Q-638.169 3586.18 -640.588 3574.08 Q-643.134 3561.99 -643.134 3550.53 Q-643.134 3519.59 -627.093 3504.31 Q-611.051 3489.04 -578.459 3489.04 Z\" fill=\"#000000\" fill-rule=\"evenodd\" fill-opacity=\"1\" /><path clip-path=\"url(#clip190)\" d=\"M 0 0 M-634.222 3361.85 L-612.324 3361.85 Q-617.799 3371.78 -620.472 3381.84 Q-623.273 3391.77 -623.273 3401.95 Q-623.273 3424.74 -608.759 3437.35 Q-594.373 3449.95 -568.274 3449.95 Q-542.174 3449.95 -527.66 3437.35 Q-513.274 3424.74 -513.274 3401.95 Q-513.274 3391.77 -515.947 3381.84 Q-518.748 3371.78 -524.223 3361.85 L-502.579 3361.85 Q-497.996 3371.65 -495.705 3382.22 Q-493.413 3392.66 -493.413 3404.5 Q-493.413 3436.71 -513.656 3455.68 Q-533.899 3474.65 -568.274 3474.65 Q-603.158 3474.65 -623.146 3455.55 Q-643.134 3436.33 -643.134 3402.97 Q-643.134 3392.15 -640.843 3381.84 Q-638.678 3371.53 -634.222 3361.85 Z\" fill=\"#000000\" fill-rule=\"evenodd\" fill-opacity=\"1\" /><path clip-path=\"url(#clip190)\" d=\"M 0 0 M-680.183 3314.11 L-639.697 3314.11 L-639.697 3265.86 L-621.491 3265.86 L-621.491 3314.11 L-544.084 3314.11 Q-526.642 3314.11 -521.677 3309.4 Q-516.711 3304.56 -516.711 3289.92 L-516.711 3265.86 L-497.105 3265.86 L-497.105 3289.92 Q-497.105 3317.04 -507.163 3327.35 Q-517.348 3337.66 -544.084 3337.66 L-621.491 3337.66 L-621.491 3354.85 L-639.697 3354.85 L-639.697 3337.66 L-680.183 3337.66 L-680.183 3314.11 Z\" fill=\"#000000\" fill-rule=\"evenodd\" fill-opacity=\"1\" /><path clip-path=\"url(#clip190)\" d=\"M 0 0 M-639.697 3241.28 L-639.697 3217.86 L-497.105 3217.86 L-497.105 3241.28 L-639.697 3241.28 M-695.206 3241.28 L-695.206 3217.86 L-665.542 3217.86 L-665.542 3241.28 L-695.206 3241.28 Z\" fill=\"#000000\" fill-rule=\"evenodd\" fill-opacity=\"1\" /><path clip-path=\"url(#clip190)\" d=\"M 0 0 M-623.273 3138.03 Q-623.273 3156.87 -608.505 3167.82 Q-593.864 3178.77 -568.274 3178.77 Q-542.683 3178.77 -527.915 3167.95 Q-513.274 3157 -513.274 3138.03 Q-513.274 3119.32 -528.042 3108.37 Q-542.811 3097.42 -568.274 3097.42 Q-593.609 3097.42 -608.378 3108.37 Q-623.273 3119.32 -623.273 3138.03 M-643.134 3138.03 Q-643.134 3107.48 -623.273 3090.03 Q-603.412 3072.59 -568.274 3072.59 Q-533.262 3072.59 -513.274 3090.03 Q-493.413 3107.48 -493.413 3138.03 Q-493.413 3168.71 -513.274 3186.16 Q-533.262 3203.47 -568.274 3203.47 Q-603.412 3203.47 -623.273 3186.16 Q-643.134 3168.71 -643.134 3138.03 Z\" fill=\"#000000\" fill-rule=\"evenodd\" fill-opacity=\"1\" /><path clip-path=\"url(#clip190)\" d=\"M 0 0 M-583.169 2929.49 L-497.105 2929.49 L-497.105 2952.92 L-582.405 2952.92 Q-602.648 2952.92 -612.706 2960.81 Q-622.764 2968.7 -622.764 2984.49 Q-622.764 3003.46 -610.669 3014.41 Q-598.574 3025.36 -577.695 3025.36 L-497.105 3025.36 L-497.105 3048.91 L-639.697 3048.91 L-639.697 3025.36 L-617.544 3025.36 Q-630.403 3016.96 -636.769 3005.63 Q-643.134 2994.17 -643.134 2979.27 Q-643.134 2954.7 -627.857 2942.1 Q-612.706 2929.49 -583.169 2929.49 Z\" fill=\"#000000\" fill-rule=\"evenodd\" fill-opacity=\"1\" /><path clip-path=\"url(#clip190)\" d=\"M 0 0 M-695.206 2824.2 L-695.206 2770.22 L-677 2770.22 L-677 2800.78 L-480.936 2800.78 L-480.936 2770.22 L-462.73 2770.22 L-462.73 2824.2 L-695.206 2824.2 Z\" fill=\"#000000\" fill-rule=\"evenodd\" fill-opacity=\"1\" /><path clip-path=\"url(#clip190)\" d=\"M 0 0 M-666.051 2718.91 L-594.628 2718.91 L-594.628 2686.58 Q-594.628 2668.62 -603.922 2658.82 Q-613.215 2649.02 -630.403 2649.02 Q-647.463 2649.02 -656.757 2658.82 Q-666.051 2668.62 -666.051 2686.58 L-666.051 2718.91 M-687.185 2744.63 L-687.185 2686.58 Q-687.185 2654.62 -672.671 2638.32 Q-658.285 2621.9 -630.403 2621.9 Q-602.266 2621.9 -587.88 2638.32 Q-573.493 2654.62 -573.493 2686.58 L-573.493 2718.91 L-497.105 2718.91 L-497.105 2744.63 L-687.185 2744.63 Z\" fill=\"#000000\" fill-rule=\"evenodd\" fill-opacity=\"1\" /><path clip-path=\"url(#clip190)\" d=\"M 0 0 M-568.783 2544.24 Q-568.783 2572.63 -562.29 2583.58 Q-555.797 2594.53 -540.137 2594.53 Q-527.66 2594.53 -520.276 2586.38 Q-513.019 2578.1 -513.019 2563.97 Q-513.019 2544.49 -526.769 2532.78 Q-540.646 2520.94 -563.563 2520.94 L-568.783 2520.94 L-568.783 2544.24 M-578.459 2497.51 L-497.105 2497.51 L-497.105 2520.94 L-518.748 2520.94 Q-505.762 2528.96 -499.524 2540.93 Q-493.413 2552.9 -493.413 2570.21 Q-493.413 2592.11 -505.635 2605.09 Q-517.984 2617.95 -538.609 2617.95 Q-562.672 2617.95 -574.894 2601.91 Q-587.116 2585.74 -587.116 2553.79 L-587.116 2520.94 L-589.408 2520.94 Q-605.577 2520.94 -614.361 2531.63 Q-623.273 2542.2 -623.273 2561.43 Q-623.273 2573.65 -620.345 2585.23 Q-617.417 2596.82 -611.56 2607.51 L-633.204 2607.51 Q-638.169 2594.65 -640.588 2582.56 Q-643.134 2570.47 -643.134 2559.01 Q-643.134 2528.07 -627.093 2512.79 Q-611.051 2497.51 -578.459 2497.51 Z\" fill=\"#000000\" fill-rule=\"evenodd\" fill-opacity=\"1\" /><path clip-path=\"url(#clip190)\" d=\"M 0 0 M-695.206 2418.2 L-462.73 2418.2 L-462.73 2472.18 L-480.936 2472.18 L-480.936 2441.75 L-677 2441.75 L-677 2472.18 L-695.206 2472.18 L-695.206 2418.2 Z\" fill=\"#000000\" fill-rule=\"evenodd\" fill-opacity=\"1\" /><path clip-path=\"url(#clip190)\" d=\"M 0 0 M3290.71 48.384 L3495.36 48.384 L3495.36 75.9301 L3409.48 75.9301 L3409.48 290.304 L3376.59 290.304 L3376.59 75.9301 L3290.71 75.9301 L3290.71 48.384 Z\" fill=\"#000000\" fill-rule=\"evenodd\" fill-opacity=\"1\" /><path clip-path=\"url(#clip190)\" d=\"M 0 0 M3583.02 136.694 Q3578 133.777 3572.01 132.481 Q3566.17 131.022 3559.04 131.022 Q3533.77 131.022 3520.15 147.55 Q3506.71 163.916 3506.71 194.703 L3506.71 290.304 L3476.73 290.304 L3476.73 108.823 L3506.71 108.823 L3506.71 137.018 Q3516.1 120.49 3531.17 112.55 Q3546.24 104.449 3567.79 104.449 Q3570.87 104.449 3574.6 104.935 Q3578.33 105.259 3582.86 106.069 L3583.02 136.694 Z\" fill=\"#000000\" fill-rule=\"evenodd\" fill-opacity=\"1\" /><path clip-path=\"url(#clip190)\" d=\"M 0 0 M3696.77 199.078 Q3660.64 199.078 3646.7 207.341 Q3632.77 215.605 3632.77 235.536 Q3632.77 251.415 3643.14 260.813 Q3653.67 270.049 3671.66 270.049 Q3696.45 270.049 3711.36 252.55 Q3726.43 234.888 3726.43 205.721 L3726.43 199.078 L3696.77 199.078 M3756.24 186.763 L3756.24 290.304 L3726.43 290.304 L3726.43 262.758 Q3716.22 279.286 3700.99 287.225 Q3685.76 295.003 3663.72 295.003 Q3635.85 295.003 3619.32 279.448 Q3602.96 263.73 3602.96 237.48 Q3602.96 206.855 3623.37 191.3 Q3643.95 175.744 3684.62 175.744 L3726.43 175.744 L3726.43 172.828 Q3726.43 152.249 3712.82 141.069 Q3699.37 129.726 3674.9 129.726 Q3659.34 129.726 3644.6 133.453 Q3629.85 137.18 3616.24 144.633 L3616.24 117.087 Q3632.61 110.768 3648 107.689 Q3663.39 104.449 3677.98 104.449 Q3717.35 104.449 3736.8 124.865 Q3756.24 145.282 3756.24 186.763 Z\" fill=\"#000000\" fill-rule=\"evenodd\" fill-opacity=\"1\" /><path clip-path=\"url(#clip190)\" d=\"M 0 0 M3918.12 115.791 L3918.12 143.661 Q3905.48 136.694 3892.68 133.291 Q3880.04 129.726 3867.07 129.726 Q3838.07 129.726 3822.03 148.198 Q3805.99 166.508 3805.99 199.726 Q3805.99 232.943 3822.03 251.415 Q3838.07 269.725 3867.07 269.725 Q3880.04 269.725 3892.68 266.323 Q3905.48 262.758 3918.12 255.79 L3918.12 283.336 Q3905.64 289.17 3892.19 292.086 Q3878.9 295.003 3863.83 295.003 Q3822.84 295.003 3798.69 269.239 Q3774.55 243.476 3774.55 199.726 Q3774.55 155.328 3798.86 129.888 Q3823.32 104.449 3865.78 104.449 Q3879.55 104.449 3892.68 107.365 Q3905.8 110.12 3918.12 115.791 Z\" fill=\"#000000\" fill-rule=\"evenodd\" fill-opacity=\"1\" /><path clip-path=\"url(#clip190)\" d=\"M 0 0 M3978.88 57.296 L3978.88 108.823 L4040.29 108.823 L4040.29 131.995 L3978.88 131.995 L3978.88 230.513 Q3978.88 252.712 3984.87 259.031 Q3991.03 265.35 4009.67 265.35 L4040.29 265.35 L4040.29 290.304 L4009.67 290.304 Q3975.15 290.304 3962.03 277.503 Q3948.9 264.54 3948.9 230.513 L3948.9 131.995 L3927.03 131.995 L3927.03 108.823 L3948.9 108.823 L3948.9 57.296 L3978.88 57.296 Z\" fill=\"#000000\" fill-rule=\"evenodd\" fill-opacity=\"1\" /><path clip-path=\"url(#clip190)\" d=\"M 0 0 M4071.56 108.823 L4101.38 108.823 L4101.38 290.304 L4071.56 290.304 L4071.56 108.823 M4071.56 38.1757 L4101.38 38.1757 L4101.38 75.9301 L4071.56 75.9301 L4071.56 38.1757 Z\" fill=\"#000000\" fill-rule=\"evenodd\" fill-opacity=\"1\" /><path clip-path=\"url(#clip190)\" d=\"M 0 0 M4202.98 129.726 Q4178.99 129.726 4165.06 148.522 Q4151.12 167.157 4151.12 199.726 Q4151.12 232.295 4164.9 251.091 Q4178.83 269.725 4202.98 269.725 Q4226.79 269.725 4240.73 250.929 Q4254.66 232.133 4254.66 199.726 Q4254.66 167.481 4240.73 148.684 Q4226.79 129.726 4202.98 129.726 M4202.98 104.449 Q4241.86 104.449 4264.06 129.726 Q4286.26 155.004 4286.26 199.726 Q4286.26 244.286 4264.06 269.725 Q4241.86 295.003 4202.98 295.003 Q4163.92 295.003 4141.73 269.725 Q4119.69 244.286 4119.69 199.726 Q4119.69 155.004 4141.73 129.726 Q4163.92 104.449 4202.98 104.449 Z\" fill=\"#000000\" fill-rule=\"evenodd\" fill-opacity=\"1\" /><path clip-path=\"url(#clip190)\" d=\"M 0 0 M4468.39 180.768 L4468.39 290.304 L4438.58 290.304 L4438.58 181.74 Q4438.58 155.976 4428.53 143.175 Q4418.48 130.374 4398.39 130.374 Q4374.25 130.374 4360.31 145.768 Q4346.38 161.161 4346.38 187.735 L4346.38 290.304 L4316.4 290.304 L4316.4 108.823 L4346.38 108.823 L4346.38 137.018 Q4357.07 120.652 4371.49 112.55 Q4386.08 104.449 4405.03 104.449 Q4436.31 104.449 4452.35 123.893 Q4468.39 143.175 4468.39 180.768 Z\" fill=\"#000000\" fill-rule=\"evenodd\" fill-opacity=\"1\" /><path clip-path=\"url(#clip190)\" d=\"M 0 0 M4484.59 186.115 L4571.93 186.115 L4571.93 212.689 L4484.59 212.689 L4484.59 186.115 Z\" fill=\"#000000\" fill-rule=\"evenodd\" fill-opacity=\"1\" /><path clip-path=\"url(#clip190)\" d=\"M 0 0 M4722.63 136.37 L4722.63 38.1757 L4752.44 38.1757 L4752.44 290.304 L4722.63 290.304 L4722.63 263.082 Q4713.23 279.286 4698.81 287.225 Q4684.55 295.003 4664.45 295.003 Q4631.56 295.003 4610.82 268.753 Q4590.24 242.503 4590.24 199.726 Q4590.24 156.948 4610.82 130.698 Q4631.56 104.449 4664.45 104.449 Q4684.55 104.449 4698.81 112.388 Q4713.23 120.166 4722.63 136.37 M4621.03 199.726 Q4621.03 232.619 4634.48 251.415 Q4648.09 270.049 4671.75 270.049 Q4695.4 270.049 4709.01 251.415 Q4722.63 232.619 4722.63 199.726 Q4722.63 166.832 4709.01 148.198 Q4695.4 129.402 4671.75 129.402 Q4648.09 129.402 4634.48 148.198 Q4621.03 166.832 4621.03 199.726 Z\" fill=\"#000000\" fill-rule=\"evenodd\" fill-opacity=\"1\" /><path clip-path=\"url(#clip190)\" d=\"M 0 0 M4783.71 108.823 L4813.53 108.823 L4813.53 290.304 L4783.71 290.304 L4783.71 108.823 M4783.71 38.1757 L4813.53 38.1757 L4813.53 75.9301 L4783.71 75.9301 L4783.71 38.1757 Z\" fill=\"#000000\" fill-rule=\"evenodd\" fill-opacity=\"1\" /><path clip-path=\"url(#clip190)\" d=\"M 0 0 M4960.49 114.171 L4960.49 142.365 Q4947.86 135.884 4934.24 132.643 Q4920.63 129.402 4906.05 129.402 Q4883.85 129.402 4872.67 136.208 Q4861.65 143.013 4861.65 156.624 Q4861.65 166.994 4869.59 172.99 Q4877.53 178.823 4901.51 184.17 L4911.72 186.439 Q4943.48 193.244 4956.77 205.721 Q4970.22 218.036 4970.22 240.235 Q4970.22 265.512 4950.12 280.258 Q4930.19 295.003 4895.19 295.003 Q4880.61 295.003 4864.73 292.086 Q4849.01 289.332 4831.51 283.661 L4831.51 252.874 Q4848.04 261.462 4864.08 265.837 Q4880.12 270.049 4895.84 270.049 Q4916.91 270.049 4928.25 262.92 Q4939.59 255.628 4939.59 242.503 Q4939.59 230.351 4931.33 223.869 Q4923.23 217.388 4895.52 211.392 L4885.15 208.962 Q4857.44 203.129 4845.12 191.138 Q4832.81 178.985 4832.81 157.92 Q4832.81 132.319 4850.96 118.384 Q4869.11 104.449 4902.49 104.449 Q4919.01 104.449 4933.6 106.879 Q4948.18 109.31 4960.49 114.171 Z\" fill=\"#000000\" fill-rule=\"evenodd\" fill-opacity=\"1\" /><path clip-path=\"url(#clip190)\" d=\"M 0 0 M5030.33 263.082 L5030.33 359.331 L5000.36 359.331 L5000.36 108.823 L5030.33 108.823 L5030.33 136.37 Q5039.73 120.166 5053.99 112.388 Q5068.41 104.449 5088.34 104.449 Q5121.4 104.449 5141.97 130.698 Q5162.72 156.948 5162.72 199.726 Q5162.72 242.503 5141.97 268.753 Q5121.4 295.003 5088.34 295.003 Q5068.41 295.003 5053.99 287.225 Q5039.73 279.286 5030.33 263.082 M5131.77 199.726 Q5131.77 166.832 5118.16 148.198 Q5104.71 129.402 5081.05 129.402 Q5057.39 129.402 5043.78 148.198 Q5030.33 166.832 5030.33 199.726 Q5030.33 232.619 5043.78 251.415 Q5057.39 270.049 5081.05 270.049 Q5104.71 270.049 5118.16 251.415 Q5131.77 232.619 5131.77 199.726 Z\" fill=\"#000000\" fill-rule=\"evenodd\" fill-opacity=\"1\" /><path clip-path=\"url(#clip190)\" d=\"M 0 0 M5193.99 38.1757 L5223.8 38.1757 L5223.8 290.304 L5193.99 290.304 L5193.99 38.1757 Z\" fill=\"#000000\" fill-rule=\"evenodd\" fill-opacity=\"1\" /><path clip-path=\"url(#clip190)\" d=\"M 0 0 M5337.55 199.078 Q5301.42 199.078 5287.48 207.341 Q5273.55 215.605 5273.55 235.536 Q5273.55 251.415 5283.92 260.813 Q5294.45 270.049 5312.44 270.049 Q5337.23 270.049 5352.14 252.55 Q5367.2 234.888 5367.2 205.721 L5367.2 199.078 L5337.55 199.078 M5397.02 186.763 L5397.02 290.304 L5367.2 290.304 L5367.2 262.758 Q5357 279.286 5341.77 287.225 Q5326.53 295.003 5304.5 295.003 Q5276.63 295.003 5260.1 279.448 Q5243.73 263.73 5243.73 237.48 Q5243.73 206.855 5264.15 191.3 Q5284.73 175.744 5325.4 175.744 L5367.2 175.744 L5367.2 172.828 Q5367.2 152.249 5353.59 141.069 Q5340.14 129.726 5315.68 129.726 Q5300.12 129.726 5285.38 133.453 Q5270.63 137.18 5257.02 144.633 L5257.02 117.087 Q5273.39 110.768 5288.78 107.689 Q5304.17 104.449 5318.76 104.449 Q5358.13 104.449 5377.58 124.865 Q5397.02 145.282 5397.02 186.763 Z\" fill=\"#000000\" fill-rule=\"evenodd\" fill-opacity=\"1\" /><path clip-path=\"url(#clip190)\" d=\"M 0 0 M5558.89 115.791 L5558.89 143.661 Q5546.25 136.694 5533.45 133.291 Q5520.82 129.726 5507.85 129.726 Q5478.85 129.726 5462.81 148.198 Q5446.76 166.508 5446.76 199.726 Q5446.76 232.943 5462.81 251.415 Q5478.85 269.725 5507.85 269.725 Q5520.82 269.725 5533.45 266.323 Q5546.25 262.758 5558.89 255.79 L5558.89 283.336 Q5546.42 289.17 5532.97 292.086 Q5519.68 295.003 5504.61 295.003 Q5463.62 295.003 5439.47 269.239 Q5415.33 243.476 5415.33 199.726 Q5415.33 155.328 5439.64 129.888 Q5464.1 104.449 5506.56 104.449 Q5520.33 104.449 5533.45 107.365 Q5546.58 110.12 5558.89 115.791 Z\" fill=\"#000000\" fill-rule=\"evenodd\" fill-opacity=\"1\" /><path clip-path=\"url(#clip190)\" d=\"M 0 0 M5745.4 192.11 L5745.4 206.693 L5608.31 206.693 Q5610.26 237.48 5626.79 253.684 Q5643.48 269.725 5673.13 269.725 Q5690.31 269.725 5706.35 265.512 Q5722.55 261.3 5738.43 252.874 L5738.43 281.068 Q5722.39 287.873 5705.54 291.438 Q5688.68 295.003 5671.35 295.003 Q5627.92 295.003 5602.48 269.725 Q5577.2 244.448 5577.2 201.346 Q5577.2 156.786 5601.19 130.698 Q5625.33 104.449 5666.16 104.449 Q5702.78 104.449 5724.01 128.106 Q5745.4 151.601 5745.4 192.11 M5715.58 183.36 Q5715.26 158.893 5701.81 144.309 Q5688.52 129.726 5666.49 129.726 Q5641.53 129.726 5626.46 143.823 Q5611.56 157.92 5609.29 183.522 L5715.58 183.36 Z\" fill=\"#000000\" fill-rule=\"evenodd\" fill-opacity=\"1\" /><path clip-path=\"url(#clip190)\" d=\"M 0 0 M5917.97 143.661 Q5929.15 123.569 5944.7 114.009 Q5960.26 104.449 5981.32 104.449 Q6009.68 104.449 6025.07 124.379 Q6040.47 144.147 6040.47 180.768 L6040.47 290.304 L6010.49 290.304 L6010.49 181.74 Q6010.49 155.652 6001.25 143.013 Q5992.02 130.374 5973.06 130.374 Q5949.89 130.374 5936.44 145.768 Q5922.99 161.161 5922.99 187.735 L5922.99 290.304 L5893.01 290.304 L5893.01 181.74 Q5893.01 155.49 5883.78 143.013 Q5874.54 130.374 5855.26 130.374 Q5832.41 130.374 5818.96 145.93 Q5805.51 161.323 5805.51 187.735 L5805.51 290.304 L5775.54 290.304 L5775.54 108.823 L5805.51 108.823 L5805.51 137.018 Q5815.72 120.328 5829.98 112.388 Q5844.24 104.449 5863.85 104.449 Q5883.61 104.449 5897.39 114.495 Q5911.32 124.541 5917.97 143.661 Z\" fill=\"#000000\" fill-rule=\"evenodd\" fill-opacity=\"1\" /><path clip-path=\"url(#clip190)\" d=\"M 0 0 M6226.97 192.11 L6226.97 206.693 L6089.89 206.693 Q6091.83 237.48 6108.36 253.684 Q6125.05 269.725 6154.7 269.725 Q6171.88 269.725 6187.92 265.512 Q6204.12 261.3 6220 252.874 L6220 281.068 Q6203.96 287.873 6187.11 291.438 Q6170.26 295.003 6152.92 295.003 Q6109.49 295.003 6084.05 269.725 Q6058.78 244.448 6058.78 201.346 Q6058.78 156.786 6082.76 130.698 Q6106.9 104.449 6147.73 104.449 Q6184.35 104.449 6205.58 128.106 Q6226.97 151.601 6226.97 192.11 M6197.15 183.36 Q6196.83 158.893 6183.38 144.309 Q6170.09 129.726 6148.06 129.726 Q6123.1 129.726 6108.03 143.823 Q6093.13 157.92 6090.86 183.522 L6197.15 183.36 Z\" fill=\"#000000\" fill-rule=\"evenodd\" fill-opacity=\"1\" /><path clip-path=\"url(#clip190)\" d=\"M 0 0 M6409.1 180.768 L6409.1 290.304 L6379.28 290.304 L6379.28 181.74 Q6379.28 155.976 6369.24 143.175 Q6359.19 130.374 6339.1 130.374 Q6314.95 130.374 6301.02 145.768 Q6287.08 161.161 6287.08 187.735 L6287.08 290.304 L6257.11 290.304 L6257.11 108.823 L6287.08 108.823 L6287.08 137.018 Q6297.78 120.652 6312.2 112.55 Q6326.78 104.449 6345.74 104.449 Q6377.01 104.449 6393.06 123.893 Q6409.1 143.175 6409.1 180.768 Z\" fill=\"#000000\" fill-rule=\"evenodd\" fill-opacity=\"1\" /><path clip-path=\"url(#clip190)\" d=\"M 0 0 M6469.86 57.296 L6469.86 108.823 L6531.27 108.823 L6531.27 131.995 L6469.86 131.995 L6469.86 230.513 Q6469.86 252.712 6475.86 259.031 Q6482.01 265.35 6500.65 265.35 L6531.27 265.35 L6531.27 290.304 L6500.65 290.304 Q6466.13 290.304 6453.01 277.503 Q6439.88 264.54 6439.88 230.513 L6439.88 131.995 L6418.01 131.995 L6418.01 108.823 L6439.88 108.823 L6439.88 57.296 L6469.86 57.296 Z\" fill=\"#000000\" fill-rule=\"evenodd\" fill-opacity=\"1\" /><polyline clip-path=\"url(#clip192)\" style=\"stroke:#009af9; stroke-width:32; stroke-opacity:1; fill:none\" points=\"\n",
       "  665.679,5857.76 2940.4,3136.5 3209.27,2834.14 3531.16,2531.78 3897.87,2229.42 4329.1,1927.06 4894.29,1624.69 5691.59,1322.33 6696.17,1019.97 7856.11,717.606 \n",
       "  9156.3,415.244 \n",
       "  \"/>\n",
       "<circle clip-path=\"url(#clip192)\" cx=\"665.679\" cy=\"5857.76\" r=\"57\" fill=\"#009af9\" fill-rule=\"evenodd\" fill-opacity=\"1\" stroke=\"#000000\" stroke-opacity=\"1\" stroke-width=\"12.8\"/>\n",
       "<circle clip-path=\"url(#clip192)\" cx=\"2940.4\" cy=\"3136.5\" r=\"57\" fill=\"#009af9\" fill-rule=\"evenodd\" fill-opacity=\"1\" stroke=\"#000000\" stroke-opacity=\"1\" stroke-width=\"12.8\"/>\n",
       "<circle clip-path=\"url(#clip192)\" cx=\"3209.27\" cy=\"2834.14\" r=\"57\" fill=\"#009af9\" fill-rule=\"evenodd\" fill-opacity=\"1\" stroke=\"#000000\" stroke-opacity=\"1\" stroke-width=\"12.8\"/>\n",
       "<circle clip-path=\"url(#clip192)\" cx=\"3531.16\" cy=\"2531.78\" r=\"57\" fill=\"#009af9\" fill-rule=\"evenodd\" fill-opacity=\"1\" stroke=\"#000000\" stroke-opacity=\"1\" stroke-width=\"12.8\"/>\n",
       "<circle clip-path=\"url(#clip192)\" cx=\"3897.87\" cy=\"2229.42\" r=\"57\" fill=\"#009af9\" fill-rule=\"evenodd\" fill-opacity=\"1\" stroke=\"#000000\" stroke-opacity=\"1\" stroke-width=\"12.8\"/>\n",
       "<circle clip-path=\"url(#clip192)\" cx=\"4329.1\" cy=\"1927.06\" r=\"57\" fill=\"#009af9\" fill-rule=\"evenodd\" fill-opacity=\"1\" stroke=\"#000000\" stroke-opacity=\"1\" stroke-width=\"12.8\"/>\n",
       "<circle clip-path=\"url(#clip192)\" cx=\"4894.29\" cy=\"1624.69\" r=\"57\" fill=\"#009af9\" fill-rule=\"evenodd\" fill-opacity=\"1\" stroke=\"#000000\" stroke-opacity=\"1\" stroke-width=\"12.8\"/>\n",
       "<circle clip-path=\"url(#clip192)\" cx=\"5691.59\" cy=\"1322.33\" r=\"57\" fill=\"#009af9\" fill-rule=\"evenodd\" fill-opacity=\"1\" stroke=\"#000000\" stroke-opacity=\"1\" stroke-width=\"12.8\"/>\n",
       "<circle clip-path=\"url(#clip192)\" cx=\"6696.17\" cy=\"1019.97\" r=\"57\" fill=\"#009af9\" fill-rule=\"evenodd\" fill-opacity=\"1\" stroke=\"#000000\" stroke-opacity=\"1\" stroke-width=\"12.8\"/>\n",
       "<circle clip-path=\"url(#clip192)\" cx=\"7856.11\" cy=\"717.606\" r=\"57\" fill=\"#009af9\" fill-rule=\"evenodd\" fill-opacity=\"1\" stroke=\"#000000\" stroke-opacity=\"1\" stroke-width=\"12.8\"/>\n",
       "<circle clip-path=\"url(#clip192)\" cx=\"9156.3\" cy=\"415.244\" r=\"57\" fill=\"#009af9\" fill-rule=\"evenodd\" fill-opacity=\"1\" stroke=\"#000000\" stroke-opacity=\"1\" stroke-width=\"12.8\"/>\n",
       "<path clip-path=\"url(#clip190)\" d=\"\n",
       "M7876.11 928.111 L9111.02 928.111 L9111.02 444.271 L7876.11 444.271  Z\n",
       "  \" fill=\"#ffffff\" fill-rule=\"evenodd\" fill-opacity=\"1\"/>\n",
       "<polyline clip-path=\"url(#clip190)\" style=\"stroke:#000000; stroke-width:16; stroke-opacity:1; fill:none\" points=\"\n",
       "  7876.11,928.111 9111.02,928.111 9111.02,444.271 7876.11,444.271 7876.11,928.111 \n",
       "  \"/>\n",
       "<polyline clip-path=\"url(#clip190)\" style=\"stroke:#009af9; stroke-width:16; stroke-opacity:1; fill:none\" points=\"\n",
       "  7976.11,686.191 8576.11,686.191 \n",
       "  \"/>\n",
       "<circle clip-path=\"url(#clip190)\" cx=\"8276.11\" cy=\"686.191\" r=\"92\" fill=\"#009af9\" fill-rule=\"evenodd\" fill-opacity=\"1\" stroke=\"#000000\" stroke-opacity=\"1\" stroke-width=\"20.48\"/>\n",
       "<path clip-path=\"url(#clip190)\" d=\"M 0 0 M8676.11 611.238 L8715.37 611.238 L8715.37 624.478 L8693.15 624.478 L8693.15 767.07 L8715.37 767.07 L8715.37 780.311 L8676.11 780.311 L8676.11 611.238 Z\" fill=\"#000000\" fill-rule=\"evenodd\" fill-opacity=\"1\" /><path clip-path=\"url(#clip190)\" d=\"M 0 0 M8749.35 617.071 L8749.35 668.459 L8733.61 668.459 L8733.61 617.071 L8749.35 617.071 M8784.35 617.071 L8784.35 668.459 L8768.61 668.459 L8768.61 617.071 L8784.35 617.071 Z\" fill=\"#000000\" fill-rule=\"evenodd\" fill-opacity=\"1\" /><path clip-path=\"url(#clip190)\" d=\"M 0 0 M8818.34 617.071 L8818.34 668.459 L8802.59 668.459 L8802.59 617.071 L8818.34 617.071 M8853.34 617.071 L8853.34 668.459 L8837.59 668.459 L8837.59 617.071 L8853.34 617.071 Z\" fill=\"#000000\" fill-rule=\"evenodd\" fill-opacity=\"1\" /><path clip-path=\"url(#clip190)\" d=\"M 0 0 M8911.02 611.238 L8911.02 780.311 L8871.76 780.311 L8871.76 767.07 L8893.89 767.07 L8893.89 624.478 L8871.76 624.478 L8871.76 611.238 L8911.02 611.238 Z\" fill=\"#000000\" fill-rule=\"evenodd\" fill-opacity=\"1\" /></svg>\n"
      ],
      "image/svg+xml": [
       "<?xml version=\"1.0\" encoding=\"utf-8\"?>\n",
       "<svg xmlns=\"http://www.w3.org/2000/svg\" xmlns:xlink=\"http://www.w3.org/1999/xlink\" width=\"2400\" height=\"1600\" viewBox=\"0 0 9600 6400\">\n",
       "<defs>\n",
       "  <clipPath id=\"clip160\">\n",
       "    <rect x=\"0\" y=\"0\" width=\"9600\" height=\"6400\"/>\n",
       "  </clipPath>\n",
       "</defs>\n",
       "<path clip-path=\"url(#clip160)\" d=\"\n",
       "M0 6400 L9600 6400 L9600 0 L0 0  Z\n",
       "  \" fill=\"#ffffff\" fill-rule=\"evenodd\" fill-opacity=\"1\"/>\n",
       "<defs>\n",
       "  <clipPath id=\"clip161\">\n",
       "    <rect x=\"1920\" y=\"0\" width=\"6721\" height=\"6400\"/>\n",
       "  </clipPath>\n",
       "</defs>\n",
       "<path clip-path=\"url(#clip160)\" d=\"\n",
       "M4269.43 6021.04 L9411.02 6021.04 L9411.02 251.969 L4269.43 251.969  Z\n",
       "  \" fill=\"#ffffff\" fill-rule=\"evenodd\" fill-opacity=\"1\"/>\n",
       "<defs>\n",
       "  <clipPath id=\"clip162\">\n",
       "    <rect x=\"4269\" y=\"251\" width=\"5143\" height=\"5770\"/>\n",
       "  </clipPath>\n",
       "</defs>\n",
       "<polyline clip-path=\"url(#clip162)\" style=\"stroke:#000000; stroke-width:8; stroke-opacity:0.1; fill:none\" points=\"\n",
       "  4414.95,6021.04 4414.95,251.969 \n",
       "  \"/>\n",
       "<polyline clip-path=\"url(#clip162)\" style=\"stroke:#000000; stroke-width:8; stroke-opacity:0.1; fill:none\" points=\"\n",
       "  5368.08,6021.04 5368.08,251.969 \n",
       "  \"/>\n",
       "<polyline clip-path=\"url(#clip162)\" style=\"stroke:#000000; stroke-width:8; stroke-opacity:0.1; fill:none\" points=\"\n",
       "  6321.22,6021.04 6321.22,251.969 \n",
       "  \"/>\n",
       "<polyline clip-path=\"url(#clip162)\" style=\"stroke:#000000; stroke-width:8; stroke-opacity:0.1; fill:none\" points=\"\n",
       "  7274.35,6021.04 7274.35,251.969 \n",
       "  \"/>\n",
       "<polyline clip-path=\"url(#clip162)\" style=\"stroke:#000000; stroke-width:8; stroke-opacity:0.1; fill:none\" points=\"\n",
       "  8227.49,6021.04 8227.49,251.969 \n",
       "  \"/>\n",
       "<polyline clip-path=\"url(#clip162)\" style=\"stroke:#000000; stroke-width:8; stroke-opacity:0.1; fill:none\" points=\"\n",
       "  9180.63,6021.04 9180.63,251.969 \n",
       "  \"/>\n",
       "<polyline clip-path=\"url(#clip160)\" style=\"stroke:#000000; stroke-width:16; stroke-opacity:1; fill:none\" points=\"\n",
       "  4269.43,6021.04 9411.02,6021.04 \n",
       "  \"/>\n",
       "<polyline clip-path=\"url(#clip160)\" style=\"stroke:#000000; stroke-width:16; stroke-opacity:1; fill:none\" points=\"\n",
       "  4414.95,6021.04 4414.95,5951.81 \n",
       "  \"/>\n",
       "<polyline clip-path=\"url(#clip160)\" style=\"stroke:#000000; stroke-width:16; stroke-opacity:1; fill:none\" points=\"\n",
       "  5368.08,6021.04 5368.08,5951.81 \n",
       "  \"/>\n",
       "<polyline clip-path=\"url(#clip160)\" style=\"stroke:#000000; stroke-width:16; stroke-opacity:1; fill:none\" points=\"\n",
       "  6321.22,6021.04 6321.22,5951.81 \n",
       "  \"/>\n",
       "<polyline clip-path=\"url(#clip160)\" style=\"stroke:#000000; stroke-width:16; stroke-opacity:1; fill:none\" points=\"\n",
       "  7274.35,6021.04 7274.35,5951.81 \n",
       "  \"/>\n",
       "<polyline clip-path=\"url(#clip160)\" style=\"stroke:#000000; stroke-width:16; stroke-opacity:1; fill:none\" points=\"\n",
       "  8227.49,6021.04 8227.49,5951.81 \n",
       "  \"/>\n",
       "<polyline clip-path=\"url(#clip160)\" style=\"stroke:#000000; stroke-width:16; stroke-opacity:1; fill:none\" points=\"\n",
       "  9180.63,6021.04 9180.63,5951.81 \n",
       "  \"/>\n",
       "<path clip-path=\"url(#clip160)\" d=\"M 0 0 M4286.98 6137.8 Q4272.54 6137.8 4265.22 6152.06 Q4258 6166.23 4258 6194.75 Q4258 6223.17 4265.22 6237.43 Q4272.54 6251.6 4286.98 6251.6 Q4301.52 6251.6 4308.74 6237.43 Q4316.06 6223.17 4316.06 6194.75 Q4316.06 6166.23 4308.74 6152.06 Q4301.52 6137.8 4286.98 6137.8 M4286.98 6122.99 Q4310.22 6122.99 4322.45 6141.41 Q4334.76 6159.75 4334.76 6194.75 Q4334.76 6229.65 4322.45 6248.08 Q4310.22 6266.41 4286.98 6266.41 Q4263.74 6266.41 4251.43 6248.08 Q4239.21 6229.65 4239.21 6194.75 Q4239.21 6159.75 4251.43 6141.41 Q4263.74 6122.99 4286.98 6122.99 Z\" fill=\"#000000\" fill-rule=\"evenodd\" fill-opacity=\"1\" /><path clip-path=\"url(#clip160)\" d=\"M 0 0 M4355.04 6240.21 L4374.58 6240.21 L4374.58 6263.73 L4355.04 6263.73 L4355.04 6240.21 Z\" fill=\"#000000\" fill-rule=\"evenodd\" fill-opacity=\"1\" /><path clip-path=\"url(#clip160)\" d=\"M 0 0 M4434.85 6137.8 Q4420.41 6137.8 4413.09 6152.06 Q4405.87 6166.23 4405.87 6194.75 Q4405.87 6223.17 4413.09 6237.43 Q4420.41 6251.6 4434.85 6251.6 Q4449.39 6251.6 4456.61 6237.43 Q4463.93 6223.17 4463.93 6194.75 Q4463.93 6166.23 4456.61 6152.06 Q4449.39 6137.8 4434.85 6137.8 M4434.85 6122.99 Q4458.09 6122.99 4470.32 6141.41 Q4482.63 6159.75 4482.63 6194.75 Q4482.63 6229.65 4470.32 6248.08 Q4458.09 6266.41 4434.85 6266.41 Q4411.61 6266.41 4399.3 6248.08 Q4387.08 6229.65 4387.08 6194.75 Q4387.08 6159.75 4399.3 6141.41 Q4411.61 6122.99 4434.85 6122.99 Z\" fill=\"#000000\" fill-rule=\"evenodd\" fill-opacity=\"1\" /><path clip-path=\"url(#clip160)\" d=\"M 0 0 M4542.91 6137.8 Q4528.46 6137.8 4521.15 6152.06 Q4513.93 6166.23 4513.93 6194.75 Q4513.93 6223.17 4521.15 6237.43 Q4528.46 6251.6 4542.91 6251.6 Q4557.45 6251.6 4564.67 6237.43 Q4571.98 6223.17 4571.98 6194.75 Q4571.98 6166.23 4564.67 6152.06 Q4557.45 6137.8 4542.91 6137.8 M4542.91 6122.99 Q4566.15 6122.99 4578.37 6141.41 Q4590.69 6159.75 4590.69 6194.75 Q4590.69 6229.65 4578.37 6248.08 Q4566.15 6266.41 4542.91 6266.41 Q4519.67 6266.41 4507.35 6248.08 Q4495.13 6229.65 4495.13 6194.75 Q4495.13 6159.75 4507.35 6141.41 Q4519.67 6122.99 4542.91 6122.99 Z\" fill=\"#000000\" fill-rule=\"evenodd\" fill-opacity=\"1\" /><path clip-path=\"url(#clip160)\" d=\"M 0 0 M5242.11 6137.8 Q5227.67 6137.8 5220.35 6152.06 Q5213.13 6166.23 5213.13 6194.75 Q5213.13 6223.17 5220.35 6237.43 Q5227.67 6251.6 5242.11 6251.6 Q5256.65 6251.6 5263.87 6237.43 Q5271.18 6223.17 5271.18 6194.75 Q5271.18 6166.23 5263.87 6152.06 Q5256.65 6137.8 5242.11 6137.8 M5242.11 6122.99 Q5265.35 6122.99 5277.57 6141.41 Q5289.89 6159.75 5289.89 6194.75 Q5289.89 6229.65 5277.57 6248.08 Q5265.35 6266.41 5242.11 6266.41 Q5218.87 6266.41 5206.56 6248.08 Q5194.33 6229.65 5194.33 6194.75 Q5194.33 6159.75 5206.56 6141.41 Q5218.87 6122.99 5242.11 6122.99 Z\" fill=\"#000000\" fill-rule=\"evenodd\" fill-opacity=\"1\" /><path clip-path=\"url(#clip160)\" d=\"M 0 0 M5310.17 6240.21 L5329.7 6240.21 L5329.7 6263.73 L5310.17 6263.73 L5310.17 6240.21 Z\" fill=\"#000000\" fill-rule=\"evenodd\" fill-opacity=\"1\" /><path clip-path=\"url(#clip160)\" d=\"M 0 0 M5389.98 6137.8 Q5375.54 6137.8 5368.22 6152.06 Q5361 6166.23 5361 6194.75 Q5361 6223.17 5368.22 6237.43 Q5375.54 6251.6 5389.98 6251.6 Q5404.52 6251.6 5411.74 6237.43 Q5419.05 6223.17 5419.05 6194.75 Q5419.05 6166.23 5411.74 6152.06 Q5404.52 6137.8 5389.98 6137.8 M5389.98 6122.99 Q5413.22 6122.99 5425.44 6141.41 Q5437.76 6159.75 5437.76 6194.75 Q5437.76 6229.65 5425.44 6248.08 Q5413.22 6266.41 5389.98 6266.41 Q5366.74 6266.41 5354.42 6248.08 Q5342.2 6229.65 5342.2 6194.75 Q5342.2 6159.75 5354.42 6141.41 Q5366.74 6122.99 5389.98 6122.99 Z\" fill=\"#000000\" fill-rule=\"evenodd\" fill-opacity=\"1\" /><path clip-path=\"url(#clip160)\" d=\"M 0 0 M5458.22 6125.49 L5531.65 6125.49 L5531.65 6141.23 L5475.35 6141.23 L5475.35 6175.12 Q5479.42 6173.73 5483.5 6173.08 Q5487.57 6172.34 5491.65 6172.34 Q5514.79 6172.34 5528.31 6185.02 Q5541.83 6197.71 5541.83 6219.38 Q5541.83 6241.69 5527.94 6254.1 Q5514.05 6266.41 5488.78 6266.41 Q5480.07 6266.41 5471 6264.93 Q5462.02 6263.45 5452.39 6260.49 L5452.39 6241.69 Q5460.72 6246.23 5469.61 6248.45 Q5478.5 6250.67 5488.41 6250.67 Q5504.42 6250.67 5513.78 6242.25 Q5523.13 6233.82 5523.13 6219.38 Q5523.13 6204.93 5513.78 6196.51 Q5504.42 6188.08 5488.41 6188.08 Q5480.91 6188.08 5473.41 6189.75 Q5466 6191.41 5458.22 6194.93 L5458.22 6125.49 Z\" fill=\"#000000\" fill-rule=\"evenodd\" fill-opacity=\"1\" /><path clip-path=\"url(#clip160)\" d=\"M 0 0 M6195.71 6137.8 Q6181.27 6137.8 6173.95 6152.06 Q6166.73 6166.23 6166.73 6194.75 Q6166.73 6223.17 6173.95 6237.43 Q6181.27 6251.6 6195.71 6251.6 Q6210.25 6251.6 6217.47 6237.43 Q6224.78 6223.17 6224.78 6194.75 Q6224.78 6166.23 6217.47 6152.06 Q6210.25 6137.8 6195.71 6137.8 M6195.71 6122.99 Q6218.95 6122.99 6231.17 6141.41 Q6243.49 6159.75 6243.49 6194.75 Q6243.49 6229.65 6231.17 6248.08 Q6218.95 6266.41 6195.71 6266.41 Q6172.47 6266.41 6160.15 6248.08 Q6147.93 6229.65 6147.93 6194.75 Q6147.93 6159.75 6160.15 6141.41 Q6172.47 6122.99 6195.71 6122.99 Z\" fill=\"#000000\" fill-rule=\"evenodd\" fill-opacity=\"1\" /><path clip-path=\"url(#clip160)\" d=\"M 0 0 M6263.76 6240.21 L6283.3 6240.21 L6283.3 6263.73 L6263.76 6263.73 L6263.76 6240.21 Z\" fill=\"#000000\" fill-rule=\"evenodd\" fill-opacity=\"1\" /><path clip-path=\"url(#clip160)\" d=\"M 0 0 M6306.82 6247.99 L6337.38 6247.99 L6337.38 6142.52 L6304.14 6149.19 L6304.14 6132.15 L6337.19 6125.49 L6355.89 6125.49 L6355.89 6247.99 L6386.45 6247.99 L6386.45 6263.73 L6306.82 6263.73 L6306.82 6247.99 Z\" fill=\"#000000\" fill-rule=\"evenodd\" fill-opacity=\"1\" /><path clip-path=\"url(#clip160)\" d=\"M 0 0 M6446.73 6137.8 Q6432.28 6137.8 6424.97 6152.06 Q6417.75 6166.23 6417.75 6194.75 Q6417.75 6223.17 6424.97 6237.43 Q6432.28 6251.6 6446.73 6251.6 Q6461.26 6251.6 6468.49 6237.43 Q6475.8 6223.17 6475.8 6194.75 Q6475.8 6166.23 6468.49 6152.06 Q6461.26 6137.8 6446.73 6137.8 M6446.73 6122.99 Q6469.97 6122.99 6482.19 6141.41 Q6494.5 6159.75 6494.5 6194.75 Q6494.5 6229.65 6482.19 6248.08 Q6469.97 6266.41 6446.73 6266.41 Q6423.49 6266.41 6411.17 6248.08 Q6398.95 6229.65 6398.95 6194.75 Q6398.95 6159.75 6411.17 6141.41 Q6423.49 6122.99 6446.73 6122.99 Z\" fill=\"#000000\" fill-rule=\"evenodd\" fill-opacity=\"1\" /><path clip-path=\"url(#clip160)\" d=\"M 0 0 M7150.84 6137.8 Q7136.39 6137.8 7129.08 6152.06 Q7121.86 6166.23 7121.86 6194.75 Q7121.86 6223.17 7129.08 6237.43 Q7136.39 6251.6 7150.84 6251.6 Q7165.37 6251.6 7172.6 6237.43 Q7179.91 6223.17 7179.91 6194.75 Q7179.91 6166.23 7172.6 6152.06 Q7165.37 6137.8 7150.84 6137.8 M7150.84 6122.99 Q7174.08 6122.99 7186.3 6141.41 Q7198.61 6159.75 7198.61 6194.75 Q7198.61 6229.65 7186.3 6248.08 Q7174.08 6266.41 7150.84 6266.41 Q7127.6 6266.41 7115.28 6248.08 Q7103.06 6229.65 7103.06 6194.75 Q7103.06 6159.75 7115.28 6141.41 Q7127.6 6122.99 7150.84 6122.99 Z\" fill=\"#000000\" fill-rule=\"evenodd\" fill-opacity=\"1\" /><path clip-path=\"url(#clip160)\" d=\"M 0 0 M7218.89 6240.21 L7238.43 6240.21 L7238.43 6263.73 L7218.89 6263.73 L7218.89 6240.21 Z\" fill=\"#000000\" fill-rule=\"evenodd\" fill-opacity=\"1\" /><path clip-path=\"url(#clip160)\" d=\"M 0 0 M7261.95 6247.99 L7292.5 6247.99 L7292.5 6142.52 L7259.26 6149.19 L7259.26 6132.15 L7292.32 6125.49 L7311.02 6125.49 L7311.02 6247.99 L7341.58 6247.99 L7341.58 6263.73 L7261.95 6263.73 L7261.95 6247.99 Z\" fill=\"#000000\" fill-rule=\"evenodd\" fill-opacity=\"1\" /><path clip-path=\"url(#clip160)\" d=\"M 0 0 M7362.04 6125.49 L7435.46 6125.49 L7435.46 6141.23 L7379.17 6141.23 L7379.17 6175.12 Q7383.24 6173.73 7387.32 6173.08 Q7391.39 6172.34 7395.47 6172.34 Q7418.61 6172.34 7432.13 6185.02 Q7445.65 6197.71 7445.65 6219.38 Q7445.65 6241.69 7431.76 6254.1 Q7417.87 6266.41 7392.59 6266.41 Q7383.89 6266.41 7374.82 6264.93 Q7365.84 6263.45 7356.21 6260.49 L7356.21 6241.69 Q7364.54 6246.23 7373.43 6248.45 Q7382.32 6250.67 7392.22 6250.67 Q7408.24 6250.67 7417.59 6242.25 Q7426.95 6233.82 7426.95 6219.38 Q7426.95 6204.93 7417.59 6196.51 Q7408.24 6188.08 7392.22 6188.08 Q7384.72 6188.08 7377.22 6189.75 Q7369.82 6191.41 7362.04 6194.93 L7362.04 6125.49 Z\" fill=\"#000000\" fill-rule=\"evenodd\" fill-opacity=\"1\" /><path clip-path=\"url(#clip160)\" d=\"M 0 0 M8102.72 6137.8 Q8088.28 6137.8 8080.96 6152.06 Q8073.74 6166.23 8073.74 6194.75 Q8073.74 6223.17 8080.96 6237.43 Q8088.28 6251.6 8102.72 6251.6 Q8117.26 6251.6 8124.48 6237.43 Q8131.8 6223.17 8131.8 6194.75 Q8131.8 6166.23 8124.48 6152.06 Q8117.26 6137.8 8102.72 6137.8 M8102.72 6122.99 Q8125.96 6122.99 8138.19 6141.41 Q8150.5 6159.75 8150.5 6194.75 Q8150.5 6229.65 8138.19 6248.08 Q8125.96 6266.41 8102.72 6266.41 Q8079.48 6266.41 8067.17 6248.08 Q8054.95 6229.65 8054.95 6194.75 Q8054.95 6159.75 8067.17 6141.41 Q8079.48 6122.99 8102.72 6122.99 Z\" fill=\"#000000\" fill-rule=\"evenodd\" fill-opacity=\"1\" /><path clip-path=\"url(#clip160)\" d=\"M 0 0 M8170.78 6240.21 L8190.32 6240.21 L8190.32 6263.73 L8170.78 6263.73 L8170.78 6240.21 Z\" fill=\"#000000\" fill-rule=\"evenodd\" fill-opacity=\"1\" /><path clip-path=\"url(#clip160)\" d=\"M 0 0 M8226.7 6247.99 L8291.98 6247.99 L8291.98 6263.73 L8204.2 6263.73 L8204.2 6247.99 Q8214.85 6236.97 8233.19 6218.45 Q8251.61 6199.84 8256.33 6194.47 Q8265.31 6184.38 8268.83 6177.43 Q8272.44 6170.39 8272.44 6163.64 Q8272.44 6152.62 8264.67 6145.67 Q8256.98 6138.73 8244.57 6138.73 Q8235.78 6138.73 8225.96 6141.78 Q8216.24 6144.84 8205.13 6151.04 L8205.13 6132.15 Q8216.43 6127.62 8226.24 6125.3 Q8236.06 6122.99 8244.2 6122.99 Q8265.69 6122.99 8278.46 6133.73 Q8291.24 6144.47 8291.24 6162.43 Q8291.24 6170.95 8288 6178.64 Q8284.85 6186.23 8276.43 6196.6 Q8274.11 6199.28 8261.7 6212.15 Q8249.3 6224.93 8226.7 6247.99 Z\" fill=\"#000000\" fill-rule=\"evenodd\" fill-opacity=\"1\" /><path clip-path=\"url(#clip160)\" d=\"M 0 0 M8352.26 6137.8 Q8337.81 6137.8 8330.5 6152.06 Q8323.28 6166.23 8323.28 6194.75 Q8323.28 6223.17 8330.5 6237.43 Q8337.81 6251.6 8352.26 6251.6 Q8366.8 6251.6 8374.02 6237.43 Q8381.33 6223.17 8381.33 6194.75 Q8381.33 6166.23 8374.02 6152.06 Q8366.8 6137.8 8352.26 6137.8 M8352.26 6122.99 Q8375.5 6122.99 8387.72 6141.41 Q8400.04 6159.75 8400.04 6194.75 Q8400.04 6229.65 8387.72 6248.08 Q8375.5 6266.41 8352.26 6266.41 Q8329.02 6266.41 8316.7 6248.08 Q8304.48 6229.65 8304.48 6194.75 Q8304.48 6159.75 8316.7 6141.41 Q8329.02 6122.99 8352.26 6122.99 Z\" fill=\"#000000\" fill-rule=\"evenodd\" fill-opacity=\"1\" /><path clip-path=\"url(#clip160)\" d=\"M 0 0 M9057.85 6137.8 Q9043.41 6137.8 9036.09 6152.06 Q9028.87 6166.23 9028.87 6194.75 Q9028.87 6223.17 9036.09 6237.43 Q9043.41 6251.6 9057.85 6251.6 Q9072.39 6251.6 9079.61 6237.43 Q9086.92 6223.17 9086.92 6194.75 Q9086.92 6166.23 9079.61 6152.06 Q9072.39 6137.8 9057.85 6137.8 M9057.85 6122.99 Q9081.09 6122.99 9093.31 6141.41 Q9105.63 6159.75 9105.63 6194.75 Q9105.63 6229.65 9093.31 6248.08 Q9081.09 6266.41 9057.85 6266.41 Q9034.61 6266.41 9022.29 6248.08 Q9010.07 6229.65 9010.07 6194.75 Q9010.07 6159.75 9022.29 6141.41 Q9034.61 6122.99 9057.85 6122.99 Z\" fill=\"#000000\" fill-rule=\"evenodd\" fill-opacity=\"1\" /><path clip-path=\"url(#clip160)\" d=\"M 0 0 M9125.91 6240.21 L9145.44 6240.21 L9145.44 6263.73 L9125.91 6263.73 L9125.91 6240.21 Z\" fill=\"#000000\" fill-rule=\"evenodd\" fill-opacity=\"1\" /><path clip-path=\"url(#clip160)\" d=\"M 0 0 M9181.83 6247.99 L9247.11 6247.99 L9247.11 6263.73 L9159.33 6263.73 L9159.33 6247.99 Q9169.98 6236.97 9188.31 6218.45 Q9206.74 6199.84 9211.46 6194.47 Q9220.44 6184.38 9223.96 6177.43 Q9227.57 6170.39 9227.57 6163.64 Q9227.57 6152.62 9219.79 6145.67 Q9212.11 6138.73 9199.7 6138.73 Q9190.9 6138.73 9181.09 6141.78 Q9171.37 6144.84 9160.26 6151.04 L9160.26 6132.15 Q9171.55 6127.62 9181.37 6125.3 Q9191.18 6122.99 9199.33 6122.99 Q9220.81 6122.99 9233.59 6133.73 Q9246.37 6144.47 9246.37 6162.43 Q9246.37 6170.95 9243.13 6178.64 Q9239.98 6186.23 9231.55 6196.6 Q9229.24 6199.28 9216.83 6212.15 Q9204.42 6224.93 9181.83 6247.99 Z\" fill=\"#000000\" fill-rule=\"evenodd\" fill-opacity=\"1\" /><path clip-path=\"url(#clip160)\" d=\"M 0 0 M9267.57 6125.49 L9341 6125.49 L9341 6141.23 L9284.7 6141.23 L9284.7 6175.12 Q9288.77 6173.73 9292.85 6173.08 Q9296.92 6172.34 9301 6172.34 Q9324.14 6172.34 9337.66 6185.02 Q9351.18 6197.71 9351.18 6219.38 Q9351.18 6241.69 9337.29 6254.1 Q9323.4 6266.41 9298.13 6266.41 Q9289.42 6266.41 9280.35 6264.93 Q9271.37 6263.45 9261.74 6260.49 L9261.74 6241.69 Q9270.07 6246.23 9278.96 6248.45 Q9287.85 6250.67 9297.76 6250.67 Q9313.77 6250.67 9323.13 6242.25 Q9332.48 6233.82 9332.48 6219.38 Q9332.48 6204.93 9323.13 6196.51 Q9313.77 6188.08 9297.76 6188.08 Q9290.26 6188.08 9282.76 6189.75 Q9275.35 6191.41 9267.57 6194.93 L9267.57 6125.49 Z\" fill=\"#000000\" fill-rule=\"evenodd\" fill-opacity=\"1\" /><path clip-path=\"url(#clip160)\" d=\"M 0 0 M5439.45 6362.42 L5477.77 6362.42 L5526.28 6491.77 L5575.04 6362.42 L5613.36 6362.42 L5613.36 6552.5 L5588.28 6552.5 L5588.28 6385.59 L5539.27 6515.96 L5513.42 6515.96 L5464.41 6385.59 L5464.41 6552.5 L5439.45 6552.5 L5439.45 6362.42 Z\" fill=\"#000000\" fill-rule=\"evenodd\" fill-opacity=\"1\" /><path clip-path=\"url(#clip160)\" d=\"M 0 0 M5702.74 6480.82 Q5674.35 6480.82 5663.4 6487.31 Q5652.45 6493.8 5652.45 6509.46 Q5652.45 6521.94 5660.6 6529.32 Q5668.87 6536.58 5683 6536.58 Q5702.48 6536.58 5714.2 6522.83 Q5726.04 6508.95 5726.04 6486.04 L5726.04 6480.82 L5702.74 6480.82 M5749.46 6471.14 L5749.46 6552.5 L5726.04 6552.5 L5726.04 6530.85 Q5718.02 6543.84 5706.05 6550.08 Q5694.08 6556.19 5676.77 6556.19 Q5654.87 6556.19 5641.88 6543.97 Q5629.02 6531.62 5629.02 6510.99 Q5629.02 6486.93 5645.06 6474.71 Q5661.23 6462.48 5693.19 6462.48 L5726.04 6462.48 L5726.04 6460.19 Q5726.04 6444.02 5715.34 6435.24 Q5704.78 6426.33 5685.55 6426.33 Q5673.33 6426.33 5661.74 6429.26 Q5650.16 6432.18 5639.46 6438.04 L5639.46 6416.4 Q5652.32 6411.43 5664.42 6409.01 Q5676.51 6406.47 5687.97 6406.47 Q5718.91 6406.47 5734.18 6422.51 Q5749.46 6438.55 5749.46 6471.14 Z\" fill=\"#000000\" fill-rule=\"evenodd\" fill-opacity=\"1\" /><path clip-path=\"url(#clip160)\" d=\"M 0 0 M5892.56 6409.9 L5841 6479.29 L5895.24 6552.5 L5867.61 6552.5 L5826.11 6496.48 L5784.6 6552.5 L5756.97 6552.5 L5812.36 6477.89 L5761.68 6409.9 L5789.31 6409.9 L5827.12 6460.7 L5864.94 6409.9 L5892.56 6409.9 Z\" fill=\"#000000\" fill-rule=\"evenodd\" fill-opacity=\"1\" /><path clip-path=\"url(#clip160)\" d=\"M 0 0 M5919.81 6409.9 L5943.23 6409.9 L5943.23 6552.5 L5919.81 6552.5 L5919.81 6409.9 M5919.81 6354.39 L5943.23 6354.39 L5943.23 6384.06 L5919.81 6384.06 L5919.81 6354.39 Z\" fill=\"#000000\" fill-rule=\"evenodd\" fill-opacity=\"1\" /><path clip-path=\"url(#clip160)\" d=\"M 0 0 M6078.82 6437.28 Q6087.61 6421.49 6099.83 6413.98 Q6112.05 6406.47 6128.6 6406.47 Q6150.88 6406.47 6162.98 6422.13 Q6175.07 6437.66 6175.07 6466.43 L6175.07 6552.5 L6151.52 6552.5 L6151.52 6467.19 Q6151.52 6446.7 6144.26 6436.77 Q6137.01 6426.84 6122.11 6426.84 Q6103.91 6426.84 6093.34 6438.93 Q6082.77 6451.03 6082.77 6471.91 L6082.77 6552.5 L6059.22 6552.5 L6059.22 6467.19 Q6059.22 6446.57 6051.96 6436.77 Q6044.7 6426.84 6029.55 6426.84 Q6011.6 6426.84 6001.04 6439.06 Q5990.47 6451.15 5990.47 6471.91 L5990.47 6552.5 L5966.92 6552.5 L5966.92 6409.9 L5990.47 6409.9 L5990.47 6432.06 Q5998.49 6418.94 6009.69 6412.7 Q6020.9 6406.47 6036.3 6406.47 Q6051.83 6406.47 6062.66 6414.36 Q6073.6 6422.25 6078.82 6437.28 Z\" fill=\"#000000\" fill-rule=\"evenodd\" fill-opacity=\"1\" /><path clip-path=\"url(#clip160)\" d=\"M 0 0 M6197.23 6496.22 L6197.23 6409.9 L6220.65 6409.9 L6220.65 6495.33 Q6220.65 6515.57 6228.55 6525.76 Q6236.44 6535.82 6252.23 6535.82 Q6271.2 6535.82 6282.14 6523.72 Q6293.22 6511.63 6293.22 6490.75 L6293.22 6409.9 L6316.65 6409.9 L6316.65 6552.5 L6293.22 6552.5 L6293.22 6530.6 Q6284.69 6543.58 6273.36 6549.95 Q6262.16 6556.19 6247.26 6556.19 Q6222.69 6556.19 6209.96 6540.91 Q6197.23 6525.63 6197.23 6496.22 M6256.17 6406.47 L6256.17 6406.47 Z\" fill=\"#000000\" fill-rule=\"evenodd\" fill-opacity=\"1\" /><path clip-path=\"url(#clip160)\" d=\"M 0 0 M6452.24 6437.28 Q6461.02 6421.49 6473.24 6413.98 Q6485.47 6406.47 6502.02 6406.47 Q6524.3 6406.47 6536.39 6422.13 Q6548.49 6437.66 6548.49 6466.43 L6548.49 6552.5 L6524.93 6552.5 L6524.93 6467.19 Q6524.93 6446.7 6517.68 6436.77 Q6510.42 6426.84 6495.52 6426.84 Q6477.32 6426.84 6466.75 6438.93 Q6456.18 6451.03 6456.18 6471.91 L6456.18 6552.5 L6432.63 6552.5 L6432.63 6467.19 Q6432.63 6446.57 6425.37 6436.77 Q6418.12 6426.84 6402.97 6426.84 Q6385.01 6426.84 6374.45 6439.06 Q6363.88 6451.15 6363.88 6471.91 L6363.88 6552.5 L6340.33 6552.5 L6340.33 6409.9 L6363.88 6409.9 L6363.88 6432.06 Q6371.9 6418.94 6383.1 6412.7 Q6394.31 6406.47 6409.71 6406.47 Q6425.25 6406.47 6436.07 6414.36 Q6447.02 6422.25 6452.24 6437.28 Z\" fill=\"#000000\" fill-rule=\"evenodd\" fill-opacity=\"1\" /><path clip-path=\"url(#clip160)\" d=\"M 0 0 M6749.77 6431.55 L6749.77 6354.39 L6773.2 6354.39 L6773.2 6552.5 L6749.77 6552.5 L6749.77 6531.11 Q6742.39 6543.84 6731.05 6550.08 Q6719.85 6556.19 6704.06 6556.19 Q6678.22 6556.19 6661.92 6535.56 Q6645.75 6514.94 6645.75 6481.33 Q6645.75 6447.72 6661.92 6427.09 Q6678.22 6406.47 6704.06 6406.47 Q6719.85 6406.47 6731.05 6412.7 Q6742.39 6418.82 6749.77 6431.55 M6669.94 6481.33 Q6669.94 6507.17 6680.51 6521.94 Q6691.21 6536.58 6709.79 6536.58 Q6728.38 6536.58 6739.08 6521.94 Q6749.77 6507.17 6749.77 6481.33 Q6749.77 6455.48 6739.08 6440.84 Q6728.38 6426.07 6709.79 6426.07 Q6691.21 6426.07 6680.51 6440.84 Q6669.94 6455.48 6669.94 6481.33 Z\" fill=\"#000000\" fill-rule=\"evenodd\" fill-opacity=\"1\" /><path clip-path=\"url(#clip160)\" d=\"M 0 0 M6919.73 6475.34 L6919.73 6486.8 L6812.03 6486.8 Q6813.55 6510.99 6826.54 6523.72 Q6839.65 6536.33 6862.95 6536.33 Q6876.45 6536.33 6889.05 6533.02 Q6901.78 6529.71 6914.26 6523.09 L6914.26 6545.24 Q6901.66 6550.59 6888.41 6553.39 Q6875.17 6556.19 6861.55 6556.19 Q6827.43 6556.19 6807.44 6536.33 Q6787.58 6516.47 6787.58 6482.6 Q6787.58 6447.59 6806.42 6427.09 Q6825.39 6406.47 6857.48 6406.47 Q6886.25 6406.47 6902.93 6425.05 Q6919.73 6443.51 6919.73 6475.34 M6896.31 6468.47 Q6896.05 6449.24 6885.49 6437.79 Q6875.05 6426.33 6857.73 6426.33 Q6838.13 6426.33 6826.29 6437.4 Q6814.57 6448.48 6812.79 6468.6 L6896.31 6468.47 Z\" fill=\"#000000\" fill-rule=\"evenodd\" fill-opacity=\"1\" /><path clip-path=\"url(#clip160)\" d=\"M 0 0 M7016.49 6354.39 L7016.49 6373.87 L6994.09 6373.87 Q6981.48 6373.87 6976.52 6378.97 Q6971.68 6384.06 6971.68 6397.3 L6971.68 6409.9 L7010.25 6409.9 L7010.25 6428.11 L6971.68 6428.11 L6971.68 6552.5 L6948.13 6552.5 L6948.13 6428.11 L6925.72 6428.11 L6925.72 6409.9 L6948.13 6409.9 L6948.13 6399.97 Q6948.13 6376.17 6959.2 6365.34 Q6970.28 6354.39 6994.34 6354.39 L7016.49 6354.39 Z\" fill=\"#000000\" fill-rule=\"evenodd\" fill-opacity=\"1\" /><path clip-path=\"url(#clip160)\" d=\"M 0 0 M7041.06 6354.39 L7064.49 6354.39 L7064.49 6552.5 L7041.06 6552.5 L7041.06 6354.39 Z\" fill=\"#000000\" fill-rule=\"evenodd\" fill-opacity=\"1\" /><path clip-path=\"url(#clip160)\" d=\"M 0 0 M7211.03 6475.34 L7211.03 6486.8 L7103.32 6486.8 Q7104.85 6510.99 7117.83 6523.72 Q7130.95 6536.33 7154.25 6536.33 Q7167.74 6536.33 7180.35 6533.02 Q7193.08 6529.71 7205.55 6523.09 L7205.55 6545.24 Q7192.95 6550.59 7179.71 6553.39 Q7166.47 6556.19 7152.85 6556.19 Q7118.73 6556.19 7098.74 6536.33 Q7078.88 6516.47 7078.88 6482.6 Q7078.88 6447.59 7097.72 6427.09 Q7116.69 6406.47 7148.77 6406.47 Q7177.55 6406.47 7194.22 6425.05 Q7211.03 6443.51 7211.03 6475.34 M7187.6 6468.47 Q7187.35 6449.24 7176.78 6437.79 Q7166.34 6426.33 7149.03 6426.33 Q7129.42 6426.33 7117.58 6437.4 Q7105.87 6448.48 7104.08 6468.6 L7187.6 6468.47 Z\" fill=\"#000000\" fill-rule=\"evenodd\" fill-opacity=\"1\" /><path clip-path=\"url(#clip160)\" d=\"M 0 0 M7338.22 6415.38 L7338.22 6437.28 Q7328.29 6431.8 7318.23 6429.13 Q7308.3 6426.33 7298.11 6426.33 Q7275.32 6426.33 7262.72 6440.84 Q7250.11 6455.23 7250.11 6481.33 Q7250.11 6507.43 7262.72 6521.94 Q7275.32 6536.33 7298.11 6536.33 Q7308.3 6536.33 7318.23 6533.65 Q7328.29 6530.85 7338.22 6525.38 L7338.22 6547.02 Q7328.41 6551.6 7317.85 6553.9 Q7307.41 6556.19 7295.57 6556.19 Q7263.35 6556.19 7244.39 6535.94 Q7225.42 6515.7 7225.42 6481.33 Q7225.42 6446.44 7244.51 6426.45 Q7263.74 6406.47 7297.09 6406.47 Q7307.91 6406.47 7318.23 6408.76 Q7328.54 6410.92 7338.22 6415.38 Z\" fill=\"#000000\" fill-rule=\"evenodd\" fill-opacity=\"1\" /><path clip-path=\"url(#clip160)\" d=\"M 0 0 M7385.96 6369.42 L7385.96 6409.9 L7434.21 6409.9 L7434.21 6428.11 L7385.96 6428.11 L7385.96 6505.52 Q7385.96 6522.96 7390.67 6527.92 Q7395.51 6532.89 7410.15 6532.89 L7434.21 6532.89 L7434.21 6552.5 L7410.15 6552.5 Q7383.03 6552.5 7372.72 6542.44 Q7362.41 6532.25 7362.41 6505.52 L7362.41 6428.11 L7345.22 6428.11 L7345.22 6409.9 L7362.41 6409.9 L7362.41 6369.42 L7385.96 6369.42 Z\" fill=\"#000000\" fill-rule=\"evenodd\" fill-opacity=\"1\" /><path clip-path=\"url(#clip160)\" d=\"M 0 0 M7458.78 6409.9 L7482.21 6409.9 L7482.21 6552.5 L7458.78 6552.5 L7458.78 6409.9 M7458.78 6354.39 L7482.21 6354.39 L7482.21 6384.06 L7458.78 6384.06 L7458.78 6354.39 Z\" fill=\"#000000\" fill-rule=\"evenodd\" fill-opacity=\"1\" /><path clip-path=\"url(#clip160)\" d=\"M 0 0 M7562.03 6426.33 Q7543.19 6426.33 7532.24 6441.1 Q7521.29 6455.74 7521.29 6481.33 Q7521.29 6506.92 7532.11 6521.69 Q7543.06 6536.33 7562.03 6536.33 Q7580.75 6536.33 7591.7 6521.56 Q7602.65 6506.79 7602.65 6481.33 Q7602.65 6455.99 7591.7 6441.22 Q7580.75 6426.33 7562.03 6426.33 M7562.03 6406.47 Q7592.59 6406.47 7610.03 6426.33 Q7627.47 6446.19 7627.47 6481.33 Q7627.47 6516.34 7610.03 6536.33 Q7592.59 6556.19 7562.03 6556.19 Q7531.35 6556.19 7513.91 6536.33 Q7496.59 6516.34 7496.59 6481.33 Q7496.59 6446.19 7513.91 6426.33 Q7531.35 6406.47 7562.03 6406.47 Z\" fill=\"#000000\" fill-rule=\"evenodd\" fill-opacity=\"1\" /><path clip-path=\"url(#clip160)\" d=\"M 0 0 M7770.57 6466.43 L7770.57 6552.5 L7747.15 6552.5 L7747.15 6467.19 Q7747.15 6446.95 7739.26 6436.89 Q7731.36 6426.84 7715.57 6426.84 Q7696.6 6426.84 7685.66 6438.93 Q7674.71 6451.03 7674.71 6471.91 L7674.71 6552.5 L7651.15 6552.5 L7651.15 6409.9 L7674.71 6409.9 L7674.71 6432.06 Q7683.11 6419.2 7694.44 6412.83 Q7705.9 6406.47 7720.79 6406.47 Q7745.37 6406.47 7757.97 6421.74 Q7770.57 6436.89 7770.57 6466.43 Z\" fill=\"#000000\" fill-rule=\"evenodd\" fill-opacity=\"1\" /><path clip-path=\"url(#clip160)\" d=\"M 0 0 M7875.86 6354.39 L7929.84 6354.39 L7929.84 6372.6 L7899.29 6372.6 L7899.29 6568.66 L7929.84 6568.66 L7929.84 6586.87 L7875.86 6586.87 L7875.86 6354.39 Z\" fill=\"#000000\" fill-rule=\"evenodd\" fill-opacity=\"1\" /><path clip-path=\"url(#clip160)\" d=\"M 0 0 M8065.43 6437.28 Q8074.22 6421.49 8086.44 6413.98 Q8098.66 6406.47 8115.21 6406.47 Q8137.49 6406.47 8149.59 6422.13 Q8161.68 6437.66 8161.68 6466.43 L8161.68 6552.5 L8138.13 6552.5 L8138.13 6467.19 Q8138.13 6446.7 8130.87 6436.77 Q8123.62 6426.84 8108.72 6426.84 Q8090.51 6426.84 8079.95 6438.93 Q8069.38 6451.03 8069.38 6471.91 L8069.38 6552.5 L8045.83 6552.5 L8045.83 6467.19 Q8045.83 6446.57 8038.57 6436.77 Q8031.31 6426.84 8016.16 6426.84 Q7998.21 6426.84 7987.64 6439.06 Q7977.08 6451.15 7977.08 6471.91 L7977.08 6552.5 L7953.52 6552.5 L7953.52 6409.9 L7977.08 6409.9 L7977.08 6432.06 Q7985.1 6418.94 7996.3 6412.7 Q8007.51 6406.47 8022.91 6406.47 Q8038.44 6406.47 8049.26 6414.36 Q8060.21 6422.25 8065.43 6437.28 Z\" fill=\"#000000\" fill-rule=\"evenodd\" fill-opacity=\"1\" /><path clip-path=\"url(#clip160)\" d=\"M 0 0 M8241 6354.39 L8241 6586.87 L8187.02 6586.87 L8187.02 6568.66 L8217.45 6568.66 L8217.45 6372.6 L8187.02 6372.6 L8187.02 6354.39 L8241 6354.39 Z\" fill=\"#000000\" fill-rule=\"evenodd\" fill-opacity=\"1\" /><polyline clip-path=\"url(#clip162)\" style=\"stroke:#000000; stroke-width:8; stroke-opacity:0.1; fill:none\" points=\"\n",
       "  4269.43,5857.76 9411.02,5857.76 \n",
       "  \"/>\n",
       "<polyline clip-path=\"url(#clip162)\" style=\"stroke:#000000; stroke-width:8; stroke-opacity:0.1; fill:none\" points=\"\n",
       "  4269.43,4497.13 9411.02,4497.13 \n",
       "  \"/>\n",
       "<polyline clip-path=\"url(#clip162)\" style=\"stroke:#000000; stroke-width:8; stroke-opacity:0.1; fill:none\" points=\"\n",
       "  4269.43,3136.5 9411.02,3136.5 \n",
       "  \"/>\n",
       "<polyline clip-path=\"url(#clip162)\" style=\"stroke:#000000; stroke-width:8; stroke-opacity:0.1; fill:none\" points=\"\n",
       "  4269.43,1775.87 9411.02,1775.87 \n",
       "  \"/>\n",
       "<polyline clip-path=\"url(#clip162)\" style=\"stroke:#000000; stroke-width:8; stroke-opacity:0.1; fill:none\" points=\"\n",
       "  4269.43,415.244 9411.02,415.244 \n",
       "  \"/>\n",
       "<polyline clip-path=\"url(#clip160)\" style=\"stroke:#000000; stroke-width:16; stroke-opacity:1; fill:none\" points=\"\n",
       "  4269.43,6021.04 4269.43,251.969 \n",
       "  \"/>\n",
       "<polyline clip-path=\"url(#clip160)\" style=\"stroke:#000000; stroke-width:16; stroke-opacity:1; fill:none\" points=\"\n",
       "  4269.43,5857.76 4331.13,5857.76 \n",
       "  \"/>\n",
       "<polyline clip-path=\"url(#clip160)\" style=\"stroke:#000000; stroke-width:16; stroke-opacity:1; fill:none\" points=\"\n",
       "  4269.43,4497.13 4331.13,4497.13 \n",
       "  \"/>\n",
       "<polyline clip-path=\"url(#clip160)\" style=\"stroke:#000000; stroke-width:16; stroke-opacity:1; fill:none\" points=\"\n",
       "  4269.43,3136.5 4331.13,3136.5 \n",
       "  \"/>\n",
       "<polyline clip-path=\"url(#clip160)\" style=\"stroke:#000000; stroke-width:16; stroke-opacity:1; fill:none\" points=\"\n",
       "  4269.43,1775.87 4331.13,1775.87 \n",
       "  \"/>\n",
       "<polyline clip-path=\"url(#clip160)\" style=\"stroke:#000000; stroke-width:16; stroke-opacity:1; fill:none\" points=\"\n",
       "  4269.43,415.244 4331.13,415.244 \n",
       "  \"/>\n",
       "<path clip-path=\"url(#clip160)\" d=\"M 0 0 M4077.65 5800.96 Q4063.21 5800.96 4055.89 5815.22 Q4048.67 5829.38 4048.67 5857.9 Q4048.67 5886.33 4055.89 5900.59 Q4063.21 5914.75 4077.65 5914.75 Q4092.19 5914.75 4099.41 5900.59 Q4106.73 5886.33 4106.73 5857.9 Q4106.73 5829.38 4099.41 5815.22 Q4092.19 5800.96 4077.65 5800.96 M4077.65 5786.14 Q4100.89 5786.14 4113.11 5804.57 Q4125.43 5822.9 4125.43 5857.9 Q4125.43 5892.81 4113.11 5911.24 Q4100.89 5929.57 4077.65 5929.57 Q4054.41 5929.57 4042.1 5911.24 Q4029.87 5892.81 4029.87 5857.9 Q4029.87 5822.9 4042.1 5804.57 Q4054.41 5786.14 4077.65 5786.14 Z\" fill=\"#000000\" fill-rule=\"evenodd\" fill-opacity=\"1\" /><path clip-path=\"url(#clip160)\" d=\"M 0 0 M3494.54 4576.3 L3559.81 4576.3 L3559.81 4592.04 L3472.04 4592.04 L3472.04 4576.3 Q3482.68 4565.29 3501.02 4546.77 Q3519.44 4528.16 3524.16 4522.79 Q3533.15 4512.69 3536.66 4505.75 Q3540.28 4498.71 3540.28 4491.95 Q3540.28 4480.93 3532.5 4473.99 Q3524.81 4467.04 3512.41 4467.04 Q3503.61 4467.04 3493.79 4470.1 Q3484.07 4473.16 3472.96 4479.36 L3472.96 4460.47 Q3484.26 4455.93 3494.07 4453.62 Q3503.89 4451.3 3512.04 4451.3 Q3533.52 4451.3 3546.29 4462.04 Q3559.07 4472.79 3559.07 4490.75 Q3559.07 4499.27 3555.83 4506.95 Q3552.68 4514.54 3544.26 4524.91 Q3541.94 4527.6 3529.54 4540.47 Q3517.13 4553.25 3494.54 4576.3 Z\" fill=\"#000000\" fill-rule=\"evenodd\" fill-opacity=\"1\" /><path clip-path=\"url(#clip160)\" d=\"M 0 0 M3580.09 4568.53 L3599.63 4568.53 L3599.63 4592.04 L3580.09 4592.04 L3580.09 4568.53 Z\" fill=\"#000000\" fill-rule=\"evenodd\" fill-opacity=\"1\" /><path clip-path=\"url(#clip160)\" d=\"M 0 0 M3620.09 4453.8 L3693.52 4453.8 L3693.52 4469.54 L3637.22 4469.54 L3637.22 4503.43 Q3641.29 4502.04 3645.37 4501.4 Q3649.44 4500.66 3653.52 4500.66 Q3676.66 4500.66 3690.18 4513.34 Q3703.7 4526.03 3703.7 4547.69 Q3703.7 4570.01 3689.81 4582.41 Q3675.92 4594.73 3650.65 4594.73 Q3641.94 4594.73 3632.87 4593.25 Q3623.89 4591.77 3614.26 4588.8 L3614.26 4570.01 Q3622.59 4574.54 3631.48 4576.77 Q3640.37 4578.99 3650.28 4578.99 Q3666.29 4578.99 3675.65 4570.56 Q3685 4562.14 3685 4547.69 Q3685 4533.25 3675.65 4524.82 Q3666.29 4516.4 3650.28 4516.4 Q3642.78 4516.4 3635.28 4518.06 Q3627.87 4519.73 3620.09 4523.25 L3620.09 4453.8 Z\" fill=\"#000000\" fill-rule=\"evenodd\" fill-opacity=\"1\" /><path clip-path=\"url(#clip160)\" d=\"M 0 0 M3836.66 4490.19 L3794.35 4532.69 L3836.66 4575.01 L3825.64 4586.21 L3783.14 4543.71 L3740.65 4586.21 L3729.72 4575.01 L3771.94 4532.69 L3729.72 4490.19 L3740.65 4478.99 L3783.14 4521.49 L3825.64 4478.99 L3836.66 4490.19 Z\" fill=\"#000000\" fill-rule=\"evenodd\" fill-opacity=\"1\" /><path clip-path=\"url(#clip160)\" d=\"M 0 0 M3860.18 4576.3 L3890.74 4576.3 L3890.74 4470.84 L3857.5 4477.51 L3857.5 4460.47 L3890.55 4453.8 L3909.26 4453.8 L3909.26 4576.3 L3939.81 4576.3 L3939.81 4592.04 L3860.18 4592.04 L3860.18 4576.3 Z\" fill=\"#000000\" fill-rule=\"evenodd\" fill-opacity=\"1\" /><path clip-path=\"url(#clip160)\" d=\"M 0 0 M4000.09 4466.12 Q3985.64 4466.12 3978.33 4480.38 Q3971.11 4494.54 3971.11 4523.06 Q3971.11 4551.49 3978.33 4565.75 Q3985.64 4579.91 4000.09 4579.91 Q4014.63 4579.91 4021.85 4565.75 Q4029.16 4551.49 4029.16 4523.06 Q4029.16 4494.54 4021.85 4480.38 Q4014.63 4466.12 4000.09 4466.12 M4000.09 4451.3 Q4023.33 4451.3 4035.55 4469.73 Q4047.87 4488.06 4047.87 4523.06 Q4047.87 4557.97 4035.55 4576.4 Q4023.33 4594.73 4000.09 4594.73 Q3976.85 4594.73 3964.53 4576.4 Q3952.31 4557.97 3952.31 4523.06 Q3952.31 4488.06 3964.53 4469.73 Q3976.85 4451.3 4000.09 4451.3 Z\" fill=\"#000000\" fill-rule=\"evenodd\" fill-opacity=\"1\" /><path clip-path=\"url(#clip160)\" d=\"M 0 0 M4087.96 4420.19 Q4077.73 4420.19 4071.71 4427.18 Q4065.77 4434.18 4065.77 4446.37 Q4065.77 4458.48 4071.71 4465.55 Q4077.73 4472.55 4087.96 4472.55 Q4098.2 4472.55 4104.14 4465.55 Q4110.16 4458.48 4110.16 4446.37 Q4110.16 4434.18 4104.14 4427.18 Q4098.2 4420.19 4087.96 4420.19 M4118.13 4372.57 L4118.13 4386.41 Q4112.41 4383.7 4106.55 4382.27 Q4100.75 4380.84 4095.04 4380.84 Q4079.99 4380.84 4072.01 4391 Q4064.12 4401.15 4062.99 4421.69 Q4067.43 4415.15 4074.12 4411.69 Q4080.82 4408.15 4088.87 4408.15 Q4105.79 4408.15 4115.57 4418.46 Q4125.43 4428.69 4125.43 4446.37 Q4125.43 4463.67 4115.2 4474.13 Q4104.97 4484.58 4087.96 4484.58 Q4068.48 4484.58 4058.17 4469.69 Q4047.87 4454.72 4047.87 4426.36 Q4047.87 4399.72 4060.5 4383.93 Q4073.14 4368.05 4094.43 4368.05 Q4100.15 4368.05 4105.94 4369.18 Q4111.81 4370.31 4118.13 4372.57 Z\" fill=\"#000000\" fill-rule=\"evenodd\" fill-opacity=\"1\" /><path clip-path=\"url(#clip160)\" d=\"M 0 0 M3472.22 3093.17 L3545.65 3093.17 L3545.65 3108.91 L3489.35 3108.91 L3489.35 3142.8 Q3493.42 3141.41 3497.5 3140.77 Q3501.57 3140.03 3505.65 3140.03 Q3528.79 3140.03 3542.31 3152.71 Q3555.83 3165.4 3555.83 3187.06 Q3555.83 3209.38 3541.94 3221.78 Q3528.05 3234.1 3502.78 3234.1 Q3494.07 3234.1 3485 3232.62 Q3476.02 3231.14 3466.39 3228.17 L3466.39 3209.38 Q3474.72 3213.91 3483.61 3216.14 Q3492.5 3218.36 3502.41 3218.36 Q3518.42 3218.36 3527.78 3209.93 Q3537.13 3201.51 3537.13 3187.06 Q3537.13 3172.62 3527.78 3164.19 Q3518.42 3155.77 3502.41 3155.77 Q3494.91 3155.77 3487.41 3157.43 Q3480 3159.1 3472.22 3162.62 L3472.22 3093.17 Z\" fill=\"#000000\" fill-rule=\"evenodd\" fill-opacity=\"1\" /><path clip-path=\"url(#clip160)\" d=\"M 0 0 M3576.11 3207.9 L3595.65 3207.9 L3595.65 3231.41 L3576.11 3231.41 L3576.11 3207.9 Z\" fill=\"#000000\" fill-rule=\"evenodd\" fill-opacity=\"1\" /><path clip-path=\"url(#clip160)\" d=\"M 0 0 M3655.92 3105.49 Q3641.48 3105.49 3634.16 3119.75 Q3626.94 3133.91 3626.94 3162.43 Q3626.94 3190.86 3634.16 3205.12 Q3641.48 3219.28 3655.92 3219.28 Q3670.46 3219.28 3677.68 3205.12 Q3685 3190.86 3685 3162.43 Q3685 3133.91 3677.68 3119.75 Q3670.46 3105.49 3655.92 3105.49 M3655.92 3090.67 Q3679.16 3090.67 3691.39 3109.1 Q3703.7 3127.43 3703.7 3162.43 Q3703.7 3197.34 3691.39 3215.77 Q3679.16 3234.1 3655.92 3234.1 Q3632.68 3234.1 3620.37 3215.77 Q3608.15 3197.34 3608.15 3162.43 Q3608.15 3127.43 3620.37 3109.1 Q3632.68 3090.67 3655.92 3090.67 Z\" fill=\"#000000\" fill-rule=\"evenodd\" fill-opacity=\"1\" /><path clip-path=\"url(#clip160)\" d=\"M 0 0 M3836.66 3129.56 L3794.35 3172.06 L3836.66 3214.38 L3825.64 3225.58 L3783.14 3183.08 L3740.65 3225.58 L3729.72 3214.38 L3771.94 3172.06 L3729.72 3129.56 L3740.65 3118.36 L3783.14 3160.86 L3825.64 3118.36 L3836.66 3129.56 Z\" fill=\"#000000\" fill-rule=\"evenodd\" fill-opacity=\"1\" /><path clip-path=\"url(#clip160)\" d=\"M 0 0 M3860.18 3215.67 L3890.74 3215.67 L3890.74 3110.21 L3857.5 3116.88 L3857.5 3099.84 L3890.55 3093.17 L3909.26 3093.17 L3909.26 3215.67 L3939.81 3215.67 L3939.81 3231.41 L3860.18 3231.41 L3860.18 3215.67 Z\" fill=\"#000000\" fill-rule=\"evenodd\" fill-opacity=\"1\" /><path clip-path=\"url(#clip160)\" d=\"M 0 0 M4000.09 3105.49 Q3985.64 3105.49 3978.33 3119.75 Q3971.11 3133.91 3971.11 3162.43 Q3971.11 3190.86 3978.33 3205.12 Q3985.64 3219.28 4000.09 3219.28 Q4014.63 3219.28 4021.85 3205.12 Q4029.16 3190.86 4029.16 3162.43 Q4029.16 3133.91 4021.85 3119.75 Q4014.63 3105.49 4000.09 3105.49 M4000.09 3090.67 Q4023.33 3090.67 4035.55 3109.1 Q4047.87 3127.43 4047.87 3162.43 Q4047.87 3197.34 4035.55 3215.77 Q4023.33 3234.1 4000.09 3234.1 Q3976.85 3234.1 3964.53 3215.77 Q3952.31 3197.34 3952.31 3162.43 Q3952.31 3127.43 3964.53 3109.1 Q3976.85 3090.67 4000.09 3090.67 Z\" fill=\"#000000\" fill-rule=\"evenodd\" fill-opacity=\"1\" /><path clip-path=\"url(#clip160)\" d=\"M 0 0 M4087.96 3059.56 Q4077.73 3059.56 4071.71 3066.55 Q4065.77 3073.55 4065.77 3085.74 Q4065.77 3097.85 4071.71 3104.92 Q4077.73 3111.92 4087.96 3111.92 Q4098.2 3111.92 4104.14 3104.92 Q4110.16 3097.85 4110.16 3085.74 Q4110.16 3073.55 4104.14 3066.55 Q4098.2 3059.56 4087.96 3059.56 M4118.13 3011.94 L4118.13 3025.78 Q4112.41 3023.07 4106.55 3021.64 Q4100.75 3020.21 4095.04 3020.21 Q4079.99 3020.21 4072.01 3030.37 Q4064.12 3040.52 4062.99 3061.06 Q4067.43 3054.52 4074.12 3051.06 Q4080.82 3047.52 4088.87 3047.52 Q4105.79 3047.52 4115.57 3057.83 Q4125.43 3068.06 4125.43 3085.74 Q4125.43 3103.04 4115.2 3113.5 Q4104.97 3123.95 4087.96 3123.95 Q4068.48 3123.95 4058.17 3109.06 Q4047.87 3094.09 4047.87 3065.73 Q4047.87 3039.09 4060.5 3023.3 Q4073.14 3007.42 4094.43 3007.42 Q4100.15 3007.42 4105.94 3008.55 Q4111.81 3009.68 4118.13 3011.94 Z\" fill=\"#000000\" fill-rule=\"evenodd\" fill-opacity=\"1\" /><path clip-path=\"url(#clip160)\" d=\"M 0 0 M3470.92 1732.54 L3559.81 1732.54 L3559.81 1740.51 L3509.63 1870.78 L3490.09 1870.78 L3537.31 1748.29 L3470.92 1748.29 L3470.92 1732.54 Z\" fill=\"#000000\" fill-rule=\"evenodd\" fill-opacity=\"1\" /><path clip-path=\"url(#clip160)\" d=\"M 0 0 M3580.09 1847.27 L3599.63 1847.27 L3599.63 1870.78 L3580.09 1870.78 L3580.09 1847.27 Z\" fill=\"#000000\" fill-rule=\"evenodd\" fill-opacity=\"1\" /><path clip-path=\"url(#clip160)\" d=\"M 0 0 M3620.09 1732.54 L3693.52 1732.54 L3693.52 1748.29 L3637.22 1748.29 L3637.22 1782.17 Q3641.29 1780.78 3645.37 1780.14 Q3649.44 1779.4 3653.52 1779.4 Q3676.66 1779.4 3690.18 1792.08 Q3703.7 1804.77 3703.7 1826.43 Q3703.7 1848.75 3689.81 1861.15 Q3675.92 1873.47 3650.65 1873.47 Q3641.94 1873.47 3632.87 1871.99 Q3623.89 1870.51 3614.26 1867.54 L3614.26 1848.75 Q3622.59 1853.28 3631.48 1855.51 Q3640.37 1857.73 3650.28 1857.73 Q3666.29 1857.73 3675.65 1849.3 Q3685 1840.88 3685 1826.43 Q3685 1811.99 3675.65 1803.56 Q3666.29 1795.14 3650.28 1795.14 Q3642.78 1795.14 3635.28 1796.8 Q3627.87 1798.47 3620.09 1801.99 L3620.09 1732.54 Z\" fill=\"#000000\" fill-rule=\"evenodd\" fill-opacity=\"1\" /><path clip-path=\"url(#clip160)\" d=\"M 0 0 M3836.66 1768.93 L3794.35 1811.43 L3836.66 1853.75 L3825.64 1864.95 L3783.14 1822.45 L3740.65 1864.95 L3729.72 1853.75 L3771.94 1811.43 L3729.72 1768.93 L3740.65 1757.73 L3783.14 1800.23 L3825.64 1757.73 L3836.66 1768.93 Z\" fill=\"#000000\" fill-rule=\"evenodd\" fill-opacity=\"1\" /><path clip-path=\"url(#clip160)\" d=\"M 0 0 M3860.18 1855.04 L3890.74 1855.04 L3890.74 1749.58 L3857.5 1756.25 L3857.5 1739.21 L3890.55 1732.54 L3909.26 1732.54 L3909.26 1855.04 L3939.81 1855.04 L3939.81 1870.78 L3860.18 1870.78 L3860.18 1855.04 Z\" fill=\"#000000\" fill-rule=\"evenodd\" fill-opacity=\"1\" /><path clip-path=\"url(#clip160)\" d=\"M 0 0 M4000.09 1744.86 Q3985.64 1744.86 3978.33 1759.12 Q3971.11 1773.28 3971.11 1801.8 Q3971.11 1830.23 3978.33 1844.49 Q3985.64 1858.65 4000.09 1858.65 Q4014.63 1858.65 4021.85 1844.49 Q4029.16 1830.23 4029.16 1801.8 Q4029.16 1773.28 4021.85 1759.12 Q4014.63 1744.86 4000.09 1744.86 M4000.09 1730.04 Q4023.33 1730.04 4035.55 1748.47 Q4047.87 1766.8 4047.87 1801.8 Q4047.87 1836.71 4035.55 1855.14 Q4023.33 1873.47 4000.09 1873.47 Q3976.85 1873.47 3964.53 1855.14 Q3952.31 1836.71 3952.31 1801.8 Q3952.31 1766.8 3964.53 1748.47 Q3976.85 1730.04 4000.09 1730.04 Z\" fill=\"#000000\" fill-rule=\"evenodd\" fill-opacity=\"1\" /><path clip-path=\"url(#clip160)\" d=\"M 0 0 M4087.96 1698.93 Q4077.73 1698.93 4071.71 1705.92 Q4065.77 1712.92 4065.77 1725.11 Q4065.77 1737.22 4071.71 1744.29 Q4077.73 1751.29 4087.96 1751.29 Q4098.2 1751.29 4104.14 1744.29 Q4110.16 1737.22 4110.16 1725.11 Q4110.16 1712.92 4104.14 1705.92 Q4098.2 1698.93 4087.96 1698.93 M4118.13 1651.31 L4118.13 1665.15 Q4112.41 1662.44 4106.55 1661.01 Q4100.75 1659.58 4095.04 1659.58 Q4079.99 1659.58 4072.01 1669.74 Q4064.12 1679.89 4062.99 1700.43 Q4067.43 1693.89 4074.12 1690.43 Q4080.82 1686.89 4088.87 1686.89 Q4105.79 1686.89 4115.57 1697.2 Q4125.43 1707.43 4125.43 1725.11 Q4125.43 1742.41 4115.2 1752.87 Q4104.97 1763.32 4087.96 1763.32 Q4068.48 1763.32 4058.17 1748.43 Q4047.87 1733.46 4047.87 1705.1 Q4047.87 1678.46 4060.5 1662.67 Q4073.14 1646.79 4094.43 1646.79 Q4100.15 1646.79 4105.94 1647.92 Q4111.81 1649.05 4118.13 1651.31 Z\" fill=\"#000000\" fill-rule=\"evenodd\" fill-opacity=\"1\" /><path clip-path=\"url(#clip160)\" d=\"M 0 0 M3481.54 494.414 L3512.1 494.414 L3512.1 388.951 L3478.86 395.618 L3478.86 378.581 L3511.91 371.914 L3530.62 371.914 L3530.62 494.414 L3561.17 494.414 L3561.17 510.154 L3481.54 510.154 L3481.54 494.414 Z\" fill=\"#000000\" fill-rule=\"evenodd\" fill-opacity=\"1\" /><path clip-path=\"url(#clip160)\" d=\"M 0 0 M3581.45 486.636 L3600.99 486.636 L3600.99 510.154 L3581.45 510.154 L3581.45 486.636 Z\" fill=\"#000000\" fill-rule=\"evenodd\" fill-opacity=\"1\" /><path clip-path=\"url(#clip160)\" d=\"M 0 0 M3661.26 384.229 Q3646.82 384.229 3639.51 398.488 Q3632.28 412.655 3632.28 441.173 Q3632.28 469.599 3639.51 483.858 Q3646.82 498.025 3661.26 498.025 Q3675.8 498.025 3683.02 483.858 Q3690.34 469.599 3690.34 441.173 Q3690.34 412.655 3683.02 398.488 Q3675.8 384.229 3661.26 384.229 M3661.26 369.415 Q3684.51 369.415 3696.73 387.84 Q3709.04 406.174 3709.04 441.173 Q3709.04 476.081 3696.73 494.506 Q3684.51 512.84 3661.26 512.84 Q3638.02 512.84 3625.71 494.506 Q3613.49 476.081 3613.49 441.173 Q3613.49 406.174 3625.71 387.84 Q3638.02 369.415 3661.26 369.415 Z\" fill=\"#000000\" fill-rule=\"evenodd\" fill-opacity=\"1\" /><path clip-path=\"url(#clip160)\" d=\"M 0 0 M3842 408.303 L3799.69 450.803 L3842 493.118 L3830.99 504.321 L3788.49 461.821 L3745.99 504.321 L3735.06 493.118 L3777.28 450.803 L3735.06 408.303 L3745.99 397.1 L3788.49 439.599 L3830.99 397.1 L3842 408.303 Z\" fill=\"#000000\" fill-rule=\"evenodd\" fill-opacity=\"1\" /><path clip-path=\"url(#clip160)\" d=\"M 0 0 M3865.52 494.414 L3896.08 494.414 L3896.08 388.951 L3862.84 395.618 L3862.84 378.581 L3895.89 371.914 L3914.6 371.914 L3914.6 494.414 L3945.15 494.414 L3945.15 510.154 L3865.52 510.154 L3865.52 494.414 Z\" fill=\"#000000\" fill-rule=\"evenodd\" fill-opacity=\"1\" /><path clip-path=\"url(#clip160)\" d=\"M 0 0 M4005.43 384.229 Q3990.99 384.229 3983.67 398.488 Q3976.45 412.655 3976.45 441.173 Q3976.45 469.599 3983.67 483.858 Q3990.99 498.025 4005.43 498.025 Q4019.97 498.025 4027.19 483.858 Q4034.5 469.599 4034.5 441.173 Q4034.5 412.655 4027.19 398.488 Q4019.97 384.229 4005.43 384.229 M4005.43 369.415 Q4028.67 369.415 4040.89 387.84 Q4053.21 406.174 4053.21 441.173 Q4053.21 476.081 4040.89 494.506 Q4028.67 512.84 4005.43 512.84 Q3982.19 512.84 3969.87 494.506 Q3957.65 476.081 3957.65 441.173 Q3957.65 406.174 3969.87 387.84 Q3982.19 369.415 4005.43 369.415 Z\" fill=\"#000000\" fill-rule=\"evenodd\" fill-opacity=\"1\" /><path clip-path=\"url(#clip160)\" d=\"M 0 0 M4053.21 288.193 L4125.43 288.193 L4125.43 294.663 L4084.65 400.513 L4068.78 400.513 L4107.15 300.982 L4053.21 300.982 L4053.21 288.193 Z\" fill=\"#000000\" fill-rule=\"evenodd\" fill-opacity=\"1\" /><path clip-path=\"url(#clip160)\" d=\"M 0 0 M3171.28 3854.81 L3171.28 3694.01 L3192.93 3694.01 L3192.93 3761.49 L3361.36 3761.49 L3361.36 3787.33 L3192.93 3787.33 L3192.93 3854.81 L3171.28 3854.81 Z\" fill=\"#000000\" fill-rule=\"evenodd\" fill-opacity=\"1\" /><path clip-path=\"url(#clip160)\" d=\"M 0 0 M3240.67 3625.14 Q3238.38 3629.08 3237.36 3633.79 Q3236.21 3638.38 3236.21 3643.98 Q3236.21 3663.84 3249.2 3674.53 Q3262.06 3685.1 3286.25 3685.1 L3361.36 3685.1 L3361.36 3708.65 L3218.77 3708.65 L3218.77 3685.1 L3240.92 3685.1 Q3227.94 3677.72 3221.7 3665.88 Q3215.33 3654.04 3215.33 3637.1 Q3215.33 3634.68 3215.72 3631.76 Q3215.97 3628.83 3216.61 3625.26 L3240.67 3625.14 Z\" fill=\"#000000\" fill-rule=\"evenodd\" fill-opacity=\"1\" /><path clip-path=\"url(#clip160)\" d=\"M 0 0 M3289.69 3535.76 Q3289.69 3564.15 3296.18 3575.1 Q3302.67 3586.05 3318.33 3586.05 Q3330.81 3586.05 3338.19 3577.9 Q3345.45 3569.63 3345.45 3555.49 Q3345.45 3536.02 3331.7 3524.3 Q3317.82 3512.46 3294.91 3512.46 L3289.69 3512.46 L3289.69 3535.76 M3280.01 3489.04 L3361.36 3489.04 L3361.36 3512.46 L3339.72 3512.46 Q3352.71 3520.48 3358.94 3532.45 Q3365.06 3544.42 3365.06 3561.73 Q3365.06 3583.63 3352.83 3596.62 Q3340.48 3609.48 3319.86 3609.48 Q3295.8 3609.48 3283.57 3593.43 Q3271.35 3577.27 3271.35 3545.31 L3271.35 3512.46 L3269.06 3512.46 Q3252.89 3512.46 3244.11 3523.16 Q3235.2 3533.72 3235.2 3552.95 Q3235.2 3565.17 3238.12 3576.76 Q3241.05 3588.34 3246.91 3599.04 L3225.26 3599.04 Q3220.3 3586.18 3217.88 3574.08 Q3215.33 3561.99 3215.33 3550.53 Q3215.33 3519.59 3231.38 3504.31 Q3247.42 3489.04 3280.01 3489.04 Z\" fill=\"#000000\" fill-rule=\"evenodd\" fill-opacity=\"1\" /><path clip-path=\"url(#clip160)\" d=\"M 0 0 M3224.25 3361.85 L3246.14 3361.85 Q3240.67 3371.78 3238 3381.84 Q3235.2 3391.77 3235.2 3401.95 Q3235.2 3424.74 3249.71 3437.35 Q3264.1 3449.95 3290.19 3449.95 Q3316.29 3449.95 3330.81 3437.35 Q3345.19 3424.74 3345.19 3401.95 Q3345.19 3391.77 3342.52 3381.84 Q3339.72 3371.78 3334.25 3361.85 L3355.89 3361.85 Q3360.47 3371.65 3362.76 3382.22 Q3365.06 3392.66 3365.06 3404.5 Q3365.06 3436.71 3344.81 3455.68 Q3324.57 3474.65 3290.19 3474.65 Q3255.31 3474.65 3235.32 3455.55 Q3215.33 3436.33 3215.33 3402.97 Q3215.33 3392.15 3217.63 3381.84 Q3219.79 3371.53 3224.25 3361.85 Z\" fill=\"#000000\" fill-rule=\"evenodd\" fill-opacity=\"1\" /><path clip-path=\"url(#clip160)\" d=\"M 0 0 M3178.29 3314.11 L3218.77 3314.11 L3218.77 3265.86 L3236.98 3265.86 L3236.98 3314.11 L3314.38 3314.11 Q3331.83 3314.11 3336.79 3309.4 Q3341.76 3304.56 3341.76 3289.92 L3341.76 3265.86 L3361.36 3265.86 L3361.36 3289.92 Q3361.36 3317.04 3351.31 3327.35 Q3341.12 3337.66 3314.38 3337.66 L3236.98 3337.66 L3236.98 3354.85 L3218.77 3354.85 L3218.77 3337.66 L3178.29 3337.66 L3178.29 3314.11 Z\" fill=\"#000000\" fill-rule=\"evenodd\" fill-opacity=\"1\" /><path clip-path=\"url(#clip160)\" d=\"M 0 0 M3218.77 3241.28 L3218.77 3217.86 L3361.36 3217.86 L3361.36 3241.28 L3218.77 3241.28 M3163.26 3241.28 L3163.26 3217.86 L3192.93 3217.86 L3192.93 3241.28 L3163.26 3241.28 Z\" fill=\"#000000\" fill-rule=\"evenodd\" fill-opacity=\"1\" /><path clip-path=\"url(#clip160)\" d=\"M 0 0 M3235.2 3138.03 Q3235.2 3156.87 3249.96 3167.82 Q3264.6 3178.77 3290.19 3178.77 Q3315.78 3178.77 3330.55 3167.95 Q3345.19 3157 3345.19 3138.03 Q3345.19 3119.32 3330.43 3108.37 Q3315.66 3097.42 3290.19 3097.42 Q3264.86 3097.42 3250.09 3108.37 Q3235.2 3119.32 3235.2 3138.03 M3215.33 3138.03 Q3215.33 3107.48 3235.2 3090.03 Q3255.06 3072.59 3290.19 3072.59 Q3325.21 3072.59 3345.19 3090.03 Q3365.06 3107.48 3365.06 3138.03 Q3365.06 3168.71 3345.19 3186.16 Q3325.21 3203.47 3290.19 3203.47 Q3255.06 3203.47 3235.2 3186.16 Q3215.33 3168.71 3215.33 3138.03 Z\" fill=\"#000000\" fill-rule=\"evenodd\" fill-opacity=\"1\" /><path clip-path=\"url(#clip160)\" d=\"M 0 0 M3275.3 2929.49 L3361.36 2929.49 L3361.36 2952.92 L3276.06 2952.92 Q3255.82 2952.92 3245.76 2960.81 Q3235.7 2968.7 3235.7 2984.49 Q3235.7 3003.46 3247.8 3014.41 Q3259.89 3025.36 3280.77 3025.36 L3361.36 3025.36 L3361.36 3048.91 L3218.77 3048.91 L3218.77 3025.36 L3240.92 3025.36 Q3228.07 3016.96 3221.7 3005.63 Q3215.33 2994.17 3215.33 2979.27 Q3215.33 2954.7 3230.61 2942.1 Q3245.76 2929.49 3275.3 2929.49 Z\" fill=\"#000000\" fill-rule=\"evenodd\" fill-opacity=\"1\" /><path clip-path=\"url(#clip160)\" d=\"M 0 0 M3163.26 2824.2 L3163.26 2770.22 L3181.47 2770.22 L3181.47 2800.78 L3377.53 2800.78 L3377.53 2770.22 L3395.74 2770.22 L3395.74 2824.2 L3163.26 2824.2 Z\" fill=\"#000000\" fill-rule=\"evenodd\" fill-opacity=\"1\" /><path clip-path=\"url(#clip160)\" d=\"M 0 0 M3192.42 2718.91 L3263.84 2718.91 L3263.84 2686.58 Q3263.84 2668.62 3254.55 2658.82 Q3245.25 2649.02 3228.07 2649.02 Q3211.01 2649.02 3201.71 2658.82 Q3192.42 2668.62 3192.42 2686.58 L3192.42 2718.91 M3171.28 2744.63 L3171.28 2686.58 Q3171.28 2654.62 3185.8 2638.32 Q3200.18 2621.9 3228.07 2621.9 Q3256.2 2621.9 3270.59 2638.32 Q3284.97 2654.62 3284.97 2686.58 L3284.97 2718.91 L3361.36 2718.91 L3361.36 2744.63 L3171.28 2744.63 Z\" fill=\"#000000\" fill-rule=\"evenodd\" fill-opacity=\"1\" /><path clip-path=\"url(#clip160)\" d=\"M 0 0 M3289.69 2544.24 Q3289.69 2572.63 3296.18 2583.58 Q3302.67 2594.53 3318.33 2594.53 Q3330.81 2594.53 3338.19 2586.38 Q3345.45 2578.1 3345.45 2563.97 Q3345.45 2544.49 3331.7 2532.78 Q3317.82 2520.94 3294.91 2520.94 L3289.69 2520.94 L3289.69 2544.24 M3280.01 2497.51 L3361.36 2497.51 L3361.36 2520.94 L3339.72 2520.94 Q3352.71 2528.96 3358.94 2540.93 Q3365.06 2552.9 3365.06 2570.21 Q3365.06 2592.11 3352.83 2605.09 Q3340.48 2617.95 3319.86 2617.95 Q3295.8 2617.95 3283.57 2601.91 Q3271.35 2585.74 3271.35 2553.79 L3271.35 2520.94 L3269.06 2520.94 Q3252.89 2520.94 3244.11 2531.63 Q3235.2 2542.2 3235.2 2561.43 Q3235.2 2573.65 3238.12 2585.23 Q3241.05 2596.82 3246.91 2607.51 L3225.26 2607.51 Q3220.3 2594.65 3217.88 2582.56 Q3215.33 2570.47 3215.33 2559.01 Q3215.33 2528.07 3231.38 2512.79 Q3247.42 2497.51 3280.01 2497.51 Z\" fill=\"#000000\" fill-rule=\"evenodd\" fill-opacity=\"1\" /><path clip-path=\"url(#clip160)\" d=\"M 0 0 M3163.26 2418.2 L3395.74 2418.2 L3395.74 2472.18 L3377.53 2472.18 L3377.53 2441.75 L3181.47 2441.75 L3181.47 2472.18 L3163.26 2472.18 L3163.26 2418.2 Z\" fill=\"#000000\" fill-rule=\"evenodd\" fill-opacity=\"1\" /><path clip-path=\"url(#clip160)\" d=\"M 0 0 M5219.95 48.384 L5424.6 48.384 L5424.6 75.9301 L5338.72 75.9301 L5338.72 290.304 L5305.82 290.304 L5305.82 75.9301 L5219.95 75.9301 L5219.95 48.384 Z\" fill=\"#000000\" fill-rule=\"evenodd\" fill-opacity=\"1\" /><path clip-path=\"url(#clip160)\" d=\"M 0 0 M5512.26 136.694 Q5507.24 133.777 5501.24 132.481 Q5495.41 131.022 5488.28 131.022 Q5463 131.022 5449.39 147.55 Q5435.94 163.916 5435.94 194.703 L5435.94 290.304 L5405.96 290.304 L5405.96 108.823 L5435.94 108.823 L5435.94 137.018 Q5445.34 120.49 5460.41 112.55 Q5475.48 104.449 5497.03 104.449 Q5500.11 104.449 5503.83 104.935 Q5507.56 105.259 5512.1 106.069 L5512.26 136.694 Z\" fill=\"#000000\" fill-rule=\"evenodd\" fill-opacity=\"1\" /><path clip-path=\"url(#clip160)\" d=\"M 0 0 M5626.01 199.078 Q5589.87 199.078 5575.94 207.341 Q5562 215.605 5562 235.536 Q5562 251.415 5572.37 260.813 Q5582.91 270.049 5600.89 270.049 Q5625.68 270.049 5640.59 252.55 Q5655.66 234.888 5655.66 205.721 L5655.66 199.078 L5626.01 199.078 M5685.48 186.763 L5685.48 290.304 L5655.66 290.304 L5655.66 262.758 Q5645.45 279.286 5630.22 287.225 Q5614.99 295.003 5592.95 295.003 Q5565.08 295.003 5548.55 279.448 Q5532.19 263.73 5532.19 237.48 Q5532.19 206.855 5552.61 191.3 Q5573.18 175.744 5613.86 175.744 L5655.66 175.744 L5655.66 172.828 Q5655.66 152.249 5642.05 141.069 Q5628.6 129.726 5604.13 129.726 Q5588.58 129.726 5573.83 133.453 Q5559.09 137.18 5545.48 144.633 L5545.48 117.087 Q5561.84 110.768 5577.24 107.689 Q5592.63 104.449 5607.21 104.449 Q5646.59 104.449 5666.03 124.865 Q5685.48 145.282 5685.48 186.763 Z\" fill=\"#000000\" fill-rule=\"evenodd\" fill-opacity=\"1\" /><path clip-path=\"url(#clip160)\" d=\"M 0 0 M5847.35 115.791 L5847.35 143.661 Q5834.71 136.694 5821.91 133.291 Q5809.27 129.726 5796.31 129.726 Q5767.3 129.726 5751.26 148.198 Q5735.22 166.508 5735.22 199.726 Q5735.22 232.943 5751.26 251.415 Q5767.3 269.725 5796.31 269.725 Q5809.27 269.725 5821.91 266.323 Q5834.71 262.758 5847.35 255.79 L5847.35 283.336 Q5834.87 289.17 5821.42 292.086 Q5808.14 295.003 5793.07 295.003 Q5752.07 295.003 5727.93 269.239 Q5703.79 243.476 5703.79 199.726 Q5703.79 155.328 5728.09 129.888 Q5752.56 104.449 5795.01 104.449 Q5808.79 104.449 5821.91 107.365 Q5835.03 110.12 5847.35 115.791 Z\" fill=\"#000000\" fill-rule=\"evenodd\" fill-opacity=\"1\" /><path clip-path=\"url(#clip160)\" d=\"M 0 0 M5908.11 57.296 L5908.11 108.823 L5969.52 108.823 L5969.52 131.995 L5908.11 131.995 L5908.11 230.513 Q5908.11 252.712 5914.11 259.031 Q5920.27 265.35 5938.9 265.35 L5969.52 265.35 L5969.52 290.304 L5938.9 290.304 Q5904.39 290.304 5891.26 277.503 Q5878.14 264.54 5878.14 230.513 L5878.14 131.995 L5856.26 131.995 L5856.26 108.823 L5878.14 108.823 L5878.14 57.296 L5908.11 57.296 Z\" fill=\"#000000\" fill-rule=\"evenodd\" fill-opacity=\"1\" /><path clip-path=\"url(#clip160)\" d=\"M 0 0 M6000.8 108.823 L6030.61 108.823 L6030.61 290.304 L6000.8 290.304 L6000.8 108.823 M6000.8 38.1757 L6030.61 38.1757 L6030.61 75.9301 L6000.8 75.9301 L6000.8 38.1757 Z\" fill=\"#000000\" fill-rule=\"evenodd\" fill-opacity=\"1\" /><path clip-path=\"url(#clip160)\" d=\"M 0 0 M6132.21 129.726 Q6108.23 129.726 6094.29 148.522 Q6080.36 167.157 6080.36 199.726 Q6080.36 232.295 6094.13 251.091 Q6108.07 269.725 6132.21 269.725 Q6156.03 269.725 6169.96 250.929 Q6183.9 232.133 6183.9 199.726 Q6183.9 167.481 6169.96 148.684 Q6156.03 129.726 6132.21 129.726 M6132.21 104.449 Q6171.1 104.449 6193.3 129.726 Q6215.5 155.004 6215.5 199.726 Q6215.5 244.286 6193.3 269.725 Q6171.1 295.003 6132.21 295.003 Q6093.16 295.003 6070.96 269.725 Q6048.92 244.286 6048.92 199.726 Q6048.92 155.004 6070.96 129.726 Q6093.16 104.449 6132.21 104.449 Z\" fill=\"#000000\" fill-rule=\"evenodd\" fill-opacity=\"1\" /><path clip-path=\"url(#clip160)\" d=\"M 0 0 M6397.62 180.768 L6397.62 290.304 L6367.81 290.304 L6367.81 181.74 Q6367.81 155.976 6357.76 143.175 Q6347.72 130.374 6327.62 130.374 Q6303.48 130.374 6289.55 145.768 Q6275.61 161.161 6275.61 187.735 L6275.61 290.304 L6245.63 290.304 L6245.63 108.823 L6275.61 108.823 L6275.61 137.018 Q6286.31 120.652 6300.73 112.55 Q6315.31 104.449 6334.27 104.449 Q6365.54 104.449 6381.58 123.893 Q6397.62 143.175 6397.62 180.768 Z\" fill=\"#000000\" fill-rule=\"evenodd\" fill-opacity=\"1\" /><path clip-path=\"url(#clip160)\" d=\"M 0 0 M6413.83 186.115 L6501.17 186.115 L6501.17 212.689 L6413.83 212.689 L6413.83 186.115 Z\" fill=\"#000000\" fill-rule=\"evenodd\" fill-opacity=\"1\" /><path clip-path=\"url(#clip160)\" d=\"M 0 0 M6651.86 136.37 L6651.86 38.1757 L6681.67 38.1757 L6681.67 290.304 L6651.86 290.304 L6651.86 263.082 Q6642.46 279.286 6628.04 287.225 Q6613.78 295.003 6593.69 295.003 Q6560.79 295.003 6540.05 268.753 Q6519.48 242.503 6519.48 199.726 Q6519.48 156.948 6540.05 130.698 Q6560.79 104.449 6593.69 104.449 Q6613.78 104.449 6628.04 112.388 Q6642.46 120.166 6651.86 136.37 M6550.26 199.726 Q6550.26 232.619 6563.71 251.415 Q6577.32 270.049 6600.98 270.049 Q6624.64 270.049 6638.25 251.415 Q6651.86 232.619 6651.86 199.726 Q6651.86 166.832 6638.25 148.198 Q6624.64 129.402 6600.98 129.402 Q6577.32 129.402 6563.71 148.198 Q6550.26 166.832 6550.26 199.726 Z\" fill=\"#000000\" fill-rule=\"evenodd\" fill-opacity=\"1\" /><path clip-path=\"url(#clip160)\" d=\"M 0 0 M6712.95 108.823 L6742.76 108.823 L6742.76 290.304 L6712.95 290.304 L6712.95 108.823 M6712.95 38.1757 L6742.76 38.1757 L6742.76 75.9301 L6712.95 75.9301 L6712.95 38.1757 Z\" fill=\"#000000\" fill-rule=\"evenodd\" fill-opacity=\"1\" /><path clip-path=\"url(#clip160)\" d=\"M 0 0 M6889.73 114.171 L6889.73 142.365 Q6877.09 135.884 6863.48 132.643 Q6849.87 129.402 6835.28 129.402 Q6813.09 129.402 6801.9 136.208 Q6790.89 143.013 6790.89 156.624 Q6790.89 166.994 6798.83 172.99 Q6806.77 178.823 6830.75 184.17 L6840.96 186.439 Q6872.71 193.244 6886 205.721 Q6899.45 218.036 6899.45 240.235 Q6899.45 265.512 6879.36 280.258 Q6859.43 295.003 6824.43 295.003 Q6809.84 295.003 6793.96 292.086 Q6778.25 289.332 6760.75 283.661 L6760.75 252.874 Q6777.28 261.462 6793.32 265.837 Q6809.36 270.049 6825.08 270.049 Q6846.14 270.049 6857.48 262.92 Q6868.83 255.628 6868.83 242.503 Q6868.83 230.351 6860.56 223.869 Q6852.46 217.388 6824.75 211.392 L6814.38 208.962 Q6786.67 203.129 6774.36 191.138 Q6762.04 178.985 6762.04 157.92 Q6762.04 132.319 6780.19 118.384 Q6798.34 104.449 6831.72 104.449 Q6848.25 104.449 6862.83 106.879 Q6877.41 109.31 6889.73 114.171 Z\" fill=\"#000000\" fill-rule=\"evenodd\" fill-opacity=\"1\" /><path clip-path=\"url(#clip160)\" d=\"M 0 0 M6959.57 263.082 L6959.57 359.331 L6929.59 359.331 L6929.59 108.823 L6959.57 108.823 L6959.57 136.37 Q6968.96 120.166 6983.22 112.388 Q6997.64 104.449 7017.57 104.449 Q7050.63 104.449 7071.21 130.698 Q7091.95 156.948 7091.95 199.726 Q7091.95 242.503 7071.21 268.753 Q7050.63 295.003 7017.57 295.003 Q6997.64 295.003 6983.22 287.225 Q6968.96 279.286 6959.57 263.082 M7061 199.726 Q7061 166.832 7047.39 148.198 Q7033.94 129.402 7010.28 129.402 Q6986.63 129.402 6973.01 148.198 Q6959.57 166.832 6959.57 199.726 Q6959.57 232.619 6973.01 251.415 Q6986.63 270.049 7010.28 270.049 Q7033.94 270.049 7047.39 251.415 Q7061 232.619 7061 199.726 Z\" fill=\"#000000\" fill-rule=\"evenodd\" fill-opacity=\"1\" /><path clip-path=\"url(#clip160)\" d=\"M 0 0 M7123.22 38.1757 L7153.04 38.1757 L7153.04 290.304 L7123.22 290.304 L7123.22 38.1757 Z\" fill=\"#000000\" fill-rule=\"evenodd\" fill-opacity=\"1\" /><path clip-path=\"url(#clip160)\" d=\"M 0 0 M7266.79 199.078 Q7230.65 199.078 7216.72 207.341 Q7202.78 215.605 7202.78 235.536 Q7202.78 251.415 7213.15 260.813 Q7223.68 270.049 7241.67 270.049 Q7266.46 270.049 7281.37 252.55 Q7296.44 234.888 7296.44 205.721 L7296.44 199.078 L7266.79 199.078 M7326.25 186.763 L7326.25 290.304 L7296.44 290.304 L7296.44 262.758 Q7286.23 279.286 7271 287.225 Q7255.77 295.003 7233.73 295.003 Q7205.86 295.003 7189.33 279.448 Q7172.97 263.73 7172.97 237.48 Q7172.97 206.855 7193.38 191.3 Q7213.96 175.744 7254.63 175.744 L7296.44 175.744 L7296.44 172.828 Q7296.44 152.249 7282.83 141.069 Q7269.38 129.726 7244.91 129.726 Q7229.36 129.726 7214.61 133.453 Q7199.87 137.18 7186.25 144.633 L7186.25 117.087 Q7202.62 110.768 7218.01 107.689 Q7233.41 104.449 7247.99 104.449 Q7287.37 104.449 7306.81 124.865 Q7326.25 145.282 7326.25 186.763 Z\" fill=\"#000000\" fill-rule=\"evenodd\" fill-opacity=\"1\" /><path clip-path=\"url(#clip160)\" d=\"M 0 0 M7488.13 115.791 L7488.13 143.661 Q7475.49 136.694 7462.69 133.291 Q7450.05 129.726 7437.09 129.726 Q7408.08 129.726 7392.04 148.198 Q7376 166.508 7376 199.726 Q7376 232.943 7392.04 251.415 Q7408.08 269.725 7437.09 269.725 Q7450.05 269.725 7462.69 266.323 Q7475.49 262.758 7488.13 255.79 L7488.13 283.336 Q7475.65 289.17 7462.2 292.086 Q7448.92 295.003 7433.85 295.003 Q7392.85 295.003 7368.71 269.239 Q7344.56 243.476 7344.56 199.726 Q7344.56 155.328 7368.87 129.888 Q7393.34 104.449 7435.79 104.449 Q7449.56 104.449 7462.69 107.365 Q7475.81 110.12 7488.13 115.791 Z\" fill=\"#000000\" fill-rule=\"evenodd\" fill-opacity=\"1\" /><path clip-path=\"url(#clip160)\" d=\"M 0 0 M7674.63 192.11 L7674.63 206.693 L7537.55 206.693 Q7539.49 237.48 7556.02 253.684 Q7572.71 269.725 7602.36 269.725 Q7619.54 269.725 7635.58 265.512 Q7651.78 261.3 7667.66 252.874 L7667.66 281.068 Q7651.62 287.873 7634.77 291.438 Q7617.92 295.003 7600.58 295.003 Q7557.16 295.003 7531.72 269.725 Q7506.44 244.448 7506.44 201.346 Q7506.44 156.786 7530.42 130.698 Q7554.56 104.449 7595.4 104.449 Q7632.02 104.449 7653.24 128.106 Q7674.63 151.601 7674.63 192.11 M7644.82 183.36 Q7644.49 158.893 7631.04 144.309 Q7617.76 129.726 7595.72 129.726 Q7570.77 129.726 7555.7 143.823 Q7540.79 157.92 7538.52 183.522 L7644.82 183.36 Z\" fill=\"#000000\" fill-rule=\"evenodd\" fill-opacity=\"1\" /><path clip-path=\"url(#clip160)\" d=\"M 0 0 M7847.2 143.661 Q7858.38 123.569 7873.94 114.009 Q7889.49 104.449 7910.56 104.449 Q7938.91 104.449 7954.31 124.379 Q7969.7 144.147 7969.7 180.768 L7969.7 290.304 L7939.72 290.304 L7939.72 181.74 Q7939.72 155.652 7930.49 143.013 Q7921.25 130.374 7902.29 130.374 Q7879.12 130.374 7865.67 145.768 Q7852.22 161.161 7852.22 187.735 L7852.22 290.304 L7822.25 290.304 L7822.25 181.74 Q7822.25 155.49 7813.01 143.013 Q7803.77 130.374 7784.49 130.374 Q7761.64 130.374 7748.2 145.93 Q7734.75 161.323 7734.75 187.735 L7734.75 290.304 L7704.77 290.304 L7704.77 108.823 L7734.75 108.823 L7734.75 137.018 Q7744.96 120.328 7759.21 112.388 Q7773.47 104.449 7793.08 104.449 Q7812.85 104.449 7826.62 114.495 Q7840.56 124.541 7847.2 143.661 Z\" fill=\"#000000\" fill-rule=\"evenodd\" fill-opacity=\"1\" /><path clip-path=\"url(#clip160)\" d=\"M 0 0 M8156.2 192.11 L8156.2 206.693 L8019.12 206.693 Q8021.06 237.48 8037.59 253.684 Q8054.28 269.725 8083.93 269.725 Q8101.11 269.725 8117.15 265.512 Q8133.36 261.3 8149.24 252.874 L8149.24 281.068 Q8133.19 287.873 8116.34 291.438 Q8099.49 295.003 8082.15 295.003 Q8038.73 295.003 8013.29 269.725 Q7988.01 244.448 7988.01 201.346 Q7988.01 156.786 8011.99 130.698 Q8036.13 104.449 8076.97 104.449 Q8113.59 104.449 8134.81 128.106 Q8156.2 151.601 8156.2 192.11 M8126.39 183.36 Q8126.06 158.893 8112.62 144.309 Q8099.33 129.726 8077.29 129.726 Q8052.34 129.726 8037.27 143.823 Q8022.36 157.92 8020.09 183.522 L8126.39 183.36 Z\" fill=\"#000000\" fill-rule=\"evenodd\" fill-opacity=\"1\" /><path clip-path=\"url(#clip160)\" d=\"M 0 0 M8338.33 180.768 L8338.33 290.304 L8308.52 290.304 L8308.52 181.74 Q8308.52 155.976 8298.47 143.175 Q8288.42 130.374 8268.33 130.374 Q8244.19 130.374 8230.25 145.768 Q8216.32 161.161 8216.32 187.735 L8216.32 290.304 L8186.34 290.304 L8186.34 108.823 L8216.32 108.823 L8216.32 137.018 Q8227.01 120.652 8241.43 112.55 Q8256.02 104.449 8274.98 104.449 Q8306.25 104.449 8322.29 123.893 Q8338.33 143.175 8338.33 180.768 Z\" fill=\"#000000\" fill-rule=\"evenodd\" fill-opacity=\"1\" /><path clip-path=\"url(#clip160)\" d=\"M 0 0 M8399.1 57.296 L8399.1 108.823 L8460.51 108.823 L8460.51 131.995 L8399.1 131.995 L8399.1 230.513 Q8399.1 252.712 8405.09 259.031 Q8411.25 265.35 8429.88 265.35 L8460.51 265.35 L8460.51 290.304 L8429.88 290.304 Q8395.37 290.304 8382.24 277.503 Q8369.12 264.54 8369.12 230.513 L8369.12 131.995 L8347.24 131.995 L8347.24 108.823 L8369.12 108.823 L8369.12 57.296 L8399.1 57.296 Z\" fill=\"#000000\" fill-rule=\"evenodd\" fill-opacity=\"1\" /><polyline clip-path=\"url(#clip162)\" style=\"stroke:#009af9; stroke-width:32; stroke-opacity:1; fill:none\" points=\"\n",
       "  4414.95,5857.76 5714.46,3136.5 5868.06,2834.14 6051.95,2531.78 6261.45,2229.42 6507.8,1927.06 6830.69,1624.69 7286.17,1322.33 7860.07,1019.97 8522.73,717.606 \n",
       "  9265.51,415.244 \n",
       "  \"/>\n",
       "<circle clip-path=\"url(#clip162)\" cx=\"4414.95\" cy=\"5857.76\" r=\"57\" fill=\"#009af9\" fill-rule=\"evenodd\" fill-opacity=\"1\" stroke=\"#000000\" stroke-opacity=\"1\" stroke-width=\"12.8\"/>\n",
       "<circle clip-path=\"url(#clip162)\" cx=\"5714.46\" cy=\"3136.5\" r=\"57\" fill=\"#009af9\" fill-rule=\"evenodd\" fill-opacity=\"1\" stroke=\"#000000\" stroke-opacity=\"1\" stroke-width=\"12.8\"/>\n",
       "<circle clip-path=\"url(#clip162)\" cx=\"5868.06\" cy=\"2834.14\" r=\"57\" fill=\"#009af9\" fill-rule=\"evenodd\" fill-opacity=\"1\" stroke=\"#000000\" stroke-opacity=\"1\" stroke-width=\"12.8\"/>\n",
       "<circle clip-path=\"url(#clip162)\" cx=\"6051.95\" cy=\"2531.78\" r=\"57\" fill=\"#009af9\" fill-rule=\"evenodd\" fill-opacity=\"1\" stroke=\"#000000\" stroke-opacity=\"1\" stroke-width=\"12.8\"/>\n",
       "<circle clip-path=\"url(#clip162)\" cx=\"6261.45\" cy=\"2229.42\" r=\"57\" fill=\"#009af9\" fill-rule=\"evenodd\" fill-opacity=\"1\" stroke=\"#000000\" stroke-opacity=\"1\" stroke-width=\"12.8\"/>\n",
       "<circle clip-path=\"url(#clip162)\" cx=\"6507.8\" cy=\"1927.06\" r=\"57\" fill=\"#009af9\" fill-rule=\"evenodd\" fill-opacity=\"1\" stroke=\"#000000\" stroke-opacity=\"1\" stroke-width=\"12.8\"/>\n",
       "<circle clip-path=\"url(#clip162)\" cx=\"6830.69\" cy=\"1624.69\" r=\"57\" fill=\"#009af9\" fill-rule=\"evenodd\" fill-opacity=\"1\" stroke=\"#000000\" stroke-opacity=\"1\" stroke-width=\"12.8\"/>\n",
       "<circle clip-path=\"url(#clip162)\" cx=\"7286.17\" cy=\"1322.33\" r=\"57\" fill=\"#009af9\" fill-rule=\"evenodd\" fill-opacity=\"1\" stroke=\"#000000\" stroke-opacity=\"1\" stroke-width=\"12.8\"/>\n",
       "<circle clip-path=\"url(#clip162)\" cx=\"7860.07\" cy=\"1019.97\" r=\"57\" fill=\"#009af9\" fill-rule=\"evenodd\" fill-opacity=\"1\" stroke=\"#000000\" stroke-opacity=\"1\" stroke-width=\"12.8\"/>\n",
       "<circle clip-path=\"url(#clip162)\" cx=\"8522.73\" cy=\"717.606\" r=\"57\" fill=\"#009af9\" fill-rule=\"evenodd\" fill-opacity=\"1\" stroke=\"#000000\" stroke-opacity=\"1\" stroke-width=\"12.8\"/>\n",
       "<circle clip-path=\"url(#clip162)\" cx=\"9265.51\" cy=\"415.244\" r=\"57\" fill=\"#009af9\" fill-rule=\"evenodd\" fill-opacity=\"1\" stroke=\"#000000\" stroke-opacity=\"1\" stroke-width=\"12.8\"/>\n",
       "<path clip-path=\"url(#clip160)\" d=\"\n",
       "M8433.44 928.111 L9239.64 928.111 L9239.64 444.271 L8433.44 444.271  Z\n",
       "  \" fill=\"#ffffff\" fill-rule=\"evenodd\" fill-opacity=\"1\"/>\n",
       "<polyline clip-path=\"url(#clip160)\" style=\"stroke:#000000; stroke-width:16; stroke-opacity:1; fill:none\" points=\"\n",
       "  8433.44,928.111 9239.64,928.111 9239.64,444.271 8433.44,444.271 8433.44,928.111 \n",
       "  \"/>\n",
       "<polyline clip-path=\"url(#clip160)\" style=\"stroke:#009af9; stroke-width:16; stroke-opacity:1; fill:none\" points=\"\n",
       "  8490.57,686.191 8833.34,686.191 \n",
       "  \"/>\n",
       "<circle clip-path=\"url(#clip160)\" cx=\"8661.96\" cy=\"686.191\" r=\"92\" fill=\"#009af9\" fill-rule=\"evenodd\" fill-opacity=\"1\" stroke=\"#000000\" stroke-opacity=\"1\" stroke-width=\"20.48\"/>\n",
       "<path clip-path=\"url(#clip160)\" d=\"M 0 0 M8890.47 611.238 L8929.73 611.238 L8929.73 624.478 L8907.51 624.478 L8907.51 767.07 L8929.73 767.07 L8929.73 780.311 L8890.47 780.311 L8890.47 611.238 Z\" fill=\"#000000\" fill-rule=\"evenodd\" fill-opacity=\"1\" /><path clip-path=\"url(#clip160)\" d=\"M 0 0 M8963.71 617.071 L8963.71 668.459 L8947.97 668.459 L8947.97 617.071 L8963.71 617.071 M8998.71 617.071 L8998.71 668.459 L8982.97 668.459 L8982.97 617.071 L8998.71 617.071 Z\" fill=\"#000000\" fill-rule=\"evenodd\" fill-opacity=\"1\" /><path clip-path=\"url(#clip160)\" d=\"M 0 0 M9032.69 617.071 L9032.69 668.459 L9016.95 668.459 L9016.95 617.071 L9032.69 617.071 M9067.69 617.071 L9067.69 668.459 L9051.95 668.459 L9051.95 617.071 L9067.69 617.071 Z\" fill=\"#000000\" fill-rule=\"evenodd\" fill-opacity=\"1\" /><path clip-path=\"url(#clip160)\" d=\"M 0 0 M9125.38 611.238 L9125.38 780.311 L9086.12 780.311 L9086.12 767.07 L9108.25 767.07 L9108.25 624.478 L9086.12 624.478 L9086.12 611.238 L9125.38 611.238 Z\" fill=\"#000000\" fill-rule=\"evenodd\" fill-opacity=\"1\" /></svg>\n"
      ]
     },
     "metadata": {},
     "execution_count": 17
    }
   ],
   "cell_type": "code",
   "source": [
    "using Plots\n",
    "plot(\n",
    "    vcat(0.0, u_max),                # add the origin as a point\n",
    "    vcat(0.0, traction_magnitude),\n",
    "    linewidth=2,\n",
    "    title=\"Traction-displacement\",\n",
    "    label=[\"\"],\n",
    "    markershape=:auto\n",
    "    )\n",
    "ylabel!(\"Traction [Pa]\")\n",
    "xlabel!(\"Maximum deflection [m]\")"
   ],
   "metadata": {},
   "execution_count": 17
  },
  {
   "cell_type": "markdown",
   "source": [
    "*Figure 2.* Load-displacement-curve for the beam, showing a clear decrease\n",
    "in stiffness as more material starts to yield."
   ],
   "metadata": {}
  },
  {
   "cell_type": "markdown",
   "source": [
    "---\n",
    "\n",
    "*This notebook was generated using [Literate.jl](https://github.com/fredrikekre/Literate.jl).*"
   ],
   "metadata": {}
  }
 ],
 "nbformat_minor": 3,
 "metadata": {
  "language_info": {
   "file_extension": ".jl",
   "mimetype": "application/julia",
   "name": "julia",
   "version": "1.5.2"
  },
  "kernelspec": {
   "name": "julia-1.5",
   "display_name": "Julia 1.5.2",
   "language": "julia"
  }
 },
 "nbformat": 4
}
