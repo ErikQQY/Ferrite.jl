{
 "cells": [
  {
   "cell_type": "markdown",
   "source": [
    "# Porous media"
   ],
   "metadata": {}
  },
  {
   "cell_type": "markdown",
   "source": [
    "Porous media is a two-phase material, consisting of solid parts and a liquid occupying\n",
    "the pores inbetween.\n",
    "Using the porous media theory, we can model such a material without explicitly\n",
    "resolving the microstructure, but by considering the interactions between the\n",
    "solid and liquid. In this example, we will additionally consider larger linear\n",
    "elastic solid aggregates that are impermeable. Hence, there is no liquids in\n",
    "these particles and the only unknown variable is the displacement field `:u`.\n",
    "In the porous media, denoted the matrix, we have both the displacement field,\n",
    "`:u`, as well as the liquid pressure, `:p`, as unknown. The computational domain\n",
    "is shown below\n",
    "\n",
    "![The porous media consisting of impermeable solid aggregates and a permeable porous matrix.](porous_media.svg)\n",
    "![Pressure evolution.](porous_media.gif)\n",
    "\n",
    "## Theory of porous media\n",
    "The strong forms for the mass balance of the liquid is given as\n",
    "$$\n",
    "   \\frac{\\mathrm{d}_\\mathrm{s} n \\rho_\\mathrm{l}}{\\mathrm{d}t}\n",
    "   + \\mathrm{div}\\left(n \\rho_\\mathrm{l} \\tilde{\\boldsymbol{v}}_\\mathrm{l}\\right)\n",
    "   + n \\rho_\\mathrm{l} \\mathrm{tr}(\\boldsymbol{\\dot{\\epsilon}}) = 0\n",
    "$$\n",
    "where $\\mathrm{d}_\\mathrm{s}/\\mathrm{d}t$ is the time of a quantity following the\n",
    "solid skeleton motion, described by the displacements $\\boldsymbol{u}$. $n$ is the\n",
    "porosity (i.e. volume fraction of pores, assumed constant due to small strains),\n",
    "$\\rho_\\mathrm{l}$ is the liquid density,\n",
    "$\\tilde{\\boldsymbol{v}}_\\mathrm{l}$ is the liquid velocity relative to the solid skeleton\n",
    "motion, and $\\boldsymbol{\\epsilon}$ is the strain tensor for the solid skeleton,\n",
    "$\\boldsymbol{\\epsilon}=\\left[\\mathrm{grad}(\\boldsymbol{u})\\right]^\\mathrm{sym}$.\n",
    "The functions $\\mathrm{div}()$ and $\\mathrm{grad}()$ represent the divergence and\n",
    "gradient, respectively. Furthermore, the balance of momentum is given as\n",
    "$$\n",
    "   \\mathrm{div}(\\boldsymbol{\\sigma}) = \\boldsymbol{0}\n",
    "$$\n",
    "where $\\boldsymbol{\\sigma}$ is the Cauchy stress. For simplicity in this example,\n",
    "body loads, e.g. due to gravity, are not included.\n",
    "\n",
    "### Constitutive equations\n",
    "Darcy's law, excluding gravity loads, is used for the fluid flow through the porous media\n",
    "$$\n",
    "   n \\tilde{\\boldsymbol{v}}_\\mathrm{l} = -[k/\\mu] \\mathrm{grad}(p)\n",
    "$$\n",
    "A constant fluid bulk modulus, $K_\\mathrm{l}$, gives the relationship between fluid\n",
    "pressure, $p$, and density, $\\rho_\\mathrm{l}$, as\n",
    "$$\n",
    "\\dot{\\rho}_\\mathrm{l} = \\frac{\\rho_\\mathrm{l}}{K_\\mathrm{l}} \\dot{p}\n",
    "$$\n",
    "Finally, we use the most simple Terzaghi effective stress combined with linear\n",
    "isotropic elasticity\n",
    "$$\n",
    "\\boldsymbol{\\sigma} = \\boldsymbol{\\mathrm{E}}:\\boldsymbol{\\epsilon} - p\\boldsymbol{I} = 2G \\boldsymbol{\\epsilon}^\\mathrm{dev} + 3 K \\boldsymbol{\\epsilon}^\\mathrm{vol} - p \\boldsymbol{I}\n",
    "$$\n",
    "### Weak form\n",
    "From the above strong form with constitutive equations (and including boundary conditions),\n",
    "we obtain the following weak forms for the mass balance,\n",
    "$$\n",
    "  \\int_\\Gamma \\delta p \\tilde{\\boldsymbol{v}}_\\mathrm{l} \\cdot \\boldsymbol{n} \\mathrm{d}\\Gamma =\n",
    "  \\int_\\Omega \\mathrm{grad}(\\delta p) \\cdot \\mathrm{grad}(p) [k/n] \\mathrm{d} \\Omega +\n",
    "  \\int_\\Omega \\delta p \\left[\\dot{p}/K_\\mathrm{l} + \\mathrm{div}\\left(\\dot{\\boldsymbol{u}}\\right)\\right] \\mathrm{d}\\Omega\n",
    "$$\n",
    "and for the momentum balance\n",
    "$$\n",
    "  \\int_\\Gamma \\boldsymbol{\\delta u} \\cdot \\boldsymbol{t} \\mathrm{d} \\Gamma =\n",
    "  \\int_\\Omega \\mathrm{grad}\\left(\\boldsymbol{\\delta u}\\right) : \\left[ \\boldsymbol{\\mathrm{E}} : \\mathrm{grad}(\\boldsymbol{u}) - p \\boldsymbol{I}\\right] \\mathrm{d} \\Omega\n",
    "$$\n",
    "### Finite element form\n",
    "Discretizing in space using finite elements, we obtain the matrix equation\n",
    "$f_{i}^\\mathrm{ext}=K_{ij} a_j + L_{ij} \\dot{a}_j$ where $f^\\mathrm{ext}$ are the external\n",
    "\"forces\", $K$ the stiffness matrix, $a$ the unknown degrees of freedom, $L$ the\n",
    "(dampening) matrix that is multiplied with the rate of the unknown degrees of freedom.\n",
    "For each relevant part, we can specify these matrices and vectors as\n",
    "$$\n",
    "\\begin{align*}\n",
    "K_{ij}^\\mathrm{p} &= \\int_\\Omega \\mathrm{grad}\\left(\\delta N\\supscr{p}_i\\right)\\cdot \\left[\\frac{k}{n}\\mathrm{grad}\\left(N\\supscr{p}_j\\right)\\right] \\mathrm{d}\\Omega \\\\\n",
    "L_{ij}^\\mathrm{pp} &= \\int_\\Omega \\delta N_i^\\mathrm{p} N_j^\\mathrm{p}/K_\\mathrm{l} \\mathrm{d}\\Omega \\\\\n",
    "L_{ij}^\\mathrm{pu} &= \\int_\\Omega \\delta N_i^\\mathrm{p} \\mathrm{div}\\left(\\boldsymbol{N}_j^\\mathrm{u}\\right) \\mathrm{d}\\Omega \\\\\n",
    "K_{ij}^\\mathrm{uu} &= - \\int_\\Omega \\mathrm{grad}\\left(\\boldsymbol{\\delta N}^\\mathrm{u}_i\\right) : \\boldsymbol{\\mathrm{E}} : \\mathrm{grad}\\left(\\boldsymbol{N}_j^\\mathrm{u}\\right) \\mathrm{d} \\Omega \\\\\n",
    "K_{ij}^\\mathrm{up} &= \\int_\\Omega \\mathrm{div}\\left(\\boldsymbol{\\delta N}_i^\\mathrm{u}\\right) N_j^\\mathrm{p} \\mathrm{d}\\Omega \\\\\n",
    "f_{i}^\\mathrm{p,ext} &= \\int_\\Gamma \\delta N_i^\\mathrm{p} \\tilde{\\boldsymbol{v}}_\\mathrm{l} \\cdot \\boldsymbol{n} \\mathrm{d}\\Gamma\\\\\n",
    "f_{i}^\\mathrm{u,ext} &= -\\int_\\Gamma \\boldsymbol{\\delta N}_i^\\mathrm{u} \\cdot \\boldsymbol{t} \\mathrm{d} \\Gamma\n",
    "\\end{align*}\n",
    "$$\n",
    "This results in the equation system\n",
    "$$\n",
    "\\begin{align*}\n",
    "f_{i}^\\mathrm{p,ext} &= K_{ij}^\\mathrm{pp} a_{j}^\\mathrm{p} + L_{ij}^\\mathrm{pp} \\dot{a}_j^\\mathrm{p} + L_{ij}^\\mathrm{pu} \\dot{a}_j^\\mathrm{u} \\\\\n",
    "f_{j}^\\mathrm{u,ext} &= K_{ij}^\\mathrm{up} a_{j}^\\mathrm{p} + K_{ij}^\\mathrm{uu} a_j^\\mathrm{u}\n",
    "\\end{align*}\n",
    "$$\n",
    "where the subscripts $\\mathrm{p}$ and $\\mathrm{u}$ gives the part of the vector pertinent to that\n",
    "degree of freedom (pressure or displacement). The time discretized form of the above equation becomes\n",
    "$$\n",
    "\\begin{align*}\n",
    "\\Delta t f_{i}^\\mathrm{p,ext} + L_{ij}^\\mathrm{pp} a_j^\\mathrm{p,old} + L_{ij}^\\mathrm{pu} a_j^\\mathrm{u,old} &= \\Delta t K_{ij}^\\mathrm{pp} a_{j}^\\mathrm{p} + L_{ij}^\\mathrm{pp} a_j^\\mathrm{p} + L_{ij}^\\mathrm{pu} a_j^\\mathrm{u} \\\\\n",
    "f_{j}^\\mathrm{u,ext} &= K_{ij}^\\mathrm{up} a_{j}^\\mathrm{p} + K_{ij}^\\mathrm{uu} a_j^\\mathrm{u}\n",
    "\\end{align*}\n",
    "$$\n",
    "As the matrices are constant, it suffices to assemble them once and reuse for each time step. However, in this example we assemble in each time step,\n",
    "calculating only one stiffness matrix. The contributions from the old values, on the left hand side, are considered as external loads.\n",
    "This avoids having two global matrices, simplifying the present example and making it more suitable to consider\n",
    "nonlinear problems. With all the theory completed, let's start implementing a solution to this problem in Ferrite.\n",
    "Material parameters are hard-coded in for simplicity.\n",
    "\n",
    "## Implementation\n",
    "We now solve the problem step by step. The full program with fewer comments is found in\n",
    "\n",
    "Required packages"
   ],
   "metadata": {}
  },
  {
   "outputs": [],
   "cell_type": "code",
   "source": [
    "using Ferrite, FerriteMeshParser, Tensors"
   ],
   "metadata": {},
   "execution_count": 1
  },
  {
   "cell_type": "markdown",
   "source": [
    "### Elasticity\n",
    "We then define the stiffness tensor $\\boldsymbol{\\mathrm{E}}$ for linear isotropic elasticity\n",
    "and plane strain"
   ],
   "metadata": {}
  },
  {
   "outputs": [
    {
     "output_type": "execute_result",
     "data": {
      "text/plain": "elastic_stiffness (generic function with 3 methods)"
     },
     "metadata": {},
     "execution_count": 2
    }
   ],
   "cell_type": "code",
   "source": [
    "function elastic_stiffness(E=20.e3, ν=0.3)\n",
    "    G = E / 2(1 + ν)\n",
    "    K = E / 3(1 - 2ν)\n",
    "    I2 = one(SymmetricTensor{2,2})\n",
    "    I4vol = I2⊗I2\n",
    "    I4dev = minorsymmetric(otimesu(I2,I2)) - I4vol / 3\n",
    "    return 2G*I4dev + K*I4vol\n",
    "end"
   ],
   "metadata": {},
   "execution_count": 2
  },
  {
   "cell_type": "markdown",
   "source": [
    "### Element routines\n",
    "Next, we define the element routines. First for the case of the linear elastic impermeable solid aggregates\n",
    "In this simplified example, we dispatch on the cellvalues which are only `CellVectorValues` for the\n",
    "solid aggregates. Note that the unused inputs here are used for the porous matrix below."
   ],
   "metadata": {}
  },
  {
   "outputs": [
    {
     "output_type": "execute_result",
     "data": {
      "text/plain": "element_routine! (generic function with 1 method)"
     },
     "metadata": {},
     "execution_count": 3
    }
   ],
   "cell_type": "code",
   "source": [
    "function element_routine!(Ke, _, cell, _, cv::CellVectorValues, _, _)\n",
    "    reinit!(cv, cell)\n",
    "    n_basefuncs = getnbasefunctions(cv)\n",
    "    fill!(Ke, 0)\n",
    "    for q_point in 1:getnquadpoints(cv)\n",
    "        dσdϵ = elastic_stiffness()\n",
    "        dΩ = getdetJdV(cv, q_point)\n",
    "        for i in 1:n_basefuncs\n",
    "            δ∇N = shape_symmetric_gradient(cv, q_point, i)\n",
    "            for j in 1:n_basefuncs\n",
    "                ∇N = shape_symmetric_gradient(cv, q_point, j)\n",
    "                Ke[i, j] += δ∇N ⊡ dσdϵ ⊡ ∇N * dΩ\n",
    "            end\n",
    "        end\n",
    "    end\n",
    "end"
   ],
   "metadata": {},
   "execution_count": 3
  },
  {
   "cell_type": "markdown",
   "source": [
    "Due to the two fields, `:p` and `:u`, as well as more physics, in the porous matrix,\n",
    "we require a few more inputs to get the element force and stiffness. We dispatch\n",
    "on the cellvalues being a tuple of `CellVectorValues` and `CellScalarValues`."
   ],
   "metadata": {}
  },
  {
   "outputs": [
    {
     "output_type": "execute_result",
     "data": {
      "text/plain": "element_routine! (generic function with 2 methods)"
     },
     "metadata": {},
     "execution_count": 4
    }
   ],
   "cell_type": "code",
   "source": [
    "function element_routine!(Ke, fext, cell, fh::FieldHandler, cvs::Tuple{CellVectorValues, CellScalarValues}, a_old, Δt)\n",
    "    # Setup cellvalues and give easier names\n",
    "    reinit!.(cvs, (cell,))\n",
    "    cv_u, cv_p = cvs\n",
    "    num_u_basefuncs, num_p_basefuncs = getnbasefunctions.(cvs)\n",
    "\n",
    "    # Check that cellvalues are compatible with each other (should have same quadrature rule)\n",
    "    @assert getnquadpoints(cv_u) == getnquadpoints(cv_p)\n",
    "\n",
    "    # Reset element stiffness and external force\n",
    "    fill!(Ke, 0.0)\n",
    "    fill!(fext, 0.0)\n",
    "\n",
    "    # Assign views to the matrix and vector parts\n",
    "    udofs = dof_range(fh, :u)\n",
    "    pdofs = dof_range(fh, :p)\n",
    "    Kuu = @view Ke[udofs, udofs]\n",
    "    Kpu = @view Ke[pdofs, udofs]\n",
    "    Kup = @view Ke[udofs, pdofs]\n",
    "    Kpp = @view Ke[pdofs, pdofs]\n",
    "    # fu = @view fext[udofs]    # Not used, traction is zero or displacements prescribed\n",
    "    fp = @view fext[pdofs]\n",
    "    au_old = @view a_old[udofs]\n",
    "    ap_old = @view a_old[pdofs]\n",
    "\n",
    "    # Material parameters\n",
    "    μ = 1.e-4       # [Ns/mm^2] Dynamic viscosity\n",
    "    k = 5.0e-6      # [mm^2] Intrinsic permeability\n",
    "    k_darcy = k/μ\n",
    "    n = 0.8         # [-] Porosity\n",
    "    K_liquid = 2.e3 # [MPa] Liquid bulk modulus\n",
    "    dσdϵ = elastic_stiffness()\n",
    "\n",
    "    # Assemble stiffness and force vectors\n",
    "    for q_point in 1:getnquadpoints(cv_u)\n",
    "        dΩ = getdetJdV(cv_u, q_point)\n",
    "        # Variation of u_i\n",
    "        for i in 1:num_u_basefuncs\n",
    "            ∇δNu = shape_symmetric_gradient(cv_u, q_point, i)\n",
    "            div_δNu = shape_divergence(cv_u, q_point, i)\n",
    "            for j in 1:num_u_basefuncs\n",
    "                ∇Nu = shape_symmetric_gradient(cv_u, q_point, j)\n",
    "                Kuu[i, j] -= ∇δNu ⊡ dσdϵ ⊡ ∇Nu * dΩ\n",
    "            end\n",
    "            for j in 1:num_p_basefuncs\n",
    "                Np = shape_value(cv_p, q_point, j)\n",
    "                Kup[i, j] += div_δNu * Np\n",
    "            end\n",
    "        end\n",
    "        # Variation of p_i\n",
    "        for i in 1:num_p_basefuncs\n",
    "            δNp = shape_value(cv_p, q_point, i)\n",
    "            ∇δNp = shape_gradient(cv_p, q_point, i)\n",
    "            for j in 1:num_u_basefuncs\n",
    "                div_Nu = shape_divergence(cv_u, q_point, j)\n",
    "                Lpu_ij = δNp*div_Nu*dΩ\n",
    "                Kpu[i,j] += Lpu_ij\n",
    "                fp[i] += Lpu_ij*au_old[j]\n",
    "            end\n",
    "            for j in 1:num_p_basefuncs\n",
    "                ∇Np = shape_gradient(cv_p, q_point, j)\n",
    "                Np = shape_value(cv_p, q_point, j)\n",
    "                Kpp_ij = (k_darcy/n) * ∇δNp ⋅ ∇Np * dΩ\n",
    "                Lpp_ij = δNp*Np/K_liquid\n",
    "                Kpp[i,j] += Δt*Kpp_ij + Lpp_ij\n",
    "                fp[i] += Lpp_ij*ap_old[j]\n",
    "            end\n",
    "        end\n",
    "    end\n",
    "end"
   ],
   "metadata": {},
   "execution_count": 4
  },
  {
   "cell_type": "markdown",
   "source": [
    "### Assembly\n",
    "In order to assemble the contribution from each cell, we first\n",
    "loop over each field with the following function."
   ],
   "metadata": {}
  },
  {
   "outputs": [
    {
     "output_type": "execute_result",
     "data": {
      "text/plain": "doassemble! (generic function with 1 method)"
     },
     "metadata": {},
     "execution_count": 5
    }
   ],
   "cell_type": "code",
   "source": [
    "function doassemble!(K, f, dh, cvs, a_old, Δt)\n",
    "    assembler = start_assemble(K, f)\n",
    "    for (fh, cv) in zip(dh.fieldhandlers, cvs)\n",
    "        doassemble!(assembler, dh, cv, fh, a_old, Δt)\n",
    "    end\n",
    "end"
   ],
   "metadata": {},
   "execution_count": 5
  },
  {
   "cell_type": "markdown",
   "source": [
    "When calling the `doassemble!` with a specific `FieldHandler`,\n",
    "we can then loop over all cells in its cellset. This ensures\n",
    "that the `CellIterator` and `element_routine!` is type stable."
   ],
   "metadata": {}
  },
  {
   "outputs": [
    {
     "output_type": "execute_result",
     "data": {
      "text/plain": "doassemble! (generic function with 2 methods)"
     },
     "metadata": {},
     "execution_count": 6
    }
   ],
   "cell_type": "code",
   "source": [
    "function doassemble!(assembler, dh, cv, fh::FieldHandler, a_old, Δt)\n",
    "    n = ndofs_per_cell(dh, first(fh.cellset))\n",
    "    Ke = zeros(n,n)\n",
    "    fe = zeros(n)\n",
    "    for cell in CellIterator(dh, collect(fh.cellset))\n",
    "        element_routine!(Ke, fe, cell, fh, cv, a_old[celldofs(cell)], Δt)\n",
    "        assemble!(assembler, celldofs(cell), Ke, fe)\n",
    "    end\n",
    "end"
   ],
   "metadata": {},
   "execution_count": 6
  },
  {
   "cell_type": "markdown",
   "source": [
    "### Mesh import\n",
    "In this example, we import the mesh from an Abaqus input file using `FerriteMeshParser`'s\n",
    "`get_ferrite_grid` function. We then create one cellset for each phase (solid and porous)\n",
    "for each element type. These 4 sets will later be used in their own `FieldHandler`"
   ],
   "metadata": {}
  },
  {
   "outputs": [
    {
     "output_type": "execute_result",
     "data": {
      "text/plain": "get_grid (generic function with 1 method)"
     },
     "metadata": {},
     "execution_count": 7
    }
   ],
   "cell_type": "code",
   "source": [
    "function get_grid()\n",
    "    # Import grid from abaqus mesh\n",
    "    grid = get_ferrite_grid(joinpath(@__DIR__, \"porous_media_0p25.inp\"))\n",
    "\n",
    "    # Create cellsets for each fieldhandler\n",
    "    addcellset!(grid, \"solid3\", intersect(getcellset(grid, \"solid\"), getcellset(grid, \"CPS3\")))\n",
    "    addcellset!(grid, \"solid4\", intersect(getcellset(grid, \"solid\"), getcellset(grid, \"CPS4R\")))\n",
    "    addcellset!(grid, \"porous3\", intersect(getcellset(grid, \"porous\"), getcellset(grid, \"CPS3\")))\n",
    "    addcellset!(grid, \"porous4\", intersect(getcellset(grid, \"porous\"), getcellset(grid, \"CPS4R\")))\n",
    "    return grid\n",
    "end"
   ],
   "metadata": {},
   "execution_count": 7
  },
  {
   "cell_type": "markdown",
   "source": [
    "### Problem setup\n",
    "Define the finite element interpolation, integration, and boundary conditions."
   ],
   "metadata": {}
  },
  {
   "outputs": [
    {
     "output_type": "execute_result",
     "data": {
      "text/plain": "setup_problem (generic function with 1 method)"
     },
     "metadata": {},
     "execution_count": 8
    }
   ],
   "cell_type": "code",
   "source": [
    "function setup_problem(;t_rise=0.1, p_max=100.0)\n",
    "\n",
    "    grid = get_grid()\n",
    "\n",
    "    # Setup the interpolation and integration rules\n",
    "    dim=Ferrite.getdim(grid)\n",
    "    ip3_lin = Lagrange{dim, RefTetrahedron, 1}()\n",
    "    ip4_lin = Lagrange{dim, RefCube, 1}()\n",
    "    ip3_quad = Lagrange{dim, RefTetrahedron, 2}()\n",
    "    ip4_quad = Lagrange{dim, RefCube, 2}()\n",
    "    qr3 = QuadratureRule{dim, RefTetrahedron}(1)\n",
    "    qr4 = QuadratureRule{dim, RefCube}(2)\n",
    "\n",
    "    # Setup the MixedDofHandler\n",
    "    dh = MixedDofHandler(grid)\n",
    "    push!(dh, FieldHandler([Field(:u, ip3_lin, dim)], getcellset(grid,\"solid3\")))\n",
    "    push!(dh, FieldHandler([Field(:u, ip4_lin, dim)], getcellset(grid,\"solid4\")))\n",
    "    push!(dh, FieldHandler([Field(:u, ip3_quad, dim), Field(:p, ip3_lin, 1)], getcellset(grid,\"porous3\")))\n",
    "    push!(dh, FieldHandler([Field(:u, ip4_quad, dim), Field(:p, ip4_lin, 1)], getcellset(grid,\"porous4\")))\n",
    "    close!(dh)\n",
    "\n",
    "    # Setup cellvalues with the same order as the FieldHandlers in the dh\n",
    "    # - Linear displacement elements in the solid domain\n",
    "    # - Taylor hood (quadratic displacement, linear pressure) and linear geometry in porous domain\n",
    "    cv = ( CellVectorValues(qr3, ip3_lin),\n",
    "           CellVectorValues(qr4, ip4_lin),\n",
    "           (CellVectorValues(qr3, ip3_quad, ip3_lin), CellScalarValues(qr3, ip3_lin)),\n",
    "           (CellVectorValues(qr4, ip4_quad, ip4_lin), CellScalarValues(qr4, ip4_lin)) )\n",
    "\n",
    "    # Add boundary conditions, use code from PR427.jl to make more general\n",
    "    ch = ConstraintHandler(dh);\n",
    "    # With #PR427 (keep code for if/when it is merged)\n",
    "    # add!(ch, Dirichlet(:u, getfaceset(grid, \"bottom\"), (x, t) -> zero(Vec{2}), [1,2]))\n",
    "    # add!(ch, Dirichlet(:p, getfaceset(grid, \"bottom_p\"), (x, t) -> 0.0))\n",
    "    # add!(ch, Dirichlet(:p, getfaceset(grid, \"top_p\"), (x, t) -> p_max*clamp(t/t_rise,0,1)))\n",
    "    # With master (only works if no tri-elements on boundary)\n",
    "    add!(ch, dh.fieldhandlers[2], Dirichlet(:u, getfaceset(grid, \"bottom\"), (x, t) -> zero(Vec{2}), [1,2]))\n",
    "    add!(ch, dh.fieldhandlers[4], Dirichlet(:u, getfaceset(grid, \"bottom_p\"), (x, t) -> zero(Vec{2}), [1,2]))\n",
    "    add!(ch, dh.fieldhandlers[4], Dirichlet(:p, getfaceset(grid, \"bottom_p\"), (x, t) -> 0.0))\n",
    "    add!(ch, dh.fieldhandlers[4], Dirichlet(:p, getfaceset(grid, \"top_p\"), (x, t) -> p_max*clamp(t/t_rise,0,1)))\n",
    "    close!(ch)\n",
    "    return dh, ch, cv\n",
    "end"
   ],
   "metadata": {},
   "execution_count": 8
  },
  {
   "cell_type": "markdown",
   "source": [
    "### Solving\n",
    "Given the `MixedDofHandler`, `ConstraintHandler`, and `CellValues`,\n",
    "we can solve the problem by stepping through the time history"
   ],
   "metadata": {}
  },
  {
   "outputs": [
    {
     "output_type": "execute_result",
     "data": {
      "text/plain": "solve (generic function with 1 method)"
     },
     "metadata": {},
     "execution_count": 9
    }
   ],
   "cell_type": "code",
   "source": [
    "function solve(dh, ch, cv; Δt=0.025, t_total=1.0)\n",
    "    # Assemble stiffness matrix\n",
    "    K = create_sparsity_pattern(dh);\n",
    "    f = zeros(ndofs(dh))\n",
    "    a = zeros(ndofs(dh))\n",
    "    pvd = paraview_collection(\"porous_media.pvd\");\n",
    "    for (step, t) = enumerate(0:Δt:t_total)\n",
    "        if t>0\n",
    "            doassemble!(K, f, dh, cv, a, Δt)\n",
    "            update!(ch, t)\n",
    "            apply!(K, f, ch)\n",
    "            a .= K\\f\n",
    "        end\n",
    "        vtk_grid(\"porous_media-$step\", dh) do vtk\n",
    "            vtk_point_data(vtk, dh, a)\n",
    "            vtk_save(vtk)\n",
    "            pvd[step] = vtk\n",
    "        end\n",
    "    end\n",
    "    vtk_save(pvd);\n",
    "end"
   ],
   "metadata": {},
   "execution_count": 9
  },
  {
   "cell_type": "markdown",
   "source": [
    "Finally we call the functions to actually run the code"
   ],
   "metadata": {}
  },
  {
   "outputs": [
    {
     "name": "stdout",
     "output_type": "stream",
     "text": [
      "┌ Warning: You are trying to add a constraint to a face that is not in the cellset of the fieldhandler. The face will be skipped.\n",
      "└ @ Ferrite ~/work/Ferrite.jl/Ferrite.jl/src/Dofs/ConstraintHandler.jl:805\n",
      "┌ Warning: You are trying to add a constraint to a face that is not in the cellset of the fieldhandler. The face will be skipped.\n",
      "└ @ Ferrite ~/work/Ferrite.jl/Ferrite.jl/src/Dofs/ConstraintHandler.jl:805\n",
      "┌ Warning: You are trying to add a constraint to a face that is not in the cellset of the fieldhandler. The face will be skipped.\n",
      "└ @ Ferrite ~/work/Ferrite.jl/Ferrite.jl/src/Dofs/ConstraintHandler.jl:805\n",
      "┌ Warning: You are trying to add a constraint to a face that is not in the cellset of the fieldhandler. The face will be skipped.\n",
      "└ @ Ferrite ~/work/Ferrite.jl/Ferrite.jl/src/Dofs/ConstraintHandler.jl:805\n",
      "┌ Warning: You are trying to add a constraint to a face that is not in the cellset of the fieldhandler. The face will be skipped.\n",
      "└ @ Ferrite ~/work/Ferrite.jl/Ferrite.jl/src/Dofs/ConstraintHandler.jl:805\n",
      "┌ Warning: You are trying to add a constraint to a face that is not in the cellset of the fieldhandler. The face will be skipped.\n",
      "└ @ Ferrite ~/work/Ferrite.jl/Ferrite.jl/src/Dofs/ConstraintHandler.jl:805\n",
      "┌ Warning: You are trying to add a constraint to a face that is not in the cellset of the fieldhandler. The face will be skipped.\n",
      "└ @ Ferrite ~/work/Ferrite.jl/Ferrite.jl/src/Dofs/ConstraintHandler.jl:805\n",
      "┌ Warning: You are trying to add a constraint to a face that is not in the cellset of the fieldhandler. The face will be skipped.\n",
      "└ @ Ferrite ~/work/Ferrite.jl/Ferrite.jl/src/Dofs/ConstraintHandler.jl:805\n",
      "┌ Warning: You are trying to add a constraint to a face that is not in the cellset of the fieldhandler. The face will be skipped.\n",
      "└ @ Ferrite ~/work/Ferrite.jl/Ferrite.jl/src/Dofs/ConstraintHandler.jl:805\n",
      "┌ Warning: You are trying to add a constraint to a face that is not in the cellset of the fieldhandler. The face will be skipped.\n",
      "└ @ Ferrite ~/work/Ferrite.jl/Ferrite.jl/src/Dofs/ConstraintHandler.jl:805\n",
      "┌ Warning: You are trying to add a constraint to a face that is not in the cellset of the fieldhandler. The face will be skipped.\n",
      "└ @ Ferrite ~/work/Ferrite.jl/Ferrite.jl/src/Dofs/ConstraintHandler.jl:805\n",
      "┌ Warning: You are trying to add a constraint to a face that is not in the cellset of the fieldhandler. The face will be skipped.\n",
      "└ @ Ferrite ~/work/Ferrite.jl/Ferrite.jl/src/Dofs/ConstraintHandler.jl:805\n",
      "┌ Warning: You are trying to add a constraint to a face that is not in the cellset of the fieldhandler. The face will be skipped.\n",
      "└ @ Ferrite ~/work/Ferrite.jl/Ferrite.jl/src/Dofs/ConstraintHandler.jl:805\n"
     ]
    },
    {
     "output_type": "execute_result",
     "data": {
      "text/plain": "42-element Vector{String}:\n \"porous_media.pvd\"\n \"porous_media-1.vtu\"\n \"porous_media-2.vtu\"\n \"porous_media-3.vtu\"\n \"porous_media-4.vtu\"\n \"porous_media-5.vtu\"\n \"porous_media-6.vtu\"\n \"porous_media-7.vtu\"\n \"porous_media-8.vtu\"\n \"porous_media-9.vtu\"\n ⋮\n \"porous_media-33.vtu\"\n \"porous_media-34.vtu\"\n \"porous_media-35.vtu\"\n \"porous_media-36.vtu\"\n \"porous_media-37.vtu\"\n \"porous_media-38.vtu\"\n \"porous_media-39.vtu\"\n \"porous_media-40.vtu\"\n \"porous_media-41.vtu\""
     },
     "metadata": {},
     "execution_count": 10
    }
   ],
   "cell_type": "code",
   "source": [
    "dh, ch, cv = setup_problem()\n",
    "solve(dh, ch, cv)"
   ],
   "metadata": {},
   "execution_count": 10
  },
  {
   "cell_type": "markdown",
   "source": [
    "---\n",
    "\n",
    "*This notebook was generated using [Literate.jl](https://github.com/fredrikekre/Literate.jl).*"
   ],
   "metadata": {}
  }
 ],
 "nbformat_minor": 3,
 "metadata": {
  "language_info": {
   "file_extension": ".jl",
   "mimetype": "application/julia",
   "name": "julia",
   "version": "1.7.2"
  },
  "kernelspec": {
   "name": "julia-1.7",
   "display_name": "Julia 1.7.2",
   "language": "julia"
  }
 },
 "nbformat": 4
}
