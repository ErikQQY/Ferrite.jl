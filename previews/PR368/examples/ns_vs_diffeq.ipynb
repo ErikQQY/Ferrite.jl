{
 "cells": [
  {
   "cell_type": "markdown",
   "source": [
    "# Incompressible Navier-Stokes Equations via [DifferentialEquations.jl]()\n",
    "\n",
    "![](vortex-shedding.gif)\n",
    "\n",
    "\n",
    "In this example we focus on a simple but visually appealing problem from\n",
    "fluid dynamics, namely vortex shedding, which is also known as\n",
    "von-Karman vortex streets, to show how to utilize [DifferentialEquations.jl]()\n",
    "in tandem with [Ferrite.jl]().\n",
    "\n",
    "## Remarks on DifferentialEquations.jl\n",
    "\n",
    "The \"timestep solvers\" of [DifferentialEquations.jl]() assume that that the\n",
    "problem is provided in mass matrix form. The incompressible Navier-Stokes\n",
    "equations can be rewritten in this form after discretization, yielding a DAE.\n",
    "\n",
    "## Incompressible Navier-Stokes Equations\n",
    "\n",
    "### Strong Form\n",
    "\n",
    "The incompressible Navier-Stokes equations can be stated as the system\n",
    "\n",
    "$$\n",
    " \\begin{aligned}\n",
    "   \\partial_t v &= \\eta \\Delta v - (v \\cdot \\nabla) v - \\nabla p \\\\\n",
    "   0 &= \\nabla \\cdot v\n",
    " \\end{aligned}\n",
    "$$\n",
    "\n",
    "where $v$ is the unknown velocity field, $p$ the unknown pressure field\n",
    "and $\\eta$ the dynamic viscosity. We assume constant density of the fluid.\n",
    "\n",
    "![](rect-domain-with-hole.png)\n",
    "\n",
    "Here $\\Omega$ denotes the fluid domain, $\\partial \\Omega_{in}$, $\\partial \\Omega_{out}$ BCs (no-slip and inflow/outflow)...\n",
    "\n",
    "### Weak Form\n",
    "\n",
    "$$\n",
    " \\begin{aligned}\n",
    "   \\int \\partial_t v \\cdot \\phi &= - \\int \\nu \\nabla v : \\nabla \\phi - \\int (v \\cdot \\nabla) v \\cdot \\phi + \\int p \\nabla \\cdot \\phi + \\int_{\\partial \\Omega_{out}} \\\\\n",
    "   0 &= \\int \\nabla \\cdot v \\psi\n",
    " \\end{aligned}\n",
    "$$\n",
    "\n",
    "where $\\phi$ and $\\psi$ are suitable test functions.\n",
    "\n",
    "Now we can discretize the problem as usual with the finite element method\n",
    "utilizing Taylor-Hood elements (Q2Q1) to yield a stable discretization.\n",
    "\n",
    "$$\n",
    " M [...] = K [...] + N([...])\n",
    "$$\n",
    "\n",
    "\n",
    "## Commented Program\n",
    "\n",
    "Now we solve the problem in Ferrite. What follows is a program spliced with comments.\n",
    "The full program, without comments, can be found in the next section.\n",
    "\n",
    "First we load Ferrite, and some other packages we need"
   ],
   "metadata": {}
  },
  {
   "outputs": [],
   "cell_type": "code",
   "source": [
    "using Ferrite, SparseArrays, BlockArrays, OrdinaryDiffEq, LinearAlgebra, UnPack"
   ],
   "metadata": {},
   "execution_count": 1
  },
  {
   "cell_type": "markdown",
   "source": [
    "We start  generating a simple grid with 20x20 quadrilateral elements\n",
    "using `generate_grid`. The generator defaults to the unit square,\n",
    "so we don't need to specify the corners of the domain."
   ],
   "metadata": {}
  },
  {
   "outputs": [],
   "cell_type": "code",
   "source": [
    "x_cells = 220\n",
    "y_cells = 41\n",
    "grid = generate_grid(Quadrilateral, (x_cells, y_cells), Vec{2}((0.0, 0.0)), Vec{2}((2.2, 0.41)));"
   ],
   "metadata": {},
   "execution_count": 2
  },
  {
   "cell_type": "markdown",
   "source": [
    "Carve hole in the mesh and update boundaries."
   ],
   "metadata": {}
  },
  {
   "outputs": [
    {
     "output_type": "execute_result",
     "data": {
      "text/plain": "80-element Vector{Int64}:\n 3319\n 3320\n 3321\n 3322\n 3537\n 3538\n 3539\n 3540\n 3541\n 3542\n    ⋮\n 5080\n 5081\n 5082\n 5083\n 5084\n 5299\n 5300\n 5301\n 5302"
     },
     "metadata": {},
     "execution_count": 3
    }
   ],
   "cell_type": "code",
   "source": [
    "cell_indices = filter(ci->norm(mean(map(i->grid.nodes[i].x-[0.2,0.2], Ferrite.vertices(grid.cells[ci]))))>0.05, 1:length(grid.cells))\n",
    "hole_cell_indices = filter(ci->norm(mean(map(i->grid.nodes[i].x-[0.2,0.2], Ferrite.vertices(grid.cells[ci]))))<=0.05, 1:length(grid.cells))"
   ],
   "metadata": {},
   "execution_count": 3
  },
  {
   "cell_type": "markdown",
   "source": [
    "Gather all faces in the ring and touching the ring"
   ],
   "metadata": {}
  },
  {
   "outputs": [],
   "cell_type": "code",
   "source": [
    "hole_face_ring = Set{FaceIndex}()\n",
    "for hci ∈ hole_cell_indices\n",
    "    push!(hole_face_ring, FaceIndex((hci+1, 4)))\n",
    "    push!(hole_face_ring, FaceIndex((hci-1, 2)))\n",
    "    push!(hole_face_ring, FaceIndex((hci-x_cells, 3)))\n",
    "    push!(hole_face_ring, FaceIndex((hci+x_cells, 1)))\n",
    "end\n",
    "grid.facesets[\"hole\"] = Set(filter(x->x.idx[1] ∉ hole_cell_indices, collect(hole_face_ring)))\n",
    "\n",
    "cell_indices_map = map(ci->norm(mean(map(i->grid.nodes[i].x-[0.2,0.2], Ferrite.vertices(grid.cells[ci]))))>0.05 ? indexin([ci], cell_indices)[1] : 0, 1:length(grid.cells))\n",
    "grid.cells = grid.cells[cell_indices]\n",
    "for facesetname in keys(grid.facesets)\n",
    "    grid.facesets[facesetname] = Set(map(fi -> FaceIndex( cell_indices_map[fi.idx[1]] ,fi.idx[2]), collect(grid.facesets[facesetname])))\n",
    "end"
   ],
   "metadata": {},
   "execution_count": 4
  },
  {
   "cell_type": "markdown",
   "source": [
    "grid = saved_file_to_grid(\"holed_plate.msh\")"
   ],
   "metadata": {}
  },
  {
   "cell_type": "markdown",
   "source": [
    "### Trial and test functions\n",
    "A `CellValues` facilitates the process of evaluating values and gradients of\n",
    "test and trial functions (among other things). Since the problem\n",
    "is a scalar problem we will use a `CellScalarValues` object. To define\n",
    "this we need to specify an interpolation space for the shape functions.\n",
    "We use Lagrange functions (both for interpolating the function and the geometry)\n",
    "based on the reference \"cube\". We also define a quadrature rule based on the\n",
    "same reference cube. We combine the interpolation and the quadrature rule\n",
    "to a `CellScalarValues` object."
   ],
   "metadata": {}
  },
  {
   "outputs": [],
   "cell_type": "code",
   "source": [
    "dim = 2\n",
    "T = 5\n",
    "Δt₀ = 0.01\n",
    "Δt_save = 0.05\n",
    "\n",
    "ν = 0.001 #dynamic viscosity\n",
    "vᵢₙ(t) = 1.0 #inflow velocity\n",
    "\n",
    "ip_v = Lagrange{dim, RefCube, 2}()\n",
    "ip_geom = Lagrange{dim, RefCube, 1}()\n",
    "qr_v = QuadratureRule{dim, RefCube}(3)\n",
    "cellvalues_v = CellVectorValues(qr_v, ip_v, ip_geom);\n",
    "\n",
    "ip_p = Lagrange{dim, RefCube, 1}()\n",
    "#Note that the pressure term comes in combination with a higher order test function...\n",
    "qr_p = qr_v\n",
    "cellvalues_p = CellScalarValues(qr_p, ip_p);"
   ],
   "metadata": {},
   "execution_count": 5
  },
  {
   "cell_type": "markdown",
   "source": [
    "### Degrees of freedom\n",
    "Next we need to define a `DofHandler`, which will take care of numbering\n",
    "and distribution of degrees of freedom for our approximated fields.\n",
    "We create the `DofHandler` and then add a single field called `u`.\n",
    "Lastly we `close!` the `DofHandler`, it is now that the dofs are distributed\n",
    "for all the elements."
   ],
   "metadata": {}
  },
  {
   "outputs": [],
   "cell_type": "code",
   "source": [
    "dh = DofHandler(grid)\n",
    "push!(dh, :v, dim, ip_v)\n",
    "push!(dh, :p, 1, ip_p)\n",
    "close!(dh);"
   ],
   "metadata": {},
   "execution_count": 6
  },
  {
   "cell_type": "markdown",
   "source": [
    "Now that we have distributed all our dofs we can create our tangent matrix,\n",
    "using `create_sparsity_pattern`. This function returns a sparse matrix\n",
    "with the correct elements stored."
   ],
   "metadata": {}
  },
  {
   "outputs": [],
   "cell_type": "code",
   "source": [
    "M = create_sparsity_pattern(dh);\n",
    "K = create_sparsity_pattern(dh);"
   ],
   "metadata": {},
   "execution_count": 7
  },
  {
   "cell_type": "markdown",
   "source": [
    "### Boundary conditions\n",
    "In Ferrite constraints like Dirichlet boundary conditions\n",
    "are handled by a `ConstraintHandler`."
   ],
   "metadata": {}
  },
  {
   "outputs": [],
   "cell_type": "code",
   "source": [
    "ch = ConstraintHandler(dh);"
   ],
   "metadata": {},
   "execution_count": 8
  },
  {
   "cell_type": "markdown",
   "source": [
    "Next we need to add constraints to `ch`. For this problem we define\n",
    "homogeneous Dirichlet boundary conditions on the whole boundary, i.e.\n",
    "the `union` of all the face sets on the boundary."
   ],
   "metadata": {}
  },
  {
   "outputs": [],
   "cell_type": "code",
   "source": [
    "∂Ω_noslip = union(getfaceset.((grid, ), [\"top\", \"bottom\", \"hole\"])...);\n",
    "∂Ω_inflow = getfaceset(grid, \"left\");\n",
    "∂Ω_free = getfaceset(grid, \"right\");"
   ],
   "metadata": {},
   "execution_count": 9
  },
  {
   "cell_type": "markdown",
   "source": [
    "Now we are set up to define our constraint. We specify which field\n",
    "the condition is for, and our combined face set `∂Ω`. The last\n",
    "argument is a function which takes the spatial coordinate $x$ and\n",
    "the current time $t$ and returns the prescribed value. In this case\n",
    "it is trivial -- no matter what $x$ and $t$ we return $0$. When we have\n",
    "specified our constraint we `add!` it to `ch`."
   ],
   "metadata": {}
  },
  {
   "outputs": [],
   "cell_type": "code",
   "source": [
    "noslip_bc = Dirichlet(:v, ∂Ω_noslip, (x, t) -> [0,0], [1,2])\n",
    "add!(ch, noslip_bc);\n",
    "inflow_bc = Dirichlet(:v, ∂Ω_inflow, (x, t) -> [clamp(t, 0.0, 1.0)*4*vᵢₙ(t)*x[2]*(0.41-x[2])/0.41^2,0], [1,2])\n",
    "add!(ch, inflow_bc);"
   ],
   "metadata": {},
   "execution_count": 10
  },
  {
   "cell_type": "markdown",
   "source": [
    "We also need to `close!` and `update!` our boundary conditions. When we call `close!`\n",
    "the dofs which will be constrained by the boundary conditions are calculated and stored\n",
    "in our `ch` object. Since the boundary conditions are, in this case,\n",
    "independent of time we can `update!` them directly with e.g. $t = 0$."
   ],
   "metadata": {}
  },
  {
   "outputs": [],
   "cell_type": "code",
   "source": [
    "close!(ch)\n",
    "update!(ch, 0.0);"
   ],
   "metadata": {},
   "execution_count": 11
  },
  {
   "cell_type": "markdown",
   "source": [
    "### Assembling the linear system\n",
    "Now we have all the pieces needed to assemble the linear system, $K u = f$.\n",
    "We define a function, `doassemble` to do the assembly, which takes our `cellvalues`,\n",
    "the sparse matrix and our DofHandler as input arguments. The function returns the\n",
    "assembled stiffness matrix, and the force vector."
   ],
   "metadata": {}
  },
  {
   "outputs": [
    {
     "output_type": "execute_result",
     "data": {
      "text/plain": "assemble_linear (generic function with 1 method)"
     },
     "metadata": {},
     "execution_count": 12
    }
   ],
   "cell_type": "code",
   "source": [
    "function assemble_linear(cellvalues_v::CellVectorValues{dim}, cellvalues_p::CellScalarValues{dim}, ν, M::SparseMatrixCSC, K::SparseMatrixCSC, dh::DofHandler) where {dim}\n",
    "    # We allocate the element stiffness matrix and element force vector\n",
    "    # just once before looping over all the cells instead of allocating\n",
    "    # them every time in the loop.\n",
    "    n_basefuncs_v = getnbasefunctions(cellvalues_v)\n",
    "    n_basefuncs_p = getnbasefunctions(cellvalues_p)\n",
    "    n_basefuncs = n_basefuncs_v + n_basefuncs_p\n",
    "    v▄, p▄ = 1, 2\n",
    "    Me = PseudoBlockArray(zeros(n_basefuncs, n_basefuncs), [n_basefuncs_v, n_basefuncs_p], [n_basefuncs_v, n_basefuncs_p])\n",
    "    Ke = PseudoBlockArray(zeros(n_basefuncs, n_basefuncs), [n_basefuncs_v, n_basefuncs_p], [n_basefuncs_v, n_basefuncs_p])\n",
    "    # Next we define the global force vector `f` and use that and\n",
    "    # the stiffness matrix `K` and create an assembler. The assembler\n",
    "    # is just a thin wrapper around `f` and `K` and some extra storage\n",
    "    # to make the assembling faster.\n",
    "    f = zeros(ndofs(dh))\n",
    "    stiffness_assembler = start_assemble(K)\n",
    "    mass_assembler = start_assemble(M)\n",
    "    # It is now time to loop over all the cells in our grid. We do this by iterating\n",
    "    # over a `CellIterator`. The iterator caches some useful things for us, for example\n",
    "    # the nodal coordinates for the cell, and the local degrees of freedom.\n",
    "    @inbounds for cell in CellIterator(dh)\n",
    "        # Always remember to reset the element stiffness matrix and\n",
    "        # force vector since we reuse them for all elements.\n",
    "        fill!(Me, 0)\n",
    "        fill!(Ke, 0)\n",
    "        # For each cell we also need to reinitialize the cached values in `cellvalues`.\n",
    "        Ferrite.reinit!(cellvalues_v, cell)\n",
    "        Ferrite.reinit!(cellvalues_p, cell)\n",
    "        # It is now time to loop over all the quadrature points in the cell and\n",
    "        # assemble the contribution to `Ke` and `fe`. The integration weight\n",
    "        # can be queried from `cellvalues` by `getdetJdV`.\n",
    "        for q_point in 1:getnquadpoints(cellvalues_v)\n",
    "            dΩ = getdetJdV(cellvalues_v, q_point)\n",
    "            #Mass term\n",
    "            for i in 1:n_basefuncs_v\n",
    "                v = shape_value(cellvalues_v, q_point, i)\n",
    "                for j in 1:n_basefuncs_v\n",
    "                    φ = shape_value(cellvalues_v, q_point, j)\n",
    "                    Me[BlockIndex((v▄, v▄),(i, j))] += (v ⋅ φ) * dΩ\n",
    "                end\n",
    "            end\n",
    "            # For each quadrature point we loop over all the (local) shape functions.\n",
    "            # We need the value and gradient of the testfunction `v` and also the gradient\n",
    "            # of the trial function `u`. We get all of these from `cellvalues`.\n",
    "            #Viscosity term\n",
    "            for i in 1:n_basefuncs_v\n",
    "                ∇v = shape_gradient(cellvalues_v, q_point, i)\n",
    "                for j in 1:n_basefuncs_v\n",
    "                    ∇φ = shape_gradient(cellvalues_v, q_point, j)\n",
    "                    Ke[BlockIndex((v▄, v▄), (i, j))] -= ν * (∇v ⊡ ∇φ) * dΩ\n",
    "                end\n",
    "            end\n",
    "            #Incompressibility term\n",
    "            for i in 1:n_basefuncs_p\n",
    "                ψ = shape_value(cellvalues_p, q_point, i)\n",
    "                for j in 1:n_basefuncs_v\n",
    "                    divv = shape_divergence(cellvalues_v, q_point, j)\n",
    "                    Ke[BlockIndex((p▄, v▄), (i, j))] += (ψ * divv) * dΩ\n",
    "                end\n",
    "            end\n",
    "            #Pressure term\n",
    "            dΩ = getdetJdV(cellvalues_p, q_point)\n",
    "            for i in 1:n_basefuncs_v\n",
    "                divφ = shape_divergence(cellvalues_v, q_point, i)\n",
    "                for j in 1:n_basefuncs_p\n",
    "                    p = shape_value(cellvalues_p, q_point, j)\n",
    "                    Ke[BlockIndex((v▄, p▄), (i, j))] += (p * divφ) * dΩ\n",
    "                end\n",
    "            end\n",
    "        end\n",
    "        # The last step in the element loop is to assemble `Ke` and `fe`\n",
    "        # into the global `K` and `f` with `assemble!`.\n",
    "        assemble!(stiffness_assembler, celldofs(cell), Ke)\n",
    "        assemble!(mass_assembler, celldofs(cell), Me)\n",
    "    end\n",
    "    return M, K\n",
    "end"
   ],
   "metadata": {},
   "execution_count": 12
  },
  {
   "cell_type": "markdown",
   "source": [
    "### Solution of the system\n",
    "The last step is to solve the system. First we call `doassemble`\n",
    "to obtain the global stiffness matrix `K` and force vector `f`."
   ],
   "metadata": {}
  },
  {
   "outputs": [],
   "cell_type": "code",
   "source": [
    "M, K = assemble_linear(cellvalues_v, cellvalues_p, ν, M, K, dh);"
   ],
   "metadata": {},
   "execution_count": 13
  },
  {
   "cell_type": "markdown",
   "source": [
    "At the time of writing this example we have no clean way to hook into the\n",
    "nonlinear solver backend to apply the Dirichlet BCs. As a hotfix we override\n",
    "the newton initialization. We cannot solve all emerging issues by developing\n",
    "a customized newton algorithm here. This hack should only be seen as an\n",
    "intermediate step towards integration with OrdinaryDiffEq.jl."
   ],
   "metadata": {}
  },
  {
   "outputs": [],
   "cell_type": "code",
   "source": [
    "function OrdinaryDiffEq.initialize!(nlsolver::OrdinaryDiffEq.NLSolver{<:NLNewton,true}, integrator)\n",
    "    @unpack u,uprev,t,dt,opts = integrator\n",
    "    @unpack z,tmp,cache = nlsolver\n",
    "    @unpack weight = cache\n",
    "\n",
    "    cache.invγdt = inv(dt * nlsolver.γ)\n",
    "    cache.tstep = integrator.t + nlsolver.c * dt\n",
    "    OrdinaryDiffEq.calculate_residuals!(weight, fill!(weight, one(eltype(u))), uprev, u,\n",
    "                         opts.abstol, opts.reltol, opts.internalnorm, t);\n",
    "    # Before starting the nonlinear solve we have to set the time correctly. Note that ch is a global variable.\n",
    "    update!(ch, t);\n",
    "    # The update of u takes uprev + z or tmp + z most of the time, so we have\n",
    "    # to enforce Dirichlet BCs here. Note that these mutations may break the\n",
    "    # error estimators.\n",
    "    apply!(uprev, ch)\n",
    "    apply!(tmp, ch)\n",
    "    apply_zero!(z, ch);\n",
    "\n",
    "    nothing\n",
    "end"
   ],
   "metadata": {},
   "execution_count": 14
  },
  {
   "cell_type": "markdown",
   "source": [
    "For the linear equations we can cleanly integrate with the linear solver\n",
    "interface provided by the DifferentialEquations ecosystem."
   ],
   "metadata": {}
  },
  {
   "outputs": [],
   "cell_type": "code",
   "source": [
    "mutable struct FerriteLinSolve{CH,F}\n",
    "    ch::CH\n",
    "    factorization::F\n",
    "    A\n",
    "end\n",
    "FerriteLinSolve(ch) = FerriteLinSolve(ch,lu,nothing)\n",
    "function (p::FerriteLinSolve)(::Type{Val{:init}},f,u0_prototype)\n",
    "    FerriteLinSolve(ch)\n",
    "end\n",
    "function (p::FerriteLinSolve)(x,A,b,update_matrix=false;reltol=nothing, kwargs...)\n",
    "    if update_matrix\n",
    "        # Apply Dirichlet BCs\n",
    "        apply_zero!(A, b, p.ch)\n",
    "        # Update factorization\n",
    "        p.A = p.factorization(A)\n",
    "    end\n",
    "    ldiv!(x, p.A, b)\n",
    "    apply_zero!(x, p.ch)\n",
    "    return nothing\n",
    "end"
   ],
   "metadata": {},
   "execution_count": 15
  },
  {
   "cell_type": "markdown",
   "source": [
    "These are our initial conditions. We start from the zero solution as\n",
    "discussed above."
   ],
   "metadata": {}
  },
  {
   "outputs": [
    {
     "output_type": "execute_result",
     "data": {
      "text/plain": "81865-element Vector{Float64}:\n 0.0\n 0.0\n 0.0\n 0.0\n 0.0\n 0.0\n 0.0\n 0.0\n 0.0\n 0.0\n ⋮\n 0.0\n 0.0\n 0.0\n 0.0\n 0.0\n 0.0\n 0.0\n 0.0\n 0.0"
     },
     "metadata": {},
     "execution_count": 16
    }
   ],
   "cell_type": "code",
   "source": [
    "u₀ = zeros(ndofs(dh))\n",
    "apply!(u₀, ch)"
   ],
   "metadata": {},
   "execution_count": 16
  },
  {
   "cell_type": "markdown",
   "source": [
    "DifferentialEquations assumes dense matrices by default, which is not\n",
    "feasible for semi-discretization of finize element models. We communicate\n",
    "that a sparse matrix with specified pattern should be utilized through the\n",
    "`jac_prototyp` argument. Additionally, we have to provide the mass matrix.\n",
    "To apply the nonlinear portion of the Navier-Stokes problem we simply hand\n",
    "over the dof handler to the right hand side as a parameter in addition to\n",
    "the pre-assembled linear part (which is time independent) to save some\n",
    "runtime."
   ],
   "metadata": {}
  },
  {
   "outputs": [],
   "cell_type": "code",
   "source": [
    "jac_sparsity = sparse(K)\n",
    "function navierstokes!(du,u,p,t)\n",
    "    K,dh,cellvalues = p\n",
    "    du .= K * u\n",
    "\n",
    "    n_basefuncs = getnquadpoints(cellvalues)\n",
    "\n",
    "    # Nonlinaer contribution\n",
    "    for cell in CellIterator(dh)\n",
    "        # Trilinear form evaluation\n",
    "        v_celldofs = celldofs(cell)\n",
    "        Ferrite.reinit!(cellvalues, cell)\n",
    "        v_cell = u[v_celldofs[dof_range(dh, :v)]]\n",
    "        for q_point in 1:getnquadpoints(cellvalues)\n",
    "            dΩ = getdetJdV(cellvalues, q_point)\n",
    "            v_div = function_divergence(cellvalues, q_point, v_cell)\n",
    "            v_val = function_value(cellvalues, q_point, v_cell)\n",
    "            nl_contrib = - v_div * v_val\n",
    "            for j in 1:n_basefuncs\n",
    "                Nⱼ = shape_value(cellvalues, q_point, j)\n",
    "                du[v_celldofs[j]] += nl_contrib ⋅ Nⱼ * dΩ\n",
    "            end\n",
    "        end\n",
    "    end\n",
    "end;\n",
    "rhs = ODEFunction(navierstokes!, mass_matrix=M; jac_prototype=jac_sparsity)\n",
    "p = [K, dh, cellvalues_v]\n",
    "problem = ODEProblem(rhs, u₀, (0.0,T), p);"
   ],
   "metadata": {},
   "execution_count": 17
  },
  {
   "cell_type": "markdown",
   "source": [
    "Now we can put everything together by specifying how to solve the problem.\n",
    "We want to use the modified extended BDF2 method with our custom linear\n",
    "solver, which helps in the enforcement of the Dirichlet BDs. Further we\n",
    "enable the progress bar with the `progess` and `progress_steps` arguments.\n",
    "Finally we have to communicate the time step length and initialization\n",
    "algorithm. Since we start with a valid initial state we do not use one of\n",
    "DifferentialEquations.jl initialization algorithms.\n",
    "NOTE: At the time of writing this [no index 2 initialization is implemented](https://github.com/SciML/OrdinaryDiffEq.jl/issues/1019)."
   ],
   "metadata": {}
  },
  {
   "outputs": [],
   "cell_type": "code",
   "source": [
    "sol = solve(problem, MEBDF2(linsolve=FerriteLinSolve(ch)), progress=true, progress_steps=1, dt=Δt₀, saveat=Δt_save, initializealg=NoInit());"
   ],
   "metadata": {},
   "execution_count": 18
  },
  {
   "cell_type": "markdown",
   "source": [
    "### Exporting to VTK\n",
    "To visualize the result we export the grid and our field `u`\n",
    "to a VTK-file, which can be viewed in e.g. [ParaView](https://www.paraview.org/)."
   ],
   "metadata": {}
  },
  {
   "outputs": [],
   "cell_type": "code",
   "source": [
    "pvd = paraview_collection(\"vortex-street.pvd\");"
   ],
   "metadata": {},
   "execution_count": 19
  },
  {
   "cell_type": "markdown",
   "source": [
    "Now, we loop over all timesteps and solution vectors, in order to append them to the paraview collection."
   ],
   "metadata": {}
  },
  {
   "outputs": [],
   "cell_type": "code",
   "source": [
    "for (solution,t) in zip(sol.u, sol.t)\n",
    "    #compress=false flag because otherwise each vtk file will be stored in memory\n",
    "    vtk_grid(\"vortex-street-$t.vtu\", dh; compress=false) do vtk\n",
    "        vtk_point_data(vtk,dh,solution)\n",
    "        vtk_save(vtk)\n",
    "        pvd[t] = vtk\n",
    "    end\n",
    "end\n",
    "vtk_save(pvd);"
   ],
   "metadata": {},
   "execution_count": 20
  },
  {
   "cell_type": "markdown",
   "source": [
    "---\n",
    "\n",
    "*This notebook was generated using [Literate.jl](https://github.com/fredrikekre/Literate.jl).*"
   ],
   "metadata": {}
  }
 ],
 "nbformat_minor": 3,
 "metadata": {
  "language_info": {
   "file_extension": ".jl",
   "mimetype": "application/julia",
   "name": "julia",
   "version": "1.6.2"
  },
  "kernelspec": {
   "name": "julia-1.6",
   "display_name": "Julia 1.6.2",
   "language": "julia"
  }
 },
 "nbformat": 4
}
