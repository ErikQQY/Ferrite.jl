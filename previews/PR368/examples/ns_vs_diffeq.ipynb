{
 "cells": [
  {
   "cell_type": "markdown",
   "source": [
    "# Incompressible Navier-Stokes Equations via [DifferentialEquations.jl]()\n",
    "\n",
    "![](https://user-images.githubusercontent.com/9196588/134514213-76d91d34-19ab-47c2-957e-16bb0c8669e1.gif)\n",
    "\n",
    "\n",
    "In this example we focus on a simple but visually appealing problem from\n",
    "fluid dynamics, namely vortex shedding, which is also known as\n",
    "von-Karman vortex streets, to show how to utilize [DifferentialEquations.jl]()\n",
    "in tandem with [Ferrite.jl]().\n",
    "\n",
    "## Remarks on DifferentialEquations.jl\n",
    "\n",
    "The \"timestep solvers\" of [DifferentialEquations.jl]() assume that that the\n",
    "problem is provided in mass matrix form. The incompressible Navier-Stokes\n",
    "equations can be rewritten in this form after discretization, yielding a DAE.\n",
    "\n",
    "## Incompressible Navier-Stokes Equations\n",
    "\n",
    "### Strong Form\n",
    "\n",
    "The incompressible Navier-Stokes equations can be stated as the system\n",
    "\n",
    "$$\n",
    " \\begin{aligned}\n",
    "   \\partial_t v &= \\nu \\Delta v - (v \\cdot \\nabla) v - \\nabla p \\\\\n",
    "              0 &= \\nabla \\cdot v\n",
    " \\end{aligned}\n",
    "$$\n",
    "\n",
    "where $v$ is the unknown velocity field, $p$ the unknown pressure field\n",
    "and $\\nu$ the dynamic viscosity. We assume a constant density of 1 for the fluid.\n",
    "\n",
    "\n",
    "### Weak Form\n",
    "\n",
    "$$\n",
    " \\begin{aligned}\n",
    "   \\int \\partial_t v \\cdot \\varphi &= - \\int \\nu \\nabla v : \\nabla \\varphi - \\int (v \\cdot \\nabla) v \\cdot \\varphi + \\int p \\nabla \\cdot \\varphi + \\int_{\\partial \\Omega_{N}} (\\nu \\partial_n v - p n ) \\cdot \\varphi \\\\\n",
    "                                 0 &= \\int \\nabla \\cdot v \\psi\n",
    " \\end{aligned}\n",
    "$$\n",
    "\n",
    "where $\\varphi$ and $\\psi$ are suitable test functions. As the\n",
    "\n",
    "Now we can discretize the problem as usual with the finite element method\n",
    "utilizing Taylor-Hood elements (Q2Q1) to yield a stable discretization.\n",
    "$$\n",
    " M [\\hat{\\mathbf{v}}, \\hat{p}] = K [\\hat{\\mathbf{v}}, \\hat{p}] + [N(\\hat{\\mathbf{v}}, \\hat{\\mathbf{v}}, \\hat{\\varphi}), 0]\n",
    "$$\n",
    "Here M is the singular block mass matrix, K is the discretized Stokes operator and N the non-linear advective term.\n",
    "\n",
    "Details on the geometry and boundary conditions can be taken from [Turek's DFG benchmark](http://www.mathematik.tu-dortmund.de/~featflow/en/benchmarks/cfdbenchmarking/flow/dfg_benchmark1_re20.html).\n",
    "\n",
    "## Commented Program\n",
    "\n",
    "Now we solve the problem in Ferrite. What follows is a program spliced with comments.\n",
    "The full program, without comments, can be found in the next section.\n",
    "\n",
    "First we load Ferrite, and some other packages we need"
   ],
   "metadata": {}
  },
  {
   "outputs": [],
   "cell_type": "code",
   "source": [
    "using Ferrite, SparseArrays, BlockArrays, LinearAlgebra, UnPack"
   ],
   "metadata": {},
   "execution_count": 1
  },
  {
   "cell_type": "markdown",
   "source": [
    "Since we do note need the complete DifferentialEquations suite just load the required ODE infrastructure."
   ],
   "metadata": {}
  },
  {
   "outputs": [],
   "cell_type": "code",
   "source": [
    "using OrdinaryDiffEq"
   ],
   "metadata": {},
   "execution_count": 2
  },
  {
   "cell_type": "markdown",
   "source": [
    "We start  generating a simple grid with 20x20 quadrilateral elements\n",
    "using `generate_grid`. The generator defaults to the unit square,\n",
    "so we don't need to specify the corners of the domain."
   ],
   "metadata": {}
  },
  {
   "outputs": [],
   "cell_type": "code",
   "source": [
    "x_cells = round(Int, 220)\n",
    "y_cells = round(Int, 41)\n",
    "x_cells = round(Int, 55/3)                  #hide\n",
    "y_cells = round(Int, 41/3)                  #hide\n",
    "grid = generate_grid(Quadrilateral, (x_cells, y_cells), Vec{2}((0.0, 0.0)), Vec{2}((2.2, 0.41)));"
   ],
   "metadata": {},
   "execution_count": 3
  },
  {
   "cell_type": "markdown",
   "source": [
    "Carve hole in the mesh and update boundaries."
   ],
   "metadata": {}
  },
  {
   "outputs": [],
   "cell_type": "code",
   "source": [
    "cell_indices = filter(ci->norm(mean(map(i->grid.nodes[i].x-[0.2,0.2], Ferrite.vertices(grid.cells[ci]))))>0.05, 1:length(grid.cells))\n",
    "hole_cell_indices = filter(ci->norm(mean(map(i->grid.nodes[i].x-[0.2,0.2], Ferrite.vertices(grid.cells[ci]))))<=0.05, 1:length(grid.cells));\n",
    "# Gather all faces in the ring and touching the ring\n",
    "hole_face_ring = Set{FaceIndex}()\n",
    "for hci ∈ hole_cell_indices\n",
    "    push!(hole_face_ring, FaceIndex((hci+1, 4)))\n",
    "    push!(hole_face_ring, FaceIndex((hci-1, 2)))\n",
    "    push!(hole_face_ring, FaceIndex((hci-x_cells, 3)))\n",
    "    push!(hole_face_ring, FaceIndex((hci+x_cells, 1)))\n",
    "end\n",
    "grid.facesets[\"hole\"] = Set(filter(x->x.idx[1] ∉ hole_cell_indices, collect(hole_face_ring)));\n",
    "# Finally update the node and cell indices\n",
    "cell_indices_map = map(ci->norm(mean(map(i->grid.nodes[i].x-[0.2,0.2], Ferrite.vertices(grid.cells[ci]))))>0.05 ? indexin([ci], cell_indices)[1] : 0, 1:length(grid.cells))\n",
    "grid.cells = grid.cells[cell_indices]\n",
    "for facesetname in keys(grid.facesets)\n",
    "    grid.facesets[facesetname] = Set(map(fi -> FaceIndex( cell_indices_map[fi.idx[1]] ,fi.idx[2]), collect(grid.facesets[facesetname])))\n",
    "end;\n",
    "\n",
    "grid = generate_grid(Quadrilateral, (x_cells, y_cells), Vec{2}((0.0, 0.0)), Vec{2}((0.55, 0.41)));   #hide"
   ],
   "metadata": {},
   "execution_count": 4
  },
  {
   "cell_type": "markdown",
   "source": [
    "### Trial and test functions\n",
    "A `CellValues` facilitates the process of evaluating values and gradients of\n",
    "test and trial functions (among other things). Since the problem\n",
    "is a scalar problem we will use a `CellScalarValues` object. To define\n",
    "this we need to specify an interpolation space for the shape functions.\n",
    "We use Lagrange functions (both for interpolating the function and the geometry)\n",
    "based on the reference \"cube\". We also define a quadrature rule based on the\n",
    "same reference cube. We combine the interpolation and the quadrature rule\n",
    "to a `CellScalarValues` object."
   ],
   "metadata": {}
  },
  {
   "outputs": [],
   "cell_type": "code",
   "source": [
    "dim = 2\n",
    "T = 10.0\n",
    "Δt₀ = 0.01\n",
    "Δt_save = 0.1\n",
    "\n",
    "ν = 1.0/1000.0                  #dynamic viscosity\n",
    "vᵢₙ(t) = clamp(t, 0.0, 1.0)*1.0 #inflow velocity\n",
    "vᵢₙ(t) = clamp(t, 0.0, 1.0)*0.3 #hide\n",
    "\n",
    "ip_v = Lagrange{dim, RefCube, 2}()\n",
    "ip_geom = Lagrange{dim, RefCube, 1}()\n",
    "qr_v = QuadratureRule{dim, RefCube}(4)\n",
    "cellvalues_v = CellVectorValues(qr_v, ip_v, ip_geom);\n",
    "\n",
    "ip_p = Lagrange{dim, RefCube, 1}()\n",
    "#Note that the pressure term comes in combination with a higher order test function...\n",
    "qr_p = QuadratureRule{dim, RefCube}(4) # = qr_v\n",
    "cellvalues_p = CellScalarValues(qr_p, ip_p, ip_geom);"
   ],
   "metadata": {},
   "execution_count": 5
  },
  {
   "cell_type": "markdown",
   "source": [
    "### Degrees of freedom\n",
    "Next we need to define a `DofHandler`, which will take care of numbering\n",
    "and distribution of degrees of freedom for our approximated fields.\n",
    "We create the `DofHandler` and then add a single field called `u`.\n",
    "Lastly we `close!` the `DofHandler`, it is now that the dofs are distributed\n",
    "for all the elements."
   ],
   "metadata": {}
  },
  {
   "outputs": [],
   "cell_type": "code",
   "source": [
    "dh = DofHandler(grid)\n",
    "push!(dh, :v, dim, ip_v)\n",
    "push!(dh, :p, 1, ip_p)\n",
    "close!(dh);"
   ],
   "metadata": {},
   "execution_count": 6
  },
  {
   "cell_type": "markdown",
   "source": [
    "Now that we have distributed all our dofs we can create our tangent matrix,\n",
    "using `create_sparsity_pattern`. This function returns a sparse matrix\n",
    "with the correct elements stored."
   ],
   "metadata": {}
  },
  {
   "outputs": [],
   "cell_type": "code",
   "source": [
    "M = create_sparsity_pattern(dh);\n",
    "K = create_sparsity_pattern(dh);"
   ],
   "metadata": {},
   "execution_count": 7
  },
  {
   "cell_type": "markdown",
   "source": [
    "### Boundary conditions\n",
    "In Ferrite constraints like Dirichlet boundary conditions\n",
    "are handled by a `ConstraintHandler`."
   ],
   "metadata": {}
  },
  {
   "outputs": [],
   "cell_type": "code",
   "source": [
    "ch = ConstraintHandler(dh);"
   ],
   "metadata": {},
   "execution_count": 8
  },
  {
   "cell_type": "markdown",
   "source": [
    "Next we need to add constraints to `ch`. For this problem we define\n",
    "homogeneous Dirichlet boundary conditions on the whole boundary, i.e.\n",
    "the `union` of all the face sets on the boundary."
   ],
   "metadata": {}
  },
  {
   "outputs": [],
   "cell_type": "code",
   "source": [
    "nosplip_face_names = [\"top\", \"bottom\", \"hole\"];\n",
    "nosplip_face_names = [\"top\", \"bottom\"]                                  #hide\n",
    "∂Ω_noslip = union(getfaceset.((grid, ), nosplip_face_names)...);\n",
    "∂Ω_inflow = getfaceset(grid, \"left\");\n",
    "∂Ω_free = getfaceset(grid, \"right\");"
   ],
   "metadata": {},
   "execution_count": 9
  },
  {
   "cell_type": "markdown",
   "source": [
    "Now we are set up to define our constraint. We specify which field\n",
    "the condition is for, and our combined face set `∂Ω`. The last\n",
    "argument is a function which takes the spatial coordinate $x$ and\n",
    "the current time $t$ and returns the prescribed value. In this case\n",
    "it is trivial -- no matter what $x$ and $t$ we return $0$. When we have\n",
    "specified our constraint we `add!` it to `ch`."
   ],
   "metadata": {}
  },
  {
   "outputs": [],
   "cell_type": "code",
   "source": [
    "noslip_bc = Dirichlet(:v, ∂Ω_noslip, (x, t) -> [0,0], [1,2])\n",
    "add!(ch, noslip_bc)\n",
    "\n",
    "parabolic_inflow_profile((x,y),t) = [4*vᵢₙ(t)*y*(0.41-y)/0.41^2,0]\n",
    "inflow_bc = Dirichlet(:v, ∂Ω_inflow, parabolic_inflow_profile, [1,2])\n",
    "add!(ch, inflow_bc);"
   ],
   "metadata": {},
   "execution_count": 10
  },
  {
   "cell_type": "markdown",
   "source": [
    "We also need to `close!` and `update!` our boundary conditions. When we call `close!`\n",
    "the dofs which will be constrained by the boundary conditions are calculated and stored\n",
    "in our `ch` object. Since the boundary conditions are, in this case,\n",
    "independent of time we can `update!` them directly with e.g. $t = 0$."
   ],
   "metadata": {}
  },
  {
   "outputs": [],
   "cell_type": "code",
   "source": [
    "close!(ch)\n",
    "update!(ch, 0.0);\n",
    "\n",
    "function assemble_mass_matrix(cellvalues_v::CellVectorValues{dim}, cellvalues_p::CellScalarValues{dim}, M::SparseMatrixCSC, dh::DofHandler) where {dim}\n",
    "    # We allocate the element stiffness matrix and element force vector\n",
    "    # just once before looping over all the cells instead of allocating\n",
    "    # them every time in the loop.\n",
    "    n_basefuncs_v = getnbasefunctions(cellvalues_v)\n",
    "    n_basefuncs_p = getnbasefunctions(cellvalues_p)\n",
    "    n_basefuncs = n_basefuncs_v + n_basefuncs_p\n",
    "    v▄, p▄ = 1, 2\n",
    "    Mₑ = PseudoBlockArray(zeros(n_basefuncs, n_basefuncs), [n_basefuncs_v, n_basefuncs_p], [n_basefuncs_v, n_basefuncs_p])\n",
    "    # Next we define the global force vector `f` and use that and\n",
    "    # the stiffness matrix `K` and create an assembler. The assembler\n",
    "    # is just a thin wrapper around `f` and `K` and some extra storage\n",
    "    # to make the assembling faster.\n",
    "    stiffness_assembler = start_assemble(M)\n",
    "    # It is now time to loop over all the cells in our grid. We do this by iterating\n",
    "    # over a `CellIterator`. The iterator caches some useful things for us, for example\n",
    "    # the nodal coordinates for the cell, and the local degrees of freedom.\n",
    "    @inbounds for cell in CellIterator(dh)\n",
    "        # Always remember to reset the element stiffness matrix and\n",
    "        # force vector since we reuse them for all elements.\n",
    "        fill!(Mₑ, 0)\n",
    "        # For each cell we also need to reinitialize the cached values in `cellvalues`.\n",
    "        Ferrite.reinit!(cellvalues_v, cell)\n",
    "        # It is now time to loop over all the quadrature points in the cell and\n",
    "        # assemble the contribution to `Kₑ` and `fe`. The integration weight\n",
    "        # can be queried from `cellvalues` by `getdetJdV`.\n",
    "        for q_point in 1:getnquadpoints(cellvalues_v)\n",
    "            dΩ = getdetJdV(cellvalues_v, q_point)\n",
    "            # For each quadrature point we loop over all the (local) shape functions.\n",
    "            # We need the value and gradient of the testfunction `v` and also the gradient\n",
    "            # of the trial function `u`. We get all of these from `cellvalues`.\n",
    "            #Mass term\n",
    "            for i in 1:n_basefuncs_v\n",
    "                φᵢ = shape_value(cellvalues_v, q_point, i)\n",
    "                for j in 1:n_basefuncs_v\n",
    "                    φⱼ = shape_value(cellvalues_v, q_point, j)\n",
    "                    Mₑ[BlockIndex((v▄, v▄), (i, j))] += φᵢ ⋅ φⱼ * dΩ\n",
    "                end\n",
    "            end\n",
    "        end\n",
    "        # The last step in the element loop is to assemble `Kₑ` and `fe`\n",
    "        # into the global `K` and `f` with `assemble!`.\n",
    "        assemble!(stiffness_assembler, celldofs(cell), Mₑ)\n",
    "    end\n",
    "    return M\n",
    "end\n",
    "\n",
    "M = assemble_mass_matrix(cellvalues_v, cellvalues_p, M, dh);"
   ],
   "metadata": {},
   "execution_count": 11
  },
  {
   "cell_type": "markdown",
   "source": [
    "### Assembling the linear system\n",
    "Note: We assume negligible coupling between the velocity components in the viscosity assembly."
   ],
   "metadata": {}
  },
  {
   "outputs": [
    {
     "output_type": "execute_result",
     "data": {
      "text/plain": "assemble_stokes_matrix (generic function with 1 method)"
     },
     "metadata": {},
     "execution_count": 12
    }
   ],
   "cell_type": "code",
   "source": [
    "function assemble_stokes_matrix(cellvalues_v::CellVectorValues{dim}, cellvalues_p::CellScalarValues{dim}, ν, K::SparseMatrixCSC, dh::DofHandler) where {dim}\n",
    "    # We allocate the element stiffness matrix and element force vector\n",
    "    # just once before looping over all the cells instead of allocating\n",
    "    # them every time in the loop.\n",
    "    n_basefuncs_v = getnbasefunctions(cellvalues_v)\n",
    "    n_basefuncs_p = getnbasefunctions(cellvalues_p)\n",
    "    n_basefuncs = n_basefuncs_v + n_basefuncs_p\n",
    "    v▄, p▄ = 1, 2\n",
    "    Kₑ = PseudoBlockArray(zeros(n_basefuncs, n_basefuncs), [n_basefuncs_v, n_basefuncs_p], [n_basefuncs_v, n_basefuncs_p])\n",
    "    # Next we define the global force vector `f` and use that and\n",
    "    # the stiffness matrix `K` and create an assembler. The assembler\n",
    "    # is just a thin wrapper around `f` and `K` and some extra storage\n",
    "    # to make the assembling faster.\n",
    "    stiffness_assembler = start_assemble(K)\n",
    "    # It is now time to loop over all the cells in our grid. We do this by iterating\n",
    "    # over a `CellIterator`. The iterator caches some useful things for us, for example\n",
    "    # the nodal coordinates for the cell, and the local degrees of freedom.\n",
    "    @inbounds for cell in CellIterator(dh)\n",
    "        # Always remember to reset the element stiffness matrix and\n",
    "        # force vector since we reuse them for all elements.\n",
    "        fill!(Kₑ, 0)\n",
    "        # For each cell we also need to reinitialize the cached values in `cellvalues`.\n",
    "        Ferrite.reinit!(cellvalues_v, cell)\n",
    "        Ferrite.reinit!(cellvalues_p, cell)\n",
    "        # It is now time to loop over all the quadrature points in the cell and\n",
    "        # assemble the contribution to `Kₑ` and `fe`. The integration weight\n",
    "        # can be queried from `cellvalues` by `getdetJdV`.\n",
    "        for q_point in 1:getnquadpoints(cellvalues_v)\n",
    "            dΩ = getdetJdV(cellvalues_v, q_point)\n",
    "            # For each quadrature point we loop over all the (local) shape functions.\n",
    "            # We need the value and gradient of the testfunction `v` and also the gradient\n",
    "            # of the trial function `u`. We get all of these from `cellvalues`.\n",
    "            #Viscosity term\n",
    "            for i in 1:n_basefuncs_v\n",
    "                ∇φᵢ = shape_gradient(cellvalues_v, q_point, i)\n",
    "                for j in 1:n_basefuncs_v\n",
    "                    ∇φⱼ = shape_gradient(cellvalues_v, q_point, j)\n",
    "                    Kₑ[BlockIndex((v▄, v▄), (i, j))] -= ν * ∇φᵢ ⊡ ∇φⱼ * dΩ\n",
    "                end\n",
    "            end\n",
    "            #Pressure + Incompressibility term - note the symmetry.\n",
    "            for j in 1:n_basefuncs_p\n",
    "                ψ = shape_value(cellvalues_p, q_point, j)\n",
    "                for i in 1:n_basefuncs_v\n",
    "                    divφ = shape_divergence(cellvalues_v, q_point, i)\n",
    "                    Kₑ[BlockIndex((v▄, p▄), (i, j))] += (divφ * ψ) * dΩ\n",
    "                    Kₑ[BlockIndex((p▄, v▄), (j, i))] += (ψ * divφ) * dΩ\n",
    "                end\n",
    "            end\n",
    "        end\n",
    "        # The last step in the element loop is to assemble `Kₑ` and `fe`\n",
    "        # into the global `K` and `f` with `assemble!`.\n",
    "        assemble!(stiffness_assembler, celldofs(cell), Kₑ)\n",
    "    end\n",
    "    return K\n",
    "end"
   ],
   "metadata": {},
   "execution_count": 12
  },
  {
   "cell_type": "markdown",
   "source": [
    "### Solution of the system\n",
    "The last step is to solve the system. First we call `doassemble`\n",
    "to obtain the global stiffness matrix `K` and force vector `f`."
   ],
   "metadata": {}
  },
  {
   "outputs": [],
   "cell_type": "code",
   "source": [
    "K = assemble_stokes_matrix(cellvalues_v, cellvalues_p, ν, K, dh);"
   ],
   "metadata": {},
   "execution_count": 13
  },
  {
   "cell_type": "markdown",
   "source": [
    "These are our initial conditions. We start from the zero solution as\n",
    "discussed above."
   ],
   "metadata": {}
  },
  {
   "outputs": [
    {
     "output_type": "execute_result",
     "data": {
      "text/plain": "2431-element Vector{Float64}:\n 0.0\n 0.0\n 0.0\n 0.0\n 0.0\n 0.0\n 0.0\n 0.0\n 0.0\n 0.0\n ⋮\n 0.0\n 0.0\n 0.0\n 0.0\n 0.0\n 0.0\n 0.0\n 0.0\n 0.0"
     },
     "metadata": {},
     "execution_count": 14
    }
   ],
   "cell_type": "code",
   "source": [
    "u₀ = zeros(ndofs(dh))\n",
    "apply!(u₀, ch)"
   ],
   "metadata": {},
   "execution_count": 14
  },
  {
   "cell_type": "markdown",
   "source": [
    "At the time of writing this example we have no clean way to hook into the\n",
    "nonlinear solver backend to apply the Dirichlet BCs. As a hotfix we override\n",
    "the newton initialization. We cannot solve all emerging issues by developing\n",
    "a customized newton algorithm here. This hack should only be seen as an\n",
    "intermediate step towards integration with OrdinaryDiffEq.jl."
   ],
   "metadata": {}
  },
  {
   "outputs": [],
   "cell_type": "code",
   "source": [
    "function OrdinaryDiffEq.initialize!(nlsolver::OrdinaryDiffEq.NLSolver{<:NLNewton,true}, integrator)\n",
    "    # This block is copy pasta from OrdinaryDiffEq\n",
    "    @unpack u,uprev,t,dt,opts = integrator\n",
    "    @unpack z,tmp,cache = nlsolver\n",
    "    @unpack weight = cache\n",
    "\n",
    "    cache.invγdt = inv(dt * nlsolver.γ)\n",
    "    cache.tstep = integrator.t + nlsolver.c * dt\n",
    "    OrdinaryDiffEq.calculate_residuals!(weight, fill!(weight, one(eltype(u))), uprev, u,\n",
    "                         opts.abstol, opts.reltol, opts.internalnorm, t);\n",
    "    # Before starting the nonlinear solve we have to set the time correctly.\n",
    "    # Note that ch is a global variable for now.\n",
    "    update!(ch, cache.tstep);\n",
    "    # The update of u takes uprev + z or tmp + z most of the time, so we have\n",
    "    # to enforce Dirichlet BCs here. Note that these mutations may break the\n",
    "    # error estimators.\n",
    "    apply!(uprev, ch)\n",
    "    apply!(tmp, ch)\n",
    "    apply_zero!(z, ch);\n",
    "\n",
    "    nothing\n",
    "end"
   ],
   "metadata": {},
   "execution_count": 15
  },
  {
   "cell_type": "markdown",
   "source": [
    "For the linear equations we can cleanly integrate with the linear solver\n",
    "interface provided by the DifferentialEquations ecosystem. We use a direct\n",
    "solver for simplicity, altough it comes with some issues. Implementing\n",
    "GMRES with efficient preconditioner is left open for future work."
   ],
   "metadata": {}
  },
  {
   "outputs": [],
   "cell_type": "code",
   "source": [
    "mutable struct FerriteLinSolve{CH,F}\n",
    "    ch::CH\n",
    "    factorization::F\n",
    "    A\n",
    "end\n",
    "FerriteLinSolve(ch) = FerriteLinSolve(ch,lu,nothing)\n",
    "function (p::FerriteLinSolve)(::Type{Val{:init}},f,u0_prototype)\n",
    "    FerriteLinSolve(ch)\n",
    "end\n",
    "function (p::FerriteLinSolve)(x,A,b,update_matrix=false;reltol=nothing, kwargs...)\n",
    "    if update_matrix\n",
    "        # Apply Dirichlet BCs\n",
    "        apply_zero!(A, b, p.ch)\n",
    "        # Update factorization\n",
    "        p.A = p.factorization(A)\n",
    "    end\n",
    "    ldiv!(x, p.A, b)\n",
    "    apply_zero!(x, p.ch)\n",
    "    return nothing\n",
    "end"
   ],
   "metadata": {},
   "execution_count": 16
  },
  {
   "cell_type": "markdown",
   "source": [
    "DifferentialEquations assumes dense matrices by default, which is not\n",
    "feasible for semi-discretization of finize element models. We communicate\n",
    "that a sparse matrix with specified pattern should be utilized through the\n",
    "`jac_prototyp` argument. Additionally, we have to provide the mass matrix.\n",
    "To apply the nonlinear portion of the Navier-Stokes problem we simply hand\n",
    "over the dof handler to the right hand side as a parameter in addition to\n",
    "the pre-assembled linear part (which is time independent) to save some\n",
    "runtime."
   ],
   "metadata": {}
  },
  {
   "outputs": [],
   "cell_type": "code",
   "source": [
    "jac_sparsity = sparse(K)\n",
    "function navierstokes!(du,u,p,t)\n",
    "    K,dh,cellvalues_v = p\n",
    "    du .= K * u\n",
    "\n",
    "    n_basefuncs = getnbasefunctions(cellvalues_v)\n",
    "\n",
    "    # Nonlinear contribution\n",
    "    for cell in CellIterator(dh)\n",
    "        Ferrite.reinit!(cellvalues_v, cell)\n",
    "        # Trilinear form evaluation\n",
    "        all_celldofs = celldofs(cell)\n",
    "        v_celldofs = all_celldofs[dof_range(dh, :v)]\n",
    "        v_cell = u[v_celldofs]\n",
    "        for q_point in 1:getnquadpoints(cellvalues_v)\n",
    "            dΩ = getdetJdV(cellvalues_v, q_point)\n",
    "            ∇v = function_gradient(cellvalues_v, q_point, v_cell)\n",
    "            v = function_value(cellvalues_v, q_point, v_cell)\n",
    "            for j in 1:n_basefuncs\n",
    "                φⱼ = shape_value(cellvalues_v, q_point, j)\n",
    "                # Note that the order the gradient term is now on the left, which is the correct thing to do here.\n",
    "                # It can be quickly shown through index notation.\n",
    "                # $$\n",
    "                # [(v \\cdot \\nabla) v]_i = v_j \\partial_j v_i = \\partial_j v_i v_j = (\\nabla v) v\n",
    "                # $$\n",
    "                du[v_celldofs[j]] -= ∇v ⋅ v ⋅ φⱼ * dΩ\n",
    "            end\n",
    "        end\n",
    "    end\n",
    "end;\n",
    "rhs = ODEFunction(navierstokes!, mass_matrix=M; jac_prototype=jac_sparsity)\n",
    "p = [K, dh, cellvalues_v]\n",
    "problem = ODEProblem(rhs, u₀, (0.0,T), p);"
   ],
   "metadata": {},
   "execution_count": 17
  },
  {
   "cell_type": "markdown",
   "source": [
    "Now we can put everything together by specifying how to solve the problem.\n",
    "We want to use the modified extended BDF2 method with our custom linear\n",
    "solver, which helps in the enforcement of the Dirichlet BCs. Further we\n",
    "enable the progress bar with the `progess` and `progress_steps` arguments.\n",
    "Finally we have to communicate the time step length and initialization\n",
    "algorithm. Since we start with a valid initial state we do not use one of\n",
    "DifferentialEquations.jl initialization algorithms.\n",
    "NOTE: At the time of writing this [no index 2 initialization is implemented](https://github.com/SciML/OrdinaryDiffEq.jl/issues/1019).\n",
    "\n",
    "To visualize the result we export the grid and our fields\n",
    "to VTK-files, which can be viewed in [ParaView](https://www.paraview.org/)\n",
    "by utilizing the corresponding pvd file."
   ],
   "metadata": {}
  },
  {
   "outputs": [],
   "cell_type": "code",
   "source": [
    "timestepper = ImplicitEuler(linsolve=FerriteLinSolve(ch))\n",
    "integrator = init(\n",
    "    problem, timestepper, initializealg=NoInit(), dt=Δt₀,\n",
    "    adaptive=true, abstol=1e-3, reltol=1e-3,\n",
    "    progress=true, progress_steps=1,\n",
    "    saveat=Δt_save);\n",
    "\n",
    "pvd = paraview_collection(\"vortex-street.pvd\");\n",
    "integrator = TimeChoiceIterator(integrator, 0.0:Δt_save:T)\n",
    "for (u,t) in integrator\n",
    "    #compress=false flag because otherwise each vtk file will be stored in memory\n",
    "    vtk_grid(\"vortex-street-$t.vtu\", dh; compress=false) do vtk\n",
    "        vtk_point_data(vtk,dh,u)\n",
    "        vtk_save(vtk)\n",
    "        pvd[t] = vtk\n",
    "    end\n",
    "end"
   ],
   "metadata": {},
   "execution_count": 18
  },
  {
   "cell_type": "markdown",
   "source": [
    "---\n",
    "\n",
    "*This notebook was generated using [Literate.jl](https://github.com/fredrikekre/Literate.jl).*"
   ],
   "metadata": {}
  }
 ],
 "nbformat_minor": 3,
 "metadata": {
  "language_info": {
   "file_extension": ".jl",
   "mimetype": "application/julia",
   "name": "julia",
   "version": "1.6.2"
  },
  "kernelspec": {
   "name": "julia-1.6",
   "display_name": "Julia 1.6.2",
   "language": "julia"
  }
 },
 "nbformat": 4
}
