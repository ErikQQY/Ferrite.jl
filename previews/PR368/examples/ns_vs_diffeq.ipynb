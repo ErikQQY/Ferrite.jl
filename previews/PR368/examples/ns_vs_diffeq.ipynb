{
 "cells": [
  {
   "cell_type": "markdown",
   "source": [
    "# Incompressible Navier-Stokes Equations via [DifferentialEquations.jl]()\n",
    "\n",
    "![](https://user-images.githubusercontent.com/9196588/134514213-76d91d34-19ab-47c2-957e-16bb0c8669e1.gif)\n",
    "\n",
    "\n",
    "In this example we focus on a simple but visually appealing problem from\n",
    "fluid dynamics, namely vortex shedding, which is also known as\n",
    "von-Karman vortex streets, to show how to utilize [DifferentialEquations.jl]()\n",
    "in tandem with [Ferrite.jl](). To keep things simple we use a general approach\n",
    "to discretize the system, hence we refrain from Chorin's more performant\n",
    "projection method.\n",
    "\n",
    "## Remarks on DifferentialEquations.jl\n",
    "\n",
    "The \"time step solvers\" of [DifferentialEquations.jl]() assume that that the\n",
    "problem is provided in mass matrix form. The incompressible Navier-Stokes\n",
    "equations as stated above yield a DAE in this form after applying a spatial\n",
    "discretization technique - in our case FEM.\n",
    "\n",
    "## Incompressible Navier-Stokes Equations\n",
    "\n",
    "### Strong Form\n",
    "\n",
    "The incompressible Navier-Stokes equations can be stated as the system\n",
    "\n",
    "$$\n",
    " \\begin{aligned}\n",
    "   \\partial_t v &= \\nu \\Delta v - (v \\cdot \\nabla) v - \\nabla p \\\\\n",
    "              0 &= \\nabla \\cdot v\n",
    " \\end{aligned}\n",
    "$$\n",
    "\n",
    "where $v$ is the unknown velocity field, $p$ the unknown pressure field\n",
    "and $\\nu$ the dynamic viscosity. We assume a constant density of 1 for the fluid\n",
    "and negligible coupling between the velocity components.\n",
    "Finally we see that the pressure term appears only in combination with the gradient\n",
    "operator, so for any solution p the function p + c is also an admissible solution, if\n",
    "we do not impose Dirichlet conditions on the pressure. To resolve this we introduce the\n",
    "implicit constraint that $ \\int_\\Omega p = 0 $.\n",
    "\n",
    "Our setup is derived from [Turek's DFG benchmark](http://www.mathematik.tu-dortmund.de/~featflow/en/benchmarks/cfdbenchmarking/flow/dfg_benchmark1_re20.html).\n",
    "We model a channel with size $0.41 \\times 2.2$ and a hole of radius $0.05$ centered at $(0.2, 0.2)$.\n",
    "The left side has a parabolic inflow profile, which is ramped up over time, modeled as the Dirichlet condition\n",
    "$v_x(t) \\mapsto 4*v_{in}(t)*y*(0.41-y)/0.41^2$ where $v_{in}(t) = clamp(t, 0.0, 1.0)$. With a viscosity of $\\nu = 0.001$\n",
    "this is enough to induce turbulence behind the cylinder which leads to vortex shedding. The top and bottom of our\n",
    "channel have no-slip conditions, i.e. v = (0,0), while the right boundary has the do-nothing boundary condtion\n",
    "$\\nu \\partial_n v - p n = 0$ to model outflow. With these boundary conditions we can choose the zero solution as a\n",
    "feasible initial condition.\n",
    "\n",
    "### Semi-Discrete Weak Form\n",
    "\n",
    "$$\n",
    " \\begin{aligned}\n",
    "   \\int \\partial_t v \\cdot \\varphi &= - \\int \\nu \\nabla v : \\nabla \\varphi - \\int (v \\cdot \\nabla) v \\cdot \\varphi + \\int p \\nabla \\cdot \\varphi + \\int_{\\partial \\Omega_{N}} (\\nu \\partial_n v - p n ) \\cdot \\varphi \\\\\n",
    "                                 0 &= \\int \\nabla \\cdot v \\psi\n",
    " \\end{aligned}\n",
    "$$\n",
    "where $\\varphi$ and $\\psi$ are suitable test functions.\n",
    "\n",
    "Now we can discretize the problem as usual with the finite element method\n",
    "utilizing Taylor-Hood elements (Q2Q1) to yield a stable discretization.\n",
    "$$\n",
    " M [\\hat{\\mathbf{v}}, \\hat{p}] = K [\\hat{\\mathbf{v}}, \\hat{p}] + [N(\\hat{\\mathbf{v}}, \\hat{\\mathbf{v}}, \\hat{\\varphi}), 0]\n",
    "$$\n",
    "Here M is the singular block mass matrix, K is the discretized Stokes operator and N the non-linear advective term.\n",
    "\n",
    "\n",
    "## Commented Program\n",
    "\n",
    "Now we solve the problem in Ferrite with DifferentialEquations.jl. What follows is a program spliced with comments.\n",
    "The full program, without comments, can be found in the next section.\n",
    "\n",
    "First we load Ferrite, and some other packages we need"
   ],
   "metadata": {}
  },
  {
   "outputs": [],
   "cell_type": "code",
   "source": [
    "using Ferrite, SparseArrays, BlockArrays, LinearAlgebra, UnPack"
   ],
   "metadata": {},
   "execution_count": 1
  },
  {
   "cell_type": "markdown",
   "source": [
    "Since we do note need the complete DifferentialEquations suite just load the required ODE infrastructure, which can also handle\n",
    "DAEs in mass matrix form."
   ],
   "metadata": {}
  },
  {
   "outputs": [],
   "cell_type": "code",
   "source": [
    "using OrdinaryDiffEq"
   ],
   "metadata": {},
   "execution_count": 2
  },
  {
   "cell_type": "markdown",
   "source": [
    "We start off by defining our only material parameter."
   ],
   "metadata": {}
  },
  {
   "outputs": [
    {
     "output_type": "execute_result",
     "data": {
      "text/plain": "0.001"
     },
     "metadata": {},
     "execution_count": 3
    }
   ],
   "cell_type": "code",
   "source": [
    "ν = 1.0/1000.0 #dynamic viscosity"
   ],
   "metadata": {},
   "execution_count": 3
  },
  {
   "cell_type": "markdown",
   "source": [
    "Next a fine 2D rectangular grid has to be generated. We leave the cell size parametric for flexibility when\n",
    "playing around with the code. Note that the mesh is pretty fine, leading to a high memory consumption when\n",
    "feeding the equation system to direct solvers."
   ],
   "metadata": {}
  },
  {
   "outputs": [],
   "cell_type": "code",
   "source": [
    "dim = 2\n",
    "cell_scale_factor = 2.0\n",
    "x_cells = round(Int, cell_scale_factor*220)\n",
    "y_cells = round(Int, cell_scale_factor*41)\n",
    "x_cells = round(Int, 55/3)                  #hide\n",
    "y_cells = round(Int, 41/3)                  #hide\n",
    "grid = generate_grid(Quadrilateral, (x_cells, y_cells), Vec{2}((0.0, 0.0)), Vec{2}((2.2, 0.41)));"
   ],
   "metadata": {},
   "execution_count": 4
  },
  {
   "cell_type": "markdown",
   "source": [
    "Next we carve a hole $B_{0.05}(0.2,0.2)$ in the mesh by deleting the cells and update the boundary face sets.\n",
    "This code will be replaced once a proper mesh interface is avaliable."
   ],
   "metadata": {}
  },
  {
   "outputs": [],
   "cell_type": "code",
   "source": [
    "cell_indices = filter(ci->norm(mean(map(i->grid.nodes[i].x-[0.2,0.2], Ferrite.vertices(grid.cells[ci]))))>0.05, 1:length(grid.cells))\n",
    "hole_cell_indices = filter(ci->norm(mean(map(i->grid.nodes[i].x-[0.2,0.2], Ferrite.vertices(grid.cells[ci]))))<=0.05, 1:length(grid.cells));\n",
    "hole_face_ring = Set{FaceIndex}()\n",
    "for hci ∈ hole_cell_indices\n",
    "    push!(hole_face_ring, FaceIndex((hci+1, 4)))\n",
    "    push!(hole_face_ring, FaceIndex((hci-1, 2)))\n",
    "    push!(hole_face_ring, FaceIndex((hci-x_cells, 3)))\n",
    "    push!(hole_face_ring, FaceIndex((hci+x_cells, 1)))\n",
    "end\n",
    "grid.facesets[\"hole\"] = Set(filter(x->x.idx[1] ∉ hole_cell_indices, collect(hole_face_ring)));\n",
    "cell_indices_map = map(ci->norm(mean(map(i->grid.nodes[i].x-[0.2,0.2], Ferrite.vertices(grid.cells[ci]))))>0.05 ? indexin([ci], cell_indices)[1] : 0, 1:length(grid.cells))\n",
    "grid.cells = grid.cells[cell_indices]\n",
    "for facesetname in keys(grid.facesets)\n",
    "    grid.facesets[facesetname] = Set(map(fi -> FaceIndex( cell_indices_map[fi.idx[1]] ,fi.idx[2]), collect(grid.facesets[facesetname])))\n",
    "end;\n",
    "\n",
    "grid = generate_grid(Quadrilateral, (x_cells, y_cells), Vec{2}((0.0, 0.0)), Vec{2}((0.55, 0.41)));   #hide"
   ],
   "metadata": {},
   "execution_count": 5
  },
  {
   "cell_type": "markdown",
   "source": [
    "### Function space\n",
    "To ensure stability we utilize the Taylor-Hood element pair Q2-Q1.\n",
    "We have to utilize the same quadrature rule because in the weak form the\n",
    "linear pressure term is tested against a quadratic function."
   ],
   "metadata": {}
  },
  {
   "outputs": [],
   "cell_type": "code",
   "source": [
    "ip_v = Lagrange{dim, RefCube, 2}()\n",
    "ip_geom = Lagrange{dim, RefCube, 1}()\n",
    "qr = QuadratureRule{dim, RefCube}(4)\n",
    "cellvalues_v = CellVectorValues(qr, ip_v, ip_geom);\n",
    "\n",
    "ip_p = Lagrange{dim, RefCube, 1}()\n",
    "cellvalues_p = CellScalarValues(qr, ip_p, ip_geom);\n",
    "\n",
    "dh = DofHandler(grid)\n",
    "push!(dh, :v, dim, ip_v)\n",
    "push!(dh, :p, 1, ip_p)\n",
    "close!(dh);"
   ],
   "metadata": {},
   "execution_count": 6
  },
  {
   "cell_type": "markdown",
   "source": [
    "### Boundary conditions\n",
    "As in the DFG benchmark we apply no-slip conditions to the top, bottom and\n",
    "cylinder boundary. The no-slip condition states that the velocity of the\n",
    "fluid on this portion of the boundary is fixed to be zero."
   ],
   "metadata": {}
  },
  {
   "outputs": [],
   "cell_type": "code",
   "source": [
    "ch = ConstraintHandler(dh);\n",
    "\n",
    "nosplip_face_names = [\"top\", \"bottom\", \"hole\"];\n",
    "nosplip_face_names = [\"top\", \"bottom\"]                                  #hide\n",
    "∂Ω_noslip = union(getfaceset.((grid, ), nosplip_face_names)...);\n",
    "noslip_bc = Dirichlet(:v, ∂Ω_noslip, (x, t) -> [0,0], [1,2])\n",
    "add!(ch, noslip_bc);"
   ],
   "metadata": {},
   "execution_count": 7
  },
  {
   "cell_type": "markdown",
   "source": [
    "The left boundary has a parabolic inflow with peak velocity of 1.0. This\n",
    "ensures that for the given geometry the Reynolds number is 100, which\n",
    "is already enough to obtain some simple vortex streets. By increasing the\n",
    "velocity further we can obtain stronger vortices - which may need additional\n",
    "refinement of the grid."
   ],
   "metadata": {}
  },
  {
   "outputs": [],
   "cell_type": "code",
   "source": [
    "∂Ω_inflow = getfaceset(grid, \"left\");\n",
    "\n",
    "vᵢₙ(t) = clamp(t, 0.0, 1.0)*1.0 #inflow velocity\n",
    "vᵢₙ(t) = clamp(t, 0.0, 1.0)*0.3 #hide\n",
    "parabolic_inflow_profile((x,y),t) = [4*vᵢₙ(t)*y*(0.41-y)/0.41^2,0]\n",
    "inflow_bc = Dirichlet(:v, ∂Ω_inflow, parabolic_inflow_profile, [1,2])\n",
    "add!(ch, inflow_bc);"
   ],
   "metadata": {},
   "execution_count": 8
  },
  {
   "cell_type": "markdown",
   "source": [
    "The outflow boundary condition has been applied on the right side of the\n",
    "cylinder when the weak form has been derived by setting the boundary integral\n",
    "to zero. It is also called the do-nothing condition. Other outflow conditions\n",
    "are also possible."
   ],
   "metadata": {}
  },
  {
   "outputs": [],
   "cell_type": "code",
   "source": [
    "∂Ω_free = getfaceset(grid, \"right\");\n",
    "\n",
    "close!(ch)\n",
    "update!(ch, 0.0);"
   ],
   "metadata": {},
   "execution_count": 9
  },
  {
   "cell_type": "markdown",
   "source": [
    "### Linear System Assembly\n",
    "Next we describe how the block mass matrix and the Stokes matrix are assembled.\n",
    "\n",
    "For the block mass matrix we remember that only the first equation had a time derivative\n",
    "and that the block mass matrix corresponds to the term arising from discretizing the time\n",
    "derivatives. Hence, only the upper left block has non-zero components."
   ],
   "metadata": {}
  },
  {
   "outputs": [],
   "cell_type": "code",
   "source": [
    "function assemble_mass_matrix(cellvalues_v::CellVectorValues{dim}, cellvalues_p::CellScalarValues{dim}, M::SparseMatrixCSC, dh::DofHandler) where {dim}\n",
    "    # We start again by allocating a buffer for the local matrix and some helpers, together with the assembler.\n",
    "    n_basefuncs_v = getnbasefunctions(cellvalues_v)\n",
    "    n_basefuncs_p = getnbasefunctions(cellvalues_p)\n",
    "    n_basefuncs = n_basefuncs_v + n_basefuncs_p\n",
    "    v▄, p▄ = 1, 2\n",
    "    Mₑ = PseudoBlockArray(zeros(n_basefuncs, n_basefuncs), [n_basefuncs_v, n_basefuncs_p], [n_basefuncs_v, n_basefuncs_p])\n",
    "    # It follows the assembly loop as explained in the basic tutorials.\n",
    "    mass_assembler = start_assemble(M)\n",
    "    @inbounds for cell in CellIterator(dh)\n",
    "        fill!(Mₑ, 0)\n",
    "        Ferrite.reinit!(cellvalues_v, cell)\n",
    "\n",
    "        for q_point in 1:getnquadpoints(cellvalues_v)\n",
    "            dΩ = getdetJdV(cellvalues_v, q_point)\n",
    "            # Remember that we assemble a vector mass term, hence the dot product.\n",
    "            for i in 1:n_basefuncs_v\n",
    "                φᵢ = shape_value(cellvalues_v, q_point, i)\n",
    "                for j in 1:n_basefuncs_v\n",
    "                    φⱼ = shape_value(cellvalues_v, q_point, j)\n",
    "                    Mₑ[BlockIndex((v▄, v▄), (i, j))] += φᵢ ⋅ φⱼ * dΩ\n",
    "                end\n",
    "            end\n",
    "        end\n",
    "        assemble!(mass_assembler, celldofs(cell), Mₑ)\n",
    "    end\n",
    "\n",
    "    return M\n",
    "end;"
   ],
   "metadata": {},
   "execution_count": 10
  },
  {
   "cell_type": "markdown",
   "source": [
    "Next we discuss the assembly of the Stokes matrix.\n",
    "Remember that we use the same function spaces for trial and test, hence the\n",
    "matrix has the following block form\n",
    "$$\n",
    "  K &= \\begin{matrix}\n",
    "      A & B^T \\\\\n",
    "      B & 0\n",
    "  \\end{matrix}\n",
    "$$\n",
    "which is also called saddle point matrix. These problems are known to have\n",
    "a non-trivial kernel, which is a reflection of the strong form as discussed\n",
    "in the theory portion if this example."
   ],
   "metadata": {}
  },
  {
   "outputs": [],
   "cell_type": "code",
   "source": [
    "function assemble_stokes_matrix(cellvalues_v::CellVectorValues{dim}, cellvalues_p::CellScalarValues{dim}, ν, K::SparseMatrixCSC, dh::DofHandler) where {dim}\n",
    "    # Again, we start again by allocating a buffer for the local matrix and some helpers, together with the assembler.\n",
    "    n_basefuncs_v = getnbasefunctions(cellvalues_v)\n",
    "    n_basefuncs_p = getnbasefunctions(cellvalues_p)\n",
    "    n_basefuncs = n_basefuncs_v + n_basefuncs_p\n",
    "    v▄, p▄ = 1, 2\n",
    "    Kₑ = PseudoBlockArray(zeros(n_basefuncs, n_basefuncs), [n_basefuncs_v, n_basefuncs_p], [n_basefuncs_v, n_basefuncs_p])\n",
    "\n",
    "    stiffness_assembler = start_assemble(K)\n",
    "\n",
    "    @inbounds for cell in CellIterator(dh)\n",
    "        fill!(Kₑ, 0)\n",
    "\n",
    "        Ferrite.reinit!(cellvalues_v, cell)\n",
    "        Ferrite.reinit!(cellvalues_p, cell)\n",
    "\n",
    "        for q_point in 1:getnquadpoints(cellvalues_v)\n",
    "            dΩ = getdetJdV(cellvalues_v, q_point)\n",
    "            # Viscosity term \"A\"\n",
    "            for i in 1:n_basefuncs_v\n",
    "                ∇φᵢ = shape_gradient(cellvalues_v, q_point, i)\n",
    "                for j in 1:n_basefuncs_v\n",
    "                    ∇φⱼ = shape_gradient(cellvalues_v, q_point, j)\n",
    "                    Kₑ[BlockIndex((v▄, v▄), (i, j))] -= ν * ∇φᵢ ⊡ ∇φⱼ * dΩ\n",
    "                end\n",
    "            end\n",
    "            # Pressure + Incompressibility term B - note the symmetry.\n",
    "            for j in 1:n_basefuncs_p\n",
    "                ψ = shape_value(cellvalues_p, q_point, j)\n",
    "                for i in 1:n_basefuncs_v\n",
    "                    divφ = shape_divergence(cellvalues_v, q_point, i)\n",
    "                    Kₑ[BlockIndex((v▄, p▄), (i, j))] += (divφ * ψ) * dΩ\n",
    "                    Kₑ[BlockIndex((p▄, v▄), (j, i))] += (ψ * divφ) * dΩ\n",
    "                end\n",
    "            end\n",
    "        end\n",
    "        # The last step in the element loop is to assemble `Kₑ` and `fe`\n",
    "        # into the global `K` and `f` with `assemble!`.\n",
    "        assemble!(stiffness_assembler, celldofs(cell), Kₑ)\n",
    "    end\n",
    "    return K\n",
    "end;"
   ],
   "metadata": {},
   "execution_count": 11
  },
  {
   "cell_type": "markdown",
   "source": [
    "### Solution of the semi-discretized system via DifferentialEquations.jl\n",
    "First we assemble the linear portions for efficiency. These matrices are\n",
    "assumed to be constant over time."
   ],
   "metadata": {}
  },
  {
   "outputs": [],
   "cell_type": "code",
   "source": [
    "T = 10.0\n",
    "Δt₀ = 0.01\n",
    "Δt_save = 0.1\n",
    "\n",
    "M = create_sparsity_pattern(dh);\n",
    "M = assemble_mass_matrix(cellvalues_v, cellvalues_p, M, dh);\n",
    "\n",
    "K = create_sparsity_pattern(dh);\n",
    "K = assemble_stokes_matrix(cellvalues_v, cellvalues_p, ν, K, dh);"
   ],
   "metadata": {},
   "execution_count": 12
  },
  {
   "cell_type": "markdown",
   "source": [
    "These are our initial conditions. We start from the zero solution, because it\n",
    "is trivially admissible if the Dirichlet conditions are zero everywhere on the\n",
    "Dirichlet boundary for t=0. Note that the time stepper is also doing fine if the\n",
    "Dirichlet condition is non-zero and not too pathological."
   ],
   "metadata": {}
  },
  {
   "outputs": [],
   "cell_type": "code",
   "source": [
    "u₀ = zeros(ndofs(dh))\n",
    "apply!(u₀, ch);"
   ],
   "metadata": {},
   "execution_count": 13
  },
  {
   "cell_type": "markdown",
   "source": [
    "At the time of writing this example we have no clean way to hook into the\n",
    "nonlinear solver backend to apply the Dirichlet BCs. As a hotfix we override\n",
    "the newton initialization. We cannot solve all emerging issues by developing\n",
    "a customized newton algorithm here. This hack should only be seen as an\n",
    "intermediate step towards integration with OrdinaryDiffEq.jl."
   ],
   "metadata": {}
  },
  {
   "outputs": [],
   "cell_type": "code",
   "source": [
    "function OrdinaryDiffEq.initialize!(nlsolver::OrdinaryDiffEq.NLSolver{<:NLNewton,true}, integrator)\n",
    "    # This block is copy pasta from OrdinaryDiffEq\n",
    "    @unpack u,uprev,t,dt,opts = integrator\n",
    "    @unpack z,tmp,cache = nlsolver\n",
    "    @unpack weight = cache\n",
    "\n",
    "    cache.invγdt = inv(dt * nlsolver.γ)\n",
    "    cache.tstep = integrator.t + nlsolver.c * dt\n",
    "    OrdinaryDiffEq.calculate_residuals!(weight, fill!(weight, one(eltype(u))), uprev, u,\n",
    "                         opts.abstol, opts.reltol, opts.internalnorm, t);\n",
    "    # Before starting the nonlinear solve we have to set the time correctly.\n",
    "    # Note that ch is a global variable for now.\n",
    "    update!(ch, cache.tstep);\n",
    "    # The update of u takes uprev + z or tmp + z most of the time, so we have\n",
    "    # to enforce Dirichlet BCs here. Note that these mutations may break the\n",
    "    # error estimators.\n",
    "    apply!(uprev, ch)\n",
    "    apply!(tmp, ch)\n",
    "    apply_zero!(z, ch);\n",
    "\n",
    "    nothing\n",
    "end;"
   ],
   "metadata": {},
   "execution_count": 14
  },
  {
   "cell_type": "markdown",
   "source": [
    "For the linear equations we can cleanly integrate with the linear solver\n",
    "interface provided by the DifferentialEquations ecosystem. We use a direct\n",
    "solver for simplicity, altough it comes with some issues. Implementing\n",
    "GMRES with efficient preconditioner is left open for future work."
   ],
   "metadata": {}
  },
  {
   "outputs": [],
   "cell_type": "code",
   "source": [
    "mutable struct FerriteLinSolve{CH,F}\n",
    "    ch::CH\n",
    "    factorization::F\n",
    "    A\n",
    "end\n",
    "FerriteLinSolve(ch) = FerriteLinSolve(ch,lu,nothing)\n",
    "function (p::FerriteLinSolve)(::Type{Val{:init}},f,u0_prototype)\n",
    "    FerriteLinSolve(ch)\n",
    "end\n",
    "function (p::FerriteLinSolve)(x,A,b,update_matrix=false;reltol=nothing, kwargs...)\n",
    "    if update_matrix\n",
    "        # Apply Dirichlet BCs\n",
    "        apply_zero!(A, b, p.ch)\n",
    "        # Update factorization\n",
    "        p.A = p.factorization(A)\n",
    "    end\n",
    "    ldiv!(x, p.A, b)\n",
    "    apply_zero!(x, p.ch)\n",
    "    return nothing\n",
    "end;"
   ],
   "metadata": {},
   "execution_count": 15
  },
  {
   "cell_type": "markdown",
   "source": [
    "DifferentialEquations assumes dense matrices by default, which is not\n",
    "feasible for semi-discretization of finize element models. We communicate\n",
    "that a sparse matrix with specified pattern should be utilized through the\n",
    "`jac_prototyp` argument. Additionally, we have to provide the mass matrix.\n",
    "To apply the nonlinear portion of the Navier-Stokes problem we simply hand\n",
    "over the dof handler to the right hand side as a parameter in addition to\n",
    "the pre-assembled linear part (which is time independent) to save some\n",
    "runtime."
   ],
   "metadata": {}
  },
  {
   "outputs": [],
   "cell_type": "code",
   "source": [
    "jac_sparsity = sparse(K)\n",
    "function navierstokes!(du,u,p,t)\n",
    "    K,dh,cellvalues_v = p\n",
    "    du .= K * u\n",
    "\n",
    "    n_basefuncs = getnbasefunctions(cellvalues_v)\n",
    "\n",
    "    # Nonlinear contribution\n",
    "    for cell in CellIterator(dh)\n",
    "        Ferrite.reinit!(cellvalues_v, cell)\n",
    "        # Trilinear form evaluation\n",
    "        all_celldofs = celldofs(cell)\n",
    "        v_celldofs = all_celldofs[dof_range(dh, :v)]\n",
    "        v_cell = u[v_celldofs]\n",
    "        for q_point in 1:getnquadpoints(cellvalues_v)\n",
    "            dΩ = getdetJdV(cellvalues_v, q_point)\n",
    "            ∇v = function_gradient(cellvalues_v, q_point, v_cell)\n",
    "            v = function_value(cellvalues_v, q_point, v_cell)\n",
    "            for j in 1:n_basefuncs\n",
    "                φⱼ = shape_value(cellvalues_v, q_point, j)\n",
    "                # Note that the order the gradient term is now on the left, which is the correct thing to do here.\n",
    "                # It can be quickly shown through index notation.\n",
    "                # $$\n",
    "                # [(v \\cdot \\nabla) v]_i = v_j \\partial_j v_i = \\partial_j v_i v_j = (\\nabla v) v\n",
    "                # $$\n",
    "                du[v_celldofs[j]] -= ∇v ⋅ v ⋅ φⱼ * dΩ\n",
    "            end\n",
    "        end\n",
    "    end\n",
    "end;\n",
    "rhs = ODEFunction(navierstokes!, mass_matrix=M; jac_prototype=jac_sparsity)\n",
    "p = [K, dh, cellvalues_v]\n",
    "problem = ODEProblem(rhs, u₀, (0.0,T), p);"
   ],
   "metadata": {},
   "execution_count": 16
  },
  {
   "cell_type": "markdown",
   "source": [
    "Now we can put everything together by specifying how to solve the problem.\n",
    "We want to use the adaptive implicit Euler method with our custom linear\n",
    "solver, which helps in the enforcement of the Dirichlet BCs. Further we\n",
    "enable the progress bar with the `progess` and `progress_steps` arguments.\n",
    "Finally we have to communicate the time step length and initialization\n",
    "algorithm. Since we start with a valid initial state we do not use one of\n",
    "DifferentialEquations.jl initialization algorithms.\n",
    "NOTE: At the time of writing this [no index 2 initialization is implemented](https://github.com/SciML/OrdinaryDiffEq.jl/issues/1019).\n",
    "\n",
    "To visualize the result we export the grid and our fields\n",
    "to VTK-files, which can be viewed in [ParaView](https://www.paraview.org/)\n",
    "by utilizing the corresponding pvd file."
   ],
   "metadata": {}
  },
  {
   "outputs": [],
   "cell_type": "code",
   "source": [
    "timestepper = ImplicitEuler(linsolve=FerriteLinSolve(ch))\n",
    "integrator = init(\n",
    "    problem, timestepper, initializealg=NoInit(), dt=Δt₀,\n",
    "    adaptive=true, abstol=1e-3, reltol=1e-3,\n",
    "    progress=true, progress_steps=1,\n",
    "    saveat=Δt_save);\n",
    "\n",
    "pvd = paraview_collection(\"vortex-street.pvd\");\n",
    "integrator = TimeChoiceIterator(integrator, 0.0:Δt_save:T)\n",
    "for (u,t) in integrator\n",
    "    #compress=false flag because otherwise each vtk file will be stored in memory\n",
    "    vtk_grid(\"vortex-street-$t.vtu\", dh; compress=false) do vtk\n",
    "        vtk_point_data(vtk,dh,u)\n",
    "        vtk_save(vtk)\n",
    "        pvd[t] = vtk\n",
    "    end\n",
    "end;"
   ],
   "metadata": {},
   "execution_count": 17
  },
  {
   "cell_type": "markdown",
   "source": [
    "---\n",
    "\n",
    "*This notebook was generated using [Literate.jl](https://github.com/fredrikekre/Literate.jl).*"
   ],
   "metadata": {}
  }
 ],
 "nbformat_minor": 3,
 "metadata": {
  "language_info": {
   "file_extension": ".jl",
   "mimetype": "application/julia",
   "name": "julia",
   "version": "1.6.3"
  },
  "kernelspec": {
   "name": "julia-1.6",
   "display_name": "Julia 1.6.3",
   "language": "julia"
  }
 },
 "nbformat": 4
}
