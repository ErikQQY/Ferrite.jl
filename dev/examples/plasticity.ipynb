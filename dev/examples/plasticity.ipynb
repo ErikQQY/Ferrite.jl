{
 "cells": [
  {
   "cell_type": "markdown",
   "source": [
    "# von Mises plasticity\n",
    "\n",
    "![Shows the von Mises stress distribution in a cantilever beam.](plasticity.png)\n",
    "*Figure 1.* A coarse mesh solution of a cantilever beam subjected to a load\n",
    "causing plastic deformations. The initial yield limit is 200 MPa but due to\n",
    "hardening it increases up to approximately 240 MPa."
   ],
   "metadata": {}
  },
  {
   "cell_type": "markdown",
   "source": [
    "## Introduction\n",
    "\n",
    "This example illustrates the use of a nonlinear material model in JuAFEM.\n",
    "The particular model is von Mises plasticity (also know as J₂-plasticity) with\n",
    "isotropic hardening. The model is fully 3D, meaning that no assumptions like *plane stress*\n",
    "or *plane strain* are introduced.\n",
    "\n",
    "Also note that the theory of the model is not described here, instead one is\n",
    "referred to standard textbooks on material modeling.\n",
    "\n",
    "To illustrate the use of the plasticity model, we setup and solve a FE-problem\n",
    "consisting of a cantilever beam loaded at its free end. But first, we shortly\n",
    "describe the parts of the implementation deadling with the material modeling."
   ],
   "metadata": {}
  },
  {
   "cell_type": "markdown",
   "source": [
    "## Material modeling\n",
    "This section describes the `struct`s and methods used to implement the material\n",
    "model"
   ],
   "metadata": {}
  },
  {
   "cell_type": "markdown",
   "source": [
    "### Material parameters and state variables\n",
    "\n",
    "Start by loading some necessary packages"
   ],
   "metadata": {}
  },
  {
   "outputs": [],
   "cell_type": "code",
   "source": [
    "using JuAFEM, SparseArrays, LinearAlgebra, Printf"
   ],
   "metadata": {},
   "execution_count": 1
  },
  {
   "cell_type": "markdown",
   "source": [
    "We define a J₂-plasticity-material, containing material parameters and the elastic\n",
    "stiffness Dᵉ (since it is constant)"
   ],
   "metadata": {}
  },
  {
   "outputs": [],
   "cell_type": "code",
   "source": [
    "struct J2Plasticity{T, S <: SymmetricTensor{4, 3, T}}\n",
    "    G::T  # Shear modulus\n",
    "    K::T  # Bulk modulus\n",
    "    σ₀::T # Initial yield limit\n",
    "    H::T  # Hardening modulus\n",
    "    Dᵉ::S # Elastic stiffness tensor\n",
    "end;"
   ],
   "metadata": {},
   "execution_count": 2
  },
  {
   "cell_type": "markdown",
   "source": [
    "Next, we define a constructor for the material instance."
   ],
   "metadata": {}
  },
  {
   "outputs": [],
   "cell_type": "code",
   "source": [
    "function J2Plasticity(E, ν, σ₀, H)\n",
    "    δ(i,j) = i == j ? 1.0 : 0.0 # helper function\n",
    "    G = E / 2(1 + ν)\n",
    "    K = E / 3(1 - 2ν)\n",
    "\n",
    "    Isymdev(i,j,k,l) = 0.5*(δ(i,k)*δ(j,l) + δ(i,l)*δ(j,k)) - 1.0/3.0*δ(i,j)*δ(k,l)\n",
    "    temp(i,j,k,l) = 2.0G *( 0.5*(δ(i,k)*δ(j,l) + δ(i,l)*δ(j,k)) + ν/(1.0-2.0ν)*δ(i,j)*δ(k,l))\n",
    "    Dᵉ = SymmetricTensor{4, 3}(temp)\n",
    "    return J2Plasticity(G, K, σ₀, H, Dᵉ)\n",
    "end;"
   ],
   "metadata": {},
   "execution_count": 3
  },
  {
   "cell_type": "markdown",
   "source": [
    "Define a `struct` to store the material state."
   ],
   "metadata": {}
  },
  {
   "outputs": [],
   "cell_type": "code",
   "source": [
    "mutable struct MaterialState{T, S <: SecondOrderTensor{3, T}}\n",
    "    # Store \"converged\" values\n",
    "    ϵᵖ::S # plastic strain\n",
    "    σ::S # stress\n",
    "    k::T # hardening variable\n",
    "\n",
    "    # Store temporary values used during equilibrium iterations\n",
    "    temp_ϵᵖ::S\n",
    "    temp_σ::S\n",
    "    temp_k::T\n",
    "end"
   ],
   "metadata": {},
   "execution_count": 4
  },
  {
   "cell_type": "markdown",
   "source": [
    "Constructor for initializing a material state. Every quantity is set to zero."
   ],
   "metadata": {}
  },
  {
   "outputs": [
    {
     "output_type": "execute_result",
     "data": {
      "text/plain": "Main.##264.MaterialState"
     },
     "metadata": {},
     "execution_count": 5
    }
   ],
   "cell_type": "code",
   "source": [
    "function MaterialState()\n",
    "    return MaterialState(\n",
    "                zero(SymmetricTensor{2, 3}),\n",
    "                zero(SymmetricTensor{2, 3}),\n",
    "                0.0,\n",
    "                zero(SymmetricTensor{2, 3}),\n",
    "                zero(SymmetricTensor{2, 3}),\n",
    "                0.0)\n",
    "end"
   ],
   "metadata": {},
   "execution_count": 5
  },
  {
   "cell_type": "markdown",
   "source": [
    "Next, we define a method to update the material state after equilibrium has\n",
    "been found. This will be called at the end of each time-step."
   ],
   "metadata": {}
  },
  {
   "outputs": [],
   "cell_type": "code",
   "source": [
    "function update_state!(state::MaterialState)\n",
    "    state.ϵᵖ = state.temp_ϵᵖ\n",
    "    state.σ = state.temp_σ\n",
    "    state.k = state.temp_k\n",
    "end;"
   ],
   "metadata": {},
   "execution_count": 6
  },
  {
   "cell_type": "markdown",
   "source": [
    "For later use, during the post-processing step, we define a function to\n",
    "compute the von Mises effective stress."
   ],
   "metadata": {}
  },
  {
   "outputs": [],
   "cell_type": "code",
   "source": [
    "function vonMises(σ)\n",
    "    s = dev(σ)\n",
    "    return sqrt(3.0/2.0 * s ⊡ s)\n",
    "end;"
   ],
   "metadata": {},
   "execution_count": 7
  },
  {
   "cell_type": "markdown",
   "source": [
    "## Constitutive driver\n",
    "\n",
    "This is the actual method which computes the stress and material tangent\n",
    "stiffness in a given integration point.\n",
    "Input is the current strain and material state."
   ],
   "metadata": {}
  },
  {
   "outputs": [
    {
     "output_type": "execute_result",
     "data": {
      "text/plain": "compute_stress_tangent (generic function with 1 method)"
     },
     "metadata": {},
     "execution_count": 8
    }
   ],
   "cell_type": "code",
   "source": [
    "function compute_stress_tangent(ϵ::SymmetricTensor{2, 3}, material::J2Plasticity, state::MaterialState)\n",
    "    # unpack some material parameters\n",
    "    G = material.G\n",
    "    K = material.K\n",
    "    H = material.H\n",
    "\n",
    "    # We use (•)ᵗ to denote *trial*-values\n",
    "    σᵗ = material.Dᵉ ⊡ (ϵ - state.ϵᵖ) # trial-stress\n",
    "    sᵗ = dev(σᵗ)         # deviatoric part of trial-stress\n",
    "    J₂ = 0.5 * sᵗ ⊡ sᵗ   # second invariant of sᵗ\n",
    "    σᵗₑ = sqrt(3.0*J₂)   # effetive trial-stress (von Mises stress)\n",
    "    σʸ = material.σ₀ + H * state.k # Previous yield limit\n",
    "\n",
    "    φᵗ  = σᵗₑ - σʸ # Trial-value of the yield surface\n",
    "\n",
    "    if φᵗ < 0.0 # elastic loading\n",
    "        state.temp_σ = σᵗ\n",
    "        return state.temp_σ, material.Dᵉ\n",
    "    else # plastic loading\n",
    "        h = H + 3G\n",
    "        μ =  φᵗ / h   # plastic multiplier\n",
    "\n",
    "        c1 = 1 - 3G * μ / σᵗₑ\n",
    "        s = c1 * sᵗ           # updated deviatoric stress\n",
    "        σ = s + vol(σᵗ)       # updated stress\n",
    "\n",
    "        # Compute algorithmic tangent stiffness ``D = \\frac{\\Delta \\sigma }{\\Delta \\epsilon}``\n",
    "        κ = H * (state.k + μ) # drag stress\n",
    "        σₑ = material.σ₀ + κ  # updated yield surface\n",
    "\n",
    "        δ(i,j) = i == j ? 1.0 : 0.0\n",
    "        Isymdev(i,j,k,l)  = 0.5*(δ(i,k)*δ(j,l) + δ(i,l)*δ(j,k)) - 1.0/3.0*δ(i,j)*δ(k,l)\n",
    "        Q(i,j,k,l) = Isymdev(i,j,k,l) - 3.0 / (2.0*σₑ^2) * s[i,j]*s[k,l]\n",
    "        b = (3G*μ/σₑ) / (1.0 + 3G*μ/σₑ)\n",
    "\n",
    "        Dtemp(i,j,k,l) = -2G*b * Q(i,j,k,l) - 9G^2 / (h*σₑ^2) * s[i,j]*s[k,l]\n",
    "        D = material.Dᵉ + SymmetricTensor{4, 3}(Dtemp)\n",
    "\n",
    "        # Store outputs in the material state\n",
    "        Δϵᵖ = 3/2 *μ / σₑ*s            # plastic strain\n",
    "        state.temp_ϵᵖ = state.ϵᵖ + Δϵᵖ  # plastic strain\n",
    "        state.temp_k = state.k + μ     # hardening variable\n",
    "        state.temp_σ = σ               # updated stress\n",
    "        return state.temp_σ, D\n",
    "    end\n",
    "end"
   ],
   "metadata": {},
   "execution_count": 8
  },
  {
   "cell_type": "markdown",
   "source": [
    "## FE-problem\n",
    "What follows are methods for assembling and and solving the FE-problem."
   ],
   "metadata": {}
  },
  {
   "outputs": [],
   "cell_type": "code",
   "source": [
    "function create_values(interpolation)\n",
    "    # setup quadrature rules\n",
    "    qr      = QuadratureRule{3,RefTetrahedron}(2)\n",
    "    face_qr = QuadratureRule{2,RefTetrahedron}(3)\n",
    "\n",
    "    # create geometric interpolation (use the same as for u)\n",
    "    interpolation_geom = Lagrange{3,RefTetrahedron,1}()\n",
    "\n",
    "    # cell and facevalues for u\n",
    "    cellvalues_u = CellVectorValues(qr, interpolation, interpolation_geom)\n",
    "    facevalues_u = FaceVectorValues(face_qr, interpolation, interpolation_geom)\n",
    "\n",
    "    return cellvalues_u, facevalues_u\n",
    "end;"
   ],
   "metadata": {},
   "execution_count": 9
  },
  {
   "cell_type": "markdown",
   "source": [
    "### Add degrees of freedom"
   ],
   "metadata": {}
  },
  {
   "outputs": [
    {
     "output_type": "execute_result",
     "data": {
      "text/plain": "create_dofhandler (generic function with 1 method)"
     },
     "metadata": {},
     "execution_count": 10
    }
   ],
   "cell_type": "code",
   "source": [
    "function create_dofhandler(grid, interpolation)\n",
    "    dh = DofHandler(grid)\n",
    "    dim = 3\n",
    "    push!(dh, :u, dim, interpolation) # add a displacement field with 3 components\n",
    "    close!(dh)\n",
    "    return dh\n",
    "end"
   ],
   "metadata": {},
   "execution_count": 10
  },
  {
   "cell_type": "markdown",
   "source": [
    "### Boundary conditions"
   ],
   "metadata": {}
  },
  {
   "outputs": [],
   "cell_type": "code",
   "source": [
    "function create_bc(dh, grid)\n",
    "    dbcs = ConstraintHandler(dh)\n",
    "    # Clamped on the left side\n",
    "    dofs = [1, 2, 3]\n",
    "    dbc = Dirichlet(:u, getfaceset(grid, \"left\"), (x,t) -> [0.0, 0.0, 0.0], dofs)\n",
    "    add!(dbcs, dbc)\n",
    "    close!(dbcs)\n",
    "    return dbcs\n",
    "end;"
   ],
   "metadata": {},
   "execution_count": 11
  },
  {
   "cell_type": "markdown",
   "source": [
    "### Assembling of element contributions\n",
    "\n",
    "* Residual vector `r`\n",
    "* Tangent stiffness `K`"
   ],
   "metadata": {}
  },
  {
   "outputs": [
    {
     "output_type": "execute_result",
     "data": {
      "text/plain": "doassemble (generic function with 1 method)"
     },
     "metadata": {},
     "execution_count": 12
    }
   ],
   "cell_type": "code",
   "source": [
    "function doassemble(cellvalues::CellVectorValues{dim},\n",
    "                    facevalues::FaceVectorValues{dim}, K::SparseMatrixCSC, grid::Grid,\n",
    "                    dh::DofHandler, material::J2Plasticity, u, states, t) where {dim}\n",
    "    r = zeros(ndofs(dh))\n",
    "    assembler = start_assemble(K, r)\n",
    "    nu = getnbasefunctions(cellvalues)\n",
    "    re = zeros(nu)     # element residual vector\n",
    "    ke = zeros(nu, nu) # element tangent matrix\n",
    "\n",
    "    for (cell, state) in zip(CellIterator(dh), states)\n",
    "        fill!(ke, 0)\n",
    "        fill!(re, 0)\n",
    "        eldofs = celldofs(cell)\n",
    "        ue = u[eldofs]\n",
    "        assemble_cell!(ke, re, cell, cellvalues, facevalues, grid, material,\n",
    "                       ue, state, t)\n",
    "        assemble!(assembler, eldofs, re, ke)\n",
    "    end\n",
    "    return K, r\n",
    "end"
   ],
   "metadata": {},
   "execution_count": 12
  },
  {
   "cell_type": "markdown",
   "source": [
    "Compute element contribution to the residual and the tangent."
   ],
   "metadata": {}
  },
  {
   "outputs": [
    {
     "output_type": "execute_result",
     "data": {
      "text/plain": "assemble_cell! (generic function with 1 method)"
     },
     "metadata": {},
     "execution_count": 13
    }
   ],
   "cell_type": "code",
   "source": [
    "function assemble_cell!(Ke, re, cell, cellvalues, facevalues, grid, material,\n",
    "                        ue, state, t)\n",
    "    n_basefuncs = getnbasefunctions(cellvalues)\n",
    "    reinit!(cellvalues, cell)\n",
    "\n",
    "    for q_point in 1:getnquadpoints(cellvalues)\n",
    "        # For each integration point, compute stress and material stiffness\n",
    "        ∇u = function_gradient(cellvalues, q_point, ue)\n",
    "        ϵ = symmetric(∇u) # Total strain\n",
    "        σ, D = compute_stress_tangent(ϵ, material, state[q_point])\n",
    "\n",
    "        dΩ = getdetJdV(cellvalues, q_point)\n",
    "        for i in 1:n_basefuncs\n",
    "            δϵ = symmetric(shape_gradient(cellvalues, q_point, i))\n",
    "\n",
    "            re[i] += (δϵ ⊡ σ) * dΩ # add internal force to residual\n",
    "            for j in 1:i\n",
    "                Δϵ = symmetric(shape_gradient(cellvalues, q_point, j))\n",
    "                Ke[i, j] += δϵ ⊡ D ⊡ Δϵ * dΩ\n",
    "            end\n",
    "        end\n",
    "    end\n",
    "    symmetrize_lower!(Ke)\n",
    "\n",
    "    # Add traction as a negative contribution to the element residual `re`:\n",
    "    for face in 1:nfaces(cell)\n",
    "        if onboundary(cell, face) && (cellid(cell), face) ∈ getfaceset(grid, \"right\")\n",
    "            reinit!(facevalues, cell, face)\n",
    "            for q_point in 1:getnquadpoints(facevalues)\n",
    "                dΓ = getdetJdV(facevalues, q_point)\n",
    "                for i in 1:n_basefuncs\n",
    "                    δu = shape_value(facevalues, q_point, i)\n",
    "                    re[i] -= (δu ⋅ t) * dΓ\n",
    "                end\n",
    "            end\n",
    "        end\n",
    "    end\n",
    "\n",
    "end"
   ],
   "metadata": {},
   "execution_count": 13
  },
  {
   "cell_type": "markdown",
   "source": [
    "Helper function to symmetrize the material tangent"
   ],
   "metadata": {}
  },
  {
   "outputs": [],
   "cell_type": "code",
   "source": [
    "function symmetrize_lower!(K)\n",
    "    for i in 1:size(K,1)\n",
    "        for j in i+1:size(K,1)\n",
    "            K[i,j] = K[j,i]\n",
    "        end\n",
    "    end\n",
    "end;"
   ],
   "metadata": {},
   "execution_count": 14
  },
  {
   "cell_type": "markdown",
   "source": [
    "Define a function which solves the FE-problem."
   ],
   "metadata": {}
  },
  {
   "outputs": [
    {
     "output_type": "execute_result",
     "data": {
      "text/plain": "solve (generic function with 1 method)"
     },
     "metadata": {},
     "execution_count": 15
    }
   ],
   "cell_type": "code",
   "source": [
    "function solve()\n",
    "    # Define material parameters\n",
    "    E = 200.0e9 # [Pa]\n",
    "    H = E/20   # [Pa]\n",
    "    ν = 0.3     # [-]\n",
    "    σ₀ = 200e6  # [Pa]\n",
    "    material = J2Plasticity(E, ν, σ₀, H)\n",
    "\n",
    "    L = 10.0 # beam length [m]\n",
    "    w = 1.0  # beam width [m]\n",
    "    h = 1.0  # beam height[m]\n",
    "    n_timesteps = 10\n",
    "    u_max = zeros(n_timesteps)\n",
    "    traction_magnitude = 1.e7 * range(0.5, 1.0, length=n_timesteps)\n",
    "\n",
    "    # Create geometry, dofs and boundary conditions\n",
    "    n = 2\n",
    "    nels = (10n, n, 2n) # number of elements in each spatial direction\n",
    "    P1 = Vec((0.0, 0.0, 0.0))  # start point for geometry\n",
    "    P2 = Vec((L, w, h))        # end point for geometry\n",
    "    grid = generate_grid(Tetrahedron, nels, P1, P2)\n",
    "    interpolation = Lagrange{3, RefTetrahedron, 1}() # Linear tet with 3 unknowns/node\n",
    "\n",
    "    dh = create_dofhandler(grid, interpolation) # JuaFEM helper function\n",
    "    dbcs = create_bc(dh, grid) # create Dirichlet boundary-conditions\n",
    "\n",
    "    cellvalues, facevalues = create_values(interpolation)\n",
    "\n",
    "    # Pre-allocate solution vectors, etc.\n",
    "    n_dofs = ndofs(dh)  # total number of dofs\n",
    "    u  = zeros(n_dofs)  # solution vector\n",
    "    Δu = zeros(n_dofs)  # displacement correction\n",
    "    r = zeros(n_dofs)   # residual\n",
    "    K = create_sparsity_pattern(dh); # tangent stiffness matrix\n",
    "\n",
    "    # Create material states. One array for each cell, where each element is an array of material-\n",
    "    # states - one for each integration point\n",
    "    nqp = getnquadpoints(cellvalues)\n",
    "    states = [[MaterialState() for _ in 1:nqp] for _ in 1:getncells(grid)]\n",
    "\n",
    "    # states = [MaterialState() for _ in 1:nqp for _ in 1:getncells(grid)]\n",
    "    # temp_states = [MaterialState() for _ in 1:nqp for _ in 1:getncells(grid)]\n",
    "\n",
    "    # Newton-Raphson loop\n",
    "    NEWTON_TOL = 1 # 1 N\n",
    "    print(\"\\n Starting Netwon iterations:\\n\")\n",
    "\n",
    "    for timestep in 1:n_timesteps\n",
    "        t = timestep # actual time (used for evaluating d-bndc)\n",
    "        traction = Vec((0.0, 0.0, traction_magnitude[timestep]))\n",
    "        newton_itr = -1\n",
    "        print(\"\\n Time step @time = $timestep:\\n\")\n",
    "        update!(dbcs, t) # evaluates the D-bndc at time t\n",
    "        apply!(u, dbcs)  # set the prescribed values in the solution vector\n",
    "\n",
    "        while true; newton_itr += 1\n",
    "\n",
    "            if newton_itr > 8\n",
    "                error(\"Reached maximum Newton iterations, aborting\")\n",
    "                break\n",
    "            end\n",
    "            K, r = doassemble(cellvalues, facevalues, K, grid, dh, material, u,\n",
    "                             states, traction);\n",
    "            norm_r = norm(r[JuAFEM.free_dofs(dbcs)])\n",
    "\n",
    "            print(\"Iteration: $newton_itr \\tresidual: $(@sprintf(\"%.8f\", norm_r))\\n\")\n",
    "            if norm_r < NEWTON_TOL\n",
    "                break\n",
    "            end\n",
    "\n",
    "            apply_zero!(K, r, dbcs)\n",
    "            Δu = Symmetric(K) \\ r\n",
    "            u -= Δu\n",
    "        end\n",
    "\n",
    "        # Update all the material states after we have reached equilibrium\n",
    "        for cell_states in states\n",
    "            foreach(update_state!, cell_states)\n",
    "        end\n",
    "        u_max[timestep] = max(abs.(u)...) # maximum displacement in current timestep\n",
    "    end\n",
    "\n",
    "    # ## Postprocessing\n",
    "    # Only a vtu-file corrsponding to the last time-step is exported.\n",
    "    #\n",
    "    # The following is a quick (and dirty) way of extracting average cell data for export.\n",
    "    mises_values = zeros(getncells(grid))\n",
    "    κ_values = zeros(getncells(grid))\n",
    "    for (el, cell_states) in enumerate(states)\n",
    "        for state in cell_states\n",
    "            mises_values[el] += vonMises(state.σ)\n",
    "            κ_values[el] += state.k*material.H\n",
    "        end\n",
    "        mises_values[el] /= length(cell_states) # average von Mises stress\n",
    "        κ_values[el] /= length(cell_states)     # average drag stress\n",
    "    end\n",
    "    vtk_grid(\"plasticity\", dh) do vtkfile\n",
    "        vtk_point_data(vtkfile, dh, u) # displacement field\n",
    "        vtk_cell_data(vtkfile, mises_values, \"von Mises [Pa]\")\n",
    "        vtk_cell_data(vtkfile, κ_values, \"Drag stress [Pa]\")\n",
    "    end\n",
    "\n",
    "    return u_max, traction_magnitude\n",
    "end"
   ],
   "metadata": {},
   "execution_count": 15
  },
  {
   "cell_type": "markdown",
   "source": [
    "Solve the FE-problem and for each time-step extract maximum displacement and\n",
    "the corresponding traction load. Also compute the limit-traction-load"
   ],
   "metadata": {}
  },
  {
   "outputs": [
    {
     "name": "stdout",
     "output_type": "stream",
     "text": [
      "\n",
      " Starting Netwon iterations:\n",
      "\n",
      " Time step @time = 1:\n",
      "Iteration: 0 \tresidual: 1435838.41167605\n",
      "Iteration: 1 \tresidual: 118655.22430254\n",
      "Iteration: 2 \tresidual: 59.50456058\n",
      "Iteration: 3 \tresidual: 0.00002568\n",
      "\n",
      " Time step @time = 2:\n",
      "Iteration: 0 \tresidual: 159537.60129714\n",
      "Iteration: 1 \tresidual: 1694313.86970214\n",
      "Iteration: 2 \tresidual: 61777.44063568\n",
      "Iteration: 3 \tresidual: 14.34471357\n",
      "Iteration: 4 \tresidual: 0.00001484\n",
      "\n",
      " Time step @time = 3:\n",
      "Iteration: 0 \tresidual: 159537.60129722\n",
      "Iteration: 1 \tresidual: 3286236.01301266\n",
      "Iteration: 2 \tresidual: 95211.71236179\n",
      "Iteration: 3 \tresidual: 42.10281102\n",
      "Iteration: 4 \tresidual: 0.00002034\n",
      "\n",
      " Time step @time = 4:\n",
      "Iteration: 0 \tresidual: 159537.60129739\n",
      "Iteration: 1 \tresidual: 4074584.79655473\n",
      "Iteration: 2 \tresidual: 125522.31517769\n",
      "Iteration: 3 \tresidual: 85.56234802\n",
      "Iteration: 4 \tresidual: 0.00008218\n",
      "\n",
      " Time step @time = 5:\n",
      "Iteration: 0 \tresidual: 159537.60129697\n",
      "Iteration: 1 \tresidual: 4941354.67155585\n",
      "Iteration: 2 \tresidual: 598659.61655942\n",
      "Iteration: 3 \tresidual: 1705.25762740\n",
      "Iteration: 4 \tresidual: 0.01820566\n",
      "\n",
      " Time step @time = 6:\n",
      "Iteration: 0 \tresidual: 159537.60129749\n",
      "Iteration: 1 \tresidual: 5722646.43724793\n",
      "Iteration: 2 \tresidual: 1495878.27360451\n",
      "Iteration: 3 \tresidual: 11731.46920573\n",
      "Iteration: 4 \tresidual: 0.70629296\n",
      "\n",
      " Time step @time = 7:\n",
      "Iteration: 0 \tresidual: 159537.60129931\n",
      "Iteration: 1 \tresidual: 7606510.53651183\n",
      "Iteration: 2 \tresidual: 2290727.38119640\n",
      "Iteration: 3 \tresidual: 26887.09790708\n",
      "Iteration: 4 \tresidual: 4.90317922\n",
      "Iteration: 5 \tresidual: 0.00003229\n",
      "\n",
      " Time step @time = 8:\n",
      "Iteration: 0 \tresidual: 159537.60129828\n",
      "Iteration: 1 \tresidual: 8462129.40348994\n",
      "Iteration: 2 \tresidual: 2109174.70833193\n",
      "Iteration: 3 \tresidual: 35887.18677515\n",
      "Iteration: 4 \tresidual: 3.70908979\n",
      "Iteration: 5 \tresidual: 0.00002909\n",
      "\n",
      " Time step @time = 9:\n",
      "Iteration: 0 \tresidual: 159537.60129805\n",
      "Iteration: 1 \tresidual: 9202838.89172446\n",
      "Iteration: 2 \tresidual: 2126828.17217703\n",
      "Iteration: 3 \tresidual: 16361.77822715\n",
      "Iteration: 4 \tresidual: 1.64261979\n",
      "Iteration: 5 \tresidual: 0.00003680\n",
      "\n",
      " Time step @time = 10:\n",
      "Iteration: 0 \tresidual: 159537.60129774\n",
      "Iteration: 1 \tresidual: 9187616.50472173\n",
      "Iteration: 2 \tresidual: 1897408.89581055\n",
      "Iteration: 3 \tresidual: 33792.31738361\n",
      "Iteration: 4 \tresidual: 4.10036937\n",
      "Iteration: 5 \tresidual: 0.00004464\n"
     ]
    }
   ],
   "cell_type": "code",
   "source": [
    "u_max, traction_magnitude = solve();"
   ],
   "metadata": {},
   "execution_count": 16
  },
  {
   "cell_type": "markdown",
   "source": [
    "Finally we plot the load-displacement curve."
   ],
   "metadata": {}
  },
  {
   "outputs": [
    {
     "output_type": "execute_result",
     "data": {
      "text/plain": "Plot{Plots.GRBackend() n=1}",
      "image/png": "[encoded data removed]",
      "text/html": [
       "<?xml version=\"1.0\" encoding=\"utf-8\"?>\n",
       "<svg xmlns=\"http://www.w3.org/2000/svg\" xmlns:xlink=\"http://www.w3.org/1999/xlink\" width=\"2400\" height=\"1600\" viewBox=\"0 0 9600 6400\">\n",
       "<defs>\n",
       "  <clipPath id=\"clip280\">\n",
       "    <rect x=\"0\" y=\"0\" width=\"9600\" height=\"6400\"/>\n",
       "  </clipPath>\n",
       "</defs>\n",
       "<path clip-path=\"url(#clip280)\" d=\"\n",
       "M0 6400 L9600 6400 L9600 0 L0 0  Z\n",
       "  \" fill=\"#ffffff\" fill-rule=\"evenodd\" fill-opacity=\"1\"/>\n",
       "<defs>\n",
       "  <clipPath id=\"clip281\">\n",
       "    <rect x=\"1920\" y=\"0\" width=\"6721\" height=\"6400\"/>\n",
       "  </clipPath>\n",
       "</defs>\n",
       "<path clip-path=\"url(#clip280)\" d=\"\n",
       "M410.961 6021.04 L9411.02 6021.04 L9411.02 251.969 L410.961 251.969  Z\n",
       "  \" fill=\"#ffffff\" fill-rule=\"evenodd\" fill-opacity=\"1\"/>\n",
       "<defs>\n",
       "  <clipPath id=\"clip282\">\n",
       "    <rect x=\"410\" y=\"251\" width=\"9001\" height=\"5770\"/>\n",
       "  </clipPath>\n",
       "</defs>\n",
       "<polyline clip-path=\"url(#clip282)\" style=\"stroke:#000000; stroke-width:8; stroke-opacity:0.1; fill:none\" points=\"\n",
       "  665.679,6021.04 665.679,251.969 \n",
       "  \"/>\n",
       "<polyline clip-path=\"url(#clip282)\" style=\"stroke:#000000; stroke-width:8; stroke-opacity:0.1; fill:none\" points=\"\n",
       "  2334.09,6021.04 2334.09,251.969 \n",
       "  \"/>\n",
       "<polyline clip-path=\"url(#clip282)\" style=\"stroke:#000000; stroke-width:8; stroke-opacity:0.1; fill:none\" points=\"\n",
       "  4002.5,6021.04 4002.5,251.969 \n",
       "  \"/>\n",
       "<polyline clip-path=\"url(#clip282)\" style=\"stroke:#000000; stroke-width:8; stroke-opacity:0.1; fill:none\" points=\"\n",
       "  5670.91,6021.04 5670.91,251.969 \n",
       "  \"/>\n",
       "<polyline clip-path=\"url(#clip282)\" style=\"stroke:#000000; stroke-width:8; stroke-opacity:0.1; fill:none\" points=\"\n",
       "  7339.32,6021.04 7339.32,251.969 \n",
       "  \"/>\n",
       "<polyline clip-path=\"url(#clip282)\" style=\"stroke:#000000; stroke-width:8; stroke-opacity:0.1; fill:none\" points=\"\n",
       "  9007.73,6021.04 9007.73,251.969 \n",
       "  \"/>\n",
       "<polyline clip-path=\"url(#clip280)\" style=\"stroke:#000000; stroke-width:16; stroke-opacity:1; fill:none\" points=\"\n",
       "  410.961,6021.04 9411.02,6021.04 \n",
       "  \"/>\n",
       "<polyline clip-path=\"url(#clip280)\" style=\"stroke:#000000; stroke-width:16; stroke-opacity:1; fill:none\" points=\"\n",
       "  665.679,6021.04 665.679,5951.81 \n",
       "  \"/>\n",
       "<polyline clip-path=\"url(#clip280)\" style=\"stroke:#000000; stroke-width:16; stroke-opacity:1; fill:none\" points=\"\n",
       "  2334.09,6021.04 2334.09,5951.81 \n",
       "  \"/>\n",
       "<polyline clip-path=\"url(#clip280)\" style=\"stroke:#000000; stroke-width:16; stroke-opacity:1; fill:none\" points=\"\n",
       "  4002.5,6021.04 4002.5,5951.81 \n",
       "  \"/>\n",
       "<polyline clip-path=\"url(#clip280)\" style=\"stroke:#000000; stroke-width:16; stroke-opacity:1; fill:none\" points=\"\n",
       "  5670.91,6021.04 5670.91,5951.81 \n",
       "  \"/>\n",
       "<polyline clip-path=\"url(#clip280)\" style=\"stroke:#000000; stroke-width:16; stroke-opacity:1; fill:none\" points=\"\n",
       "  7339.32,6021.04 7339.32,5951.81 \n",
       "  \"/>\n",
       "<polyline clip-path=\"url(#clip280)\" style=\"stroke:#000000; stroke-width:16; stroke-opacity:1; fill:none\" points=\"\n",
       "  9007.73,6021.04 9007.73,5951.81 \n",
       "  \"/>\n",
       "<path clip-path=\"url(#clip280)\" d=\"M 0 0 M537.717 6137.8 Q523.273 6137.8 515.958 6152.06 Q508.736 6166.23 508.736 6194.75 Q508.736 6223.17 515.958 6237.43 Q523.273 6251.6 537.717 6251.6 Q552.254 6251.6 559.476 6237.43 Q566.791 6223.17 566.791 6194.75 Q566.791 6166.23 559.476 6152.06 Q552.254 6137.8 537.717 6137.8 M537.717 6122.99 Q560.958 6122.99 573.18 6141.41 Q585.495 6159.75 585.495 6194.75 Q585.495 6229.65 573.18 6248.08 Q560.958 6266.41 537.717 6266.41 Q514.477 6266.41 502.162 6248.08 Q489.94 6229.65 489.94 6194.75 Q489.94 6159.75 502.162 6141.41 Q514.477 6122.99 537.717 6122.99 Z\" fill=\"#000000\" fill-rule=\"evenodd\" fill-opacity=\"1\" /><path clip-path=\"url(#clip280)\" d=\"M 0 0 M605.772 6240.21 L625.309 6240.21 L625.309 6263.73 L605.772 6263.73 L605.772 6240.21 Z\" fill=\"#000000\" fill-rule=\"evenodd\" fill-opacity=\"1\" /><path clip-path=\"url(#clip280)\" d=\"M 0 0 M685.587 6137.8 Q671.142 6137.8 663.828 6152.06 Q656.605 6166.23 656.605 6194.75 Q656.605 6223.17 663.828 6237.43 Q671.142 6251.6 685.587 6251.6 Q700.124 6251.6 707.346 6237.43 Q714.661 6223.17 714.661 6194.75 Q714.661 6166.23 707.346 6152.06 Q700.124 6137.8 685.587 6137.8 M685.587 6122.99 Q708.827 6122.99 721.049 6141.41 Q733.364 6159.75 733.364 6194.75 Q733.364 6229.65 721.049 6248.08 Q708.827 6266.41 685.587 6266.41 Q662.346 6266.41 650.031 6248.08 Q637.809 6229.65 637.809 6194.75 Q637.809 6159.75 650.031 6141.41 Q662.346 6122.99 685.587 6122.99 Z\" fill=\"#000000\" fill-rule=\"evenodd\" fill-opacity=\"1\" /><path clip-path=\"url(#clip280)\" d=\"M 0 0 M793.642 6137.8 Q779.197 6137.8 771.883 6152.06 Q764.66 6166.23 764.66 6194.75 Q764.66 6223.17 771.883 6237.43 Q779.197 6251.6 793.642 6251.6 Q808.179 6251.6 815.401 6237.43 Q822.716 6223.17 822.716 6194.75 Q822.716 6166.23 815.401 6152.06 Q808.179 6137.8 793.642 6137.8 M793.642 6122.99 Q816.882 6122.99 829.104 6141.41 Q841.419 6159.75 841.419 6194.75 Q841.419 6229.65 829.104 6248.08 Q816.882 6266.41 793.642 6266.41 Q770.401 6266.41 758.086 6248.08 Q745.864 6229.65 745.864 6194.75 Q745.864 6159.75 758.086 6141.41 Q770.401 6122.99 793.642 6122.99 Z\" fill=\"#000000\" fill-rule=\"evenodd\" fill-opacity=\"1\" /><path clip-path=\"url(#clip280)\" d=\"M 0 0 M2208.12 6137.8 Q2193.67 6137.8 2186.36 6152.06 Q2179.14 6166.23 2179.14 6194.75 Q2179.14 6223.17 2186.36 6237.43 Q2193.67 6251.6 2208.12 6251.6 Q2222.65 6251.6 2229.88 6237.43 Q2237.19 6223.17 2237.19 6194.75 Q2237.19 6166.23 2229.88 6152.06 Q2222.65 6137.8 2208.12 6137.8 M2208.12 6122.99 Q2231.36 6122.99 2243.58 6141.41 Q2255.9 6159.75 2255.9 6194.75 Q2255.9 6229.65 2243.58 6248.08 Q2231.36 6266.41 2208.12 6266.41 Q2184.88 6266.41 2172.56 6248.08 Q2160.34 6229.65 2160.34 6194.75 Q2160.34 6159.75 2172.56 6141.41 Q2184.88 6122.99 2208.12 6122.99 Z\" fill=\"#000000\" fill-rule=\"evenodd\" fill-opacity=\"1\" /><path clip-path=\"url(#clip280)\" d=\"M 0 0 M2276.17 6240.21 L2295.71 6240.21 L2295.71 6263.73 L2276.17 6263.73 L2276.17 6240.21 Z\" fill=\"#000000\" fill-rule=\"evenodd\" fill-opacity=\"1\" /><path clip-path=\"url(#clip280)\" d=\"M 0 0 M2355.99 6137.8 Q2341.54 6137.8 2334.23 6152.06 Q2327.01 6166.23 2327.01 6194.75 Q2327.01 6223.17 2334.23 6237.43 Q2341.54 6251.6 2355.99 6251.6 Q2370.52 6251.6 2377.75 6237.43 Q2385.06 6223.17 2385.06 6194.75 Q2385.06 6166.23 2377.75 6152.06 Q2370.52 6137.8 2355.99 6137.8 M2355.99 6122.99 Q2379.23 6122.99 2391.45 6141.41 Q2403.76 6159.75 2403.76 6194.75 Q2403.76 6229.65 2391.45 6248.08 Q2379.23 6266.41 2355.99 6266.41 Q2332.75 6266.41 2320.43 6248.08 Q2308.21 6229.65 2308.21 6194.75 Q2308.21 6159.75 2320.43 6141.41 Q2332.75 6122.99 2355.99 6122.99 Z\" fill=\"#000000\" fill-rule=\"evenodd\" fill-opacity=\"1\" /><path clip-path=\"url(#clip280)\" d=\"M 0 0 M2424.23 6125.49 L2497.65 6125.49 L2497.65 6141.23 L2441.36 6141.23 L2441.36 6175.12 Q2445.43 6173.73 2449.51 6173.08 Q2453.58 6172.34 2457.65 6172.34 Q2480.8 6172.34 2494.32 6185.02 Q2507.84 6197.71 2507.84 6219.38 Q2507.84 6241.69 2493.95 6254.1 Q2480.06 6266.41 2454.78 6266.41 Q2446.08 6266.41 2437.01 6264.93 Q2428.02 6263.45 2418.39 6260.49 L2418.39 6241.69 Q2426.73 6246.23 2435.62 6248.45 Q2444.51 6250.67 2454.41 6250.67 Q2470.43 6250.67 2479.78 6242.25 Q2489.13 6233.82 2489.13 6219.38 Q2489.13 6204.93 2479.78 6196.51 Q2470.43 6188.08 2454.41 6188.08 Q2446.91 6188.08 2439.41 6189.75 Q2432.01 6191.41 2424.23 6194.93 L2424.23 6125.49 Z\" fill=\"#000000\" fill-rule=\"evenodd\" fill-opacity=\"1\" /><path clip-path=\"url(#clip280)\" d=\"M 0 0 M3876.99 6137.8 Q3862.55 6137.8 3855.23 6152.06 Q3848.01 6166.23 3848.01 6194.75 Q3848.01 6223.17 3855.23 6237.43 Q3862.55 6251.6 3876.99 6251.6 Q3891.53 6251.6 3898.75 6237.43 Q3906.06 6223.17 3906.06 6194.75 Q3906.06 6166.23 3898.75 6152.06 Q3891.53 6137.8 3876.99 6137.8 M3876.99 6122.99 Q3900.23 6122.99 3912.45 6141.41 Q3924.77 6159.75 3924.77 6194.75 Q3924.77 6229.65 3912.45 6248.08 Q3900.23 6266.41 3876.99 6266.41 Q3853.75 6266.41 3841.43 6248.08 Q3829.21 6229.65 3829.21 6194.75 Q3829.21 6159.75 3841.43 6141.41 Q3853.75 6122.99 3876.99 6122.99 Z\" fill=\"#000000\" fill-rule=\"evenodd\" fill-opacity=\"1\" /><path clip-path=\"url(#clip280)\" d=\"M 0 0 M3945.05 6240.21 L3964.58 6240.21 L3964.58 6263.73 L3945.05 6263.73 L3945.05 6240.21 Z\" fill=\"#000000\" fill-rule=\"evenodd\" fill-opacity=\"1\" /><path clip-path=\"url(#clip280)\" d=\"M 0 0 M3988.1 6247.99 L4018.66 6247.99 L4018.66 6142.52 L3985.42 6149.19 L3985.42 6132.15 L4018.47 6125.49 L4037.17 6125.49 L4037.17 6247.99 L4067.73 6247.99 L4067.73 6263.73 L3988.1 6263.73 L3988.1 6247.99 Z\" fill=\"#000000\" fill-rule=\"evenodd\" fill-opacity=\"1\" /><path clip-path=\"url(#clip280)\" d=\"M 0 0 M4128.01 6137.8 Q4113.56 6137.8 4106.25 6152.06 Q4099.03 6166.23 4099.03 6194.75 Q4099.03 6223.17 4106.25 6237.43 Q4113.56 6251.6 4128.01 6251.6 Q4142.54 6251.6 4149.77 6237.43 Q4157.08 6223.17 4157.08 6194.75 Q4157.08 6166.23 4149.77 6152.06 Q4142.54 6137.8 4128.01 6137.8 M4128.01 6122.99 Q4151.25 6122.99 4163.47 6141.41 Q4175.78 6159.75 4175.78 6194.75 Q4175.78 6229.65 4163.47 6248.08 Q4151.25 6266.41 4128.01 6266.41 Q4104.77 6266.41 4092.45 6248.08 Q4080.23 6229.65 4080.23 6194.75 Q4080.23 6159.75 4092.45 6141.41 Q4104.77 6122.99 4128.01 6122.99 Z\" fill=\"#000000\" fill-rule=\"evenodd\" fill-opacity=\"1\" /><path clip-path=\"url(#clip280)\" d=\"M 0 0 M5547.39 6137.8 Q5532.95 6137.8 5525.63 6152.06 Q5518.41 6166.23 5518.41 6194.75 Q5518.41 6223.17 5525.63 6237.43 Q5532.95 6251.6 5547.39 6251.6 Q5561.93 6251.6 5569.15 6237.43 Q5576.46 6223.17 5576.46 6194.75 Q5576.46 6166.23 5569.15 6152.06 Q5561.93 6137.8 5547.39 6137.8 M5547.39 6122.99 Q5570.63 6122.99 5582.85 6141.41 Q5595.17 6159.75 5595.17 6194.75 Q5595.17 6229.65 5582.85 6248.08 Q5570.63 6266.41 5547.39 6266.41 Q5524.15 6266.41 5511.84 6248.08 Q5499.61 6229.65 5499.61 6194.75 Q5499.61 6159.75 5511.84 6141.41 Q5524.15 6122.99 5547.39 6122.99 Z\" fill=\"#000000\" fill-rule=\"evenodd\" fill-opacity=\"1\" /><path clip-path=\"url(#clip280)\" d=\"M 0 0 M5615.45 6240.21 L5634.98 6240.21 L5634.98 6263.73 L5615.45 6263.73 L5615.45 6240.21 Z\" fill=\"#000000\" fill-rule=\"evenodd\" fill-opacity=\"1\" /><path clip-path=\"url(#clip280)\" d=\"M 0 0 M5658.5 6247.99 L5689.06 6247.99 L5689.06 6142.52 L5655.82 6149.19 L5655.82 6132.15 L5688.87 6125.49 L5707.58 6125.49 L5707.58 6247.99 L5738.13 6247.99 L5738.13 6263.73 L5658.5 6263.73 L5658.5 6247.99 Z\" fill=\"#000000\" fill-rule=\"evenodd\" fill-opacity=\"1\" /><path clip-path=\"url(#clip280)\" d=\"M 0 0 M5758.59 6125.49 L5832.02 6125.49 L5832.02 6141.23 L5775.72 6141.23 L5775.72 6175.12 Q5779.8 6173.73 5783.87 6173.08 Q5787.95 6172.34 5792.02 6172.34 Q5815.17 6172.34 5828.69 6185.02 Q5842.2 6197.71 5842.2 6219.38 Q5842.2 6241.69 5828.32 6254.1 Q5814.43 6266.41 5789.15 6266.41 Q5780.45 6266.41 5771.37 6264.93 Q5762.39 6263.45 5752.76 6260.49 L5752.76 6241.69 Q5761.09 6246.23 5769.98 6248.45 Q5778.87 6250.67 5788.78 6250.67 Q5804.8 6250.67 5814.15 6242.25 Q5823.5 6233.82 5823.5 6219.38 Q5823.5 6204.93 5814.15 6196.51 Q5804.8 6188.08 5788.78 6188.08 Q5781.28 6188.08 5773.78 6189.75 Q5766.37 6191.41 5758.59 6194.93 L5758.59 6125.49 Z\" fill=\"#000000\" fill-rule=\"evenodd\" fill-opacity=\"1\" /><path clip-path=\"url(#clip280)\" d=\"M 0 0 M7214.55 6137.8 Q7200.11 6137.8 7192.79 6152.06 Q7185.57 6166.23 7185.57 6194.75 Q7185.57 6223.17 7192.79 6237.43 Q7200.11 6251.6 7214.55 6251.6 Q7229.09 6251.6 7236.31 6237.43 Q7243.62 6223.17 7243.62 6194.75 Q7243.62 6166.23 7236.31 6152.06 Q7229.09 6137.8 7214.55 6137.8 M7214.55 6122.99 Q7237.79 6122.99 7250.01 6141.41 Q7262.33 6159.75 7262.33 6194.75 Q7262.33 6229.65 7250.01 6248.08 Q7237.79 6266.41 7214.55 6266.41 Q7191.31 6266.41 7179 6248.08 Q7166.77 6229.65 7166.77 6194.75 Q7166.77 6159.75 7179 6141.41 Q7191.31 6122.99 7214.55 6122.99 Z\" fill=\"#000000\" fill-rule=\"evenodd\" fill-opacity=\"1\" /><path clip-path=\"url(#clip280)\" d=\"M 0 0 M7282.61 6240.21 L7302.14 6240.21 L7302.14 6263.73 L7282.61 6263.73 L7282.61 6240.21 Z\" fill=\"#000000\" fill-rule=\"evenodd\" fill-opacity=\"1\" /><path clip-path=\"url(#clip280)\" d=\"M 0 0 M7338.53 6247.99 L7403.81 6247.99 L7403.81 6263.73 L7316.03 6263.73 L7316.03 6247.99 Q7326.68 6236.97 7345.01 6218.45 Q7363.44 6199.84 7368.16 6194.47 Q7377.14 6184.38 7380.66 6177.43 Q7384.27 6170.39 7384.27 6163.64 Q7384.27 6152.62 7376.49 6145.67 Q7368.81 6138.73 7356.4 6138.73 Q7347.61 6138.73 7337.79 6141.78 Q7328.07 6144.84 7316.96 6151.04 L7316.96 6132.15 Q7328.25 6127.62 7338.07 6125.3 Q7347.88 6122.99 7356.03 6122.99 Q7377.51 6122.99 7390.29 6133.73 Q7403.07 6144.47 7403.07 6162.43 Q7403.07 6170.95 7399.83 6178.64 Q7396.68 6186.23 7388.25 6196.6 Q7385.94 6199.28 7373.53 6212.15 Q7361.12 6224.93 7338.53 6247.99 Z\" fill=\"#000000\" fill-rule=\"evenodd\" fill-opacity=\"1\" /><path clip-path=\"url(#clip280)\" d=\"M 0 0 M7464.09 6137.8 Q7449.64 6137.8 7442.33 6152.06 Q7435.1 6166.23 7435.1 6194.75 Q7435.1 6223.17 7442.33 6237.43 Q7449.64 6251.6 7464.09 6251.6 Q7478.62 6251.6 7485.85 6237.43 Q7493.16 6223.17 7493.16 6194.75 Q7493.16 6166.23 7485.85 6152.06 Q7478.62 6137.8 7464.09 6137.8 M7464.09 6122.99 Q7487.33 6122.99 7499.55 6141.41 Q7511.86 6159.75 7511.86 6194.75 Q7511.86 6229.65 7499.55 6248.08 Q7487.33 6266.41 7464.09 6266.41 Q7440.85 6266.41 7428.53 6248.08 Q7416.31 6229.65 7416.31 6194.75 Q7416.31 6159.75 7428.53 6141.41 Q7440.85 6122.99 7464.09 6122.99 Z\" fill=\"#000000\" fill-rule=\"evenodd\" fill-opacity=\"1\" /><path clip-path=\"url(#clip280)\" d=\"M 0 0 M8884.95 6137.8 Q8870.51 6137.8 8863.19 6152.06 Q8855.97 6166.23 8855.97 6194.75 Q8855.97 6223.17 8863.19 6237.43 Q8870.51 6251.6 8884.95 6251.6 Q8899.49 6251.6 8906.71 6237.43 Q8914.02 6223.17 8914.02 6194.75 Q8914.02 6166.23 8906.71 6152.06 Q8899.49 6137.8 8884.95 6137.8 M8884.95 6122.99 Q8908.19 6122.99 8920.41 6141.41 Q8932.73 6159.75 8932.73 6194.75 Q8932.73 6229.65 8920.41 6248.08 Q8908.19 6266.41 8884.95 6266.41 Q8861.71 6266.41 8849.4 6248.08 Q8837.17 6229.65 8837.17 6194.75 Q8837.17 6159.75 8849.4 6141.41 Q8861.71 6122.99 8884.95 6122.99 Z\" fill=\"#000000\" fill-rule=\"evenodd\" fill-opacity=\"1\" /><path clip-path=\"url(#clip280)\" d=\"M 0 0 M8953.01 6240.21 L8972.54 6240.21 L8972.54 6263.73 L8953.01 6263.73 L8953.01 6240.21 Z\" fill=\"#000000\" fill-rule=\"evenodd\" fill-opacity=\"1\" /><path clip-path=\"url(#clip280)\" d=\"M 0 0 M9008.93 6247.99 L9074.21 6247.99 L9074.21 6263.73 L8986.43 6263.73 L8986.43 6247.99 Q8997.08 6236.97 9015.41 6218.45 Q9033.84 6199.84 9038.56 6194.47 Q9047.54 6184.38 9051.06 6177.43 Q9054.67 6170.39 9054.67 6163.64 Q9054.67 6152.62 9046.89 6145.67 Q9039.21 6138.73 9026.8 6138.73 Q9018.01 6138.73 9008.19 6141.78 Q8998.47 6144.84 8987.36 6151.04 L8987.36 6132.15 Q8998.65 6127.62 9008.47 6125.3 Q9018.28 6122.99 9026.43 6122.99 Q9047.91 6122.99 9060.69 6133.73 Q9073.47 6144.47 9073.47 6162.43 Q9073.47 6170.95 9070.23 6178.64 Q9067.08 6186.23 9058.65 6196.6 Q9056.34 6199.28 9043.93 6212.15 Q9031.52 6224.93 9008.93 6247.99 Z\" fill=\"#000000\" fill-rule=\"evenodd\" fill-opacity=\"1\" /><path clip-path=\"url(#clip280)\" d=\"M 0 0 M9094.67 6125.49 L9168.1 6125.49 L9168.1 6141.23 L9111.8 6141.23 L9111.8 6175.12 Q9115.88 6173.73 9119.95 6173.08 Q9124.02 6172.34 9128.1 6172.34 Q9151.25 6172.34 9164.76 6185.02 Q9178.28 6197.71 9178.28 6219.38 Q9178.28 6241.69 9164.39 6254.1 Q9150.51 6266.41 9125.23 6266.41 Q9116.52 6266.41 9107.45 6264.93 Q9098.47 6263.45 9088.84 6260.49 L9088.84 6241.69 Q9097.17 6246.23 9106.06 6248.45 Q9114.95 6250.67 9124.86 6250.67 Q9140.88 6250.67 9150.23 6242.25 Q9159.58 6233.82 9159.58 6219.38 Q9159.58 6204.93 9150.23 6196.51 Q9140.88 6188.08 9124.86 6188.08 Q9117.36 6188.08 9109.86 6189.75 Q9102.45 6191.41 9094.67 6194.93 L9094.67 6125.49 Z\" fill=\"#000000\" fill-rule=\"evenodd\" fill-opacity=\"1\" /><path clip-path=\"url(#clip280)\" d=\"M 0 0 M3510.22 6362.42 L3548.54 6362.42 L3597.05 6491.77 L3645.81 6362.42 L3684.13 6362.42 L3684.13 6552.5 L3659.05 6552.5 L3659.05 6385.59 L3610.03 6515.96 L3584.19 6515.96 L3535.17 6385.59 L3535.17 6552.5 L3510.22 6552.5 L3510.22 6362.42 Z\" fill=\"#000000\" fill-rule=\"evenodd\" fill-opacity=\"1\" /><path clip-path=\"url(#clip280)\" d=\"M 0 0 M3773.5 6480.82 Q3745.11 6480.82 3734.16 6487.31 Q3723.21 6493.8 3723.21 6509.46 Q3723.21 6521.94 3731.36 6529.32 Q3739.64 6536.58 3753.77 6536.58 Q3773.25 6536.58 3784.96 6522.83 Q3796.8 6508.95 3796.8 6486.04 L3796.8 6480.82 L3773.5 6480.82 M3820.23 6471.14 L3820.23 6552.5 L3796.8 6552.5 L3796.8 6530.85 Q3788.78 6543.84 3776.81 6550.08 Q3764.85 6556.19 3747.53 6556.19 Q3725.63 6556.19 3712.65 6543.97 Q3699.79 6531.62 3699.79 6510.99 Q3699.79 6486.93 3715.83 6474.71 Q3732 6462.48 3763.96 6462.48 L3796.8 6462.48 L3796.8 6460.19 Q3796.8 6444.02 3786.11 6435.24 Q3775.54 6426.33 3756.32 6426.33 Q3744.09 6426.33 3732.51 6429.26 Q3720.92 6432.18 3710.23 6438.04 L3710.23 6416.4 Q3723.09 6411.43 3735.18 6409.01 Q3747.28 6406.47 3758.74 6406.47 Q3789.67 6406.47 3804.95 6422.51 Q3820.23 6438.55 3820.23 6471.14 Z\" fill=\"#000000\" fill-rule=\"evenodd\" fill-opacity=\"1\" /><path clip-path=\"url(#clip280)\" d=\"M 0 0 M3963.33 6409.9 L3911.77 6479.29 L3966 6552.5 L3938.38 6552.5 L3896.87 6496.48 L3855.37 6552.5 L3827.74 6552.5 L3883.12 6477.89 L3832.45 6409.9 L3860.08 6409.9 L3897.89 6460.7 L3935.7 6409.9 L3963.33 6409.9 Z\" fill=\"#000000\" fill-rule=\"evenodd\" fill-opacity=\"1\" /><path clip-path=\"url(#clip280)\" d=\"M 0 0 M3990.57 6409.9 L4014 6409.9 L4014 6552.5 L3990.57 6552.5 L3990.57 6409.9 M3990.57 6354.39 L4014 6354.39 L4014 6384.06 L3990.57 6384.06 L3990.57 6354.39 Z\" fill=\"#000000\" fill-rule=\"evenodd\" fill-opacity=\"1\" /><path clip-path=\"url(#clip280)\" d=\"M 0 0 M4149.59 6437.28 Q4158.37 6421.49 4170.6 6413.98 Q4182.82 6406.47 4199.37 6406.47 Q4221.65 6406.47 4233.74 6422.13 Q4245.84 6437.66 4245.84 6466.43 L4245.84 6552.5 L4222.29 6552.5 L4222.29 6467.19 Q4222.29 6446.7 4215.03 6436.77 Q4207.77 6426.84 4192.88 6426.84 Q4174.67 6426.84 4164.1 6438.93 Q4153.54 6451.03 4153.54 6471.91 L4153.54 6552.5 L4129.98 6552.5 L4129.98 6467.19 Q4129.98 6446.57 4122.73 6436.77 Q4115.47 6426.84 4100.32 6426.84 Q4082.37 6426.84 4071.8 6439.06 Q4061.23 6451.15 4061.23 6471.91 L4061.23 6552.5 L4037.68 6552.5 L4037.68 6409.9 L4061.23 6409.9 L4061.23 6432.06 Q4069.25 6418.94 4080.46 6412.7 Q4091.66 6406.47 4107.07 6406.47 Q4122.6 6406.47 4133.42 6414.36 Q4144.37 6422.25 4149.59 6437.28 Z\" fill=\"#000000\" fill-rule=\"evenodd\" fill-opacity=\"1\" /><path clip-path=\"url(#clip280)\" d=\"M 0 0 M4267.99 6496.22 L4267.99 6409.9 L4291.42 6409.9 L4291.42 6495.33 Q4291.42 6515.57 4299.31 6525.76 Q4307.2 6535.82 4322.99 6535.82 Q4341.96 6535.82 4352.91 6523.72 Q4363.99 6511.63 4363.99 6490.75 L4363.99 6409.9 L4387.41 6409.9 L4387.41 6552.5 L4363.99 6552.5 L4363.99 6530.6 Q4355.46 6543.58 4344.13 6549.95 Q4332.92 6556.19 4318.03 6556.19 Q4293.45 6556.19 4280.72 6540.91 Q4267.99 6525.63 4267.99 6496.22 M4326.94 6406.47 L4326.94 6406.47 Z\" fill=\"#000000\" fill-rule=\"evenodd\" fill-opacity=\"1\" /><path clip-path=\"url(#clip280)\" d=\"M 0 0 M4523 6437.28 Q4531.79 6421.49 4544.01 6413.98 Q4556.23 6406.47 4572.78 6406.47 Q4595.06 6406.47 4607.16 6422.13 Q4619.25 6437.66 4619.25 6466.43 L4619.25 6552.5 L4595.7 6552.5 L4595.7 6467.19 Q4595.7 6446.7 4588.44 6436.77 Q4581.18 6426.84 4566.29 6426.84 Q4548.08 6426.84 4537.52 6438.93 Q4526.95 6451.03 4526.95 6471.91 L4526.95 6552.5 L4503.4 6552.5 L4503.4 6467.19 Q4503.4 6446.57 4496.14 6436.77 Q4488.88 6426.84 4473.73 6426.84 Q4455.78 6426.84 4445.21 6439.06 Q4434.65 6451.15 4434.65 6471.91 L4434.65 6552.5 L4411.09 6552.5 L4411.09 6409.9 L4434.65 6409.9 L4434.65 6432.06 Q4442.67 6418.94 4453.87 6412.7 Q4465.07 6406.47 4480.48 6406.47 Q4496.01 6406.47 4506.83 6414.36 Q4517.78 6422.25 4523 6437.28 Z\" fill=\"#000000\" fill-rule=\"evenodd\" fill-opacity=\"1\" /><path clip-path=\"url(#clip280)\" d=\"M 0 0 M4820.54 6431.55 L4820.54 6354.39 L4843.96 6354.39 L4843.96 6552.5 L4820.54 6552.5 L4820.54 6531.11 Q4813.15 6543.84 4801.82 6550.08 Q4790.62 6556.19 4774.83 6556.19 Q4748.98 6556.19 4732.69 6535.56 Q4716.52 6514.94 4716.52 6481.33 Q4716.52 6447.72 4732.69 6427.09 Q4748.98 6406.47 4774.83 6406.47 Q4790.62 6406.47 4801.82 6412.7 Q4813.15 6418.82 4820.54 6431.55 M4740.71 6481.33 Q4740.71 6507.17 4751.28 6521.94 Q4761.97 6536.58 4780.56 6536.58 Q4799.15 6536.58 4809.84 6521.94 Q4820.54 6507.17 4820.54 6481.33 Q4820.54 6455.48 4809.84 6440.84 Q4799.15 6426.07 4780.56 6426.07 Q4761.97 6426.07 4751.28 6440.84 Q4740.71 6455.48 4740.71 6481.33 Z\" fill=\"#000000\" fill-rule=\"evenodd\" fill-opacity=\"1\" /><path clip-path=\"url(#clip280)\" d=\"M 0 0 M4990.5 6475.34 L4990.5 6486.8 L4882.79 6486.8 Q4884.32 6510.99 4897.31 6523.72 Q4910.42 6536.33 4933.72 6536.33 Q4947.21 6536.33 4959.82 6533.02 Q4972.55 6529.71 4985.03 6523.09 L4985.03 6545.24 Q4972.42 6550.59 4959.18 6553.39 Q4945.94 6556.19 4932.32 6556.19 Q4898.2 6556.19 4878.21 6536.33 Q4858.35 6516.47 4858.35 6482.6 Q4858.35 6447.59 4877.19 6427.09 Q4896.16 6406.47 4928.24 6406.47 Q4957.02 6406.47 4973.69 6425.05 Q4990.5 6443.51 4990.5 6475.34 M4967.07 6468.47 Q4966.82 6449.24 4956.25 6437.79 Q4945.81 6426.33 4928.5 6426.33 Q4908.89 6426.33 4897.05 6437.4 Q4885.34 6448.48 4883.56 6468.6 L4967.07 6468.47 Z\" fill=\"#000000\" fill-rule=\"evenodd\" fill-opacity=\"1\" /><path clip-path=\"url(#clip280)\" d=\"M 0 0 M5087.26 6354.39 L5087.26 6373.87 L5064.85 6373.87 Q5052.25 6373.87 5047.28 6378.97 Q5042.44 6384.06 5042.44 6397.3 L5042.44 6409.9 L5081.02 6409.9 L5081.02 6428.11 L5042.44 6428.11 L5042.44 6552.5 L5018.89 6552.5 L5018.89 6428.11 L4996.48 6428.11 L4996.48 6409.9 L5018.89 6409.9 L5018.89 6399.97 Q5018.89 6376.17 5029.97 6365.34 Q5041.04 6354.39 5065.11 6354.39 L5087.26 6354.39 Z\" fill=\"#000000\" fill-rule=\"evenodd\" fill-opacity=\"1\" /><path clip-path=\"url(#clip280)\" d=\"M 0 0 M5111.83 6354.39 L5135.26 6354.39 L5135.26 6552.5 L5111.83 6552.5 L5111.83 6354.39 Z\" fill=\"#000000\" fill-rule=\"evenodd\" fill-opacity=\"1\" /><path clip-path=\"url(#clip280)\" d=\"M 0 0 M5281.79 6475.34 L5281.79 6486.8 L5174.09 6486.8 Q5175.61 6510.99 5188.6 6523.72 Q5201.71 6536.33 5225.01 6536.33 Q5238.51 6536.33 5251.11 6533.02 Q5263.84 6529.71 5276.32 6523.09 L5276.32 6545.24 Q5263.72 6550.59 5250.48 6553.39 Q5237.23 6556.19 5223.61 6556.19 Q5189.49 6556.19 5169.5 6536.33 Q5149.64 6516.47 5149.64 6482.6 Q5149.64 6447.59 5168.48 6427.09 Q5187.45 6406.47 5219.54 6406.47 Q5248.31 6406.47 5264.99 6425.05 Q5281.79 6443.51 5281.79 6475.34 M5258.37 6468.47 Q5258.11 6449.24 5247.55 6437.79 Q5237.11 6426.33 5219.79 6426.33 Q5200.19 6426.33 5188.35 6437.4 Q5176.63 6448.48 5174.85 6468.6 L5258.37 6468.47 Z\" fill=\"#000000\" fill-rule=\"evenodd\" fill-opacity=\"1\" /><path clip-path=\"url(#clip280)\" d=\"M 0 0 M5408.98 6415.38 L5408.98 6437.28 Q5399.05 6431.8 5388.99 6429.13 Q5379.06 6426.33 5368.88 6426.33 Q5346.09 6426.33 5333.48 6440.84 Q5320.88 6455.23 5320.88 6481.33 Q5320.88 6507.43 5333.48 6521.94 Q5346.09 6536.33 5368.88 6536.33 Q5379.06 6536.33 5388.99 6533.65 Q5399.05 6530.85 5408.98 6525.38 L5408.98 6547.02 Q5399.18 6551.6 5388.61 6553.9 Q5378.17 6556.19 5366.33 6556.19 Q5334.12 6556.19 5315.15 6535.94 Q5296.18 6515.7 5296.18 6481.33 Q5296.18 6446.44 5315.28 6426.45 Q5334.5 6406.47 5367.86 6406.47 Q5378.68 6406.47 5388.99 6408.76 Q5399.31 6410.92 5408.98 6415.38 Z\" fill=\"#000000\" fill-rule=\"evenodd\" fill-opacity=\"1\" /><path clip-path=\"url(#clip280)\" d=\"M 0 0 M5456.72 6369.42 L5456.72 6409.9 L5504.98 6409.9 L5504.98 6428.11 L5456.72 6428.11 L5456.72 6505.52 Q5456.72 6522.96 5461.43 6527.92 Q5466.27 6532.89 5480.91 6532.89 L5504.98 6532.89 L5504.98 6552.5 L5480.91 6552.5 Q5453.8 6552.5 5443.48 6542.44 Q5433.17 6532.25 5433.17 6505.52 L5433.17 6428.11 L5415.98 6428.11 L5415.98 6409.9 L5433.17 6409.9 L5433.17 6369.42 L5456.72 6369.42 Z\" fill=\"#000000\" fill-rule=\"evenodd\" fill-opacity=\"1\" /><path clip-path=\"url(#clip280)\" d=\"M 0 0 M5529.55 6409.9 L5552.97 6409.9 L5552.97 6552.5 L5529.55 6552.5 L5529.55 6409.9 M5529.55 6354.39 L5552.97 6354.39 L5552.97 6384.06 L5529.55 6384.06 L5529.55 6354.39 Z\" fill=\"#000000\" fill-rule=\"evenodd\" fill-opacity=\"1\" /><path clip-path=\"url(#clip280)\" d=\"M 0 0 M5632.8 6426.33 Q5613.96 6426.33 5603.01 6441.1 Q5592.06 6455.74 5592.06 6481.33 Q5592.06 6506.92 5602.88 6521.69 Q5613.83 6536.33 5632.8 6536.33 Q5651.51 6536.33 5662.46 6521.56 Q5673.41 6506.79 5673.41 6481.33 Q5673.41 6455.99 5662.46 6441.22 Q5651.51 6426.33 5632.8 6426.33 M5632.8 6406.47 Q5663.35 6406.47 5680.8 6426.33 Q5698.24 6446.19 5698.24 6481.33 Q5698.24 6516.34 5680.8 6536.33 Q5663.35 6556.19 5632.8 6556.19 Q5602.12 6556.19 5584.67 6536.33 Q5567.36 6516.34 5567.36 6481.33 Q5567.36 6446.19 5584.67 6426.33 Q5602.12 6406.47 5632.8 6406.47 Z\" fill=\"#000000\" fill-rule=\"evenodd\" fill-opacity=\"1\" /><path clip-path=\"url(#clip280)\" d=\"M 0 0 M5841.34 6466.43 L5841.34 6552.5 L5817.91 6552.5 L5817.91 6467.19 Q5817.91 6446.95 5810.02 6436.89 Q5802.13 6426.84 5786.34 6426.84 Q5767.37 6426.84 5756.42 6438.93 Q5745.47 6451.03 5745.47 6471.91 L5745.47 6552.5 L5721.92 6552.5 L5721.92 6409.9 L5745.47 6409.9 L5745.47 6432.06 Q5753.88 6419.2 5765.21 6412.83 Q5776.66 6406.47 5791.56 6406.47 Q5816.13 6406.47 5828.74 6421.74 Q5841.34 6436.89 5841.34 6466.43 Z\" fill=\"#000000\" fill-rule=\"evenodd\" fill-opacity=\"1\" /><path clip-path=\"url(#clip280)\" d=\"M 0 0 M5946.63 6354.39 L6000.61 6354.39 L6000.61 6372.6 L5970.05 6372.6 L5970.05 6568.66 L6000.61 6568.66 L6000.61 6586.87 L5946.63 6586.87 L5946.63 6354.39 Z\" fill=\"#000000\" fill-rule=\"evenodd\" fill-opacity=\"1\" /><path clip-path=\"url(#clip280)\" d=\"M 0 0 M6136.2 6437.28 Q6144.98 6421.49 6157.21 6413.98 Q6169.43 6406.47 6185.98 6406.47 Q6208.26 6406.47 6220.35 6422.13 Q6232.45 6437.66 6232.45 6466.43 L6232.45 6552.5 L6208.9 6552.5 L6208.9 6467.19 Q6208.9 6446.7 6201.64 6436.77 Q6194.38 6426.84 6179.49 6426.84 Q6161.28 6426.84 6150.71 6438.93 Q6140.15 6451.03 6140.15 6471.91 L6140.15 6552.5 L6116.59 6552.5 L6116.59 6467.19 Q6116.59 6446.57 6109.34 6436.77 Q6102.08 6426.84 6086.93 6426.84 Q6068.98 6426.84 6058.41 6439.06 Q6047.84 6451.15 6047.84 6471.91 L6047.84 6552.5 L6024.29 6552.5 L6024.29 6409.9 L6047.84 6409.9 L6047.84 6432.06 Q6055.86 6418.94 6067.07 6412.7 Q6078.27 6406.47 6093.68 6406.47 Q6109.21 6406.47 6120.03 6414.36 Q6130.98 6422.25 6136.2 6437.28 Z\" fill=\"#000000\" fill-rule=\"evenodd\" fill-opacity=\"1\" /><path clip-path=\"url(#clip280)\" d=\"M 0 0 M6311.77 6354.39 L6311.77 6586.87 L6257.78 6586.87 L6257.78 6568.66 L6288.21 6568.66 L6288.21 6372.6 L6257.78 6372.6 L6257.78 6354.39 L6311.77 6354.39 Z\" fill=\"#000000\" fill-rule=\"evenodd\" fill-opacity=\"1\" /><polyline clip-path=\"url(#clip282)\" style=\"stroke:#000000; stroke-width:8; stroke-opacity:0.1; fill:none\" points=\"\n",
       "  410.961,5857.76 9411.02,5857.76 \n",
       "  \"/>\n",
       "<polyline clip-path=\"url(#clip282)\" style=\"stroke:#000000; stroke-width:8; stroke-opacity:0.1; fill:none\" points=\"\n",
       "  410.961,4497.13 9411.02,4497.13 \n",
       "  \"/>\n",
       "<polyline clip-path=\"url(#clip282)\" style=\"stroke:#000000; stroke-width:8; stroke-opacity:0.1; fill:none\" points=\"\n",
       "  410.961,3136.5 9411.02,3136.5 \n",
       "  \"/>\n",
       "<polyline clip-path=\"url(#clip282)\" style=\"stroke:#000000; stroke-width:8; stroke-opacity:0.1; fill:none\" points=\"\n",
       "  410.961,1775.87 9411.02,1775.87 \n",
       "  \"/>\n",
       "<polyline clip-path=\"url(#clip282)\" style=\"stroke:#000000; stroke-width:8; stroke-opacity:0.1; fill:none\" points=\"\n",
       "  410.961,415.244 9411.02,415.244 \n",
       "  \"/>\n",
       "<polyline clip-path=\"url(#clip280)\" style=\"stroke:#000000; stroke-width:16; stroke-opacity:1; fill:none\" points=\"\n",
       "  410.961,6021.04 410.961,251.969 \n",
       "  \"/>\n",
       "<polyline clip-path=\"url(#clip280)\" style=\"stroke:#000000; stroke-width:16; stroke-opacity:1; fill:none\" points=\"\n",
       "  410.961,5857.76 518.961,5857.76 \n",
       "  \"/>\n",
       "<polyline clip-path=\"url(#clip280)\" style=\"stroke:#000000; stroke-width:16; stroke-opacity:1; fill:none\" points=\"\n",
       "  410.961,4497.13 518.961,4497.13 \n",
       "  \"/>\n",
       "<polyline clip-path=\"url(#clip280)\" style=\"stroke:#000000; stroke-width:16; stroke-opacity:1; fill:none\" points=\"\n",
       "  410.961,3136.5 518.961,3136.5 \n",
       "  \"/>\n",
       "<polyline clip-path=\"url(#clip280)\" style=\"stroke:#000000; stroke-width:16; stroke-opacity:1; fill:none\" points=\"\n",
       "  410.961,1775.87 518.961,1775.87 \n",
       "  \"/>\n",
       "<polyline clip-path=\"url(#clip280)\" style=\"stroke:#000000; stroke-width:16; stroke-opacity:1; fill:none\" points=\"\n",
       "  410.961,415.244 518.961,415.244 \n",
       "  \"/>\n",
       "<path clip-path=\"url(#clip280)\" d=\"M 0 0 M219.183 5800.96 Q204.739 5800.96 197.424 5815.22 Q190.202 5829.38 190.202 5857.9 Q190.202 5886.33 197.424 5900.59 Q204.739 5914.75 219.183 5914.75 Q233.72 5914.75 240.942 5900.59 Q248.257 5886.33 248.257 5857.9 Q248.257 5829.38 240.942 5815.22 Q233.72 5800.96 219.183 5800.96 M219.183 5786.14 Q242.424 5786.14 254.646 5804.57 Q266.961 5822.9 266.961 5857.9 Q266.961 5892.81 254.646 5911.24 Q242.424 5929.57 219.183 5929.57 Q195.942 5929.57 183.628 5911.24 Q171.406 5892.81 171.406 5857.9 Q171.406 5822.9 183.628 5804.57 Q195.942 5786.14 219.183 5786.14 Z\" fill=\"#000000\" fill-rule=\"evenodd\" fill-opacity=\"1\" /><path clip-path=\"url(#clip280)\" d=\"M 0 0 M-363.933 4576.3 L-298.656 4576.3 L-298.656 4592.04 L-386.433 4592.04 L-386.433 4576.3 Q-375.785 4565.29 -357.452 4546.77 Q-339.026 4528.16 -334.304 4522.79 Q-325.322 4512.69 -321.804 4505.75 Q-318.192 4498.71 -318.192 4491.95 Q-318.192 4480.93 -325.97 4473.99 Q-333.655 4467.04 -346.063 4467.04 Q-354.859 4467.04 -364.674 4470.1 Q-374.396 4473.16 -385.507 4479.36 L-385.507 4460.47 Q-374.211 4455.93 -364.396 4453.62 Q-354.581 4451.3 -346.433 4451.3 Q-324.952 4451.3 -312.174 4462.04 Q-299.396 4472.79 -299.396 4490.75 Q-299.396 4499.27 -302.637 4506.95 Q-305.785 4514.54 -314.211 4524.91 Q-316.526 4527.6 -328.933 4540.47 Q-341.341 4553.25 -363.933 4576.3 Z\" fill=\"#000000\" fill-rule=\"evenodd\" fill-opacity=\"1\" /><path clip-path=\"url(#clip280)\" d=\"M 0 0 M-278.378 4568.53 L-258.841 4568.53 L-258.841 4592.04 L-278.378 4592.04 L-278.378 4568.53 Z\" fill=\"#000000\" fill-rule=\"evenodd\" fill-opacity=\"1\" /><path clip-path=\"url(#clip280)\" d=\"M 0 0 M-238.378 4453.8 L-164.953 4453.8 L-164.953 4469.54 L-221.249 4469.54 L-221.249 4503.43 Q-217.175 4502.04 -213.1 4501.4 Q-209.026 4500.66 -204.952 4500.66 Q-181.804 4500.66 -168.286 4513.34 Q-154.767 4526.03 -154.767 4547.69 Q-154.767 4570.01 -168.656 4582.41 Q-182.545 4594.73 -207.823 4594.73 Q-216.526 4594.73 -225.6 4593.25 Q-234.582 4591.77 -244.211 4588.8 L-244.211 4570.01 Q-235.878 4574.54 -226.989 4576.77 Q-218.1 4578.99 -208.193 4578.99 Q-192.175 4578.99 -182.823 4570.56 Q-173.471 4562.14 -173.471 4547.69 Q-173.471 4533.25 -182.823 4524.82 Q-192.175 4516.4 -208.193 4516.4 Q-215.693 4516.4 -223.193 4518.06 Q-230.6 4519.73 -238.378 4523.25 L-238.378 4453.8 Z\" fill=\"#000000\" fill-rule=\"evenodd\" fill-opacity=\"1\" /><path clip-path=\"url(#clip280)\" d=\"M 0 0 M-21.8052 4490.19 L-64.1198 4532.69 L-21.8052 4575.01 L-32.8236 4586.21 L-75.3234 4543.71 L-117.823 4586.21 L-128.749 4575.01 L-86.5271 4532.69 L-128.749 4490.19 L-117.823 4478.99 L-75.3234 4521.49 L-32.8236 4478.99 L-21.8052 4490.19 Z\" fill=\"#000000\" fill-rule=\"evenodd\" fill-opacity=\"1\" /><path clip-path=\"url(#clip280)\" d=\"M 0 0 M1.71321 4576.3 L32.2686 4576.3 L32.2686 4470.84 L-0.971962 4477.51 L-0.971962 4460.47 L32.0834 4453.8 L50.787 4453.8 L50.787 4576.3 L81.3424 4576.3 L81.3424 4592.04 L1.71321 4592.04 L1.71321 4576.3 Z\" fill=\"#000000\" fill-rule=\"evenodd\" fill-opacity=\"1\" /><path clip-path=\"url(#clip280)\" d=\"M 0 0 M141.62 4466.12 Q127.175 4466.12 119.861 4480.38 Q112.639 4494.54 112.639 4523.06 Q112.639 4551.49 119.861 4565.75 Q127.175 4579.91 141.62 4579.91 Q156.157 4579.91 163.379 4565.75 Q170.694 4551.49 170.694 4523.06 Q170.694 4494.54 163.379 4480.38 Q156.157 4466.12 141.62 4466.12 M141.62 4451.3 Q164.86 4451.3 177.083 4469.73 Q189.397 4488.06 189.397 4523.06 Q189.397 4557.97 177.083 4576.4 Q164.86 4594.73 141.62 4594.73 Q118.379 4594.73 106.065 4576.4 Q93.8423 4557.97 93.8423 4523.06 Q93.8423 4488.06 106.065 4469.73 Q118.379 4451.3 141.62 4451.3 Z\" fill=\"#000000\" fill-rule=\"evenodd\" fill-opacity=\"1\" /><path clip-path=\"url(#clip280)\" d=\"M 0 0 M229.496 4420.19 Q219.264 4420.19 213.246 4427.18 Q207.302 4434.18 207.302 4446.37 Q207.302 4458.48 213.246 4465.55 Q219.264 4472.55 229.496 4472.55 Q239.727 4472.55 245.67 4465.55 Q251.689 4458.48 251.689 4446.37 Q251.689 4434.18 245.67 4427.18 Q239.727 4420.19 229.496 4420.19 M259.663 4372.57 L259.663 4386.41 Q253.946 4383.7 248.078 4382.27 Q242.285 4380.84 236.567 4380.84 Q221.521 4380.84 213.547 4391 Q205.647 4401.15 204.519 4421.69 Q208.957 4415.15 215.653 4411.69 Q222.349 4408.15 230.398 4408.15 Q247.325 4408.15 257.105 4418.46 Q266.961 4428.69 266.961 4446.37 Q266.961 4463.67 256.729 4474.13 Q246.498 4484.58 229.496 4484.58 Q210.011 4484.58 199.704 4469.69 Q189.397 4454.72 189.397 4426.36 Q189.397 4399.72 202.036 4383.93 Q214.675 4368.05 235.965 4368.05 Q241.683 4368.05 247.476 4369.18 Q253.344 4370.31 259.663 4372.57 Z\" fill=\"#000000\" fill-rule=\"evenodd\" fill-opacity=\"1\" /><path clip-path=\"url(#clip280)\" d=\"M 0 0 M-386.248 3093.17 L-312.822 3093.17 L-312.822 3108.91 L-369.118 3108.91 L-369.118 3142.8 Q-365.044 3141.41 -360.97 3140.77 Q-356.896 3140.03 -352.822 3140.03 Q-329.674 3140.03 -316.155 3152.71 Q-302.637 3165.4 -302.637 3187.06 Q-302.637 3209.38 -316.526 3221.78 Q-330.415 3234.1 -355.692 3234.1 Q-364.396 3234.1 -373.47 3232.62 Q-382.451 3231.14 -392.081 3228.17 L-392.081 3209.38 Q-383.748 3213.91 -374.859 3216.14 Q-365.97 3218.36 -356.063 3218.36 Q-340.044 3218.36 -330.692 3209.93 Q-321.341 3201.51 -321.341 3187.06 Q-321.341 3172.62 -330.692 3164.19 Q-340.044 3155.77 -356.063 3155.77 Q-363.563 3155.77 -371.063 3157.43 Q-378.47 3159.1 -386.248 3162.62 L-386.248 3093.17 Z\" fill=\"#000000\" fill-rule=\"evenodd\" fill-opacity=\"1\" /><path clip-path=\"url(#clip280)\" d=\"M 0 0 M-282.359 3207.9 L-262.822 3207.9 L-262.822 3231.41 L-282.359 3231.41 L-282.359 3207.9 Z\" fill=\"#000000\" fill-rule=\"evenodd\" fill-opacity=\"1\" /><path clip-path=\"url(#clip280)\" d=\"M 0 0 M-202.545 3105.49 Q-216.989 3105.49 -224.304 3119.75 Q-231.526 3133.91 -231.526 3162.43 Q-231.526 3190.86 -224.304 3205.12 Q-216.989 3219.28 -202.545 3219.28 Q-188.008 3219.28 -180.786 3205.12 Q-173.471 3190.86 -173.471 3162.43 Q-173.471 3133.91 -180.786 3119.75 Q-188.008 3105.49 -202.545 3105.49 M-202.545 3090.67 Q-179.304 3090.67 -167.082 3109.1 Q-154.767 3127.43 -154.767 3162.43 Q-154.767 3197.34 -167.082 3215.77 Q-179.304 3234.1 -202.545 3234.1 Q-225.786 3234.1 -238.1 3215.77 Q-250.322 3197.34 -250.322 3162.43 Q-250.322 3127.43 -238.1 3109.1 Q-225.786 3090.67 -202.545 3090.67 Z\" fill=\"#000000\" fill-rule=\"evenodd\" fill-opacity=\"1\" /><path clip-path=\"url(#clip280)\" d=\"M 0 0 M-21.8052 3129.56 L-64.1198 3172.06 L-21.8052 3214.38 L-32.8236 3225.58 L-75.3234 3183.08 L-117.823 3225.58 L-128.749 3214.38 L-86.5271 3172.06 L-128.749 3129.56 L-117.823 3118.36 L-75.3234 3160.86 L-32.8236 3118.36 L-21.8052 3129.56 Z\" fill=\"#000000\" fill-rule=\"evenodd\" fill-opacity=\"1\" /><path clip-path=\"url(#clip280)\" d=\"M 0 0 M1.71321 3215.67 L32.2686 3215.67 L32.2686 3110.21 L-0.971962 3116.88 L-0.971962 3099.84 L32.0834 3093.17 L50.787 3093.17 L50.787 3215.67 L81.3424 3215.67 L81.3424 3231.41 L1.71321 3231.41 L1.71321 3215.67 Z\" fill=\"#000000\" fill-rule=\"evenodd\" fill-opacity=\"1\" /><path clip-path=\"url(#clip280)\" d=\"M 0 0 M141.62 3105.49 Q127.175 3105.49 119.861 3119.75 Q112.639 3133.91 112.639 3162.43 Q112.639 3190.86 119.861 3205.12 Q127.175 3219.28 141.62 3219.28 Q156.157 3219.28 163.379 3205.12 Q170.694 3190.86 170.694 3162.43 Q170.694 3133.91 163.379 3119.75 Q156.157 3105.49 141.62 3105.49 M141.62 3090.67 Q164.86 3090.67 177.083 3109.1 Q189.397 3127.43 189.397 3162.43 Q189.397 3197.34 177.083 3215.77 Q164.86 3234.1 141.62 3234.1 Q118.379 3234.1 106.065 3215.77 Q93.8423 3197.34 93.8423 3162.43 Q93.8423 3127.43 106.065 3109.1 Q118.379 3090.67 141.62 3090.67 Z\" fill=\"#000000\" fill-rule=\"evenodd\" fill-opacity=\"1\" /><path clip-path=\"url(#clip280)\" d=\"M 0 0 M229.496 3059.56 Q219.264 3059.56 213.246 3066.55 Q207.302 3073.55 207.302 3085.74 Q207.302 3097.85 213.246 3104.92 Q219.264 3111.92 229.496 3111.92 Q239.727 3111.92 245.67 3104.92 Q251.689 3097.85 251.689 3085.74 Q251.689 3073.55 245.67 3066.55 Q239.727 3059.56 229.496 3059.56 M259.663 3011.94 L259.663 3025.78 Q253.946 3023.07 248.078 3021.64 Q242.285 3020.21 236.567 3020.21 Q221.521 3020.21 213.547 3030.37 Q205.647 3040.52 204.519 3061.06 Q208.957 3054.52 215.653 3051.06 Q222.349 3047.52 230.398 3047.52 Q247.325 3047.52 257.105 3057.83 Q266.961 3068.06 266.961 3085.74 Q266.961 3103.04 256.729 3113.5 Q246.498 3123.95 229.496 3123.95 Q210.011 3123.95 199.704 3109.06 Q189.397 3094.09 189.397 3065.73 Q189.397 3039.09 202.036 3023.3 Q214.675 3007.42 235.965 3007.42 Q241.683 3007.42 247.476 3008.55 Q253.344 3009.68 259.663 3011.94 Z\" fill=\"#000000\" fill-rule=\"evenodd\" fill-opacity=\"1\" /><path clip-path=\"url(#clip280)\" d=\"M 0 0 M-387.544 1732.54 L-298.656 1732.54 L-298.656 1740.51 L-348.84 1870.78 L-368.377 1870.78 L-321.155 1748.29 L-387.544 1748.29 L-387.544 1732.54 Z\" fill=\"#000000\" fill-rule=\"evenodd\" fill-opacity=\"1\" /><path clip-path=\"url(#clip280)\" d=\"M 0 0 M-278.378 1847.27 L-258.841 1847.27 L-258.841 1870.78 L-278.378 1870.78 L-278.378 1847.27 Z\" fill=\"#000000\" fill-rule=\"evenodd\" fill-opacity=\"1\" /><path clip-path=\"url(#clip280)\" d=\"M 0 0 M-238.378 1732.54 L-164.953 1732.54 L-164.953 1748.29 L-221.249 1748.29 L-221.249 1782.17 Q-217.175 1780.78 -213.1 1780.14 Q-209.026 1779.4 -204.952 1779.4 Q-181.804 1779.4 -168.286 1792.08 Q-154.767 1804.77 -154.767 1826.43 Q-154.767 1848.75 -168.656 1861.15 Q-182.545 1873.47 -207.823 1873.47 Q-216.526 1873.47 -225.6 1871.99 Q-234.582 1870.51 -244.211 1867.54 L-244.211 1848.75 Q-235.878 1853.28 -226.989 1855.51 Q-218.1 1857.73 -208.193 1857.73 Q-192.175 1857.73 -182.823 1849.3 Q-173.471 1840.88 -173.471 1826.43 Q-173.471 1811.99 -182.823 1803.56 Q-192.175 1795.14 -208.193 1795.14 Q-215.693 1795.14 -223.193 1796.8 Q-230.6 1798.47 -238.378 1801.99 L-238.378 1732.54 Z\" fill=\"#000000\" fill-rule=\"evenodd\" fill-opacity=\"1\" /><path clip-path=\"url(#clip280)\" d=\"M 0 0 M-21.8052 1768.93 L-64.1198 1811.43 L-21.8052 1853.75 L-32.8236 1864.95 L-75.3234 1822.45 L-117.823 1864.95 L-128.749 1853.75 L-86.5271 1811.43 L-128.749 1768.93 L-117.823 1757.73 L-75.3234 1800.23 L-32.8236 1757.73 L-21.8052 1768.93 Z\" fill=\"#000000\" fill-rule=\"evenodd\" fill-opacity=\"1\" /><path clip-path=\"url(#clip280)\" d=\"M 0 0 M1.71321 1855.04 L32.2686 1855.04 L32.2686 1749.58 L-0.971962 1756.25 L-0.971962 1739.21 L32.0834 1732.54 L50.787 1732.54 L50.787 1855.04 L81.3424 1855.04 L81.3424 1870.78 L1.71321 1870.78 L1.71321 1855.04 Z\" fill=\"#000000\" fill-rule=\"evenodd\" fill-opacity=\"1\" /><path clip-path=\"url(#clip280)\" d=\"M 0 0 M141.62 1744.86 Q127.175 1744.86 119.861 1759.12 Q112.639 1773.28 112.639 1801.8 Q112.639 1830.23 119.861 1844.49 Q127.175 1858.65 141.62 1858.65 Q156.157 1858.65 163.379 1844.49 Q170.694 1830.23 170.694 1801.8 Q170.694 1773.28 163.379 1759.12 Q156.157 1744.86 141.62 1744.86 M141.62 1730.04 Q164.86 1730.04 177.083 1748.47 Q189.397 1766.8 189.397 1801.8 Q189.397 1836.71 177.083 1855.14 Q164.86 1873.47 141.62 1873.47 Q118.379 1873.47 106.065 1855.14 Q93.8423 1836.71 93.8423 1801.8 Q93.8423 1766.8 106.065 1748.47 Q118.379 1730.04 141.62 1730.04 Z\" fill=\"#000000\" fill-rule=\"evenodd\" fill-opacity=\"1\" /><path clip-path=\"url(#clip280)\" d=\"M 0 0 M229.496 1698.93 Q219.264 1698.93 213.246 1705.92 Q207.302 1712.92 207.302 1725.11 Q207.302 1737.22 213.246 1744.29 Q219.264 1751.29 229.496 1751.29 Q239.727 1751.29 245.67 1744.29 Q251.689 1737.22 251.689 1725.11 Q251.689 1712.92 245.67 1705.92 Q239.727 1698.93 229.496 1698.93 M259.663 1651.31 L259.663 1665.15 Q253.946 1662.44 248.078 1661.01 Q242.285 1659.58 236.567 1659.58 Q221.521 1659.58 213.547 1669.74 Q205.647 1679.89 204.519 1700.43 Q208.957 1693.89 215.653 1690.43 Q222.349 1686.89 230.398 1686.89 Q247.325 1686.89 257.105 1697.2 Q266.961 1707.43 266.961 1725.11 Q266.961 1742.41 256.729 1752.87 Q246.498 1763.32 229.496 1763.32 Q210.011 1763.32 199.704 1748.43 Q189.397 1733.46 189.397 1705.1 Q189.397 1678.46 202.036 1662.67 Q214.675 1646.79 235.965 1646.79 Q241.683 1646.79 247.476 1647.92 Q253.344 1649.05 259.663 1651.31 Z\" fill=\"#000000\" fill-rule=\"evenodd\" fill-opacity=\"1\" /><path clip-path=\"url(#clip280)\" d=\"M 0 0 M-376.925 494.414 L-346.369 494.414 L-346.369 388.951 L-379.61 395.618 L-379.61 378.581 L-346.555 371.914 L-327.851 371.914 L-327.851 494.414 L-297.296 494.414 L-297.296 510.154 L-376.925 510.154 L-376.925 494.414 Z\" fill=\"#000000\" fill-rule=\"evenodd\" fill-opacity=\"1\" /><path clip-path=\"url(#clip280)\" d=\"M 0 0 M-277.018 486.636 L-257.481 486.636 L-257.481 510.154 L-277.018 510.154 L-277.018 486.636 Z\" fill=\"#000000\" fill-rule=\"evenodd\" fill-opacity=\"1\" /><path clip-path=\"url(#clip280)\" d=\"M 0 0 M-197.204 384.229 Q-211.648 384.229 -218.963 398.488 Q-226.185 412.655 -226.185 441.173 Q-226.185 469.599 -218.963 483.858 Q-211.648 498.025 -197.204 498.025 Q-182.667 498.025 -175.444 483.858 Q-168.13 469.599 -168.13 441.173 Q-168.13 412.655 -175.444 398.488 Q-182.667 384.229 -197.204 384.229 M-197.204 369.415 Q-173.963 369.415 -161.741 387.84 Q-149.426 406.174 -149.426 441.173 Q-149.426 476.081 -161.741 494.506 Q-173.963 512.84 -197.204 512.84 Q-220.444 512.84 -232.759 494.506 Q-244.981 476.081 -244.981 441.173 Q-244.981 406.174 -232.759 387.84 Q-220.444 369.415 -197.204 369.415 Z\" fill=\"#000000\" fill-rule=\"evenodd\" fill-opacity=\"1\" /><path clip-path=\"url(#clip280)\" d=\"M 0 0 M-16.4638 408.303 L-58.7784 450.803 L-16.4638 493.118 L-27.4822 504.321 L-69.982 461.821 L-112.482 504.321 L-123.408 493.118 L-81.1857 450.803 L-123.408 408.303 L-112.482 397.1 L-69.982 439.599 L-27.4822 397.1 L-16.4638 408.303 Z\" fill=\"#000000\" fill-rule=\"evenodd\" fill-opacity=\"1\" /><path clip-path=\"url(#clip280)\" d=\"M 0 0 M7.05462 494.414 L37.61 494.414 L37.61 388.951 L4.36944 395.618 L4.36944 378.581 L37.4248 371.914 L56.1284 371.914 L56.1284 494.414 L86.6838 494.414 L86.6838 510.154 L7.05462 510.154 L7.05462 494.414 Z\" fill=\"#000000\" fill-rule=\"evenodd\" fill-opacity=\"1\" /><path clip-path=\"url(#clip280)\" d=\"M 0 0 M146.961 384.229 Q132.517 384.229 125.202 398.488 Q117.98 412.655 117.98 441.173 Q117.98 469.599 125.202 483.858 Q132.517 498.025 146.961 498.025 Q161.498 498.025 168.72 483.858 Q176.035 469.599 176.035 441.173 Q176.035 412.655 168.72 398.488 Q161.498 384.229 146.961 384.229 M146.961 369.415 Q170.202 369.415 182.424 387.84 Q194.739 406.174 194.739 441.173 Q194.739 476.081 182.424 494.506 Q170.202 512.84 146.961 512.84 Q123.721 512.84 111.406 494.506 Q99.1838 476.081 99.1838 441.173 Q99.1838 406.174 111.406 387.84 Q123.721 369.415 146.961 369.415 Z\" fill=\"#000000\" fill-rule=\"evenodd\" fill-opacity=\"1\" /><path clip-path=\"url(#clip280)\" d=\"M 0 0 M194.739 288.193 L266.961 288.193 L266.961 294.663 L226.185 400.513 L210.312 400.513 L248.679 300.982 L194.739 300.982 L194.739 288.193 Z\" fill=\"#000000\" fill-rule=\"evenodd\" fill-opacity=\"1\" /><path clip-path=\"url(#clip280)\" d=\"M 0 0 M-687.185 3854.81 L-687.185 3694.01 L-665.542 3694.01 L-665.542 3761.49 L-497.105 3761.49 L-497.105 3787.33 L-665.542 3787.33 L-665.542 3854.81 L-687.185 3854.81 Z\" fill=\"#000000\" fill-rule=\"evenodd\" fill-opacity=\"1\" /><path clip-path=\"url(#clip280)\" d=\"M 0 0 M-617.799 3625.14 Q-620.09 3629.08 -621.109 3633.79 Q-622.255 3638.38 -622.255 3643.98 Q-622.255 3663.84 -609.269 3674.53 Q-596.41 3685.1 -572.22 3685.1 L-497.105 3685.1 L-497.105 3708.65 L-639.697 3708.65 L-639.697 3685.1 L-617.544 3685.1 Q-630.53 3677.72 -636.769 3665.88 Q-643.134 3654.04 -643.134 3637.1 Q-643.134 3634.68 -642.752 3631.76 Q-642.498 3628.83 -641.861 3625.26 L-617.799 3625.14 Z\" fill=\"#000000\" fill-rule=\"evenodd\" fill-opacity=\"1\" /><path clip-path=\"url(#clip280)\" d=\"M 0 0 M-568.783 3535.76 Q-568.783 3564.15 -562.29 3575.1 Q-555.797 3586.05 -540.137 3586.05 Q-527.66 3586.05 -520.276 3577.9 Q-513.019 3569.63 -513.019 3555.49 Q-513.019 3536.02 -526.769 3524.3 Q-540.646 3512.46 -563.563 3512.46 L-568.783 3512.46 L-568.783 3535.76 M-578.459 3489.04 L-497.105 3489.04 L-497.105 3512.46 L-518.748 3512.46 Q-505.762 3520.48 -499.524 3532.45 Q-493.413 3544.42 -493.413 3561.73 Q-493.413 3583.63 -505.635 3596.62 Q-517.984 3609.48 -538.609 3609.48 Q-562.672 3609.48 -574.894 3593.43 Q-587.116 3577.27 -587.116 3545.31 L-587.116 3512.46 L-589.408 3512.46 Q-605.577 3512.46 -614.361 3523.16 Q-623.273 3533.72 -623.273 3552.95 Q-623.273 3565.17 -620.345 3576.76 Q-617.417 3588.34 -611.56 3599.04 L-633.204 3599.04 Q-638.169 3586.18 -640.588 3574.08 Q-643.134 3561.99 -643.134 3550.53 Q-643.134 3519.59 -627.093 3504.31 Q-611.051 3489.04 -578.459 3489.04 Z\" fill=\"#000000\" fill-rule=\"evenodd\" fill-opacity=\"1\" /><path clip-path=\"url(#clip280)\" d=\"M 0 0 M-634.222 3361.85 L-612.324 3361.85 Q-617.799 3371.78 -620.472 3381.84 Q-623.273 3391.77 -623.273 3401.95 Q-623.273 3424.74 -608.759 3437.35 Q-594.373 3449.95 -568.274 3449.95 Q-542.174 3449.95 -527.66 3437.35 Q-513.274 3424.74 -513.274 3401.95 Q-513.274 3391.77 -515.947 3381.84 Q-518.748 3371.78 -524.223 3361.85 L-502.579 3361.85 Q-497.996 3371.65 -495.705 3382.22 Q-493.413 3392.66 -493.413 3404.5 Q-493.413 3436.71 -513.656 3455.68 Q-533.899 3474.65 -568.274 3474.65 Q-603.158 3474.65 -623.146 3455.55 Q-643.134 3436.33 -643.134 3402.97 Q-643.134 3392.15 -640.843 3381.84 Q-638.678 3371.53 -634.222 3361.85 Z\" fill=\"#000000\" fill-rule=\"evenodd\" fill-opacity=\"1\" /><path clip-path=\"url(#clip280)\" d=\"M 0 0 M-680.183 3314.11 L-639.697 3314.11 L-639.697 3265.86 L-621.491 3265.86 L-621.491 3314.11 L-544.084 3314.11 Q-526.642 3314.11 -521.677 3309.4 Q-516.711 3304.56 -516.711 3289.92 L-516.711 3265.86 L-497.105 3265.86 L-497.105 3289.92 Q-497.105 3317.04 -507.163 3327.35 Q-517.348 3337.66 -544.084 3337.66 L-621.491 3337.66 L-621.491 3354.85 L-639.697 3354.85 L-639.697 3337.66 L-680.183 3337.66 L-680.183 3314.11 Z\" fill=\"#000000\" fill-rule=\"evenodd\" fill-opacity=\"1\" /><path clip-path=\"url(#clip280)\" d=\"M 0 0 M-639.697 3241.28 L-639.697 3217.86 L-497.105 3217.86 L-497.105 3241.28 L-639.697 3241.28 M-695.206 3241.28 L-695.206 3217.86 L-665.542 3217.86 L-665.542 3241.28 L-695.206 3241.28 Z\" fill=\"#000000\" fill-rule=\"evenodd\" fill-opacity=\"1\" /><path clip-path=\"url(#clip280)\" d=\"M 0 0 M-623.273 3138.03 Q-623.273 3156.87 -608.505 3167.82 Q-593.864 3178.77 -568.274 3178.77 Q-542.683 3178.77 -527.915 3167.95 Q-513.274 3157 -513.274 3138.03 Q-513.274 3119.32 -528.042 3108.37 Q-542.811 3097.42 -568.274 3097.42 Q-593.609 3097.42 -608.378 3108.37 Q-623.273 3119.32 -623.273 3138.03 M-643.134 3138.03 Q-643.134 3107.48 -623.273 3090.03 Q-603.412 3072.59 -568.274 3072.59 Q-533.262 3072.59 -513.274 3090.03 Q-493.413 3107.48 -493.413 3138.03 Q-493.413 3168.71 -513.274 3186.16 Q-533.262 3203.47 -568.274 3203.47 Q-603.412 3203.47 -623.273 3186.16 Q-643.134 3168.71 -643.134 3138.03 Z\" fill=\"#000000\" fill-rule=\"evenodd\" fill-opacity=\"1\" /><path clip-path=\"url(#clip280)\" d=\"M 0 0 M-583.169 2929.49 L-497.105 2929.49 L-497.105 2952.92 L-582.405 2952.92 Q-602.648 2952.92 -612.706 2960.81 Q-622.764 2968.7 -622.764 2984.49 Q-622.764 3003.46 -610.669 3014.41 Q-598.574 3025.36 -577.695 3025.36 L-497.105 3025.36 L-497.105 3048.91 L-639.697 3048.91 L-639.697 3025.36 L-617.544 3025.36 Q-630.403 3016.96 -636.769 3005.63 Q-643.134 2994.17 -643.134 2979.27 Q-643.134 2954.7 -627.857 2942.1 Q-612.706 2929.49 -583.169 2929.49 Z\" fill=\"#000000\" fill-rule=\"evenodd\" fill-opacity=\"1\" /><path clip-path=\"url(#clip280)\" d=\"M 0 0 M-695.206 2824.2 L-695.206 2770.22 L-677 2770.22 L-677 2800.78 L-480.936 2800.78 L-480.936 2770.22 L-462.73 2770.22 L-462.73 2824.2 L-695.206 2824.2 Z\" fill=\"#000000\" fill-rule=\"evenodd\" fill-opacity=\"1\" /><path clip-path=\"url(#clip280)\" d=\"M 0 0 M-666.051 2718.91 L-594.628 2718.91 L-594.628 2686.58 Q-594.628 2668.62 -603.922 2658.82 Q-613.215 2649.02 -630.403 2649.02 Q-647.463 2649.02 -656.757 2658.82 Q-666.051 2668.62 -666.051 2686.58 L-666.051 2718.91 M-687.185 2744.63 L-687.185 2686.58 Q-687.185 2654.62 -672.671 2638.32 Q-658.285 2621.9 -630.403 2621.9 Q-602.266 2621.9 -587.88 2638.32 Q-573.493 2654.62 -573.493 2686.58 L-573.493 2718.91 L-497.105 2718.91 L-497.105 2744.63 L-687.185 2744.63 Z\" fill=\"#000000\" fill-rule=\"evenodd\" fill-opacity=\"1\" /><path clip-path=\"url(#clip280)\" d=\"M 0 0 M-568.783 2544.24 Q-568.783 2572.63 -562.29 2583.58 Q-555.797 2594.53 -540.137 2594.53 Q-527.66 2594.53 -520.276 2586.38 Q-513.019 2578.1 -513.019 2563.97 Q-513.019 2544.49 -526.769 2532.78 Q-540.646 2520.94 -563.563 2520.94 L-568.783 2520.94 L-568.783 2544.24 M-578.459 2497.51 L-497.105 2497.51 L-497.105 2520.94 L-518.748 2520.94 Q-505.762 2528.96 -499.524 2540.93 Q-493.413 2552.9 -493.413 2570.21 Q-493.413 2592.11 -505.635 2605.09 Q-517.984 2617.95 -538.609 2617.95 Q-562.672 2617.95 -574.894 2601.91 Q-587.116 2585.74 -587.116 2553.79 L-587.116 2520.94 L-589.408 2520.94 Q-605.577 2520.94 -614.361 2531.63 Q-623.273 2542.2 -623.273 2561.43 Q-623.273 2573.65 -620.345 2585.23 Q-617.417 2596.82 -611.56 2607.51 L-633.204 2607.51 Q-638.169 2594.65 -640.588 2582.56 Q-643.134 2570.47 -643.134 2559.01 Q-643.134 2528.07 -627.093 2512.79 Q-611.051 2497.51 -578.459 2497.51 Z\" fill=\"#000000\" fill-rule=\"evenodd\" fill-opacity=\"1\" /><path clip-path=\"url(#clip280)\" d=\"M 0 0 M-695.206 2418.2 L-462.73 2418.2 L-462.73 2472.18 L-480.936 2472.18 L-480.936 2441.75 L-677 2441.75 L-677 2472.18 L-695.206 2472.18 L-695.206 2418.2 Z\" fill=\"#000000\" fill-rule=\"evenodd\" fill-opacity=\"1\" /><path clip-path=\"url(#clip280)\" d=\"M 0 0 M3290.71 48.384 L3495.36 48.384 L3495.36 75.9301 L3409.48 75.9301 L3409.48 290.304 L3376.59 290.304 L3376.59 75.9301 L3290.71 75.9301 L3290.71 48.384 Z\" fill=\"#000000\" fill-rule=\"evenodd\" fill-opacity=\"1\" /><path clip-path=\"url(#clip280)\" d=\"M 0 0 M3583.02 136.694 Q3578 133.777 3572.01 132.481 Q3566.17 131.022 3559.04 131.022 Q3533.77 131.022 3520.15 147.55 Q3506.71 163.916 3506.71 194.703 L3506.71 290.304 L3476.73 290.304 L3476.73 108.823 L3506.71 108.823 L3506.71 137.018 Q3516.1 120.49 3531.17 112.55 Q3546.24 104.449 3567.79 104.449 Q3570.87 104.449 3574.6 104.935 Q3578.33 105.259 3582.86 106.069 L3583.02 136.694 Z\" fill=\"#000000\" fill-rule=\"evenodd\" fill-opacity=\"1\" /><path clip-path=\"url(#clip280)\" d=\"M 0 0 M3696.77 199.078 Q3660.64 199.078 3646.7 207.341 Q3632.77 215.605 3632.77 235.536 Q3632.77 251.415 3643.14 260.813 Q3653.67 270.049 3671.66 270.049 Q3696.45 270.049 3711.36 252.55 Q3726.43 234.888 3726.43 205.721 L3726.43 199.078 L3696.77 199.078 M3756.24 186.763 L3756.24 290.304 L3726.43 290.304 L3726.43 262.758 Q3716.22 279.286 3700.99 287.225 Q3685.76 295.003 3663.72 295.003 Q3635.85 295.003 3619.32 279.448 Q3602.96 263.73 3602.96 237.48 Q3602.96 206.855 3623.37 191.3 Q3643.95 175.744 3684.62 175.744 L3726.43 175.744 L3726.43 172.828 Q3726.43 152.249 3712.82 141.069 Q3699.37 129.726 3674.9 129.726 Q3659.34 129.726 3644.6 133.453 Q3629.85 137.18 3616.24 144.633 L3616.24 117.087 Q3632.61 110.768 3648 107.689 Q3663.39 104.449 3677.98 104.449 Q3717.35 104.449 3736.8 124.865 Q3756.24 145.282 3756.24 186.763 Z\" fill=\"#000000\" fill-rule=\"evenodd\" fill-opacity=\"1\" /><path clip-path=\"url(#clip280)\" d=\"M 0 0 M3918.12 115.791 L3918.12 143.661 Q3905.48 136.694 3892.68 133.291 Q3880.04 129.726 3867.07 129.726 Q3838.07 129.726 3822.03 148.198 Q3805.99 166.508 3805.99 199.726 Q3805.99 232.943 3822.03 251.415 Q3838.07 269.725 3867.07 269.725 Q3880.04 269.725 3892.68 266.323 Q3905.48 262.758 3918.12 255.79 L3918.12 283.336 Q3905.64 289.17 3892.19 292.086 Q3878.9 295.003 3863.83 295.003 Q3822.84 295.003 3798.69 269.239 Q3774.55 243.476 3774.55 199.726 Q3774.55 155.328 3798.86 129.888 Q3823.32 104.449 3865.78 104.449 Q3879.55 104.449 3892.68 107.365 Q3905.8 110.12 3918.12 115.791 Z\" fill=\"#000000\" fill-rule=\"evenodd\" fill-opacity=\"1\" /><path clip-path=\"url(#clip280)\" d=\"M 0 0 M3978.88 57.296 L3978.88 108.823 L4040.29 108.823 L4040.29 131.995 L3978.88 131.995 L3978.88 230.513 Q3978.88 252.712 3984.87 259.031 Q3991.03 265.35 4009.67 265.35 L4040.29 265.35 L4040.29 290.304 L4009.67 290.304 Q3975.15 290.304 3962.03 277.503 Q3948.9 264.54 3948.9 230.513 L3948.9 131.995 L3927.03 131.995 L3927.03 108.823 L3948.9 108.823 L3948.9 57.296 L3978.88 57.296 Z\" fill=\"#000000\" fill-rule=\"evenodd\" fill-opacity=\"1\" /><path clip-path=\"url(#clip280)\" d=\"M 0 0 M4071.56 108.823 L4101.38 108.823 L4101.38 290.304 L4071.56 290.304 L4071.56 108.823 M4071.56 38.1757 L4101.38 38.1757 L4101.38 75.9301 L4071.56 75.9301 L4071.56 38.1757 Z\" fill=\"#000000\" fill-rule=\"evenodd\" fill-opacity=\"1\" /><path clip-path=\"url(#clip280)\" d=\"M 0 0 M4202.98 129.726 Q4178.99 129.726 4165.06 148.522 Q4151.12 167.157 4151.12 199.726 Q4151.12 232.295 4164.9 251.091 Q4178.83 269.725 4202.98 269.725 Q4226.79 269.725 4240.73 250.929 Q4254.66 232.133 4254.66 199.726 Q4254.66 167.481 4240.73 148.684 Q4226.79 129.726 4202.98 129.726 M4202.98 104.449 Q4241.86 104.449 4264.06 129.726 Q4286.26 155.004 4286.26 199.726 Q4286.26 244.286 4264.06 269.725 Q4241.86 295.003 4202.98 295.003 Q4163.92 295.003 4141.73 269.725 Q4119.69 244.286 4119.69 199.726 Q4119.69 155.004 4141.73 129.726 Q4163.92 104.449 4202.98 104.449 Z\" fill=\"#000000\" fill-rule=\"evenodd\" fill-opacity=\"1\" /><path clip-path=\"url(#clip280)\" d=\"M 0 0 M4468.39 180.768 L4468.39 290.304 L4438.58 290.304 L4438.58 181.74 Q4438.58 155.976 4428.53 143.175 Q4418.48 130.374 4398.39 130.374 Q4374.25 130.374 4360.31 145.768 Q4346.38 161.161 4346.38 187.735 L4346.38 290.304 L4316.4 290.304 L4316.4 108.823 L4346.38 108.823 L4346.38 137.018 Q4357.07 120.652 4371.49 112.55 Q4386.08 104.449 4405.03 104.449 Q4436.31 104.449 4452.35 123.893 Q4468.39 143.175 4468.39 180.768 Z\" fill=\"#000000\" fill-rule=\"evenodd\" fill-opacity=\"1\" /><path clip-path=\"url(#clip280)\" d=\"M 0 0 M4484.59 186.115 L4571.93 186.115 L4571.93 212.689 L4484.59 212.689 L4484.59 186.115 Z\" fill=\"#000000\" fill-rule=\"evenodd\" fill-opacity=\"1\" /><path clip-path=\"url(#clip280)\" d=\"M 0 0 M4722.63 136.37 L4722.63 38.1757 L4752.44 38.1757 L4752.44 290.304 L4722.63 290.304 L4722.63 263.082 Q4713.23 279.286 4698.81 287.225 Q4684.55 295.003 4664.45 295.003 Q4631.56 295.003 4610.82 268.753 Q4590.24 242.503 4590.24 199.726 Q4590.24 156.948 4610.82 130.698 Q4631.56 104.449 4664.45 104.449 Q4684.55 104.449 4698.81 112.388 Q4713.23 120.166 4722.63 136.37 M4621.03 199.726 Q4621.03 232.619 4634.48 251.415 Q4648.09 270.049 4671.75 270.049 Q4695.4 270.049 4709.01 251.415 Q4722.63 232.619 4722.63 199.726 Q4722.63 166.832 4709.01 148.198 Q4695.4 129.402 4671.75 129.402 Q4648.09 129.402 4634.48 148.198 Q4621.03 166.832 4621.03 199.726 Z\" fill=\"#000000\" fill-rule=\"evenodd\" fill-opacity=\"1\" /><path clip-path=\"url(#clip280)\" d=\"M 0 0 M4783.71 108.823 L4813.53 108.823 L4813.53 290.304 L4783.71 290.304 L4783.71 108.823 M4783.71 38.1757 L4813.53 38.1757 L4813.53 75.9301 L4783.71 75.9301 L4783.71 38.1757 Z\" fill=\"#000000\" fill-rule=\"evenodd\" fill-opacity=\"1\" /><path clip-path=\"url(#clip280)\" d=\"M 0 0 M4960.49 114.171 L4960.49 142.365 Q4947.86 135.884 4934.24 132.643 Q4920.63 129.402 4906.05 129.402 Q4883.85 129.402 4872.67 136.208 Q4861.65 143.013 4861.65 156.624 Q4861.65 166.994 4869.59 172.99 Q4877.53 178.823 4901.51 184.17 L4911.72 186.439 Q4943.48 193.244 4956.77 205.721 Q4970.22 218.036 4970.22 240.235 Q4970.22 265.512 4950.12 280.258 Q4930.19 295.003 4895.19 295.003 Q4880.61 295.003 4864.73 292.086 Q4849.01 289.332 4831.51 283.661 L4831.51 252.874 Q4848.04 261.462 4864.08 265.837 Q4880.12 270.049 4895.84 270.049 Q4916.91 270.049 4928.25 262.92 Q4939.59 255.628 4939.59 242.503 Q4939.59 230.351 4931.33 223.869 Q4923.23 217.388 4895.52 211.392 L4885.15 208.962 Q4857.44 203.129 4845.12 191.138 Q4832.81 178.985 4832.81 157.92 Q4832.81 132.319 4850.96 118.384 Q4869.11 104.449 4902.49 104.449 Q4919.01 104.449 4933.6 106.879 Q4948.18 109.31 4960.49 114.171 Z\" fill=\"#000000\" fill-rule=\"evenodd\" fill-opacity=\"1\" /><path clip-path=\"url(#clip280)\" d=\"M 0 0 M5030.33 263.082 L5030.33 359.331 L5000.36 359.331 L5000.36 108.823 L5030.33 108.823 L5030.33 136.37 Q5039.73 120.166 5053.99 112.388 Q5068.41 104.449 5088.34 104.449 Q5121.4 104.449 5141.97 130.698 Q5162.72 156.948 5162.72 199.726 Q5162.72 242.503 5141.97 268.753 Q5121.4 295.003 5088.34 295.003 Q5068.41 295.003 5053.99 287.225 Q5039.73 279.286 5030.33 263.082 M5131.77 199.726 Q5131.77 166.832 5118.16 148.198 Q5104.71 129.402 5081.05 129.402 Q5057.39 129.402 5043.78 148.198 Q5030.33 166.832 5030.33 199.726 Q5030.33 232.619 5043.78 251.415 Q5057.39 270.049 5081.05 270.049 Q5104.71 270.049 5118.16 251.415 Q5131.77 232.619 5131.77 199.726 Z\" fill=\"#000000\" fill-rule=\"evenodd\" fill-opacity=\"1\" /><path clip-path=\"url(#clip280)\" d=\"M 0 0 M5193.99 38.1757 L5223.8 38.1757 L5223.8 290.304 L5193.99 290.304 L5193.99 38.1757 Z\" fill=\"#000000\" fill-rule=\"evenodd\" fill-opacity=\"1\" /><path clip-path=\"url(#clip280)\" d=\"M 0 0 M5337.55 199.078 Q5301.42 199.078 5287.48 207.341 Q5273.55 215.605 5273.55 235.536 Q5273.55 251.415 5283.92 260.813 Q5294.45 270.049 5312.44 270.049 Q5337.23 270.049 5352.14 252.55 Q5367.2 234.888 5367.2 205.721 L5367.2 199.078 L5337.55 199.078 M5397.02 186.763 L5397.02 290.304 L5367.2 290.304 L5367.2 262.758 Q5357 279.286 5341.77 287.225 Q5326.53 295.003 5304.5 295.003 Q5276.63 295.003 5260.1 279.448 Q5243.73 263.73 5243.73 237.48 Q5243.73 206.855 5264.15 191.3 Q5284.73 175.744 5325.4 175.744 L5367.2 175.744 L5367.2 172.828 Q5367.2 152.249 5353.59 141.069 Q5340.14 129.726 5315.68 129.726 Q5300.12 129.726 5285.38 133.453 Q5270.63 137.18 5257.02 144.633 L5257.02 117.087 Q5273.39 110.768 5288.78 107.689 Q5304.17 104.449 5318.76 104.449 Q5358.13 104.449 5377.58 124.865 Q5397.02 145.282 5397.02 186.763 Z\" fill=\"#000000\" fill-rule=\"evenodd\" fill-opacity=\"1\" /><path clip-path=\"url(#clip280)\" d=\"M 0 0 M5558.89 115.791 L5558.89 143.661 Q5546.25 136.694 5533.45 133.291 Q5520.82 129.726 5507.85 129.726 Q5478.85 129.726 5462.81 148.198 Q5446.76 166.508 5446.76 199.726 Q5446.76 232.943 5462.81 251.415 Q5478.85 269.725 5507.85 269.725 Q5520.82 269.725 5533.45 266.323 Q5546.25 262.758 5558.89 255.79 L5558.89 283.336 Q5546.42 289.17 5532.97 292.086 Q5519.68 295.003 5504.61 295.003 Q5463.62 295.003 5439.47 269.239 Q5415.33 243.476 5415.33 199.726 Q5415.33 155.328 5439.64 129.888 Q5464.1 104.449 5506.56 104.449 Q5520.33 104.449 5533.45 107.365 Q5546.58 110.12 5558.89 115.791 Z\" fill=\"#000000\" fill-rule=\"evenodd\" fill-opacity=\"1\" /><path clip-path=\"url(#clip280)\" d=\"M 0 0 M5745.4 192.11 L5745.4 206.693 L5608.31 206.693 Q5610.26 237.48 5626.79 253.684 Q5643.48 269.725 5673.13 269.725 Q5690.31 269.725 5706.35 265.512 Q5722.55 261.3 5738.43 252.874 L5738.43 281.068 Q5722.39 287.873 5705.54 291.438 Q5688.68 295.003 5671.35 295.003 Q5627.92 295.003 5602.48 269.725 Q5577.2 244.448 5577.2 201.346 Q5577.2 156.786 5601.19 130.698 Q5625.33 104.449 5666.16 104.449 Q5702.78 104.449 5724.01 128.106 Q5745.4 151.601 5745.4 192.11 M5715.58 183.36 Q5715.26 158.893 5701.81 144.309 Q5688.52 129.726 5666.49 129.726 Q5641.53 129.726 5626.46 143.823 Q5611.56 157.92 5609.29 183.522 L5715.58 183.36 Z\" fill=\"#000000\" fill-rule=\"evenodd\" fill-opacity=\"1\" /><path clip-path=\"url(#clip280)\" d=\"M 0 0 M5917.97 143.661 Q5929.15 123.569 5944.7 114.009 Q5960.26 104.449 5981.32 104.449 Q6009.68 104.449 6025.07 124.379 Q6040.47 144.147 6040.47 180.768 L6040.47 290.304 L6010.49 290.304 L6010.49 181.74 Q6010.49 155.652 6001.25 143.013 Q5992.02 130.374 5973.06 130.374 Q5949.89 130.374 5936.44 145.768 Q5922.99 161.161 5922.99 187.735 L5922.99 290.304 L5893.01 290.304 L5893.01 181.74 Q5893.01 155.49 5883.78 143.013 Q5874.54 130.374 5855.26 130.374 Q5832.41 130.374 5818.96 145.93 Q5805.51 161.323 5805.51 187.735 L5805.51 290.304 L5775.54 290.304 L5775.54 108.823 L5805.51 108.823 L5805.51 137.018 Q5815.72 120.328 5829.98 112.388 Q5844.24 104.449 5863.85 104.449 Q5883.61 104.449 5897.39 114.495 Q5911.32 124.541 5917.97 143.661 Z\" fill=\"#000000\" fill-rule=\"evenodd\" fill-opacity=\"1\" /><path clip-path=\"url(#clip280)\" d=\"M 0 0 M6226.97 192.11 L6226.97 206.693 L6089.89 206.693 Q6091.83 237.48 6108.36 253.684 Q6125.05 269.725 6154.7 269.725 Q6171.88 269.725 6187.92 265.512 Q6204.12 261.3 6220 252.874 L6220 281.068 Q6203.96 287.873 6187.11 291.438 Q6170.26 295.003 6152.92 295.003 Q6109.49 295.003 6084.05 269.725 Q6058.78 244.448 6058.78 201.346 Q6058.78 156.786 6082.76 130.698 Q6106.9 104.449 6147.73 104.449 Q6184.35 104.449 6205.58 128.106 Q6226.97 151.601 6226.97 192.11 M6197.15 183.36 Q6196.83 158.893 6183.38 144.309 Q6170.09 129.726 6148.06 129.726 Q6123.1 129.726 6108.03 143.823 Q6093.13 157.92 6090.86 183.522 L6197.15 183.36 Z\" fill=\"#000000\" fill-rule=\"evenodd\" fill-opacity=\"1\" /><path clip-path=\"url(#clip280)\" d=\"M 0 0 M6409.1 180.768 L6409.1 290.304 L6379.28 290.304 L6379.28 181.74 Q6379.28 155.976 6369.24 143.175 Q6359.19 130.374 6339.1 130.374 Q6314.95 130.374 6301.02 145.768 Q6287.08 161.161 6287.08 187.735 L6287.08 290.304 L6257.11 290.304 L6257.11 108.823 L6287.08 108.823 L6287.08 137.018 Q6297.78 120.652 6312.2 112.55 Q6326.78 104.449 6345.74 104.449 Q6377.01 104.449 6393.06 123.893 Q6409.1 143.175 6409.1 180.768 Z\" fill=\"#000000\" fill-rule=\"evenodd\" fill-opacity=\"1\" /><path clip-path=\"url(#clip280)\" d=\"M 0 0 M6469.86 57.296 L6469.86 108.823 L6531.27 108.823 L6531.27 131.995 L6469.86 131.995 L6469.86 230.513 Q6469.86 252.712 6475.86 259.031 Q6482.01 265.35 6500.65 265.35 L6531.27 265.35 L6531.27 290.304 L6500.65 290.304 Q6466.13 290.304 6453.01 277.503 Q6439.88 264.54 6439.88 230.513 L6439.88 131.995 L6418.01 131.995 L6418.01 108.823 L6439.88 108.823 L6439.88 57.296 L6469.86 57.296 Z\" fill=\"#000000\" fill-rule=\"evenodd\" fill-opacity=\"1\" /><polyline clip-path=\"url(#clip282)\" style=\"stroke:#009af9; stroke-width:32; stroke-opacity:1; fill:none\" points=\"\n",
       "  665.679,5857.76 2940.4,3136.5 3209.27,2834.14 3531.16,2531.78 3897.87,2229.42 4329.1,1927.06 4894.29,1624.69 5691.59,1322.33 6696.17,1019.97 7856.11,717.606 \n",
       "  9156.3,415.244 \n",
       "  \"/>\n",
       "<circle clip-path=\"url(#clip282)\" cx=\"665.679\" cy=\"5857.76\" r=\"57\" fill=\"#009af9\" fill-rule=\"evenodd\" fill-opacity=\"1\" stroke=\"#000000\" stroke-opacity=\"1\" stroke-width=\"12.8\"/>\n",
       "<circle clip-path=\"url(#clip282)\" cx=\"2940.4\" cy=\"3136.5\" r=\"57\" fill=\"#009af9\" fill-rule=\"evenodd\" fill-opacity=\"1\" stroke=\"#000000\" stroke-opacity=\"1\" stroke-width=\"12.8\"/>\n",
       "<circle clip-path=\"url(#clip282)\" cx=\"3209.27\" cy=\"2834.14\" r=\"57\" fill=\"#009af9\" fill-rule=\"evenodd\" fill-opacity=\"1\" stroke=\"#000000\" stroke-opacity=\"1\" stroke-width=\"12.8\"/>\n",
       "<circle clip-path=\"url(#clip282)\" cx=\"3531.16\" cy=\"2531.78\" r=\"57\" fill=\"#009af9\" fill-rule=\"evenodd\" fill-opacity=\"1\" stroke=\"#000000\" stroke-opacity=\"1\" stroke-width=\"12.8\"/>\n",
       "<circle clip-path=\"url(#clip282)\" cx=\"3897.87\" cy=\"2229.42\" r=\"57\" fill=\"#009af9\" fill-rule=\"evenodd\" fill-opacity=\"1\" stroke=\"#000000\" stroke-opacity=\"1\" stroke-width=\"12.8\"/>\n",
       "<circle clip-path=\"url(#clip282)\" cx=\"4329.1\" cy=\"1927.06\" r=\"57\" fill=\"#009af9\" fill-rule=\"evenodd\" fill-opacity=\"1\" stroke=\"#000000\" stroke-opacity=\"1\" stroke-width=\"12.8\"/>\n",
       "<circle clip-path=\"url(#clip282)\" cx=\"4894.29\" cy=\"1624.69\" r=\"57\" fill=\"#009af9\" fill-rule=\"evenodd\" fill-opacity=\"1\" stroke=\"#000000\" stroke-opacity=\"1\" stroke-width=\"12.8\"/>\n",
       "<circle clip-path=\"url(#clip282)\" cx=\"5691.59\" cy=\"1322.33\" r=\"57\" fill=\"#009af9\" fill-rule=\"evenodd\" fill-opacity=\"1\" stroke=\"#000000\" stroke-opacity=\"1\" stroke-width=\"12.8\"/>\n",
       "<circle clip-path=\"url(#clip282)\" cx=\"6696.17\" cy=\"1019.97\" r=\"57\" fill=\"#009af9\" fill-rule=\"evenodd\" fill-opacity=\"1\" stroke=\"#000000\" stroke-opacity=\"1\" stroke-width=\"12.8\"/>\n",
       "<circle clip-path=\"url(#clip282)\" cx=\"7856.11\" cy=\"717.606\" r=\"57\" fill=\"#009af9\" fill-rule=\"evenodd\" fill-opacity=\"1\" stroke=\"#000000\" stroke-opacity=\"1\" stroke-width=\"12.8\"/>\n",
       "<circle clip-path=\"url(#clip282)\" cx=\"9156.3\" cy=\"415.244\" r=\"57\" fill=\"#009af9\" fill-rule=\"evenodd\" fill-opacity=\"1\" stroke=\"#000000\" stroke-opacity=\"1\" stroke-width=\"12.8\"/>\n",
       "<path clip-path=\"url(#clip280)\" d=\"\n",
       "M7876.11 928.111 L9111.02 928.111 L9111.02 444.271 L7876.11 444.271  Z\n",
       "  \" fill=\"#ffffff\" fill-rule=\"evenodd\" fill-opacity=\"1\"/>\n",
       "<polyline clip-path=\"url(#clip280)\" style=\"stroke:#000000; stroke-width:16; stroke-opacity:1; fill:none\" points=\"\n",
       "  7876.11,928.111 9111.02,928.111 9111.02,444.271 7876.11,444.271 7876.11,928.111 \n",
       "  \"/>\n",
       "<polyline clip-path=\"url(#clip280)\" style=\"stroke:#009af9; stroke-width:16; stroke-opacity:1; fill:none\" points=\"\n",
       "  7976.11,686.191 8576.11,686.191 \n",
       "  \"/>\n",
       "<circle clip-path=\"url(#clip280)\" cx=\"8276.11\" cy=\"686.191\" r=\"92\" fill=\"#009af9\" fill-rule=\"evenodd\" fill-opacity=\"1\" stroke=\"#000000\" stroke-opacity=\"1\" stroke-width=\"20.48\"/>\n",
       "<path clip-path=\"url(#clip280)\" d=\"M 0 0 M8676.11 611.238 L8715.37 611.238 L8715.37 624.478 L8693.15 624.478 L8693.15 767.07 L8715.37 767.07 L8715.37 780.311 L8676.11 780.311 L8676.11 611.238 Z\" fill=\"#000000\" fill-rule=\"evenodd\" fill-opacity=\"1\" /><path clip-path=\"url(#clip280)\" d=\"M 0 0 M8749.35 617.071 L8749.35 668.459 L8733.61 668.459 L8733.61 617.071 L8749.35 617.071 M8784.35 617.071 L8784.35 668.459 L8768.61 668.459 L8768.61 617.071 L8784.35 617.071 Z\" fill=\"#000000\" fill-rule=\"evenodd\" fill-opacity=\"1\" /><path clip-path=\"url(#clip280)\" d=\"M 0 0 M8818.34 617.071 L8818.34 668.459 L8802.59 668.459 L8802.59 617.071 L8818.34 617.071 M8853.34 617.071 L8853.34 668.459 L8837.59 668.459 L8837.59 617.071 L8853.34 617.071 Z\" fill=\"#000000\" fill-rule=\"evenodd\" fill-opacity=\"1\" /><path clip-path=\"url(#clip280)\" d=\"M 0 0 M8911.02 611.238 L8911.02 780.311 L8871.76 780.311 L8871.76 767.07 L8893.89 767.07 L8893.89 624.478 L8871.76 624.478 L8871.76 611.238 L8911.02 611.238 Z\" fill=\"#000000\" fill-rule=\"evenodd\" fill-opacity=\"1\" /></svg>\n"
      ],
      "image/svg+xml": [
       "<?xml version=\"1.0\" encoding=\"utf-8\"?>\n",
       "<svg xmlns=\"http://www.w3.org/2000/svg\" xmlns:xlink=\"http://www.w3.org/1999/xlink\" width=\"2400\" height=\"1600\" viewBox=\"0 0 9600 6400\">\n",
       "<defs>\n",
       "  <clipPath id=\"clip250\">\n",
       "    <rect x=\"0\" y=\"0\" width=\"9600\" height=\"6400\"/>\n",
       "  </clipPath>\n",
       "</defs>\n",
       "<path clip-path=\"url(#clip250)\" d=\"\n",
       "M0 6400 L9600 6400 L9600 0 L0 0  Z\n",
       "  \" fill=\"#ffffff\" fill-rule=\"evenodd\" fill-opacity=\"1\"/>\n",
       "<defs>\n",
       "  <clipPath id=\"clip251\">\n",
       "    <rect x=\"1920\" y=\"0\" width=\"6721\" height=\"6400\"/>\n",
       "  </clipPath>\n",
       "</defs>\n",
       "<path clip-path=\"url(#clip250)\" d=\"\n",
       "M2360.96 6021.04 L9411.02 6021.04 L9411.02 251.969 L2360.96 251.969  Z\n",
       "  \" fill=\"#ffffff\" fill-rule=\"evenodd\" fill-opacity=\"1\"/>\n",
       "<defs>\n",
       "  <clipPath id=\"clip252\">\n",
       "    <rect x=\"2360\" y=\"251\" width=\"7051\" height=\"5770\"/>\n",
       "  </clipPath>\n",
       "</defs>\n",
       "<polyline clip-path=\"url(#clip252)\" style=\"stroke:#000000; stroke-width:8; stroke-opacity:0.1; fill:none\" points=\"\n",
       "  2560.49,6021.04 2560.49,251.969 \n",
       "  \"/>\n",
       "<polyline clip-path=\"url(#clip252)\" style=\"stroke:#000000; stroke-width:8; stroke-opacity:0.1; fill:none\" points=\"\n",
       "  3867.41,6021.04 3867.41,251.969 \n",
       "  \"/>\n",
       "<polyline clip-path=\"url(#clip252)\" style=\"stroke:#000000; stroke-width:8; stroke-opacity:0.1; fill:none\" points=\"\n",
       "  5174.34,6021.04 5174.34,251.969 \n",
       "  \"/>\n",
       "<polyline clip-path=\"url(#clip252)\" style=\"stroke:#000000; stroke-width:8; stroke-opacity:0.1; fill:none\" points=\"\n",
       "  6481.26,6021.04 6481.26,251.969 \n",
       "  \"/>\n",
       "<polyline clip-path=\"url(#clip252)\" style=\"stroke:#000000; stroke-width:8; stroke-opacity:0.1; fill:none\" points=\"\n",
       "  7788.18,6021.04 7788.18,251.969 \n",
       "  \"/>\n",
       "<polyline clip-path=\"url(#clip252)\" style=\"stroke:#000000; stroke-width:8; stroke-opacity:0.1; fill:none\" points=\"\n",
       "  9095.11,6021.04 9095.11,251.969 \n",
       "  \"/>\n",
       "<polyline clip-path=\"url(#clip250)\" style=\"stroke:#000000; stroke-width:16; stroke-opacity:1; fill:none\" points=\"\n",
       "  2360.96,6021.04 9411.02,6021.04 \n",
       "  \"/>\n",
       "<polyline clip-path=\"url(#clip250)\" style=\"stroke:#000000; stroke-width:16; stroke-opacity:1; fill:none\" points=\"\n",
       "  2560.49,6021.04 2560.49,5951.81 \n",
       "  \"/>\n",
       "<polyline clip-path=\"url(#clip250)\" style=\"stroke:#000000; stroke-width:16; stroke-opacity:1; fill:none\" points=\"\n",
       "  3867.41,6021.04 3867.41,5951.81 \n",
       "  \"/>\n",
       "<polyline clip-path=\"url(#clip250)\" style=\"stroke:#000000; stroke-width:16; stroke-opacity:1; fill:none\" points=\"\n",
       "  5174.34,6021.04 5174.34,5951.81 \n",
       "  \"/>\n",
       "<polyline clip-path=\"url(#clip250)\" style=\"stroke:#000000; stroke-width:16; stroke-opacity:1; fill:none\" points=\"\n",
       "  6481.26,6021.04 6481.26,5951.81 \n",
       "  \"/>\n",
       "<polyline clip-path=\"url(#clip250)\" style=\"stroke:#000000; stroke-width:16; stroke-opacity:1; fill:none\" points=\"\n",
       "  7788.18,6021.04 7788.18,5951.81 \n",
       "  \"/>\n",
       "<polyline clip-path=\"url(#clip250)\" style=\"stroke:#000000; stroke-width:16; stroke-opacity:1; fill:none\" points=\"\n",
       "  9095.11,6021.04 9095.11,5951.81 \n",
       "  \"/>\n",
       "<path clip-path=\"url(#clip250)\" d=\"M 0 0 M2432.53 6137.8 Q2418.08 6137.8 2410.77 6152.06 Q2403.55 6166.23 2403.55 6194.75 Q2403.55 6223.17 2410.77 6237.43 Q2418.08 6251.6 2432.53 6251.6 Q2447.07 6251.6 2454.29 6237.43 Q2461.6 6223.17 2461.6 6194.75 Q2461.6 6166.23 2454.29 6152.06 Q2447.07 6137.8 2432.53 6137.8 M2432.53 6122.99 Q2455.77 6122.99 2467.99 6141.41 Q2480.31 6159.75 2480.31 6194.75 Q2480.31 6229.65 2467.99 6248.08 Q2455.77 6266.41 2432.53 6266.41 Q2409.29 6266.41 2396.97 6248.08 Q2384.75 6229.65 2384.75 6194.75 Q2384.75 6159.75 2396.97 6141.41 Q2409.29 6122.99 2432.53 6122.99 Z\" fill=\"#000000\" fill-rule=\"evenodd\" fill-opacity=\"1\" /><path clip-path=\"url(#clip250)\" d=\"M 0 0 M2500.58 6240.21 L2520.12 6240.21 L2520.12 6263.73 L2500.58 6263.73 L2500.58 6240.21 Z\" fill=\"#000000\" fill-rule=\"evenodd\" fill-opacity=\"1\" /><path clip-path=\"url(#clip250)\" d=\"M 0 0 M2580.4 6137.8 Q2565.95 6137.8 2558.64 6152.06 Q2551.42 6166.23 2551.42 6194.75 Q2551.42 6223.17 2558.64 6237.43 Q2565.95 6251.6 2580.4 6251.6 Q2594.93 6251.6 2602.16 6237.43 Q2609.47 6223.17 2609.47 6194.75 Q2609.47 6166.23 2602.16 6152.06 Q2594.93 6137.8 2580.4 6137.8 M2580.4 6122.99 Q2603.64 6122.99 2615.86 6141.41 Q2628.18 6159.75 2628.18 6194.75 Q2628.18 6229.65 2615.86 6248.08 Q2603.64 6266.41 2580.4 6266.41 Q2557.16 6266.41 2544.84 6248.08 Q2532.62 6229.65 2532.62 6194.75 Q2532.62 6159.75 2544.84 6141.41 Q2557.16 6122.99 2580.4 6122.99 Z\" fill=\"#000000\" fill-rule=\"evenodd\" fill-opacity=\"1\" /><path clip-path=\"url(#clip250)\" d=\"M 0 0 M2688.45 6137.8 Q2674.01 6137.8 2666.69 6152.06 Q2659.47 6166.23 2659.47 6194.75 Q2659.47 6223.17 2666.69 6237.43 Q2674.01 6251.6 2688.45 6251.6 Q2702.99 6251.6 2710.21 6237.43 Q2717.53 6223.17 2717.53 6194.75 Q2717.53 6166.23 2710.21 6152.06 Q2702.99 6137.8 2688.45 6137.8 M2688.45 6122.99 Q2711.69 6122.99 2723.92 6141.41 Q2736.23 6159.75 2736.23 6194.75 Q2736.23 6229.65 2723.92 6248.08 Q2711.69 6266.41 2688.45 6266.41 Q2665.21 6266.41 2652.9 6248.08 Q2640.68 6229.65 2640.68 6194.75 Q2640.68 6159.75 2652.9 6141.41 Q2665.21 6122.99 2688.45 6122.99 Z\" fill=\"#000000\" fill-rule=\"evenodd\" fill-opacity=\"1\" /><path clip-path=\"url(#clip250)\" d=\"M 0 0 M3741.44 6137.8 Q3727 6137.8 3719.68 6152.06 Q3712.46 6166.23 3712.46 6194.75 Q3712.46 6223.17 3719.68 6237.43 Q3727 6251.6 3741.44 6251.6 Q3755.98 6251.6 3763.2 6237.43 Q3770.52 6223.17 3770.52 6194.75 Q3770.52 6166.23 3763.2 6152.06 Q3755.98 6137.8 3741.44 6137.8 M3741.44 6122.99 Q3764.68 6122.99 3776.91 6141.41 Q3789.22 6159.75 3789.22 6194.75 Q3789.22 6229.65 3776.91 6248.08 Q3764.68 6266.41 3741.44 6266.41 Q3718.2 6266.41 3705.89 6248.08 Q3693.67 6229.65 3693.67 6194.75 Q3693.67 6159.75 3705.89 6141.41 Q3718.2 6122.99 3741.44 6122.99 Z\" fill=\"#000000\" fill-rule=\"evenodd\" fill-opacity=\"1\" /><path clip-path=\"url(#clip250)\" d=\"M 0 0 M3809.5 6240.21 L3829.03 6240.21 L3829.03 6263.73 L3809.5 6263.73 L3809.5 6240.21 Z\" fill=\"#000000\" fill-rule=\"evenodd\" fill-opacity=\"1\" /><path clip-path=\"url(#clip250)\" d=\"M 0 0 M3889.31 6137.8 Q3874.87 6137.8 3867.55 6152.06 Q3860.33 6166.23 3860.33 6194.75 Q3860.33 6223.17 3867.55 6237.43 Q3874.87 6251.6 3889.31 6251.6 Q3903.85 6251.6 3911.07 6237.43 Q3918.39 6223.17 3918.39 6194.75 Q3918.39 6166.23 3911.07 6152.06 Q3903.85 6137.8 3889.31 6137.8 M3889.31 6122.99 Q3912.55 6122.99 3924.78 6141.41 Q3937.09 6159.75 3937.09 6194.75 Q3937.09 6229.65 3924.78 6248.08 Q3912.55 6266.41 3889.31 6266.41 Q3866.07 6266.41 3853.76 6248.08 Q3841.53 6229.65 3841.53 6194.75 Q3841.53 6159.75 3853.76 6141.41 Q3866.07 6122.99 3889.31 6122.99 Z\" fill=\"#000000\" fill-rule=\"evenodd\" fill-opacity=\"1\" /><path clip-path=\"url(#clip250)\" d=\"M 0 0 M3957.55 6125.49 L4030.98 6125.49 L4030.98 6141.23 L3974.68 6141.23 L3974.68 6175.12 Q3978.76 6173.73 3982.83 6173.08 Q3986.9 6172.34 3990.98 6172.34 Q4014.13 6172.34 4027.64 6185.02 Q4041.16 6197.71 4041.16 6219.38 Q4041.16 6241.69 4027.27 6254.1 Q4013.39 6266.41 3988.11 6266.41 Q3979.4 6266.41 3970.33 6264.93 Q3961.35 6263.45 3951.72 6260.49 L3951.72 6241.69 Q3960.05 6246.23 3968.94 6248.45 Q3977.83 6250.67 3987.74 6250.67 Q4003.76 6250.67 4013.11 6242.25 Q4022.46 6233.82 4022.46 6219.38 Q4022.46 6204.93 4013.11 6196.51 Q4003.76 6188.08 3987.74 6188.08 Q3980.24 6188.08 3972.74 6189.75 Q3965.33 6191.41 3957.55 6194.93 L3957.55 6125.49 Z\" fill=\"#000000\" fill-rule=\"evenodd\" fill-opacity=\"1\" /><path clip-path=\"url(#clip250)\" d=\"M 0 0 M5048.83 6137.8 Q5034.38 6137.8 5027.07 6152.06 Q5019.85 6166.23 5019.85 6194.75 Q5019.85 6223.17 5027.07 6237.43 Q5034.38 6251.6 5048.83 6251.6 Q5063.37 6251.6 5070.59 6237.43 Q5077.9 6223.17 5077.9 6194.75 Q5077.9 6166.23 5070.59 6152.06 Q5063.37 6137.8 5048.83 6137.8 M5048.83 6122.99 Q5072.07 6122.99 5084.29 6141.41 Q5096.61 6159.75 5096.61 6194.75 Q5096.61 6229.65 5084.29 6248.08 Q5072.07 6266.41 5048.83 6266.41 Q5025.59 6266.41 5013.27 6248.08 Q5001.05 6229.65 5001.05 6194.75 Q5001.05 6159.75 5013.27 6141.41 Q5025.59 6122.99 5048.83 6122.99 Z\" fill=\"#000000\" fill-rule=\"evenodd\" fill-opacity=\"1\" /><path clip-path=\"url(#clip250)\" d=\"M 0 0 M5116.88 6240.21 L5136.42 6240.21 L5136.42 6263.73 L5116.88 6263.73 L5116.88 6240.21 Z\" fill=\"#000000\" fill-rule=\"evenodd\" fill-opacity=\"1\" /><path clip-path=\"url(#clip250)\" d=\"M 0 0 M5159.94 6247.99 L5190.5 6247.99 L5190.5 6142.52 L5157.25 6149.19 L5157.25 6132.15 L5190.31 6125.49 L5209.01 6125.49 L5209.01 6247.99 L5239.57 6247.99 L5239.57 6263.73 L5159.94 6263.73 L5159.94 6247.99 Z\" fill=\"#000000\" fill-rule=\"evenodd\" fill-opacity=\"1\" /><path clip-path=\"url(#clip250)\" d=\"M 0 0 M5299.85 6137.8 Q5285.4 6137.8 5278.09 6152.06 Q5270.86 6166.23 5270.86 6194.75 Q5270.86 6223.17 5278.09 6237.43 Q5285.4 6251.6 5299.85 6251.6 Q5314.38 6251.6 5321.61 6237.43 Q5328.92 6223.17 5328.92 6194.75 Q5328.92 6166.23 5321.61 6152.06 Q5314.38 6137.8 5299.85 6137.8 M5299.85 6122.99 Q5323.09 6122.99 5335.31 6141.41 Q5347.62 6159.75 5347.62 6194.75 Q5347.62 6229.65 5335.31 6248.08 Q5323.09 6266.41 5299.85 6266.41 Q5276.61 6266.41 5264.29 6248.08 Q5252.07 6229.65 5252.07 6194.75 Q5252.07 6159.75 5264.29 6141.41 Q5276.61 6122.99 5299.85 6122.99 Z\" fill=\"#000000\" fill-rule=\"evenodd\" fill-opacity=\"1\" /><path clip-path=\"url(#clip250)\" d=\"M 0 0 M6357.74 6137.8 Q6343.3 6137.8 6335.98 6152.06 Q6328.76 6166.23 6328.76 6194.75 Q6328.76 6223.17 6335.98 6237.43 Q6343.3 6251.6 6357.74 6251.6 Q6372.28 6251.6 6379.5 6237.43 Q6386.82 6223.17 6386.82 6194.75 Q6386.82 6166.23 6379.5 6152.06 Q6372.28 6137.8 6357.74 6137.8 M6357.74 6122.99 Q6380.98 6122.99 6393.21 6141.41 Q6405.52 6159.75 6405.52 6194.75 Q6405.52 6229.65 6393.21 6248.08 Q6380.98 6266.41 6357.74 6266.41 Q6334.5 6266.41 6322.19 6248.08 Q6309.97 6229.65 6309.97 6194.75 Q6309.97 6159.75 6322.19 6141.41 Q6334.5 6122.99 6357.74 6122.99 Z\" fill=\"#000000\" fill-rule=\"evenodd\" fill-opacity=\"1\" /><path clip-path=\"url(#clip250)\" d=\"M 0 0 M6425.8 6240.21 L6445.34 6240.21 L6445.34 6263.73 L6425.8 6263.73 L6425.8 6240.21 Z\" fill=\"#000000\" fill-rule=\"evenodd\" fill-opacity=\"1\" /><path clip-path=\"url(#clip250)\" d=\"M 0 0 M6468.85 6247.99 L6499.41 6247.99 L6499.41 6142.52 L6466.17 6149.19 L6466.17 6132.15 L6499.22 6125.49 L6517.93 6125.49 L6517.93 6247.99 L6548.48 6247.99 L6548.48 6263.73 L6468.85 6263.73 L6468.85 6247.99 Z\" fill=\"#000000\" fill-rule=\"evenodd\" fill-opacity=\"1\" /><path clip-path=\"url(#clip250)\" d=\"M 0 0 M6568.95 6125.49 L6642.37 6125.49 L6642.37 6141.23 L6586.08 6141.23 L6586.08 6175.12 Q6590.15 6173.73 6594.22 6173.08 Q6598.3 6172.34 6602.37 6172.34 Q6625.52 6172.34 6639.04 6185.02 Q6652.56 6197.71 6652.56 6219.38 Q6652.56 6241.69 6638.67 6254.1 Q6624.78 6266.41 6599.5 6266.41 Q6590.8 6266.41 6581.72 6264.93 Q6572.74 6263.45 6563.11 6260.49 L6563.11 6241.69 Q6571.45 6246.23 6580.33 6248.45 Q6589.22 6250.67 6599.13 6250.67 Q6615.15 6250.67 6624.5 6242.25 Q6633.85 6233.82 6633.85 6219.38 Q6633.85 6204.93 6624.5 6196.51 Q6615.15 6188.08 6599.13 6188.08 Q6591.63 6188.08 6584.13 6189.75 Q6576.72 6191.41 6568.95 6194.93 L6568.95 6125.49 Z\" fill=\"#000000\" fill-rule=\"evenodd\" fill-opacity=\"1\" /><path clip-path=\"url(#clip250)\" d=\"M 0 0 M7663.42 6137.8 Q7648.97 6137.8 7641.66 6152.06 Q7634.44 6166.23 7634.44 6194.75 Q7634.44 6223.17 7641.66 6237.43 Q7648.97 6251.6 7663.42 6251.6 Q7677.95 6251.6 7685.18 6237.43 Q7692.49 6223.17 7692.49 6194.75 Q7692.49 6166.23 7685.18 6152.06 Q7677.95 6137.8 7663.42 6137.8 M7663.42 6122.99 Q7686.66 6122.99 7698.88 6141.41 Q7711.19 6159.75 7711.19 6194.75 Q7711.19 6229.65 7698.88 6248.08 Q7686.66 6266.41 7663.42 6266.41 Q7640.18 6266.41 7627.86 6248.08 Q7615.64 6229.65 7615.64 6194.75 Q7615.64 6159.75 7627.86 6141.41 Q7640.18 6122.99 7663.42 6122.99 Z\" fill=\"#000000\" fill-rule=\"evenodd\" fill-opacity=\"1\" /><path clip-path=\"url(#clip250)\" d=\"M 0 0 M7731.47 6240.21 L7751.01 6240.21 L7751.01 6263.73 L7731.47 6263.73 L7731.47 6240.21 Z\" fill=\"#000000\" fill-rule=\"evenodd\" fill-opacity=\"1\" /><path clip-path=\"url(#clip250)\" d=\"M 0 0 M7787.4 6247.99 L7852.68 6247.99 L7852.68 6263.73 L7764.9 6263.73 L7764.9 6247.99 Q7775.55 6236.97 7793.88 6218.45 Q7812.3 6199.84 7817.03 6194.47 Q7826.01 6184.38 7829.53 6177.43 Q7833.14 6170.39 7833.14 6163.64 Q7833.14 6152.62 7825.36 6145.67 Q7817.68 6138.73 7805.27 6138.73 Q7796.47 6138.73 7786.66 6141.78 Q7776.93 6144.84 7765.82 6151.04 L7765.82 6132.15 Q7777.12 6127.62 7786.93 6125.3 Q7796.75 6122.99 7804.9 6122.99 Q7826.38 6122.99 7839.16 6133.73 Q7851.93 6144.47 7851.93 6162.43 Q7851.93 6170.95 7848.69 6178.64 Q7845.55 6186.23 7837.12 6196.6 Q7834.8 6199.28 7822.4 6212.15 Q7809.99 6224.93 7787.4 6247.99 Z\" fill=\"#000000\" fill-rule=\"evenodd\" fill-opacity=\"1\" /><path clip-path=\"url(#clip250)\" d=\"M 0 0 M7912.95 6137.8 Q7898.51 6137.8 7891.19 6152.06 Q7883.97 6166.23 7883.97 6194.75 Q7883.97 6223.17 7891.19 6237.43 Q7898.51 6251.6 7912.95 6251.6 Q7927.49 6251.6 7934.71 6237.43 Q7942.03 6223.17 7942.03 6194.75 Q7942.03 6166.23 7934.71 6152.06 Q7927.49 6137.8 7912.95 6137.8 M7912.95 6122.99 Q7936.19 6122.99 7948.42 6141.41 Q7960.73 6159.75 7960.73 6194.75 Q7960.73 6229.65 7948.42 6248.08 Q7936.19 6266.41 7912.95 6266.41 Q7889.71 6266.41 7877.4 6248.08 Q7865.18 6229.65 7865.18 6194.75 Q7865.18 6159.75 7877.4 6141.41 Q7889.71 6122.99 7912.95 6122.99 Z\" fill=\"#000000\" fill-rule=\"evenodd\" fill-opacity=\"1\" /><path clip-path=\"url(#clip250)\" d=\"M 0 0 M8972.33 6137.8 Q8957.89 6137.8 8950.57 6152.06 Q8943.35 6166.23 8943.35 6194.75 Q8943.35 6223.17 8950.57 6237.43 Q8957.89 6251.6 8972.33 6251.6 Q8986.87 6251.6 8994.09 6237.43 Q9001.41 6223.17 9001.41 6194.75 Q9001.41 6166.23 8994.09 6152.06 Q8986.87 6137.8 8972.33 6137.8 M8972.33 6122.99 Q8995.57 6122.99 9007.79 6141.41 Q9020.11 6159.75 9020.11 6194.75 Q9020.11 6229.65 9007.79 6248.08 Q8995.57 6266.41 8972.33 6266.41 Q8949.09 6266.41 8936.78 6248.08 Q8924.55 6229.65 8924.55 6194.75 Q8924.55 6159.75 8936.78 6141.41 Q8949.09 6122.99 8972.33 6122.99 Z\" fill=\"#000000\" fill-rule=\"evenodd\" fill-opacity=\"1\" /><path clip-path=\"url(#clip250)\" d=\"M 0 0 M9040.39 6240.21 L9059.92 6240.21 L9059.92 6263.73 L9040.39 6263.73 L9040.39 6240.21 Z\" fill=\"#000000\" fill-rule=\"evenodd\" fill-opacity=\"1\" /><path clip-path=\"url(#clip250)\" d=\"M 0 0 M9096.31 6247.99 L9161.59 6247.99 L9161.59 6263.73 L9073.81 6263.73 L9073.81 6247.99 Q9084.46 6236.97 9102.79 6218.45 Q9121.22 6199.84 9125.94 6194.47 Q9134.92 6184.38 9138.44 6177.43 Q9142.05 6170.39 9142.05 6163.64 Q9142.05 6152.62 9134.27 6145.67 Q9126.59 6138.73 9114.18 6138.73 Q9105.39 6138.73 9095.57 6141.78 Q9085.85 6144.84 9074.74 6151.04 L9074.74 6132.15 Q9086.03 6127.62 9095.85 6125.3 Q9105.66 6122.99 9113.81 6122.99 Q9135.29 6122.99 9148.07 6133.73 Q9160.85 6144.47 9160.85 6162.43 Q9160.85 6170.95 9157.61 6178.64 Q9154.46 6186.23 9146.03 6196.6 Q9143.72 6199.28 9131.31 6212.15 Q9118.9 6224.93 9096.31 6247.99 Z\" fill=\"#000000\" fill-rule=\"evenodd\" fill-opacity=\"1\" /><path clip-path=\"url(#clip250)\" d=\"M 0 0 M9182.05 6125.49 L9255.48 6125.49 L9255.48 6141.23 L9199.18 6141.23 L9199.18 6175.12 Q9203.26 6173.73 9207.33 6173.08 Q9211.4 6172.34 9215.48 6172.34 Q9238.63 6172.34 9252.14 6185.02 Q9265.66 6197.71 9265.66 6219.38 Q9265.66 6241.69 9251.77 6254.1 Q9237.89 6266.41 9212.61 6266.41 Q9203.9 6266.41 9194.83 6264.93 Q9185.85 6263.45 9176.22 6260.49 L9176.22 6241.69 Q9184.55 6246.23 9193.44 6248.45 Q9202.33 6250.67 9212.24 6250.67 Q9228.26 6250.67 9237.61 6242.25 Q9246.96 6233.82 9246.96 6219.38 Q9246.96 6204.93 9237.61 6196.51 Q9228.26 6188.08 9212.24 6188.08 Q9204.74 6188.08 9197.24 6189.75 Q9189.83 6191.41 9182.05 6194.93 L9182.05 6125.49 Z\" fill=\"#000000\" fill-rule=\"evenodd\" fill-opacity=\"1\" /><path clip-path=\"url(#clip250)\" d=\"M 0 0 M4485.22 6362.42 L4523.54 6362.42 L4572.05 6491.77 L4620.81 6362.42 L4659.13 6362.42 L4659.13 6552.5 L4634.05 6552.5 L4634.05 6385.59 L4585.03 6515.96 L4559.19 6515.96 L4510.17 6385.59 L4510.17 6552.5 L4485.22 6552.5 L4485.22 6362.42 Z\" fill=\"#000000\" fill-rule=\"evenodd\" fill-opacity=\"1\" /><path clip-path=\"url(#clip250)\" d=\"M 0 0 M4748.5 6480.82 Q4720.11 6480.82 4709.16 6487.31 Q4698.21 6493.8 4698.21 6509.46 Q4698.21 6521.94 4706.36 6529.32 Q4714.64 6536.58 4728.77 6536.58 Q4748.25 6536.58 4759.96 6522.83 Q4771.8 6508.95 4771.8 6486.04 L4771.8 6480.82 L4748.5 6480.82 M4795.23 6471.14 L4795.23 6552.5 L4771.8 6552.5 L4771.8 6530.85 Q4763.78 6543.84 4751.81 6550.08 Q4739.85 6556.19 4722.53 6556.19 Q4700.63 6556.19 4687.65 6543.97 Q4674.79 6531.62 4674.79 6510.99 Q4674.79 6486.93 4690.83 6474.71 Q4707 6462.48 4738.96 6462.48 L4771.8 6462.48 L4771.8 6460.19 Q4771.8 6444.02 4761.11 6435.24 Q4750.54 6426.33 4731.32 6426.33 Q4719.09 6426.33 4707.51 6429.26 Q4695.92 6432.18 4685.23 6438.04 L4685.23 6416.4 Q4698.09 6411.43 4710.18 6409.01 Q4722.28 6406.47 4733.74 6406.47 Q4764.67 6406.47 4779.95 6422.51 Q4795.23 6438.55 4795.23 6471.14 Z\" fill=\"#000000\" fill-rule=\"evenodd\" fill-opacity=\"1\" /><path clip-path=\"url(#clip250)\" d=\"M 0 0 M4938.33 6409.9 L4886.77 6479.29 L4941 6552.5 L4913.38 6552.5 L4871.87 6496.48 L4830.37 6552.5 L4802.74 6552.5 L4858.12 6477.89 L4807.45 6409.9 L4835.08 6409.9 L4872.89 6460.7 L4910.7 6409.9 L4938.33 6409.9 Z\" fill=\"#000000\" fill-rule=\"evenodd\" fill-opacity=\"1\" /><path clip-path=\"url(#clip250)\" d=\"M 0 0 M4965.57 6409.9 L4989 6409.9 L4989 6552.5 L4965.57 6552.5 L4965.57 6409.9 M4965.57 6354.39 L4989 6354.39 L4989 6384.06 L4965.57 6384.06 L4965.57 6354.39 Z\" fill=\"#000000\" fill-rule=\"evenodd\" fill-opacity=\"1\" /><path clip-path=\"url(#clip250)\" d=\"M 0 0 M5124.59 6437.28 Q5133.37 6421.49 5145.6 6413.98 Q5157.82 6406.47 5174.37 6406.47 Q5196.65 6406.47 5208.74 6422.13 Q5220.84 6437.66 5220.84 6466.43 L5220.84 6552.5 L5197.29 6552.5 L5197.29 6467.19 Q5197.29 6446.7 5190.03 6436.77 Q5182.77 6426.84 5167.88 6426.84 Q5149.67 6426.84 5139.1 6438.93 Q5128.54 6451.03 5128.54 6471.91 L5128.54 6552.5 L5104.98 6552.5 L5104.98 6467.19 Q5104.98 6446.57 5097.73 6436.77 Q5090.47 6426.84 5075.32 6426.84 Q5057.37 6426.84 5046.8 6439.06 Q5036.23 6451.15 5036.23 6471.91 L5036.23 6552.5 L5012.68 6552.5 L5012.68 6409.9 L5036.23 6409.9 L5036.23 6432.06 Q5044.25 6418.94 5055.46 6412.7 Q5066.66 6406.47 5082.07 6406.47 Q5097.6 6406.47 5108.42 6414.36 Q5119.37 6422.25 5124.59 6437.28 Z\" fill=\"#000000\" fill-rule=\"evenodd\" fill-opacity=\"1\" /><path clip-path=\"url(#clip250)\" d=\"M 0 0 M5242.99 6496.22 L5242.99 6409.9 L5266.42 6409.9 L5266.42 6495.33 Q5266.42 6515.57 5274.31 6525.76 Q5282.2 6535.82 5297.99 6535.82 Q5316.96 6535.82 5327.91 6523.72 Q5338.99 6511.63 5338.99 6490.75 L5338.99 6409.9 L5362.41 6409.9 L5362.41 6552.5 L5338.99 6552.5 L5338.99 6530.6 Q5330.46 6543.58 5319.13 6549.95 Q5307.92 6556.19 5293.03 6556.19 Q5268.45 6556.19 5255.72 6540.91 Q5242.99 6525.63 5242.99 6496.22 M5301.94 6406.47 L5301.94 6406.47 Z\" fill=\"#000000\" fill-rule=\"evenodd\" fill-opacity=\"1\" /><path clip-path=\"url(#clip250)\" d=\"M 0 0 M5498 6437.28 Q5506.79 6421.49 5519.01 6413.98 Q5531.23 6406.47 5547.78 6406.47 Q5570.06 6406.47 5582.16 6422.13 Q5594.25 6437.66 5594.25 6466.43 L5594.25 6552.5 L5570.7 6552.5 L5570.7 6467.19 Q5570.7 6446.7 5563.44 6436.77 Q5556.18 6426.84 5541.29 6426.84 Q5523.08 6426.84 5512.52 6438.93 Q5501.95 6451.03 5501.95 6471.91 L5501.95 6552.5 L5478.4 6552.5 L5478.4 6467.19 Q5478.4 6446.57 5471.14 6436.77 Q5463.88 6426.84 5448.73 6426.84 Q5430.78 6426.84 5420.21 6439.06 Q5409.65 6451.15 5409.65 6471.91 L5409.65 6552.5 L5386.09 6552.5 L5386.09 6409.9 L5409.65 6409.9 L5409.65 6432.06 Q5417.67 6418.94 5428.87 6412.7 Q5440.07 6406.47 5455.48 6406.47 Q5471.01 6406.47 5481.83 6414.36 Q5492.78 6422.25 5498 6437.28 Z\" fill=\"#000000\" fill-rule=\"evenodd\" fill-opacity=\"1\" /><path clip-path=\"url(#clip250)\" d=\"M 0 0 M5795.54 6431.55 L5795.54 6354.39 L5818.96 6354.39 L5818.96 6552.5 L5795.54 6552.5 L5795.54 6531.11 Q5788.15 6543.84 5776.82 6550.08 Q5765.62 6556.19 5749.83 6556.19 Q5723.98 6556.19 5707.69 6535.56 Q5691.52 6514.94 5691.52 6481.33 Q5691.52 6447.72 5707.69 6427.09 Q5723.98 6406.47 5749.83 6406.47 Q5765.62 6406.47 5776.82 6412.7 Q5788.15 6418.82 5795.54 6431.55 M5715.71 6481.33 Q5715.71 6507.17 5726.28 6521.94 Q5736.97 6536.58 5755.56 6536.58 Q5774.15 6536.58 5784.84 6521.94 Q5795.54 6507.17 5795.54 6481.33 Q5795.54 6455.48 5784.84 6440.84 Q5774.15 6426.07 5755.56 6426.07 Q5736.97 6426.07 5726.28 6440.84 Q5715.71 6455.48 5715.71 6481.33 Z\" fill=\"#000000\" fill-rule=\"evenodd\" fill-opacity=\"1\" /><path clip-path=\"url(#clip250)\" d=\"M 0 0 M5965.5 6475.34 L5965.5 6486.8 L5857.79 6486.8 Q5859.32 6510.99 5872.31 6523.72 Q5885.42 6536.33 5908.72 6536.33 Q5922.21 6536.33 5934.82 6533.02 Q5947.55 6529.71 5960.03 6523.09 L5960.03 6545.24 Q5947.42 6550.59 5934.18 6553.39 Q5920.94 6556.19 5907.32 6556.19 Q5873.2 6556.19 5853.21 6536.33 Q5833.35 6516.47 5833.35 6482.6 Q5833.35 6447.59 5852.19 6427.09 Q5871.16 6406.47 5903.24 6406.47 Q5932.02 6406.47 5948.69 6425.05 Q5965.5 6443.51 5965.5 6475.34 M5942.07 6468.47 Q5941.82 6449.24 5931.25 6437.79 Q5920.81 6426.33 5903.5 6426.33 Q5883.89 6426.33 5872.05 6437.4 Q5860.34 6448.48 5858.56 6468.6 L5942.07 6468.47 Z\" fill=\"#000000\" fill-rule=\"evenodd\" fill-opacity=\"1\" /><path clip-path=\"url(#clip250)\" d=\"M 0 0 M6062.26 6354.39 L6062.26 6373.87 L6039.85 6373.87 Q6027.25 6373.87 6022.28 6378.97 Q6017.44 6384.06 6017.44 6397.3 L6017.44 6409.9 L6056.02 6409.9 L6056.02 6428.11 L6017.44 6428.11 L6017.44 6552.5 L5993.89 6552.5 L5993.89 6428.11 L5971.48 6428.11 L5971.48 6409.9 L5993.89 6409.9 L5993.89 6399.97 Q5993.89 6376.17 6004.97 6365.34 Q6016.04 6354.39 6040.11 6354.39 L6062.26 6354.39 Z\" fill=\"#000000\" fill-rule=\"evenodd\" fill-opacity=\"1\" /><path clip-path=\"url(#clip250)\" d=\"M 0 0 M6086.83 6354.39 L6110.26 6354.39 L6110.26 6552.5 L6086.83 6552.5 L6086.83 6354.39 Z\" fill=\"#000000\" fill-rule=\"evenodd\" fill-opacity=\"1\" /><path clip-path=\"url(#clip250)\" d=\"M 0 0 M6256.79 6475.34 L6256.79 6486.8 L6149.09 6486.8 Q6150.61 6510.99 6163.6 6523.72 Q6176.71 6536.33 6200.01 6536.33 Q6213.51 6536.33 6226.11 6533.02 Q6238.84 6529.71 6251.32 6523.09 L6251.32 6545.24 Q6238.72 6550.59 6225.48 6553.39 Q6212.23 6556.19 6198.61 6556.19 Q6164.49 6556.19 6144.5 6536.33 Q6124.64 6516.47 6124.64 6482.6 Q6124.64 6447.59 6143.48 6427.09 Q6162.45 6406.47 6194.54 6406.47 Q6223.31 6406.47 6239.99 6425.05 Q6256.79 6443.51 6256.79 6475.34 M6233.37 6468.47 Q6233.11 6449.24 6222.55 6437.79 Q6212.11 6426.33 6194.79 6426.33 Q6175.19 6426.33 6163.35 6437.4 Q6151.63 6448.48 6149.85 6468.6 L6233.37 6468.47 Z\" fill=\"#000000\" fill-rule=\"evenodd\" fill-opacity=\"1\" /><path clip-path=\"url(#clip250)\" d=\"M 0 0 M6383.98 6415.38 L6383.98 6437.28 Q6374.05 6431.8 6363.99 6429.13 Q6354.06 6426.33 6343.88 6426.33 Q6321.09 6426.33 6308.48 6440.84 Q6295.88 6455.23 6295.88 6481.33 Q6295.88 6507.43 6308.48 6521.94 Q6321.09 6536.33 6343.88 6536.33 Q6354.06 6536.33 6363.99 6533.65 Q6374.05 6530.85 6383.98 6525.38 L6383.98 6547.02 Q6374.18 6551.6 6363.61 6553.9 Q6353.17 6556.19 6341.33 6556.19 Q6309.12 6556.19 6290.15 6535.94 Q6271.18 6515.7 6271.18 6481.33 Q6271.18 6446.44 6290.28 6426.45 Q6309.5 6406.47 6342.86 6406.47 Q6353.68 6406.47 6363.99 6408.76 Q6374.31 6410.92 6383.98 6415.38 Z\" fill=\"#000000\" fill-rule=\"evenodd\" fill-opacity=\"1\" /><path clip-path=\"url(#clip250)\" d=\"M 0 0 M6431.72 6369.42 L6431.72 6409.9 L6479.98 6409.9 L6479.98 6428.11 L6431.72 6428.11 L6431.72 6505.52 Q6431.72 6522.96 6436.43 6527.92 Q6441.27 6532.89 6455.91 6532.89 L6479.98 6532.89 L6479.98 6552.5 L6455.91 6552.5 Q6428.8 6552.5 6418.48 6542.44 Q6408.17 6532.25 6408.17 6505.52 L6408.17 6428.11 L6390.98 6428.11 L6390.98 6409.9 L6408.17 6409.9 L6408.17 6369.42 L6431.72 6369.42 Z\" fill=\"#000000\" fill-rule=\"evenodd\" fill-opacity=\"1\" /><path clip-path=\"url(#clip250)\" d=\"M 0 0 M6504.55 6409.9 L6527.97 6409.9 L6527.97 6552.5 L6504.55 6552.5 L6504.55 6409.9 M6504.55 6354.39 L6527.97 6354.39 L6527.97 6384.06 L6504.55 6384.06 L6504.55 6354.39 Z\" fill=\"#000000\" fill-rule=\"evenodd\" fill-opacity=\"1\" /><path clip-path=\"url(#clip250)\" d=\"M 0 0 M6607.8 6426.33 Q6588.96 6426.33 6578.01 6441.1 Q6567.06 6455.74 6567.06 6481.33 Q6567.06 6506.92 6577.88 6521.69 Q6588.83 6536.33 6607.8 6536.33 Q6626.51 6536.33 6637.46 6521.56 Q6648.41 6506.79 6648.41 6481.33 Q6648.41 6455.99 6637.46 6441.22 Q6626.51 6426.33 6607.8 6426.33 M6607.8 6406.47 Q6638.35 6406.47 6655.8 6426.33 Q6673.24 6446.19 6673.24 6481.33 Q6673.24 6516.34 6655.8 6536.33 Q6638.35 6556.19 6607.8 6556.19 Q6577.12 6556.19 6559.67 6536.33 Q6542.36 6516.34 6542.36 6481.33 Q6542.36 6446.19 6559.67 6426.33 Q6577.12 6406.47 6607.8 6406.47 Z\" fill=\"#000000\" fill-rule=\"evenodd\" fill-opacity=\"1\" /><path clip-path=\"url(#clip250)\" d=\"M 0 0 M6816.34 6466.43 L6816.34 6552.5 L6792.91 6552.5 L6792.91 6467.19 Q6792.91 6446.95 6785.02 6436.89 Q6777.13 6426.84 6761.34 6426.84 Q6742.37 6426.84 6731.42 6438.93 Q6720.47 6451.03 6720.47 6471.91 L6720.47 6552.5 L6696.92 6552.5 L6696.92 6409.9 L6720.47 6409.9 L6720.47 6432.06 Q6728.88 6419.2 6740.21 6412.83 Q6751.66 6406.47 6766.56 6406.47 Q6791.13 6406.47 6803.74 6421.74 Q6816.34 6436.89 6816.34 6466.43 Z\" fill=\"#000000\" fill-rule=\"evenodd\" fill-opacity=\"1\" /><path clip-path=\"url(#clip250)\" d=\"M 0 0 M6921.63 6354.39 L6975.61 6354.39 L6975.61 6372.6 L6945.05 6372.6 L6945.05 6568.66 L6975.61 6568.66 L6975.61 6586.87 L6921.63 6586.87 L6921.63 6354.39 Z\" fill=\"#000000\" fill-rule=\"evenodd\" fill-opacity=\"1\" /><path clip-path=\"url(#clip250)\" d=\"M 0 0 M7111.2 6437.28 Q7119.98 6421.49 7132.21 6413.98 Q7144.43 6406.47 7160.98 6406.47 Q7183.26 6406.47 7195.35 6422.13 Q7207.45 6437.66 7207.45 6466.43 L7207.45 6552.5 L7183.9 6552.5 L7183.9 6467.19 Q7183.9 6446.7 7176.64 6436.77 Q7169.38 6426.84 7154.49 6426.84 Q7136.28 6426.84 7125.71 6438.93 Q7115.15 6451.03 7115.15 6471.91 L7115.15 6552.5 L7091.59 6552.5 L7091.59 6467.19 Q7091.59 6446.57 7084.34 6436.77 Q7077.08 6426.84 7061.93 6426.84 Q7043.98 6426.84 7033.41 6439.06 Q7022.84 6451.15 7022.84 6471.91 L7022.84 6552.5 L6999.29 6552.5 L6999.29 6409.9 L7022.84 6409.9 L7022.84 6432.06 Q7030.86 6418.94 7042.07 6412.7 Q7053.27 6406.47 7068.68 6406.47 Q7084.21 6406.47 7095.03 6414.36 Q7105.98 6422.25 7111.2 6437.28 Z\" fill=\"#000000\" fill-rule=\"evenodd\" fill-opacity=\"1\" /><path clip-path=\"url(#clip250)\" d=\"M 0 0 M7286.77 6354.39 L7286.77 6586.87 L7232.78 6586.87 L7232.78 6568.66 L7263.21 6568.66 L7263.21 6372.6 L7232.78 6372.6 L7232.78 6354.39 L7286.77 6354.39 Z\" fill=\"#000000\" fill-rule=\"evenodd\" fill-opacity=\"1\" /><polyline clip-path=\"url(#clip252)\" style=\"stroke:#000000; stroke-width:8; stroke-opacity:0.1; fill:none\" points=\"\n",
       "  2360.96,5857.76 9411.02,5857.76 \n",
       "  \"/>\n",
       "<polyline clip-path=\"url(#clip252)\" style=\"stroke:#000000; stroke-width:8; stroke-opacity:0.1; fill:none\" points=\"\n",
       "  2360.96,4497.13 9411.02,4497.13 \n",
       "  \"/>\n",
       "<polyline clip-path=\"url(#clip252)\" style=\"stroke:#000000; stroke-width:8; stroke-opacity:0.1; fill:none\" points=\"\n",
       "  2360.96,3136.5 9411.02,3136.5 \n",
       "  \"/>\n",
       "<polyline clip-path=\"url(#clip252)\" style=\"stroke:#000000; stroke-width:8; stroke-opacity:0.1; fill:none\" points=\"\n",
       "  2360.96,1775.87 9411.02,1775.87 \n",
       "  \"/>\n",
       "<polyline clip-path=\"url(#clip252)\" style=\"stroke:#000000; stroke-width:8; stroke-opacity:0.1; fill:none\" points=\"\n",
       "  2360.96,415.244 9411.02,415.244 \n",
       "  \"/>\n",
       "<polyline clip-path=\"url(#clip250)\" style=\"stroke:#000000; stroke-width:16; stroke-opacity:1; fill:none\" points=\"\n",
       "  2360.96,6021.04 2360.96,251.969 \n",
       "  \"/>\n",
       "<polyline clip-path=\"url(#clip250)\" style=\"stroke:#000000; stroke-width:16; stroke-opacity:1; fill:none\" points=\"\n",
       "  2360.96,5857.76 2445.56,5857.76 \n",
       "  \"/>\n",
       "<polyline clip-path=\"url(#clip250)\" style=\"stroke:#000000; stroke-width:16; stroke-opacity:1; fill:none\" points=\"\n",
       "  2360.96,4497.13 2445.56,4497.13 \n",
       "  \"/>\n",
       "<polyline clip-path=\"url(#clip250)\" style=\"stroke:#000000; stroke-width:16; stroke-opacity:1; fill:none\" points=\"\n",
       "  2360.96,3136.5 2445.56,3136.5 \n",
       "  \"/>\n",
       "<polyline clip-path=\"url(#clip250)\" style=\"stroke:#000000; stroke-width:16; stroke-opacity:1; fill:none\" points=\"\n",
       "  2360.96,1775.87 2445.56,1775.87 \n",
       "  \"/>\n",
       "<polyline clip-path=\"url(#clip250)\" style=\"stroke:#000000; stroke-width:16; stroke-opacity:1; fill:none\" points=\"\n",
       "  2360.96,415.244 2445.56,415.244 \n",
       "  \"/>\n",
       "<path clip-path=\"url(#clip250)\" d=\"M 0 0 M2169.18 5800.96 Q2154.74 5800.96 2147.42 5815.22 Q2140.2 5829.38 2140.2 5857.9 Q2140.2 5886.33 2147.42 5900.59 Q2154.74 5914.75 2169.18 5914.75 Q2183.72 5914.75 2190.94 5900.59 Q2198.26 5886.33 2198.26 5857.9 Q2198.26 5829.38 2190.94 5815.22 Q2183.72 5800.96 2169.18 5800.96 M2169.18 5786.14 Q2192.42 5786.14 2204.65 5804.57 Q2216.96 5822.9 2216.96 5857.9 Q2216.96 5892.81 2204.65 5911.24 Q2192.42 5929.57 2169.18 5929.57 Q2145.94 5929.57 2133.63 5911.24 Q2121.41 5892.81 2121.41 5857.9 Q2121.41 5822.9 2133.63 5804.57 Q2145.94 5786.14 2169.18 5786.14 Z\" fill=\"#000000\" fill-rule=\"evenodd\" fill-opacity=\"1\" /><path clip-path=\"url(#clip250)\" d=\"M 0 0 M1586.07 4576.3 L1651.34 4576.3 L1651.34 4592.04 L1563.57 4592.04 L1563.57 4576.3 Q1574.22 4565.29 1592.55 4546.77 Q1610.97 4528.16 1615.7 4522.79 Q1624.68 4512.69 1628.2 4505.75 Q1631.81 4498.71 1631.81 4491.95 Q1631.81 4480.93 1624.03 4473.99 Q1616.34 4467.04 1603.94 4467.04 Q1595.14 4467.04 1585.33 4470.1 Q1575.6 4473.16 1564.49 4479.36 L1564.49 4460.47 Q1575.79 4455.93 1585.6 4453.62 Q1595.42 4451.3 1603.57 4451.3 Q1625.05 4451.3 1637.83 4462.04 Q1650.6 4472.79 1650.6 4490.75 Q1650.6 4499.27 1647.36 4506.95 Q1644.21 4514.54 1635.79 4524.91 Q1633.47 4527.6 1621.07 4540.47 Q1608.66 4553.25 1586.07 4576.3 Z\" fill=\"#000000\" fill-rule=\"evenodd\" fill-opacity=\"1\" /><path clip-path=\"url(#clip250)\" d=\"M 0 0 M1671.62 4568.53 L1691.16 4568.53 L1691.16 4592.04 L1671.62 4592.04 L1671.62 4568.53 Z\" fill=\"#000000\" fill-rule=\"evenodd\" fill-opacity=\"1\" /><path clip-path=\"url(#clip250)\" d=\"M 0 0 M1711.62 4453.8 L1785.05 4453.8 L1785.05 4469.54 L1728.75 4469.54 L1728.75 4503.43 Q1732.83 4502.04 1736.9 4501.4 Q1740.97 4500.66 1745.05 4500.66 Q1768.2 4500.66 1781.71 4513.34 Q1795.23 4526.03 1795.23 4547.69 Q1795.23 4570.01 1781.34 4582.41 Q1767.45 4594.73 1742.18 4594.73 Q1733.47 4594.73 1724.4 4593.25 Q1715.42 4591.77 1705.79 4588.8 L1705.79 4570.01 Q1714.12 4574.54 1723.01 4576.77 Q1731.9 4578.99 1741.81 4578.99 Q1757.83 4578.99 1767.18 4570.56 Q1776.53 4562.14 1776.53 4547.69 Q1776.53 4533.25 1767.18 4524.82 Q1757.83 4516.4 1741.81 4516.4 Q1734.31 4516.4 1726.81 4518.06 Q1719.4 4519.73 1711.62 4523.25 L1711.62 4453.8 Z\" fill=\"#000000\" fill-rule=\"evenodd\" fill-opacity=\"1\" /><path clip-path=\"url(#clip250)\" d=\"M 0 0 M1928.19 4490.19 L1885.88 4532.69 L1928.19 4575.01 L1917.18 4586.21 L1874.68 4543.71 L1832.18 4586.21 L1821.25 4575.01 L1863.47 4532.69 L1821.25 4490.19 L1832.18 4478.99 L1874.68 4521.49 L1917.18 4478.99 L1928.19 4490.19 Z\" fill=\"#000000\" fill-rule=\"evenodd\" fill-opacity=\"1\" /><path clip-path=\"url(#clip250)\" d=\"M 0 0 M1951.71 4576.3 L1982.27 4576.3 L1982.27 4470.84 L1949.03 4477.51 L1949.03 4460.47 L1982.08 4453.8 L2000.79 4453.8 L2000.79 4576.3 L2031.34 4576.3 L2031.34 4592.04 L1951.71 4592.04 L1951.71 4576.3 Z\" fill=\"#000000\" fill-rule=\"evenodd\" fill-opacity=\"1\" /><path clip-path=\"url(#clip250)\" d=\"M 0 0 M2091.62 4466.12 Q2077.18 4466.12 2069.86 4480.38 Q2062.64 4494.54 2062.64 4523.06 Q2062.64 4551.49 2069.86 4565.75 Q2077.18 4579.91 2091.62 4579.91 Q2106.16 4579.91 2113.38 4565.75 Q2120.69 4551.49 2120.69 4523.06 Q2120.69 4494.54 2113.38 4480.38 Q2106.16 4466.12 2091.62 4466.12 M2091.62 4451.3 Q2114.86 4451.3 2127.08 4469.73 Q2139.4 4488.06 2139.4 4523.06 Q2139.4 4557.97 2127.08 4576.4 Q2114.86 4594.73 2091.62 4594.73 Q2068.38 4594.73 2056.06 4576.4 Q2043.84 4557.97 2043.84 4523.06 Q2043.84 4488.06 2056.06 4469.73 Q2068.38 4451.3 2091.62 4451.3 Z\" fill=\"#000000\" fill-rule=\"evenodd\" fill-opacity=\"1\" /><path clip-path=\"url(#clip250)\" d=\"M 0 0 M2179.5 4420.19 Q2169.26 4420.19 2163.25 4427.18 Q2157.3 4434.18 2157.3 4446.37 Q2157.3 4458.48 2163.25 4465.55 Q2169.26 4472.55 2179.5 4472.55 Q2189.73 4472.55 2195.67 4465.55 Q2201.69 4458.48 2201.69 4446.37 Q2201.69 4434.18 2195.67 4427.18 Q2189.73 4420.19 2179.5 4420.19 M2209.66 4372.57 L2209.66 4386.41 Q2203.95 4383.7 2198.08 4382.27 Q2192.28 4380.84 2186.57 4380.84 Q2171.52 4380.84 2163.55 4391 Q2155.65 4401.15 2154.52 4421.69 Q2158.96 4415.15 2165.65 4411.69 Q2172.35 4408.15 2180.4 4408.15 Q2197.33 4408.15 2207.11 4418.46 Q2216.96 4428.69 2216.96 4446.37 Q2216.96 4463.67 2206.73 4474.13 Q2196.5 4484.58 2179.5 4484.58 Q2160.01 4484.58 2149.7 4469.69 Q2139.4 4454.72 2139.4 4426.36 Q2139.4 4399.72 2152.04 4383.93 Q2164.68 4368.05 2185.97 4368.05 Q2191.68 4368.05 2197.48 4369.18 Q2203.34 4370.31 2209.66 4372.57 Z\" fill=\"#000000\" fill-rule=\"evenodd\" fill-opacity=\"1\" /><path clip-path=\"url(#clip250)\" d=\"M 0 0 M1563.75 3093.17 L1637.18 3093.17 L1637.18 3108.91 L1580.88 3108.91 L1580.88 3142.8 Q1584.96 3141.41 1589.03 3140.77 Q1593.1 3140.03 1597.18 3140.03 Q1620.33 3140.03 1633.84 3152.71 Q1647.36 3165.4 1647.36 3187.06 Q1647.36 3209.38 1633.47 3221.78 Q1619.59 3234.1 1594.31 3234.1 Q1585.6 3234.1 1576.53 3232.62 Q1567.55 3231.14 1557.92 3228.17 L1557.92 3209.38 Q1566.25 3213.91 1575.14 3216.14 Q1584.03 3218.36 1593.94 3218.36 Q1609.96 3218.36 1619.31 3209.93 Q1628.66 3201.51 1628.66 3187.06 Q1628.66 3172.62 1619.31 3164.19 Q1609.96 3155.77 1593.94 3155.77 Q1586.44 3155.77 1578.94 3157.43 Q1571.53 3159.1 1563.75 3162.62 L1563.75 3093.17 Z\" fill=\"#000000\" fill-rule=\"evenodd\" fill-opacity=\"1\" /><path clip-path=\"url(#clip250)\" d=\"M 0 0 M1667.64 3207.9 L1687.18 3207.9 L1687.18 3231.41 L1667.64 3231.41 L1667.64 3207.9 Z\" fill=\"#000000\" fill-rule=\"evenodd\" fill-opacity=\"1\" /><path clip-path=\"url(#clip250)\" d=\"M 0 0 M1747.46 3105.49 Q1733.01 3105.49 1725.7 3119.75 Q1718.47 3133.91 1718.47 3162.43 Q1718.47 3190.86 1725.7 3205.12 Q1733.01 3219.28 1747.46 3219.28 Q1761.99 3219.28 1769.21 3205.12 Q1776.53 3190.86 1776.53 3162.43 Q1776.53 3133.91 1769.21 3119.75 Q1761.99 3105.49 1747.46 3105.49 M1747.46 3090.67 Q1770.7 3090.67 1782.92 3109.1 Q1795.23 3127.43 1795.23 3162.43 Q1795.23 3197.34 1782.92 3215.77 Q1770.7 3234.1 1747.46 3234.1 Q1724.21 3234.1 1711.9 3215.77 Q1699.68 3197.34 1699.68 3162.43 Q1699.68 3127.43 1711.9 3109.1 Q1724.21 3090.67 1747.46 3090.67 Z\" fill=\"#000000\" fill-rule=\"evenodd\" fill-opacity=\"1\" /><path clip-path=\"url(#clip250)\" d=\"M 0 0 M1928.19 3129.56 L1885.88 3172.06 L1928.19 3214.38 L1917.18 3225.58 L1874.68 3183.08 L1832.18 3225.58 L1821.25 3214.38 L1863.47 3172.06 L1821.25 3129.56 L1832.18 3118.36 L1874.68 3160.86 L1917.18 3118.36 L1928.19 3129.56 Z\" fill=\"#000000\" fill-rule=\"evenodd\" fill-opacity=\"1\" /><path clip-path=\"url(#clip250)\" d=\"M 0 0 M1951.71 3215.67 L1982.27 3215.67 L1982.27 3110.21 L1949.03 3116.88 L1949.03 3099.84 L1982.08 3093.17 L2000.79 3093.17 L2000.79 3215.67 L2031.34 3215.67 L2031.34 3231.41 L1951.71 3231.41 L1951.71 3215.67 Z\" fill=\"#000000\" fill-rule=\"evenodd\" fill-opacity=\"1\" /><path clip-path=\"url(#clip250)\" d=\"M 0 0 M2091.62 3105.49 Q2077.18 3105.49 2069.86 3119.75 Q2062.64 3133.91 2062.64 3162.43 Q2062.64 3190.86 2069.86 3205.12 Q2077.18 3219.28 2091.62 3219.28 Q2106.16 3219.28 2113.38 3205.12 Q2120.69 3190.86 2120.69 3162.43 Q2120.69 3133.91 2113.38 3119.75 Q2106.16 3105.49 2091.62 3105.49 M2091.62 3090.67 Q2114.86 3090.67 2127.08 3109.1 Q2139.4 3127.43 2139.4 3162.43 Q2139.4 3197.34 2127.08 3215.77 Q2114.86 3234.1 2091.62 3234.1 Q2068.38 3234.1 2056.06 3215.77 Q2043.84 3197.34 2043.84 3162.43 Q2043.84 3127.43 2056.06 3109.1 Q2068.38 3090.67 2091.62 3090.67 Z\" fill=\"#000000\" fill-rule=\"evenodd\" fill-opacity=\"1\" /><path clip-path=\"url(#clip250)\" d=\"M 0 0 M2179.5 3059.56 Q2169.26 3059.56 2163.25 3066.55 Q2157.3 3073.55 2157.3 3085.74 Q2157.3 3097.85 2163.25 3104.92 Q2169.26 3111.92 2179.5 3111.92 Q2189.73 3111.92 2195.67 3104.92 Q2201.69 3097.85 2201.69 3085.74 Q2201.69 3073.55 2195.67 3066.55 Q2189.73 3059.56 2179.5 3059.56 M2209.66 3011.94 L2209.66 3025.78 Q2203.95 3023.07 2198.08 3021.64 Q2192.28 3020.21 2186.57 3020.21 Q2171.52 3020.21 2163.55 3030.37 Q2155.65 3040.52 2154.52 3061.06 Q2158.96 3054.52 2165.65 3051.06 Q2172.35 3047.52 2180.4 3047.52 Q2197.33 3047.52 2207.11 3057.83 Q2216.96 3068.06 2216.96 3085.74 Q2216.96 3103.04 2206.73 3113.5 Q2196.5 3123.95 2179.5 3123.95 Q2160.01 3123.95 2149.7 3109.06 Q2139.4 3094.09 2139.4 3065.73 Q2139.4 3039.09 2152.04 3023.3 Q2164.68 3007.42 2185.97 3007.42 Q2191.68 3007.42 2197.48 3008.55 Q2203.34 3009.68 2209.66 3011.94 Z\" fill=\"#000000\" fill-rule=\"evenodd\" fill-opacity=\"1\" /><path clip-path=\"url(#clip250)\" d=\"M 0 0 M1562.46 1732.54 L1651.34 1732.54 L1651.34 1740.51 L1601.16 1870.78 L1581.62 1870.78 L1628.84 1748.29 L1562.46 1748.29 L1562.46 1732.54 Z\" fill=\"#000000\" fill-rule=\"evenodd\" fill-opacity=\"1\" /><path clip-path=\"url(#clip250)\" d=\"M 0 0 M1671.62 1847.27 L1691.16 1847.27 L1691.16 1870.78 L1671.62 1870.78 L1671.62 1847.27 Z\" fill=\"#000000\" fill-rule=\"evenodd\" fill-opacity=\"1\" /><path clip-path=\"url(#clip250)\" d=\"M 0 0 M1711.62 1732.54 L1785.05 1732.54 L1785.05 1748.29 L1728.75 1748.29 L1728.75 1782.17 Q1732.83 1780.78 1736.9 1780.14 Q1740.97 1779.4 1745.05 1779.4 Q1768.2 1779.4 1781.71 1792.08 Q1795.23 1804.77 1795.23 1826.43 Q1795.23 1848.75 1781.34 1861.15 Q1767.45 1873.47 1742.18 1873.47 Q1733.47 1873.47 1724.4 1871.99 Q1715.42 1870.51 1705.79 1867.54 L1705.79 1848.75 Q1714.12 1853.28 1723.01 1855.51 Q1731.9 1857.73 1741.81 1857.73 Q1757.83 1857.73 1767.18 1849.3 Q1776.53 1840.88 1776.53 1826.43 Q1776.53 1811.99 1767.18 1803.56 Q1757.83 1795.14 1741.81 1795.14 Q1734.31 1795.14 1726.81 1796.8 Q1719.4 1798.47 1711.62 1801.99 L1711.62 1732.54 Z\" fill=\"#000000\" fill-rule=\"evenodd\" fill-opacity=\"1\" /><path clip-path=\"url(#clip250)\" d=\"M 0 0 M1928.19 1768.93 L1885.88 1811.43 L1928.19 1853.75 L1917.18 1864.95 L1874.68 1822.45 L1832.18 1864.95 L1821.25 1853.75 L1863.47 1811.43 L1821.25 1768.93 L1832.18 1757.73 L1874.68 1800.23 L1917.18 1757.73 L1928.19 1768.93 Z\" fill=\"#000000\" fill-rule=\"evenodd\" fill-opacity=\"1\" /><path clip-path=\"url(#clip250)\" d=\"M 0 0 M1951.71 1855.04 L1982.27 1855.04 L1982.27 1749.58 L1949.03 1756.25 L1949.03 1739.21 L1982.08 1732.54 L2000.79 1732.54 L2000.79 1855.04 L2031.34 1855.04 L2031.34 1870.78 L1951.71 1870.78 L1951.71 1855.04 Z\" fill=\"#000000\" fill-rule=\"evenodd\" fill-opacity=\"1\" /><path clip-path=\"url(#clip250)\" d=\"M 0 0 M2091.62 1744.86 Q2077.18 1744.86 2069.86 1759.12 Q2062.64 1773.28 2062.64 1801.8 Q2062.64 1830.23 2069.86 1844.49 Q2077.18 1858.65 2091.62 1858.65 Q2106.16 1858.65 2113.38 1844.49 Q2120.69 1830.23 2120.69 1801.8 Q2120.69 1773.28 2113.38 1759.12 Q2106.16 1744.86 2091.62 1744.86 M2091.62 1730.04 Q2114.86 1730.04 2127.08 1748.47 Q2139.4 1766.8 2139.4 1801.8 Q2139.4 1836.71 2127.08 1855.14 Q2114.86 1873.47 2091.62 1873.47 Q2068.38 1873.47 2056.06 1855.14 Q2043.84 1836.71 2043.84 1801.8 Q2043.84 1766.8 2056.06 1748.47 Q2068.38 1730.04 2091.62 1730.04 Z\" fill=\"#000000\" fill-rule=\"evenodd\" fill-opacity=\"1\" /><path clip-path=\"url(#clip250)\" d=\"M 0 0 M2179.5 1698.93 Q2169.26 1698.93 2163.25 1705.92 Q2157.3 1712.92 2157.3 1725.11 Q2157.3 1737.22 2163.25 1744.29 Q2169.26 1751.29 2179.5 1751.29 Q2189.73 1751.29 2195.67 1744.29 Q2201.69 1737.22 2201.69 1725.11 Q2201.69 1712.92 2195.67 1705.92 Q2189.73 1698.93 2179.5 1698.93 M2209.66 1651.31 L2209.66 1665.15 Q2203.95 1662.44 2198.08 1661.01 Q2192.28 1659.58 2186.57 1659.58 Q2171.52 1659.58 2163.55 1669.74 Q2155.65 1679.89 2154.52 1700.43 Q2158.96 1693.89 2165.65 1690.43 Q2172.35 1686.89 2180.4 1686.89 Q2197.33 1686.89 2207.11 1697.2 Q2216.96 1707.43 2216.96 1725.11 Q2216.96 1742.41 2206.73 1752.87 Q2196.5 1763.32 2179.5 1763.32 Q2160.01 1763.32 2149.7 1748.43 Q2139.4 1733.46 2139.4 1705.1 Q2139.4 1678.46 2152.04 1662.67 Q2164.68 1646.79 2185.97 1646.79 Q2191.68 1646.79 2197.48 1647.92 Q2203.34 1649.05 2209.66 1651.31 Z\" fill=\"#000000\" fill-rule=\"evenodd\" fill-opacity=\"1\" /><path clip-path=\"url(#clip250)\" d=\"M 0 0 M1573.08 494.414 L1603.63 494.414 L1603.63 388.951 L1570.39 395.618 L1570.39 378.581 L1603.45 371.914 L1622.15 371.914 L1622.15 494.414 L1652.7 494.414 L1652.7 510.154 L1573.08 510.154 L1573.08 494.414 Z\" fill=\"#000000\" fill-rule=\"evenodd\" fill-opacity=\"1\" /><path clip-path=\"url(#clip250)\" d=\"M 0 0 M1672.98 486.636 L1692.52 486.636 L1692.52 510.154 L1672.98 510.154 L1672.98 486.636 Z\" fill=\"#000000\" fill-rule=\"evenodd\" fill-opacity=\"1\" /><path clip-path=\"url(#clip250)\" d=\"M 0 0 M1752.8 384.229 Q1738.35 384.229 1731.04 398.488 Q1723.82 412.655 1723.82 441.173 Q1723.82 469.599 1731.04 483.858 Q1738.35 498.025 1752.8 498.025 Q1767.33 498.025 1774.56 483.858 Q1781.87 469.599 1781.87 441.173 Q1781.87 412.655 1774.56 398.488 Q1767.33 384.229 1752.8 384.229 M1752.8 369.415 Q1776.04 369.415 1788.26 387.84 Q1800.57 406.174 1800.57 441.173 Q1800.57 476.081 1788.26 494.506 Q1776.04 512.84 1752.8 512.84 Q1729.56 512.84 1717.24 494.506 Q1705.02 476.081 1705.02 441.173 Q1705.02 406.174 1717.24 387.84 Q1729.56 369.415 1752.8 369.415 Z\" fill=\"#000000\" fill-rule=\"evenodd\" fill-opacity=\"1\" /><path clip-path=\"url(#clip250)\" d=\"M 0 0 M1933.54 408.303 L1891.22 450.803 L1933.54 493.118 L1922.52 504.321 L1880.02 461.821 L1837.52 504.321 L1826.59 493.118 L1868.81 450.803 L1826.59 408.303 L1837.52 397.1 L1880.02 439.599 L1922.52 397.1 L1933.54 408.303 Z\" fill=\"#000000\" fill-rule=\"evenodd\" fill-opacity=\"1\" /><path clip-path=\"url(#clip250)\" d=\"M 0 0 M1957.05 494.414 L1987.61 494.414 L1987.61 388.951 L1954.37 395.618 L1954.37 378.581 L1987.42 371.914 L2006.13 371.914 L2006.13 494.414 L2036.68 494.414 L2036.68 510.154 L1957.05 510.154 L1957.05 494.414 Z\" fill=\"#000000\" fill-rule=\"evenodd\" fill-opacity=\"1\" /><path clip-path=\"url(#clip250)\" d=\"M 0 0 M2096.96 384.229 Q2082.52 384.229 2075.2 398.488 Q2067.98 412.655 2067.98 441.173 Q2067.98 469.599 2075.2 483.858 Q2082.52 498.025 2096.96 498.025 Q2111.5 498.025 2118.72 483.858 Q2126.04 469.599 2126.04 441.173 Q2126.04 412.655 2118.72 398.488 Q2111.5 384.229 2096.96 384.229 M2096.96 369.415 Q2120.2 369.415 2132.42 387.84 Q2144.74 406.174 2144.74 441.173 Q2144.74 476.081 2132.42 494.506 Q2120.2 512.84 2096.96 512.84 Q2073.72 512.84 2061.41 494.506 Q2049.18 476.081 2049.18 441.173 Q2049.18 406.174 2061.41 387.84 Q2073.72 369.415 2096.96 369.415 Z\" fill=\"#000000\" fill-rule=\"evenodd\" fill-opacity=\"1\" /><path clip-path=\"url(#clip250)\" d=\"M 0 0 M2144.74 288.193 L2216.96 288.193 L2216.96 294.663 L2176.19 400.513 L2160.31 400.513 L2198.68 300.982 L2144.74 300.982 L2144.74 288.193 Z\" fill=\"#000000\" fill-rule=\"evenodd\" fill-opacity=\"1\" /><path clip-path=\"url(#clip250)\" d=\"M 0 0 M1262.82 3854.81 L1262.82 3694.01 L1284.46 3694.01 L1284.46 3761.49 L1452.9 3761.49 L1452.9 3787.33 L1284.46 3787.33 L1284.46 3854.81 L1262.82 3854.81 Z\" fill=\"#000000\" fill-rule=\"evenodd\" fill-opacity=\"1\" /><path clip-path=\"url(#clip250)\" d=\"M 0 0 M1332.2 3625.14 Q1329.91 3629.08 1328.89 3633.79 Q1327.75 3638.38 1327.75 3643.98 Q1327.75 3663.84 1340.73 3674.53 Q1353.59 3685.1 1377.78 3685.1 L1452.9 3685.1 L1452.9 3708.65 L1310.3 3708.65 L1310.3 3685.1 L1332.46 3685.1 Q1319.47 3677.72 1313.23 3665.88 Q1306.87 3654.04 1306.87 3637.1 Q1306.87 3634.68 1307.25 3631.76 Q1307.5 3628.83 1308.14 3625.26 L1332.2 3625.14 Z\" fill=\"#000000\" fill-rule=\"evenodd\" fill-opacity=\"1\" /><path clip-path=\"url(#clip250)\" d=\"M 0 0 M1381.22 3535.76 Q1381.22 3564.15 1387.71 3575.1 Q1394.2 3586.05 1409.86 3586.05 Q1422.34 3586.05 1429.72 3577.9 Q1436.98 3569.63 1436.98 3555.49 Q1436.98 3536.02 1423.23 3524.3 Q1409.35 3512.46 1386.44 3512.46 L1381.22 3512.46 L1381.22 3535.76 M1371.54 3489.04 L1452.9 3489.04 L1452.9 3512.46 L1431.25 3512.46 Q1444.24 3520.48 1450.48 3532.45 Q1456.59 3544.42 1456.59 3561.73 Q1456.59 3583.63 1444.36 3596.62 Q1432.02 3609.48 1411.39 3609.48 Q1387.33 3609.48 1375.11 3593.43 Q1362.88 3577.27 1362.88 3545.31 L1362.88 3512.46 L1360.59 3512.46 Q1344.42 3512.46 1335.64 3523.16 Q1326.73 3533.72 1326.73 3552.95 Q1326.73 3565.17 1329.65 3576.76 Q1332.58 3588.34 1338.44 3599.04 L1316.8 3599.04 Q1311.83 3586.18 1309.41 3574.08 Q1306.87 3561.99 1306.87 3550.53 Q1306.87 3519.59 1322.91 3504.31 Q1338.95 3489.04 1371.54 3489.04 Z\" fill=\"#000000\" fill-rule=\"evenodd\" fill-opacity=\"1\" /><path clip-path=\"url(#clip250)\" d=\"M 0 0 M1315.78 3361.85 L1337.68 3361.85 Q1332.2 3371.78 1329.53 3381.84 Q1326.73 3391.77 1326.73 3401.95 Q1326.73 3424.74 1341.24 3437.35 Q1355.63 3449.95 1381.73 3449.95 Q1407.83 3449.95 1422.34 3437.35 Q1436.73 3424.74 1436.73 3401.95 Q1436.73 3391.77 1434.05 3381.84 Q1431.25 3371.78 1425.78 3361.85 L1447.42 3361.85 Q1452 3371.65 1454.3 3382.22 Q1456.59 3392.66 1456.59 3404.5 Q1456.59 3436.71 1436.34 3455.68 Q1416.1 3474.65 1381.73 3474.65 Q1346.84 3474.65 1326.85 3455.55 Q1306.87 3436.33 1306.87 3402.97 Q1306.87 3392.15 1309.16 3381.84 Q1311.32 3371.53 1315.78 3361.85 Z\" fill=\"#000000\" fill-rule=\"evenodd\" fill-opacity=\"1\" /><path clip-path=\"url(#clip250)\" d=\"M 0 0 M1269.82 3314.11 L1310.3 3314.11 L1310.3 3265.86 L1328.51 3265.86 L1328.51 3314.11 L1405.92 3314.11 Q1423.36 3314.11 1428.32 3309.4 Q1433.29 3304.56 1433.29 3289.92 L1433.29 3265.86 L1452.9 3265.86 L1452.9 3289.92 Q1452.9 3317.04 1442.84 3327.35 Q1432.65 3337.66 1405.92 3337.66 L1328.51 3337.66 L1328.51 3354.85 L1310.3 3354.85 L1310.3 3337.66 L1269.82 3337.66 L1269.82 3314.11 Z\" fill=\"#000000\" fill-rule=\"evenodd\" fill-opacity=\"1\" /><path clip-path=\"url(#clip250)\" d=\"M 0 0 M1310.3 3241.28 L1310.3 3217.86 L1452.9 3217.86 L1452.9 3241.28 L1310.3 3241.28 M1254.79 3241.28 L1254.79 3217.86 L1284.46 3217.86 L1284.46 3241.28 L1254.79 3241.28 Z\" fill=\"#000000\" fill-rule=\"evenodd\" fill-opacity=\"1\" /><path clip-path=\"url(#clip250)\" d=\"M 0 0 M1326.73 3138.03 Q1326.73 3156.87 1341.5 3167.82 Q1356.14 3178.77 1381.73 3178.77 Q1407.32 3178.77 1422.09 3167.95 Q1436.73 3157 1436.73 3138.03 Q1436.73 3119.32 1421.96 3108.37 Q1407.19 3097.42 1381.73 3097.42 Q1356.39 3097.42 1341.62 3108.37 Q1326.73 3119.32 1326.73 3138.03 M1306.87 3138.03 Q1306.87 3107.48 1326.73 3090.03 Q1346.59 3072.59 1381.73 3072.59 Q1416.74 3072.59 1436.73 3090.03 Q1456.59 3107.48 1456.59 3138.03 Q1456.59 3168.71 1436.73 3186.16 Q1416.74 3203.47 1381.73 3203.47 Q1346.59 3203.47 1326.73 3186.16 Q1306.87 3168.71 1306.87 3138.03 Z\" fill=\"#000000\" fill-rule=\"evenodd\" fill-opacity=\"1\" /><path clip-path=\"url(#clip250)\" d=\"M 0 0 M1366.83 2929.49 L1452.9 2929.49 L1452.9 2952.92 L1367.59 2952.92 Q1347.35 2952.92 1337.29 2960.81 Q1327.24 2968.7 1327.24 2984.49 Q1327.24 3003.46 1339.33 3014.41 Q1351.43 3025.36 1372.31 3025.36 L1452.9 3025.36 L1452.9 3048.91 L1310.3 3048.91 L1310.3 3025.36 L1332.46 3025.36 Q1319.6 3016.96 1313.23 3005.63 Q1306.87 2994.17 1306.87 2979.27 Q1306.87 2954.7 1322.14 2942.1 Q1337.29 2929.49 1366.83 2929.49 Z\" fill=\"#000000\" fill-rule=\"evenodd\" fill-opacity=\"1\" /><path clip-path=\"url(#clip250)\" d=\"M 0 0 M1254.79 2824.2 L1254.79 2770.22 L1273 2770.22 L1273 2800.78 L1469.06 2800.78 L1469.06 2770.22 L1487.27 2770.22 L1487.27 2824.2 L1254.79 2824.2 Z\" fill=\"#000000\" fill-rule=\"evenodd\" fill-opacity=\"1\" /><path clip-path=\"url(#clip250)\" d=\"M 0 0 M1283.95 2718.91 L1355.37 2718.91 L1355.37 2686.58 Q1355.37 2668.62 1346.08 2658.82 Q1336.78 2649.02 1319.6 2649.02 Q1302.54 2649.02 1293.24 2658.82 Q1283.95 2668.62 1283.95 2686.58 L1283.95 2718.91 M1262.82 2744.63 L1262.82 2686.58 Q1262.82 2654.62 1277.33 2638.32 Q1291.72 2621.9 1319.6 2621.9 Q1347.73 2621.9 1362.12 2638.32 Q1376.51 2654.62 1376.51 2686.58 L1376.51 2718.91 L1452.9 2718.91 L1452.9 2744.63 L1262.82 2744.63 Z\" fill=\"#000000\" fill-rule=\"evenodd\" fill-opacity=\"1\" /><path clip-path=\"url(#clip250)\" d=\"M 0 0 M1381.22 2544.24 Q1381.22 2572.63 1387.71 2583.58 Q1394.2 2594.53 1409.86 2594.53 Q1422.34 2594.53 1429.72 2586.38 Q1436.98 2578.1 1436.98 2563.97 Q1436.98 2544.49 1423.23 2532.78 Q1409.35 2520.94 1386.44 2520.94 L1381.22 2520.94 L1381.22 2544.24 M1371.54 2497.51 L1452.9 2497.51 L1452.9 2520.94 L1431.25 2520.94 Q1444.24 2528.96 1450.48 2540.93 Q1456.59 2552.9 1456.59 2570.21 Q1456.59 2592.11 1444.36 2605.09 Q1432.02 2617.95 1411.39 2617.95 Q1387.33 2617.95 1375.11 2601.91 Q1362.88 2585.74 1362.88 2553.79 L1362.88 2520.94 L1360.59 2520.94 Q1344.42 2520.94 1335.64 2531.63 Q1326.73 2542.2 1326.73 2561.43 Q1326.73 2573.65 1329.65 2585.23 Q1332.58 2596.82 1338.44 2607.51 L1316.8 2607.51 Q1311.83 2594.65 1309.41 2582.56 Q1306.87 2570.47 1306.87 2559.01 Q1306.87 2528.07 1322.91 2512.79 Q1338.95 2497.51 1371.54 2497.51 Z\" fill=\"#000000\" fill-rule=\"evenodd\" fill-opacity=\"1\" /><path clip-path=\"url(#clip250)\" d=\"M 0 0 M1254.79 2418.2 L1487.27 2418.2 L1487.27 2472.18 L1469.06 2472.18 L1469.06 2441.75 L1273 2441.75 L1273 2472.18 L1254.79 2472.18 L1254.79 2418.2 Z\" fill=\"#000000\" fill-rule=\"evenodd\" fill-opacity=\"1\" /><path clip-path=\"url(#clip250)\" d=\"M 0 0 M4265.71 48.384 L4470.36 48.384 L4470.36 75.9301 L4384.48 75.9301 L4384.48 290.304 L4351.59 290.304 L4351.59 75.9301 L4265.71 75.9301 L4265.71 48.384 Z\" fill=\"#000000\" fill-rule=\"evenodd\" fill-opacity=\"1\" /><path clip-path=\"url(#clip250)\" d=\"M 0 0 M4558.02 136.694 Q4553 133.777 4547.01 132.481 Q4541.17 131.022 4534.04 131.022 Q4508.77 131.022 4495.15 147.55 Q4481.71 163.916 4481.71 194.703 L4481.71 290.304 L4451.73 290.304 L4451.73 108.823 L4481.71 108.823 L4481.71 137.018 Q4491.1 120.49 4506.17 112.55 Q4521.24 104.449 4542.79 104.449 Q4545.87 104.449 4549.6 104.935 Q4553.33 105.259 4557.86 106.069 L4558.02 136.694 Z\" fill=\"#000000\" fill-rule=\"evenodd\" fill-opacity=\"1\" /><path clip-path=\"url(#clip250)\" d=\"M 0 0 M4671.77 199.078 Q4635.64 199.078 4621.7 207.341 Q4607.77 215.605 4607.77 235.536 Q4607.77 251.415 4618.14 260.813 Q4628.67 270.049 4646.66 270.049 Q4671.45 270.049 4686.36 252.55 Q4701.43 234.888 4701.43 205.721 L4701.43 199.078 L4671.77 199.078 M4731.24 186.763 L4731.24 290.304 L4701.43 290.304 L4701.43 262.758 Q4691.22 279.286 4675.99 287.225 Q4660.76 295.003 4638.72 295.003 Q4610.85 295.003 4594.32 279.448 Q4577.96 263.73 4577.96 237.48 Q4577.96 206.855 4598.37 191.3 Q4618.95 175.744 4659.62 175.744 L4701.43 175.744 L4701.43 172.828 Q4701.43 152.249 4687.82 141.069 Q4674.37 129.726 4649.9 129.726 Q4634.34 129.726 4619.6 133.453 Q4604.85 137.18 4591.24 144.633 L4591.24 117.087 Q4607.61 110.768 4623 107.689 Q4638.39 104.449 4652.98 104.449 Q4692.35 104.449 4711.8 124.865 Q4731.24 145.282 4731.24 186.763 Z\" fill=\"#000000\" fill-rule=\"evenodd\" fill-opacity=\"1\" /><path clip-path=\"url(#clip250)\" d=\"M 0 0 M4893.12 115.791 L4893.12 143.661 Q4880.48 136.694 4867.68 133.291 Q4855.04 129.726 4842.07 129.726 Q4813.07 129.726 4797.03 148.198 Q4780.99 166.508 4780.99 199.726 Q4780.99 232.943 4797.03 251.415 Q4813.07 269.725 4842.07 269.725 Q4855.04 269.725 4867.68 266.323 Q4880.48 262.758 4893.12 255.79 L4893.12 283.336 Q4880.64 289.17 4867.19 292.086 Q4853.9 295.003 4838.83 295.003 Q4797.84 295.003 4773.69 269.239 Q4749.55 243.476 4749.55 199.726 Q4749.55 155.328 4773.86 129.888 Q4798.32 104.449 4840.78 104.449 Q4854.55 104.449 4867.68 107.365 Q4880.8 110.12 4893.12 115.791 Z\" fill=\"#000000\" fill-rule=\"evenodd\" fill-opacity=\"1\" /><path clip-path=\"url(#clip250)\" d=\"M 0 0 M4953.88 57.296 L4953.88 108.823 L5015.29 108.823 L5015.29 131.995 L4953.88 131.995 L4953.88 230.513 Q4953.88 252.712 4959.87 259.031 Q4966.03 265.35 4984.67 265.35 L5015.29 265.35 L5015.29 290.304 L4984.67 290.304 Q4950.15 290.304 4937.03 277.503 Q4923.9 264.54 4923.9 230.513 L4923.9 131.995 L4902.03 131.995 L4902.03 108.823 L4923.9 108.823 L4923.9 57.296 L4953.88 57.296 Z\" fill=\"#000000\" fill-rule=\"evenodd\" fill-opacity=\"1\" /><path clip-path=\"url(#clip250)\" d=\"M 0 0 M5046.56 108.823 L5076.38 108.823 L5076.38 290.304 L5046.56 290.304 L5046.56 108.823 M5046.56 38.1757 L5076.38 38.1757 L5076.38 75.9301 L5046.56 75.9301 L5046.56 38.1757 Z\" fill=\"#000000\" fill-rule=\"evenodd\" fill-opacity=\"1\" /><path clip-path=\"url(#clip250)\" d=\"M 0 0 M5177.98 129.726 Q5153.99 129.726 5140.06 148.522 Q5126.12 167.157 5126.12 199.726 Q5126.12 232.295 5139.9 251.091 Q5153.83 269.725 5177.98 269.725 Q5201.79 269.725 5215.73 250.929 Q5229.66 232.133 5229.66 199.726 Q5229.66 167.481 5215.73 148.684 Q5201.79 129.726 5177.98 129.726 M5177.98 104.449 Q5216.86 104.449 5239.06 129.726 Q5261.26 155.004 5261.26 199.726 Q5261.26 244.286 5239.06 269.725 Q5216.86 295.003 5177.98 295.003 Q5138.92 295.003 5116.73 269.725 Q5094.69 244.286 5094.69 199.726 Q5094.69 155.004 5116.73 129.726 Q5138.92 104.449 5177.98 104.449 Z\" fill=\"#000000\" fill-rule=\"evenodd\" fill-opacity=\"1\" /><path clip-path=\"url(#clip250)\" d=\"M 0 0 M5443.39 180.768 L5443.39 290.304 L5413.58 290.304 L5413.58 181.74 Q5413.58 155.976 5403.53 143.175 Q5393.48 130.374 5373.39 130.374 Q5349.25 130.374 5335.31 145.768 Q5321.38 161.161 5321.38 187.735 L5321.38 290.304 L5291.4 290.304 L5291.4 108.823 L5321.38 108.823 L5321.38 137.018 Q5332.07 120.652 5346.49 112.55 Q5361.08 104.449 5380.03 104.449 Q5411.31 104.449 5427.35 123.893 Q5443.39 143.175 5443.39 180.768 Z\" fill=\"#000000\" fill-rule=\"evenodd\" fill-opacity=\"1\" /><path clip-path=\"url(#clip250)\" d=\"M 0 0 M5459.59 186.115 L5546.93 186.115 L5546.93 212.689 L5459.59 212.689 L5459.59 186.115 Z\" fill=\"#000000\" fill-rule=\"evenodd\" fill-opacity=\"1\" /><path clip-path=\"url(#clip250)\" d=\"M 0 0 M5697.63 136.37 L5697.63 38.1757 L5727.44 38.1757 L5727.44 290.304 L5697.63 290.304 L5697.63 263.082 Q5688.23 279.286 5673.81 287.225 Q5659.55 295.003 5639.45 295.003 Q5606.56 295.003 5585.82 268.753 Q5565.24 242.503 5565.24 199.726 Q5565.24 156.948 5585.82 130.698 Q5606.56 104.449 5639.45 104.449 Q5659.55 104.449 5673.81 112.388 Q5688.23 120.166 5697.63 136.37 M5596.03 199.726 Q5596.03 232.619 5609.48 251.415 Q5623.09 270.049 5646.75 270.049 Q5670.4 270.049 5684.01 251.415 Q5697.63 232.619 5697.63 199.726 Q5697.63 166.832 5684.01 148.198 Q5670.4 129.402 5646.75 129.402 Q5623.09 129.402 5609.48 148.198 Q5596.03 166.832 5596.03 199.726 Z\" fill=\"#000000\" fill-rule=\"evenodd\" fill-opacity=\"1\" /><path clip-path=\"url(#clip250)\" d=\"M 0 0 M5758.71 108.823 L5788.53 108.823 L5788.53 290.304 L5758.71 290.304 L5758.71 108.823 M5758.71 38.1757 L5788.53 38.1757 L5788.53 75.9301 L5758.71 75.9301 L5758.71 38.1757 Z\" fill=\"#000000\" fill-rule=\"evenodd\" fill-opacity=\"1\" /><path clip-path=\"url(#clip250)\" d=\"M 0 0 M5935.49 114.171 L5935.49 142.365 Q5922.86 135.884 5909.24 132.643 Q5895.63 129.402 5881.05 129.402 Q5858.85 129.402 5847.67 136.208 Q5836.65 143.013 5836.65 156.624 Q5836.65 166.994 5844.59 172.99 Q5852.53 178.823 5876.51 184.17 L5886.72 186.439 Q5918.48 193.244 5931.77 205.721 Q5945.22 218.036 5945.22 240.235 Q5945.22 265.512 5925.12 280.258 Q5905.19 295.003 5870.19 295.003 Q5855.61 295.003 5839.73 292.086 Q5824.01 289.332 5806.51 283.661 L5806.51 252.874 Q5823.04 261.462 5839.08 265.837 Q5855.12 270.049 5870.84 270.049 Q5891.91 270.049 5903.25 262.92 Q5914.59 255.628 5914.59 242.503 Q5914.59 230.351 5906.33 223.869 Q5898.23 217.388 5870.52 211.392 L5860.15 208.962 Q5832.44 203.129 5820.12 191.138 Q5807.81 178.985 5807.81 157.92 Q5807.81 132.319 5825.96 118.384 Q5844.11 104.449 5877.49 104.449 Q5894.01 104.449 5908.6 106.879 Q5923.18 109.31 5935.49 114.171 Z\" fill=\"#000000\" fill-rule=\"evenodd\" fill-opacity=\"1\" /><path clip-path=\"url(#clip250)\" d=\"M 0 0 M6005.33 263.082 L6005.33 359.331 L5975.36 359.331 L5975.36 108.823 L6005.33 108.823 L6005.33 136.37 Q6014.73 120.166 6028.99 112.388 Q6043.41 104.449 6063.34 104.449 Q6096.4 104.449 6116.97 130.698 Q6137.72 156.948 6137.72 199.726 Q6137.72 242.503 6116.97 268.753 Q6096.4 295.003 6063.34 295.003 Q6043.41 295.003 6028.99 287.225 Q6014.73 279.286 6005.33 263.082 M6106.77 199.726 Q6106.77 166.832 6093.16 148.198 Q6079.71 129.402 6056.05 129.402 Q6032.39 129.402 6018.78 148.198 Q6005.33 166.832 6005.33 199.726 Q6005.33 232.619 6018.78 251.415 Q6032.39 270.049 6056.05 270.049 Q6079.71 270.049 6093.16 251.415 Q6106.77 232.619 6106.77 199.726 Z\" fill=\"#000000\" fill-rule=\"evenodd\" fill-opacity=\"1\" /><path clip-path=\"url(#clip250)\" d=\"M 0 0 M6168.99 38.1757 L6198.8 38.1757 L6198.8 290.304 L6168.99 290.304 L6168.99 38.1757 Z\" fill=\"#000000\" fill-rule=\"evenodd\" fill-opacity=\"1\" /><path clip-path=\"url(#clip250)\" d=\"M 0 0 M6312.55 199.078 Q6276.42 199.078 6262.48 207.341 Q6248.55 215.605 6248.55 235.536 Q6248.55 251.415 6258.92 260.813 Q6269.45 270.049 6287.44 270.049 Q6312.23 270.049 6327.14 252.55 Q6342.2 234.888 6342.2 205.721 L6342.2 199.078 L6312.55 199.078 M6372.02 186.763 L6372.02 290.304 L6342.2 290.304 L6342.2 262.758 Q6332 279.286 6316.77 287.225 Q6301.53 295.003 6279.5 295.003 Q6251.63 295.003 6235.1 279.448 Q6218.73 263.73 6218.73 237.48 Q6218.73 206.855 6239.15 191.3 Q6259.73 175.744 6300.4 175.744 L6342.2 175.744 L6342.2 172.828 Q6342.2 152.249 6328.59 141.069 Q6315.14 129.726 6290.68 129.726 Q6275.12 129.726 6260.38 133.453 Q6245.63 137.18 6232.02 144.633 L6232.02 117.087 Q6248.39 110.768 6263.78 107.689 Q6279.17 104.449 6293.76 104.449 Q6333.13 104.449 6352.58 124.865 Q6372.02 145.282 6372.02 186.763 Z\" fill=\"#000000\" fill-rule=\"evenodd\" fill-opacity=\"1\" /><path clip-path=\"url(#clip250)\" d=\"M 0 0 M6533.89 115.791 L6533.89 143.661 Q6521.25 136.694 6508.45 133.291 Q6495.82 129.726 6482.85 129.726 Q6453.85 129.726 6437.81 148.198 Q6421.76 166.508 6421.76 199.726 Q6421.76 232.943 6437.81 251.415 Q6453.85 269.725 6482.85 269.725 Q6495.82 269.725 6508.45 266.323 Q6521.25 262.758 6533.89 255.79 L6533.89 283.336 Q6521.42 289.17 6507.97 292.086 Q6494.68 295.003 6479.61 295.003 Q6438.62 295.003 6414.47 269.239 Q6390.33 243.476 6390.33 199.726 Q6390.33 155.328 6414.64 129.888 Q6439.1 104.449 6481.56 104.449 Q6495.33 104.449 6508.45 107.365 Q6521.58 110.12 6533.89 115.791 Z\" fill=\"#000000\" fill-rule=\"evenodd\" fill-opacity=\"1\" /><path clip-path=\"url(#clip250)\" d=\"M 0 0 M6720.4 192.11 L6720.4 206.693 L6583.31 206.693 Q6585.26 237.48 6601.79 253.684 Q6618.48 269.725 6648.13 269.725 Q6665.31 269.725 6681.35 265.512 Q6697.55 261.3 6713.43 252.874 L6713.43 281.068 Q6697.39 287.873 6680.54 291.438 Q6663.68 295.003 6646.35 295.003 Q6602.92 295.003 6577.48 269.725 Q6552.2 244.448 6552.2 201.346 Q6552.2 156.786 6576.19 130.698 Q6600.33 104.449 6641.16 104.449 Q6677.78 104.449 6699.01 128.106 Q6720.4 151.601 6720.4 192.11 M6690.58 183.36 Q6690.26 158.893 6676.81 144.309 Q6663.52 129.726 6641.49 129.726 Q6616.53 129.726 6601.46 143.823 Q6586.56 157.92 6584.29 183.522 L6690.58 183.36 Z\" fill=\"#000000\" fill-rule=\"evenodd\" fill-opacity=\"1\" /><path clip-path=\"url(#clip250)\" d=\"M 0 0 M6892.97 143.661 Q6904.15 123.569 6919.7 114.009 Q6935.26 104.449 6956.32 104.449 Q6984.68 104.449 7000.07 124.379 Q7015.47 144.147 7015.47 180.768 L7015.47 290.304 L6985.49 290.304 L6985.49 181.74 Q6985.49 155.652 6976.25 143.013 Q6967.02 130.374 6948.06 130.374 Q6924.89 130.374 6911.44 145.768 Q6897.99 161.161 6897.99 187.735 L6897.99 290.304 L6868.01 290.304 L6868.01 181.74 Q6868.01 155.49 6858.78 143.013 Q6849.54 130.374 6830.26 130.374 Q6807.41 130.374 6793.96 145.93 Q6780.51 161.323 6780.51 187.735 L6780.51 290.304 L6750.54 290.304 L6750.54 108.823 L6780.51 108.823 L6780.51 137.018 Q6790.72 120.328 6804.98 112.388 Q6819.24 104.449 6838.85 104.449 Q6858.61 104.449 6872.39 114.495 Q6886.32 124.541 6892.97 143.661 Z\" fill=\"#000000\" fill-rule=\"evenodd\" fill-opacity=\"1\" /><path clip-path=\"url(#clip250)\" d=\"M 0 0 M7201.97 192.11 L7201.97 206.693 L7064.89 206.693 Q7066.83 237.48 7083.36 253.684 Q7100.05 269.725 7129.7 269.725 Q7146.88 269.725 7162.92 265.512 Q7179.12 261.3 7195 252.874 L7195 281.068 Q7178.96 287.873 7162.11 291.438 Q7145.26 295.003 7127.92 295.003 Q7084.49 295.003 7059.05 269.725 Q7033.78 244.448 7033.78 201.346 Q7033.78 156.786 7057.76 130.698 Q7081.9 104.449 7122.73 104.449 Q7159.35 104.449 7180.58 128.106 Q7201.97 151.601 7201.97 192.11 M7172.15 183.36 Q7171.83 158.893 7158.38 144.309 Q7145.09 129.726 7123.06 129.726 Q7098.1 129.726 7083.03 143.823 Q7068.13 157.92 7065.86 183.522 L7172.15 183.36 Z\" fill=\"#000000\" fill-rule=\"evenodd\" fill-opacity=\"1\" /><path clip-path=\"url(#clip250)\" d=\"M 0 0 M7384.1 180.768 L7384.1 290.304 L7354.28 290.304 L7354.28 181.74 Q7354.28 155.976 7344.24 143.175 Q7334.19 130.374 7314.1 130.374 Q7289.95 130.374 7276.02 145.768 Q7262.08 161.161 7262.08 187.735 L7262.08 290.304 L7232.11 290.304 L7232.11 108.823 L7262.08 108.823 L7262.08 137.018 Q7272.78 120.652 7287.2 112.55 Q7301.78 104.449 7320.74 104.449 Q7352.01 104.449 7368.06 123.893 Q7384.1 143.175 7384.1 180.768 Z\" fill=\"#000000\" fill-rule=\"evenodd\" fill-opacity=\"1\" /><path clip-path=\"url(#clip250)\" d=\"M 0 0 M7444.86 57.296 L7444.86 108.823 L7506.27 108.823 L7506.27 131.995 L7444.86 131.995 L7444.86 230.513 Q7444.86 252.712 7450.86 259.031 Q7457.01 265.35 7475.65 265.35 L7506.27 265.35 L7506.27 290.304 L7475.65 290.304 Q7441.13 290.304 7428.01 277.503 Q7414.88 264.54 7414.88 230.513 L7414.88 131.995 L7393.01 131.995 L7393.01 108.823 L7414.88 108.823 L7414.88 57.296 L7444.86 57.296 Z\" fill=\"#000000\" fill-rule=\"evenodd\" fill-opacity=\"1\" /><polyline clip-path=\"url(#clip252)\" style=\"stroke:#009af9; stroke-width:32; stroke-opacity:1; fill:none\" points=\"\n",
       "  2560.49,5857.76 4342.36,3136.5 4552.97,2834.14 4805.12,2531.78 5092.38,2229.42 5430.18,1927.06 5872.91,1624.69 6497.46,1322.33 7284.39,1019.97 8193.01,717.606 \n",
       "  9211.49,415.244 \n",
       "  \"/>\n",
       "<circle clip-path=\"url(#clip252)\" cx=\"2560.49\" cy=\"5857.76\" r=\"57\" fill=\"#009af9\" fill-rule=\"evenodd\" fill-opacity=\"1\" stroke=\"#000000\" stroke-opacity=\"1\" stroke-width=\"12.8\"/>\n",
       "<circle clip-path=\"url(#clip252)\" cx=\"4342.36\" cy=\"3136.5\" r=\"57\" fill=\"#009af9\" fill-rule=\"evenodd\" fill-opacity=\"1\" stroke=\"#000000\" stroke-opacity=\"1\" stroke-width=\"12.8\"/>\n",
       "<circle clip-path=\"url(#clip252)\" cx=\"4552.97\" cy=\"2834.14\" r=\"57\" fill=\"#009af9\" fill-rule=\"evenodd\" fill-opacity=\"1\" stroke=\"#000000\" stroke-opacity=\"1\" stroke-width=\"12.8\"/>\n",
       "<circle clip-path=\"url(#clip252)\" cx=\"4805.12\" cy=\"2531.78\" r=\"57\" fill=\"#009af9\" fill-rule=\"evenodd\" fill-opacity=\"1\" stroke=\"#000000\" stroke-opacity=\"1\" stroke-width=\"12.8\"/>\n",
       "<circle clip-path=\"url(#clip252)\" cx=\"5092.38\" cy=\"2229.42\" r=\"57\" fill=\"#009af9\" fill-rule=\"evenodd\" fill-opacity=\"1\" stroke=\"#000000\" stroke-opacity=\"1\" stroke-width=\"12.8\"/>\n",
       "<circle clip-path=\"url(#clip252)\" cx=\"5430.18\" cy=\"1927.06\" r=\"57\" fill=\"#009af9\" fill-rule=\"evenodd\" fill-opacity=\"1\" stroke=\"#000000\" stroke-opacity=\"1\" stroke-width=\"12.8\"/>\n",
       "<circle clip-path=\"url(#clip252)\" cx=\"5872.91\" cy=\"1624.69\" r=\"57\" fill=\"#009af9\" fill-rule=\"evenodd\" fill-opacity=\"1\" stroke=\"#000000\" stroke-opacity=\"1\" stroke-width=\"12.8\"/>\n",
       "<circle clip-path=\"url(#clip252)\" cx=\"6497.46\" cy=\"1322.33\" r=\"57\" fill=\"#009af9\" fill-rule=\"evenodd\" fill-opacity=\"1\" stroke=\"#000000\" stroke-opacity=\"1\" stroke-width=\"12.8\"/>\n",
       "<circle clip-path=\"url(#clip252)\" cx=\"7284.39\" cy=\"1019.97\" r=\"57\" fill=\"#009af9\" fill-rule=\"evenodd\" fill-opacity=\"1\" stroke=\"#000000\" stroke-opacity=\"1\" stroke-width=\"12.8\"/>\n",
       "<circle clip-path=\"url(#clip252)\" cx=\"8193.01\" cy=\"717.606\" r=\"57\" fill=\"#009af9\" fill-rule=\"evenodd\" fill-opacity=\"1\" stroke=\"#000000\" stroke-opacity=\"1\" stroke-width=\"12.8\"/>\n",
       "<circle clip-path=\"url(#clip252)\" cx=\"9211.49\" cy=\"415.244\" r=\"57\" fill=\"#009af9\" fill-rule=\"evenodd\" fill-opacity=\"1\" stroke=\"#000000\" stroke-opacity=\"1\" stroke-width=\"12.8\"/>\n",
       "<path clip-path=\"url(#clip250)\" d=\"\n",
       "M8157.78 928.111 L9176.02 928.111 L9176.02 444.271 L8157.78 444.271  Z\n",
       "  \" fill=\"#ffffff\" fill-rule=\"evenodd\" fill-opacity=\"1\"/>\n",
       "<polyline clip-path=\"url(#clip250)\" style=\"stroke:#000000; stroke-width:16; stroke-opacity:1; fill:none\" points=\"\n",
       "  8157.78,928.111 9176.02,928.111 9176.02,444.271 8157.78,444.271 8157.78,928.111 \n",
       "  \"/>\n",
       "<polyline clip-path=\"url(#clip250)\" style=\"stroke:#009af9; stroke-width:16; stroke-opacity:1; fill:none\" points=\"\n",
       "  8236.11,686.191 8706.11,686.191 \n",
       "  \"/>\n",
       "<circle clip-path=\"url(#clip250)\" cx=\"8471.11\" cy=\"686.191\" r=\"92\" fill=\"#009af9\" fill-rule=\"evenodd\" fill-opacity=\"1\" stroke=\"#000000\" stroke-opacity=\"1\" stroke-width=\"20.48\"/>\n",
       "<path clip-path=\"url(#clip250)\" d=\"M 0 0 M8784.45 611.238 L8823.71 611.238 L8823.71 624.478 L8801.48 624.478 L8801.48 767.07 L8823.71 767.07 L8823.71 780.311 L8784.45 780.311 L8784.45 611.238 Z\" fill=\"#000000\" fill-rule=\"evenodd\" fill-opacity=\"1\" /><path clip-path=\"url(#clip250)\" d=\"M 0 0 M8857.69 617.071 L8857.69 668.459 L8841.95 668.459 L8841.95 617.071 L8857.69 617.071 M8892.69 617.071 L8892.69 668.459 L8876.95 668.459 L8876.95 617.071 L8892.69 617.071 Z\" fill=\"#000000\" fill-rule=\"evenodd\" fill-opacity=\"1\" /><path clip-path=\"url(#clip250)\" d=\"M 0 0 M8926.67 617.071 L8926.67 668.459 L8910.93 668.459 L8910.93 617.071 L8926.67 617.071 M8961.67 617.071 L8961.67 668.459 L8945.93 668.459 L8945.93 617.071 L8961.67 617.071 Z\" fill=\"#000000\" fill-rule=\"evenodd\" fill-opacity=\"1\" /><path clip-path=\"url(#clip250)\" d=\"M 0 0 M9019.35 611.238 L9019.35 780.311 L8980.09 780.311 L8980.09 767.07 L9002.22 767.07 L9002.22 624.478 L8980.09 624.478 L8980.09 611.238 L9019.35 611.238 Z\" fill=\"#000000\" fill-rule=\"evenodd\" fill-opacity=\"1\" /></svg>\n"
      ]
     },
     "metadata": {},
     "execution_count": 17
    }
   ],
   "cell_type": "code",
   "source": [
    "using Plots\n",
    "plot(\n",
    "    vcat(0.0, u_max),                # add the origin as a point\n",
    "    vcat(0.0, traction_magnitude),\n",
    "    linewidth=2,\n",
    "    title=\"Traction-displacement\",\n",
    "    label=[\"\"],\n",
    "    markershape=:auto\n",
    "    )\n",
    "ylabel!(\"Traction [Pa]\")\n",
    "xlabel!(\"Maximum deflection [m]\")"
   ],
   "metadata": {},
   "execution_count": 17
  },
  {
   "cell_type": "markdown",
   "source": [
    "*Figure 2.* Load-displacement-curve for the beam, showing a clear decrease\n",
    "in stiffness as more material starts to yield."
   ],
   "metadata": {}
  },
  {
   "cell_type": "markdown",
   "source": [
    "---\n",
    "\n",
    "*This notebook was generated using [Literate.jl](https://github.com/fredrikekre/Literate.jl).*"
   ],
   "metadata": {}
  }
 ],
 "nbformat_minor": 3,
 "metadata": {
  "language_info": {
   "file_extension": ".jl",
   "mimetype": "application/julia",
   "name": "julia",
   "version": "1.5.2"
  },
  "kernelspec": {
   "name": "julia-1.5",
   "display_name": "Julia 1.5.2",
   "language": "julia"
  }
 },
 "nbformat": 4
}
