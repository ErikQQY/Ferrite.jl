{
 "cells": [
  {
   "cell_type": "markdown",
   "source": [
    "# von Mises plasticity\n",
    "\n",
    "![Shows the von Mises stress distribution in a cantilever beam.](plasticity.png)\n",
    "*Figure 1.* A coarse mesh solution of a cantilever beam subjected to a load\n",
    "causing plastic deformations. The initial yield limit is 200 MPa but due to\n",
    "hardening it increases up to approximately 240 MPa."
   ],
   "metadata": {}
  },
  {
   "cell_type": "markdown",
   "source": [
    "## Introduction\n",
    "\n",
    "This example illustrates the use of a nonlinear material model in JuAFEM.\n",
    "The particular model is von Mises plasticity (also know as J₂-plasticity) with\n",
    "isotropic hardening. The model is fully 3D, meaning that no assumptions like *plane stress*\n",
    "or *plane strain* are introduced.\n",
    "\n",
    "Also note that the theory of the model is not described here, instead one is\n",
    "referred to standard textbooks on material modeling.\n",
    "\n",
    "To illustrate the use of the plasticity model, we setup and solve a FE-problem\n",
    "consisting of a cantilever beam loaded at its free end. But first, we shortly\n",
    "describe the parts of the implementation deadling with the material modeling."
   ],
   "metadata": {}
  },
  {
   "cell_type": "markdown",
   "source": [
    "## Material modeling\n",
    "This section describes the `struct`s and methods used to implement the material\n",
    "model"
   ],
   "metadata": {}
  },
  {
   "cell_type": "markdown",
   "source": [
    "### Material parameters and state variables\n",
    "\n",
    "Start by loading some necessary packages"
   ],
   "metadata": {}
  },
  {
   "outputs": [],
   "cell_type": "code",
   "source": [
    "using JuAFEM, SparseArrays, LinearAlgebra, Printf"
   ],
   "metadata": {},
   "execution_count": 1
  },
  {
   "cell_type": "markdown",
   "source": [
    "We define a J₂-plasticity-material, containing material parameters and the elastic\n",
    "stiffness Dᵉ (since it is constant)"
   ],
   "metadata": {}
  },
  {
   "outputs": [],
   "cell_type": "code",
   "source": [
    "struct J2Plasticity{T, S <: SymmetricTensor{4, 3, T}}\n",
    "    G::T  # Shear modulus\n",
    "    K::T  # Bulk modulus\n",
    "    σ₀::T # Initial yield limit\n",
    "    H::T  # Hardening modulus\n",
    "    Dᵉ::S # Elastic stiffness tensor\n",
    "end;"
   ],
   "metadata": {},
   "execution_count": 2
  },
  {
   "cell_type": "markdown",
   "source": [
    "Next, we define a constructor for the material instance."
   ],
   "metadata": {}
  },
  {
   "outputs": [],
   "cell_type": "code",
   "source": [
    "function J2Plasticity(E, ν, σ₀, H)\n",
    "    δ(i,j) = i == j ? 1.0 : 0.0 # helper function\n",
    "    G = E / 2(1 + ν)\n",
    "    K = E / 3(1 - 2ν)\n",
    "\n",
    "    Isymdev(i,j,k,l) = 0.5*(δ(i,k)*δ(j,l) + δ(i,l)*δ(j,k)) - 1.0/3.0*δ(i,j)*δ(k,l)\n",
    "    temp(i,j,k,l) = 2.0G *( 0.5*(δ(i,k)*δ(j,l) + δ(i,l)*δ(j,k)) + ν/(1.0-2.0ν)*δ(i,j)*δ(k,l))\n",
    "    Dᵉ = SymmetricTensor{4, 3}(temp)\n",
    "    return J2Plasticity(G, K, σ₀, H, Dᵉ)\n",
    "end;"
   ],
   "metadata": {},
   "execution_count": 3
  },
  {
   "cell_type": "markdown",
   "source": [
    "Define a `struct` to store the material state."
   ],
   "metadata": {}
  },
  {
   "outputs": [],
   "cell_type": "code",
   "source": [
    "mutable struct MaterialState{T, S <: SecondOrderTensor{3, T}}\n",
    "    # Store \"converged\" values\n",
    "    ϵᵖ::S # plastic strain\n",
    "    σ::S # stress\n",
    "    k::T # hardening variable\n",
    "\n",
    "    # Store temporary values used during equilibrium iterations\n",
    "    temp_ϵᵖ::S\n",
    "    temp_σ::S\n",
    "    temp_k::T\n",
    "end"
   ],
   "metadata": {},
   "execution_count": 4
  },
  {
   "cell_type": "markdown",
   "source": [
    "Constructor for initializing a material state. Every quantity is set to zero."
   ],
   "metadata": {}
  },
  {
   "outputs": [
    {
     "output_type": "execute_result",
     "data": {
      "text/plain": "Main.##433.MaterialState"
     },
     "metadata": {},
     "execution_count": 5
    }
   ],
   "cell_type": "code",
   "source": [
    "function MaterialState()\n",
    "    return MaterialState(\n",
    "                zero(SymmetricTensor{2, 3}),\n",
    "                zero(SymmetricTensor{2, 3}),\n",
    "                0.0,\n",
    "                zero(SymmetricTensor{2, 3}),\n",
    "                zero(SymmetricTensor{2, 3}),\n",
    "                0.0)\n",
    "end"
   ],
   "metadata": {},
   "execution_count": 5
  },
  {
   "cell_type": "markdown",
   "source": [
    "Next, we define a method to update the material state after equilibrium has\n",
    "been found. This will be called at the end of each time-step."
   ],
   "metadata": {}
  },
  {
   "outputs": [],
   "cell_type": "code",
   "source": [
    "function update_state!(state::MaterialState)\n",
    "    state.ϵᵖ = state.temp_ϵᵖ\n",
    "    state.σ = state.temp_σ\n",
    "    state.k = state.temp_k\n",
    "end;"
   ],
   "metadata": {},
   "execution_count": 6
  },
  {
   "cell_type": "markdown",
   "source": [
    "For later use, during the post-processing step, we define a function to\n",
    "compute the von Mises effective stress."
   ],
   "metadata": {}
  },
  {
   "outputs": [],
   "cell_type": "code",
   "source": [
    "function vonMises(σ)\n",
    "    s = dev(σ)\n",
    "    return sqrt(3.0/2.0 * s ⊡ s)\n",
    "end;"
   ],
   "metadata": {},
   "execution_count": 7
  },
  {
   "cell_type": "markdown",
   "source": [
    "## Constitutive driver\n",
    "\n",
    "This is the actual method which computes the stress and material tangent\n",
    "stiffness in a given integration point.\n",
    "Input is the current strain and material state."
   ],
   "metadata": {}
  },
  {
   "outputs": [
    {
     "output_type": "execute_result",
     "data": {
      "text/plain": "compute_stress_tangent (generic function with 1 method)"
     },
     "metadata": {},
     "execution_count": 8
    }
   ],
   "cell_type": "code",
   "source": [
    "function compute_stress_tangent(ϵ::SymmetricTensor{2, 3}, material::J2Plasticity, state::MaterialState)\n",
    "    # unpack some material parameters\n",
    "    G = material.G\n",
    "    K = material.K\n",
    "    H = material.H\n",
    "\n",
    "    # We use (•)ᵗ to denote *trial*-values\n",
    "    σᵗ = material.Dᵉ ⊡ (ϵ - state.ϵᵖ) # trial-stress\n",
    "    sᵗ = dev(σᵗ)         # deviatoric part of trial-stress\n",
    "    J₂ = 0.5 * sᵗ ⊡ sᵗ   # second invariant of sᵗ\n",
    "    σᵗₑ = sqrt(3.0*J₂)   # effetive trial-stress (von Mises stress)\n",
    "    σʸ = material.σ₀ + H * state.k # Previous yield limit\n",
    "\n",
    "    φᵗ  = σᵗₑ - σʸ # Trial-value of the yield surface\n",
    "\n",
    "    if φᵗ < 0.0 # elastic loading\n",
    "        state.temp_σ = σᵗ\n",
    "        return state.temp_σ, material.Dᵉ\n",
    "    else # plastic loading\n",
    "        h = H + 3G\n",
    "        μ =  φᵗ / h   # plastic multiplier\n",
    "\n",
    "        c1 = 1 - 3G * μ / σᵗₑ\n",
    "        s = c1 * sᵗ           # updated deviatoric stress\n",
    "        σ = s + vol(σᵗ)       # updated stress\n",
    "\n",
    "        # Compute algorithmic tangent stiffness ``D = \\frac{\\Delta \\sigma }{\\Delta \\epsilon}``\n",
    "        κ = H * (state.k + μ) # drag stress\n",
    "        σₑ = material.σ₀ + κ  # updated yield surface\n",
    "\n",
    "        δ(i,j) = i == j ? 1.0 : 0.0\n",
    "        Isymdev(i,j,k,l)  = 0.5*(δ(i,k)*δ(j,l) + δ(i,l)*δ(j,k)) - 1.0/3.0*δ(i,j)*δ(k,l)\n",
    "        Q(i,j,k,l) = Isymdev(i,j,k,l) - 3.0 / (2.0*σₑ^2) * s[i,j]*s[k,l]\n",
    "        b = (3G*μ/σₑ) / (1.0 + 3G*μ/σₑ)\n",
    "\n",
    "        Dtemp(i,j,k,l) = -2G*b * Q(i,j,k,l) - 9G^2 / (h*σₑ^2) * s[i,j]*s[k,l]\n",
    "        D = material.Dᵉ + SymmetricTensor{4, 3}(Dtemp)\n",
    "\n",
    "        # Store outputs in the material state\n",
    "        Δϵᵖ = 3/2 *μ / σₑ*s            # plastic strain\n",
    "        state.temp_ϵᵖ = state.ϵᵖ + Δϵᵖ  # plastic strain\n",
    "        state.temp_k = state.k + μ     # hardening variable\n",
    "        state.temp_σ = σ               # updated stress\n",
    "        return state.temp_σ, D\n",
    "    end\n",
    "end"
   ],
   "metadata": {},
   "execution_count": 8
  },
  {
   "cell_type": "markdown",
   "source": [
    "## FE-problem\n",
    "What follows are methods for assembling and and solving the FE-problem."
   ],
   "metadata": {}
  },
  {
   "outputs": [],
   "cell_type": "code",
   "source": [
    "function create_values(interpolation)\n",
    "    # setup quadrature rules\n",
    "    qr      = QuadratureRule{3,RefTetrahedron}(2)\n",
    "    face_qr = QuadratureRule{2,RefTetrahedron}(3)\n",
    "\n",
    "    # create geometric interpolation (use the same as for u)\n",
    "    interpolation_geom = Lagrange{3,RefTetrahedron,1}()\n",
    "\n",
    "    # cell and facevalues for u\n",
    "    cellvalues_u = CellVectorValues(qr, interpolation, interpolation_geom)\n",
    "    facevalues_u = FaceVectorValues(face_qr, interpolation, interpolation_geom)\n",
    "\n",
    "    return cellvalues_u, facevalues_u\n",
    "end;"
   ],
   "metadata": {},
   "execution_count": 9
  },
  {
   "cell_type": "markdown",
   "source": [
    "### Add degrees of freedom"
   ],
   "metadata": {}
  },
  {
   "outputs": [
    {
     "output_type": "execute_result",
     "data": {
      "text/plain": "create_dofhandler (generic function with 1 method)"
     },
     "metadata": {},
     "execution_count": 10
    }
   ],
   "cell_type": "code",
   "source": [
    "function create_dofhandler(grid, interpolation)\n",
    "    dh = DofHandler(grid)\n",
    "    dim = 3\n",
    "    push!(dh, :u, dim, interpolation) # add a displacement field with 3 components\n",
    "    close!(dh)\n",
    "    return dh\n",
    "end"
   ],
   "metadata": {},
   "execution_count": 10
  },
  {
   "cell_type": "markdown",
   "source": [
    "### Boundary conditions"
   ],
   "metadata": {}
  },
  {
   "outputs": [],
   "cell_type": "code",
   "source": [
    "function create_bc(dh, grid)\n",
    "    dbcs = ConstraintHandler(dh)\n",
    "    # Clamped on the left side\n",
    "    dofs = [1, 2, 3]\n",
    "    dbc = Dirichlet(:u, getfaceset(grid, \"left\"), (x,t) -> [0.0, 0.0, 0.0], dofs)\n",
    "    add!(dbcs, dbc)\n",
    "    close!(dbcs)\n",
    "    return dbcs\n",
    "end;"
   ],
   "metadata": {},
   "execution_count": 11
  },
  {
   "cell_type": "markdown",
   "source": [
    "### Assembling of element contributions\n",
    "\n",
    "* Residual vector `r`\n",
    "* Tangent stiffness `K`"
   ],
   "metadata": {}
  },
  {
   "outputs": [
    {
     "output_type": "execute_result",
     "data": {
      "text/plain": "doassemble (generic function with 1 method)"
     },
     "metadata": {},
     "execution_count": 12
    }
   ],
   "cell_type": "code",
   "source": [
    "function doassemble(cellvalues::CellVectorValues{dim},\n",
    "                    facevalues::FaceVectorValues{dim}, K::SparseMatrixCSC, grid::Grid,\n",
    "                    dh::DofHandler, material::J2Plasticity, u, states, t) where {dim}\n",
    "    r = zeros(ndofs(dh))\n",
    "    assembler = start_assemble(K, r)\n",
    "    nu = getnbasefunctions(cellvalues)\n",
    "    re = zeros(nu)     # element residual vector\n",
    "    ke = zeros(nu, nu) # element tangent matrix\n",
    "\n",
    "    for (cell, state) in zip(CellIterator(dh), states)\n",
    "        fill!(ke, 0)\n",
    "        fill!(re, 0)\n",
    "        eldofs = celldofs(cell)\n",
    "        ue = u[eldofs]\n",
    "        assemble_cell!(ke, re, cell, cellvalues, facevalues, grid, material,\n",
    "                       ue, state, t)\n",
    "        assemble!(assembler, eldofs, re, ke)\n",
    "    end\n",
    "    return K, r\n",
    "end"
   ],
   "metadata": {},
   "execution_count": 12
  },
  {
   "cell_type": "markdown",
   "source": [
    "Compute element contribution to the residual and the tangent."
   ],
   "metadata": {}
  },
  {
   "outputs": [
    {
     "output_type": "execute_result",
     "data": {
      "text/plain": "assemble_cell! (generic function with 1 method)"
     },
     "metadata": {},
     "execution_count": 13
    }
   ],
   "cell_type": "code",
   "source": [
    "function assemble_cell!(Ke, re, cell, cellvalues, facevalues, grid, material,\n",
    "                        ue, state, t)\n",
    "    n_basefuncs = getnbasefunctions(cellvalues)\n",
    "    reinit!(cellvalues, cell)\n",
    "\n",
    "    for q_point in 1:getnquadpoints(cellvalues)\n",
    "        # For each integration point, compute stress and material stiffness\n",
    "        ∇u = function_gradient(cellvalues, q_point, ue)\n",
    "        ϵ = symmetric(∇u) # Total strain\n",
    "        σ, D = compute_stress_tangent(ϵ, material, state[q_point])\n",
    "\n",
    "        dΩ = getdetJdV(cellvalues, q_point)\n",
    "        for i in 1:n_basefuncs\n",
    "            δϵ = symmetric(shape_gradient(cellvalues, q_point, i))\n",
    "\n",
    "            re[i] += (δϵ ⊡ σ) * dΩ # add internal force to residual\n",
    "            for j in 1:i\n",
    "                Δϵ = symmetric(shape_gradient(cellvalues, q_point, j))\n",
    "                Ke[i, j] += δϵ ⊡ D ⊡ Δϵ * dΩ\n",
    "            end\n",
    "        end\n",
    "    end\n",
    "    symmetrize_lower!(Ke)\n",
    "\n",
    "    # Add traction as a negative contribution to the element residual `re`:\n",
    "    for face in 1:nfaces(cell)\n",
    "        if onboundary(cell, face) && (cellid(cell), face) ∈ getfaceset(grid, \"right\")\n",
    "            reinit!(facevalues, cell, face)\n",
    "            for q_point in 1:getnquadpoints(facevalues)\n",
    "                dΓ = getdetJdV(facevalues, q_point)\n",
    "                for i in 1:n_basefuncs\n",
    "                    δu = shape_value(facevalues, q_point, i)\n",
    "                    re[i] -= (δu ⋅ t) * dΓ\n",
    "                end\n",
    "            end\n",
    "        end\n",
    "    end\n",
    "\n",
    "end"
   ],
   "metadata": {},
   "execution_count": 13
  },
  {
   "cell_type": "markdown",
   "source": [
    "Helper function to symmetrize the material tangent"
   ],
   "metadata": {}
  },
  {
   "outputs": [],
   "cell_type": "code",
   "source": [
    "function symmetrize_lower!(K)\n",
    "    for i in 1:size(K,1)\n",
    "        for j in i+1:size(K,1)\n",
    "            K[i,j] = K[j,i]\n",
    "        end\n",
    "    end\n",
    "end;"
   ],
   "metadata": {},
   "execution_count": 14
  },
  {
   "cell_type": "markdown",
   "source": [
    "Define a function which solves the FE-problem."
   ],
   "metadata": {}
  },
  {
   "outputs": [
    {
     "output_type": "execute_result",
     "data": {
      "text/plain": "solve (generic function with 1 method)"
     },
     "metadata": {},
     "execution_count": 15
    }
   ],
   "cell_type": "code",
   "source": [
    "function solve()\n",
    "    # Define material parameters\n",
    "    E = 200.0e9 # [Pa]\n",
    "    H = E/20   # [Pa]\n",
    "    ν = 0.3     # [-]\n",
    "    σ₀ = 200e6  # [Pa]\n",
    "    material = J2Plasticity(E, ν, σ₀, H)\n",
    "\n",
    "    L = 10.0 # beam length [m]\n",
    "    w = 1.0  # beam width [m]\n",
    "    h = 1.0  # beam height[m]\n",
    "    n_timesteps = 10\n",
    "    u_max = zeros(n_timesteps)\n",
    "    traction_magnitude = 1.e7 * range(0.5, 1.0, length=n_timesteps)\n",
    "\n",
    "    # Create geometry, dofs and boundary conditions\n",
    "    n = 2\n",
    "    nels = (10n, n, 2n) # number of elements in each spatial direction\n",
    "    P1 = Vec((0.0, 0.0, 0.0))  # start point for geometry\n",
    "    P2 = Vec((L, w, h))        # end point for geometry\n",
    "    grid = generate_grid(Tetrahedron, nels, P1, P2)\n",
    "    interpolation = Lagrange{3, RefTetrahedron, 1}() # Linear tet with 3 unknowns/node\n",
    "\n",
    "    dh = create_dofhandler(grid, interpolation) # JuaFEM helper function\n",
    "    dbcs = create_bc(dh, grid) # create Dirichlet boundary-conditions\n",
    "\n",
    "    cellvalues, facevalues = create_values(interpolation)\n",
    "\n",
    "    # Pre-allocate solution vectors, etc.\n",
    "    n_dofs = ndofs(dh)  # total number of dofs\n",
    "    u  = zeros(n_dofs)  # solution vector\n",
    "    Δu = zeros(n_dofs)  # displacement correction\n",
    "    r = zeros(n_dofs)   # residual\n",
    "    K = create_sparsity_pattern(dh); # tangent stiffness matrix\n",
    "\n",
    "    # Create material states. One array for each cell, where each element is an array of material-\n",
    "    # states - one for each integration point\n",
    "    nqp = getnquadpoints(cellvalues)\n",
    "    states = [[MaterialState() for _ in 1:nqp] for _ in 1:getncells(grid)]\n",
    "\n",
    "    # states = [MaterialState() for _ in 1:nqp for _ in 1:getncells(grid)]\n",
    "    # temp_states = [MaterialState() for _ in 1:nqp for _ in 1:getncells(grid)]\n",
    "\n",
    "    # Newton-Raphson loop\n",
    "    NEWTON_TOL = 1 # 1 N\n",
    "    print(\"\\n Starting Netwon iterations:\\n\")\n",
    "\n",
    "    for timestep in 1:n_timesteps\n",
    "        t = timestep # actual time (used for evaluating d-bndc)\n",
    "        traction = Vec((0.0, 0.0, traction_magnitude[timestep]))\n",
    "        newton_itr = -1\n",
    "        print(\"\\n Time step @time = $timestep:\\n\")\n",
    "        update!(dbcs, t) # evaluates the D-bndc at time t\n",
    "        apply!(u, dbcs)  # set the prescribed values in the solution vector\n",
    "\n",
    "        while true; newton_itr += 1\n",
    "\n",
    "            if newton_itr > 8\n",
    "                error(\"Reached maximum Newton iterations, aborting\")\n",
    "                break\n",
    "            end\n",
    "            K, r = doassemble(cellvalues, facevalues, K, grid, dh, material, u,\n",
    "                             states, traction);\n",
    "            norm_r = norm(r[JuAFEM.free_dofs(dbcs)])\n",
    "\n",
    "            print(\"Iteration: $newton_itr \\tresidual: $(@sprintf(\"%.8f\", norm_r))\\n\")\n",
    "            if norm_r < NEWTON_TOL\n",
    "                break\n",
    "            end\n",
    "\n",
    "            apply_zero!(K, r, dbcs)\n",
    "            Δu = Symmetric(K) \\ r\n",
    "            u -= Δu\n",
    "        end\n",
    "\n",
    "        # Update all the material states after we have reached equilibrium\n",
    "        for cell_states in states\n",
    "            foreach(update_state!, cell_states)\n",
    "        end\n",
    "        u_max[timestep] = max(abs.(u)...) # maximum displacement in current timestep\n",
    "    end\n",
    "\n",
    "    # ## Postprocessing\n",
    "    # Only a vtu-file corrsponding to the last time-step is exported.\n",
    "    #\n",
    "    # The following is a quick (and dirty) way of extracting average cell data for export.\n",
    "    mises_values = zeros(getncells(grid))\n",
    "    κ_values = zeros(getncells(grid))\n",
    "    for (el, cell_states) in enumerate(states)\n",
    "        for state in cell_states\n",
    "            mises_values[el] += vonMises(state.σ)\n",
    "            κ_values[el] += state.k*material.H\n",
    "        end\n",
    "        mises_values[el] /= length(cell_states) # average von Mises stress\n",
    "        κ_values[el] /= length(cell_states)     # average drag stress\n",
    "    end\n",
    "    vtk_grid(\"plasticity\", dh) do vtkfile\n",
    "        vtk_point_data(vtkfile, dh, u) # displacement field\n",
    "        vtk_cell_data(vtkfile, mises_values, \"von Mises [Pa]\")\n",
    "        vtk_cell_data(vtkfile, κ_values, \"Drag stress [Pa]\")\n",
    "    end\n",
    "\n",
    "    return u_max, traction_magnitude\n",
    "end"
   ],
   "metadata": {},
   "execution_count": 15
  },
  {
   "cell_type": "markdown",
   "source": [
    "Solve the FE-problem and for each time-step extract maximum displacement and\n",
    "the corresponding traction load. Also compute the limit-traction-load"
   ],
   "metadata": {}
  },
  {
   "outputs": [
    {
     "name": "stdout",
     "output_type": "stream",
     "text": [
      "\n",
      " Starting Netwon iterations:\n",
      "\n",
      " Time step @time = 1:\n",
      "Iteration: 0 \tresidual: 1435838.41167605\n",
      "Iteration: 1 \tresidual: 118655.22427595\n",
      "Iteration: 2 \tresidual: 59.50456063\n",
      "Iteration: 3 \tresidual: 0.00002530\n",
      "\n",
      " Time step @time = 2:\n",
      "Iteration: 0 \tresidual: 159537.60129744\n",
      "Iteration: 1 \tresidual: 1694313.86969849\n",
      "Iteration: 2 \tresidual: 61777.44063560\n",
      "Iteration: 3 \tresidual: 14.34471355\n",
      "Iteration: 4 \tresidual: 0.00001380\n",
      "\n",
      " Time step @time = 3:\n",
      "Iteration: 0 \tresidual: 159537.60129731\n",
      "Iteration: 1 \tresidual: 3465294.00907898\n",
      "Iteration: 2 \tresidual: 106305.35048538\n",
      "Iteration: 3 \tresidual: 58.58565971\n",
      "Iteration: 4 \tresidual: 0.00002897\n",
      "\n",
      " Time step @time = 4:\n",
      "Iteration: 0 \tresidual: 159537.60129741\n",
      "Iteration: 1 \tresidual: 3857656.80822025\n",
      "Iteration: 2 \tresidual: 106120.74905376\n",
      "Iteration: 3 \tresidual: 59.36567307\n",
      "Iteration: 4 \tresidual: 0.00003158\n",
      "\n",
      " Time step @time = 5:\n",
      "Iteration: 0 \tresidual: 159537.60129779\n",
      "Iteration: 1 \tresidual: 4591570.18948231\n",
      "Iteration: 2 \tresidual: 809076.45901106\n",
      "Iteration: 3 \tresidual: 3050.35226466\n",
      "Iteration: 4 \tresidual: 0.04736466\n",
      "\n",
      " Time step @time = 6:\n",
      "Iteration: 0 \tresidual: 159537.60129744\n",
      "Iteration: 1 \tresidual: 5802505.43620078\n",
      "Iteration: 2 \tresidual: 1437487.85100383\n",
      "Iteration: 3 \tresidual: 11546.54715815\n",
      "Iteration: 4 \tresidual: 0.84048155\n",
      "\n",
      " Time step @time = 7:\n",
      "Iteration: 0 \tresidual: 159537.60129998\n",
      "Iteration: 1 \tresidual: 7241697.93690713\n",
      "Iteration: 2 \tresidual: 2193090.98756620\n",
      "Iteration: 3 \tresidual: 23432.38560261\n",
      "Iteration: 4 \tresidual: 3.22458742\n",
      "Iteration: 5 \tresidual: 0.00002440\n",
      "\n",
      " Time step @time = 8:\n",
      "Iteration: 0 \tresidual: 159537.60129704\n",
      "Iteration: 1 \tresidual: 8699501.48209499\n",
      "Iteration: 2 \tresidual: 2053526.46146607\n",
      "Iteration: 3 \tresidual: 15401.26547289\n",
      "Iteration: 4 \tresidual: 1.72674917\n",
      "Iteration: 5 \tresidual: 0.00003146\n",
      "\n",
      " Time step @time = 9:\n",
      "Iteration: 0 \tresidual: 159537.60129735\n",
      "Iteration: 1 \tresidual: 8578498.72170687\n",
      "Iteration: 2 \tresidual: 2103291.47220535\n",
      "Iteration: 3 \tresidual: 15613.43203448\n",
      "Iteration: 4 \tresidual: 1.48150744\n",
      "Iteration: 5 \tresidual: 0.00003710\n",
      "\n",
      " Time step @time = 10:\n",
      "Iteration: 0 \tresidual: 159537.60129704\n",
      "Iteration: 1 \tresidual: 9405149.37928052\n",
      "Iteration: 2 \tresidual: 1951336.87113340\n",
      "Iteration: 3 \tresidual: 33917.88230124\n",
      "Iteration: 4 \tresidual: 4.28240143\n",
      "Iteration: 5 \tresidual: 0.00004025\n"
     ]
    }
   ],
   "cell_type": "code",
   "source": [
    "u_max, traction_magnitude = solve();"
   ],
   "metadata": {},
   "execution_count": 16
  },
  {
   "cell_type": "markdown",
   "source": [
    "Finally we plot the load-displacement curve."
   ],
   "metadata": {}
  },
  {
   "outputs": [
    {
     "output_type": "execute_result",
     "data": {
      "text/plain": "Plot{Plots.GRBackend() n=1}",
      "image/png": "[encoded data removed]",
      "text/html": [
       "<?xml version=\"1.0\" encoding=\"utf-8\"?>\n",
       "<svg xmlns=\"http://www.w3.org/2000/svg\" xmlns:xlink=\"http://www.w3.org/1999/xlink\" width=\"600\" height=\"400\" viewBox=\"0 0 2400 1600\">\n",
       "<defs>\n",
       "  <clipPath id=\"clip370\">\n",
       "    <rect x=\"0\" y=\"0\" width=\"2400\" height=\"1600\"/>\n",
       "  </clipPath>\n",
       "</defs>\n",
       "<path clip-path=\"url(#clip370)\" d=\"\n",
       "M0 1600 L2400 1600 L2400 0 L0 0  Z\n",
       "  \" fill=\"#ffffff\" fill-rule=\"evenodd\" fill-opacity=\"1\"/>\n",
       "<defs>\n",
       "  <clipPath id=\"clip371\">\n",
       "    <rect x=\"480\" y=\"0\" width=\"1681\" height=\"1600\"/>\n",
       "  </clipPath>\n",
       "</defs>\n",
       "<path clip-path=\"url(#clip370)\" d=\"\n",
       "M102.74 1505.26 L2352.76 1505.26 L2352.76 62.9921 L102.74 62.9921  Z\n",
       "  \" fill=\"#ffffff\" fill-rule=\"evenodd\" fill-opacity=\"1\"/>\n",
       "<defs>\n",
       "  <clipPath id=\"clip372\">\n",
       "    <rect x=\"102\" y=\"62\" width=\"2251\" height=\"1443\"/>\n",
       "  </clipPath>\n",
       "</defs>\n",
       "<polyline clip-path=\"url(#clip372)\" style=\"stroke:#000000; stroke-width:2; stroke-opacity:0.1; fill:none\" points=\"\n",
       "  166.42,1505.26 166.42,62.9921 \n",
       "  \"/>\n",
       "<polyline clip-path=\"url(#clip372)\" style=\"stroke:#000000; stroke-width:2; stroke-opacity:0.1; fill:none\" points=\"\n",
       "  583.522,1505.26 583.522,62.9921 \n",
       "  \"/>\n",
       "<polyline clip-path=\"url(#clip372)\" style=\"stroke:#000000; stroke-width:2; stroke-opacity:0.1; fill:none\" points=\"\n",
       "  1000.62,1505.26 1000.62,62.9921 \n",
       "  \"/>\n",
       "<polyline clip-path=\"url(#clip372)\" style=\"stroke:#000000; stroke-width:2; stroke-opacity:0.1; fill:none\" points=\"\n",
       "  1417.73,1505.26 1417.73,62.9921 \n",
       "  \"/>\n",
       "<polyline clip-path=\"url(#clip372)\" style=\"stroke:#000000; stroke-width:2; stroke-opacity:0.1; fill:none\" points=\"\n",
       "  1834.83,1505.26 1834.83,62.9921 \n",
       "  \"/>\n",
       "<polyline clip-path=\"url(#clip372)\" style=\"stroke:#000000; stroke-width:2; stroke-opacity:0.1; fill:none\" points=\"\n",
       "  2251.93,1505.26 2251.93,62.9921 \n",
       "  \"/>\n",
       "<polyline clip-path=\"url(#clip372)\" style=\"stroke:#000000; stroke-width:2; stroke-opacity:0.1; fill:none\" points=\"\n",
       "  102.74,1464.44 2352.76,1464.44 \n",
       "  \"/>\n",
       "<polyline clip-path=\"url(#clip372)\" style=\"stroke:#000000; stroke-width:2; stroke-opacity:0.1; fill:none\" points=\"\n",
       "  102.74,1124.28 2352.76,1124.28 \n",
       "  \"/>\n",
       "<polyline clip-path=\"url(#clip372)\" style=\"stroke:#000000; stroke-width:2; stroke-opacity:0.1; fill:none\" points=\"\n",
       "  102.74,784.126 2352.76,784.126 \n",
       "  \"/>\n",
       "<polyline clip-path=\"url(#clip372)\" style=\"stroke:#000000; stroke-width:2; stroke-opacity:0.1; fill:none\" points=\"\n",
       "  102.74,443.969 2352.76,443.969 \n",
       "  \"/>\n",
       "<polyline clip-path=\"url(#clip372)\" style=\"stroke:#000000; stroke-width:2; stroke-opacity:0.1; fill:none\" points=\"\n",
       "  102.74,103.811 2352.76,103.811 \n",
       "  \"/>\n",
       "<polyline clip-path=\"url(#clip370)\" style=\"stroke:#000000; stroke-width:4; stroke-opacity:1; fill:none\" points=\"\n",
       "  102.74,1505.26 2352.76,1505.26 \n",
       "  \"/>\n",
       "<polyline clip-path=\"url(#clip370)\" style=\"stroke:#000000; stroke-width:4; stroke-opacity:1; fill:none\" points=\"\n",
       "  102.74,1505.26 102.74,62.9921 \n",
       "  \"/>\n",
       "<polyline clip-path=\"url(#clip370)\" style=\"stroke:#000000; stroke-width:4; stroke-opacity:1; fill:none\" points=\"\n",
       "  166.42,1505.26 166.42,1487.95 \n",
       "  \"/>\n",
       "<polyline clip-path=\"url(#clip370)\" style=\"stroke:#000000; stroke-width:4; stroke-opacity:1; fill:none\" points=\"\n",
       "  583.522,1505.26 583.522,1487.95 \n",
       "  \"/>\n",
       "<polyline clip-path=\"url(#clip370)\" style=\"stroke:#000000; stroke-width:4; stroke-opacity:1; fill:none\" points=\"\n",
       "  1000.62,1505.26 1000.62,1487.95 \n",
       "  \"/>\n",
       "<polyline clip-path=\"url(#clip370)\" style=\"stroke:#000000; stroke-width:4; stroke-opacity:1; fill:none\" points=\"\n",
       "  1417.73,1505.26 1417.73,1487.95 \n",
       "  \"/>\n",
       "<polyline clip-path=\"url(#clip370)\" style=\"stroke:#000000; stroke-width:4; stroke-opacity:1; fill:none\" points=\"\n",
       "  1834.83,1505.26 1834.83,1487.95 \n",
       "  \"/>\n",
       "<polyline clip-path=\"url(#clip370)\" style=\"stroke:#000000; stroke-width:4; stroke-opacity:1; fill:none\" points=\"\n",
       "  2251.93,1505.26 2251.93,1487.95 \n",
       "  \"/>\n",
       "<polyline clip-path=\"url(#clip370)\" style=\"stroke:#000000; stroke-width:4; stroke-opacity:1; fill:none\" points=\"\n",
       "  102.74,1464.44 129.74,1464.44 \n",
       "  \"/>\n",
       "<polyline clip-path=\"url(#clip370)\" style=\"stroke:#000000; stroke-width:4; stroke-opacity:1; fill:none\" points=\"\n",
       "  102.74,1124.28 129.74,1124.28 \n",
       "  \"/>\n",
       "<polyline clip-path=\"url(#clip370)\" style=\"stroke:#000000; stroke-width:4; stroke-opacity:1; fill:none\" points=\"\n",
       "  102.74,784.126 129.74,784.126 \n",
       "  \"/>\n",
       "<polyline clip-path=\"url(#clip370)\" style=\"stroke:#000000; stroke-width:4; stroke-opacity:1; fill:none\" points=\"\n",
       "  102.74,443.969 129.74,443.969 \n",
       "  \"/>\n",
       "<polyline clip-path=\"url(#clip370)\" style=\"stroke:#000000; stroke-width:4; stroke-opacity:1; fill:none\" points=\"\n",
       "  102.74,103.811 129.74,103.811 \n",
       "  \"/>\n",
       "<path clip-path=\"url(#clip370)\" d=\"M 0 0 M134.429 1527.25 Q130.818 1527.25 128.989 1530.82 Q127.184 1534.36 127.184 1541.49 Q127.184 1548.59 128.989 1552.16 Q130.818 1555.7 134.429 1555.7 Q138.064 1555.7 139.869 1552.16 Q141.698 1548.59 141.698 1541.49 Q141.698 1534.36 139.869 1530.82 Q138.064 1527.25 134.429 1527.25 M134.429 1523.55 Q140.239 1523.55 143.295 1528.15 Q146.374 1532.74 146.374 1541.49 Q146.374 1550.21 143.295 1554.82 Q140.239 1559.4 134.429 1559.4 Q128.619 1559.4 125.54 1554.82 Q122.485 1550.21 122.485 1541.49 Q122.485 1532.74 125.54 1528.15 Q128.619 1523.55 134.429 1523.55 Z\" fill=\"#000000\" fill-rule=\"evenodd\" fill-opacity=\"1\" /><path clip-path=\"url(#clip370)\" d=\"M 0 0 M151.443 1552.85 L156.327 1552.85 L156.327 1558.73 L151.443 1558.73 L151.443 1552.85 Z\" fill=\"#000000\" fill-rule=\"evenodd\" fill-opacity=\"1\" /><path clip-path=\"url(#clip370)\" d=\"M 0 0 M171.397 1527.25 Q167.786 1527.25 165.957 1530.82 Q164.151 1534.36 164.151 1541.49 Q164.151 1548.59 165.957 1552.16 Q167.786 1555.7 171.397 1555.7 Q175.031 1555.7 176.836 1552.16 Q178.665 1548.59 178.665 1541.49 Q178.665 1534.36 176.836 1530.82 Q175.031 1527.25 171.397 1527.25 M171.397 1523.55 Q177.207 1523.55 180.262 1528.15 Q183.341 1532.74 183.341 1541.49 Q183.341 1550.21 180.262 1554.82 Q177.207 1559.4 171.397 1559.4 Q165.587 1559.4 162.508 1554.82 Q159.452 1550.21 159.452 1541.49 Q159.452 1532.74 162.508 1528.15 Q165.587 1523.55 171.397 1523.55 Z\" fill=\"#000000\" fill-rule=\"evenodd\" fill-opacity=\"1\" /><path clip-path=\"url(#clip370)\" d=\"M 0 0 M198.41 1527.25 Q194.799 1527.25 192.971 1530.82 Q191.165 1534.36 191.165 1541.49 Q191.165 1548.59 192.971 1552.16 Q194.799 1555.7 198.41 1555.7 Q202.045 1555.7 203.85 1552.16 Q205.679 1548.59 205.679 1541.49 Q205.679 1534.36 203.85 1530.82 Q202.045 1527.25 198.41 1527.25 M198.41 1523.55 Q204.221 1523.55 207.276 1528.15 Q210.355 1532.74 210.355 1541.49 Q210.355 1550.21 207.276 1554.82 Q204.221 1559.4 198.41 1559.4 Q192.6 1559.4 189.522 1554.82 Q186.466 1550.21 186.466 1541.49 Q186.466 1532.74 189.522 1528.15 Q192.6 1523.55 198.41 1523.55 Z\" fill=\"#000000\" fill-rule=\"evenodd\" fill-opacity=\"1\" /><path clip-path=\"url(#clip370)\" d=\"M 0 0 M552.029 1527.25 Q548.418 1527.25 546.59 1530.82 Q544.784 1534.36 544.784 1541.49 Q544.784 1548.59 546.59 1552.16 Q548.418 1555.7 552.029 1555.7 Q555.664 1555.7 557.469 1552.16 Q559.298 1548.59 559.298 1541.49 Q559.298 1534.36 557.469 1530.82 Q555.664 1527.25 552.029 1527.25 M552.029 1523.55 Q557.84 1523.55 560.895 1528.15 Q563.974 1532.74 563.974 1541.49 Q563.974 1550.21 560.895 1554.82 Q557.84 1559.4 552.029 1559.4 Q546.219 1559.4 543.141 1554.82 Q540.085 1550.21 540.085 1541.49 Q540.085 1532.74 543.141 1528.15 Q546.219 1523.55 552.029 1523.55 Z\" fill=\"#000000\" fill-rule=\"evenodd\" fill-opacity=\"1\" /><path clip-path=\"url(#clip370)\" d=\"M 0 0 M569.043 1552.85 L573.927 1552.85 L573.927 1558.73 L569.043 1558.73 L569.043 1552.85 Z\" fill=\"#000000\" fill-rule=\"evenodd\" fill-opacity=\"1\" /><path clip-path=\"url(#clip370)\" d=\"M 0 0 M588.997 1527.25 Q585.386 1527.25 583.557 1530.82 Q581.751 1534.36 581.751 1541.49 Q581.751 1548.59 583.557 1552.16 Q585.386 1555.7 588.997 1555.7 Q592.631 1555.7 594.437 1552.16 Q596.265 1548.59 596.265 1541.49 Q596.265 1534.36 594.437 1530.82 Q592.631 1527.25 588.997 1527.25 M588.997 1523.55 Q594.807 1523.55 597.862 1528.15 Q600.941 1532.74 600.941 1541.49 Q600.941 1550.21 597.862 1554.82 Q594.807 1559.4 588.997 1559.4 Q583.187 1559.4 580.108 1554.82 Q577.052 1550.21 577.052 1541.49 Q577.052 1532.74 580.108 1528.15 Q583.187 1523.55 588.997 1523.55 Z\" fill=\"#000000\" fill-rule=\"evenodd\" fill-opacity=\"1\" /><path clip-path=\"url(#clip370)\" d=\"M 0 0 M606.057 1524.17 L624.413 1524.17 L624.413 1528.11 L610.339 1528.11 L610.339 1536.58 Q611.358 1536.23 612.376 1536.07 Q613.395 1535.88 614.413 1535.88 Q620.2 1535.88 623.58 1539.06 Q626.96 1542.23 626.96 1547.64 Q626.96 1553.22 623.487 1556.32 Q620.015 1559.4 613.696 1559.4 Q611.52 1559.4 609.251 1559.03 Q607.006 1558.66 604.599 1557.92 L604.599 1553.22 Q606.682 1554.36 608.904 1554.91 Q611.126 1555.47 613.603 1555.47 Q617.608 1555.47 619.946 1553.36 Q622.284 1551.26 622.284 1547.64 Q622.284 1544.03 619.946 1541.93 Q617.608 1539.82 613.603 1539.82 Q611.728 1539.82 609.853 1540.24 Q608.001 1540.65 606.057 1541.53 L606.057 1524.17 Z\" fill=\"#000000\" fill-rule=\"evenodd\" fill-opacity=\"1\" /><path clip-path=\"url(#clip370)\" d=\"M 0 0 M969.248 1527.25 Q965.636 1527.25 963.808 1530.82 Q962.002 1534.36 962.002 1541.49 Q962.002 1548.59 963.808 1552.16 Q965.636 1555.7 969.248 1555.7 Q972.882 1555.7 974.687 1552.16 Q976.516 1548.59 976.516 1541.49 Q976.516 1534.36 974.687 1530.82 Q972.882 1527.25 969.248 1527.25 M969.248 1523.55 Q975.058 1523.55 978.113 1528.15 Q981.192 1532.74 981.192 1541.49 Q981.192 1550.21 978.113 1554.82 Q975.058 1559.4 969.248 1559.4 Q963.437 1559.4 960.359 1554.82 Q957.303 1550.21 957.303 1541.49 Q957.303 1532.74 960.359 1528.15 Q963.437 1523.55 969.248 1523.55 Z\" fill=\"#000000\" fill-rule=\"evenodd\" fill-opacity=\"1\" /><path clip-path=\"url(#clip370)\" d=\"M 0 0 M986.261 1552.85 L991.146 1552.85 L991.146 1558.73 L986.261 1558.73 L986.261 1552.85 Z\" fill=\"#000000\" fill-rule=\"evenodd\" fill-opacity=\"1\" /><path clip-path=\"url(#clip370)\" d=\"M 0 0 M997.025 1554.8 L1004.66 1554.8 L1004.66 1528.43 L996.354 1530.1 L996.354 1525.84 L1004.62 1524.17 L1009.29 1524.17 L1009.29 1554.8 L1016.93 1554.8 L1016.93 1558.73 L997.025 1558.73 L997.025 1554.8 Z\" fill=\"#000000\" fill-rule=\"evenodd\" fill-opacity=\"1\" /><path clip-path=\"url(#clip370)\" d=\"M 0 0 M1032 1527.25 Q1028.39 1527.25 1026.56 1530.82 Q1024.76 1534.36 1024.76 1541.49 Q1024.76 1548.59 1026.56 1552.16 Q1028.39 1555.7 1032 1555.7 Q1035.64 1555.7 1037.44 1552.16 Q1039.27 1548.59 1039.27 1541.49 Q1039.27 1534.36 1037.44 1530.82 Q1035.64 1527.25 1032 1527.25 M1032 1523.55 Q1037.81 1523.55 1040.87 1528.15 Q1043.95 1532.74 1043.95 1541.49 Q1043.95 1550.21 1040.87 1554.82 Q1037.81 1559.4 1032 1559.4 Q1026.19 1559.4 1023.11 1554.82 Q1020.06 1550.21 1020.06 1541.49 Q1020.06 1532.74 1023.11 1528.15 Q1026.19 1523.55 1032 1523.55 Z\" fill=\"#000000\" fill-rule=\"evenodd\" fill-opacity=\"1\" /><path clip-path=\"url(#clip370)\" d=\"M 0 0 M1386.85 1527.25 Q1383.24 1527.25 1381.41 1530.82 Q1379.6 1534.36 1379.6 1541.49 Q1379.6 1548.59 1381.41 1552.16 Q1383.24 1555.7 1386.85 1555.7 Q1390.48 1555.7 1392.29 1552.16 Q1394.12 1548.59 1394.12 1541.49 Q1394.12 1534.36 1392.29 1530.82 Q1390.48 1527.25 1386.85 1527.25 M1386.85 1523.55 Q1392.66 1523.55 1395.71 1528.15 Q1398.79 1532.74 1398.79 1541.49 Q1398.79 1550.21 1395.71 1554.82 Q1392.66 1559.4 1386.85 1559.4 Q1381.04 1559.4 1377.96 1554.82 Q1374.9 1550.21 1374.9 1541.49 Q1374.9 1532.74 1377.96 1528.15 Q1381.04 1523.55 1386.85 1523.55 Z\" fill=\"#000000\" fill-rule=\"evenodd\" fill-opacity=\"1\" /><path clip-path=\"url(#clip370)\" d=\"M 0 0 M1403.86 1552.85 L1408.75 1552.85 L1408.75 1558.73 L1403.86 1558.73 L1403.86 1552.85 Z\" fill=\"#000000\" fill-rule=\"evenodd\" fill-opacity=\"1\" /><path clip-path=\"url(#clip370)\" d=\"M 0 0 M1414.63 1554.8 L1422.26 1554.8 L1422.26 1528.43 L1413.95 1530.1 L1413.95 1525.84 L1422.22 1524.17 L1426.89 1524.17 L1426.89 1554.8 L1434.53 1554.8 L1434.53 1558.73 L1414.63 1558.73 L1414.63 1554.8 Z\" fill=\"#000000\" fill-rule=\"evenodd\" fill-opacity=\"1\" /><path clip-path=\"url(#clip370)\" d=\"M 0 0 M1439.65 1524.17 L1458 1524.17 L1458 1528.11 L1443.93 1528.11 L1443.93 1536.58 Q1444.95 1536.23 1445.97 1536.07 Q1446.99 1535.88 1448 1535.88 Q1453.79 1535.88 1457.17 1539.06 Q1460.55 1542.23 1460.55 1547.64 Q1460.55 1553.22 1457.08 1556.32 Q1453.61 1559.4 1447.29 1559.4 Q1445.11 1559.4 1442.84 1559.03 Q1440.6 1558.66 1438.19 1557.92 L1438.19 1553.22 Q1440.27 1554.36 1442.5 1554.91 Q1444.72 1555.47 1447.19 1555.47 Q1451.2 1555.47 1453.54 1553.36 Q1455.88 1551.26 1455.88 1547.64 Q1455.88 1544.03 1453.54 1541.93 Q1451.2 1539.82 1447.19 1539.82 Q1445.32 1539.82 1443.44 1540.24 Q1441.59 1540.65 1439.65 1541.53 L1439.65 1524.17 Z\" fill=\"#000000\" fill-rule=\"evenodd\" fill-opacity=\"1\" /><path clip-path=\"url(#clip370)\" d=\"M 0 0 M1803.64 1527.25 Q1800.03 1527.25 1798.2 1530.82 Q1796.39 1534.36 1796.39 1541.49 Q1796.39 1548.59 1798.2 1552.16 Q1800.03 1555.7 1803.64 1555.7 Q1807.27 1555.7 1809.08 1552.16 Q1810.91 1548.59 1810.91 1541.49 Q1810.91 1534.36 1809.08 1530.82 Q1807.27 1527.25 1803.64 1527.25 M1803.64 1523.55 Q1809.45 1523.55 1812.5 1528.15 Q1815.58 1532.74 1815.58 1541.49 Q1815.58 1550.21 1812.5 1554.82 Q1809.45 1559.4 1803.64 1559.4 Q1797.83 1559.4 1794.75 1554.82 Q1791.69 1550.21 1791.69 1541.49 Q1791.69 1532.74 1794.75 1528.15 Q1797.83 1523.55 1803.64 1523.55 Z\" fill=\"#000000\" fill-rule=\"evenodd\" fill-opacity=\"1\" /><path clip-path=\"url(#clip370)\" d=\"M 0 0 M1820.65 1552.85 L1825.54 1552.85 L1825.54 1558.73 L1820.65 1558.73 L1820.65 1552.85 Z\" fill=\"#000000\" fill-rule=\"evenodd\" fill-opacity=\"1\" /><path clip-path=\"url(#clip370)\" d=\"M 0 0 M1834.63 1554.8 L1850.95 1554.8 L1850.95 1558.73 L1829.01 1558.73 L1829.01 1554.8 Q1831.67 1552.04 1836.25 1547.41 Q1840.86 1542.76 1842.04 1541.42 Q1844.29 1538.89 1845.17 1537.16 Q1846.07 1535.4 1846.07 1533.71 Q1846.07 1530.95 1844.12 1529.22 Q1842.2 1527.48 1839.1 1527.48 Q1836.9 1527.48 1834.45 1528.25 Q1832.02 1529.01 1829.24 1530.56 L1829.24 1525.84 Q1832.06 1524.7 1834.52 1524.13 Q1836.97 1523.55 1839.01 1523.55 Q1844.38 1523.55 1847.57 1526.23 Q1850.77 1528.92 1850.77 1533.41 Q1850.77 1535.54 1849.96 1537.46 Q1849.17 1539.36 1847.06 1541.95 Q1846.48 1542.62 1843.38 1545.84 Q1840.28 1549.03 1834.63 1554.8 Z\" fill=\"#000000\" fill-rule=\"evenodd\" fill-opacity=\"1\" /><path clip-path=\"url(#clip370)\" d=\"M 0 0 M1866.02 1527.25 Q1862.41 1527.25 1860.58 1530.82 Q1858.78 1534.36 1858.78 1541.49 Q1858.78 1548.59 1860.58 1552.16 Q1862.41 1555.7 1866.02 1555.7 Q1869.66 1555.7 1871.46 1552.16 Q1873.29 1548.59 1873.29 1541.49 Q1873.29 1534.36 1871.46 1530.82 Q1869.66 1527.25 1866.02 1527.25 M1866.02 1523.55 Q1871.83 1523.55 1874.89 1528.15 Q1877.97 1532.74 1877.97 1541.49 Q1877.97 1550.21 1874.89 1554.82 Q1871.83 1559.4 1866.02 1559.4 Q1860.21 1559.4 1857.13 1554.82 Q1854.08 1550.21 1854.08 1541.49 Q1854.08 1532.74 1857.13 1528.15 Q1860.21 1523.55 1866.02 1523.55 Z\" fill=\"#000000\" fill-rule=\"evenodd\" fill-opacity=\"1\" /><path clip-path=\"url(#clip370)\" d=\"M 0 0 M2221.24 1527.25 Q2217.63 1527.25 2215.8 1530.82 Q2213.99 1534.36 2213.99 1541.49 Q2213.99 1548.59 2215.8 1552.16 Q2217.63 1555.7 2221.24 1555.7 Q2224.87 1555.7 2226.68 1552.16 Q2228.51 1548.59 2228.51 1541.49 Q2228.51 1534.36 2226.68 1530.82 Q2224.87 1527.25 2221.24 1527.25 M2221.24 1523.55 Q2227.05 1523.55 2230.1 1528.15 Q2233.18 1532.74 2233.18 1541.49 Q2233.18 1550.21 2230.1 1554.82 Q2227.05 1559.4 2221.24 1559.4 Q2215.43 1559.4 2212.35 1554.82 Q2209.29 1550.21 2209.29 1541.49 Q2209.29 1532.74 2212.35 1528.15 Q2215.43 1523.55 2221.24 1523.55 Z\" fill=\"#000000\" fill-rule=\"evenodd\" fill-opacity=\"1\" /><path clip-path=\"url(#clip370)\" d=\"M 0 0 M2238.25 1552.85 L2243.14 1552.85 L2243.14 1558.73 L2238.25 1558.73 L2238.25 1552.85 Z\" fill=\"#000000\" fill-rule=\"evenodd\" fill-opacity=\"1\" /><path clip-path=\"url(#clip370)\" d=\"M 0 0 M2252.23 1554.8 L2268.55 1554.8 L2268.55 1558.73 L2246.61 1558.73 L2246.61 1554.8 Q2249.27 1552.04 2253.85 1547.41 Q2258.46 1542.76 2259.64 1541.42 Q2261.89 1538.89 2262.77 1537.16 Q2263.67 1535.4 2263.67 1533.71 Q2263.67 1530.95 2261.72 1529.22 Q2259.8 1527.48 2256.7 1527.48 Q2254.5 1527.48 2252.05 1528.25 Q2249.62 1529.01 2246.84 1530.56 L2246.84 1525.84 Q2249.66 1524.7 2252.12 1524.13 Q2254.57 1523.55 2256.61 1523.55 Q2261.98 1523.55 2265.17 1526.23 Q2268.37 1528.92 2268.37 1533.41 Q2268.37 1535.54 2267.56 1537.46 Q2266.77 1539.36 2264.66 1541.95 Q2264.08 1542.62 2260.98 1545.84 Q2257.88 1549.03 2252.23 1554.8 Z\" fill=\"#000000\" fill-rule=\"evenodd\" fill-opacity=\"1\" /><path clip-path=\"url(#clip370)\" d=\"M 0 0 M2273.67 1524.17 L2292.02 1524.17 L2292.02 1528.11 L2277.95 1528.11 L2277.95 1536.58 Q2278.97 1536.23 2279.99 1536.07 Q2281.01 1535.88 2282.02 1535.88 Q2287.81 1535.88 2291.19 1539.06 Q2294.57 1542.23 2294.57 1547.64 Q2294.57 1553.22 2291.1 1556.32 Q2287.63 1559.4 2281.31 1559.4 Q2279.13 1559.4 2276.86 1559.03 Q2274.62 1558.66 2272.21 1557.92 L2272.21 1553.22 Q2274.29 1554.36 2276.52 1554.91 Q2278.74 1555.47 2281.21 1555.47 Q2285.22 1555.47 2287.56 1553.36 Q2289.89 1551.26 2289.89 1547.64 Q2289.89 1544.03 2287.56 1541.93 Q2285.22 1539.82 2281.21 1539.82 Q2279.34 1539.82 2277.46 1540.24 Q2275.61 1540.65 2273.67 1541.53 L2273.67 1524.17 Z\" fill=\"#000000\" fill-rule=\"evenodd\" fill-opacity=\"1\" /><path clip-path=\"url(#clip370)\" d=\"M 0 0 M66.7958 1450.24 Q63.1847 1450.24 61.356 1453.8 Q59.5504 1457.35 59.5504 1464.48 Q59.5504 1471.58 61.356 1475.15 Q63.1847 1478.69 66.7958 1478.69 Q70.43 1478.69 72.2356 1475.15 Q74.0643 1471.58 74.0643 1464.48 Q74.0643 1457.35 72.2356 1453.8 Q70.43 1450.24 66.7958 1450.24 M66.7958 1446.54 Q72.6059 1446.54 75.6615 1451.14 Q78.7402 1455.73 78.7402 1464.48 Q78.7402 1473.2 75.6615 1477.81 Q72.6059 1482.39 66.7958 1482.39 Q60.9856 1482.39 57.9069 1477.81 Q54.8514 1473.2 54.8514 1464.48 Q54.8514 1455.73 57.9069 1451.14 Q60.9856 1446.54 66.7958 1446.54 Z\" fill=\"#000000\" fill-rule=\"evenodd\" fill-opacity=\"1\" /><path clip-path=\"url(#clip370)\" d=\"M 0 0 M-78.9832 1144.08 L-62.6639 1144.08 L-62.6639 1148.01 L-84.6082 1148.01 L-84.6082 1144.08 Q-81.9462 1141.32 -77.3629 1136.69 Q-72.7564 1132.04 -71.5759 1130.7 Q-69.3305 1128.17 -68.4509 1126.44 Q-67.5481 1124.68 -67.5481 1122.99 Q-67.5481 1120.23 -69.4926 1118.5 Q-71.4138 1116.76 -74.5157 1116.76 Q-76.7147 1116.76 -79.1684 1117.53 Q-81.599 1118.29 -84.3767 1119.84 L-84.3767 1115.12 Q-81.5527 1113.98 -79.099 1113.4 Q-76.6453 1112.83 -74.6083 1112.83 Q-69.2379 1112.83 -66.0435 1115.51 Q-62.8491 1118.2 -62.8491 1122.69 Q-62.8491 1124.82 -63.6593 1126.74 Q-64.4463 1128.64 -66.5528 1131.23 Q-67.1315 1131.9 -70.2333 1135.12 Q-73.3351 1138.31 -78.9832 1144.08 Z\" fill=\"#000000\" fill-rule=\"evenodd\" fill-opacity=\"1\" /><path clip-path=\"url(#clip370)\" d=\"M 0 0 M-57.5945 1142.13 L-52.7102 1142.13 L-52.7102 1148.01 L-57.5945 1148.01 L-57.5945 1142.13 Z\" fill=\"#000000\" fill-rule=\"evenodd\" fill-opacity=\"1\" /><path clip-path=\"url(#clip370)\" d=\"M 0 0 M-47.5945 1113.45 L-29.2381 1113.45 L-29.2381 1117.39 L-43.3121 1117.39 L-43.3121 1125.86 Q-42.2936 1125.51 -41.2751 1125.35 Q-40.2566 1125.16 -39.2381 1125.16 Q-33.4511 1125.16 -30.0715 1128.34 Q-26.6919 1131.51 -26.6919 1136.92 Q-26.6919 1142.5 -30.1641 1145.6 Q-33.6363 1148.68 -39.9557 1148.68 Q-42.1316 1148.68 -44.4001 1148.31 Q-46.6455 1147.94 -49.0528 1147.2 L-49.0528 1142.5 Q-46.9695 1143.64 -44.7473 1144.19 Q-42.5251 1144.75 -40.0483 1144.75 Q-36.0437 1144.75 -33.7057 1142.64 Q-31.3678 1140.53 -31.3678 1136.92 Q-31.3678 1133.31 -33.7057 1131.21 Q-36.0437 1129.1 -40.0483 1129.1 Q-41.9233 1129.1 -43.7982 1129.52 Q-45.6501 1129.93 -47.5945 1130.81 L-47.5945 1113.45 Z\" fill=\"#000000\" fill-rule=\"evenodd\" fill-opacity=\"1\" /><path clip-path=\"url(#clip370)\" d=\"M 0 0 M6.5487 1122.55 L-4.02994 1133.17 L6.5487 1143.75 L3.79409 1146.55 L-6.83085 1135.93 L-17.4558 1146.55 L-20.1873 1143.75 L-9.63176 1133.17 L-20.1873 1122.55 L-17.4558 1119.75 L-6.83085 1130.37 L3.79409 1119.75 L6.5487 1122.55 Z\" fill=\"#000000\" fill-rule=\"evenodd\" fill-opacity=\"1\" /><path clip-path=\"url(#clip370)\" d=\"M 0 0 M12.4283 1144.08 L20.0672 1144.08 L20.0672 1117.71 L11.757 1119.38 L11.757 1115.12 L20.0209 1113.45 L24.6968 1113.45 L24.6968 1144.08 L32.3356 1144.08 L32.3356 1148.01 L12.4283 1148.01 L12.4283 1144.08 Z\" fill=\"#000000\" fill-rule=\"evenodd\" fill-opacity=\"1\" /><path clip-path=\"url(#clip370)\" d=\"M 0 0 M47.405 1116.53 Q43.7939 1116.53 41.9652 1120.09 Q40.1596 1123.64 40.1596 1130.77 Q40.1596 1137.87 41.9652 1141.44 Q43.7939 1144.98 47.405 1144.98 Q51.0392 1144.98 52.8448 1141.44 Q54.6734 1137.87 54.6734 1130.77 Q54.6734 1123.64 52.8448 1120.09 Q51.0392 1116.53 47.405 1116.53 M47.405 1112.83 Q53.2151 1112.83 56.2707 1117.43 Q59.3493 1122.02 59.3493 1130.77 Q59.3493 1139.49 56.2707 1144.1 Q53.2151 1148.68 47.405 1148.68 Q41.5948 1148.68 38.5161 1144.1 Q35.4606 1139.49 35.4606 1130.77 Q35.4606 1122.02 38.5161 1117.43 Q41.5948 1112.83 47.405 1112.83 Z\" fill=\"#000000\" fill-rule=\"evenodd\" fill-opacity=\"1\" /><path clip-path=\"url(#clip370)\" d=\"M 0 0 M69.3739 1105.05 Q66.816 1105.05 65.3114 1106.8 Q63.8256 1108.54 63.8256 1111.59 Q63.8256 1114.62 65.3114 1116.39 Q66.816 1118.14 69.3739 1118.14 Q71.9317 1118.14 73.4176 1116.39 Q74.9222 1114.62 74.9222 1111.59 Q74.9222 1108.54 73.4176 1106.8 Q71.9317 1105.05 69.3739 1105.05 M76.9158 1093.14 L76.9158 1096.6 Q75.4864 1095.92 74.0194 1095.57 Q72.5712 1095.21 71.1418 1095.21 Q67.3803 1095.21 65.3866 1097.75 Q63.4118 1100.29 63.1297 1105.42 Q64.2394 1103.79 65.9133 1102.92 Q67.5872 1102.04 69.5996 1102.04 Q73.8313 1102.04 76.2763 1104.61 Q78.7402 1107.17 78.7402 1111.59 Q78.7402 1115.92 76.1823 1118.53 Q73.6244 1121.15 69.3739 1121.15 Q64.5027 1121.15 61.926 1117.42 Q59.3493 1113.68 59.3493 1106.59 Q59.3493 1099.93 62.5091 1095.98 Q65.6688 1092.01 70.9914 1092.01 Q72.4207 1092.01 73.8689 1092.29 Q75.336 1092.58 76.9158 1093.14 Z\" fill=\"#000000\" fill-rule=\"evenodd\" fill-opacity=\"1\" /><path clip-path=\"url(#clip370)\" d=\"M 0 0 M-84.5619 773.294 L-66.2055 773.294 L-66.2055 777.229 L-80.2795 777.229 L-80.2795 785.701 Q-79.261 785.354 -78.2425 785.192 Q-77.224 785.006 -76.2055 785.006 Q-70.4185 785.006 -67.0389 788.178 Q-63.6593 791.349 -63.6593 796.766 Q-63.6593 802.344 -67.1315 805.446 Q-70.6037 808.525 -76.9231 808.525 Q-79.099 808.525 -81.3675 808.155 Q-83.6128 807.784 -86.0202 807.043 L-86.0202 802.344 Q-83.9369 803.479 -81.7147 804.034 Q-79.4925 804.59 -77.0157 804.59 Q-73.0111 804.59 -70.6731 802.483 Q-68.3352 800.377 -68.3352 796.766 Q-68.3352 793.155 -70.6731 791.048 Q-73.0111 788.942 -77.0157 788.942 Q-78.8907 788.942 -80.7656 789.358 Q-82.6175 789.775 -84.5619 790.655 L-84.5619 773.294 Z\" fill=\"#000000\" fill-rule=\"evenodd\" fill-opacity=\"1\" /><path clip-path=\"url(#clip370)\" d=\"M 0 0 M-58.5898 801.974 L-53.7056 801.974 L-53.7056 807.854 L-58.5898 807.854 L-58.5898 801.974 Z\" fill=\"#000000\" fill-rule=\"evenodd\" fill-opacity=\"1\" /><path clip-path=\"url(#clip370)\" d=\"M 0 0 M-38.6362 776.372 Q-42.2473 776.372 -44.076 779.937 Q-45.8816 783.479 -45.8816 790.608 Q-45.8816 797.715 -44.076 801.28 Q-42.2473 804.821 -38.6362 804.821 Q-35.002 804.821 -33.1965 801.28 Q-31.3678 797.715 -31.3678 790.608 Q-31.3678 783.479 -33.1965 779.937 Q-35.002 776.372 -38.6362 776.372 M-38.6362 772.669 Q-32.8261 772.669 -29.7705 777.275 Q-26.6919 781.858 -26.6919 790.608 Q-26.6919 799.335 -29.7705 803.942 Q-32.8261 808.525 -38.6362 808.525 Q-44.4464 808.525 -47.5251 803.942 Q-50.5806 799.335 -50.5806 790.608 Q-50.5806 781.858 -47.5251 777.275 Q-44.4464 772.669 -38.6362 772.669 Z\" fill=\"#000000\" fill-rule=\"evenodd\" fill-opacity=\"1\" /><path clip-path=\"url(#clip370)\" d=\"M 0 0 M6.5487 782.391 L-4.02994 793.016 L6.5487 803.594 L3.79409 806.395 L-6.83085 795.77 L-17.4558 806.395 L-20.1873 803.594 L-9.63176 793.016 L-20.1873 782.391 L-17.4558 779.59 L-6.83085 790.215 L3.79409 779.59 L6.5487 782.391 Z\" fill=\"#000000\" fill-rule=\"evenodd\" fill-opacity=\"1\" /><path clip-path=\"url(#clip370)\" d=\"M 0 0 M12.4283 803.918 L20.0672 803.918 L20.0672 777.553 L11.757 779.219 L11.757 774.96 L20.0209 773.294 L24.6968 773.294 L24.6968 803.918 L32.3356 803.918 L32.3356 807.854 L12.4283 807.854 L12.4283 803.918 Z\" fill=\"#000000\" fill-rule=\"evenodd\" fill-opacity=\"1\" /><path clip-path=\"url(#clip370)\" d=\"M 0 0 M47.405 776.372 Q43.7939 776.372 41.9652 779.937 Q40.1596 783.479 40.1596 790.608 Q40.1596 797.715 41.9652 801.28 Q43.7939 804.821 47.405 804.821 Q51.0392 804.821 52.8448 801.28 Q54.6734 797.715 54.6734 790.608 Q54.6734 783.479 52.8448 779.937 Q51.0392 776.372 47.405 776.372 M47.405 772.669 Q53.2151 772.669 56.2707 777.275 Q59.3493 781.858 59.3493 790.608 Q59.3493 799.335 56.2707 803.942 Q53.2151 808.525 47.405 808.525 Q41.5948 808.525 38.5161 803.942 Q35.4606 799.335 35.4606 790.608 Q35.4606 781.858 38.5161 777.275 Q41.5948 772.669 47.405 772.669 Z\" fill=\"#000000\" fill-rule=\"evenodd\" fill-opacity=\"1\" /><path clip-path=\"url(#clip370)\" d=\"M 0 0 M69.3739 764.889 Q66.816 764.889 65.3114 766.638 Q63.8256 768.387 63.8256 771.434 Q63.8256 774.462 65.3114 776.23 Q66.816 777.979 69.3739 777.979 Q71.9317 777.979 73.4176 776.23 Q74.9222 774.462 74.9222 771.434 Q74.9222 768.387 73.4176 766.638 Q71.9317 764.889 69.3739 764.889 M76.9158 752.984 L76.9158 756.444 Q75.4864 755.767 74.0194 755.41 Q72.5712 755.053 71.1418 755.053 Q67.3803 755.053 65.3866 757.592 Q63.4118 760.131 63.1297 765.265 Q64.2394 763.629 65.9133 762.764 Q67.5872 761.88 69.5996 761.88 Q73.8313 761.88 76.2763 764.457 Q78.7402 767.014 78.7402 771.434 Q78.7402 775.76 76.1823 778.374 Q73.6244 780.989 69.3739 780.989 Q64.5027 780.989 61.926 777.265 Q59.3493 773.522 59.3493 766.431 Q59.3493 759.773 62.5091 755.824 Q65.6688 751.855 70.9914 751.855 Q72.4207 751.855 73.8689 752.137 Q75.336 752.42 76.9158 752.984 Z\" fill=\"#000000\" fill-rule=\"evenodd\" fill-opacity=\"1\" /><path clip-path=\"url(#clip370)\" d=\"M 0 0 M-84.886 433.136 L-62.6639 433.136 L-62.6639 435.127 L-75.2101 467.696 L-80.0944 467.696 L-68.2889 437.071 L-84.886 437.071 L-84.886 433.136 Z\" fill=\"#000000\" fill-rule=\"evenodd\" fill-opacity=\"1\" /><path clip-path=\"url(#clip370)\" d=\"M 0 0 M-57.5945 461.817 L-52.7102 461.817 L-52.7102 467.696 L-57.5945 467.696 L-57.5945 461.817 Z\" fill=\"#000000\" fill-rule=\"evenodd\" fill-opacity=\"1\" /><path clip-path=\"url(#clip370)\" d=\"M 0 0 M-47.5945 433.136 L-29.2381 433.136 L-29.2381 437.071 L-43.3121 437.071 L-43.3121 445.543 Q-42.2936 445.196 -41.2751 445.034 Q-40.2566 444.849 -39.2381 444.849 Q-33.4511 444.849 -30.0715 448.02 Q-26.6919 451.192 -26.6919 456.608 Q-26.6919 462.187 -30.1641 465.289 Q-33.6363 468.367 -39.9557 468.367 Q-42.1316 468.367 -44.4001 467.997 Q-46.6455 467.627 -49.0528 466.886 L-49.0528 462.187 Q-46.9695 463.321 -44.7473 463.877 Q-42.5251 464.432 -40.0483 464.432 Q-36.0437 464.432 -33.7057 462.326 Q-31.3678 460.219 -31.3678 456.608 Q-31.3678 452.997 -33.7057 450.891 Q-36.0437 448.784 -40.0483 448.784 Q-41.9233 448.784 -43.7982 449.201 Q-45.6501 449.617 -47.5945 450.497 L-47.5945 433.136 Z\" fill=\"#000000\" fill-rule=\"evenodd\" fill-opacity=\"1\" /><path clip-path=\"url(#clip370)\" d=\"M 0 0 M6.5487 442.233 L-4.02994 452.858 L6.5487 463.437 L3.79409 466.238 L-6.83085 455.613 L-17.4558 466.238 L-20.1873 463.437 L-9.63176 452.858 L-20.1873 442.233 L-17.4558 439.432 L-6.83085 450.057 L3.79409 439.432 L6.5487 442.233 Z\" fill=\"#000000\" fill-rule=\"evenodd\" fill-opacity=\"1\" /><path clip-path=\"url(#clip370)\" d=\"M 0 0 M12.4283 463.761 L20.0672 463.761 L20.0672 437.395 L11.757 439.062 L11.757 434.803 L20.0209 433.136 L24.6968 433.136 L24.6968 463.761 L32.3356 463.761 L32.3356 467.696 L12.4283 467.696 L12.4283 463.761 Z\" fill=\"#000000\" fill-rule=\"evenodd\" fill-opacity=\"1\" /><path clip-path=\"url(#clip370)\" d=\"M 0 0 M47.405 436.215 Q43.7939 436.215 41.9652 439.78 Q40.1596 443.321 40.1596 450.451 Q40.1596 457.557 41.9652 461.122 Q43.7939 464.664 47.405 464.664 Q51.0392 464.664 52.8448 461.122 Q54.6734 457.557 54.6734 450.451 Q54.6734 443.321 52.8448 439.78 Q51.0392 436.215 47.405 436.215 M47.405 432.511 Q53.2151 432.511 56.2707 437.118 Q59.3493 441.701 59.3493 450.451 Q59.3493 459.178 56.2707 463.784 Q53.2151 468.367 47.405 468.367 Q41.5948 468.367 38.5161 463.784 Q35.4606 459.178 35.4606 450.451 Q35.4606 441.701 38.5161 437.118 Q41.5948 432.511 47.405 432.511 Z\" fill=\"#000000\" fill-rule=\"evenodd\" fill-opacity=\"1\" /><path clip-path=\"url(#clip370)\" d=\"M 0 0 M69.3739 424.732 Q66.816 424.732 65.3114 426.481 Q63.8256 428.23 63.8256 431.277 Q63.8256 434.305 65.3114 436.073 Q66.816 437.822 69.3739 437.822 Q71.9317 437.822 73.4176 436.073 Q74.9222 434.305 74.9222 431.277 Q74.9222 428.23 73.4176 426.481 Q71.9317 424.732 69.3739 424.732 M76.9158 412.826 L76.9158 416.287 Q75.4864 415.61 74.0194 415.253 Q72.5712 414.895 71.1418 414.895 Q67.3803 414.895 65.3866 417.434 Q63.4118 419.973 63.1297 425.108 Q64.2394 423.472 65.9133 422.606 Q67.5872 421.722 69.5996 421.722 Q73.8313 421.722 76.2763 424.299 Q78.7402 426.857 78.7402 431.277 Q78.7402 435.603 76.1823 438.217 Q73.6244 440.831 69.3739 440.831 Q64.5027 440.831 61.926 437.107 Q59.3493 433.364 59.3493 426.274 Q59.3493 419.616 62.5091 415.666 Q65.6688 411.698 70.9914 411.698 Q72.4207 411.698 73.8689 411.98 Q75.336 412.262 76.9158 412.826 Z\" fill=\"#000000\" fill-rule=\"evenodd\" fill-opacity=\"1\" /><path clip-path=\"url(#clip370)\" d=\"M 0 0 M-82.2312 123.603 L-74.5924 123.603 L-74.5924 97.2379 L-82.9025 98.9045 L-82.9025 94.6453 L-74.6387 92.9786 L-69.9627 92.9786 L-69.9627 123.603 L-62.3239 123.603 L-62.3239 127.539 L-82.2312 127.539 L-82.2312 123.603 Z\" fill=\"#000000\" fill-rule=\"evenodd\" fill-opacity=\"1\" /><path clip-path=\"url(#clip370)\" d=\"M 0 0 M-57.2545 121.659 L-52.3703 121.659 L-52.3703 127.539 L-57.2545 127.539 L-57.2545 121.659 Z\" fill=\"#000000\" fill-rule=\"evenodd\" fill-opacity=\"1\" /><path clip-path=\"url(#clip370)\" d=\"M 0 0 M-37.3009 96.0573 Q-40.912 96.0573 -42.7407 99.6221 Q-44.5462 103.164 -44.5462 110.293 Q-44.5462 117.4 -42.7407 120.965 Q-40.912 124.506 -37.3009 124.506 Q-33.6666 124.506 -31.8611 120.965 Q-30.0324 117.4 -30.0324 110.293 Q-30.0324 103.164 -31.8611 99.6221 Q-33.6666 96.0573 -37.3009 96.0573 M-37.3009 92.3536 Q-31.4907 92.3536 -28.4352 96.9601 Q-25.3565 101.543 -25.3565 110.293 Q-25.3565 119.02 -28.4352 123.627 Q-31.4907 128.21 -37.3009 128.21 Q-43.111 128.21 -46.1897 123.627 Q-49.2453 119.02 -49.2453 110.293 Q-49.2453 101.543 -46.1897 96.9601 Q-43.111 92.3536 -37.3009 92.3536 Z\" fill=\"#000000\" fill-rule=\"evenodd\" fill-opacity=\"1\" /><path clip-path=\"url(#clip370)\" d=\"M 0 0 M7.88406 102.076 L-2.69459 112.701 L7.88406 123.279 L5.12944 126.08 L-5.4955 115.455 L-16.1204 126.08 L-18.8519 123.279 L-8.29641 112.701 L-18.8519 102.076 L-16.1204 99.2749 L-5.4955 109.9 L5.12944 99.2749 L7.88406 102.076 Z\" fill=\"#000000\" fill-rule=\"evenodd\" fill-opacity=\"1\" /><path clip-path=\"url(#clip370)\" d=\"M 0 0 M13.7637 123.603 L21.4025 123.603 L21.4025 97.2379 L13.0924 98.9045 L13.0924 94.6453 L21.3562 92.9786 L26.0321 92.9786 L26.0321 123.603 L33.671 123.603 L33.671 127.539 L13.7637 127.539 L13.7637 123.603 Z\" fill=\"#000000\" fill-rule=\"evenodd\" fill-opacity=\"1\" /><path clip-path=\"url(#clip370)\" d=\"M 0 0 M48.7403 96.0573 Q45.1292 96.0573 43.3005 99.6221 Q41.495 103.164 41.495 110.293 Q41.495 117.4 43.3005 120.965 Q45.1292 124.506 48.7403 124.506 Q52.3746 124.506 54.1801 120.965 Q56.0088 117.4 56.0088 110.293 Q56.0088 103.164 54.1801 99.6221 Q52.3746 96.0573 48.7403 96.0573 M48.7403 92.3536 Q54.5505 92.3536 57.606 96.9601 Q60.6847 101.543 60.6847 110.293 Q60.6847 119.02 57.606 123.627 Q54.5505 128.21 48.7403 128.21 Q42.9302 128.21 39.8515 123.627 Q36.7959 119.02 36.7959 110.293 Q36.7959 101.543 39.8515 96.9601 Q42.9302 92.3536 48.7403 92.3536 Z\" fill=\"#000000\" fill-rule=\"evenodd\" fill-opacity=\"1\" /><path clip-path=\"url(#clip370)\" d=\"M 0 0 M60.6847 72.0482 L78.7402 72.0482 L78.7402 73.6657 L68.5463 100.128 L64.5779 100.128 L74.1699 75.2455 L60.6847 75.2455 L60.6847 72.0482 Z\" fill=\"#000000\" fill-rule=\"evenodd\" fill-opacity=\"1\" /><path clip-path=\"url(#clip370)\" d=\"M 0 0 M822.678 12.096 L873.841 12.096 L873.841 18.9825 L852.371 18.9825 L852.371 72.576 L844.148 72.576 L844.148 18.9825 L822.678 18.9825 L822.678 12.096 Z\" fill=\"#000000\" fill-rule=\"evenodd\" fill-opacity=\"1\" /><path clip-path=\"url(#clip370)\" d=\"M 0 0 M895.756 34.1734 Q894.5 33.4443 893.002 33.1202 Q891.543 32.7556 889.761 32.7556 Q883.441 32.7556 880.039 36.8875 Q876.676 40.9789 876.676 48.6757 L876.676 72.576 L869.182 72.576 L869.182 27.2059 L876.676 27.2059 L876.676 34.2544 Q879.026 30.1225 882.793 28.1376 Q886.561 26.1121 891.948 26.1121 Q892.718 26.1121 893.65 26.2337 Q894.581 26.3147 895.716 26.5172 L895.756 34.1734 Z\" fill=\"#000000\" fill-rule=\"evenodd\" fill-opacity=\"1\" /><path clip-path=\"url(#clip370)\" d=\"M 0 0 M924.194 49.7694 Q915.16 49.7694 911.676 51.8354 Q908.192 53.9013 908.192 58.8839 Q908.192 62.8538 910.785 65.2034 Q913.418 67.5124 917.915 67.5124 Q924.113 67.5124 927.839 63.1374 Q931.607 58.7219 931.607 51.4303 L931.607 49.7694 L924.194 49.7694 M939.06 46.6907 L939.06 72.576 L931.607 72.576 L931.607 65.6895 Q929.055 69.8214 925.247 71.8063 Q921.439 73.7508 915.93 73.7508 Q908.962 73.7508 904.83 69.8619 Q900.739 65.9325 900.739 59.3701 Q900.739 51.7138 905.843 47.825 Q910.988 43.9361 921.155 43.9361 L931.607 43.9361 L931.607 43.2069 Q931.607 38.0623 928.204 35.2672 Q924.842 32.4315 918.725 32.4315 Q914.836 32.4315 911.15 33.3632 Q907.463 34.295 904.061 36.1584 L904.061 29.2718 Q908.152 27.692 912 26.9223 Q915.849 26.1121 919.494 26.1121 Q929.338 26.1121 934.199 31.2163 Q939.06 36.3204 939.06 46.6907 Z\" fill=\"#000000\" fill-rule=\"evenodd\" fill-opacity=\"1\" /><path clip-path=\"url(#clip370)\" d=\"M 0 0 M979.529 28.9478 L979.529 35.9153 Q976.369 34.1734 973.169 33.3227 Q970.009 32.4315 966.769 32.4315 Q959.517 32.4315 955.507 37.0496 Q951.497 41.6271 951.497 49.9314 Q951.497 58.2358 955.507 62.8538 Q959.517 67.4314 966.769 67.4314 Q970.009 67.4314 973.169 66.5807 Q976.369 65.6895 979.529 63.9476 L979.529 70.8341 Q976.41 72.2924 973.047 73.0216 Q969.726 73.7508 965.958 73.7508 Q955.71 73.7508 949.674 67.3098 Q943.638 60.8689 943.638 49.9314 Q943.638 38.832 949.714 32.472 Q955.831 26.1121 966.444 26.1121 Q969.888 26.1121 973.169 26.8413 Q976.45 27.5299 979.529 28.9478 Z\" fill=\"#000000\" fill-rule=\"evenodd\" fill-opacity=\"1\" /><path clip-path=\"url(#clip370)\" d=\"M 0 0 M994.72 14.324 L994.72 27.2059 L1010.07 27.2059 L1010.07 32.9987 L994.72 32.9987 L994.72 57.6282 Q994.72 63.1779 996.219 64.7578 Q997.758 66.3376 1002.42 66.3376 L1010.07 66.3376 L1010.07 72.576 L1002.42 72.576 Q993.788 72.576 990.507 69.3758 Q987.226 66.1351 987.226 57.6282 L987.226 32.9987 L981.757 32.9987 L981.757 27.2059 L987.226 27.2059 L987.226 14.324 L994.72 14.324 Z\" fill=\"#000000\" fill-rule=\"evenodd\" fill-opacity=\"1\" /><path clip-path=\"url(#clip370)\" d=\"M 0 0 M1017.89 27.2059 L1025.34 27.2059 L1025.34 72.576 L1017.89 72.576 L1017.89 27.2059 M1017.89 9.54393 L1025.34 9.54393 L1025.34 18.9825 L1017.89 18.9825 L1017.89 9.54393 Z\" fill=\"#000000\" fill-rule=\"evenodd\" fill-opacity=\"1\" /><path clip-path=\"url(#clip370)\" d=\"M 0 0 M1050.74 32.4315 Q1044.75 32.4315 1041.26 37.1306 Q1037.78 41.7891 1037.78 49.9314 Q1037.78 58.0738 1041.22 62.7728 Q1044.71 67.4314 1050.74 67.4314 Q1056.7 67.4314 1060.18 62.7323 Q1063.67 58.0333 1063.67 49.9314 Q1063.67 41.8701 1060.18 37.1711 Q1056.7 32.4315 1050.74 32.4315 M1050.74 26.1121 Q1060.47 26.1121 1066.02 32.4315 Q1071.57 38.7509 1071.57 49.9314 Q1071.57 61.0714 1066.02 67.4314 Q1060.47 73.7508 1050.74 73.7508 Q1040.98 73.7508 1035.43 67.4314 Q1029.92 61.0714 1029.92 49.9314 Q1029.92 38.7509 1035.43 32.4315 Q1040.98 26.1121 1050.74 26.1121 Z\" fill=\"#000000\" fill-rule=\"evenodd\" fill-opacity=\"1\" /><path clip-path=\"url(#clip370)\" d=\"M 0 0 M1117.1 45.1919 L1117.1 72.576 L1109.64 72.576 L1109.64 45.4349 Q1109.64 38.994 1107.13 35.7938 Q1104.62 32.5936 1099.6 32.5936 Q1093.56 32.5936 1090.08 36.4419 Q1086.59 40.2903 1086.59 46.9338 L1086.59 72.576 L1079.1 72.576 L1079.1 27.2059 L1086.59 27.2059 L1086.59 34.2544 Q1089.27 30.163 1092.87 28.1376 Q1096.52 26.1121 1101.26 26.1121 Q1109.08 26.1121 1113.09 30.9732 Q1117.1 35.7938 1117.1 45.1919 Z\" fill=\"#000000\" fill-rule=\"evenodd\" fill-opacity=\"1\" /><path clip-path=\"url(#clip370)\" d=\"M 0 0 M1121.15 46.5287 L1142.98 46.5287 L1142.98 53.1722 L1121.15 53.1722 L1121.15 46.5287 Z\" fill=\"#000000\" fill-rule=\"evenodd\" fill-opacity=\"1\" /><path clip-path=\"url(#clip370)\" d=\"M 0 0 M1180.66 34.0924 L1180.66 9.54393 L1188.11 9.54393 L1188.11 72.576 L1180.66 72.576 L1180.66 65.7705 Q1178.31 69.8214 1174.7 71.8063 Q1171.14 73.7508 1166.11 73.7508 Q1157.89 73.7508 1152.71 67.1883 Q1147.56 60.6258 1147.56 49.9314 Q1147.56 39.2371 1152.71 32.6746 Q1157.89 26.1121 1166.11 26.1121 Q1171.14 26.1121 1174.7 28.0971 Q1178.31 30.0415 1180.66 34.0924 M1155.26 49.9314 Q1155.26 58.1548 1158.62 62.8538 Q1162.02 67.5124 1167.94 67.5124 Q1173.85 67.5124 1177.25 62.8538 Q1180.66 58.1548 1180.66 49.9314 Q1180.66 41.7081 1177.25 37.0496 Q1173.85 32.3505 1167.94 32.3505 Q1162.02 32.3505 1158.62 37.0496 Q1155.26 41.7081 1155.26 49.9314 Z\" fill=\"#000000\" fill-rule=\"evenodd\" fill-opacity=\"1\" /><path clip-path=\"url(#clip370)\" d=\"M 0 0 M1195.93 27.2059 L1203.38 27.2059 L1203.38 72.576 L1195.93 72.576 L1195.93 27.2059 M1195.93 9.54393 L1203.38 9.54393 L1203.38 18.9825 L1195.93 18.9825 L1195.93 9.54393 Z\" fill=\"#000000\" fill-rule=\"evenodd\" fill-opacity=\"1\" /><path clip-path=\"url(#clip370)\" d=\"M 0 0 M1240.12 28.5427 L1240.12 35.5912 Q1236.96 33.9709 1233.56 33.1607 Q1230.16 32.3505 1226.51 32.3505 Q1220.96 32.3505 1218.17 34.0519 Q1215.41 35.7533 1215.41 39.156 Q1215.41 41.7486 1217.4 43.2475 Q1219.38 44.7058 1225.38 46.0426 L1227.93 46.6097 Q1235.87 48.3111 1239.19 51.4303 Q1242.55 54.509 1242.55 60.0587 Q1242.55 66.3781 1237.53 70.0644 Q1232.55 73.7508 1223.8 73.7508 Q1220.15 73.7508 1216.18 73.0216 Q1212.25 72.3329 1207.88 70.9151 L1207.88 63.2184 Q1212.01 65.3654 1216.02 66.4591 Q1220.03 67.5124 1223.96 67.5124 Q1229.23 67.5124 1232.06 65.73 Q1234.9 63.9071 1234.9 60.6258 Q1234.9 57.5877 1232.83 55.9673 Q1230.81 54.3469 1223.88 52.8481 L1221.29 52.2405 Q1214.36 50.7821 1211.28 47.7845 Q1208.2 44.7463 1208.2 39.4801 Q1208.2 33.0797 1212.74 29.5959 Q1217.28 26.1121 1225.62 26.1121 Q1229.75 26.1121 1233.4 26.7198 Q1237.04 27.3274 1240.12 28.5427 Z\" fill=\"#000000\" fill-rule=\"evenodd\" fill-opacity=\"1\" /><path clip-path=\"url(#clip370)\" d=\"M 0 0 M1257.58 65.7705 L1257.58 89.8329 L1250.09 89.8329 L1250.09 27.2059 L1257.58 27.2059 L1257.58 34.0924 Q1259.93 30.0415 1263.5 28.0971 Q1267.1 26.1121 1272.09 26.1121 Q1280.35 26.1121 1285.49 32.6746 Q1290.68 39.2371 1290.68 49.9314 Q1290.68 60.6258 1285.49 67.1883 Q1280.35 73.7508 1272.09 73.7508 Q1267.1 73.7508 1263.5 71.8063 Q1259.93 69.8214 1257.58 65.7705 M1282.94 49.9314 Q1282.94 41.7081 1279.54 37.0496 Q1276.18 32.3505 1270.26 32.3505 Q1264.35 32.3505 1260.95 37.0496 Q1257.58 41.7081 1257.58 49.9314 Q1257.58 58.1548 1260.95 62.8538 Q1264.35 67.5124 1270.26 67.5124 Q1276.18 67.5124 1279.54 62.8538 Q1282.94 58.1548 1282.94 49.9314 Z\" fill=\"#000000\" fill-rule=\"evenodd\" fill-opacity=\"1\" /><path clip-path=\"url(#clip370)\" d=\"M 0 0 M1298.5 9.54393 L1305.95 9.54393 L1305.95 72.576 L1298.5 72.576 L1298.5 9.54393 Z\" fill=\"#000000\" fill-rule=\"evenodd\" fill-opacity=\"1\" /><path clip-path=\"url(#clip370)\" d=\"M 0 0 M1334.39 49.7694 Q1325.35 49.7694 1321.87 51.8354 Q1318.39 53.9013 1318.39 58.8839 Q1318.39 62.8538 1320.98 65.2034 Q1323.61 67.5124 1328.11 67.5124 Q1334.31 67.5124 1338.03 63.1374 Q1341.8 58.7219 1341.8 51.4303 L1341.8 49.7694 L1334.39 49.7694 M1349.25 46.6907 L1349.25 72.576 L1341.8 72.576 L1341.8 65.6895 Q1339.25 69.8214 1335.44 71.8063 Q1331.63 73.7508 1326.12 73.7508 Q1319.16 73.7508 1315.02 69.8619 Q1310.93 65.9325 1310.93 59.3701 Q1310.93 51.7138 1316.04 47.825 Q1321.18 43.9361 1331.35 43.9361 L1341.8 43.9361 L1341.8 43.2069 Q1341.8 38.0623 1338.4 35.2672 Q1335.04 32.4315 1328.92 32.4315 Q1325.03 32.4315 1321.34 33.3632 Q1317.66 34.295 1314.26 36.1584 L1314.26 29.2718 Q1318.35 27.692 1322.19 26.9223 Q1326.04 26.1121 1329.69 26.1121 Q1339.53 26.1121 1344.39 31.2163 Q1349.25 36.3204 1349.25 46.6907 Z\" fill=\"#000000\" fill-rule=\"evenodd\" fill-opacity=\"1\" /><path clip-path=\"url(#clip370)\" d=\"M 0 0 M1389.72 28.9478 L1389.72 35.9153 Q1386.56 34.1734 1383.36 33.3227 Q1380.2 32.4315 1376.96 32.4315 Q1369.71 32.4315 1365.7 37.0496 Q1361.69 41.6271 1361.69 49.9314 Q1361.69 58.2358 1365.7 62.8538 Q1369.71 67.4314 1376.96 67.4314 Q1380.2 67.4314 1383.36 66.5807 Q1386.56 65.6895 1389.72 63.9476 L1389.72 70.8341 Q1386.6 72.2924 1383.24 73.0216 Q1379.92 73.7508 1376.15 73.7508 Q1365.9 73.7508 1359.87 67.3098 Q1353.83 60.8689 1353.83 49.9314 Q1353.83 38.832 1359.91 32.472 Q1366.03 26.1121 1376.64 26.1121 Q1380.08 26.1121 1383.36 26.8413 Q1386.64 27.5299 1389.72 28.9478 Z\" fill=\"#000000\" fill-rule=\"evenodd\" fill-opacity=\"1\" /><path clip-path=\"url(#clip370)\" d=\"M 0 0 M1436.35 48.0275 L1436.35 51.6733 L1402.08 51.6733 Q1402.56 59.3701 1406.7 63.421 Q1410.87 67.4314 1418.28 67.4314 Q1422.58 67.4314 1426.59 66.3781 Q1430.64 65.3249 1434.61 63.2184 L1434.61 70.267 Q1430.6 71.9684 1426.38 72.8596 Q1422.17 73.7508 1417.84 73.7508 Q1406.98 73.7508 1400.62 67.4314 Q1394.3 61.1119 1394.3 50.3365 Q1394.3 39.1965 1400.3 32.6746 Q1406.33 26.1121 1416.54 26.1121 Q1425.7 26.1121 1431 32.0264 Q1436.35 37.9003 1436.35 48.0275 M1428.9 45.84 Q1428.81 39.7232 1425.45 36.0774 Q1422.13 32.4315 1416.62 32.4315 Q1410.38 32.4315 1406.62 35.9558 Q1402.89 39.4801 1402.32 45.8805 L1428.9 45.84 Z\" fill=\"#000000\" fill-rule=\"evenodd\" fill-opacity=\"1\" /><path clip-path=\"url(#clip370)\" d=\"M 0 0 M1479.49 35.9153 Q1482.29 30.8922 1486.18 28.5022 Q1490.06 26.1121 1495.33 26.1121 Q1502.42 26.1121 1506.27 31.0947 Q1510.12 36.0368 1510.12 45.1919 L1510.12 72.576 L1502.62 72.576 L1502.62 45.4349 Q1502.62 38.913 1500.31 35.7533 Q1498 32.5936 1493.26 32.5936 Q1487.47 32.5936 1484.11 36.4419 Q1480.75 40.2903 1480.75 46.9338 L1480.75 72.576 L1473.25 72.576 L1473.25 45.4349 Q1473.25 38.8725 1470.94 35.7533 Q1468.64 32.5936 1463.81 32.5936 Q1458.1 32.5936 1454.74 36.4824 Q1451.38 40.3308 1451.38 46.9338 L1451.38 72.576 L1443.88 72.576 L1443.88 27.2059 L1451.38 27.2059 L1451.38 34.2544 Q1453.93 30.082 1457.5 28.0971 Q1461.06 26.1121 1465.96 26.1121 Q1470.9 26.1121 1474.35 28.6237 Q1477.83 31.1352 1479.49 35.9153 Z\" fill=\"#000000\" fill-rule=\"evenodd\" fill-opacity=\"1\" /><path clip-path=\"url(#clip370)\" d=\"M 0 0 M1556.74 48.0275 L1556.74 51.6733 L1522.47 51.6733 Q1522.96 59.3701 1527.09 63.421 Q1531.26 67.4314 1538.68 67.4314 Q1542.97 67.4314 1546.98 66.3781 Q1551.03 65.3249 1555 63.2184 L1555 70.267 Q1550.99 71.9684 1546.78 72.8596 Q1542.56 73.7508 1538.23 73.7508 Q1527.37 73.7508 1521.01 67.4314 Q1514.69 61.1119 1514.69 50.3365 Q1514.69 39.1965 1520.69 32.6746 Q1526.73 26.1121 1536.93 26.1121 Q1546.09 26.1121 1551.4 32.0264 Q1556.74 37.9003 1556.74 48.0275 M1549.29 45.84 Q1549.21 39.7232 1545.85 36.0774 Q1542.52 32.4315 1537.01 32.4315 Q1530.78 32.4315 1527.01 35.9558 Q1523.28 39.4801 1522.71 45.8805 L1549.29 45.84 Z\" fill=\"#000000\" fill-rule=\"evenodd\" fill-opacity=\"1\" /><path clip-path=\"url(#clip370)\" d=\"M 0 0 M1602.27 45.1919 L1602.27 72.576 L1594.82 72.576 L1594.82 45.4349 Q1594.82 38.994 1592.31 35.7938 Q1589.8 32.5936 1584.77 32.5936 Q1578.74 32.5936 1575.25 36.4419 Q1571.77 40.2903 1571.77 46.9338 L1571.77 72.576 L1564.28 72.576 L1564.28 27.2059 L1571.77 27.2059 L1571.77 34.2544 Q1574.44 30.163 1578.05 28.1376 Q1581.7 26.1121 1586.44 26.1121 Q1594.25 26.1121 1598.26 30.9732 Q1602.27 35.7938 1602.27 45.1919 Z\" fill=\"#000000\" fill-rule=\"evenodd\" fill-opacity=\"1\" /><path clip-path=\"url(#clip370)\" d=\"M 0 0 M1617.47 14.324 L1617.47 27.2059 L1632.82 27.2059 L1632.82 32.9987 L1617.47 32.9987 L1617.47 57.6282 Q1617.47 63.1779 1618.96 64.7578 Q1620.5 66.3376 1625.16 66.3376 L1632.82 66.3376 L1632.82 72.576 L1625.16 72.576 Q1616.53 72.576 1613.25 69.3758 Q1609.97 66.1351 1609.97 57.6282 L1609.97 32.9987 L1604.5 32.9987 L1604.5 27.2059 L1609.97 27.2059 L1609.97 14.324 L1617.47 14.324 Z\" fill=\"#000000\" fill-rule=\"evenodd\" fill-opacity=\"1\" /><path clip-path=\"url(#clip370)\" d=\"M 0 0 M877.555 1590.6 L887.135 1590.6 L899.262 1622.94 L911.452 1590.6 L921.032 1590.6 L921.032 1638.12 L914.762 1638.12 L914.762 1596.4 L902.508 1628.99 L896.047 1628.99 L883.793 1596.4 L883.793 1638.12 L877.555 1638.12 L877.555 1590.6 Z\" fill=\"#000000\" fill-rule=\"evenodd\" fill-opacity=\"1\" /><path clip-path=\"url(#clip370)\" d=\"M 0 0 M943.376 1620.2 Q936.278 1620.2 933.541 1621.83 Q930.804 1623.45 930.804 1627.37 Q930.804 1630.48 932.841 1632.33 Q934.91 1634.15 938.443 1634.15 Q943.312 1634.15 946.241 1630.71 Q949.201 1627.24 949.201 1621.51 L949.201 1620.2 L943.376 1620.2 M955.057 1617.79 L955.057 1638.12 L949.201 1638.12 L949.201 1632.71 Q947.195 1635.96 944.204 1637.52 Q941.212 1639.05 936.883 1639.05 Q931.408 1639.05 928.162 1635.99 Q924.947 1632.9 924.947 1627.75 Q924.947 1621.73 928.958 1618.68 Q933 1615.62 940.989 1615.62 L949.201 1615.62 L949.201 1615.05 Q949.201 1611.01 946.527 1608.81 Q943.885 1606.58 939.079 1606.58 Q936.024 1606.58 933.127 1607.31 Q930.231 1608.05 927.557 1609.51 L927.557 1604.1 Q930.772 1602.86 933.796 1602.25 Q936.819 1601.62 939.684 1601.62 Q947.418 1601.62 951.238 1605.63 Q955.057 1609.64 955.057 1617.79 Z\" fill=\"#000000\" fill-rule=\"evenodd\" fill-opacity=\"1\" /><path clip-path=\"url(#clip370)\" d=\"M 0 0 M990.832 1602.48 L977.942 1619.82 L991.501 1638.12 L984.594 1638.12 L974.218 1624.12 L963.842 1638.12 L956.935 1638.12 L970.78 1619.47 L958.113 1602.48 L965.019 1602.48 L974.472 1615.18 L983.926 1602.48 L990.832 1602.48 Z\" fill=\"#000000\" fill-rule=\"evenodd\" fill-opacity=\"1\" /><path clip-path=\"url(#clip370)\" d=\"M 0 0 M997.644 1602.48 L1003.5 1602.48 L1003.5 1638.12 L997.644 1638.12 L997.644 1602.48 M997.644 1588.6 L1003.5 1588.6 L1003.5 1596.01 L997.644 1596.01 L997.644 1588.6 Z\" fill=\"#000000\" fill-rule=\"evenodd\" fill-opacity=\"1\" /><path clip-path=\"url(#clip370)\" d=\"M 0 0 M1037.4 1609.32 Q1039.59 1605.37 1042.65 1603.49 Q1045.7 1601.62 1049.84 1601.62 Q1055.41 1601.62 1058.44 1605.53 Q1061.46 1609.41 1061.46 1616.61 L1061.46 1638.12 L1055.57 1638.12 L1055.57 1616.8 Q1055.57 1611.67 1053.76 1609.19 Q1051.94 1606.71 1048.22 1606.71 Q1043.67 1606.71 1041.03 1609.73 Q1038.38 1612.76 1038.38 1617.98 L1038.38 1638.12 L1032.5 1638.12 L1032.5 1616.8 Q1032.5 1611.64 1030.68 1609.19 Q1028.87 1606.71 1025.08 1606.71 Q1020.59 1606.71 1017.95 1609.76 Q1015.31 1612.79 1015.31 1617.98 L1015.31 1638.12 L1009.42 1638.12 L1009.42 1602.48 L1015.31 1602.48 L1015.31 1608.01 Q1017.31 1604.74 1020.11 1603.18 Q1022.92 1601.62 1026.77 1601.62 Q1030.65 1601.62 1033.36 1603.59 Q1036.09 1605.56 1037.4 1609.32 Z\" fill=\"#000000\" fill-rule=\"evenodd\" fill-opacity=\"1\" /><path clip-path=\"url(#clip370)\" d=\"M 0 0 M1067 1624.06 L1067 1602.48 L1072.85 1602.48 L1072.85 1623.83 Q1072.85 1628.89 1074.83 1631.44 Q1076.8 1633.95 1080.75 1633.95 Q1085.49 1633.95 1088.23 1630.93 Q1091 1627.91 1091 1622.69 L1091 1602.48 L1096.85 1602.48 L1096.85 1638.12 L1091 1638.12 L1091 1632.65 Q1088.86 1635.9 1086.03 1637.49 Q1083.23 1639.05 1079.51 1639.05 Q1073.36 1639.05 1070.18 1635.23 Q1067 1631.41 1067 1624.06 M1081.73 1601.62 L1081.73 1601.62 Z\" fill=\"#000000\" fill-rule=\"evenodd\" fill-opacity=\"1\" /><path clip-path=\"url(#clip370)\" d=\"M 0 0 M1130.75 1609.32 Q1132.95 1605.37 1136 1603.49 Q1139.06 1601.62 1143.2 1601.62 Q1148.77 1601.62 1151.79 1605.53 Q1154.81 1609.41 1154.81 1616.61 L1154.81 1638.12 L1148.92 1638.12 L1148.92 1616.8 Q1148.92 1611.67 1147.11 1609.19 Q1145.3 1606.71 1141.57 1606.71 Q1137.02 1606.71 1134.38 1609.73 Q1131.74 1612.76 1131.74 1617.98 L1131.74 1638.12 L1125.85 1638.12 L1125.85 1616.8 Q1125.85 1611.64 1124.03 1609.19 Q1122.22 1606.71 1118.43 1606.71 Q1113.95 1606.71 1111.3 1609.76 Q1108.66 1612.79 1108.66 1617.98 L1108.66 1638.12 L1102.77 1638.12 L1102.77 1602.48 L1108.66 1602.48 L1108.66 1608.01 Q1110.67 1604.74 1113.47 1603.18 Q1116.27 1601.62 1120.12 1601.62 Q1124 1601.62 1126.71 1603.59 Q1129.45 1605.56 1130.75 1609.32 Z\" fill=\"#000000\" fill-rule=\"evenodd\" fill-opacity=\"1\" /><path clip-path=\"url(#clip370)\" d=\"M 0 0 M1205.13 1607.89 L1205.13 1588.6 L1210.99 1588.6 L1210.99 1638.12 L1205.13 1638.12 L1205.13 1632.78 Q1203.29 1635.96 1200.46 1637.52 Q1197.65 1639.05 1193.71 1639.05 Q1187.25 1639.05 1183.17 1633.89 Q1179.13 1628.73 1179.13 1620.33 Q1179.13 1611.93 1183.17 1606.77 Q1187.25 1601.62 1193.71 1601.62 Q1197.65 1601.62 1200.46 1603.18 Q1203.29 1604.7 1205.13 1607.89 M1185.18 1620.33 Q1185.18 1626.79 1187.82 1630.48 Q1190.49 1634.15 1195.14 1634.15 Q1199.79 1634.15 1202.46 1630.48 Q1205.13 1626.79 1205.13 1620.33 Q1205.13 1613.87 1202.46 1610.21 Q1199.79 1606.52 1195.14 1606.52 Q1190.49 1606.52 1187.82 1610.21 Q1185.18 1613.87 1185.18 1620.33 Z\" fill=\"#000000\" fill-rule=\"evenodd\" fill-opacity=\"1\" /><path clip-path=\"url(#clip370)\" d=\"M 0 0 M1247.62 1618.84 L1247.62 1621.7 L1220.7 1621.7 Q1221.08 1627.75 1224.33 1630.93 Q1227.6 1634.08 1233.43 1634.08 Q1236.8 1634.08 1239.95 1633.25 Q1243.14 1632.43 1246.26 1630.77 L1246.26 1636.31 Q1243.11 1637.65 1239.8 1638.35 Q1236.48 1639.05 1233.08 1639.05 Q1224.55 1639.05 1219.55 1634.08 Q1214.59 1629.12 1214.59 1620.65 Q1214.59 1611.9 1219.3 1606.77 Q1224.04 1601.62 1232.06 1601.62 Q1239.25 1601.62 1243.42 1606.26 Q1247.62 1610.88 1247.62 1618.84 M1241.77 1617.12 Q1241.7 1612.31 1239.06 1609.45 Q1236.45 1606.58 1232.12 1606.58 Q1227.22 1606.58 1224.26 1609.35 Q1221.33 1612.12 1220.89 1617.15 L1241.77 1617.12 Z\" fill=\"#000000\" fill-rule=\"evenodd\" fill-opacity=\"1\" /><path clip-path=\"url(#clip370)\" d=\"M 0 0 M1271.81 1588.6 L1271.81 1593.47 L1266.21 1593.47 Q1263.06 1593.47 1261.82 1594.74 Q1260.61 1596.01 1260.61 1599.32 L1260.61 1602.48 L1270.26 1602.48 L1270.26 1607.03 L1260.61 1607.03 L1260.61 1638.12 L1254.72 1638.12 L1254.72 1607.03 L1249.12 1607.03 L1249.12 1602.48 L1254.72 1602.48 L1254.72 1599.99 Q1254.72 1594.04 1257.49 1591.34 Q1260.26 1588.6 1266.28 1588.6 L1271.81 1588.6 Z\" fill=\"#000000\" fill-rule=\"evenodd\" fill-opacity=\"1\" /><path clip-path=\"url(#clip370)\" d=\"M 0 0 M1277.96 1588.6 L1283.81 1588.6 L1283.81 1638.12 L1277.96 1638.12 L1277.96 1588.6 Z\" fill=\"#000000\" fill-rule=\"evenodd\" fill-opacity=\"1\" /><path clip-path=\"url(#clip370)\" d=\"M 0 0 M1320.45 1618.84 L1320.45 1621.7 L1293.52 1621.7 Q1293.9 1627.75 1297.15 1630.93 Q1300.43 1634.08 1306.25 1634.08 Q1309.63 1634.08 1312.78 1633.25 Q1315.96 1632.43 1319.08 1630.77 L1319.08 1636.31 Q1315.93 1637.65 1312.62 1638.35 Q1309.31 1639.05 1305.9 1639.05 Q1297.37 1639.05 1292.38 1634.08 Q1287.41 1629.12 1287.41 1620.65 Q1287.41 1611.9 1292.12 1606.77 Q1296.86 1601.62 1304.88 1601.62 Q1312.08 1601.62 1316.25 1606.26 Q1320.45 1610.88 1320.45 1618.84 M1314.59 1617.12 Q1314.53 1612.31 1311.89 1609.45 Q1309.28 1606.58 1304.95 1606.58 Q1300.05 1606.58 1297.09 1609.35 Q1294.16 1612.12 1293.71 1617.15 L1314.59 1617.12 Z\" fill=\"#000000\" fill-rule=\"evenodd\" fill-opacity=\"1\" /><path clip-path=\"url(#clip370)\" d=\"M 0 0 M1352.25 1603.84 L1352.25 1609.32 Q1349.76 1607.95 1347.25 1607.28 Q1344.77 1606.58 1342.22 1606.58 Q1336.52 1606.58 1333.37 1610.21 Q1330.22 1613.81 1330.22 1620.33 Q1330.22 1626.86 1333.37 1630.48 Q1336.52 1634.08 1342.22 1634.08 Q1344.77 1634.08 1347.25 1633.41 Q1349.76 1632.71 1352.25 1631.34 L1352.25 1636.76 Q1349.79 1637.9 1347.15 1638.47 Q1344.54 1639.05 1341.58 1639.05 Q1333.53 1639.05 1328.79 1633.99 Q1324.05 1628.93 1324.05 1620.33 Q1324.05 1611.61 1328.82 1606.61 Q1333.63 1601.62 1341.96 1601.62 Q1344.67 1601.62 1347.25 1602.19 Q1349.83 1602.73 1352.25 1603.84 Z\" fill=\"#000000\" fill-rule=\"evenodd\" fill-opacity=\"1\" /><path clip-path=\"url(#clip370)\" d=\"M 0 0 M1364.18 1592.35 L1364.18 1602.48 L1376.24 1602.48 L1376.24 1607.03 L1364.18 1607.03 L1364.18 1626.38 Q1364.18 1630.74 1365.36 1631.98 Q1366.57 1633.22 1370.23 1633.22 L1376.24 1633.22 L1376.24 1638.12 L1370.23 1638.12 Q1363.45 1638.12 1360.87 1635.61 Q1358.29 1633.06 1358.29 1626.38 L1358.29 1607.03 L1354 1607.03 L1354 1602.48 L1358.29 1602.48 L1358.29 1592.35 L1364.18 1592.35 Z\" fill=\"#000000\" fill-rule=\"evenodd\" fill-opacity=\"1\" /><path clip-path=\"url(#clip370)\" d=\"M 0 0 M1382.39 1602.48 L1388.24 1602.48 L1388.24 1638.12 L1382.39 1638.12 L1382.39 1602.48 M1382.39 1588.6 L1388.24 1588.6 L1388.24 1596.01 L1382.39 1596.01 L1382.39 1588.6 Z\" fill=\"#000000\" fill-rule=\"evenodd\" fill-opacity=\"1\" /><path clip-path=\"url(#clip370)\" d=\"M 0 0 M1408.2 1606.58 Q1403.49 1606.58 1400.75 1610.27 Q1398.01 1613.93 1398.01 1620.33 Q1398.01 1626.73 1400.72 1630.42 Q1403.46 1634.08 1408.2 1634.08 Q1412.88 1634.08 1415.62 1630.39 Q1418.35 1626.7 1418.35 1620.33 Q1418.35 1614 1415.62 1610.31 Q1412.88 1606.58 1408.2 1606.58 M1408.2 1601.62 Q1415.84 1601.62 1420.2 1606.58 Q1424.56 1611.55 1424.56 1620.33 Q1424.56 1629.08 1420.2 1634.08 Q1415.84 1639.05 1408.2 1639.05 Q1400.53 1639.05 1396.17 1634.08 Q1391.84 1629.08 1391.84 1620.33 Q1391.84 1611.55 1396.17 1606.58 Q1400.53 1601.62 1408.2 1601.62 Z\" fill=\"#000000\" fill-rule=\"evenodd\" fill-opacity=\"1\" /><path clip-path=\"url(#clip370)\" d=\"M 0 0 M1460.34 1616.61 L1460.34 1638.12 L1454.48 1638.12 L1454.48 1616.8 Q1454.48 1611.74 1452.51 1609.22 Q1450.53 1606.71 1446.59 1606.71 Q1441.84 1606.71 1439.11 1609.73 Q1436.37 1612.76 1436.37 1617.98 L1436.37 1638.12 L1430.48 1638.12 L1430.48 1602.48 L1436.37 1602.48 L1436.37 1608.01 Q1438.47 1604.8 1441.3 1603.21 Q1444.17 1601.62 1447.89 1601.62 Q1454.03 1601.62 1457.18 1605.44 Q1460.34 1609.22 1460.34 1616.61 Z\" fill=\"#000000\" fill-rule=\"evenodd\" fill-opacity=\"1\" /><path clip-path=\"url(#clip370)\" d=\"M 0 0 M1486.66 1588.6 L1500.15 1588.6 L1500.15 1593.15 L1492.51 1593.15 L1492.51 1642.17 L1500.15 1642.17 L1500.15 1646.72 L1486.66 1646.72 L1486.66 1588.6 Z\" fill=\"#000000\" fill-rule=\"evenodd\" fill-opacity=\"1\" /><path clip-path=\"url(#clip370)\" d=\"M 0 0 M1534.05 1609.32 Q1536.25 1605.37 1539.3 1603.49 Q1542.36 1601.62 1546.49 1601.62 Q1552.06 1601.62 1555.09 1605.53 Q1558.11 1609.41 1558.11 1616.61 L1558.11 1638.12 L1552.22 1638.12 L1552.22 1616.8 Q1552.22 1611.67 1550.41 1609.19 Q1548.6 1606.71 1544.87 1606.71 Q1540.32 1606.71 1537.68 1609.73 Q1535.04 1612.76 1535.04 1617.98 L1535.04 1638.12 L1529.15 1638.12 L1529.15 1616.8 Q1529.15 1611.64 1527.33 1609.19 Q1525.52 1606.71 1521.73 1606.71 Q1517.24 1606.71 1514.6 1609.76 Q1511.96 1612.79 1511.96 1617.98 L1511.96 1638.12 L1506.07 1638.12 L1506.07 1602.48 L1511.96 1602.48 L1511.96 1608.01 Q1513.97 1604.74 1516.77 1603.18 Q1519.57 1601.62 1523.42 1601.62 Q1527.3 1601.62 1530.01 1603.59 Q1532.74 1605.56 1534.05 1609.32 Z\" fill=\"#000000\" fill-rule=\"evenodd\" fill-opacity=\"1\" /><path clip-path=\"url(#clip370)\" d=\"M 0 0 M1577.94 1588.6 L1577.94 1646.72 L1564.45 1646.72 L1564.45 1642.17 L1572.05 1642.17 L1572.05 1593.15 L1564.45 1593.15 L1564.45 1588.6 L1577.94 1588.6 Z\" fill=\"#000000\" fill-rule=\"evenodd\" fill-opacity=\"1\" /><path clip-path=\"url(#clip370)\" d=\"M 0 0 M-169.882 963.703 L-169.882 923.503 L-164.471 923.503 L-164.471 940.372 L-122.362 940.372 L-122.362 946.833 L-164.471 946.833 L-164.471 963.703 L-169.882 963.703 Z\" fill=\"#000000\" fill-rule=\"evenodd\" fill-opacity=\"1\" /><path clip-path=\"url(#clip370)\" d=\"M 0 0 M-152.536 906.284 Q-153.109 907.271 -153.363 908.448 Q-153.65 909.594 -153.65 910.995 Q-153.65 915.96 -150.403 918.633 Q-147.188 921.275 -141.141 921.275 L-122.362 921.275 L-122.362 927.163 L-158.01 927.163 L-158.01 921.275 L-152.472 921.275 Q-155.718 919.429 -157.278 916.469 Q-158.87 913.509 -158.87 909.276 Q-158.87 908.671 -158.774 907.939 Q-158.71 907.207 -158.551 906.316 L-152.536 906.284 Z\" fill=\"#000000\" fill-rule=\"evenodd\" fill-opacity=\"1\" /><path clip-path=\"url(#clip370)\" d=\"M 0 0 M-140.282 883.94 Q-140.282 891.038 -138.658 893.775 Q-137.035 896.513 -133.12 896.513 Q-130.001 896.513 -128.155 894.476 Q-126.341 892.407 -126.341 888.874 Q-126.341 884.004 -129.778 881.076 Q-133.248 878.116 -138.977 878.116 L-140.282 878.116 L-140.282 883.94 M-142.701 872.259 L-122.362 872.259 L-122.362 878.116 L-127.773 878.116 Q-124.527 880.121 -122.967 883.113 Q-121.439 886.105 -121.439 890.433 Q-121.439 895.908 -124.495 899.154 Q-127.582 902.369 -132.738 902.369 Q-138.754 902.369 -141.809 898.359 Q-144.865 894.316 -144.865 886.327 L-144.865 878.116 L-145.438 878.116 Q-149.48 878.116 -151.676 880.789 Q-153.904 883.431 -153.904 888.237 Q-153.904 891.293 -153.172 894.189 Q-152.44 897.085 -150.976 899.759 L-156.387 899.759 Q-157.628 896.544 -158.233 893.521 Q-158.87 890.497 -158.87 887.632 Q-158.87 879.898 -154.859 876.079 Q-150.849 872.259 -142.701 872.259 Z\" fill=\"#000000\" fill-rule=\"evenodd\" fill-opacity=\"1\" /><path clip-path=\"url(#clip370)\" d=\"M 0 0 M-156.642 840.462 L-151.167 840.462 Q-152.536 842.945 -153.204 845.46 Q-153.904 847.942 -153.904 850.488 Q-153.904 856.186 -150.276 859.337 Q-146.679 862.488 -140.154 862.488 Q-133.629 862.488 -130.001 859.337 Q-126.404 856.186 -126.404 850.488 Q-126.404 847.942 -127.073 845.46 Q-127.773 842.945 -129.142 840.462 L-123.731 840.462 Q-122.585 842.913 -122.012 845.555 Q-121.439 848.165 -121.439 851.125 Q-121.439 859.178 -126.5 863.92 Q-131.561 868.663 -140.154 868.663 Q-148.875 868.663 -153.872 863.888 Q-158.87 859.082 -158.87 850.743 Q-158.87 848.038 -158.297 845.46 Q-157.756 842.881 -156.642 840.462 Z\" fill=\"#000000\" fill-rule=\"evenodd\" fill-opacity=\"1\" /><path clip-path=\"url(#clip370)\" d=\"M 0 0 M-168.132 828.527 L-158.01 828.527 L-158.01 816.464 L-153.459 816.464 L-153.459 828.527 L-134.107 828.527 Q-129.746 828.527 -128.505 827.349 Q-127.264 826.14 -127.264 822.479 L-127.264 816.464 L-122.362 816.464 L-122.362 822.479 Q-122.362 829.259 -124.877 831.837 Q-127.423 834.415 -134.107 834.415 L-153.459 834.415 L-153.459 838.712 L-158.01 838.712 L-158.01 834.415 L-168.132 834.415 L-168.132 828.527 Z\" fill=\"#000000\" fill-rule=\"evenodd\" fill-opacity=\"1\" /><path clip-path=\"url(#clip370)\" d=\"M 0 0 M-158.01 810.321 L-158.01 804.464 L-122.362 804.464 L-122.362 810.321 L-158.01 810.321 M-171.887 810.321 L-171.887 804.464 L-164.471 804.464 L-164.471 810.321 L-171.887 810.321 Z\" fill=\"#000000\" fill-rule=\"evenodd\" fill-opacity=\"1\" /><path clip-path=\"url(#clip370)\" d=\"M 0 0 M-153.904 784.508 Q-153.904 789.219 -150.212 791.956 Q-146.552 794.693 -140.154 794.693 Q-133.757 794.693 -130.065 791.988 Q-126.404 789.25 -126.404 784.508 Q-126.404 779.829 -130.097 777.092 Q-133.789 774.355 -140.154 774.355 Q-146.488 774.355 -150.18 777.092 Q-153.904 779.829 -153.904 784.508 M-158.87 784.508 Q-158.87 776.869 -153.904 772.509 Q-148.939 768.148 -140.154 768.148 Q-131.401 768.148 -126.404 772.509 Q-121.439 776.869 -121.439 784.508 Q-121.439 792.179 -126.404 796.539 Q-131.401 800.868 -140.154 800.868 Q-148.939 800.868 -153.904 796.539 Q-158.87 792.179 -158.87 784.508 Z\" fill=\"#000000\" fill-rule=\"evenodd\" fill-opacity=\"1\" /><path clip-path=\"url(#clip370)\" d=\"M 0 0 M-143.878 732.373 L-122.362 732.373 L-122.362 738.229 L-143.687 738.229 Q-148.748 738.229 -151.263 740.203 Q-153.777 742.176 -153.777 746.123 Q-153.777 750.865 -150.753 753.602 Q-147.73 756.34 -142.51 756.34 L-122.362 756.34 L-122.362 762.228 L-158.01 762.228 L-158.01 756.34 L-152.472 756.34 Q-155.687 754.239 -157.278 751.406 Q-158.87 748.542 -158.87 744.818 Q-158.87 738.675 -155.05 735.524 Q-151.263 732.373 -143.878 732.373 Z\" fill=\"#000000\" fill-rule=\"evenodd\" fill-opacity=\"1\" /><path clip-path=\"url(#clip370)\" d=\"M 0 0 M-171.887 706.051 L-171.887 692.555 L-167.336 692.555 L-167.336 700.194 L-118.32 700.194 L-118.32 692.555 L-113.768 692.555 L-113.768 706.051 L-171.887 706.051 Z\" fill=\"#000000\" fill-rule=\"evenodd\" fill-opacity=\"1\" /><path clip-path=\"url(#clip370)\" d=\"M 0 0 M-164.599 679.728 L-146.743 679.728 L-146.743 671.644 Q-146.743 667.156 -149.066 664.705 Q-151.39 662.255 -155.687 662.255 Q-159.952 662.255 -162.275 664.705 Q-164.599 667.156 -164.599 671.644 L-164.599 679.728 M-169.882 686.158 L-169.882 671.644 Q-169.882 663.655 -166.254 659.581 Q-162.657 655.475 -155.687 655.475 Q-148.653 655.475 -145.056 659.581 Q-141.459 663.655 -141.459 671.644 L-141.459 679.728 L-122.362 679.728 L-122.362 686.158 L-169.882 686.158 Z\" fill=\"#000000\" fill-rule=\"evenodd\" fill-opacity=\"1\" /><path clip-path=\"url(#clip370)\" d=\"M 0 0 M-140.282 636.06 Q-140.282 643.157 -138.658 645.895 Q-137.035 648.632 -133.12 648.632 Q-130.001 648.632 -128.155 646.595 Q-126.341 644.526 -126.341 640.993 Q-126.341 636.123 -129.778 633.195 Q-133.248 630.235 -138.977 630.235 L-140.282 630.235 L-140.282 636.06 M-142.701 624.379 L-122.362 624.379 L-122.362 630.235 L-127.773 630.235 Q-124.527 632.24 -122.967 635.232 Q-121.439 638.224 -121.439 642.553 Q-121.439 648.027 -124.495 651.274 Q-127.582 654.488 -132.738 654.488 Q-138.754 654.488 -141.809 650.478 Q-144.865 646.436 -144.865 638.447 L-144.865 630.235 L-145.438 630.235 Q-149.48 630.235 -151.676 632.909 Q-153.904 635.55 -153.904 640.356 Q-153.904 643.412 -153.172 646.308 Q-152.44 649.205 -150.976 651.878 L-156.387 651.878 Q-157.628 648.664 -158.233 645.64 Q-158.87 642.616 -158.87 639.752 Q-158.87 632.017 -154.859 628.198 Q-150.849 624.379 -142.701 624.379 Z\" fill=\"#000000\" fill-rule=\"evenodd\" fill-opacity=\"1\" /><path clip-path=\"url(#clip370)\" d=\"M 0 0 M-171.887 604.549 L-113.768 604.549 L-113.768 618.045 L-118.32 618.045 L-118.32 610.438 L-167.336 610.438 L-167.336 618.045 L-171.887 618.045 L-171.887 604.549 Z\" fill=\"#000000\" fill-rule=\"evenodd\" fill-opacity=\"1\" /><polyline clip-path=\"url(#clip372)\" style=\"stroke:#009af9; stroke-width:8; stroke-opacity:1; fill:none\" points=\"\n",
       "  166.42,1464.44 735.099,784.126 802.317,708.535 882.789,632.945 974.468,557.354 1082.28,481.764 1223.57,406.173 1422.9,330.583 1674.04,254.992 1964.03,179.402 \n",
       "  2289.08,103.811 \n",
       "  \"/>\n",
       "<circle clip-path=\"url(#clip372)\" cx=\"166.42\" cy=\"1464.44\" r=\"14\" fill=\"#009af9\" fill-rule=\"evenodd\" fill-opacity=\"1\" stroke=\"#000000\" stroke-opacity=\"1\" stroke-width=\"3.2\"/>\n",
       "<circle clip-path=\"url(#clip372)\" cx=\"735.099\" cy=\"784.126\" r=\"14\" fill=\"#009af9\" fill-rule=\"evenodd\" fill-opacity=\"1\" stroke=\"#000000\" stroke-opacity=\"1\" stroke-width=\"3.2\"/>\n",
       "<circle clip-path=\"url(#clip372)\" cx=\"802.317\" cy=\"708.535\" r=\"14\" fill=\"#009af9\" fill-rule=\"evenodd\" fill-opacity=\"1\" stroke=\"#000000\" stroke-opacity=\"1\" stroke-width=\"3.2\"/>\n",
       "<circle clip-path=\"url(#clip372)\" cx=\"882.789\" cy=\"632.945\" r=\"14\" fill=\"#009af9\" fill-rule=\"evenodd\" fill-opacity=\"1\" stroke=\"#000000\" stroke-opacity=\"1\" stroke-width=\"3.2\"/>\n",
       "<circle clip-path=\"url(#clip372)\" cx=\"974.468\" cy=\"557.354\" r=\"14\" fill=\"#009af9\" fill-rule=\"evenodd\" fill-opacity=\"1\" stroke=\"#000000\" stroke-opacity=\"1\" stroke-width=\"3.2\"/>\n",
       "<circle clip-path=\"url(#clip372)\" cx=\"1082.28\" cy=\"481.764\" r=\"14\" fill=\"#009af9\" fill-rule=\"evenodd\" fill-opacity=\"1\" stroke=\"#000000\" stroke-opacity=\"1\" stroke-width=\"3.2\"/>\n",
       "<circle clip-path=\"url(#clip372)\" cx=\"1223.57\" cy=\"406.173\" r=\"14\" fill=\"#009af9\" fill-rule=\"evenodd\" fill-opacity=\"1\" stroke=\"#000000\" stroke-opacity=\"1\" stroke-width=\"3.2\"/>\n",
       "<circle clip-path=\"url(#clip372)\" cx=\"1422.9\" cy=\"330.583\" r=\"14\" fill=\"#009af9\" fill-rule=\"evenodd\" fill-opacity=\"1\" stroke=\"#000000\" stroke-opacity=\"1\" stroke-width=\"3.2\"/>\n",
       "<circle clip-path=\"url(#clip372)\" cx=\"1674.04\" cy=\"254.992\" r=\"14\" fill=\"#009af9\" fill-rule=\"evenodd\" fill-opacity=\"1\" stroke=\"#000000\" stroke-opacity=\"1\" stroke-width=\"3.2\"/>\n",
       "<circle clip-path=\"url(#clip372)\" cx=\"1964.03\" cy=\"179.402\" r=\"14\" fill=\"#009af9\" fill-rule=\"evenodd\" fill-opacity=\"1\" stroke=\"#000000\" stroke-opacity=\"1\" stroke-width=\"3.2\"/>\n",
       "<circle clip-path=\"url(#clip372)\" cx=\"2289.08\" cy=\"103.811\" r=\"14\" fill=\"#009af9\" fill-rule=\"evenodd\" fill-opacity=\"1\" stroke=\"#000000\" stroke-opacity=\"1\" stroke-width=\"3.2\"/>\n",
       "<path clip-path=\"url(#clip370)\" d=\"\n",
       "M1982.03 267.472 L2280.76 267.472 L2280.76 146.512 L1982.03 146.512  Z\n",
       "  \" fill=\"#ffffff\" fill-rule=\"evenodd\" fill-opacity=\"1\"/>\n",
       "<polyline clip-path=\"url(#clip370)\" style=\"stroke:#000000; stroke-width:4; stroke-opacity:1; fill:none\" points=\"\n",
       "  1982.03,267.472 2280.76,267.472 2280.76,146.512 1982.03,146.512 1982.03,267.472 \n",
       "  \"/>\n",
       "<polyline clip-path=\"url(#clip370)\" style=\"stroke:#009af9; stroke-width:4; stroke-opacity:1; fill:none\" points=\"\n",
       "  2006.03,206.992 2150.03,206.992 \n",
       "  \"/>\n",
       "<circle clip-path=\"url(#clip370)\" cx=\"2090.03\" cy=\"206.992\" r=\"23\" fill=\"#009af9\" fill-rule=\"evenodd\" fill-opacity=\"1\" stroke=\"#000000\" stroke-opacity=\"1\" stroke-width=\"5.12\"/>\n",
       "<path clip-path=\"url(#clip370)\" d=\"M 0 0 M2174.03 188.254 L2183.84 188.254 L2183.84 191.564 L2178.29 191.564 L2178.29 227.212 L2183.84 227.212 L2183.84 230.522 L2174.03 230.522 L2174.03 188.254 Z\" fill=\"#000000\" fill-rule=\"evenodd\" fill-opacity=\"1\" /><path clip-path=\"url(#clip370)\" d=\"M 0 0 M2192.34 189.712 L2192.34 202.559 L2188.4 202.559 L2188.4 189.712 L2192.34 189.712 M2201.09 189.712 L2201.09 202.559 L2197.15 202.559 L2197.15 189.712 L2201.09 189.712 Z\" fill=\"#000000\" fill-rule=\"evenodd\" fill-opacity=\"1\" /><path clip-path=\"url(#clip370)\" d=\"M 0 0 M2209.58 189.712 L2209.58 202.559 L2205.65 202.559 L2205.65 189.712 L2209.58 189.712 M2218.33 189.712 L2218.33 202.559 L2214.4 202.559 L2214.4 189.712 L2218.33 189.712 Z\" fill=\"#000000\" fill-rule=\"evenodd\" fill-opacity=\"1\" /><path clip-path=\"url(#clip370)\" d=\"M 0 0 M2232.76 188.254 L2232.76 230.522 L2222.94 230.522 L2222.94 227.212 L2228.47 227.212 L2228.47 191.564 L2222.94 191.564 L2222.94 188.254 L2232.76 188.254 Z\" fill=\"#000000\" fill-rule=\"evenodd\" fill-opacity=\"1\" /></svg>\n"
      ],
      "image/svg+xml": [
       "<?xml version=\"1.0\" encoding=\"utf-8\"?>\n",
       "<svg xmlns=\"http://www.w3.org/2000/svg\" xmlns:xlink=\"http://www.w3.org/1999/xlink\" width=\"600\" height=\"400\" viewBox=\"0 0 2400 1600\">\n",
       "<defs>\n",
       "  <clipPath id=\"clip340\">\n",
       "    <rect x=\"0\" y=\"0\" width=\"2400\" height=\"1600\"/>\n",
       "  </clipPath>\n",
       "</defs>\n",
       "<path clip-path=\"url(#clip340)\" d=\"\n",
       "M0 1600 L2400 1600 L2400 0 L0 0  Z\n",
       "  \" fill=\"#ffffff\" fill-rule=\"evenodd\" fill-opacity=\"1\"/>\n",
       "<defs>\n",
       "  <clipPath id=\"clip341\">\n",
       "    <rect x=\"480\" y=\"0\" width=\"1681\" height=\"1600\"/>\n",
       "  </clipPath>\n",
       "</defs>\n",
       "<path clip-path=\"url(#clip340)\" d=\"\n",
       "M102.74 1505.26 L2352.76 1505.26 L2352.76 62.9921 L102.74 62.9921  Z\n",
       "  \" fill=\"#ffffff\" fill-rule=\"evenodd\" fill-opacity=\"1\"/>\n",
       "<defs>\n",
       "  <clipPath id=\"clip342\">\n",
       "    <rect x=\"102\" y=\"62\" width=\"2251\" height=\"1443\"/>\n",
       "  </clipPath>\n",
       "</defs>\n",
       "<polyline clip-path=\"url(#clip342)\" style=\"stroke:#000000; stroke-width:2; stroke-opacity:0.1; fill:none\" points=\"\n",
       "  166.42,1505.26 166.42,62.9921 \n",
       "  \"/>\n",
       "<polyline clip-path=\"url(#clip342)\" style=\"stroke:#000000; stroke-width:2; stroke-opacity:0.1; fill:none\" points=\"\n",
       "  583.522,1505.26 583.522,62.9921 \n",
       "  \"/>\n",
       "<polyline clip-path=\"url(#clip342)\" style=\"stroke:#000000; stroke-width:2; stroke-opacity:0.1; fill:none\" points=\"\n",
       "  1000.62,1505.26 1000.62,62.9921 \n",
       "  \"/>\n",
       "<polyline clip-path=\"url(#clip342)\" style=\"stroke:#000000; stroke-width:2; stroke-opacity:0.1; fill:none\" points=\"\n",
       "  1417.73,1505.26 1417.73,62.9921 \n",
       "  \"/>\n",
       "<polyline clip-path=\"url(#clip342)\" style=\"stroke:#000000; stroke-width:2; stroke-opacity:0.1; fill:none\" points=\"\n",
       "  1834.83,1505.26 1834.83,62.9921 \n",
       "  \"/>\n",
       "<polyline clip-path=\"url(#clip342)\" style=\"stroke:#000000; stroke-width:2; stroke-opacity:0.1; fill:none\" points=\"\n",
       "  2251.93,1505.26 2251.93,62.9921 \n",
       "  \"/>\n",
       "<polyline clip-path=\"url(#clip342)\" style=\"stroke:#000000; stroke-width:2; stroke-opacity:0.1; fill:none\" points=\"\n",
       "  102.74,1464.44 2352.76,1464.44 \n",
       "  \"/>\n",
       "<polyline clip-path=\"url(#clip342)\" style=\"stroke:#000000; stroke-width:2; stroke-opacity:0.1; fill:none\" points=\"\n",
       "  102.74,1124.28 2352.76,1124.28 \n",
       "  \"/>\n",
       "<polyline clip-path=\"url(#clip342)\" style=\"stroke:#000000; stroke-width:2; stroke-opacity:0.1; fill:none\" points=\"\n",
       "  102.74,784.126 2352.76,784.126 \n",
       "  \"/>\n",
       "<polyline clip-path=\"url(#clip342)\" style=\"stroke:#000000; stroke-width:2; stroke-opacity:0.1; fill:none\" points=\"\n",
       "  102.74,443.969 2352.76,443.969 \n",
       "  \"/>\n",
       "<polyline clip-path=\"url(#clip342)\" style=\"stroke:#000000; stroke-width:2; stroke-opacity:0.1; fill:none\" points=\"\n",
       "  102.74,103.811 2352.76,103.811 \n",
       "  \"/>\n",
       "<polyline clip-path=\"url(#clip340)\" style=\"stroke:#000000; stroke-width:4; stroke-opacity:1; fill:none\" points=\"\n",
       "  102.74,1505.26 2352.76,1505.26 \n",
       "  \"/>\n",
       "<polyline clip-path=\"url(#clip340)\" style=\"stroke:#000000; stroke-width:4; stroke-opacity:1; fill:none\" points=\"\n",
       "  102.74,1505.26 102.74,62.9921 \n",
       "  \"/>\n",
       "<polyline clip-path=\"url(#clip340)\" style=\"stroke:#000000; stroke-width:4; stroke-opacity:1; fill:none\" points=\"\n",
       "  166.42,1505.26 166.42,1487.95 \n",
       "  \"/>\n",
       "<polyline clip-path=\"url(#clip340)\" style=\"stroke:#000000; stroke-width:4; stroke-opacity:1; fill:none\" points=\"\n",
       "  583.522,1505.26 583.522,1487.95 \n",
       "  \"/>\n",
       "<polyline clip-path=\"url(#clip340)\" style=\"stroke:#000000; stroke-width:4; stroke-opacity:1; fill:none\" points=\"\n",
       "  1000.62,1505.26 1000.62,1487.95 \n",
       "  \"/>\n",
       "<polyline clip-path=\"url(#clip340)\" style=\"stroke:#000000; stroke-width:4; stroke-opacity:1; fill:none\" points=\"\n",
       "  1417.73,1505.26 1417.73,1487.95 \n",
       "  \"/>\n",
       "<polyline clip-path=\"url(#clip340)\" style=\"stroke:#000000; stroke-width:4; stroke-opacity:1; fill:none\" points=\"\n",
       "  1834.83,1505.26 1834.83,1487.95 \n",
       "  \"/>\n",
       "<polyline clip-path=\"url(#clip340)\" style=\"stroke:#000000; stroke-width:4; stroke-opacity:1; fill:none\" points=\"\n",
       "  2251.93,1505.26 2251.93,1487.95 \n",
       "  \"/>\n",
       "<polyline clip-path=\"url(#clip340)\" style=\"stroke:#000000; stroke-width:4; stroke-opacity:1; fill:none\" points=\"\n",
       "  102.74,1464.44 129.74,1464.44 \n",
       "  \"/>\n",
       "<polyline clip-path=\"url(#clip340)\" style=\"stroke:#000000; stroke-width:4; stroke-opacity:1; fill:none\" points=\"\n",
       "  102.74,1124.28 129.74,1124.28 \n",
       "  \"/>\n",
       "<polyline clip-path=\"url(#clip340)\" style=\"stroke:#000000; stroke-width:4; stroke-opacity:1; fill:none\" points=\"\n",
       "  102.74,784.126 129.74,784.126 \n",
       "  \"/>\n",
       "<polyline clip-path=\"url(#clip340)\" style=\"stroke:#000000; stroke-width:4; stroke-opacity:1; fill:none\" points=\"\n",
       "  102.74,443.969 129.74,443.969 \n",
       "  \"/>\n",
       "<polyline clip-path=\"url(#clip340)\" style=\"stroke:#000000; stroke-width:4; stroke-opacity:1; fill:none\" points=\"\n",
       "  102.74,103.811 129.74,103.811 \n",
       "  \"/>\n",
       "<path clip-path=\"url(#clip340)\" d=\"M 0 0 M134.429 1527.25 Q130.818 1527.25 128.989 1530.82 Q127.184 1534.36 127.184 1541.49 Q127.184 1548.59 128.989 1552.16 Q130.818 1555.7 134.429 1555.7 Q138.064 1555.7 139.869 1552.16 Q141.698 1548.59 141.698 1541.49 Q141.698 1534.36 139.869 1530.82 Q138.064 1527.25 134.429 1527.25 M134.429 1523.55 Q140.239 1523.55 143.295 1528.15 Q146.374 1532.74 146.374 1541.49 Q146.374 1550.21 143.295 1554.82 Q140.239 1559.4 134.429 1559.4 Q128.619 1559.4 125.54 1554.82 Q122.485 1550.21 122.485 1541.49 Q122.485 1532.74 125.54 1528.15 Q128.619 1523.55 134.429 1523.55 Z\" fill=\"#000000\" fill-rule=\"evenodd\" fill-opacity=\"1\" /><path clip-path=\"url(#clip340)\" d=\"M 0 0 M151.443 1552.85 L156.327 1552.85 L156.327 1558.73 L151.443 1558.73 L151.443 1552.85 Z\" fill=\"#000000\" fill-rule=\"evenodd\" fill-opacity=\"1\" /><path clip-path=\"url(#clip340)\" d=\"M 0 0 M171.397 1527.25 Q167.786 1527.25 165.957 1530.82 Q164.151 1534.36 164.151 1541.49 Q164.151 1548.59 165.957 1552.16 Q167.786 1555.7 171.397 1555.7 Q175.031 1555.7 176.836 1552.16 Q178.665 1548.59 178.665 1541.49 Q178.665 1534.36 176.836 1530.82 Q175.031 1527.25 171.397 1527.25 M171.397 1523.55 Q177.207 1523.55 180.262 1528.15 Q183.341 1532.74 183.341 1541.49 Q183.341 1550.21 180.262 1554.82 Q177.207 1559.4 171.397 1559.4 Q165.587 1559.4 162.508 1554.82 Q159.452 1550.21 159.452 1541.49 Q159.452 1532.74 162.508 1528.15 Q165.587 1523.55 171.397 1523.55 Z\" fill=\"#000000\" fill-rule=\"evenodd\" fill-opacity=\"1\" /><path clip-path=\"url(#clip340)\" d=\"M 0 0 M198.41 1527.25 Q194.799 1527.25 192.971 1530.82 Q191.165 1534.36 191.165 1541.49 Q191.165 1548.59 192.971 1552.16 Q194.799 1555.7 198.41 1555.7 Q202.045 1555.7 203.85 1552.16 Q205.679 1548.59 205.679 1541.49 Q205.679 1534.36 203.85 1530.82 Q202.045 1527.25 198.41 1527.25 M198.41 1523.55 Q204.221 1523.55 207.276 1528.15 Q210.355 1532.74 210.355 1541.49 Q210.355 1550.21 207.276 1554.82 Q204.221 1559.4 198.41 1559.4 Q192.6 1559.4 189.522 1554.82 Q186.466 1550.21 186.466 1541.49 Q186.466 1532.74 189.522 1528.15 Q192.6 1523.55 198.41 1523.55 Z\" fill=\"#000000\" fill-rule=\"evenodd\" fill-opacity=\"1\" /><path clip-path=\"url(#clip340)\" d=\"M 0 0 M552.029 1527.25 Q548.418 1527.25 546.59 1530.82 Q544.784 1534.36 544.784 1541.49 Q544.784 1548.59 546.59 1552.16 Q548.418 1555.7 552.029 1555.7 Q555.664 1555.7 557.469 1552.16 Q559.298 1548.59 559.298 1541.49 Q559.298 1534.36 557.469 1530.82 Q555.664 1527.25 552.029 1527.25 M552.029 1523.55 Q557.84 1523.55 560.895 1528.15 Q563.974 1532.74 563.974 1541.49 Q563.974 1550.21 560.895 1554.82 Q557.84 1559.4 552.029 1559.4 Q546.219 1559.4 543.141 1554.82 Q540.085 1550.21 540.085 1541.49 Q540.085 1532.74 543.141 1528.15 Q546.219 1523.55 552.029 1523.55 Z\" fill=\"#000000\" fill-rule=\"evenodd\" fill-opacity=\"1\" /><path clip-path=\"url(#clip340)\" d=\"M 0 0 M569.043 1552.85 L573.927 1552.85 L573.927 1558.73 L569.043 1558.73 L569.043 1552.85 Z\" fill=\"#000000\" fill-rule=\"evenodd\" fill-opacity=\"1\" /><path clip-path=\"url(#clip340)\" d=\"M 0 0 M588.997 1527.25 Q585.386 1527.25 583.557 1530.82 Q581.751 1534.36 581.751 1541.49 Q581.751 1548.59 583.557 1552.16 Q585.386 1555.7 588.997 1555.7 Q592.631 1555.7 594.437 1552.16 Q596.265 1548.59 596.265 1541.49 Q596.265 1534.36 594.437 1530.82 Q592.631 1527.25 588.997 1527.25 M588.997 1523.55 Q594.807 1523.55 597.862 1528.15 Q600.941 1532.74 600.941 1541.49 Q600.941 1550.21 597.862 1554.82 Q594.807 1559.4 588.997 1559.4 Q583.187 1559.4 580.108 1554.82 Q577.052 1550.21 577.052 1541.49 Q577.052 1532.74 580.108 1528.15 Q583.187 1523.55 588.997 1523.55 Z\" fill=\"#000000\" fill-rule=\"evenodd\" fill-opacity=\"1\" /><path clip-path=\"url(#clip340)\" d=\"M 0 0 M606.057 1524.17 L624.413 1524.17 L624.413 1528.11 L610.339 1528.11 L610.339 1536.58 Q611.358 1536.23 612.376 1536.07 Q613.395 1535.88 614.413 1535.88 Q620.2 1535.88 623.58 1539.06 Q626.96 1542.23 626.96 1547.64 Q626.96 1553.22 623.487 1556.32 Q620.015 1559.4 613.696 1559.4 Q611.52 1559.4 609.251 1559.03 Q607.006 1558.66 604.599 1557.92 L604.599 1553.22 Q606.682 1554.36 608.904 1554.91 Q611.126 1555.47 613.603 1555.47 Q617.608 1555.47 619.946 1553.36 Q622.284 1551.26 622.284 1547.64 Q622.284 1544.03 619.946 1541.93 Q617.608 1539.82 613.603 1539.82 Q611.728 1539.82 609.853 1540.24 Q608.001 1540.65 606.057 1541.53 L606.057 1524.17 Z\" fill=\"#000000\" fill-rule=\"evenodd\" fill-opacity=\"1\" /><path clip-path=\"url(#clip340)\" d=\"M 0 0 M969.248 1527.25 Q965.636 1527.25 963.808 1530.82 Q962.002 1534.36 962.002 1541.49 Q962.002 1548.59 963.808 1552.16 Q965.636 1555.7 969.248 1555.7 Q972.882 1555.7 974.687 1552.16 Q976.516 1548.59 976.516 1541.49 Q976.516 1534.36 974.687 1530.82 Q972.882 1527.25 969.248 1527.25 M969.248 1523.55 Q975.058 1523.55 978.113 1528.15 Q981.192 1532.74 981.192 1541.49 Q981.192 1550.21 978.113 1554.82 Q975.058 1559.4 969.248 1559.4 Q963.437 1559.4 960.359 1554.82 Q957.303 1550.21 957.303 1541.49 Q957.303 1532.74 960.359 1528.15 Q963.437 1523.55 969.248 1523.55 Z\" fill=\"#000000\" fill-rule=\"evenodd\" fill-opacity=\"1\" /><path clip-path=\"url(#clip340)\" d=\"M 0 0 M986.261 1552.85 L991.146 1552.85 L991.146 1558.73 L986.261 1558.73 L986.261 1552.85 Z\" fill=\"#000000\" fill-rule=\"evenodd\" fill-opacity=\"1\" /><path clip-path=\"url(#clip340)\" d=\"M 0 0 M997.025 1554.8 L1004.66 1554.8 L1004.66 1528.43 L996.354 1530.1 L996.354 1525.84 L1004.62 1524.17 L1009.29 1524.17 L1009.29 1554.8 L1016.93 1554.8 L1016.93 1558.73 L997.025 1558.73 L997.025 1554.8 Z\" fill=\"#000000\" fill-rule=\"evenodd\" fill-opacity=\"1\" /><path clip-path=\"url(#clip340)\" d=\"M 0 0 M1032 1527.25 Q1028.39 1527.25 1026.56 1530.82 Q1024.76 1534.36 1024.76 1541.49 Q1024.76 1548.59 1026.56 1552.16 Q1028.39 1555.7 1032 1555.7 Q1035.64 1555.7 1037.44 1552.16 Q1039.27 1548.59 1039.27 1541.49 Q1039.27 1534.36 1037.44 1530.82 Q1035.64 1527.25 1032 1527.25 M1032 1523.55 Q1037.81 1523.55 1040.87 1528.15 Q1043.95 1532.74 1043.95 1541.49 Q1043.95 1550.21 1040.87 1554.82 Q1037.81 1559.4 1032 1559.4 Q1026.19 1559.4 1023.11 1554.82 Q1020.06 1550.21 1020.06 1541.49 Q1020.06 1532.74 1023.11 1528.15 Q1026.19 1523.55 1032 1523.55 Z\" fill=\"#000000\" fill-rule=\"evenodd\" fill-opacity=\"1\" /><path clip-path=\"url(#clip340)\" d=\"M 0 0 M1386.85 1527.25 Q1383.24 1527.25 1381.41 1530.82 Q1379.6 1534.36 1379.6 1541.49 Q1379.6 1548.59 1381.41 1552.16 Q1383.24 1555.7 1386.85 1555.7 Q1390.48 1555.7 1392.29 1552.16 Q1394.12 1548.59 1394.12 1541.49 Q1394.12 1534.36 1392.29 1530.82 Q1390.48 1527.25 1386.85 1527.25 M1386.85 1523.55 Q1392.66 1523.55 1395.71 1528.15 Q1398.79 1532.74 1398.79 1541.49 Q1398.79 1550.21 1395.71 1554.82 Q1392.66 1559.4 1386.85 1559.4 Q1381.04 1559.4 1377.96 1554.82 Q1374.9 1550.21 1374.9 1541.49 Q1374.9 1532.74 1377.96 1528.15 Q1381.04 1523.55 1386.85 1523.55 Z\" fill=\"#000000\" fill-rule=\"evenodd\" fill-opacity=\"1\" /><path clip-path=\"url(#clip340)\" d=\"M 0 0 M1403.86 1552.85 L1408.75 1552.85 L1408.75 1558.73 L1403.86 1558.73 L1403.86 1552.85 Z\" fill=\"#000000\" fill-rule=\"evenodd\" fill-opacity=\"1\" /><path clip-path=\"url(#clip340)\" d=\"M 0 0 M1414.63 1554.8 L1422.26 1554.8 L1422.26 1528.43 L1413.95 1530.1 L1413.95 1525.84 L1422.22 1524.17 L1426.89 1524.17 L1426.89 1554.8 L1434.53 1554.8 L1434.53 1558.73 L1414.63 1558.73 L1414.63 1554.8 Z\" fill=\"#000000\" fill-rule=\"evenodd\" fill-opacity=\"1\" /><path clip-path=\"url(#clip340)\" d=\"M 0 0 M1439.65 1524.17 L1458 1524.17 L1458 1528.11 L1443.93 1528.11 L1443.93 1536.58 Q1444.95 1536.23 1445.97 1536.07 Q1446.99 1535.88 1448 1535.88 Q1453.79 1535.88 1457.17 1539.06 Q1460.55 1542.23 1460.55 1547.64 Q1460.55 1553.22 1457.08 1556.32 Q1453.61 1559.4 1447.29 1559.4 Q1445.11 1559.4 1442.84 1559.03 Q1440.6 1558.66 1438.19 1557.92 L1438.19 1553.22 Q1440.27 1554.36 1442.5 1554.91 Q1444.72 1555.47 1447.19 1555.47 Q1451.2 1555.47 1453.54 1553.36 Q1455.88 1551.26 1455.88 1547.64 Q1455.88 1544.03 1453.54 1541.93 Q1451.2 1539.82 1447.19 1539.82 Q1445.32 1539.82 1443.44 1540.24 Q1441.59 1540.65 1439.65 1541.53 L1439.65 1524.17 Z\" fill=\"#000000\" fill-rule=\"evenodd\" fill-opacity=\"1\" /><path clip-path=\"url(#clip340)\" d=\"M 0 0 M1803.64 1527.25 Q1800.03 1527.25 1798.2 1530.82 Q1796.39 1534.36 1796.39 1541.49 Q1796.39 1548.59 1798.2 1552.16 Q1800.03 1555.7 1803.64 1555.7 Q1807.27 1555.7 1809.08 1552.16 Q1810.91 1548.59 1810.91 1541.49 Q1810.91 1534.36 1809.08 1530.82 Q1807.27 1527.25 1803.64 1527.25 M1803.64 1523.55 Q1809.45 1523.55 1812.5 1528.15 Q1815.58 1532.74 1815.58 1541.49 Q1815.58 1550.21 1812.5 1554.82 Q1809.45 1559.4 1803.64 1559.4 Q1797.83 1559.4 1794.75 1554.82 Q1791.69 1550.21 1791.69 1541.49 Q1791.69 1532.74 1794.75 1528.15 Q1797.83 1523.55 1803.64 1523.55 Z\" fill=\"#000000\" fill-rule=\"evenodd\" fill-opacity=\"1\" /><path clip-path=\"url(#clip340)\" d=\"M 0 0 M1820.65 1552.85 L1825.54 1552.85 L1825.54 1558.73 L1820.65 1558.73 L1820.65 1552.85 Z\" fill=\"#000000\" fill-rule=\"evenodd\" fill-opacity=\"1\" /><path clip-path=\"url(#clip340)\" d=\"M 0 0 M1834.63 1554.8 L1850.95 1554.8 L1850.95 1558.73 L1829.01 1558.73 L1829.01 1554.8 Q1831.67 1552.04 1836.25 1547.41 Q1840.86 1542.76 1842.04 1541.42 Q1844.29 1538.89 1845.17 1537.16 Q1846.07 1535.4 1846.07 1533.71 Q1846.07 1530.95 1844.12 1529.22 Q1842.2 1527.48 1839.1 1527.48 Q1836.9 1527.48 1834.45 1528.25 Q1832.02 1529.01 1829.24 1530.56 L1829.24 1525.84 Q1832.06 1524.7 1834.52 1524.13 Q1836.97 1523.55 1839.01 1523.55 Q1844.38 1523.55 1847.57 1526.23 Q1850.77 1528.92 1850.77 1533.41 Q1850.77 1535.54 1849.96 1537.46 Q1849.17 1539.36 1847.06 1541.95 Q1846.48 1542.62 1843.38 1545.84 Q1840.28 1549.03 1834.63 1554.8 Z\" fill=\"#000000\" fill-rule=\"evenodd\" fill-opacity=\"1\" /><path clip-path=\"url(#clip340)\" d=\"M 0 0 M1866.02 1527.25 Q1862.41 1527.25 1860.58 1530.82 Q1858.78 1534.36 1858.78 1541.49 Q1858.78 1548.59 1860.58 1552.16 Q1862.41 1555.7 1866.02 1555.7 Q1869.66 1555.7 1871.46 1552.16 Q1873.29 1548.59 1873.29 1541.49 Q1873.29 1534.36 1871.46 1530.82 Q1869.66 1527.25 1866.02 1527.25 M1866.02 1523.55 Q1871.83 1523.55 1874.89 1528.15 Q1877.97 1532.74 1877.97 1541.49 Q1877.97 1550.21 1874.89 1554.82 Q1871.83 1559.4 1866.02 1559.4 Q1860.21 1559.4 1857.13 1554.82 Q1854.08 1550.21 1854.08 1541.49 Q1854.08 1532.74 1857.13 1528.15 Q1860.21 1523.55 1866.02 1523.55 Z\" fill=\"#000000\" fill-rule=\"evenodd\" fill-opacity=\"1\" /><path clip-path=\"url(#clip340)\" d=\"M 0 0 M2221.24 1527.25 Q2217.63 1527.25 2215.8 1530.82 Q2213.99 1534.36 2213.99 1541.49 Q2213.99 1548.59 2215.8 1552.16 Q2217.63 1555.7 2221.24 1555.7 Q2224.87 1555.7 2226.68 1552.16 Q2228.51 1548.59 2228.51 1541.49 Q2228.51 1534.36 2226.68 1530.82 Q2224.87 1527.25 2221.24 1527.25 M2221.24 1523.55 Q2227.05 1523.55 2230.1 1528.15 Q2233.18 1532.74 2233.18 1541.49 Q2233.18 1550.21 2230.1 1554.82 Q2227.05 1559.4 2221.24 1559.4 Q2215.43 1559.4 2212.35 1554.82 Q2209.29 1550.21 2209.29 1541.49 Q2209.29 1532.74 2212.35 1528.15 Q2215.43 1523.55 2221.24 1523.55 Z\" fill=\"#000000\" fill-rule=\"evenodd\" fill-opacity=\"1\" /><path clip-path=\"url(#clip340)\" d=\"M 0 0 M2238.25 1552.85 L2243.14 1552.85 L2243.14 1558.73 L2238.25 1558.73 L2238.25 1552.85 Z\" fill=\"#000000\" fill-rule=\"evenodd\" fill-opacity=\"1\" /><path clip-path=\"url(#clip340)\" d=\"M 0 0 M2252.23 1554.8 L2268.55 1554.8 L2268.55 1558.73 L2246.61 1558.73 L2246.61 1554.8 Q2249.27 1552.04 2253.85 1547.41 Q2258.46 1542.76 2259.64 1541.42 Q2261.89 1538.89 2262.77 1537.16 Q2263.67 1535.4 2263.67 1533.71 Q2263.67 1530.95 2261.72 1529.22 Q2259.8 1527.48 2256.7 1527.48 Q2254.5 1527.48 2252.05 1528.25 Q2249.62 1529.01 2246.84 1530.56 L2246.84 1525.84 Q2249.66 1524.7 2252.12 1524.13 Q2254.57 1523.55 2256.61 1523.55 Q2261.98 1523.55 2265.17 1526.23 Q2268.37 1528.92 2268.37 1533.41 Q2268.37 1535.54 2267.56 1537.46 Q2266.77 1539.36 2264.66 1541.95 Q2264.08 1542.62 2260.98 1545.84 Q2257.88 1549.03 2252.23 1554.8 Z\" fill=\"#000000\" fill-rule=\"evenodd\" fill-opacity=\"1\" /><path clip-path=\"url(#clip340)\" d=\"M 0 0 M2273.67 1524.17 L2292.02 1524.17 L2292.02 1528.11 L2277.95 1528.11 L2277.95 1536.58 Q2278.97 1536.23 2279.99 1536.07 Q2281.01 1535.88 2282.02 1535.88 Q2287.81 1535.88 2291.19 1539.06 Q2294.57 1542.23 2294.57 1547.64 Q2294.57 1553.22 2291.1 1556.32 Q2287.63 1559.4 2281.31 1559.4 Q2279.13 1559.4 2276.86 1559.03 Q2274.62 1558.66 2272.21 1557.92 L2272.21 1553.22 Q2274.29 1554.36 2276.52 1554.91 Q2278.74 1555.47 2281.21 1555.47 Q2285.22 1555.47 2287.56 1553.36 Q2289.89 1551.26 2289.89 1547.64 Q2289.89 1544.03 2287.56 1541.93 Q2285.22 1539.82 2281.21 1539.82 Q2279.34 1539.82 2277.46 1540.24 Q2275.61 1540.65 2273.67 1541.53 L2273.67 1524.17 Z\" fill=\"#000000\" fill-rule=\"evenodd\" fill-opacity=\"1\" /><path clip-path=\"url(#clip340)\" d=\"M 0 0 M66.7958 1450.24 Q63.1847 1450.24 61.356 1453.8 Q59.5504 1457.35 59.5504 1464.48 Q59.5504 1471.58 61.356 1475.15 Q63.1847 1478.69 66.7958 1478.69 Q70.43 1478.69 72.2356 1475.15 Q74.0643 1471.58 74.0643 1464.48 Q74.0643 1457.35 72.2356 1453.8 Q70.43 1450.24 66.7958 1450.24 M66.7958 1446.54 Q72.6059 1446.54 75.6615 1451.14 Q78.7402 1455.73 78.7402 1464.48 Q78.7402 1473.2 75.6615 1477.81 Q72.6059 1482.39 66.7958 1482.39 Q60.9856 1482.39 57.9069 1477.81 Q54.8514 1473.2 54.8514 1464.48 Q54.8514 1455.73 57.9069 1451.14 Q60.9856 1446.54 66.7958 1446.54 Z\" fill=\"#000000\" fill-rule=\"evenodd\" fill-opacity=\"1\" /><path clip-path=\"url(#clip340)\" d=\"M 0 0 M-78.9832 1144.08 L-62.6639 1144.08 L-62.6639 1148.01 L-84.6082 1148.01 L-84.6082 1144.08 Q-81.9462 1141.32 -77.3629 1136.69 Q-72.7564 1132.04 -71.5759 1130.7 Q-69.3305 1128.17 -68.4509 1126.44 Q-67.5481 1124.68 -67.5481 1122.99 Q-67.5481 1120.23 -69.4926 1118.5 Q-71.4138 1116.76 -74.5157 1116.76 Q-76.7147 1116.76 -79.1684 1117.53 Q-81.599 1118.29 -84.3767 1119.84 L-84.3767 1115.12 Q-81.5527 1113.98 -79.099 1113.4 Q-76.6453 1112.83 -74.6083 1112.83 Q-69.2379 1112.83 -66.0435 1115.51 Q-62.8491 1118.2 -62.8491 1122.69 Q-62.8491 1124.82 -63.6593 1126.74 Q-64.4463 1128.64 -66.5528 1131.23 Q-67.1315 1131.9 -70.2333 1135.12 Q-73.3351 1138.31 -78.9832 1144.08 Z\" fill=\"#000000\" fill-rule=\"evenodd\" fill-opacity=\"1\" /><path clip-path=\"url(#clip340)\" d=\"M 0 0 M-57.5945 1142.13 L-52.7102 1142.13 L-52.7102 1148.01 L-57.5945 1148.01 L-57.5945 1142.13 Z\" fill=\"#000000\" fill-rule=\"evenodd\" fill-opacity=\"1\" /><path clip-path=\"url(#clip340)\" d=\"M 0 0 M-47.5945 1113.45 L-29.2381 1113.45 L-29.2381 1117.39 L-43.3121 1117.39 L-43.3121 1125.86 Q-42.2936 1125.51 -41.2751 1125.35 Q-40.2566 1125.16 -39.2381 1125.16 Q-33.4511 1125.16 -30.0715 1128.34 Q-26.6919 1131.51 -26.6919 1136.92 Q-26.6919 1142.5 -30.1641 1145.6 Q-33.6363 1148.68 -39.9557 1148.68 Q-42.1316 1148.68 -44.4001 1148.31 Q-46.6455 1147.94 -49.0528 1147.2 L-49.0528 1142.5 Q-46.9695 1143.64 -44.7473 1144.19 Q-42.5251 1144.75 -40.0483 1144.75 Q-36.0437 1144.75 -33.7057 1142.64 Q-31.3678 1140.53 -31.3678 1136.92 Q-31.3678 1133.31 -33.7057 1131.21 Q-36.0437 1129.1 -40.0483 1129.1 Q-41.9233 1129.1 -43.7982 1129.52 Q-45.6501 1129.93 -47.5945 1130.81 L-47.5945 1113.45 Z\" fill=\"#000000\" fill-rule=\"evenodd\" fill-opacity=\"1\" /><path clip-path=\"url(#clip340)\" d=\"M 0 0 M6.5487 1122.55 L-4.02994 1133.17 L6.5487 1143.75 L3.79409 1146.55 L-6.83085 1135.93 L-17.4558 1146.55 L-20.1873 1143.75 L-9.63176 1133.17 L-20.1873 1122.55 L-17.4558 1119.75 L-6.83085 1130.37 L3.79409 1119.75 L6.5487 1122.55 Z\" fill=\"#000000\" fill-rule=\"evenodd\" fill-opacity=\"1\" /><path clip-path=\"url(#clip340)\" d=\"M 0 0 M12.4283 1144.08 L20.0672 1144.08 L20.0672 1117.71 L11.757 1119.38 L11.757 1115.12 L20.0209 1113.45 L24.6968 1113.45 L24.6968 1144.08 L32.3356 1144.08 L32.3356 1148.01 L12.4283 1148.01 L12.4283 1144.08 Z\" fill=\"#000000\" fill-rule=\"evenodd\" fill-opacity=\"1\" /><path clip-path=\"url(#clip340)\" d=\"M 0 0 M47.405 1116.53 Q43.7939 1116.53 41.9652 1120.09 Q40.1596 1123.64 40.1596 1130.77 Q40.1596 1137.87 41.9652 1141.44 Q43.7939 1144.98 47.405 1144.98 Q51.0392 1144.98 52.8448 1141.44 Q54.6734 1137.87 54.6734 1130.77 Q54.6734 1123.64 52.8448 1120.09 Q51.0392 1116.53 47.405 1116.53 M47.405 1112.83 Q53.2151 1112.83 56.2707 1117.43 Q59.3493 1122.02 59.3493 1130.77 Q59.3493 1139.49 56.2707 1144.1 Q53.2151 1148.68 47.405 1148.68 Q41.5948 1148.68 38.5161 1144.1 Q35.4606 1139.49 35.4606 1130.77 Q35.4606 1122.02 38.5161 1117.43 Q41.5948 1112.83 47.405 1112.83 Z\" fill=\"#000000\" fill-rule=\"evenodd\" fill-opacity=\"1\" /><path clip-path=\"url(#clip340)\" d=\"M 0 0 M69.3739 1105.05 Q66.816 1105.05 65.3114 1106.8 Q63.8256 1108.54 63.8256 1111.59 Q63.8256 1114.62 65.3114 1116.39 Q66.816 1118.14 69.3739 1118.14 Q71.9317 1118.14 73.4176 1116.39 Q74.9222 1114.62 74.9222 1111.59 Q74.9222 1108.54 73.4176 1106.8 Q71.9317 1105.05 69.3739 1105.05 M76.9158 1093.14 L76.9158 1096.6 Q75.4864 1095.92 74.0194 1095.57 Q72.5712 1095.21 71.1418 1095.21 Q67.3803 1095.21 65.3866 1097.75 Q63.4118 1100.29 63.1297 1105.42 Q64.2394 1103.79 65.9133 1102.92 Q67.5872 1102.04 69.5996 1102.04 Q73.8313 1102.04 76.2763 1104.61 Q78.7402 1107.17 78.7402 1111.59 Q78.7402 1115.92 76.1823 1118.53 Q73.6244 1121.15 69.3739 1121.15 Q64.5027 1121.15 61.926 1117.42 Q59.3493 1113.68 59.3493 1106.59 Q59.3493 1099.93 62.5091 1095.98 Q65.6688 1092.01 70.9914 1092.01 Q72.4207 1092.01 73.8689 1092.29 Q75.336 1092.58 76.9158 1093.14 Z\" fill=\"#000000\" fill-rule=\"evenodd\" fill-opacity=\"1\" /><path clip-path=\"url(#clip340)\" d=\"M 0 0 M-84.5619 773.294 L-66.2055 773.294 L-66.2055 777.229 L-80.2795 777.229 L-80.2795 785.701 Q-79.261 785.354 -78.2425 785.192 Q-77.224 785.006 -76.2055 785.006 Q-70.4185 785.006 -67.0389 788.178 Q-63.6593 791.349 -63.6593 796.766 Q-63.6593 802.344 -67.1315 805.446 Q-70.6037 808.525 -76.9231 808.525 Q-79.099 808.525 -81.3675 808.155 Q-83.6128 807.784 -86.0202 807.043 L-86.0202 802.344 Q-83.9369 803.479 -81.7147 804.034 Q-79.4925 804.59 -77.0157 804.59 Q-73.0111 804.59 -70.6731 802.483 Q-68.3352 800.377 -68.3352 796.766 Q-68.3352 793.155 -70.6731 791.048 Q-73.0111 788.942 -77.0157 788.942 Q-78.8907 788.942 -80.7656 789.358 Q-82.6175 789.775 -84.5619 790.655 L-84.5619 773.294 Z\" fill=\"#000000\" fill-rule=\"evenodd\" fill-opacity=\"1\" /><path clip-path=\"url(#clip340)\" d=\"M 0 0 M-58.5898 801.974 L-53.7056 801.974 L-53.7056 807.854 L-58.5898 807.854 L-58.5898 801.974 Z\" fill=\"#000000\" fill-rule=\"evenodd\" fill-opacity=\"1\" /><path clip-path=\"url(#clip340)\" d=\"M 0 0 M-38.6362 776.372 Q-42.2473 776.372 -44.076 779.937 Q-45.8816 783.479 -45.8816 790.608 Q-45.8816 797.715 -44.076 801.28 Q-42.2473 804.821 -38.6362 804.821 Q-35.002 804.821 -33.1965 801.28 Q-31.3678 797.715 -31.3678 790.608 Q-31.3678 783.479 -33.1965 779.937 Q-35.002 776.372 -38.6362 776.372 M-38.6362 772.669 Q-32.8261 772.669 -29.7705 777.275 Q-26.6919 781.858 -26.6919 790.608 Q-26.6919 799.335 -29.7705 803.942 Q-32.8261 808.525 -38.6362 808.525 Q-44.4464 808.525 -47.5251 803.942 Q-50.5806 799.335 -50.5806 790.608 Q-50.5806 781.858 -47.5251 777.275 Q-44.4464 772.669 -38.6362 772.669 Z\" fill=\"#000000\" fill-rule=\"evenodd\" fill-opacity=\"1\" /><path clip-path=\"url(#clip340)\" d=\"M 0 0 M6.5487 782.391 L-4.02994 793.016 L6.5487 803.594 L3.79409 806.395 L-6.83085 795.77 L-17.4558 806.395 L-20.1873 803.594 L-9.63176 793.016 L-20.1873 782.391 L-17.4558 779.59 L-6.83085 790.215 L3.79409 779.59 L6.5487 782.391 Z\" fill=\"#000000\" fill-rule=\"evenodd\" fill-opacity=\"1\" /><path clip-path=\"url(#clip340)\" d=\"M 0 0 M12.4283 803.918 L20.0672 803.918 L20.0672 777.553 L11.757 779.219 L11.757 774.96 L20.0209 773.294 L24.6968 773.294 L24.6968 803.918 L32.3356 803.918 L32.3356 807.854 L12.4283 807.854 L12.4283 803.918 Z\" fill=\"#000000\" fill-rule=\"evenodd\" fill-opacity=\"1\" /><path clip-path=\"url(#clip340)\" d=\"M 0 0 M47.405 776.372 Q43.7939 776.372 41.9652 779.937 Q40.1596 783.479 40.1596 790.608 Q40.1596 797.715 41.9652 801.28 Q43.7939 804.821 47.405 804.821 Q51.0392 804.821 52.8448 801.28 Q54.6734 797.715 54.6734 790.608 Q54.6734 783.479 52.8448 779.937 Q51.0392 776.372 47.405 776.372 M47.405 772.669 Q53.2151 772.669 56.2707 777.275 Q59.3493 781.858 59.3493 790.608 Q59.3493 799.335 56.2707 803.942 Q53.2151 808.525 47.405 808.525 Q41.5948 808.525 38.5161 803.942 Q35.4606 799.335 35.4606 790.608 Q35.4606 781.858 38.5161 777.275 Q41.5948 772.669 47.405 772.669 Z\" fill=\"#000000\" fill-rule=\"evenodd\" fill-opacity=\"1\" /><path clip-path=\"url(#clip340)\" d=\"M 0 0 M69.3739 764.889 Q66.816 764.889 65.3114 766.638 Q63.8256 768.387 63.8256 771.434 Q63.8256 774.462 65.3114 776.23 Q66.816 777.979 69.3739 777.979 Q71.9317 777.979 73.4176 776.23 Q74.9222 774.462 74.9222 771.434 Q74.9222 768.387 73.4176 766.638 Q71.9317 764.889 69.3739 764.889 M76.9158 752.984 L76.9158 756.444 Q75.4864 755.767 74.0194 755.41 Q72.5712 755.053 71.1418 755.053 Q67.3803 755.053 65.3866 757.592 Q63.4118 760.131 63.1297 765.265 Q64.2394 763.629 65.9133 762.764 Q67.5872 761.88 69.5996 761.88 Q73.8313 761.88 76.2763 764.457 Q78.7402 767.014 78.7402 771.434 Q78.7402 775.76 76.1823 778.374 Q73.6244 780.989 69.3739 780.989 Q64.5027 780.989 61.926 777.265 Q59.3493 773.522 59.3493 766.431 Q59.3493 759.773 62.5091 755.824 Q65.6688 751.855 70.9914 751.855 Q72.4207 751.855 73.8689 752.137 Q75.336 752.42 76.9158 752.984 Z\" fill=\"#000000\" fill-rule=\"evenodd\" fill-opacity=\"1\" /><path clip-path=\"url(#clip340)\" d=\"M 0 0 M-84.886 433.136 L-62.6639 433.136 L-62.6639 435.127 L-75.2101 467.696 L-80.0944 467.696 L-68.2889 437.071 L-84.886 437.071 L-84.886 433.136 Z\" fill=\"#000000\" fill-rule=\"evenodd\" fill-opacity=\"1\" /><path clip-path=\"url(#clip340)\" d=\"M 0 0 M-57.5945 461.817 L-52.7102 461.817 L-52.7102 467.696 L-57.5945 467.696 L-57.5945 461.817 Z\" fill=\"#000000\" fill-rule=\"evenodd\" fill-opacity=\"1\" /><path clip-path=\"url(#clip340)\" d=\"M 0 0 M-47.5945 433.136 L-29.2381 433.136 L-29.2381 437.071 L-43.3121 437.071 L-43.3121 445.543 Q-42.2936 445.196 -41.2751 445.034 Q-40.2566 444.849 -39.2381 444.849 Q-33.4511 444.849 -30.0715 448.02 Q-26.6919 451.192 -26.6919 456.608 Q-26.6919 462.187 -30.1641 465.289 Q-33.6363 468.367 -39.9557 468.367 Q-42.1316 468.367 -44.4001 467.997 Q-46.6455 467.627 -49.0528 466.886 L-49.0528 462.187 Q-46.9695 463.321 -44.7473 463.877 Q-42.5251 464.432 -40.0483 464.432 Q-36.0437 464.432 -33.7057 462.326 Q-31.3678 460.219 -31.3678 456.608 Q-31.3678 452.997 -33.7057 450.891 Q-36.0437 448.784 -40.0483 448.784 Q-41.9233 448.784 -43.7982 449.201 Q-45.6501 449.617 -47.5945 450.497 L-47.5945 433.136 Z\" fill=\"#000000\" fill-rule=\"evenodd\" fill-opacity=\"1\" /><path clip-path=\"url(#clip340)\" d=\"M 0 0 M6.5487 442.233 L-4.02994 452.858 L6.5487 463.437 L3.79409 466.238 L-6.83085 455.613 L-17.4558 466.238 L-20.1873 463.437 L-9.63176 452.858 L-20.1873 442.233 L-17.4558 439.432 L-6.83085 450.057 L3.79409 439.432 L6.5487 442.233 Z\" fill=\"#000000\" fill-rule=\"evenodd\" fill-opacity=\"1\" /><path clip-path=\"url(#clip340)\" d=\"M 0 0 M12.4283 463.761 L20.0672 463.761 L20.0672 437.395 L11.757 439.062 L11.757 434.803 L20.0209 433.136 L24.6968 433.136 L24.6968 463.761 L32.3356 463.761 L32.3356 467.696 L12.4283 467.696 L12.4283 463.761 Z\" fill=\"#000000\" fill-rule=\"evenodd\" fill-opacity=\"1\" /><path clip-path=\"url(#clip340)\" d=\"M 0 0 M47.405 436.215 Q43.7939 436.215 41.9652 439.78 Q40.1596 443.321 40.1596 450.451 Q40.1596 457.557 41.9652 461.122 Q43.7939 464.664 47.405 464.664 Q51.0392 464.664 52.8448 461.122 Q54.6734 457.557 54.6734 450.451 Q54.6734 443.321 52.8448 439.78 Q51.0392 436.215 47.405 436.215 M47.405 432.511 Q53.2151 432.511 56.2707 437.118 Q59.3493 441.701 59.3493 450.451 Q59.3493 459.178 56.2707 463.784 Q53.2151 468.367 47.405 468.367 Q41.5948 468.367 38.5161 463.784 Q35.4606 459.178 35.4606 450.451 Q35.4606 441.701 38.5161 437.118 Q41.5948 432.511 47.405 432.511 Z\" fill=\"#000000\" fill-rule=\"evenodd\" fill-opacity=\"1\" /><path clip-path=\"url(#clip340)\" d=\"M 0 0 M69.3739 424.732 Q66.816 424.732 65.3114 426.481 Q63.8256 428.23 63.8256 431.277 Q63.8256 434.305 65.3114 436.073 Q66.816 437.822 69.3739 437.822 Q71.9317 437.822 73.4176 436.073 Q74.9222 434.305 74.9222 431.277 Q74.9222 428.23 73.4176 426.481 Q71.9317 424.732 69.3739 424.732 M76.9158 412.826 L76.9158 416.287 Q75.4864 415.61 74.0194 415.253 Q72.5712 414.895 71.1418 414.895 Q67.3803 414.895 65.3866 417.434 Q63.4118 419.973 63.1297 425.108 Q64.2394 423.472 65.9133 422.606 Q67.5872 421.722 69.5996 421.722 Q73.8313 421.722 76.2763 424.299 Q78.7402 426.857 78.7402 431.277 Q78.7402 435.603 76.1823 438.217 Q73.6244 440.831 69.3739 440.831 Q64.5027 440.831 61.926 437.107 Q59.3493 433.364 59.3493 426.274 Q59.3493 419.616 62.5091 415.666 Q65.6688 411.698 70.9914 411.698 Q72.4207 411.698 73.8689 411.98 Q75.336 412.262 76.9158 412.826 Z\" fill=\"#000000\" fill-rule=\"evenodd\" fill-opacity=\"1\" /><path clip-path=\"url(#clip340)\" d=\"M 0 0 M-82.2312 123.603 L-74.5924 123.603 L-74.5924 97.2379 L-82.9025 98.9045 L-82.9025 94.6453 L-74.6387 92.9786 L-69.9627 92.9786 L-69.9627 123.603 L-62.3239 123.603 L-62.3239 127.539 L-82.2312 127.539 L-82.2312 123.603 Z\" fill=\"#000000\" fill-rule=\"evenodd\" fill-opacity=\"1\" /><path clip-path=\"url(#clip340)\" d=\"M 0 0 M-57.2545 121.659 L-52.3703 121.659 L-52.3703 127.539 L-57.2545 127.539 L-57.2545 121.659 Z\" fill=\"#000000\" fill-rule=\"evenodd\" fill-opacity=\"1\" /><path clip-path=\"url(#clip340)\" d=\"M 0 0 M-37.3009 96.0573 Q-40.912 96.0573 -42.7407 99.6221 Q-44.5462 103.164 -44.5462 110.293 Q-44.5462 117.4 -42.7407 120.965 Q-40.912 124.506 -37.3009 124.506 Q-33.6666 124.506 -31.8611 120.965 Q-30.0324 117.4 -30.0324 110.293 Q-30.0324 103.164 -31.8611 99.6221 Q-33.6666 96.0573 -37.3009 96.0573 M-37.3009 92.3536 Q-31.4907 92.3536 -28.4352 96.9601 Q-25.3565 101.543 -25.3565 110.293 Q-25.3565 119.02 -28.4352 123.627 Q-31.4907 128.21 -37.3009 128.21 Q-43.111 128.21 -46.1897 123.627 Q-49.2453 119.02 -49.2453 110.293 Q-49.2453 101.543 -46.1897 96.9601 Q-43.111 92.3536 -37.3009 92.3536 Z\" fill=\"#000000\" fill-rule=\"evenodd\" fill-opacity=\"1\" /><path clip-path=\"url(#clip340)\" d=\"M 0 0 M7.88406 102.076 L-2.69459 112.701 L7.88406 123.279 L5.12944 126.08 L-5.4955 115.455 L-16.1204 126.08 L-18.8519 123.279 L-8.29641 112.701 L-18.8519 102.076 L-16.1204 99.2749 L-5.4955 109.9 L5.12944 99.2749 L7.88406 102.076 Z\" fill=\"#000000\" fill-rule=\"evenodd\" fill-opacity=\"1\" /><path clip-path=\"url(#clip340)\" d=\"M 0 0 M13.7637 123.603 L21.4025 123.603 L21.4025 97.2379 L13.0924 98.9045 L13.0924 94.6453 L21.3562 92.9786 L26.0321 92.9786 L26.0321 123.603 L33.671 123.603 L33.671 127.539 L13.7637 127.539 L13.7637 123.603 Z\" fill=\"#000000\" fill-rule=\"evenodd\" fill-opacity=\"1\" /><path clip-path=\"url(#clip340)\" d=\"M 0 0 M48.7403 96.0573 Q45.1292 96.0573 43.3005 99.6221 Q41.495 103.164 41.495 110.293 Q41.495 117.4 43.3005 120.965 Q45.1292 124.506 48.7403 124.506 Q52.3746 124.506 54.1801 120.965 Q56.0088 117.4 56.0088 110.293 Q56.0088 103.164 54.1801 99.6221 Q52.3746 96.0573 48.7403 96.0573 M48.7403 92.3536 Q54.5505 92.3536 57.606 96.9601 Q60.6847 101.543 60.6847 110.293 Q60.6847 119.02 57.606 123.627 Q54.5505 128.21 48.7403 128.21 Q42.9302 128.21 39.8515 123.627 Q36.7959 119.02 36.7959 110.293 Q36.7959 101.543 39.8515 96.9601 Q42.9302 92.3536 48.7403 92.3536 Z\" fill=\"#000000\" fill-rule=\"evenodd\" fill-opacity=\"1\" /><path clip-path=\"url(#clip340)\" d=\"M 0 0 M60.6847 72.0482 L78.7402 72.0482 L78.7402 73.6657 L68.5463 100.128 L64.5779 100.128 L74.1699 75.2455 L60.6847 75.2455 L60.6847 72.0482 Z\" fill=\"#000000\" fill-rule=\"evenodd\" fill-opacity=\"1\" /><path clip-path=\"url(#clip340)\" d=\"M 0 0 M822.678 12.096 L873.841 12.096 L873.841 18.9825 L852.371 18.9825 L852.371 72.576 L844.148 72.576 L844.148 18.9825 L822.678 18.9825 L822.678 12.096 Z\" fill=\"#000000\" fill-rule=\"evenodd\" fill-opacity=\"1\" /><path clip-path=\"url(#clip340)\" d=\"M 0 0 M895.756 34.1734 Q894.5 33.4443 893.002 33.1202 Q891.543 32.7556 889.761 32.7556 Q883.441 32.7556 880.039 36.8875 Q876.676 40.9789 876.676 48.6757 L876.676 72.576 L869.182 72.576 L869.182 27.2059 L876.676 27.2059 L876.676 34.2544 Q879.026 30.1225 882.793 28.1376 Q886.561 26.1121 891.948 26.1121 Q892.718 26.1121 893.65 26.2337 Q894.581 26.3147 895.716 26.5172 L895.756 34.1734 Z\" fill=\"#000000\" fill-rule=\"evenodd\" fill-opacity=\"1\" /><path clip-path=\"url(#clip340)\" d=\"M 0 0 M924.194 49.7694 Q915.16 49.7694 911.676 51.8354 Q908.192 53.9013 908.192 58.8839 Q908.192 62.8538 910.785 65.2034 Q913.418 67.5124 917.915 67.5124 Q924.113 67.5124 927.839 63.1374 Q931.607 58.7219 931.607 51.4303 L931.607 49.7694 L924.194 49.7694 M939.06 46.6907 L939.06 72.576 L931.607 72.576 L931.607 65.6895 Q929.055 69.8214 925.247 71.8063 Q921.439 73.7508 915.93 73.7508 Q908.962 73.7508 904.83 69.8619 Q900.739 65.9325 900.739 59.3701 Q900.739 51.7138 905.843 47.825 Q910.988 43.9361 921.155 43.9361 L931.607 43.9361 L931.607 43.2069 Q931.607 38.0623 928.204 35.2672 Q924.842 32.4315 918.725 32.4315 Q914.836 32.4315 911.15 33.3632 Q907.463 34.295 904.061 36.1584 L904.061 29.2718 Q908.152 27.692 912 26.9223 Q915.849 26.1121 919.494 26.1121 Q929.338 26.1121 934.199 31.2163 Q939.06 36.3204 939.06 46.6907 Z\" fill=\"#000000\" fill-rule=\"evenodd\" fill-opacity=\"1\" /><path clip-path=\"url(#clip340)\" d=\"M 0 0 M979.529 28.9478 L979.529 35.9153 Q976.369 34.1734 973.169 33.3227 Q970.009 32.4315 966.769 32.4315 Q959.517 32.4315 955.507 37.0496 Q951.497 41.6271 951.497 49.9314 Q951.497 58.2358 955.507 62.8538 Q959.517 67.4314 966.769 67.4314 Q970.009 67.4314 973.169 66.5807 Q976.369 65.6895 979.529 63.9476 L979.529 70.8341 Q976.41 72.2924 973.047 73.0216 Q969.726 73.7508 965.958 73.7508 Q955.71 73.7508 949.674 67.3098 Q943.638 60.8689 943.638 49.9314 Q943.638 38.832 949.714 32.472 Q955.831 26.1121 966.444 26.1121 Q969.888 26.1121 973.169 26.8413 Q976.45 27.5299 979.529 28.9478 Z\" fill=\"#000000\" fill-rule=\"evenodd\" fill-opacity=\"1\" /><path clip-path=\"url(#clip340)\" d=\"M 0 0 M994.72 14.324 L994.72 27.2059 L1010.07 27.2059 L1010.07 32.9987 L994.72 32.9987 L994.72 57.6282 Q994.72 63.1779 996.219 64.7578 Q997.758 66.3376 1002.42 66.3376 L1010.07 66.3376 L1010.07 72.576 L1002.42 72.576 Q993.788 72.576 990.507 69.3758 Q987.226 66.1351 987.226 57.6282 L987.226 32.9987 L981.757 32.9987 L981.757 27.2059 L987.226 27.2059 L987.226 14.324 L994.72 14.324 Z\" fill=\"#000000\" fill-rule=\"evenodd\" fill-opacity=\"1\" /><path clip-path=\"url(#clip340)\" d=\"M 0 0 M1017.89 27.2059 L1025.34 27.2059 L1025.34 72.576 L1017.89 72.576 L1017.89 27.2059 M1017.89 9.54393 L1025.34 9.54393 L1025.34 18.9825 L1017.89 18.9825 L1017.89 9.54393 Z\" fill=\"#000000\" fill-rule=\"evenodd\" fill-opacity=\"1\" /><path clip-path=\"url(#clip340)\" d=\"M 0 0 M1050.74 32.4315 Q1044.75 32.4315 1041.26 37.1306 Q1037.78 41.7891 1037.78 49.9314 Q1037.78 58.0738 1041.22 62.7728 Q1044.71 67.4314 1050.74 67.4314 Q1056.7 67.4314 1060.18 62.7323 Q1063.67 58.0333 1063.67 49.9314 Q1063.67 41.8701 1060.18 37.1711 Q1056.7 32.4315 1050.74 32.4315 M1050.74 26.1121 Q1060.47 26.1121 1066.02 32.4315 Q1071.57 38.7509 1071.57 49.9314 Q1071.57 61.0714 1066.02 67.4314 Q1060.47 73.7508 1050.74 73.7508 Q1040.98 73.7508 1035.43 67.4314 Q1029.92 61.0714 1029.92 49.9314 Q1029.92 38.7509 1035.43 32.4315 Q1040.98 26.1121 1050.74 26.1121 Z\" fill=\"#000000\" fill-rule=\"evenodd\" fill-opacity=\"1\" /><path clip-path=\"url(#clip340)\" d=\"M 0 0 M1117.1 45.1919 L1117.1 72.576 L1109.64 72.576 L1109.64 45.4349 Q1109.64 38.994 1107.13 35.7938 Q1104.62 32.5936 1099.6 32.5936 Q1093.56 32.5936 1090.08 36.4419 Q1086.59 40.2903 1086.59 46.9338 L1086.59 72.576 L1079.1 72.576 L1079.1 27.2059 L1086.59 27.2059 L1086.59 34.2544 Q1089.27 30.163 1092.87 28.1376 Q1096.52 26.1121 1101.26 26.1121 Q1109.08 26.1121 1113.09 30.9732 Q1117.1 35.7938 1117.1 45.1919 Z\" fill=\"#000000\" fill-rule=\"evenodd\" fill-opacity=\"1\" /><path clip-path=\"url(#clip340)\" d=\"M 0 0 M1121.15 46.5287 L1142.98 46.5287 L1142.98 53.1722 L1121.15 53.1722 L1121.15 46.5287 Z\" fill=\"#000000\" fill-rule=\"evenodd\" fill-opacity=\"1\" /><path clip-path=\"url(#clip340)\" d=\"M 0 0 M1180.66 34.0924 L1180.66 9.54393 L1188.11 9.54393 L1188.11 72.576 L1180.66 72.576 L1180.66 65.7705 Q1178.31 69.8214 1174.7 71.8063 Q1171.14 73.7508 1166.11 73.7508 Q1157.89 73.7508 1152.71 67.1883 Q1147.56 60.6258 1147.56 49.9314 Q1147.56 39.2371 1152.71 32.6746 Q1157.89 26.1121 1166.11 26.1121 Q1171.14 26.1121 1174.7 28.0971 Q1178.31 30.0415 1180.66 34.0924 M1155.26 49.9314 Q1155.26 58.1548 1158.62 62.8538 Q1162.02 67.5124 1167.94 67.5124 Q1173.85 67.5124 1177.25 62.8538 Q1180.66 58.1548 1180.66 49.9314 Q1180.66 41.7081 1177.25 37.0496 Q1173.85 32.3505 1167.94 32.3505 Q1162.02 32.3505 1158.62 37.0496 Q1155.26 41.7081 1155.26 49.9314 Z\" fill=\"#000000\" fill-rule=\"evenodd\" fill-opacity=\"1\" /><path clip-path=\"url(#clip340)\" d=\"M 0 0 M1195.93 27.2059 L1203.38 27.2059 L1203.38 72.576 L1195.93 72.576 L1195.93 27.2059 M1195.93 9.54393 L1203.38 9.54393 L1203.38 18.9825 L1195.93 18.9825 L1195.93 9.54393 Z\" fill=\"#000000\" fill-rule=\"evenodd\" fill-opacity=\"1\" /><path clip-path=\"url(#clip340)\" d=\"M 0 0 M1240.12 28.5427 L1240.12 35.5912 Q1236.96 33.9709 1233.56 33.1607 Q1230.16 32.3505 1226.51 32.3505 Q1220.96 32.3505 1218.17 34.0519 Q1215.41 35.7533 1215.41 39.156 Q1215.41 41.7486 1217.4 43.2475 Q1219.38 44.7058 1225.38 46.0426 L1227.93 46.6097 Q1235.87 48.3111 1239.19 51.4303 Q1242.55 54.509 1242.55 60.0587 Q1242.55 66.3781 1237.53 70.0644 Q1232.55 73.7508 1223.8 73.7508 Q1220.15 73.7508 1216.18 73.0216 Q1212.25 72.3329 1207.88 70.9151 L1207.88 63.2184 Q1212.01 65.3654 1216.02 66.4591 Q1220.03 67.5124 1223.96 67.5124 Q1229.23 67.5124 1232.06 65.73 Q1234.9 63.9071 1234.9 60.6258 Q1234.9 57.5877 1232.83 55.9673 Q1230.81 54.3469 1223.88 52.8481 L1221.29 52.2405 Q1214.36 50.7821 1211.28 47.7845 Q1208.2 44.7463 1208.2 39.4801 Q1208.2 33.0797 1212.74 29.5959 Q1217.28 26.1121 1225.62 26.1121 Q1229.75 26.1121 1233.4 26.7198 Q1237.04 27.3274 1240.12 28.5427 Z\" fill=\"#000000\" fill-rule=\"evenodd\" fill-opacity=\"1\" /><path clip-path=\"url(#clip340)\" d=\"M 0 0 M1257.58 65.7705 L1257.58 89.8329 L1250.09 89.8329 L1250.09 27.2059 L1257.58 27.2059 L1257.58 34.0924 Q1259.93 30.0415 1263.5 28.0971 Q1267.1 26.1121 1272.09 26.1121 Q1280.35 26.1121 1285.49 32.6746 Q1290.68 39.2371 1290.68 49.9314 Q1290.68 60.6258 1285.49 67.1883 Q1280.35 73.7508 1272.09 73.7508 Q1267.1 73.7508 1263.5 71.8063 Q1259.93 69.8214 1257.58 65.7705 M1282.94 49.9314 Q1282.94 41.7081 1279.54 37.0496 Q1276.18 32.3505 1270.26 32.3505 Q1264.35 32.3505 1260.95 37.0496 Q1257.58 41.7081 1257.58 49.9314 Q1257.58 58.1548 1260.95 62.8538 Q1264.35 67.5124 1270.26 67.5124 Q1276.18 67.5124 1279.54 62.8538 Q1282.94 58.1548 1282.94 49.9314 Z\" fill=\"#000000\" fill-rule=\"evenodd\" fill-opacity=\"1\" /><path clip-path=\"url(#clip340)\" d=\"M 0 0 M1298.5 9.54393 L1305.95 9.54393 L1305.95 72.576 L1298.5 72.576 L1298.5 9.54393 Z\" fill=\"#000000\" fill-rule=\"evenodd\" fill-opacity=\"1\" /><path clip-path=\"url(#clip340)\" d=\"M 0 0 M1334.39 49.7694 Q1325.35 49.7694 1321.87 51.8354 Q1318.39 53.9013 1318.39 58.8839 Q1318.39 62.8538 1320.98 65.2034 Q1323.61 67.5124 1328.11 67.5124 Q1334.31 67.5124 1338.03 63.1374 Q1341.8 58.7219 1341.8 51.4303 L1341.8 49.7694 L1334.39 49.7694 M1349.25 46.6907 L1349.25 72.576 L1341.8 72.576 L1341.8 65.6895 Q1339.25 69.8214 1335.44 71.8063 Q1331.63 73.7508 1326.12 73.7508 Q1319.16 73.7508 1315.02 69.8619 Q1310.93 65.9325 1310.93 59.3701 Q1310.93 51.7138 1316.04 47.825 Q1321.18 43.9361 1331.35 43.9361 L1341.8 43.9361 L1341.8 43.2069 Q1341.8 38.0623 1338.4 35.2672 Q1335.04 32.4315 1328.92 32.4315 Q1325.03 32.4315 1321.34 33.3632 Q1317.66 34.295 1314.26 36.1584 L1314.26 29.2718 Q1318.35 27.692 1322.19 26.9223 Q1326.04 26.1121 1329.69 26.1121 Q1339.53 26.1121 1344.39 31.2163 Q1349.25 36.3204 1349.25 46.6907 Z\" fill=\"#000000\" fill-rule=\"evenodd\" fill-opacity=\"1\" /><path clip-path=\"url(#clip340)\" d=\"M 0 0 M1389.72 28.9478 L1389.72 35.9153 Q1386.56 34.1734 1383.36 33.3227 Q1380.2 32.4315 1376.96 32.4315 Q1369.71 32.4315 1365.7 37.0496 Q1361.69 41.6271 1361.69 49.9314 Q1361.69 58.2358 1365.7 62.8538 Q1369.71 67.4314 1376.96 67.4314 Q1380.2 67.4314 1383.36 66.5807 Q1386.56 65.6895 1389.72 63.9476 L1389.72 70.8341 Q1386.6 72.2924 1383.24 73.0216 Q1379.92 73.7508 1376.15 73.7508 Q1365.9 73.7508 1359.87 67.3098 Q1353.83 60.8689 1353.83 49.9314 Q1353.83 38.832 1359.91 32.472 Q1366.03 26.1121 1376.64 26.1121 Q1380.08 26.1121 1383.36 26.8413 Q1386.64 27.5299 1389.72 28.9478 Z\" fill=\"#000000\" fill-rule=\"evenodd\" fill-opacity=\"1\" /><path clip-path=\"url(#clip340)\" d=\"M 0 0 M1436.35 48.0275 L1436.35 51.6733 L1402.08 51.6733 Q1402.56 59.3701 1406.7 63.421 Q1410.87 67.4314 1418.28 67.4314 Q1422.58 67.4314 1426.59 66.3781 Q1430.64 65.3249 1434.61 63.2184 L1434.61 70.267 Q1430.6 71.9684 1426.38 72.8596 Q1422.17 73.7508 1417.84 73.7508 Q1406.98 73.7508 1400.62 67.4314 Q1394.3 61.1119 1394.3 50.3365 Q1394.3 39.1965 1400.3 32.6746 Q1406.33 26.1121 1416.54 26.1121 Q1425.7 26.1121 1431 32.0264 Q1436.35 37.9003 1436.35 48.0275 M1428.9 45.84 Q1428.81 39.7232 1425.45 36.0774 Q1422.13 32.4315 1416.62 32.4315 Q1410.38 32.4315 1406.62 35.9558 Q1402.89 39.4801 1402.32 45.8805 L1428.9 45.84 Z\" fill=\"#000000\" fill-rule=\"evenodd\" fill-opacity=\"1\" /><path clip-path=\"url(#clip340)\" d=\"M 0 0 M1479.49 35.9153 Q1482.29 30.8922 1486.18 28.5022 Q1490.06 26.1121 1495.33 26.1121 Q1502.42 26.1121 1506.27 31.0947 Q1510.12 36.0368 1510.12 45.1919 L1510.12 72.576 L1502.62 72.576 L1502.62 45.4349 Q1502.62 38.913 1500.31 35.7533 Q1498 32.5936 1493.26 32.5936 Q1487.47 32.5936 1484.11 36.4419 Q1480.75 40.2903 1480.75 46.9338 L1480.75 72.576 L1473.25 72.576 L1473.25 45.4349 Q1473.25 38.8725 1470.94 35.7533 Q1468.64 32.5936 1463.81 32.5936 Q1458.1 32.5936 1454.74 36.4824 Q1451.38 40.3308 1451.38 46.9338 L1451.38 72.576 L1443.88 72.576 L1443.88 27.2059 L1451.38 27.2059 L1451.38 34.2544 Q1453.93 30.082 1457.5 28.0971 Q1461.06 26.1121 1465.96 26.1121 Q1470.9 26.1121 1474.35 28.6237 Q1477.83 31.1352 1479.49 35.9153 Z\" fill=\"#000000\" fill-rule=\"evenodd\" fill-opacity=\"1\" /><path clip-path=\"url(#clip340)\" d=\"M 0 0 M1556.74 48.0275 L1556.74 51.6733 L1522.47 51.6733 Q1522.96 59.3701 1527.09 63.421 Q1531.26 67.4314 1538.68 67.4314 Q1542.97 67.4314 1546.98 66.3781 Q1551.03 65.3249 1555 63.2184 L1555 70.267 Q1550.99 71.9684 1546.78 72.8596 Q1542.56 73.7508 1538.23 73.7508 Q1527.37 73.7508 1521.01 67.4314 Q1514.69 61.1119 1514.69 50.3365 Q1514.69 39.1965 1520.69 32.6746 Q1526.73 26.1121 1536.93 26.1121 Q1546.09 26.1121 1551.4 32.0264 Q1556.74 37.9003 1556.74 48.0275 M1549.29 45.84 Q1549.21 39.7232 1545.85 36.0774 Q1542.52 32.4315 1537.01 32.4315 Q1530.78 32.4315 1527.01 35.9558 Q1523.28 39.4801 1522.71 45.8805 L1549.29 45.84 Z\" fill=\"#000000\" fill-rule=\"evenodd\" fill-opacity=\"1\" /><path clip-path=\"url(#clip340)\" d=\"M 0 0 M1602.27 45.1919 L1602.27 72.576 L1594.82 72.576 L1594.82 45.4349 Q1594.82 38.994 1592.31 35.7938 Q1589.8 32.5936 1584.77 32.5936 Q1578.74 32.5936 1575.25 36.4419 Q1571.77 40.2903 1571.77 46.9338 L1571.77 72.576 L1564.28 72.576 L1564.28 27.2059 L1571.77 27.2059 L1571.77 34.2544 Q1574.44 30.163 1578.05 28.1376 Q1581.7 26.1121 1586.44 26.1121 Q1594.25 26.1121 1598.26 30.9732 Q1602.27 35.7938 1602.27 45.1919 Z\" fill=\"#000000\" fill-rule=\"evenodd\" fill-opacity=\"1\" /><path clip-path=\"url(#clip340)\" d=\"M 0 0 M1617.47 14.324 L1617.47 27.2059 L1632.82 27.2059 L1632.82 32.9987 L1617.47 32.9987 L1617.47 57.6282 Q1617.47 63.1779 1618.96 64.7578 Q1620.5 66.3376 1625.16 66.3376 L1632.82 66.3376 L1632.82 72.576 L1625.16 72.576 Q1616.53 72.576 1613.25 69.3758 Q1609.97 66.1351 1609.97 57.6282 L1609.97 32.9987 L1604.5 32.9987 L1604.5 27.2059 L1609.97 27.2059 L1609.97 14.324 L1617.47 14.324 Z\" fill=\"#000000\" fill-rule=\"evenodd\" fill-opacity=\"1\" /><path clip-path=\"url(#clip340)\" d=\"M 0 0 M877.555 1590.6 L887.135 1590.6 L899.262 1622.94 L911.452 1590.6 L921.032 1590.6 L921.032 1638.12 L914.762 1638.12 L914.762 1596.4 L902.508 1628.99 L896.047 1628.99 L883.793 1596.4 L883.793 1638.12 L877.555 1638.12 L877.555 1590.6 Z\" fill=\"#000000\" fill-rule=\"evenodd\" fill-opacity=\"1\" /><path clip-path=\"url(#clip340)\" d=\"M 0 0 M943.376 1620.2 Q936.278 1620.2 933.541 1621.83 Q930.804 1623.45 930.804 1627.37 Q930.804 1630.48 932.841 1632.33 Q934.91 1634.15 938.443 1634.15 Q943.312 1634.15 946.241 1630.71 Q949.201 1627.24 949.201 1621.51 L949.201 1620.2 L943.376 1620.2 M955.057 1617.79 L955.057 1638.12 L949.201 1638.12 L949.201 1632.71 Q947.195 1635.96 944.204 1637.52 Q941.212 1639.05 936.883 1639.05 Q931.408 1639.05 928.162 1635.99 Q924.947 1632.9 924.947 1627.75 Q924.947 1621.73 928.958 1618.68 Q933 1615.62 940.989 1615.62 L949.201 1615.62 L949.201 1615.05 Q949.201 1611.01 946.527 1608.81 Q943.885 1606.58 939.079 1606.58 Q936.024 1606.58 933.127 1607.31 Q930.231 1608.05 927.557 1609.51 L927.557 1604.1 Q930.772 1602.86 933.796 1602.25 Q936.819 1601.62 939.684 1601.62 Q947.418 1601.62 951.238 1605.63 Q955.057 1609.64 955.057 1617.79 Z\" fill=\"#000000\" fill-rule=\"evenodd\" fill-opacity=\"1\" /><path clip-path=\"url(#clip340)\" d=\"M 0 0 M990.832 1602.48 L977.942 1619.82 L991.501 1638.12 L984.594 1638.12 L974.218 1624.12 L963.842 1638.12 L956.935 1638.12 L970.78 1619.47 L958.113 1602.48 L965.019 1602.48 L974.472 1615.18 L983.926 1602.48 L990.832 1602.48 Z\" fill=\"#000000\" fill-rule=\"evenodd\" fill-opacity=\"1\" /><path clip-path=\"url(#clip340)\" d=\"M 0 0 M997.644 1602.48 L1003.5 1602.48 L1003.5 1638.12 L997.644 1638.12 L997.644 1602.48 M997.644 1588.6 L1003.5 1588.6 L1003.5 1596.01 L997.644 1596.01 L997.644 1588.6 Z\" fill=\"#000000\" fill-rule=\"evenodd\" fill-opacity=\"1\" /><path clip-path=\"url(#clip340)\" d=\"M 0 0 M1037.4 1609.32 Q1039.59 1605.37 1042.65 1603.49 Q1045.7 1601.62 1049.84 1601.62 Q1055.41 1601.62 1058.44 1605.53 Q1061.46 1609.41 1061.46 1616.61 L1061.46 1638.12 L1055.57 1638.12 L1055.57 1616.8 Q1055.57 1611.67 1053.76 1609.19 Q1051.94 1606.71 1048.22 1606.71 Q1043.67 1606.71 1041.03 1609.73 Q1038.38 1612.76 1038.38 1617.98 L1038.38 1638.12 L1032.5 1638.12 L1032.5 1616.8 Q1032.5 1611.64 1030.68 1609.19 Q1028.87 1606.71 1025.08 1606.71 Q1020.59 1606.71 1017.95 1609.76 Q1015.31 1612.79 1015.31 1617.98 L1015.31 1638.12 L1009.42 1638.12 L1009.42 1602.48 L1015.31 1602.48 L1015.31 1608.01 Q1017.31 1604.74 1020.11 1603.18 Q1022.92 1601.62 1026.77 1601.62 Q1030.65 1601.62 1033.36 1603.59 Q1036.09 1605.56 1037.4 1609.32 Z\" fill=\"#000000\" fill-rule=\"evenodd\" fill-opacity=\"1\" /><path clip-path=\"url(#clip340)\" d=\"M 0 0 M1067 1624.06 L1067 1602.48 L1072.85 1602.48 L1072.85 1623.83 Q1072.85 1628.89 1074.83 1631.44 Q1076.8 1633.95 1080.75 1633.95 Q1085.49 1633.95 1088.23 1630.93 Q1091 1627.91 1091 1622.69 L1091 1602.48 L1096.85 1602.48 L1096.85 1638.12 L1091 1638.12 L1091 1632.65 Q1088.86 1635.9 1086.03 1637.49 Q1083.23 1639.05 1079.51 1639.05 Q1073.36 1639.05 1070.18 1635.23 Q1067 1631.41 1067 1624.06 M1081.73 1601.62 L1081.73 1601.62 Z\" fill=\"#000000\" fill-rule=\"evenodd\" fill-opacity=\"1\" /><path clip-path=\"url(#clip340)\" d=\"M 0 0 M1130.75 1609.32 Q1132.95 1605.37 1136 1603.49 Q1139.06 1601.62 1143.2 1601.62 Q1148.77 1601.62 1151.79 1605.53 Q1154.81 1609.41 1154.81 1616.61 L1154.81 1638.12 L1148.92 1638.12 L1148.92 1616.8 Q1148.92 1611.67 1147.11 1609.19 Q1145.3 1606.71 1141.57 1606.71 Q1137.02 1606.71 1134.38 1609.73 Q1131.74 1612.76 1131.74 1617.98 L1131.74 1638.12 L1125.85 1638.12 L1125.85 1616.8 Q1125.85 1611.64 1124.03 1609.19 Q1122.22 1606.71 1118.43 1606.71 Q1113.95 1606.71 1111.3 1609.76 Q1108.66 1612.79 1108.66 1617.98 L1108.66 1638.12 L1102.77 1638.12 L1102.77 1602.48 L1108.66 1602.48 L1108.66 1608.01 Q1110.67 1604.74 1113.47 1603.18 Q1116.27 1601.62 1120.12 1601.62 Q1124 1601.62 1126.71 1603.59 Q1129.45 1605.56 1130.75 1609.32 Z\" fill=\"#000000\" fill-rule=\"evenodd\" fill-opacity=\"1\" /><path clip-path=\"url(#clip340)\" d=\"M 0 0 M1205.13 1607.89 L1205.13 1588.6 L1210.99 1588.6 L1210.99 1638.12 L1205.13 1638.12 L1205.13 1632.78 Q1203.29 1635.96 1200.46 1637.52 Q1197.65 1639.05 1193.71 1639.05 Q1187.25 1639.05 1183.17 1633.89 Q1179.13 1628.73 1179.13 1620.33 Q1179.13 1611.93 1183.17 1606.77 Q1187.25 1601.62 1193.71 1601.62 Q1197.65 1601.62 1200.46 1603.18 Q1203.29 1604.7 1205.13 1607.89 M1185.18 1620.33 Q1185.18 1626.79 1187.82 1630.48 Q1190.49 1634.15 1195.14 1634.15 Q1199.79 1634.15 1202.46 1630.48 Q1205.13 1626.79 1205.13 1620.33 Q1205.13 1613.87 1202.46 1610.21 Q1199.79 1606.52 1195.14 1606.52 Q1190.49 1606.52 1187.82 1610.21 Q1185.18 1613.87 1185.18 1620.33 Z\" fill=\"#000000\" fill-rule=\"evenodd\" fill-opacity=\"1\" /><path clip-path=\"url(#clip340)\" d=\"M 0 0 M1247.62 1618.84 L1247.62 1621.7 L1220.7 1621.7 Q1221.08 1627.75 1224.33 1630.93 Q1227.6 1634.08 1233.43 1634.08 Q1236.8 1634.08 1239.95 1633.25 Q1243.14 1632.43 1246.26 1630.77 L1246.26 1636.31 Q1243.11 1637.65 1239.8 1638.35 Q1236.48 1639.05 1233.08 1639.05 Q1224.55 1639.05 1219.55 1634.08 Q1214.59 1629.12 1214.59 1620.65 Q1214.59 1611.9 1219.3 1606.77 Q1224.04 1601.62 1232.06 1601.62 Q1239.25 1601.62 1243.42 1606.26 Q1247.62 1610.88 1247.62 1618.84 M1241.77 1617.12 Q1241.7 1612.31 1239.06 1609.45 Q1236.45 1606.58 1232.12 1606.58 Q1227.22 1606.58 1224.26 1609.35 Q1221.33 1612.12 1220.89 1617.15 L1241.77 1617.12 Z\" fill=\"#000000\" fill-rule=\"evenodd\" fill-opacity=\"1\" /><path clip-path=\"url(#clip340)\" d=\"M 0 0 M1271.81 1588.6 L1271.81 1593.47 L1266.21 1593.47 Q1263.06 1593.47 1261.82 1594.74 Q1260.61 1596.01 1260.61 1599.32 L1260.61 1602.48 L1270.26 1602.48 L1270.26 1607.03 L1260.61 1607.03 L1260.61 1638.12 L1254.72 1638.12 L1254.72 1607.03 L1249.12 1607.03 L1249.12 1602.48 L1254.72 1602.48 L1254.72 1599.99 Q1254.72 1594.04 1257.49 1591.34 Q1260.26 1588.6 1266.28 1588.6 L1271.81 1588.6 Z\" fill=\"#000000\" fill-rule=\"evenodd\" fill-opacity=\"1\" /><path clip-path=\"url(#clip340)\" d=\"M 0 0 M1277.96 1588.6 L1283.81 1588.6 L1283.81 1638.12 L1277.96 1638.12 L1277.96 1588.6 Z\" fill=\"#000000\" fill-rule=\"evenodd\" fill-opacity=\"1\" /><path clip-path=\"url(#clip340)\" d=\"M 0 0 M1320.45 1618.84 L1320.45 1621.7 L1293.52 1621.7 Q1293.9 1627.75 1297.15 1630.93 Q1300.43 1634.08 1306.25 1634.08 Q1309.63 1634.08 1312.78 1633.25 Q1315.96 1632.43 1319.08 1630.77 L1319.08 1636.31 Q1315.93 1637.65 1312.62 1638.35 Q1309.31 1639.05 1305.9 1639.05 Q1297.37 1639.05 1292.38 1634.08 Q1287.41 1629.12 1287.41 1620.65 Q1287.41 1611.9 1292.12 1606.77 Q1296.86 1601.62 1304.88 1601.62 Q1312.08 1601.62 1316.25 1606.26 Q1320.45 1610.88 1320.45 1618.84 M1314.59 1617.12 Q1314.53 1612.31 1311.89 1609.45 Q1309.28 1606.58 1304.95 1606.58 Q1300.05 1606.58 1297.09 1609.35 Q1294.16 1612.12 1293.71 1617.15 L1314.59 1617.12 Z\" fill=\"#000000\" fill-rule=\"evenodd\" fill-opacity=\"1\" /><path clip-path=\"url(#clip340)\" d=\"M 0 0 M1352.25 1603.84 L1352.25 1609.32 Q1349.76 1607.95 1347.25 1607.28 Q1344.77 1606.58 1342.22 1606.58 Q1336.52 1606.58 1333.37 1610.21 Q1330.22 1613.81 1330.22 1620.33 Q1330.22 1626.86 1333.37 1630.48 Q1336.52 1634.08 1342.22 1634.08 Q1344.77 1634.08 1347.25 1633.41 Q1349.76 1632.71 1352.25 1631.34 L1352.25 1636.76 Q1349.79 1637.9 1347.15 1638.47 Q1344.54 1639.05 1341.58 1639.05 Q1333.53 1639.05 1328.79 1633.99 Q1324.05 1628.93 1324.05 1620.33 Q1324.05 1611.61 1328.82 1606.61 Q1333.63 1601.62 1341.96 1601.62 Q1344.67 1601.62 1347.25 1602.19 Q1349.83 1602.73 1352.25 1603.84 Z\" fill=\"#000000\" fill-rule=\"evenodd\" fill-opacity=\"1\" /><path clip-path=\"url(#clip340)\" d=\"M 0 0 M1364.18 1592.35 L1364.18 1602.48 L1376.24 1602.48 L1376.24 1607.03 L1364.18 1607.03 L1364.18 1626.38 Q1364.18 1630.74 1365.36 1631.98 Q1366.57 1633.22 1370.23 1633.22 L1376.24 1633.22 L1376.24 1638.12 L1370.23 1638.12 Q1363.45 1638.12 1360.87 1635.61 Q1358.29 1633.06 1358.29 1626.38 L1358.29 1607.03 L1354 1607.03 L1354 1602.48 L1358.29 1602.48 L1358.29 1592.35 L1364.18 1592.35 Z\" fill=\"#000000\" fill-rule=\"evenodd\" fill-opacity=\"1\" /><path clip-path=\"url(#clip340)\" d=\"M 0 0 M1382.39 1602.48 L1388.24 1602.48 L1388.24 1638.12 L1382.39 1638.12 L1382.39 1602.48 M1382.39 1588.6 L1388.24 1588.6 L1388.24 1596.01 L1382.39 1596.01 L1382.39 1588.6 Z\" fill=\"#000000\" fill-rule=\"evenodd\" fill-opacity=\"1\" /><path clip-path=\"url(#clip340)\" d=\"M 0 0 M1408.2 1606.58 Q1403.49 1606.58 1400.75 1610.27 Q1398.01 1613.93 1398.01 1620.33 Q1398.01 1626.73 1400.72 1630.42 Q1403.46 1634.08 1408.2 1634.08 Q1412.88 1634.08 1415.62 1630.39 Q1418.35 1626.7 1418.35 1620.33 Q1418.35 1614 1415.62 1610.31 Q1412.88 1606.58 1408.2 1606.58 M1408.2 1601.62 Q1415.84 1601.62 1420.2 1606.58 Q1424.56 1611.55 1424.56 1620.33 Q1424.56 1629.08 1420.2 1634.08 Q1415.84 1639.05 1408.2 1639.05 Q1400.53 1639.05 1396.17 1634.08 Q1391.84 1629.08 1391.84 1620.33 Q1391.84 1611.55 1396.17 1606.58 Q1400.53 1601.62 1408.2 1601.62 Z\" fill=\"#000000\" fill-rule=\"evenodd\" fill-opacity=\"1\" /><path clip-path=\"url(#clip340)\" d=\"M 0 0 M1460.34 1616.61 L1460.34 1638.12 L1454.48 1638.12 L1454.48 1616.8 Q1454.48 1611.74 1452.51 1609.22 Q1450.53 1606.71 1446.59 1606.71 Q1441.84 1606.71 1439.11 1609.73 Q1436.37 1612.76 1436.37 1617.98 L1436.37 1638.12 L1430.48 1638.12 L1430.48 1602.48 L1436.37 1602.48 L1436.37 1608.01 Q1438.47 1604.8 1441.3 1603.21 Q1444.17 1601.62 1447.89 1601.62 Q1454.03 1601.62 1457.18 1605.44 Q1460.34 1609.22 1460.34 1616.61 Z\" fill=\"#000000\" fill-rule=\"evenodd\" fill-opacity=\"1\" /><path clip-path=\"url(#clip340)\" d=\"M 0 0 M1486.66 1588.6 L1500.15 1588.6 L1500.15 1593.15 L1492.51 1593.15 L1492.51 1642.17 L1500.15 1642.17 L1500.15 1646.72 L1486.66 1646.72 L1486.66 1588.6 Z\" fill=\"#000000\" fill-rule=\"evenodd\" fill-opacity=\"1\" /><path clip-path=\"url(#clip340)\" d=\"M 0 0 M1534.05 1609.32 Q1536.25 1605.37 1539.3 1603.49 Q1542.36 1601.62 1546.49 1601.62 Q1552.06 1601.62 1555.09 1605.53 Q1558.11 1609.41 1558.11 1616.61 L1558.11 1638.12 L1552.22 1638.12 L1552.22 1616.8 Q1552.22 1611.67 1550.41 1609.19 Q1548.6 1606.71 1544.87 1606.71 Q1540.32 1606.71 1537.68 1609.73 Q1535.04 1612.76 1535.04 1617.98 L1535.04 1638.12 L1529.15 1638.12 L1529.15 1616.8 Q1529.15 1611.64 1527.33 1609.19 Q1525.52 1606.71 1521.73 1606.71 Q1517.24 1606.71 1514.6 1609.76 Q1511.96 1612.79 1511.96 1617.98 L1511.96 1638.12 L1506.07 1638.12 L1506.07 1602.48 L1511.96 1602.48 L1511.96 1608.01 Q1513.97 1604.74 1516.77 1603.18 Q1519.57 1601.62 1523.42 1601.62 Q1527.3 1601.62 1530.01 1603.59 Q1532.74 1605.56 1534.05 1609.32 Z\" fill=\"#000000\" fill-rule=\"evenodd\" fill-opacity=\"1\" /><path clip-path=\"url(#clip340)\" d=\"M 0 0 M1577.94 1588.6 L1577.94 1646.72 L1564.45 1646.72 L1564.45 1642.17 L1572.05 1642.17 L1572.05 1593.15 L1564.45 1593.15 L1564.45 1588.6 L1577.94 1588.6 Z\" fill=\"#000000\" fill-rule=\"evenodd\" fill-opacity=\"1\" /><path clip-path=\"url(#clip340)\" d=\"M 0 0 M-169.882 963.703 L-169.882 923.503 L-164.471 923.503 L-164.471 940.372 L-122.362 940.372 L-122.362 946.833 L-164.471 946.833 L-164.471 963.703 L-169.882 963.703 Z\" fill=\"#000000\" fill-rule=\"evenodd\" fill-opacity=\"1\" /><path clip-path=\"url(#clip340)\" d=\"M 0 0 M-152.536 906.284 Q-153.109 907.271 -153.363 908.448 Q-153.65 909.594 -153.65 910.995 Q-153.65 915.96 -150.403 918.633 Q-147.188 921.275 -141.141 921.275 L-122.362 921.275 L-122.362 927.163 L-158.01 927.163 L-158.01 921.275 L-152.472 921.275 Q-155.718 919.429 -157.278 916.469 Q-158.87 913.509 -158.87 909.276 Q-158.87 908.671 -158.774 907.939 Q-158.71 907.207 -158.551 906.316 L-152.536 906.284 Z\" fill=\"#000000\" fill-rule=\"evenodd\" fill-opacity=\"1\" /><path clip-path=\"url(#clip340)\" d=\"M 0 0 M-140.282 883.94 Q-140.282 891.038 -138.658 893.775 Q-137.035 896.513 -133.12 896.513 Q-130.001 896.513 -128.155 894.476 Q-126.341 892.407 -126.341 888.874 Q-126.341 884.004 -129.778 881.076 Q-133.248 878.116 -138.977 878.116 L-140.282 878.116 L-140.282 883.94 M-142.701 872.259 L-122.362 872.259 L-122.362 878.116 L-127.773 878.116 Q-124.527 880.121 -122.967 883.113 Q-121.439 886.105 -121.439 890.433 Q-121.439 895.908 -124.495 899.154 Q-127.582 902.369 -132.738 902.369 Q-138.754 902.369 -141.809 898.359 Q-144.865 894.316 -144.865 886.327 L-144.865 878.116 L-145.438 878.116 Q-149.48 878.116 -151.676 880.789 Q-153.904 883.431 -153.904 888.237 Q-153.904 891.293 -153.172 894.189 Q-152.44 897.085 -150.976 899.759 L-156.387 899.759 Q-157.628 896.544 -158.233 893.521 Q-158.87 890.497 -158.87 887.632 Q-158.87 879.898 -154.859 876.079 Q-150.849 872.259 -142.701 872.259 Z\" fill=\"#000000\" fill-rule=\"evenodd\" fill-opacity=\"1\" /><path clip-path=\"url(#clip340)\" d=\"M 0 0 M-156.642 840.462 L-151.167 840.462 Q-152.536 842.945 -153.204 845.46 Q-153.904 847.942 -153.904 850.488 Q-153.904 856.186 -150.276 859.337 Q-146.679 862.488 -140.154 862.488 Q-133.629 862.488 -130.001 859.337 Q-126.404 856.186 -126.404 850.488 Q-126.404 847.942 -127.073 845.46 Q-127.773 842.945 -129.142 840.462 L-123.731 840.462 Q-122.585 842.913 -122.012 845.555 Q-121.439 848.165 -121.439 851.125 Q-121.439 859.178 -126.5 863.92 Q-131.561 868.663 -140.154 868.663 Q-148.875 868.663 -153.872 863.888 Q-158.87 859.082 -158.87 850.743 Q-158.87 848.038 -158.297 845.46 Q-157.756 842.881 -156.642 840.462 Z\" fill=\"#000000\" fill-rule=\"evenodd\" fill-opacity=\"1\" /><path clip-path=\"url(#clip340)\" d=\"M 0 0 M-168.132 828.527 L-158.01 828.527 L-158.01 816.464 L-153.459 816.464 L-153.459 828.527 L-134.107 828.527 Q-129.746 828.527 -128.505 827.349 Q-127.264 826.14 -127.264 822.479 L-127.264 816.464 L-122.362 816.464 L-122.362 822.479 Q-122.362 829.259 -124.877 831.837 Q-127.423 834.415 -134.107 834.415 L-153.459 834.415 L-153.459 838.712 L-158.01 838.712 L-158.01 834.415 L-168.132 834.415 L-168.132 828.527 Z\" fill=\"#000000\" fill-rule=\"evenodd\" fill-opacity=\"1\" /><path clip-path=\"url(#clip340)\" d=\"M 0 0 M-158.01 810.321 L-158.01 804.464 L-122.362 804.464 L-122.362 810.321 L-158.01 810.321 M-171.887 810.321 L-171.887 804.464 L-164.471 804.464 L-164.471 810.321 L-171.887 810.321 Z\" fill=\"#000000\" fill-rule=\"evenodd\" fill-opacity=\"1\" /><path clip-path=\"url(#clip340)\" d=\"M 0 0 M-153.904 784.508 Q-153.904 789.219 -150.212 791.956 Q-146.552 794.693 -140.154 794.693 Q-133.757 794.693 -130.065 791.988 Q-126.404 789.25 -126.404 784.508 Q-126.404 779.829 -130.097 777.092 Q-133.789 774.355 -140.154 774.355 Q-146.488 774.355 -150.18 777.092 Q-153.904 779.829 -153.904 784.508 M-158.87 784.508 Q-158.87 776.869 -153.904 772.509 Q-148.939 768.148 -140.154 768.148 Q-131.401 768.148 -126.404 772.509 Q-121.439 776.869 -121.439 784.508 Q-121.439 792.179 -126.404 796.539 Q-131.401 800.868 -140.154 800.868 Q-148.939 800.868 -153.904 796.539 Q-158.87 792.179 -158.87 784.508 Z\" fill=\"#000000\" fill-rule=\"evenodd\" fill-opacity=\"1\" /><path clip-path=\"url(#clip340)\" d=\"M 0 0 M-143.878 732.373 L-122.362 732.373 L-122.362 738.229 L-143.687 738.229 Q-148.748 738.229 -151.263 740.203 Q-153.777 742.176 -153.777 746.123 Q-153.777 750.865 -150.753 753.602 Q-147.73 756.34 -142.51 756.34 L-122.362 756.34 L-122.362 762.228 L-158.01 762.228 L-158.01 756.34 L-152.472 756.34 Q-155.687 754.239 -157.278 751.406 Q-158.87 748.542 -158.87 744.818 Q-158.87 738.675 -155.05 735.524 Q-151.263 732.373 -143.878 732.373 Z\" fill=\"#000000\" fill-rule=\"evenodd\" fill-opacity=\"1\" /><path clip-path=\"url(#clip340)\" d=\"M 0 0 M-171.887 706.051 L-171.887 692.555 L-167.336 692.555 L-167.336 700.194 L-118.32 700.194 L-118.32 692.555 L-113.768 692.555 L-113.768 706.051 L-171.887 706.051 Z\" fill=\"#000000\" fill-rule=\"evenodd\" fill-opacity=\"1\" /><path clip-path=\"url(#clip340)\" d=\"M 0 0 M-164.599 679.728 L-146.743 679.728 L-146.743 671.644 Q-146.743 667.156 -149.066 664.705 Q-151.39 662.255 -155.687 662.255 Q-159.952 662.255 -162.275 664.705 Q-164.599 667.156 -164.599 671.644 L-164.599 679.728 M-169.882 686.158 L-169.882 671.644 Q-169.882 663.655 -166.254 659.581 Q-162.657 655.475 -155.687 655.475 Q-148.653 655.475 -145.056 659.581 Q-141.459 663.655 -141.459 671.644 L-141.459 679.728 L-122.362 679.728 L-122.362 686.158 L-169.882 686.158 Z\" fill=\"#000000\" fill-rule=\"evenodd\" fill-opacity=\"1\" /><path clip-path=\"url(#clip340)\" d=\"M 0 0 M-140.282 636.06 Q-140.282 643.157 -138.658 645.895 Q-137.035 648.632 -133.12 648.632 Q-130.001 648.632 -128.155 646.595 Q-126.341 644.526 -126.341 640.993 Q-126.341 636.123 -129.778 633.195 Q-133.248 630.235 -138.977 630.235 L-140.282 630.235 L-140.282 636.06 M-142.701 624.379 L-122.362 624.379 L-122.362 630.235 L-127.773 630.235 Q-124.527 632.24 -122.967 635.232 Q-121.439 638.224 -121.439 642.553 Q-121.439 648.027 -124.495 651.274 Q-127.582 654.488 -132.738 654.488 Q-138.754 654.488 -141.809 650.478 Q-144.865 646.436 -144.865 638.447 L-144.865 630.235 L-145.438 630.235 Q-149.48 630.235 -151.676 632.909 Q-153.904 635.55 -153.904 640.356 Q-153.904 643.412 -153.172 646.308 Q-152.44 649.205 -150.976 651.878 L-156.387 651.878 Q-157.628 648.664 -158.233 645.64 Q-158.87 642.616 -158.87 639.752 Q-158.87 632.017 -154.859 628.198 Q-150.849 624.379 -142.701 624.379 Z\" fill=\"#000000\" fill-rule=\"evenodd\" fill-opacity=\"1\" /><path clip-path=\"url(#clip340)\" d=\"M 0 0 M-171.887 604.549 L-113.768 604.549 L-113.768 618.045 L-118.32 618.045 L-118.32 610.438 L-167.336 610.438 L-167.336 618.045 L-171.887 618.045 L-171.887 604.549 Z\" fill=\"#000000\" fill-rule=\"evenodd\" fill-opacity=\"1\" /><polyline clip-path=\"url(#clip342)\" style=\"stroke:#009af9; stroke-width:8; stroke-opacity:1; fill:none\" points=\"\n",
       "  166.42,1464.44 735.099,784.126 802.317,708.535 882.789,632.945 974.468,557.354 1082.28,481.764 1223.57,406.173 1422.9,330.583 1674.04,254.992 1964.03,179.402 \n",
       "  2289.08,103.811 \n",
       "  \"/>\n",
       "<circle clip-path=\"url(#clip342)\" cx=\"166.42\" cy=\"1464.44\" r=\"14\" fill=\"#009af9\" fill-rule=\"evenodd\" fill-opacity=\"1\" stroke=\"#000000\" stroke-opacity=\"1\" stroke-width=\"3.2\"/>\n",
       "<circle clip-path=\"url(#clip342)\" cx=\"735.099\" cy=\"784.126\" r=\"14\" fill=\"#009af9\" fill-rule=\"evenodd\" fill-opacity=\"1\" stroke=\"#000000\" stroke-opacity=\"1\" stroke-width=\"3.2\"/>\n",
       "<circle clip-path=\"url(#clip342)\" cx=\"802.317\" cy=\"708.535\" r=\"14\" fill=\"#009af9\" fill-rule=\"evenodd\" fill-opacity=\"1\" stroke=\"#000000\" stroke-opacity=\"1\" stroke-width=\"3.2\"/>\n",
       "<circle clip-path=\"url(#clip342)\" cx=\"882.789\" cy=\"632.945\" r=\"14\" fill=\"#009af9\" fill-rule=\"evenodd\" fill-opacity=\"1\" stroke=\"#000000\" stroke-opacity=\"1\" stroke-width=\"3.2\"/>\n",
       "<circle clip-path=\"url(#clip342)\" cx=\"974.468\" cy=\"557.354\" r=\"14\" fill=\"#009af9\" fill-rule=\"evenodd\" fill-opacity=\"1\" stroke=\"#000000\" stroke-opacity=\"1\" stroke-width=\"3.2\"/>\n",
       "<circle clip-path=\"url(#clip342)\" cx=\"1082.28\" cy=\"481.764\" r=\"14\" fill=\"#009af9\" fill-rule=\"evenodd\" fill-opacity=\"1\" stroke=\"#000000\" stroke-opacity=\"1\" stroke-width=\"3.2\"/>\n",
       "<circle clip-path=\"url(#clip342)\" cx=\"1223.57\" cy=\"406.173\" r=\"14\" fill=\"#009af9\" fill-rule=\"evenodd\" fill-opacity=\"1\" stroke=\"#000000\" stroke-opacity=\"1\" stroke-width=\"3.2\"/>\n",
       "<circle clip-path=\"url(#clip342)\" cx=\"1422.9\" cy=\"330.583\" r=\"14\" fill=\"#009af9\" fill-rule=\"evenodd\" fill-opacity=\"1\" stroke=\"#000000\" stroke-opacity=\"1\" stroke-width=\"3.2\"/>\n",
       "<circle clip-path=\"url(#clip342)\" cx=\"1674.04\" cy=\"254.992\" r=\"14\" fill=\"#009af9\" fill-rule=\"evenodd\" fill-opacity=\"1\" stroke=\"#000000\" stroke-opacity=\"1\" stroke-width=\"3.2\"/>\n",
       "<circle clip-path=\"url(#clip342)\" cx=\"1964.03\" cy=\"179.402\" r=\"14\" fill=\"#009af9\" fill-rule=\"evenodd\" fill-opacity=\"1\" stroke=\"#000000\" stroke-opacity=\"1\" stroke-width=\"3.2\"/>\n",
       "<circle clip-path=\"url(#clip342)\" cx=\"2289.08\" cy=\"103.811\" r=\"14\" fill=\"#009af9\" fill-rule=\"evenodd\" fill-opacity=\"1\" stroke=\"#000000\" stroke-opacity=\"1\" stroke-width=\"3.2\"/>\n",
       "<path clip-path=\"url(#clip340)\" d=\"\n",
       "M1982.03 267.472 L2280.76 267.472 L2280.76 146.512 L1982.03 146.512  Z\n",
       "  \" fill=\"#ffffff\" fill-rule=\"evenodd\" fill-opacity=\"1\"/>\n",
       "<polyline clip-path=\"url(#clip340)\" style=\"stroke:#000000; stroke-width:4; stroke-opacity:1; fill:none\" points=\"\n",
       "  1982.03,267.472 2280.76,267.472 2280.76,146.512 1982.03,146.512 1982.03,267.472 \n",
       "  \"/>\n",
       "<polyline clip-path=\"url(#clip340)\" style=\"stroke:#009af9; stroke-width:4; stroke-opacity:1; fill:none\" points=\"\n",
       "  2006.03,206.992 2150.03,206.992 \n",
       "  \"/>\n",
       "<circle clip-path=\"url(#clip340)\" cx=\"2090.03\" cy=\"206.992\" r=\"23\" fill=\"#009af9\" fill-rule=\"evenodd\" fill-opacity=\"1\" stroke=\"#000000\" stroke-opacity=\"1\" stroke-width=\"5.12\"/>\n",
       "<path clip-path=\"url(#clip340)\" d=\"M 0 0 M2174.03 188.254 L2183.84 188.254 L2183.84 191.564 L2178.29 191.564 L2178.29 227.212 L2183.84 227.212 L2183.84 230.522 L2174.03 230.522 L2174.03 188.254 Z\" fill=\"#000000\" fill-rule=\"evenodd\" fill-opacity=\"1\" /><path clip-path=\"url(#clip340)\" d=\"M 0 0 M2192.34 189.712 L2192.34 202.559 L2188.4 202.559 L2188.4 189.712 L2192.34 189.712 M2201.09 189.712 L2201.09 202.559 L2197.15 202.559 L2197.15 189.712 L2201.09 189.712 Z\" fill=\"#000000\" fill-rule=\"evenodd\" fill-opacity=\"1\" /><path clip-path=\"url(#clip340)\" d=\"M 0 0 M2209.58 189.712 L2209.58 202.559 L2205.65 202.559 L2205.65 189.712 L2209.58 189.712 M2218.33 189.712 L2218.33 202.559 L2214.4 202.559 L2214.4 189.712 L2218.33 189.712 Z\" fill=\"#000000\" fill-rule=\"evenodd\" fill-opacity=\"1\" /><path clip-path=\"url(#clip340)\" d=\"M 0 0 M2232.76 188.254 L2232.76 230.522 L2222.94 230.522 L2222.94 227.212 L2228.47 227.212 L2228.47 191.564 L2222.94 191.564 L2222.94 188.254 L2232.76 188.254 Z\" fill=\"#000000\" fill-rule=\"evenodd\" fill-opacity=\"1\" /></svg>\n"
      ]
     },
     "metadata": {},
     "execution_count": 17
    }
   ],
   "cell_type": "code",
   "source": [
    "using Plots\n",
    "plot(\n",
    "    vcat(0.0, u_max),                # add the origin as a point\n",
    "    vcat(0.0, traction_magnitude),\n",
    "    linewidth=2,\n",
    "    title=\"Traction-displacement\",\n",
    "    label=[\"\"],\n",
    "    markershape=:auto\n",
    "    )\n",
    "ylabel!(\"Traction [Pa]\")\n",
    "xlabel!(\"Maximum deflection [m]\")"
   ],
   "metadata": {},
   "execution_count": 17
  },
  {
   "cell_type": "markdown",
   "source": [
    "*Figure 2.* Load-displacement-curve for the beam, showing a clear decrease\n",
    "in stiffness as more material starts to yield."
   ],
   "metadata": {}
  },
  {
   "cell_type": "markdown",
   "source": [
    "---\n",
    "\n",
    "*This notebook was generated using [Literate.jl](https://github.com/fredrikekre/Literate.jl).*"
   ],
   "metadata": {}
  }
 ],
 "nbformat_minor": 3,
 "metadata": {
  "language_info": {
   "file_extension": ".jl",
   "mimetype": "application/julia",
   "name": "julia",
   "version": "1.3.1"
  },
  "kernelspec": {
   "name": "julia-1.3",
   "display_name": "Julia 1.3.1",
   "language": "julia"
  }
 },
 "nbformat": 4
}
