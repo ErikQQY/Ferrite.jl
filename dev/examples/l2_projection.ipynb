{
 "cells": [
  {
   "outputs": [],
   "cell_type": "markdown",
   "source": [
    "# L2-projection\n",
    "\n",
    "![](heat_square_fluxes.png)"
   ],
   "metadata": {}
  },
  {
   "outputs": [],
   "cell_type": "markdown",
   "source": [
    "## Introduction\n",
    "This example continues from the Heat equation example, where the temperature field was determined on a square domain. In this example, we first compute the heat flux in each integration point (based on the solved temperature field) and then we do an L2-projection of the fluxes to the nodes of the mesh. By doing this, we can more easily visualize integration points quantities."
   ],
   "metadata": {}
  },
  {
   "outputs": [],
   "cell_type": "markdown",
   "source": [
    "## Implementation\n",
    "Start by simply running the Heat equation example"
   ],
   "metadata": {}
  },
  {
   "outputs": [],
   "cell_type": "code",
   "source": [
    "include(\"heat_equation.jl\");"
   ],
   "metadata": {},
   "execution_count": 1
  },
  {
   "outputs": [],
   "cell_type": "markdown",
   "source": [
    "Next we define a function that computes the heat flux for each integration point in the domain. Fourier's law is adopted, where the conductivity tensor is assumed to be isotropic with unit conductivity $\\lambda = 1 ⇒ q = - \\nabla T$."
   ],
   "metadata": {}
  },
  {
   "outputs": [
    {
     "output_type": "execute_result",
     "data": {
      "text/plain": "compute_heat_fluxes (generic function with 1 method)"
     },
     "metadata": {},
     "execution_count": 2
    }
   ],
   "cell_type": "code",
   "source": [
    "function compute_heat_fluxes(cellvalues::CellScalarValues{dim,T}, dh::DofHandler, a) where {dim,T}\n",
    "\n",
    "    n = getnbasefunctions(cellvalues)\n",
    "    cell_dofs = zeros(Int, n)\n",
    "    nqp = getnquadpoints(cellvalues)\n",
    "\n",
    "    # Allocate storage for the fluxes to store\n",
    "    q = [Vec{2,T}[] for _ in 1:getncells(dh.grid)]\n",
    "\n",
    "    @inbounds for (cell_num, cell) in enumerate(CellIterator(dh))\n",
    "        q_cell = q[cell_num]\n",
    "        celldofs!(cell_dofs, dh, cell_num)\n",
    "        aᵉ = a[cell_dofs]\n",
    "        reinit!(cellvalues, cell)\n",
    "\n",
    "        for q_point in 1:nqp\n",
    "            q_qp = -function_gradient(cellvalues, q_point, aᵉ)\n",
    "            push!(q_cell, q_qp)\n",
    "        end\n",
    "    end\n",
    "    return q\n",
    "end"
   ],
   "metadata": {},
   "execution_count": 2
  },
  {
   "outputs": [],
   "cell_type": "markdown",
   "source": [
    "Now call the function to get all the fluxes."
   ],
   "metadata": {}
  },
  {
   "outputs": [],
   "cell_type": "code",
   "source": [
    "q = compute_heat_fluxes(cellvalues, dh, u);"
   ],
   "metadata": {},
   "execution_count": 3
  },
  {
   "outputs": [],
   "cell_type": "markdown",
   "source": [
    "Next, create an L2-projector using the same interpolation as was used to approximate the temperature field. On instantiation, the projector assembles the coefficient matrix `M` and computes the Cholesky factorization of it. By doing so, the projector can be reused without having to invert `M` every time."
   ],
   "metadata": {}
  },
  {
   "outputs": [],
   "cell_type": "code",
   "source": [
    "projector = L2Projector(cellvalues, ip, grid);"
   ],
   "metadata": {},
   "execution_count": 4
  },
  {
   "outputs": [],
   "cell_type": "markdown",
   "source": [
    "Project the integration point values to the nodal values"
   ],
   "metadata": {}
  },
  {
   "outputs": [],
   "cell_type": "code",
   "source": [
    "q_nodes = project(q, projector);"
   ],
   "metadata": {},
   "execution_count": 5
  },
  {
   "outputs": [],
   "cell_type": "markdown",
   "source": [
    "## Exporting to VTK\n",
    "To visualize the heat flux, we export the projected field `q`\n",
    "to a VTK-file, which can be viewed in e.g. [ParaView](https://www.paraview.org/)."
   ],
   "metadata": {}
  },
  {
   "outputs": [],
   "cell_type": "code",
   "source": [
    "vtk_grid(\"heat_equation_flux\", grid) do vtk\n",
    "    vtk_point_data(vtk, q_nodes, \"q\")\n",
    "end;"
   ],
   "metadata": {},
   "execution_count": 6
  },
  {
   "outputs": [],
   "cell_type": "markdown",
   "source": [
    "---\n",
    "\n",
    "*This notebook was generated using [Literate.jl](https://github.com/fredrikekre/Literate.jl).*"
   ],
   "metadata": {}
  }
 ],
 "nbformat_minor": 3,
 "metadata": {
  "language_info": {
   "file_extension": ".jl",
   "mimetype": "application/julia",
   "name": "julia",
   "version": "1.3.1"
  },
  "kernelspec": {
   "name": "julia-1.3",
   "display_name": "Julia 1.3.1",
   "language": "julia"
  }
 },
 "nbformat": 4
}
